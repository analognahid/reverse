{
 "cells": [
  {
   "cell_type": "code",
   "execution_count": 16,
   "id": "cdfa317e",
   "metadata": {},
   "outputs": [
    {
     "name": "stdout",
     "output_type": "stream",
     "text": [
      "0\n",
      "\t 0\n",
      "\t 1\n",
      "\t 2\n",
      "\t 3\n",
      "\t 4\n",
      "\t 5\n",
      "\t 6\n",
      "\t 7\n",
      "\t 8\n",
      "\t 9\n",
      "1\n",
      "\t 1\n",
      "\t 2\n",
      "\t 3\n",
      "\t 4\n",
      "\t 5\n",
      "\t 6\n",
      "\t 7\n",
      "\t 8\n",
      "\t 9\n",
      "2\n",
      "\t 2\n",
      "\t 3\n",
      "\t 4\n",
      "\t 5\n",
      "\t 6\n",
      "\t 7\n",
      "\t 8\n",
      "\t 9\n",
      "3\n",
      "\t 3\n",
      "\t 4\n",
      "\t 5\n",
      "\t 6\n",
      "\t 7\n",
      "\t 8\n",
      "\t 9\n",
      "4\n",
      "\t 4\n",
      "\t 5\n",
      "\t 6\n",
      "\t 7\n",
      "\t 8\n",
      "\t 9\n",
      "5\n",
      "\t 5\n",
      "\t 6\n",
      "\t 7\n",
      "\t 8\n",
      "\t 9\n",
      "6\n",
      "\t 6\n",
      "\t 7\n",
      "\t 8\n",
      "\t 9\n",
      "7\n",
      "\t 7\n",
      "\t 8\n",
      "\t 9\n",
      "8\n",
      "\t 8\n",
      "\t 9\n",
      "9\n",
      "\t 9\n",
      "14\n"
     ]
    }
   ],
   "source": [
    "arr =  [ -1, 2, -3, 4, -5, 6, 7, -8, 9, -10]\n",
    " \n",
    "_sum = 0  \n",
    "_max = 0  \n",
    "for i in range(len(arr)):  \n",
    "    _sum = 0  \n",
    "    print(i)\n",
    "    for j in range(i,len(arr)): \n",
    "        print(\"\\t\",j)\n",
    "        _sum = _sum + arr[j]  \n",
    "        if _sum > _max:   \n",
    "            _max = _sum  \n",
    "#             print(_max)\n",
    "print(_max)  \n"
   ]
  },
  {
   "cell_type": "code",
   "execution_count": 21,
   "id": "c0cccca9",
   "metadata": {},
   "outputs": [
    {
     "name": "stdout",
     "output_type": "stream",
     "text": [
      "55\n"
     ]
    }
   ],
   "source": [
    "a = [1, 2, 3, 4, 5, 6, 7, 8, 9, 10]\n",
    "t= 0\n",
    "for i in a:\n",
    "    t=t+i\n",
    "print(t)"
   ]
  },
  {
   "cell_type": "code",
   "execution_count": null,
   "id": "78cce071",
   "metadata": {},
   "outputs": [],
   "source": [
    "7Tሺn/8ሻ ൅ cn; Tሺ1ሻ ൌ c."
   ]
  }
 ],
 "metadata": {
  "kernelspec": {
   "display_name": "Python 3 (ipykernel)",
   "language": "python",
   "name": "python3"
  },
  "language_info": {
   "codemirror_mode": {
    "name": "ipython",
    "version": 3
   },
   "file_extension": ".py",
   "mimetype": "text/x-python",
   "name": "python",
   "nbconvert_exporter": "python",
   "pygments_lexer": "ipython3",
   "version": "3.9.13"
  }
 },
 "nbformat": 4,
 "nbformat_minor": 5
}
