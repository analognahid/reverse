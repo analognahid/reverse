{
 "cells": [
  {
   "cell_type": "code",
   "execution_count": 1,
   "id": "c7eb126a",
   "metadata": {},
   "outputs": [
    {
     "name": "stdout",
     "output_type": "stream",
     "text": [
      "Warning: When  cdn_resources is 'local' jupyter notebook has issues displaying graphics on chrome/safari. Use cdn_resources='in_line' or cdn_resources='remote' if you have issues viewing graphics in a notebook.\n",
      "Warning: When  cdn_resources is 'local' jupyter notebook has issues displaying graphics on chrome/safari. Use cdn_resources='in_line' or cdn_resources='remote' if you have issues viewing graphics in a notebook.\n"
     ]
    },
    {
     "name": "stderr",
     "output_type": "stream",
     "text": [
      "/home/nahid/anaconda3/envs/pytorch/lib/python3.8/site-packages/tqdm/auto.py:21: TqdmWarning: IProgress not found. Please update jupyter and ipywidgets. See https://ipywidgets.readthedocs.io/en/stable/user_install.html\n",
      "  from .autonotebook import tqdm as notebook_tqdm\n"
     ]
    }
   ],
   "source": [
    "#TODO add STRUCT variables from dwarf info\n",
    "#TODO MIN_ADDRESS, MAX_ADDRESS concept is not going to work always.(for data sections) \n",
    "\n",
    "from elftools.elf.elffile import ELFFile\n",
    "from elftools.dwarf.descriptions import (\n",
    "    describe_DWARF_expr, set_global_machine_arch)\n",
    "from elftools.dwarf.locationlists import (\n",
    "    LocationEntry, LocationExpr, LocationParser)\n",
    "import posixpath\n",
    "import sys,os,pickle\n",
    "from elftools.elf.segments import Segment\n",
    "from elftools.dwarf.locationlists import LocationParser, LocationExpr\n",
    "\n",
    "from collections import defaultdict\n",
    "\n",
    "import collections\n",
    "import posixpath\n",
    "\n",
    "import networkx as nx\n",
    "from pyvis.network import Network\n",
    "net = Network(notebook=True)\n",
    "import matplotlib\n",
    "import matplotlib.pyplot\n",
    "from difflib import SequenceMatcher\n",
    "\n",
    "import ntpath\n",
    "from capstone import *\n",
    "from capstone.x86 import *\n",
    "import collections\n",
    "\n",
    "import clang.cindex\n",
    "from clang.cindex import CursorKind\n",
    "import traceback, sys, magic, hashlib\n",
    "\n",
    "\n",
    "sys.path.insert(0,'./align_utils')\n",
    "from process_typedata_for_model import *\n",
    "from dwarf_utils import *\n",
    "from find_types import *\n",
    "from clang_persers import *\n",
    "\n",
    "from elf_utils import *\n",
    "from dependency_utils import *\n",
    "from illustrate_utils import *\n",
    "# from var_and_instruction_realtions_utls import *\n",
    "from poof import *\n",
    "\n",
    "ANALYSIS_DATA_PATH = '/home/nahid/dataset/analysis_pkl_files/files/'\n",
    "SRC_N_BIN_PATH = '/home/nahid/dataset/clones/'\n",
    "ILLUSTRATION_LOG_PATH = \"/home/nahid/dataset/illustration2/\"\n",
    "TYPE_DATA_SAVE_PATH = '/home/nahid/dataset/instructions_and_type_data/'\n",
    "\n"
   ]
  },
  {
   "cell_type": "code",
   "execution_count": 2,
   "id": "7391b19f",
   "metadata": {},
   "outputs": [
    {
     "name": "stdout",
     "output_type": "stream",
     "text": [
      "57034\n"
     ]
    }
   ],
   "source": [
    "# ELF_FILE_PATHS = find_elf_files(SRC_N_BIN_PATH)\n",
    "\n",
    "# with open('ELF_FILE_PATHS.pkl', 'wb') as file:\n",
    "#     pickle.dump(ELF_FILE_PATHS, file)\n",
    "\n",
    "# Open the file in binary mode\n",
    "with open('ELF_FILE_PATHS.pkl', 'rb') as file:\n",
    "    # Call load method to deserialze\n",
    "    ELF_FILE_PATHS = pickle.load(file)\n",
    "    \n",
    "print(len(ELF_FILE_PATHS))"
   ]
  },
  {
   "cell_type": "code",
   "execution_count": 3,
   "id": "e7c8fcc0",
   "metadata": {
    "scrolled": false
   },
   "outputs": [
    {
     "name": "stdout",
     "output_type": "stream",
     "text": [
      " *_*  *_*  *_*  *_*  *_*  *_*  *_*  *_*  *_*  *_* \n",
      "Processing file: /home/nahid/dataset/clones/Princexz_____alx-low_level_programming/0x0E-structures_typedef/3-main_elf_file_\n",
      "Low PC:  0x1149  High PC 0x68\n",
      "DBG: line11  col2 var:name {'type': '*char', 'location': 0, 'offset': -48}  0  -48\n",
      "DBG: line12  col2 var:age {'type': 'float', 'location': 8, 'offset': -40}  8  -40\n",
      "DBG: line13  col2 var:owner {'type': '*char', 'location': 16, 'offset': -32}  16  -32\n",
      "DBG: line14  col54 var:name {'type': '*char', 'location': 0, 'offset': -48}  0  -48\n",
      "DBG: line14  col67 var:age {'type': 'float', 'location': 8, 'offset': -40}  8  -40\n",
      "{'/home/nahid/dataset/clones/Princexz_____alx-low_level_programming/0x0E-structures_typedef/3-main.c': {9: {2: {'name': 'my_dog', 'dwarf_info': {'type': 'structure', 'kind': 'variable', 'location': '(DW_OP_fbreg: -48)'}, 'type': 'dog_t'}}, 11: {2: {'name': 'name', 'dwarf_info': {'type': '*char', 'location': 0, 'offset': -48}, 'type': 'char *'}}, 12: {2: {'name': 'age', 'dwarf_info': {'type': 'float', 'location': 8, 'offset': -40}, 'type': 'float'}}, 13: {2: {'name': 'owner', 'dwarf_info': {'type': '*char', 'location': 16, 'offset': -32}, 'type': 'char *'}}, 14: {54: {'name': 'name', 'dwarf_info': {'type': '*char', 'location': 0, 'offset': -48}, 'type': 'char *'}, 67: {'name': 'age', 'dwarf_info': {'type': 'float', 'location': 8, 'offset': -40}, 'type': 'float'}}}}\n",
      "\n",
      "\n",
      " {'/home/nahid/dataset/clones/Princexz_____alx-low_level_programming/0x0E-structures_typedef/3-main.c': {'main': {'8_1': [4425, 4429, 4430, 4433], '11_14': [4437, 4444], '12_13': [4448, 4456], '13_15': [4461, 4468], '14_73': [4472], '14_2': [4477, 4481, 4485, 4490, 4494, 4499, 4502, 4509, 4512, 4517], '15_9': [4522], '16_1': [4527, 4528]}}}\n",
      "x  x   x  x   x  x   x  x   x  x   x  x   x  x   x  x   x  x   x  x   x  x   x  x   x  x   x  x   x  x   x  x   x  x   x  x   x  x   x  x   \n",
      "line:11  var:s{'name': -48}  ins:{'0x1155': 3756, '0x115c': -32}\n",
      "line:12  var:s{'age': -40}  ins:{'0x1160': 3804, '0x1168': -24}\n",
      "line:13  var:s{'owner': -32}  ins:{'0x116d': 3738, '0x1174': -16}\n",
      "line:14  var:s{'age': -40, 'name': -48}  ins:{'0x1178': -24}\n",
      "line:14  var:s{'age': -40, 'name': -48}  ins:{'0x1196': 3707, '0x118a': -32}\n",
      "DBG:  calculated offset:  None\n",
      " *_*  *_*  *_*  *_*  *_*  *_*  *_*  *_*  *_*  *_* \n",
      "Processing file: /home/nahid/dataset/clones/Princexz_____alx-low_level_programming/0x0E-structures_typedef/0-main_elf_file_\n",
      "Low PC:  0x1149  High PC 0x68\n",
      "DBG: line11  col2 var:name {'type': '*char', 'location': 0, 'offset': -48}  0  -48\n",
      "DBG: line12  col2 var:age {'type': 'float', 'location': 8, 'offset': -40}  8  -40\n",
      "DBG: line13  col2 var:owner {'type': '*char', 'location': 16, 'offset': -32}  16  -32\n",
      "DBG: line14  col54 var:name {'type': '*char', 'location': 0, 'offset': -48}  0  -48\n",
      "DBG: line14  col67 var:age {'type': 'float', 'location': 8, 'offset': -40}  8  -40\n",
      "{'/home/nahid/dataset/clones/Princexz_____alx-low_level_programming/0x0E-structures_typedef/0-main.c': {9: {2: {'name': 'my_dog', 'dwarf_info': {'type': 'structure', 'kind': 'variable', 'location': '(DW_OP_fbreg: -48)'}, 'type': 'struct dog'}}, 11: {2: {'name': 'name', 'dwarf_info': {'type': '*char', 'location': 0, 'offset': -48}, 'type': 'char *'}}, 12: {2: {'name': 'age', 'dwarf_info': {'type': 'float', 'location': 8, 'offset': -40}, 'type': 'float'}}, 13: {2: {'name': 'owner', 'dwarf_info': {'type': '*char', 'location': 16, 'offset': -32}, 'type': 'char *'}}, 14: {54: {'name': 'name', 'dwarf_info': {'type': '*char', 'location': 0, 'offset': -48}, 'type': 'char *'}, 67: {'name': 'age', 'dwarf_info': {'type': 'float', 'location': 8, 'offset': -40}, 'type': 'float'}}}}\n",
      "\n",
      "\n",
      " {'/home/nahid/dataset/clones/Princexz_____alx-low_level_programming/0x0E-structures_typedef/0-main.c': {'main': {'8_1': [4425, 4429, 4430, 4433], '11_14': [4437, 4444], '12_13': [4448, 4456], '13_15': [4461, 4468], '14_73': [4472], '14_2': [4477, 4481, 4485, 4490, 4494, 4499, 4502, 4509, 4512, 4517], '15_9': [4522], '16_1': [4527, 4528]}}}\n",
      "x  x   x  x   x  x   x  x   x  x   x  x   x  x   x  x   x  x   x  x   x  x   x  x   x  x   x  x   x  x   x  x   x  x   x  x   x  x   x  x   \n",
      "line:11  var:s{'name': -48}  ins:{'0x1155': 3756, '0x115c': -32}\n",
      "line:12  var:s{'age': -40}  ins:{'0x1160': 3804, '0x1168': -24}\n",
      "line:13  var:s{'owner': -32}  ins:{'0x116d': 3738, '0x1174': -16}\n",
      "line:14  var:s{'age': -40, 'name': -48}  ins:{'0x1178': -24}\n",
      "line:14  var:s{'age': -40, 'name': -48}  ins:{'0x1196': 3707, '0x118a': -32}\n",
      "DBG:  calculated offset:  None\n"
     ]
    }
   ],
   "source": [
    "\n",
    "\n",
    "\n",
    "error_log = open(\"error.log\", \"w\")\n",
    "counter = 0\n",
    "for binary_path in (ELF_FILE_PATHS) : \n",
    "    \n",
    "#     if binary_path not in ['/home/nahid/dataset/clones/Princexz_____alx-low_level_programming/0x0E-structures_typedef/0-main_elf_file_',\n",
    "#                            '/home/nahid/dataset/clones/Princexz_____alx-low_level_programming/0x0E-structures_typedef/3-main_elf_file_']:\n",
    "#         continue\n",
    "        \n",
    "        \n",
    "    unique_path = binary_path.split('clones')[1]\n",
    "    unique_pkl_file_name=(hashlib.md5(unique_path.encode())).hexdigest()\n",
    "    analysed_pkl_path = os.path.join( ANALYSIS_DATA_PATH ,unique_pkl_file_name+'.pkl')\n",
    "    \n",
    "    if os.path.isfile(analysed_pkl_path) == False:#no analysis file present\n",
    "        continue\n",
    "\n",
    "    binFileName = os.path.basename(binary_path)\n",
    "    \n",
    "\n",
    "    \n",
    "    if check_dwarf_ok(binary_path)== False:\n",
    "        continue\n",
    "    \n",
    "    print(\" *_* \"*10)\n",
    "    print('Processing file:', binary_path)\n",
    "    \n",
    "    MIN_ADDRESS, MAX_ADDRESS =  get_min_max_address(binary_path)\n",
    "\n",
    "\n",
    "    #Load the analysed data\n",
    "    with (open(analysed_pkl_path , \"rb\")) as openfile:\n",
    "        bb_data , ins_data , tool_addresses_list = pickle.load(openfile)\n",
    "    \n",
    "    try:\n",
    "        VALID_INSTRUCTIONS_SET = get_valid_instructions(binary_path,tool_addresses_list,min_address=MIN_ADDRESS, max_address=MAX_ADDRESS)\n",
    "        connected_addrs_and_program_slice = process_graphs(ins_data,MIN_ADDRESS,MAX_ADDRESS,VALID_INSTRUCTIONS_SET,bb_data)\n",
    "\n",
    "\n",
    "\n",
    "    ##########################################################\n",
    "    ################ CREATE HELPER DATA STRUCTURES   #########\n",
    "    ##########################################################\n",
    "    \n",
    "\n",
    "        # create matrix for finding lineinfo for each address\n",
    "        lineinfo_address_subprogram_complete = produce_address_to_lineinfo_matrix(binary_path , MIN_ADDRESS, MAX_ADDRESS)\n",
    "\n",
    "#         FUNC_PARAMS = parse_dwarf_to_get_func_params('/home/nahid/reverse/binaries/c_many/stacktest' ,SRC_N_BIN_PATH)\n",
    "#         print(FUNC_PARAMS)\n",
    "#         break\n",
    "        \n",
    "    \n",
    "    \n",
    "    \n",
    "        FUNC_PARAMS = parse_dwarf_to_get_func_params(binary_path , SRC_N_BIN_PATH)\n",
    "\n",
    "\n",
    "        if len(list(FUNC_PARAMS['structs'].keys()))==0:\n",
    "            continue\n",
    "        \n",
    "        variables_in_line = create_variable_per_line_matrix(binary_path, FUNC_PARAMS)\n",
    "#         print(variables_in_line)\n",
    "\n",
    "        line_to_address_matrix = build_line_to_relatedAddresses_matrix(lineinfo_address_subprogram_complete,VALID_INSTRUCTIONS_SET)\n",
    "#         print('\\n\\n',line_to_address_matrix)\n",
    "        ##############################################################################\n",
    "        ##########################################################################\n",
    "        inst_type_info = do_magic(VALID_INSTRUCTIONS_SET, FUNC_PARAMS,line_to_address_matrix ,variables_in_line)\n",
    "        print('\\n\\n',inst_type_info,'\\n\\n\\n\\n')\n",
    "        write_illustrated_file(binFileName ,lineinfo_address_subprogram_complete , inst_type_info,VALID_INSTRUCTIONS_SET,ILLUSTRATION_LOG_PATH)\n",
    "        \n",
    "        ###################################################################################\n",
    "        process_data_4_model_and_save(VALID_INSTRUCTIONS_SET , connected_addrs_and_program_slice,inst_type_info,unique_pkl_file_name)\n",
    "        \n",
    "    \n",
    "    except Exception as e:#TODO, solve the most frequent errors\n",
    "        exc_type, exc_obj, exc_tb = sys.exc_info()\n",
    "        fname = os.path.split(exc_tb.tb_frame.f_code.co_filename)[1]\n",
    "        print(exc_type, fname, exc_tb.tb_lineno)\n",
    "        print(traceback.format_exc(),'\\n\\n\\n\\n')\n",
    "        error_log.write('\\n\\n')\n",
    "        error_log.write(' analysed_pkl_path: '+ analysed_pkl_path + '\\n')\n",
    "        error_log.write(str(exc_type) +\" fname: \"+fname + \" lineno: \"+ str(exc_tb.tb_lineno) )\n",
    "    counter+=1\n",
    "    \n",
    "    "
   ]
  },
  {
   "cell_type": "code",
   "execution_count": 4,
   "id": "a04c0c52",
   "metadata": {},
   "outputs": [
    {
     "data": {
      "text/plain": [
       "<function find_types.get_type_name(CU, offset)>"
      ]
     },
     "execution_count": 4,
     "metadata": {},
     "output_type": "execute_result"
    }
   ],
   "source": [
    "get_type_name"
   ]
  },
  {
   "cell_type": "code",
   "execution_count": 5,
   "id": "c215754e",
   "metadata": {},
   "outputs": [
    {
     "name": "stdout",
     "output_type": "stream",
     "text": [
      "SUBHAN'ALLAH\n"
     ]
    }
   ],
   "source": [
    "print(\"SUBHAN'ALLAH\")"
   ]
  },
  {
   "cell_type": "code",
   "execution_count": 6,
   "id": "8927250f",
   "metadata": {},
   "outputs": [],
   "source": [
    "a= {'dog': {'name': {'type': '*char', 'location': 0, 'offset': 0}}}"
   ]
  },
  {
   "cell_type": "code",
   "execution_count": 7,
   "id": "482bb185",
   "metadata": {},
   "outputs": [
    {
     "data": {
      "text/plain": [
       "1"
      ]
     },
     "execution_count": 7,
     "metadata": {},
     "output_type": "execute_result"
    }
   ],
   "source": [
    "len(list(a.keys()))"
   ]
  },
  {
   "cell_type": "code",
   "execution_count": null,
   "id": "521da50c",
   "metadata": {},
   "outputs": [],
   "source": []
  }
 ],
 "metadata": {
  "kernelspec": {
   "display_name": "pytorch",
   "language": "python",
   "name": "pytorch"
  },
  "language_info": {
   "codemirror_mode": {
    "name": "ipython",
    "version": 3
   },
   "file_extension": ".py",
   "mimetype": "text/x-python",
   "name": "python",
   "nbconvert_exporter": "python",
   "pygments_lexer": "ipython3",
   "version": "3.8.16"
  }
 },
 "nbformat": 4,
 "nbformat_minor": 5
}
