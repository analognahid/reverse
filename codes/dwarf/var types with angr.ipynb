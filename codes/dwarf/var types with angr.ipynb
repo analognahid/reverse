{
 "cells": [
  {
   "cell_type": "code",
   "execution_count": 3,
   "id": "3b9131ce",
   "metadata": {},
   "outputs": [
    {
     "name": "stderr",
     "output_type": "stream",
     "text": [
      "WARNING  | 2023-05-12 18:43:10,184 | cle.loader     | The main binary is a position-independent executable. It is being loaded with a base address of 0x400000.\n"
     ]
    },
    {
     "name": "stdout",
     "output_type": "stream",
     "text": [
      "int\n",
      "char\n",
      "<int (32 bits) <BV32 0xf> at 0x404010>\n",
      "<int (32 bits) <BV32 0x2a> at 0x404014>\n",
      "<char <BV8 33> at 0x404019>\n",
      "<int (32 bits) <BV32 0xf> at 0x404010>\n",
      "<int (32 bits) <BV32 0x2a> at 0x404014>\n",
      "<char <BV8 33> at 0x404019>\n"
     ]
    }
   ],
   "source": [
    "import angr,cle\n",
    "\n",
    "p = angr.Project('/home/nahid/reverse/binaries/simple/simple', load_debug_info=True)\n",
    "init_state = p.factory.entry_state()\n",
    "simgr = p.factory.simgr(init_state)\n",
    "simgr.explore (find = 0x40117f)\n",
    "s = simgr.found[0]\n",
    "\n",
    "p.kb.dvars.load_from_dwarf()\n",
    "\n",
    "print(s.dvars[\"i\"].type.name)         # returns 'int'\n",
    "print(s.dvars[\"c\"].type.name)         # returns 'char'\n",
    "\n",
    "print(s.mem[s.dvars[\"i\"].addr].int)   # returns a <BV32 0xf>\n",
    "print(s.mem[s.dvars[\"b\"].addr].int)   # returns a <BV32 0x2a>\n",
    "print(s.mem[s.dvars[\"c\"].addr].char)  # returns a <BV8 33>\n",
    "# *Edit* Does the same now:\n",
    "print(s.dvars[\"i\"].mem)\n",
    "print(s.dvars[\"b\"].mem)\n",
    "print(s.dvars[\"c\"].mem)"
   ]
  },
  {
   "cell_type": "code",
   "execution_count": 4,
   "id": "d818c403",
   "metadata": {},
   "outputs": [
    {
     "name": "stderr",
     "output_type": "stream",
     "text": [
      "WARNING  | 2023-05-12 18:43:46,959 | cle.loader     | The main binary is a position-independent executable. It is being loaded with a base address of 0x400000.\n"
     ]
    }
   ],
   "source": [
    "import cle\n",
    "\n",
    "ld = cle.Loader('/home/nahid/reverse/binaries/simple/simple', load_debug_info=True)\n",
    "elfe = ld.all_elf_objects[0]\n",
    "cu = elfe.compilation_units[0]\n",
    "\n",
    "global_vars = cu.global_variables\n",
    "\n",
    "# 4425 seems to be the address of main\n",
    "main_func = cu.functions[4425]\n",
    "local_vars = main_func.local_variables\n",
    "\n",
    "line_numbers = elfe.addr_to_line\n",
    "\n",
    "print(local_vars)\n",
    "print(line_numbers)\n"
   ]
  },
  {
   "cell_type": "code",
   "execution_count": 5,
   "id": "6533105a",
   "metadata": {},
   "outputs": [
    {
     "name": "stdout",
     "output_type": "stream",
     "text": [
      "[<cle.backends.elf.variable.MemoryVariable object at 0x7f39408c0640>, <cle.backends.elf.variable.MemoryVariable object at 0x7f39408c0a30>]\n",
      "{4198729: ('/home/lukas/test/simple.c', 5), 4198737: ('/home/lukas/test/simple.c', 8), 4198744: ('/home/lukas/test/simple.c', 9), 4198788: ('/home/lukas/test/simple.c', 10), 4198821: ('/home/lukas/test/simple.c', 11), 4198827: ('/home/lukas/test/simple.c', 12), 4198829: ('/home/lukas/test/simple.c', 12)}\n"
     ]
    }
   ],
   "source": [
    "print(local_vars)\n",
    "print(line_numbers)"
   ]
  },
  {
   "cell_type": "code",
   "execution_count": null,
   "id": "9d2d06f1",
   "metadata": {},
   "outputs": [],
   "source": []
  }
 ],
 "metadata": {
  "kernelspec": {
   "display_name": "angr",
   "language": "python",
   "name": "angr"
  },
  "language_info": {
   "codemirror_mode": {
    "name": "ipython",
    "version": 3
   },
   "file_extension": ".py",
   "mimetype": "text/x-python",
   "name": "python",
   "nbconvert_exporter": "python",
   "pygments_lexer": "ipython3",
   "version": "3.9.16"
  }
 },
 "nbformat": 4,
 "nbformat_minor": 5
}
