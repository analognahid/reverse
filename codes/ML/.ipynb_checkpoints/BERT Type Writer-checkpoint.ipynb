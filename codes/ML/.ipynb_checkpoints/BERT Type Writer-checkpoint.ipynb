{
 "cells": [
  {
   "cell_type": "code",
   "execution_count": 1,
   "id": "af388b2f",
   "metadata": {},
   "outputs": [
    {
     "name": "stdout",
     "output_type": "stream",
     "text": [
      "cuda True\n"
     ]
    }
   ],
   "source": [
    "import torch\n",
    "\n",
    "device = torch.device('cuda') if torch.cuda.is_available() else torch.device('cpu')\n",
    "print(device ,torch.cuda.is_available())"
   ]
  },
  {
   "cell_type": "code",
   "execution_count": 2,
   "id": "1c86ae04",
   "metadata": {},
   "outputs": [
    {
     "data": {
      "text/plain": [
       "True"
      ]
     },
     "execution_count": 2,
     "metadata": {},
     "output_type": "execute_result"
    }
   ],
   "source": [
    "torch.cuda.is_available()"
   ]
  },
  {
   "cell_type": "code",
   "execution_count": 3,
   "id": "de072e98",
   "metadata": {},
   "outputs": [],
   "source": [
    "import sys,os, pickle\n",
    "\n",
    "import torch.nn as nn\n",
    "from transformers import BertModel, BertTokenizer\n",
    "from transformers import BertForMaskedLM\n",
    "from torch.utils.data import DataLoader, Dataset\n",
    "from torch.utils.data import TensorDataset, random_split\n",
    "from transformers import AdamW\n",
    "from tqdm import tqdm  # for our progress bar\n",
    "\n",
    "from sklearn.metrics import precision_recall_fscore_support , accuracy_score\n",
    "import numpy as np\n",
    "from transformers import AutoModelForSequenceClassification\n",
    "\n",
    "import random\n",
    "\n",
    "\n",
    "EXPERIMENT_NAME=\"TYPE_WRITER_4090\"\n",
    "\n",
    "BATCH_SIZE = 32\n",
    "MAX_TOKEN_SIZE = 512\n"
   ]
  },
  {
   "cell_type": "code",
   "execution_count": 4,
   "id": "46d98a33",
   "metadata": {},
   "outputs": [],
   "source": [
    "TYPE_MAPPING ={'int': 0, '*structure': 1, 'array_char': 2, '*char': 3, '*int': 4, \n",
    "               'array_int': 5, 'char': 6, 'double': 7, '**char': 8, 'unsigned int': 9,\n",
    "                 'long int': 10, 'float': 11, 'long unsigned int': 12, 'structure': 13, \n",
    "                 'const': 14, '*const': 15, 'long long unsigned int': 16, '*enumeration': 17,\n",
    "                   'unsigned char': 18, 'long long int': 19, '*unsigned char': 20, \n",
    "                   '*float': 21, '**int': 22, '*double': 23, '**structure': 24, '*union': 25, \n",
    "                   'short unsigned int': 26, 'enumeration': 27, '*array_int': 28, \n",
    "                   'array_double': 29, '*array_float': 30, 'array_structure': 31, \n",
    "                   'array_*char': 32, 'short int': 33, 'array_float': 34, '*unsigned int': 35, \n",
    "                   'union': 36, '*array_char': 37, '*array_const': 38, \n",
    "                   'array_unsigned char': 39, 'signed char': 40, 'array_long int': 41}\n",
    "\n",
    "    "
   ]
  },
  {
   "cell_type": "code",
   "execution_count": null,
   "id": "37270a60",
   "metadata": {},
   "outputs": [],
   "source": [
    "DATA_PATH = '/media/raisul/nahid_personal/instructions_and_type_data_100k_old/'\n",
    "MODEL_SAVE_PATH =  '/home/raisul/models'\n",
    "TYPE_COUNT ={}\n",
    "FINAL_TYPE_COUNT = {}\n",
    "TYPE_PROBABILITY = {}\n",
    "\n",
    "for key in TYPE_MAPPING.keys():\n",
    "    TYPE_COUNT[key] = 0\n",
    "    FINAL_TYPE_COUNT[key] = 0\n",
    "    \n",
    "MAX_TYPE_SAMPLE  =10000\n",
    "ALL_INPUT_LIST = []\n",
    "ALL_INPUT_SLICE_INFO  = []\n",
    "ALL_LABEL_LIST = []\n",
    "#TODO dont load all at a time in memry\n",
    "def make_dataset():\n",
    "\n",
    "    #count how many real samples\n",
    "    for fi,pkl_file_name in enumerate(os.listdir(DATA_PATH)):\n",
    "        pkl_path = os.path.join(DATA_PATH,pkl_file_name)\n",
    "        with open(pkl_path, 'rb') as file:\n",
    "            try:\n",
    "                model_input_list, model_label_list = pickle.load(file)\n",
    "            except Exception as e:\n",
    "                pass\n",
    "            for i in range(len(model_input_list)):\n",
    "\n",
    "                type_str = model_label_list[i]\n",
    "\n",
    "                TYPE_COUNT[type_str] +=1\n",
    "    \n",
    "    print(TYPE_COUNT)\n",
    "    #make the probability\n",
    "    for key in TYPE_COUNT.keys():\n",
    "        print(MAX_TYPE_SAMPLE , TYPE_COUNT[key] ,key)\n",
    "        TYPE_PROBABILITY[key] = MAX_TYPE_SAMPLE/TYPE_COUNT[key]\n",
    "    \n",
    "    print(TYPE_PROBABILITY)\n",
    "    #fill dataset with that probability\n",
    "    for fi,pkl_file_name in enumerate(os.listdir(DATA_PATH)):\n",
    "        pkl_path = os.path.join(DATA_PATH,pkl_file_name)\n",
    "\n",
    "        with open(pkl_path, 'rb') as file:\n",
    "            try:\n",
    "                model_input_list, model_label_list = pickle.load(file)\n",
    "            except Exception as e:\n",
    "                pass\n",
    "            for i in range(len(model_input_list)):\n",
    "\n",
    "                type_str = model_label_list[i]\n",
    "                type_label = TYPE_MAPPING[type_str]\n",
    "                backward_slice , target_slice, forward_slice = model_input_list[i]\n",
    "\n",
    "                if random.random()<=TYPE_PROBABILITY[type_str]:\n",
    "\n",
    "                    ALL_INPUT_LIST.append(backward_slice + target_slice + forward_slice)\n",
    "                    ALL_INPUT_SLICE_INFO.append([len(backward_slice) , len(target_slice) , len(forward_slice)])\n",
    "                    ALL_LABEL_LIST.append(type_label)\n",
    "                    \n",
    "                    FINAL_TYPE_COUNT[type_str]+=1\n",
    "make_dataset()"
   ]
  },
  {
   "cell_type": "code",
   "execution_count": null,
   "id": "a84fac9f",
   "metadata": {},
   "outputs": [],
   "source": [
    "print(TYPE_COUNT)\n",
    "\n",
    "print(TYPE_PROBABILITY)\n",
    "print(FINAL_TYPE_COUNT)"
   ]
  },
  {
   "cell_type": "code",
   "execution_count": null,
   "id": "a747f410",
   "metadata": {},
   "outputs": [],
   "source": [
    "print(len(ALL_INPUT_LIST))"
   ]
  },
  {
   "cell_type": "code",
   "execution_count": null,
   "id": "a256faa4",
   "metadata": {},
   "outputs": [],
   "source": [
    "tokenizer  = BertTokenizer.from_pretrained(\"./multytask-tokenizer\")\n",
    "\n",
    "#https://github.com/huggingface/tokenizers/issues/247\n",
    "\n",
    "mask_token_id, look_token_id, eoi_token_id = tokenizer.encode('[MASK] [LOOK] [EOI]')[1:-1]\n",
    "\n",
    "print(mask_token_id, look_token_id, eoi_token_id)"
   ]
  },
  {
   "cell_type": "code",
   "execution_count": null,
   "id": "3aa991f1",
   "metadata": {},
   "outputs": [],
   "source": [
    "\n",
    "VOCAB_SIZE = tokenizer.vocab_size\n",
    "\n",
    "print('VOCAB SIZE : ', (tokenizer.vocab_size))"
   ]
  },
  {
   "cell_type": "code",
   "execution_count": null,
   "id": "82ddc34e",
   "metadata": {},
   "outputs": [],
   "source": [
    "\n",
    "\n"
   ]
  },
  {
   "cell_type": "code",
   "execution_count": null,
   "id": "80c7d400",
   "metadata": {},
   "outputs": [],
   "source": [
    "# Create model instance\n",
    "#TODO*** USE PRETRAINED\n",
    "model = AutoModelForSequenceClassification.from_pretrained(\"bert-base-cased\", num_labels=len(TYPE_MAPPING.items()))\n",
    "model.to(device)\n",
    "\n",
    "\n"
   ]
  },
  {
   "cell_type": "code",
   "execution_count": null,
   "id": "88bd9a8a",
   "metadata": {
    "scrolled": true
   },
   "outputs": [],
   "source": [
    "\n",
    "# Tokenize input text\n",
    "# inputs = tokenizer(input_text, padding=True, truncation=True, return_tensors='pt')\n",
    "# inputs = tokenizer(ALL_INPUT_LIST, max_length= MAX_TOKEN_SIZE,padding='max_length', truncation=True , return_tensors='pt')\n",
    "# print(inputs.keys())\n",
    "\n",
    "# labels = ALL_LABEL_LIST.to(device)"
   ]
  },
  {
   "cell_type": "code",
   "execution_count": null,
   "id": "70219d97",
   "metadata": {},
   "outputs": [],
   "source": [
    "# print(inputs.keys())\n",
    "# print(inputs.token_type_ids)\n",
    "# inputs.token_type_ids[0][0] =1\n",
    "# print(inputs.token_type_ids)\n",
    "# #TODO set token type ids"
   ]
  },
  {
   "cell_type": "code",
   "execution_count": null,
   "id": "bd332543",
   "metadata": {},
   "outputs": [],
   "source": [
    "# class BinaryDataset(torch.utils.data.Dataset):\n",
    "#     def __init__(self, encodings):\n",
    "#         self.encodings = encodings\n",
    "#     def __getitem__(self, idx):\n",
    "#         return {key: torch.tensor(val[idx]) for key, val in self.encodings.items()}\n",
    "#     def __len__(self):\n",
    "#         return len(self.encodings.input_ids)"
   ]
  },
  {
   "cell_type": "code",
   "execution_count": null,
   "id": "4b2d13fb",
   "metadata": {},
   "outputs": [],
   "source": [
    "class BinaryDataset(torch.utils.data.Dataset):\n",
    "    def __init__(self, texts, labels, tokenizer):\n",
    "        self.texts = texts\n",
    "        self.labels = labels\n",
    "        self.tokenizer = tokenizer\n",
    "        \n",
    "    def __getitem__(self, index):\n",
    "        text = self.texts[index]\n",
    "        label = self.labels[index]\n",
    "        \n",
    "        # Tokenize the text\n",
    "        tokenized_text = (self.tokenizer(text , max_length= MAX_TOKEN_SIZE,padding='max_length', truncation=True , return_tensors='pt')).to(device)\n",
    "        \n",
    "        # Convert tokens to input IDs\n",
    "#         input_ids = self.tokenizer.convert_tokens_to_ids(tokenized_text)\n",
    "        \n",
    "        # Create input tensors\n",
    "#         input_ids = tokenized_text['input_ids']  #torch.tensor(input_ids)\n",
    "        label = torch.tensor([label]).to(device)\n",
    "        \n",
    "        return tokenized_text, label\n",
    "        \n",
    "#         return {key: torch.tensor(val[idx]) for key, val in self.encodings.items()}\n",
    "    def __len__(self):\n",
    "        return len(self.texts)"
   ]
  },
  {
   "cell_type": "code",
   "execution_count": null,
   "id": "820b1ce1",
   "metadata": {},
   "outputs": [],
   "source": [
    "print(len(ALL_INPUT_LIST ), len(ALL_LABEL_LIST))"
   ]
  },
  {
   "cell_type": "code",
   "execution_count": null,
   "id": "6640b932",
   "metadata": {},
   "outputs": [],
   "source": [
    "dataset = BinaryDataset(ALL_INPUT_LIST, ALL_LABEL_LIST,tokenizer)\n",
    "train_size = int(0.8 * len(dataset))\n",
    "validation_size = len(dataset) - train_size\n",
    "\n",
    "train_dataset, validation_dataset = torch.utils.data.random_split(dataset, [train_size, validation_size])\n",
    "train_loader      = torch.utils.data.DataLoader(train_dataset, batch_size=BATCH_SIZE, shuffle=True)\n",
    "validation_loader = torch.utils.data.DataLoader(validation_dataset, batch_size=BATCH_SIZE, shuffle=True)"
   ]
  },
  {
   "cell_type": "code",
   "execution_count": null,
   "id": "44653e9e",
   "metadata": {},
   "outputs": [],
   "source": [
    "# global_task2_metrices, global_task1_metrices ,v_global_task1_metrices, v_global_task2_metrices\n",
    "\n",
    "from numpy import *\n",
    "import math\n",
    "import matplotlib.pyplot as plt\n",
    "\n",
    "\n",
    "def plot_graph(task1_metrices,   v_task1_metrices, label = \"TypeGraph\" ):\n",
    "    \n",
    "    plt.ioff()\n",
    "\n",
    "    font_size = 10\n",
    "    x_labels = [ i for i in range(len(task1_metrices)) ]\n",
    "    \n",
    "    task1_f1 = [ i['f1'] for i in task1_metrices ]\n",
    "\n",
    "    \n",
    "    v_task1_f1 = [ i['f1'] for i in v_task1_metrices ]\n",
    "\n",
    "    \n",
    "\n",
    "    plt.ylabel(' F1 ',fontsize=font_size)\n",
    "    plt.plot(x_labels, task1_f1 , 'r') \n",
    "\n",
    "    \n",
    "    plt.plot(x_labels, v_task1_f1 , 'r' , linestyle = '--') \n",
    "\n",
    "    \n",
    "    plt.xlabel(\"Epoch\", fontsize=font_size)\n",
    "    plt.title(label,fontsize=font_size)\n",
    "    plt.legend([' Type Train',  'Type Val' ], loc='upper left')\n",
    "    \n",
    "    plt.savefig('./output/'+label+'_f1.pdf')\n",
    "    plt.close()\n",
    "    plt.show()\n",
    "    \n",
    "    ################################\n",
    "    ################# LOSS #########\n",
    "    ################################\n",
    "    \n",
    "    task1_loss = [ i['loss'] for i in task1_metrices ]\n",
    "\n",
    "    \n",
    "    v_task1_loss = [ i['loss'] for i in v_task1_metrices ]\n",
    "    \n",
    "\n",
    "    plt.ylabel(' LOSS ',fontsize=font_size)\n",
    "    plt.plot(x_labels, task1_loss , 'r') \n",
    "    \n",
    "    plt.plot(x_labels, v_task1_loss , 'r' , linestyle = '--') \n",
    "\n",
    "    \n",
    "    plt.xlabel(\"Epoch\", fontsize=font_size)\n",
    "    plt.title(label,fontsize=font_size)\n",
    "    plt.legend([' Type Train',  'Type Val'], loc='upper left')\n",
    "    \n",
    "    plt.savefig('./output/'+label+'_loss.pdf')\n",
    "    plt.close()\n",
    "    plt.show()\n",
    "    \n",
    "    "
   ]
  },
  {
   "cell_type": "code",
   "execution_count": null,
   "id": "5142580f",
   "metadata": {},
   "outputs": [],
   "source": [
    "import numpy as np\n",
    "import matplotlib.pyplot as plt\n",
    "from sklearn.metrics import confusion_matrix\n",
    "from sklearn.metrics import multilabel_confusion_matrix,ConfusionMatrixDisplay\n",
    "import seaborn as sns\n",
    "\n",
    "def plot_confusion_matrix(true_labels, predicted_labels, label='confusion_matrix'):\n",
    "\n",
    "    class_labels = list(TYPE_MAPPING.keys())  \n",
    "    class_labels = [c for c in class_labels]\n",
    "\n",
    "    cm = confusion_matrix(true_labels, predicted_labels ) \n",
    "    \n",
    "    fig, ax = plt.subplots(figsize=(20, 20))\n",
    "    \n",
    "    res = sns.heatmap(cm,\n",
    "            annot=True , cmap=\"Blues\" , fmt='g' , xticklabels=class_labels,linewidths = .01,\n",
    "                      yticklabels=class_labels,linecolor=\"Gray\")\n",
    "    for _, spine in res.spines.items():\n",
    "        spine.set_visible(True)\n",
    "        spine.set_linewidth(1)\n",
    "    \n",
    "    plt.ylabel('Actual',fontsize=13)\n",
    "    plt.xlabel('Prediction',fontsize=13)\n",
    "    plt.title('Confusion Matrix',fontsize=17)\n",
    "    plt.savefig('./output/'+label+'_conf.pdf',dpi=200)\n",
    "    plt.show()\n",
    "    plt.close()\n",
    "# plot_confusion_matrix(v_ground_truth_s , v_prediction_s ,label=EXPERIMENT_NAME)"
   ]
  },
  {
   "cell_type": "code",
   "execution_count": null,
   "id": "d4054b13",
   "metadata": {},
   "outputs": [],
   "source": [
    "\n",
    "\n",
    "# initialize optimizer\n",
    "optim = AdamW( model.parameters() , lr=5e-6)\n",
    "criterion = nn.CrossEntropyLoss()"
   ]
  },
  {
   "cell_type": "code",
   "execution_count": null,
   "id": "d84807a0",
   "metadata": {},
   "outputs": [],
   "source": [
    "def training_loop(model ,data_loop, is_training = False):\n",
    "    \n",
    "    prediction_s, ground_truth_s = [], []\n",
    "    losses = []\n",
    "\n",
    "    for N,batch in enumerate(data_loop):\n",
    "        \n",
    "        \n",
    "        # Forward pass\n",
    "        if is_training == True:\n",
    "            optim.zero_grad()\n",
    "        \n",
    "        batch_input, batch_labels = batch\n",
    "        if len(batch_labels)<BATCH_SIZE:\n",
    "            continue\n",
    "        batch_input_ids= batch_input['input_ids']\n",
    "        batch_attention_mask=batch_input['attention_mask']\n",
    "        batch_token_type_ids =batch_input['token_type_ids']\n",
    "\n",
    "        outputs = model(input_ids=batch_input_ids.squeeze(),\n",
    "                        attention_mask=batch_attention_mask.squeeze(),\n",
    "                        token_type_ids=batch_token_type_ids.squeeze(),\n",
    "                        labels=batch_labels )\n",
    "        \n",
    "#\n",
    "\n",
    "        loss = outputs.loss\n",
    "        losses.append(loss.item())\n",
    "        \n",
    "        logits = outputs.logits\n",
    "        predictions = torch.argmax(logits, dim=1)\n",
    "        \n",
    "\n",
    "\n",
    "        prediction_s.extend(predictions.detach().cpu().numpy().flatten())\n",
    "        ground_truth_s.extend(batch_labels.detach().cpu().numpy().flatten())\n",
    "\n",
    "\n",
    "        if is_training == True:\n",
    "            loss.backward()\n",
    "            optim.step()\n",
    "\n",
    "\n",
    "        # print relevant info to progress bar\n",
    "        data_loop.set_description(f'Epoch {ecpoch}')\n",
    "        data_loop.set_postfix(loss=loss.item())\n",
    "\n",
    "    ###### Training Scores\n",
    "    accuracy = accuracy_score(ground_truth_s, prediction_s)    \n",
    "    precision, recall, f1, _ = precision_recall_fscore_support(ground_truth_s,prediction_s,average='weighted')\n",
    "    metrices = {'accuracy':accuracy ,\n",
    "                      'precision':precision, \n",
    "                      'recall':recall, \n",
    "                      'f1':f1,\n",
    "                      'loss': (sum(losses) / len(losses))}\n",
    "    \n",
    "\n",
    "\n",
    "    return metrices , prediction_s, ground_truth_s\n",
    "    "
   ]
  },
  {
   "cell_type": "code",
   "execution_count": null,
   "id": "1d81a74d",
   "metadata": {},
   "outputs": [],
   "source": [
    "EPOCHS = 100\n",
    "\n",
    "\n",
    "global_metrices = []\n",
    "v_global_metrices = []\n",
    "\n",
    "\n",
    "for ecpoch in range(EPOCHS):\n",
    "    \n",
    "    train_loop = tqdm(train_loader, leave=True)\n",
    "    model.train()\n",
    "    metrices,prediction_s, ground_truth_s  = training_loop(model ,train_loop, is_training = True)\n",
    "    print('Training metrices: ',metrices)\n",
    "    global_metrices.append(metrices)\n",
    "    \n",
    "    with torch.no_grad():\n",
    "        model.eval()\n",
    "        validation_loop = tqdm(validation_loader, leave=True)\n",
    "        v_metrices, v_prediction_s, v_ground_truth_s  = training_loop(model ,validation_loop, is_training = False)\n",
    "        plot_confusion_matrix(v_ground_truth_s , v_prediction_s ,label=EXPERIMENT_NAME)\n",
    "        print('v_metrices: ',v_metrices)\n",
    "        v_global_metrices.append(v_metrices)\n",
    "    plot_graph(global_metrices,v_global_metrices , label = EXPERIMENT_NAME)\n",
    "#     break\n",
    "    model.save_pretrained(MODEL_SAVE_PATH +EXPERIMENT_NAME)\n"
   ]
  },
  {
   "cell_type": "code",
   "execution_count": null,
   "id": "be9ddaab",
   "metadata": {},
   "outputs": [],
   "source": [
    "model.save_pretrained(MODEL_SAVE_PATH +EXPERIMENT_NAME)"
   ]
  },
  {
   "cell_type": "code",
   "execution_count": null,
   "id": "0f22ab85",
   "metadata": {},
   "outputs": [],
   "source": []
  }
 ],
 "metadata": {
  "kernelspec": {
   "display_name": "pytorch",
   "language": "python",
   "name": "pytorch"
  },
  "language_info": {
   "codemirror_mode": {
    "name": "ipython",
    "version": 3
   },
   "file_extension": ".py",
   "mimetype": "text/x-python",
   "name": "python",
   "nbconvert_exporter": "python",
   "pygments_lexer": "ipython3",
   "version": "3.8.17"
  }
 },
 "nbformat": 4,
 "nbformat_minor": 5
}
