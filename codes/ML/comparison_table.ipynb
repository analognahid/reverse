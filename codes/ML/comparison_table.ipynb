{
 "cells": [
  {
   "cell_type": "code",
   "execution_count": 1,
   "id": "439f9402",
   "metadata": {},
   "outputs": [],
   "source": [
    "import csv \n",
    "from decimal import Decimal\n",
    "\n",
    "\n",
    "O0= {'int': 0.9413000494315373, '*structure': 0.9213529777962233, '*int': 0.964491491357363, '*char': 0.9440230582524273, 'array_char': 0.9514708893590881, 'array_int': 0.9499712478435882, 'char': 0.9860911958703757, 'float': 0.9904129793510325, 'unsigned int': 0.9603755868544601, 'double': 0.9914593390271073, 'structure': 0.9207662445109145, 'long int': 0.9342138364779874, 'long long int': 0.9497505779291886, 'long long unsigned int': 0.9752720079129573, 'long unsigned int': 0.9607830593052268, 'short int': 0.9946445307270049, '*double': 0.9893296853625171, 'short unsigned int': 0.9939272939023376, 'array_structure': 0.9555967841682128, '*float': 0.9819387288523092, '*long int': 0.9893360853113174, 'array_float': 0.9703994293865906, '*unsigned int': 0.97068080172271, 'array_double': 0.9736141370128297, 'signed char': 0.9848069738480697, '*long unsigned int': 0.978813559322034, '*short int': 0.9930448222565688, '*long long int': 0.9565563969709048, 'array_long int': 0.9705409748259239, 'array_unsigned int': 0.9508733624454149, '*short unsigned int': 0.9923664122137404, '*signed char': 0.9955005624296963, 'array_long long int': 0.9493941553813257, 'array_long long unsigned int': 0.9676674364896073, '*long long unsigned int': 0.9522546419098142, 'array_long unsigned int': 0.9646133682830931, 'array_short int': 0.9496021220159151, 'array_short unsigned int': 0.960212201591512, 'array_signed char': 0.9879518072289156, 'long double': 0.8, '*long double': 0.4}\n",
    "O1 = {'int': 0.9075052204888834, 'array_signed char': 0.9042445679636181, 'array_int': 0.9316196655852259, 'structure': 0.879948914431673, '*signed char': 0.9299410953753603, '*void': 0.9911526794742164, 'signed char': 0.9707938092860708, '*structure': 0.9513099041533547, 'float': 0.9805340653855752, 'array_char': 0.9781854238968766, 'unsigned long int': 0.9685958992992473, 'array_float': 0.9805837726629806, 'double': 0.9795511221945137, '*int': 0.9618076875844284, 'unsigned int': 0.9580507410198442, 'long int': 0.9443754656071516, 'array_double': 0.9860417467025228, 'array_unsigned int': 0.9785765636232927, 'char': 0.983634797588286, 'long long int': 0.9298297999402806, 'unsigned short int': 0.9914748508098892, 'array_long long int': 0.959493670886076, 'array_long int': 0.9561510353227771, 'array_unsigned long long int': 0.9961270333075135, 'array_short int': 0.9893617021276595, 'short int': 0.9726027397260274, '*char': 0.9603658536585366, 'unsigned long long int': 0.9050086355785837, '*double': 0.9101123595505618, 'array_unsigned short int': 0.9829931972789115, '*float': 0.865934065934066, 'array_unsigned long int': 0.9751243781094528, '*unsigned int': 0.9572192513368984, 'long double': 0.9777777777777777, '*unsigned long int': 0.9776119402985075, '*long int': 0.8831168831168831, '*long long int': 0.8990825688073394, '*unsigned short int': 0.9444444444444444, 'array_long double': 0.8}\n",
    "O2= {'int': 0.8721652096794629, 'array_signed char': 0.8724218846486353, 'array_int': 0.8849601593625498, 'structure': 0.8347570742124935, 'signed char': 0.9640141915864165, '*signed char': 0.8925251022685013, '*void': 0.9923430321592649, 'float': 0.9705954422935555, 'unsigned long int': 0.9652529381706694, '*structure': 0.9277257030093734, '*int': 0.9348777348777347, 'double': 0.9773982923154194, 'array_float': 0.9731189394869278, 'array_char': 0.973346743776716, 'array_double': 0.9836853421019349, 'unsigned int': 0.9451920724247614, 'array_unsigned int': 0.9616207732914823, 'long int': 0.8997437540038438, 'long long int': 0.8968678380443086, 'char': 0.9601208459214502, 'array_long int': 0.961038961038961, 'array_long long int': 0.9449131513647642, 'array_unsigned long long int': 0.9734513274336283, 'short int': 0.954110898661568, 'array_short int': 0.9542356377799416, '*long long int': 0.9731051344743277, 'unsigned short int': 0.9262759924385634, '*unsigned int': 0.9365079365079365, '*float': 0.8034557235421166, 'array_unsigned short int': 0.9656652360515021, 'unsigned long long int': 0.8666666666666667, '*short int': 0.9790209790209791, '*double': 0.8458149779735682, '*char': 0.9155313351498637, 'array_unsigned long int': 0.9224489795918367, '*unsigned long int': 0.9663865546218487, 'long double': 0.8275862068965518, '*long int': 0.8091603053435115, '*unsigned short int': 0.8717948717948718}\n",
    "O3 = {'int': 0.888492629576795, 'array_int': 0.9003708914183399, 'array_signed char': 0.8063722315762207, 'structure': 0.8194850382741824, 'array_char': 0.8194427089841309, '*structure': 0.941969596827495, '*void': 0.9948225786084102, '*signed char': 0.9178979827829885, 'unsigned long int': 0.9614265840394587, 'float': 0.970467385721623, 'char': 0.9101394849785408, 'double': 0.9793553060485332, '*int': 0.9417892954811824, 'signed char': 0.9133250311332504, 'unsigned int': 0.9373354397051079, 'array_float': 0.9745403111739744, 'array_double': 0.9836119305145853, 'long int': 0.9020228671943711, 'array_unsigned int': 0.956829440905874, '*char': 0.8997627520759194, 'long long int': 0.9015910430170889, 'array_structure': 0.8837209302325582, 'array_long int': 0.9526989426822482, 'array_unsigned long long int': 0.9754730203223546, 'array_long long int': 0.9267872523686477, 'short int': 0.9586374695863747, 'long unsigned int': 0.8542713567839195, 'short unsigned int': 0.9417637271214643, '*double': 0.889273356401384, 'array_short int': 0.9589041095890412, '*float': 0.8186046511627908, '*unsigned int': 0.8561403508771931, 'long long unsigned int': 0.8796992481203009, 'unsigned short int': 0.9215686274509804, 'array_unsigned long int': 0.888888888888889, '*long long int': 0.9359605911330049, 'unsigned long long int': 0.8446601941747572, 'array_unsigned short int': 0.9339622641509433, 'long double': 0.896551724137931, '*unsigned long int': 0.9047619047619047, '*short int': 0.9333333333333333, '*long int': 0.7230769230769231, 'array_long unsigned int': 0.8125, '*unsigned short int': 0.9761904761904763, 'array_short unsigned int': 0.8666666666666666, 'array_long long unsigned int': 0.4, '*unsigned long long int': 0.888888888888889, 'array_long double': 0.0, '*long unsigned int': 0.0}"
   ]
  },
  {
   "cell_type": "code",
   "execution_count": 2,
   "id": "6112a596",
   "metadata": {},
   "outputs": [],
   "source": [
    "all_data = [O0, O1, O2 , O3]\n",
    "\n",
    "unique_keys = {}\n",
    "\n",
    "for data in all_data:\n",
    "#     print(data)\n",
    "    for key in data:\n",
    "#         print(key)\n",
    "        if key not in unique_keys:\n",
    "            unique_keys[key] = ['-','-','-','-']\n",
    "            \n",
    "# unique_keys\n",
    "for oi, data in enumerate(all_data):\n",
    "#     print(data)\n",
    "    for key, value  in data.items():\n",
    "#         print(key,value)\n",
    "        unique_keys[key][oi] = round(value*100)\n",
    "    \n",
    "delete_keys = []\n",
    "for key,val in unique_keys.items():\n",
    "    if '-' in val:\n",
    "        delete_keys.append(key)\n",
    "\n",
    "for dk in (delete_keys):\n",
    "    unique_keys.pop( dk )  \n",
    "\n",
    "import random\n",
    "delete_count = len(list(unique_keys.keys())) -30\n",
    "for i in range(delete_count):\n",
    "    unique_keys.pop( random.choice( list(unique_keys.keys()) ) )  "
   ]
  },
  {
   "cell_type": "code",
   "execution_count": 3,
   "id": "55529120",
   "metadata": {},
   "outputs": [
    {
     "name": "stdout",
     "output_type": "stream",
     "text": [
      "[' int ', ' *structure ', ' *int ', ' *char ', ' Array char ', ' Array int ', ' char ', ' float ', ' unsigned int ', ' double ', ' structure ', ' long int ', ' long long int ', ' short int ', ' *double ', ' *float ', ' *long int ', ' Array float ', ' *unsigned int ', ' Array double ', ' signed char ', ' *long long int ', ' Array long int ', ' Array unsigned int ', ' *signed char ', ' Array long long int ', ' Array short int ', ' Array signed char ', ' long double ']\n",
      "[94, 91, 87, 89]\n",
      "[92, 95, 93, 94]\n",
      "[96, 96, 93, 94]\n",
      "[94, 96, 92, 90]\n",
      "[95, 98, 97, 82]\n",
      "[95, 93, 88, 90]\n",
      "[99, 98, 96, 91]\n",
      "[99, 98, 97, 97]\n",
      "[96, 96, 95, 94]\n",
      "[99, 98, 98, 98]\n",
      "[92, 88, 83, 82]\n",
      "[93, 94, 90, 90]\n",
      "[95, 93, 90, 90]\n",
      "[99, 97, 95, 96]\n",
      "[99, 91, 85, 89]\n",
      "[98, 87, 80, 82]\n",
      "[99, 88, 81, 72]\n",
      "[97, 98, 97, 97]\n",
      "[97, 96, 94, 86]\n",
      "[97, 99, 98, 98]\n",
      "[98, 97, 96, 91]\n",
      "[96, 90, 97, 94]\n",
      "[97, 96, 96, 95]\n",
      "[95, 98, 96, 96]\n",
      "[100, 93, 89, 92]\n",
      "[95, 96, 94, 93]\n",
      "[95, 99, 95, 96]\n",
      "[99, 90, 87, 81]\n",
      "[80, 98, 83, 90]\n",
      "[94, 92, 96, 94, 95, 95, 99, 99, 96, 99, 92, 93, 95, 99, 99, 98, 99, 97, 97, 97, 98, 96, 97, 95, 100, 95, 95, 99, 80] [91, 95, 96, 96, 98, 93, 98, 98, 96, 98, 88, 94, 93, 97, 91, 87, 88, 98, 96, 99, 97, 90, 96, 98, 93, 96, 99, 90, 98] [87, 93, 93, 92, 97, 88, 96, 97, 95, 98, 83, 90, 90, 95, 85, 80, 81, 97, 94, 98, 96, 97, 96, 96, 89, 94, 95, 87, 83] [89, 94, 94, 90, 82, 90, 91, 97, 94, 98, 82, 90, 90, 96, 89, 82, 72, 97, 86, 98, 91, 94, 95, 96, 92, 93, 96, 81, 90]\n"
     ]
    }
   ],
   "source": [
    "temp_headers = list(unique_keys.keys())\n",
    "headers = []\n",
    "for t in temp_headers:\n",
    "#     t= t.replace('*', ' \\\\ast ')\n",
    "    t= t.replace('array_', 'Array ')\n",
    "    headers.append(  ' '+   t +' ')\n",
    "print(headers)\n",
    "list_0 = []\n",
    "list_1 = []\n",
    "list_2 = []\n",
    "list_3 = []\n",
    "\n",
    "for key, val_list in unique_keys.items():\n",
    "    print(val_list)\n",
    "    list_0.append(val_list[0])\n",
    "    list_1.append(val_list[1])\n",
    "    list_2.append(val_list[2])\n",
    "    list_3.append(val_list[3])\n",
    "\n",
    "print(list_0,list_1,list_2,list_3)"
   ]
  },
  {
   "cell_type": "code",
   "execution_count": 4,
   "id": "d11787a5",
   "metadata": {},
   "outputs": [
    {
     "name": "stdout",
     "output_type": "stream",
     "text": [
      "\\begin{tabular}{|l| p{0.015\\textwidth} |  p{0.015\\textwidth} |  p{0.015\\textwidth} |  p{0.015\\textwidth} |  p{0.015\\textwidth} |  p{0.015\\textwidth} |  p{0.015\\textwidth} |  p{0.015\\textwidth} |  p{0.015\\textwidth} |  p{0.015\\textwidth} |  p{0.015\\textwidth} |  p{0.015\\textwidth} |  p{0.015\\textwidth} |  p{0.015\\textwidth} |  p{0.015\\textwidth} |  p{0.015\\textwidth} |  p{0.015\\textwidth} |  p{0.015\\textwidth} |  p{0.015\\textwidth} |  p{0.015\\textwidth} |  p{0.015\\textwidth} |  p{0.015\\textwidth} |  p{0.015\\textwidth} |  p{0.015\\textwidth} |  p{0.015\\textwidth} |  p{0.015\\textwidth} |  p{0.015\\textwidth} |  p{0.015\\textwidth} |  p{0.015\\textwidth} | }\n",
      "\\hline \\rotatebox{90}{Optimization} \n",
      "  &  \\rotatebox{90} {  int }  &  \\rotatebox{90} {  *structure }  &  \\rotatebox{90} {  *int }  &  \\rotatebox{90} {  *char }  &  \\rotatebox{90} {  Array char }  &  \\rotatebox{90} {  Array int }  &  \\rotatebox{90} {  char }  &  \\rotatebox{90} {  float }  &  \\rotatebox{90} {  unsigned int }  &  \\rotatebox{90} {  double }  &  \\rotatebox{90} {  structure }  &  \\rotatebox{90} {  long int }  &  \\rotatebox{90} {  long long int }  &  \\rotatebox{90} {  short int }  &  \\rotatebox{90} {  *double }  &  \\rotatebox{90} {  *float }  &  \\rotatebox{90} {  *long int }  &  \\rotatebox{90} {  Array float }  &  \\rotatebox{90} {  *unsigned int }  &  \\rotatebox{90} {  Array double }  &  \\rotatebox{90} {  signed char }  &  \\rotatebox{90} {  *long long int }  &  \\rotatebox{90} {  Array long int }  &  \\rotatebox{90} {  Array unsigned int }  &  \\rotatebox{90} {  *signed char }  &  \\rotatebox{90} {  Array long long int }  &  \\rotatebox{90} {  Array short int }  &  \\rotatebox{90} {  Array signed char }  &  \\rotatebox{90} {  long double } \\\\\n",
      "\\hline\n",
      "O0 & 94 & 92 & 96 & 94 & 95 & 95 & 99 & 99 & 96 & 99 & 92 & 93 & 95 & 99 & 99 & 98 & 99 & 97 & 97 & 97 & 98 & 96 & 97 & 95 & 100 & 95 & 95 & 99 & 80 \\\\ [.5ex] \\hline \n",
      "O1 & 91 & 95 & 96 & 96 & 98 & 93 & 98 & 98 & 96 & 98 & 88 & 94 & 93 & 97 & 91 & 87 & 88 & 98 & 96 & 99 & 97 & 90 & 96 & 98 & 93 & 96 & 99 & 90 & 98 \\\\ [.5ex] \\hline \n",
      "O2 & 87 & 93 & 93 & 92 & 97 & 88 & 96 & 97 & 95 & 98 & 83 & 90 & 90 & 95 & 85 & 80 & 81 & 97 & 94 & 98 & 96 & 97 & 96 & 96 & 89 & 94 & 95 & 87 & 83 \\\\ [.5ex] \\hline \n",
      "O3 & 89 & 94 & 94 & 90 & 82 & 90 & 91 & 97 & 94 & 98 & 82 & 90 & 90 & 96 & 89 & 82 & 72 & 97 & 86 & 98 & 91 & 94 & 95 & 96 & 92 & 93 & 96 & 81 & 90 \\\\ [.5ex] \\hline \n",
      "\\end{tabular}\n"
     ]
    }
   ],
   "source": [
    "\n",
    "data = dict()\n",
    "data[\"O0\"] = list_0\n",
    "data[\"O1\"] = list_1\n",
    "data[\"O2\"] = list_2\n",
    "data[\"O3\"] = list_3\n",
    "textabular = '|l|' + \" p{0.015\\\\textwidth} | \" *len(headers)\n",
    "\n",
    "texheader = \"\\\\hline \\\\rotatebox{90}{Optimization} \\n \"\n",
    "for head_txt in headers:\n",
    "    texheader = texheader +\" &  \\\\rotatebox{90} { \"+  head_txt+ '} ' \n",
    "texheader = texheader + \"\\\\\\\\\"\n",
    "texdata = \"\\\\hline\\n\"\n",
    "for label in sorted(data):\n",
    "\n",
    "   texdata += f\"{label} & {' & '.join(map(str,data[label]))} \\\\\\\\ [.5ex] \\\\hline \\n\"\n",
    "\n",
    "print(\"\\\\begin{tabular}{\"+textabular+\"}\")\n",
    "print(texheader)\n",
    "print(texdata,end=\"\")\n",
    "print(\"\\\\end{tabular}\")"
   ]
  },
  {
   "cell_type": "code",
   "execution_count": null,
   "id": "597c1207",
   "metadata": {},
   "outputs": [],
   "source": []
  },
  {
   "cell_type": "code",
   "execution_count": null,
   "id": "c79e47b7",
   "metadata": {},
   "outputs": [],
   "source": []
  },
  {
   "cell_type": "code",
   "execution_count": 5,
   "id": "0a4c90db",
   "metadata": {},
   "outputs": [
    {
     "ename": "SyntaxError",
     "evalue": "unexpected character after line continuation character (4045022651.py, line 1)",
     "output_type": "error",
     "traceback": [
      "\u001b[0;36m  Cell \u001b[0;32mIn[5], line 1\u001b[0;36m\u001b[0m\n\u001b[0;31m    {\\renewcommand{\\arraystretch}{1.4}\\begin{tabular}{|p{0.07\\textwidth}|p{0.07\\textwidth}|p{0.06\\textwidth}|p{0.05\\textwidth}|p{0.05\\textwidth}|p{0.05\\textwidth}|p{0.04\\textwidth}|}\u001b[0m\n\u001b[0m                                                                                                                                                                                      ^\u001b[0m\n\u001b[0;31mSyntaxError\u001b[0m\u001b[0;31m:\u001b[0m unexpected character after line continuation character\n"
     ]
    }
   ],
   "source": [
    "{\\renewcommand{\\arraystretch}{1.4}\\begin{tabular}{|p{0.07\\textwidth}|p{0.07\\textwidth}|p{0.06\\textwidth}|p{0.05\\textwidth}|p{0.05\\textwidth}|p{0.05\\textwidth}|p{0.04\\textwidth}|}"
   ]
  },
  {
   "cell_type": "code",
   "execution_count": null,
   "id": "12971578",
   "metadata": {},
   "outputs": [],
   "source": []
  }
 ],
 "metadata": {
  "kernelspec": {
   "display_name": "pytorch",
   "language": "python",
   "name": "pytorch"
  },
  "language_info": {
   "codemirror_mode": {
    "name": "ipython",
    "version": 3
   },
   "file_extension": ".py",
   "mimetype": "text/x-python",
   "name": "python",
   "nbconvert_exporter": "python",
   "pygments_lexer": "ipython3",
   "version": "3.8.17"
  }
 },
 "nbformat": 4,
 "nbformat_minor": 5
}
