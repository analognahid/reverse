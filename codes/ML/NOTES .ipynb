{
 "cells": [
  {
   "cell_type": "markdown",
   "id": "6cba7c0b",
   "metadata": {},
   "source": [
    "Train HUggingface Tokenizer\n",
    "\n",
    "https://huggingface.co/course/chapter6/2"
   ]
  },
  {
   "cell_type": "markdown",
   "id": "ea23fe11",
   "metadata": {},
   "source": [
    "A lot of scripts huggingface\n",
    "https://huggingface.co/docs/transformers/notebooks"
   ]
  },
  {
   "cell_type": "markdown",
   "id": "3c2274eb",
   "metadata": {},
   "source": [
    "mlm, nsp traing codes : https://github.com/jamescalam/transformers/tree/main/course/training"
   ]
  },
  {
   "cell_type": "markdown",
   "id": "fa9bf781",
   "metadata": {},
   "source": [
    "# MLM with bert https://towardsdatascience.com/masked-language-modelling-with-bert-7d49793e5d2c"
   ]
  },
  {
   "cell_type": "code",
   "execution_count": null,
   "id": "2ba980fa",
   "metadata": {},
   "outputs": [],
   "source": []
  }
 ],
 "metadata": {
  "kernelspec": {
   "display_name": "pytorch",
   "language": "python",
   "name": "pytorch"
  },
  "language_info": {
   "codemirror_mode": {
    "name": "ipython",
    "version": 3
   },
   "file_extension": ".py",
   "mimetype": "text/x-python",
   "name": "python",
   "nbconvert_exporter": "python",
   "pygments_lexer": "ipython3",
   "version": "3.8.16"
  }
 },
 "nbformat": 4,
 "nbformat_minor": 5
}
