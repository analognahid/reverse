{
 "cells": [
  {
   "cell_type": "code",
   "execution_count": 1,
   "id": "f2c2900d",
   "metadata": {},
   "outputs": [],
   "source": [
    "import sys,os, pickle\n"
   ]
  },
  {
   "cell_type": "code",
   "execution_count": 2,
   "id": "3effc630",
   "metadata": {},
   "outputs": [],
   "source": [
    "with (open('DFGDATA.pkl' , \"rb\")) as openfile:\n",
    "    all_input_list , all_label_list = pickle.load(openfile)\n",
    "\n"
   ]
  },
  {
   "cell_type": "code",
   "execution_count": 3,
   "id": "7652990f",
   "metadata": {},
   "outputs": [],
   "source": [
    "def get_training_corpus():\n",
    "    dataset = all_input_list\n",
    "    for start_idx in range(0, len(dataset), 100):\n",
    "        samples = dataset[start_idx : start_idx + 100]\n",
    "        yield [pslice for pslice in samples]\n",
    "\n",
    "training_corpus = get_training_corpus()"
   ]
  },
  {
   "cell_type": "code",
   "execution_count": 4,
   "id": "af872bb1",
   "metadata": {},
   "outputs": [],
   "source": [
    "# for t in list(training_corpus):\n",
    "#     print(t)\n",
    "#     break"
   ]
  },
  {
   "cell_type": "code",
   "execution_count": 5,
   "id": "824c419d",
   "metadata": {},
   "outputs": [
    {
     "name": "stderr",
     "output_type": "stream",
     "text": [
      "/home/nahid/anaconda3/envs/pytorch/lib/python3.8/site-packages/tqdm/auto.py:21: TqdmWarning: IProgress not found. Please update jupyter and ipywidgets. See https://ipywidgets.readthedocs.io/en/stable/user_install.html\n",
      "  from .autonotebook import tqdm as notebook_tqdm\n"
     ]
    }
   ],
   "source": [
    "from transformers import AutoTokenizer\n",
    "\n",
    "old_tokenizer = AutoTokenizer.from_pretrained(\"bert-base-uncased\")"
   ]
  },
  {
   "cell_type": "code",
   "execution_count": 6,
   "id": "705a3ad3",
   "metadata": {},
   "outputs": [
    {
     "name": "stdout",
     "output_type": "stream",
     "text": [
      "0x10a0:endbr64 [EOI]0x10a4:xor ebp, ebp[EOI]0x10a6:mov r9, rdx[EOI]0x10a9:pop rsi[EOI]0x10aa:mov rdx, rsp[EOI][LOOK]0x10ad:and rsp, 0xfffffffffffffff0[EOI][LOOK]0x10b1:push rax[EOI]0x10b2:push rsp[EOI]0x10b3:xor r8d, r8d[EOI]0x10b6:xor ecx, ecx[EOI]0x10b8:lea rdi, [rip + 0xca][EOI][LOOK]0x10bf:call qword ptr [rip + 0x2f13][EOI][LOOK]0x10c5:hlt [EOI]\n"
     ]
    },
    {
     "data": {
      "text/plain": [
       "['0',\n",
       " '##x',\n",
       " '##10',\n",
       " '##a',\n",
       " '##0',\n",
       " ':',\n",
       " 'end',\n",
       " '##br',\n",
       " '##64',\n",
       " '[',\n",
       " 'e',\n",
       " '##oi',\n",
       " ']',\n",
       " '0',\n",
       " '##x',\n",
       " '##10',\n",
       " '##a',\n",
       " '##4',\n",
       " ':',\n",
       " 'x',\n",
       " '##or',\n",
       " 'e',\n",
       " '##b',\n",
       " '##p',\n",
       " ',',\n",
       " 'e',\n",
       " '##b',\n",
       " '##p',\n",
       " '[',\n",
       " 'e',\n",
       " '##oi',\n",
       " ']',\n",
       " '0',\n",
       " '##x',\n",
       " '##10',\n",
       " '##a',\n",
       " '##6',\n",
       " ':',\n",
       " 'mo',\n",
       " '##v',\n",
       " 'r',\n",
       " '##9',\n",
       " ',',\n",
       " 'rd',\n",
       " '##x',\n",
       " '[',\n",
       " 'e',\n",
       " '##oi',\n",
       " ']',\n",
       " '0',\n",
       " '##x',\n",
       " '##10',\n",
       " '##a',\n",
       " '##9',\n",
       " ':',\n",
       " 'pop',\n",
       " 'rs',\n",
       " '##i',\n",
       " '[',\n",
       " 'e',\n",
       " '##oi',\n",
       " ']',\n",
       " '0',\n",
       " '##x',\n",
       " '##10',\n",
       " '##aa',\n",
       " ':',\n",
       " 'mo',\n",
       " '##v',\n",
       " 'rd',\n",
       " '##x',\n",
       " ',',\n",
       " 'rs',\n",
       " '##p',\n",
       " '[',\n",
       " 'e',\n",
       " '##oi',\n",
       " ']',\n",
       " '[',\n",
       " 'look',\n",
       " ']',\n",
       " '0',\n",
       " '##x',\n",
       " '##10',\n",
       " '##ad',\n",
       " ':',\n",
       " 'and',\n",
       " 'rs',\n",
       " '##p',\n",
       " ',',\n",
       " '0',\n",
       " '##x',\n",
       " '##ff',\n",
       " '##ff',\n",
       " '##ff',\n",
       " '##ff',\n",
       " '##ff',\n",
       " '##ff',\n",
       " '##ff',\n",
       " '##f',\n",
       " '##0',\n",
       " '[',\n",
       " 'e',\n",
       " '##oi',\n",
       " ']',\n",
       " '[',\n",
       " 'look',\n",
       " ']',\n",
       " '0',\n",
       " '##x',\n",
       " '##10',\n",
       " '##b',\n",
       " '##1',\n",
       " ':',\n",
       " 'push',\n",
       " 'ra',\n",
       " '##x',\n",
       " '[',\n",
       " 'e',\n",
       " '##oi',\n",
       " ']',\n",
       " '0',\n",
       " '##x',\n",
       " '##10',\n",
       " '##b',\n",
       " '##2',\n",
       " ':',\n",
       " 'push',\n",
       " 'rs',\n",
       " '##p',\n",
       " '[',\n",
       " 'e',\n",
       " '##oi',\n",
       " ']',\n",
       " '0',\n",
       " '##x',\n",
       " '##10',\n",
       " '##b',\n",
       " '##3',\n",
       " ':',\n",
       " 'x',\n",
       " '##or',\n",
       " 'r',\n",
       " '##8',\n",
       " '##d',\n",
       " ',',\n",
       " 'r',\n",
       " '##8',\n",
       " '##d',\n",
       " '[',\n",
       " 'e',\n",
       " '##oi',\n",
       " ']',\n",
       " '0',\n",
       " '##x',\n",
       " '##10',\n",
       " '##b',\n",
       " '##6',\n",
       " ':',\n",
       " 'x',\n",
       " '##or',\n",
       " 'ec',\n",
       " '##x',\n",
       " ',',\n",
       " 'ec',\n",
       " '##x',\n",
       " '[',\n",
       " 'e',\n",
       " '##oi',\n",
       " ']',\n",
       " '0',\n",
       " '##x',\n",
       " '##10',\n",
       " '##b',\n",
       " '##8',\n",
       " ':',\n",
       " 'lea',\n",
       " 'rd',\n",
       " '##i',\n",
       " ',',\n",
       " '[',\n",
       " 'rip',\n",
       " '+',\n",
       " '0',\n",
       " '##x',\n",
       " '##ca',\n",
       " ']',\n",
       " '[',\n",
       " 'e',\n",
       " '##oi',\n",
       " ']',\n",
       " '[',\n",
       " 'look',\n",
       " ']',\n",
       " '0',\n",
       " '##x',\n",
       " '##10',\n",
       " '##bf',\n",
       " ':',\n",
       " 'call',\n",
       " 'q',\n",
       " '##word',\n",
       " 'pt',\n",
       " '##r',\n",
       " '[',\n",
       " 'rip',\n",
       " '+',\n",
       " '0',\n",
       " '##x',\n",
       " '##2',\n",
       " '##f',\n",
       " '##13',\n",
       " ']',\n",
       " '[',\n",
       " 'e',\n",
       " '##oi',\n",
       " ']',\n",
       " '[',\n",
       " 'look',\n",
       " ']',\n",
       " '0',\n",
       " '##x',\n",
       " '##10',\n",
       " '##c',\n",
       " '##5',\n",
       " ':',\n",
       " 'h',\n",
       " '##lt',\n",
       " '[',\n",
       " 'e',\n",
       " '##oi',\n",
       " ']']"
      ]
     },
     "execution_count": 6,
     "metadata": {},
     "output_type": "execute_result"
    }
   ],
   "source": [
    "example = all_input_list[0]\n",
    "print(example)\n",
    "\n",
    "tokens = old_tokenizer.tokenize(example)\n",
    "tokens"
   ]
  },
  {
   "cell_type": "code",
   "execution_count": 7,
   "id": "602f19b9",
   "metadata": {},
   "outputs": [
    {
     "name": "stdout",
     "output_type": "stream",
     "text": [
      "\n",
      "\n",
      "\n"
     ]
    }
   ],
   "source": [
    "tokenizer = old_tokenizer.train_new_from_iterator(training_corpus, 10000)"
   ]
  },
  {
   "cell_type": "code",
   "execution_count": 8,
   "id": "59e433cc",
   "metadata": {},
   "outputs": [
    {
     "name": "stdout",
     "output_type": "stream",
     "text": [
      "['0x10a0', ':', 'endbr64', '[', 'eoi', ']', '0x10', '##a4', ':', 'xor', 'ebp', ',', 'ebp', '[', 'eoi', ']', '0x10', '##a6', ':', 'mov', 'r', '##9', ',', 'rdx', '[', 'eoi', ']', '0x10', '##a9', ':', 'pop', 'rsi', '[', 'eoi', ']', '0x10', '##aa', ':', 'mov', 'rdx', ',', 'rsp', '[', 'eoi', ']', '[', 'look', ']', '0x10', '##ad', ':', 'and', 'rsp', ',', '0xffffffff', '##ffff', '##ff', '##f0', '[', 'eoi', ']', '[', 'look', ']', '0x10', '##b1', ':', 'push', 'rax', '[', 'eoi', ']', '0x10', '##b2', ':', 'push', 'rsp', '[', 'eoi', ']', '0x10', '##b3', ':', 'xor', 'r8d', ',', 'r8d', '[', 'eoi', ']', '0x10', '##b6', ':', 'xor', 'ecx', ',', 'ecx', '[', 'eoi', ']', '0x10', '##b8', ':', 'lea', 'rdi', ',', '[', 'rip', '+', '0xca', ']', '[', 'eoi', ']', '[', 'look', ']', '0x10', '##bf', ':', 'call', 'qword', 'ptr', '[', 'rip', '+', '0x2f', '##13', ']', '[', 'eoi', ']', '[', 'look', ']', '0x10', '##c5', ':', 'h', '##l', '##t', '[', 'eoi', ']']\n"
     ]
    }
   ],
   "source": [
    "tokens = tokenizer.tokenize(example)\n",
    "print(tokens)"
   ]
  },
  {
   "cell_type": "code",
   "execution_count": 9,
   "id": "08cf63e8",
   "metadata": {},
   "outputs": [
    {
     "data": {
      "text/plain": [
       "('multytask-tokenizer/tokenizer_config.json',\n",
       " 'multytask-tokenizer/special_tokens_map.json',\n",
       " 'multytask-tokenizer/vocab.txt',\n",
       " 'multytask-tokenizer/added_tokens.json',\n",
       " 'multytask-tokenizer/tokenizer.json')"
      ]
     },
     "execution_count": 9,
     "metadata": {},
     "output_type": "execute_result"
    }
   ],
   "source": [
    "tokenizer.save_pretrained(\"multytask-tokenizer\")"
   ]
  },
  {
   "cell_type": "code",
   "execution_count": 10,
   "id": "cedbac6d",
   "metadata": {},
   "outputs": [
    {
     "data": {
      "text/plain": [
       "<generator object get_training_corpus at 0x7fa7040ac580>"
      ]
     },
     "execution_count": 10,
     "metadata": {},
     "output_type": "execute_result"
    }
   ],
   "source": [
    "training_corpus"
   ]
  },
  {
   "cell_type": "code",
   "execution_count": 11,
   "id": "f16990fb",
   "metadata": {},
   "outputs": [],
   "source": [
    "\n",
    "#     break"
   ]
  },
  {
   "cell_type": "code",
   "execution_count": null,
   "id": "0f4737eb",
   "metadata": {},
   "outputs": [],
   "source": []
  }
 ],
 "metadata": {
  "kernelspec": {
   "display_name": "pytorch",
   "language": "python",
   "name": "pytorch"
  },
  "language_info": {
   "codemirror_mode": {
    "name": "ipython",
    "version": 3
   },
   "file_extension": ".py",
   "mimetype": "text/x-python",
   "name": "python",
   "nbconvert_exporter": "python",
   "pygments_lexer": "ipython3",
   "version": "3.8.16"
  }
 },
 "nbformat": 4,
 "nbformat_minor": 5
}
