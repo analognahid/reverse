{
 "cells": [
  {
   "cell_type": "code",
   "execution_count": 1,
   "id": "f2c2900d",
   "metadata": {},
   "outputs": [],
   "source": [
    "import sys,os, pickle\n"
   ]
  },
  {
   "cell_type": "code",
   "execution_count": null,
   "id": "3effc630",
   "metadata": {},
   "outputs": [],
   "source": [
    "with (open('data/typedata.ignore.pkl' , \"rb\")) as openfile:\n",
    "    TYPE_COUNT , TYPE_MAPPING ,ALL_INPUT_LIST, ALL_INPUT_SLICE_INFO ,ALL_LABEL_LIST,FINAL_TYPE_COUNT = pickle.load(openfile)\n",
    "\n"
   ]
  },
  {
   "cell_type": "code",
   "execution_count": null,
   "id": "7652990f",
   "metadata": {},
   "outputs": [],
   "source": [
    "def get_training_corpus():\n",
    "    dataset = ALL_INPUT_LIST\n",
    "    for start_idx in range(0, len(dataset), 100):\n",
    "        samples = dataset[start_idx : start_idx + 100]\n",
    "        yield [pslice for pslice in samples]\n",
    "\n",
    "training_corpus = get_training_corpus()"
   ]
  },
  {
   "cell_type": "code",
   "execution_count": null,
   "id": "508bc059",
   "metadata": {},
   "outputs": [],
   "source": [
    "# for t in list(training_corpus):\n",
    "#     print(t)\n",
    "#     break"
   ]
  },
  {
   "cell_type": "code",
   "execution_count": null,
   "id": "824c419d",
   "metadata": {},
   "outputs": [],
   "source": [
    "from transformers import AutoTokenizer\n",
    "\n",
    "old_tokenizer = AutoTokenizer.from_pretrained(\"bert-large-uncased\")"
   ]
  },
  {
   "cell_type": "code",
   "execution_count": null,
   "id": "705a3ad3",
   "metadata": {},
   "outputs": [],
   "source": [
    "example = ALL_INPUT_LIST[0]\n",
    "print(example)\n",
    "\n",
    "tokens = old_tokenizer.tokenize(example)\n",
    "tokens"
   ]
  },
  {
   "cell_type": "code",
   "execution_count": null,
   "id": "85ae7668",
   "metadata": {},
   "outputs": [],
   "source": [
    "special_tokens_dict = {'additional_special_tokens': ['[MASK]', '[EOI]', '[LOOK]']}\n",
    "num_added_toks = old_tokenizer.add_special_tokens(special_tokens_dict)"
   ]
  },
  {
   "cell_type": "code",
   "execution_count": null,
   "id": "602f19b9",
   "metadata": {},
   "outputs": [],
   "source": [
    "tokenizer = old_tokenizer.train_new_from_iterator(training_corpus, 4000)"
   ]
  },
  {
   "cell_type": "code",
   "execution_count": null,
   "id": "59e433cc",
   "metadata": {},
   "outputs": [],
   "source": [
    "tokens = tokenizer.tokenize(example)\n",
    "print((tokens))"
   ]
  },
  {
   "cell_type": "code",
   "execution_count": null,
   "id": "0dc4895d",
   "metadata": {},
   "outputs": [],
   "source": [
    "# special_tokens_dict = {'additional_special_tokens': ['[C1]','[C2]','[C3]','[C4]']}\n",
    "# num_added_toks = tokenizer.add_special_tokens(special_tokens_dict)\n",
    "# model.resize_token_embeddings(len(tokenizer))"
   ]
  },
  {
   "cell_type": "code",
   "execution_count": null,
   "id": "08cf63e8",
   "metadata": {},
   "outputs": [],
   "source": [
    "tokenizer.save_pretrained(\"multytask-tokenizer_bert_large_4k\")"
   ]
  },
  {
   "cell_type": "code",
   "execution_count": null,
   "id": "f86792f4",
   "metadata": {},
   "outputs": [],
   "source": [
    "\n",
    "# model.resize_token_embeddings(len(tokenizer))"
   ]
  },
  {
   "cell_type": "code",
   "execution_count": null,
   "id": "cedbac6d",
   "metadata": {},
   "outputs": [],
   "source": [
    "encoded = tokenizer.encode('[MASK]')\n",
    "decoded = tokenizer.decode(encoded)\n",
    "print(encoded, decoded)"
   ]
  },
  {
   "cell_type": "code",
   "execution_count": null,
   "id": "4b76b5be",
   "metadata": {},
   "outputs": [],
   "source": [
    "\n",
    "#     break"
   ]
  },
  {
   "cell_type": "code",
   "execution_count": null,
   "id": "fd3a645e",
   "metadata": {},
   "outputs": [],
   "source": []
  },
  {
   "cell_type": "code",
   "execution_count": null,
   "id": "ca78e31f",
   "metadata": {},
   "outputs": [],
   "source": []
  }
 ],
 "metadata": {
  "kernelspec": {
   "display_name": "pytorch",
   "language": "python",
   "name": "pytorch"
  },
  "language_info": {
   "codemirror_mode": {
    "name": "ipython",
    "version": 3
   },
   "file_extension": ".py",
   "mimetype": "text/x-python",
   "name": "python",
   "nbconvert_exporter": "python",
   "pygments_lexer": "ipython3",
   "version": "3.8.17"
  }
 },
 "nbformat": 4,
 "nbformat_minor": 5
}
