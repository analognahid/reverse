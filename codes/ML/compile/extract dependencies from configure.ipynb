{
 "cells": [
  {
   "cell_type": "code",
   "execution_count": 2,
   "id": "1e36923b",
   "metadata": {},
   "outputs": [
    {
     "name": "stdout",
     "output_type": "stream",
     "text": [
      "Required dependencies:\n",
      "GLIB],\n",
      "[no\n",
      "GUILE],\n",
      "ERROR!\n",
      "[HAVE_LOUDMOUTH=\"yes\"],\n",
      "libintl.h\n",
      "not\n",
      "[loudmouth-1.0],\n",
      "[guile-2.0],\n",
      "-ltermcap],[readline],[RLLIBS=\"-lreadline\n",
      "[glib-2.0],\n",
      "[HAVE_GLIB_2=\"yes\"],\n",
      "readline\n",
      "[HAVE_GUILE_3=\"no\"\n",
      "-ltermcap\"\n",
      "-lncurses\"\n",
      "[pkg-config],\n",
      "found...\n",
      "[HAVE_GUILE_2_2=\"no\"\n",
      "[HAVE_GUILE_2_2=\"yes\"],\n",
      "-lncurses],[readline],[RLLIBS=\"-lreadline\n",
      "[HAVE_GUILE_2=\"yes\"],\n",
      "LOUDMOUTH],\n",
      "[HAVE_GUILE_2=\"no\"\n",
      "[HAVE_LOUDMOUTH=\"no\"\n",
      "[yes],\n",
      "-lcurses\"\n",
      "[HAVE_GLIB_2=\"no\"\n",
      "-lcurses],[readline],[RLLIBS=\"-lreadline\n",
      "[guile-2.2],\n",
      "[HAVE_GUILE_3=\"yes\"],\n",
      "PKGCONFIG],\n",
      "[guile-3.0],\n"
     ]
    }
   ],
   "source": [
    "import re\n",
    "\n",
    "def extract_dependencies(configure_file_path):\n",
    "    dependencies = set()\n",
    "\n",
    "    with open(configure_file_path, 'r') as configure_file:\n",
    "        for line in configure_file:\n",
    "            # Look for configure script options\n",
    "            match = re.search(r'--(?:with|enable)-(\\w+)', line)\n",
    "            if match:\n",
    "                dependency = match.group(1)\n",
    "                dependencies.add(dependency)\n",
    "\n",
    "            # Look for configuration checks\n",
    "            match = re.search(r'(?:AC|PKG)_CHECK_.*\\(\\[?(.*?)\\]?\\)', line)\n",
    "            if match:\n",
    "                dependencies.update(match.group(1).split())\n",
    "\n",
    "    return dependencies\n",
    "\n",
    "# Usage example\n",
    "configure_file_path = '/home/nahid/projects_decompressed/freetalk-4.2/' + 'configure.ac'\n",
    "dependencies = extract_dependencies(configure_file_path)\n",
    "print(\"Required dependencies:\")\n",
    "for dependency in dependencies:\n",
    "    print(dependency)"
   ]
  },
  {
   "cell_type": "code",
   "execution_count": null,
   "id": "513ab830",
   "metadata": {},
   "outputs": [],
   "source": []
  }
 ],
 "metadata": {
  "kernelspec": {
   "display_name": "angr",
   "language": "python",
   "name": "angr"
  },
  "language_info": {
   "codemirror_mode": {
    "name": "ipython",
    "version": 3
   },
   "file_extension": ".py",
   "mimetype": "text/x-python",
   "name": "python",
   "nbconvert_exporter": "python",
   "pygments_lexer": "ipython3",
   "version": "3.9.16"
  }
 },
 "nbformat": 4,
 "nbformat_minor": 5
}
