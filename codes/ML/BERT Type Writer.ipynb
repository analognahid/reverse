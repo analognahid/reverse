{
 "cells": [
  {
   "cell_type": "code",
   "execution_count": 1,
   "id": "af388b2f",
   "metadata": {},
   "outputs": [
    {
     "name": "stdout",
     "output_type": "stream",
     "text": [
      "cuda True\n"
     ]
    }
   ],
   "source": [
    "import torch\n",
    "\n",
    "device = torch.device('cuda') if torch.cuda.is_available() else torch.device('cpu')\n",
    "print(device ,torch.cuda.is_available())"
   ]
  },
  {
   "cell_type": "code",
   "execution_count": 2,
   "id": "1c86ae04",
   "metadata": {},
   "outputs": [
    {
     "data": {
      "text/plain": [
       "True"
      ]
     },
     "execution_count": 2,
     "metadata": {},
     "output_type": "execute_result"
    }
   ],
   "source": [
    "torch.cuda.is_available()"
   ]
  },
  {
   "cell_type": "code",
   "execution_count": 3,
   "id": "de072e98",
   "metadata": {},
   "outputs": [],
   "source": [
    "import sys,os, pickle\n",
    "\n",
    "import torch.nn as nn\n",
    "from transformers import BertModel, BertTokenizer\n",
    "from transformers import BertForMaskedLM\n",
    "from torch.utils.data import DataLoader, Dataset\n",
    "from torch.utils.data import TensorDataset, random_split\n",
    "from transformers import AdamW\n",
    "from tqdm import tqdm  # for our progress bar\n",
    "\n",
    "from sklearn.metrics import precision_recall_fscore_support , accuracy_score\n",
    "import numpy as np\n",
    "from transformers import AutoModelForSequenceClassification\n",
    "\n",
    "import random\n",
    "\n",
    "\n",
    "EXPERIMENT_NAME=\"TYPE_WRITER_4090\"\n",
    "\n",
    "BATCH_SIZE = 28\n",
    "MAX_TOKEN_SIZE = 512\n"
   ]
  },
  {
   "cell_type": "code",
   "execution_count": 4,
   "id": "46d98a33",
   "metadata": {},
   "outputs": [],
   "source": [
    "TYPE_MAPPING ={'int': 0, '*structure': 1, 'array_char': 2, '*char': 3, '*int': 4, \n",
    "               'array_int': 5, 'char': 6, 'double': 7, '**char': 8, 'unsigned int': 9,\n",
    "                 'long int': 10, 'float': 11, 'long unsigned int': 12, 'structure': 13, \n",
    "                 'const': 14, '*const': 15, 'long long unsigned int': 16, '*enumeration': 17,\n",
    "                   'unsigned char': 18, 'long long int': 19, '*unsigned char': 20, \n",
    "                   '*float': 21, '**int': 22, '*double': 23, '**structure': 24, '*union': 25, \n",
    "                   'short unsigned int': 26, 'enumeration': 27, '*array_int': 28, \n",
    "                   'array_double': 29, '*array_float': 30, 'array_structure': 31, \n",
    "                   'array_*char': 32, 'short int': 33, 'array_float': 34, '*unsigned int': 35, \n",
    "                   'union': 36, '*array_char': 37, '*array_const': 38, \n",
    "                   'array_unsigned char': 39, 'signed char': 40, 'array_long int': 41}\n",
    "\n",
    "    "
   ]
  },
  {
   "cell_type": "code",
   "execution_count": 5,
   "id": "37270a60",
   "metadata": {},
   "outputs": [
    {
     "name": "stdout",
     "output_type": "stream",
     "text": [
      "{'int': 4789225, '*structure': 990126, 'array_char': 242666, '*char': 447730, '*int': 392100, 'array_int': 171047, 'char': 171458, 'double': 92344, '**char': 67464, 'unsigned int': 93965, 'long int': 58597, 'float': 120914, 'long unsigned int': 27358, 'structure': 99806, 'const': 16382, '*const': 49380, 'long long unsigned int': 10813, '*enumeration': 879, 'unsigned char': 15964, 'long long int': 34673, '*unsigned char': 13673, '*float': 7945, '**int': 30395, '*double': 12373, '**structure': 73578, '*union': 7756, 'short unsigned int': 10121, 'enumeration': 10257, '*array_int': 23925, 'array_double': 4071, '*array_float': 501, 'array_structure': 9710, 'array_*char': 6746, 'short int': 7764, 'array_float': 5232, '*unsigned int': 4148, 'union': 3215, '*array_char': 15148, '*array_const': 1339, 'array_unsigned char': 2511, 'signed char': 1465, 'array_long int': 2023}\n",
      "300 4789225 int\n",
      "300 990126 *structure\n",
      "300 242666 array_char\n",
      "300 447730 *char\n",
      "300 392100 *int\n",
      "300 171047 array_int\n",
      "300 171458 char\n",
      "300 92344 double\n",
      "300 67464 **char\n",
      "300 93965 unsigned int\n",
      "300 58597 long int\n",
      "300 120914 float\n",
      "300 27358 long unsigned int\n",
      "300 99806 structure\n",
      "300 16382 const\n",
      "300 49380 *const\n",
      "300 10813 long long unsigned int\n",
      "300 879 *enumeration\n",
      "300 15964 unsigned char\n",
      "300 34673 long long int\n",
      "300 13673 *unsigned char\n",
      "300 7945 *float\n",
      "300 30395 **int\n",
      "300 12373 *double\n",
      "300 73578 **structure\n",
      "300 7756 *union\n",
      "300 10121 short unsigned int\n",
      "300 10257 enumeration\n",
      "300 23925 *array_int\n",
      "300 4071 array_double\n",
      "300 501 *array_float\n",
      "300 9710 array_structure\n",
      "300 6746 array_*char\n",
      "300 7764 short int\n",
      "300 5232 array_float\n",
      "300 4148 *unsigned int\n",
      "300 3215 union\n",
      "300 15148 *array_char\n",
      "300 1339 *array_const\n",
      "300 2511 array_unsigned char\n",
      "300 1465 signed char\n",
      "300 2023 array_long int\n",
      "{'int': 6.264061513084059e-05, '*structure': 0.00030299174044515545, 'array_char': 0.0012362671326020126, '*char': 0.000670046679918701, '*int': 0.0007651109410864575, 'array_int': 0.0017539038977590954, 'char': 0.0017496996348960094, 'double': 0.0032487221692800833, '**char': 0.004446816079686944, 'unsigned int': 0.0031926781248337146, 'long int': 0.005119716026417735, 'float': 0.002481102271035612, 'long unsigned int': 0.010965713867972805, 'structure': 0.0030058313127467287, 'const': 0.018312782322060798, '*const': 0.006075334143377886, 'long long unsigned int': 0.027744381762693053, '*enumeration': 0.3412969283276451, 'unsigned char': 0.018792282635930843, 'long long int': 0.008652265451504052, '*unsigned char': 0.021941051707745192, '*float': 0.03775959723096287, '**int': 0.009870044415199869, '*double': 0.024246342843287805, '**structure': 0.0040773057163826145, '*union': 0.038679731820526045, 'short unsigned int': 0.029641339788558443, 'enumeration': 0.029248318221702253, '*array_int': 0.012539184952978056, 'array_double': 0.07369196757553427, '*array_float': 0.5988023952095808, 'array_structure': 0.030895983522142123, 'array_*char': 0.04447079750963534, 'short int': 0.03863987635239567, 'array_float': 0.05733944954128441, '*unsigned int': 0.07232401157184185, 'union': 0.09331259720062209, '*array_char': 0.019804594665962502, '*array_const': 0.22404779686333084, 'array_unsigned char': 0.11947431302270012, 'signed char': 0.20477815699658702, 'array_long int': 0.14829461196243204}\n"
     ]
    }
   ],
   "source": [
    "DATA_PATH = '/media/raisul/nahid_personal/instructions_and_type_data_100k_old/'\n",
    "MODEL_SAVE_PATH =  '/home/raisul/models'\n",
    "TYPE_COUNT ={}\n",
    "FINAL_TYPE_COUNT = {}\n",
    "TYPE_PROBABILITY = {}\n",
    "\n",
    "for key in TYPE_MAPPING.keys():\n",
    "    TYPE_COUNT[key] = 0\n",
    "    FINAL_TYPE_COUNT[key] = 0\n",
    "    \n",
    "MAX_TYPE_SAMPLE  =10000\n",
    "ALL_INPUT_LIST = []\n",
    "ALL_INPUT_SLICE_INFO  = []\n",
    "ALL_LABEL_LIST = []\n",
    "#TODO dont load all at a time in memry\n",
    "def make_dataset():\n",
    "\n",
    "    #count how many real samples\n",
    "    for fi,pkl_file_name in enumerate(os.listdir(DATA_PATH)):\n",
    "        pkl_path = os.path.join(DATA_PATH,pkl_file_name)\n",
    "        with open(pkl_path, 'rb') as file:\n",
    "            try:\n",
    "                model_input_list, model_label_list = pickle.load(file)\n",
    "            except Exception as e:\n",
    "                pass\n",
    "            for i in range(len(model_input_list)):\n",
    "\n",
    "                type_str = model_label_list[i]\n",
    "\n",
    "                TYPE_COUNT[type_str] +=1\n",
    "    \n",
    "    print(TYPE_COUNT)\n",
    "    #make the probability\n",
    "    for key in TYPE_COUNT.keys():\n",
    "        print(MAX_TYPE_SAMPLE , TYPE_COUNT[key] ,key)\n",
    "        TYPE_PROBABILITY[key] = MAX_TYPE_SAMPLE/TYPE_COUNT[key]\n",
    "    \n",
    "    print(TYPE_PROBABILITY)\n",
    "    #fill dataset with that probability\n",
    "    for fi,pkl_file_name in enumerate(os.listdir(DATA_PATH)):\n",
    "        pkl_path = os.path.join(DATA_PATH,pkl_file_name)\n",
    "\n",
    "        with open(pkl_path, 'rb') as file:\n",
    "            try:\n",
    "                model_input_list, model_label_list = pickle.load(file)\n",
    "            except Exception as e:\n",
    "                pass\n",
    "            for i in range(len(model_input_list)):\n",
    "\n",
    "                type_str = model_label_list[i]\n",
    "                type_label = TYPE_MAPPING[type_str]\n",
    "                backward_slice , target_slice, forward_slice = model_input_list[i]\n",
    "\n",
    "                if random.random()<=TYPE_PROBABILITY[type_str]:\n",
    "\n",
    "                    ALL_INPUT_LIST.append(backward_slice + target_slice + forward_slice)\n",
    "                    ALL_INPUT_SLICE_INFO.append([len(backward_slice) , len(target_slice) , len(forward_slice)])\n",
    "                    ALL_LABEL_LIST.append(type_label)\n",
    "                    \n",
    "                    FINAL_TYPE_COUNT[type_str]+=1\n",
    "make_dataset()"
   ]
  },
  {
   "cell_type": "code",
   "execution_count": 6,
   "id": "a84fac9f",
   "metadata": {},
   "outputs": [
    {
     "name": "stdout",
     "output_type": "stream",
     "text": [
      "{'int': 4789225, '*structure': 990126, 'array_char': 242666, '*char': 447730, '*int': 392100, 'array_int': 171047, 'char': 171458, 'double': 92344, '**char': 67464, 'unsigned int': 93965, 'long int': 58597, 'float': 120914, 'long unsigned int': 27358, 'structure': 99806, 'const': 16382, '*const': 49380, 'long long unsigned int': 10813, '*enumeration': 879, 'unsigned char': 15964, 'long long int': 34673, '*unsigned char': 13673, '*float': 7945, '**int': 30395, '*double': 12373, '**structure': 73578, '*union': 7756, 'short unsigned int': 10121, 'enumeration': 10257, '*array_int': 23925, 'array_double': 4071, '*array_float': 501, 'array_structure': 9710, 'array_*char': 6746, 'short int': 7764, 'array_float': 5232, '*unsigned int': 4148, 'union': 3215, '*array_char': 15148, '*array_const': 1339, 'array_unsigned char': 2511, 'signed char': 1465, 'array_long int': 2023}\n",
      "{'int': 6.264061513084059e-05, '*structure': 0.00030299174044515545, 'array_char': 0.0012362671326020126, '*char': 0.000670046679918701, '*int': 0.0007651109410864575, 'array_int': 0.0017539038977590954, 'char': 0.0017496996348960094, 'double': 0.0032487221692800833, '**char': 0.004446816079686944, 'unsigned int': 0.0031926781248337146, 'long int': 0.005119716026417735, 'float': 0.002481102271035612, 'long unsigned int': 0.010965713867972805, 'structure': 0.0030058313127467287, 'const': 0.018312782322060798, '*const': 0.006075334143377886, 'long long unsigned int': 0.027744381762693053, '*enumeration': 0.3412969283276451, 'unsigned char': 0.018792282635930843, 'long long int': 0.008652265451504052, '*unsigned char': 0.021941051707745192, '*float': 0.03775959723096287, '**int': 0.009870044415199869, '*double': 0.024246342843287805, '**structure': 0.0040773057163826145, '*union': 0.038679731820526045, 'short unsigned int': 0.029641339788558443, 'enumeration': 0.029248318221702253, '*array_int': 0.012539184952978056, 'array_double': 0.07369196757553427, '*array_float': 0.5988023952095808, 'array_structure': 0.030895983522142123, 'array_*char': 0.04447079750963534, 'short int': 0.03863987635239567, 'array_float': 0.05733944954128441, '*unsigned int': 0.07232401157184185, 'union': 0.09331259720062209, '*array_char': 0.019804594665962502, '*array_const': 0.22404779686333084, 'array_unsigned char': 0.11947431302270012, 'signed char': 0.20477815699658702, 'array_long int': 0.14829461196243204}\n",
      "{'int': 313, '*structure': 315, 'array_char': 269, '*char': 300, '*int': 284, 'array_int': 290, 'char': 298, 'double': 295, '**char': 285, 'unsigned int': 289, 'long int': 245, 'float': 277, 'long unsigned int': 256, 'structure': 312, 'const': 305, '*const': 280, 'long long unsigned int': 290, '*enumeration': 279, 'unsigned char': 297, 'long long int': 279, '*unsigned char': 316, '*float': 326, '**int': 284, '*double': 290, '**structure': 316, '*union': 295, 'short unsigned int': 305, 'enumeration': 299, '*array_int': 315, 'array_double': 313, '*array_float': 286, 'array_structure': 293, 'array_*char': 335, 'short int': 309, 'array_float': 288, '*unsigned int': 280, 'union': 314, '*array_char': 291, '*array_const': 294, 'array_unsigned char': 288, 'signed char': 294, 'array_long int': 301}\n"
     ]
    }
   ],
   "source": [
    "print(TYPE_COUNT)\n",
    "\n",
    "print(TYPE_PROBABILITY)\n",
    "print(FINAL_TYPE_COUNT)"
   ]
  },
  {
   "cell_type": "code",
   "execution_count": 7,
   "id": "a747f410",
   "metadata": {},
   "outputs": [
    {
     "name": "stdout",
     "output_type": "stream",
     "text": [
      "12390\n"
     ]
    }
   ],
   "source": [
    "print(len(ALL_INPUT_LIST))"
   ]
  },
  {
   "cell_type": "code",
   "execution_count": 8,
   "id": "a256faa4",
   "metadata": {},
   "outputs": [
    {
     "name": "stdout",
     "output_type": "stream",
     "text": [
      "4 6 5\n"
     ]
    }
   ],
   "source": [
    "tokenizer  = BertTokenizer.from_pretrained(\"./multytask-tokenizer\")\n",
    "\n",
    "#https://github.com/huggingface/tokenizers/issues/247\n",
    "\n",
    "mask_token_id, look_token_id, eoi_token_id = tokenizer.encode('[MASK] [LOOK] [EOI]')[1:-1]\n",
    "\n",
    "print(mask_token_id, look_token_id, eoi_token_id)"
   ]
  },
  {
   "cell_type": "code",
   "execution_count": 9,
   "id": "3aa991f1",
   "metadata": {},
   "outputs": [
    {
     "name": "stdout",
     "output_type": "stream",
     "text": [
      "VOCAB SIZE :  17697\n"
     ]
    }
   ],
   "source": [
    "\n",
    "VOCAB_SIZE = tokenizer.vocab_size\n",
    "\n",
    "print('VOCAB SIZE : ', (tokenizer.vocab_size))"
   ]
  },
  {
   "cell_type": "code",
   "execution_count": null,
   "id": "82ddc34e",
   "metadata": {},
   "outputs": [],
   "source": [
    "\n",
    "\n"
   ]
  },
  {
   "cell_type": "code",
   "execution_count": 10,
   "id": "80c7d400",
   "metadata": {},
   "outputs": [
    {
     "name": "stderr",
     "output_type": "stream",
     "text": [
      "Some weights of BertForSequenceClassification were not initialized from the model checkpoint at bert-base-cased and are newly initialized: ['classifier.weight', 'classifier.bias']\n",
      "You should probably TRAIN this model on a down-stream task to be able to use it for predictions and inference.\n"
     ]
    },
    {
     "data": {
      "text/plain": [
       "BertForSequenceClassification(\n",
       "  (bert): BertModel(\n",
       "    (embeddings): BertEmbeddings(\n",
       "      (word_embeddings): Embedding(28996, 768, padding_idx=0)\n",
       "      (position_embeddings): Embedding(512, 768)\n",
       "      (token_type_embeddings): Embedding(2, 768)\n",
       "      (LayerNorm): LayerNorm((768,), eps=1e-12, elementwise_affine=True)\n",
       "      (dropout): Dropout(p=0.1, inplace=False)\n",
       "    )\n",
       "    (encoder): BertEncoder(\n",
       "      (layer): ModuleList(\n",
       "        (0-11): 12 x BertLayer(\n",
       "          (attention): BertAttention(\n",
       "            (self): BertSelfAttention(\n",
       "              (query): Linear(in_features=768, out_features=768, bias=True)\n",
       "              (key): Linear(in_features=768, out_features=768, bias=True)\n",
       "              (value): Linear(in_features=768, out_features=768, bias=True)\n",
       "              (dropout): Dropout(p=0.1, inplace=False)\n",
       "            )\n",
       "            (output): BertSelfOutput(\n",
       "              (dense): Linear(in_features=768, out_features=768, bias=True)\n",
       "              (LayerNorm): LayerNorm((768,), eps=1e-12, elementwise_affine=True)\n",
       "              (dropout): Dropout(p=0.1, inplace=False)\n",
       "            )\n",
       "          )\n",
       "          (intermediate): BertIntermediate(\n",
       "            (dense): Linear(in_features=768, out_features=3072, bias=True)\n",
       "            (intermediate_act_fn): GELUActivation()\n",
       "          )\n",
       "          (output): BertOutput(\n",
       "            (dense): Linear(in_features=3072, out_features=768, bias=True)\n",
       "            (LayerNorm): LayerNorm((768,), eps=1e-12, elementwise_affine=True)\n",
       "            (dropout): Dropout(p=0.1, inplace=False)\n",
       "          )\n",
       "        )\n",
       "      )\n",
       "    )\n",
       "    (pooler): BertPooler(\n",
       "      (dense): Linear(in_features=768, out_features=768, bias=True)\n",
       "      (activation): Tanh()\n",
       "    )\n",
       "  )\n",
       "  (dropout): Dropout(p=0.1, inplace=False)\n",
       "  (classifier): Linear(in_features=768, out_features=42, bias=True)\n",
       ")"
      ]
     },
     "execution_count": 10,
     "metadata": {},
     "output_type": "execute_result"
    }
   ],
   "source": [
    "# Create model instance\n",
    "#TODO*** USE PRETRAINED\n",
    "model = AutoModelForSequenceClassification.from_pretrained(\"bert-base-cased\", num_labels=len(TYPE_MAPPING.items()))\n",
    "model.to(device)\n",
    "\n",
    "\n"
   ]
  },
  {
   "cell_type": "code",
   "execution_count": 11,
   "id": "88bd9a8a",
   "metadata": {
    "scrolled": true
   },
   "outputs": [],
   "source": [
    "\n",
    "# Tokenize input text\n",
    "# inputs = tokenizer(input_text, padding=True, truncation=True, return_tensors='pt')\n",
    "# inputs = tokenizer(ALL_INPUT_LIST, max_length= MAX_TOKEN_SIZE,padding='max_length', truncation=True , return_tensors='pt')\n",
    "# print(inputs.keys())\n",
    "\n",
    "# labels = ALL_LABEL_LIST.to(device)"
   ]
  },
  {
   "cell_type": "code",
   "execution_count": 12,
   "id": "70219d97",
   "metadata": {},
   "outputs": [],
   "source": [
    "# print(inputs.keys())\n",
    "# print(inputs.token_type_ids)\n",
    "# inputs.token_type_ids[0][0] =1\n",
    "# print(inputs.token_type_ids)\n",
    "# #TODO set token type ids"
   ]
  },
  {
   "cell_type": "code",
   "execution_count": 13,
   "id": "bd332543",
   "metadata": {},
   "outputs": [],
   "source": [
    "# class BinaryDataset(torch.utils.data.Dataset):\n",
    "#     def __init__(self, encodings):\n",
    "#         self.encodings = encodings\n",
    "#     def __getitem__(self, idx):\n",
    "#         return {key: torch.tensor(val[idx]) for key, val in self.encodings.items()}\n",
    "#     def __len__(self):\n",
    "#         return len(self.encodings.input_ids)"
   ]
  },
  {
   "cell_type": "code",
   "execution_count": 14,
   "id": "4b2d13fb",
   "metadata": {},
   "outputs": [],
   "source": [
    "class BinaryDataset(torch.utils.data.Dataset):\n",
    "    def __init__(self, texts, labels, tokenizer):\n",
    "        self.texts = texts\n",
    "        self.labels = labels\n",
    "        self.tokenizer = tokenizer\n",
    "        \n",
    "    def __getitem__(self, index):\n",
    "        text = self.texts[index]\n",
    "        label = self.labels[index]\n",
    "        \n",
    "        # Tokenize the text\n",
    "        tokenized_text = (self.tokenizer(text , max_length= MAX_TOKEN_SIZE,padding='max_length', truncation=True , return_tensors='pt')).to(device)\n",
    "        \n",
    "        # Convert tokens to input IDs\n",
    "#         input_ids = self.tokenizer.convert_tokens_to_ids(tokenized_text)\n",
    "        \n",
    "        # Create input tensors\n",
    "#         input_ids = tokenized_text['input_ids']  #torch.tensor(input_ids)\n",
    "        label = torch.tensor([label]).to(device)\n",
    "        \n",
    "        return tokenized_text, label\n",
    "        \n",
    "#         return {key: torch.tensor(val[idx]) for key, val in self.encodings.items()}\n",
    "    def __len__(self):\n",
    "        return len(self.texts)"
   ]
  },
  {
   "cell_type": "code",
   "execution_count": 15,
   "id": "820b1ce1",
   "metadata": {},
   "outputs": [
    {
     "name": "stdout",
     "output_type": "stream",
     "text": [
      "12390 12390\n"
     ]
    }
   ],
   "source": [
    "print(len(ALL_INPUT_LIST ), len(ALL_LABEL_LIST))"
   ]
  },
  {
   "cell_type": "code",
   "execution_count": 16,
   "id": "6640b932",
   "metadata": {},
   "outputs": [],
   "source": [
    "dataset = BinaryDataset(ALL_INPUT_LIST, ALL_LABEL_LIST,tokenizer)\n",
    "train_size = int(0.8 * len(dataset))\n",
    "validation_size = len(dataset) - train_size\n",
    "\n",
    "train_dataset, validation_dataset = torch.utils.data.random_split(dataset, [train_size, validation_size])\n",
    "train_loader      = torch.utils.data.DataLoader(train_dataset, batch_size=BATCH_SIZE, shuffle=True)\n",
    "validation_loader = torch.utils.data.DataLoader(validation_dataset, batch_size=BATCH_SIZE, shuffle=True)"
   ]
  },
  {
   "cell_type": "code",
   "execution_count": 17,
   "id": "44653e9e",
   "metadata": {},
   "outputs": [],
   "source": [
    "# global_task2_metrices, global_task1_metrices ,v_global_task1_metrices, v_global_task2_metrices\n",
    "\n",
    "from numpy import *\n",
    "import math\n",
    "import matplotlib.pyplot as plt\n",
    "\n",
    "\n",
    "def plot_graph(task1_metrices,   v_task1_metrices, label = \"TypeGraph\" ):\n",
    "    \n",
    "    plt.ioff()\n",
    "\n",
    "    font_size = 10\n",
    "    x_labels = [ i for i in range(len(task1_metrices)) ]\n",
    "    \n",
    "    task1_f1 = [ i['f1'] for i in task1_metrices ]\n",
    "\n",
    "    \n",
    "    v_task1_f1 = [ i['f1'] for i in v_task1_metrices ]\n",
    "\n",
    "    \n",
    "\n",
    "    plt.ylabel(' F1 ',fontsize=font_size)\n",
    "    plt.plot(x_labels, task1_f1 , 'r') \n",
    "\n",
    "    \n",
    "    plt.plot(x_labels, v_task1_f1 , 'r' , linestyle = '--') \n",
    "\n",
    "    \n",
    "    plt.xlabel(\"Epoch\", fontsize=font_size)\n",
    "    plt.title(label,fontsize=font_size)\n",
    "    plt.legend([' Type Train',  'Type Val' ], loc='upper left')\n",
    "    \n",
    "    plt.savefig('./output/'+label+'_f1.pdf')\n",
    "    plt.close()\n",
    "    plt.show()\n",
    "    \n",
    "    ################################\n",
    "    ################# LOSS #########\n",
    "    ################################\n",
    "    \n",
    "    task1_loss = [ i['loss'] for i in task1_metrices ]\n",
    "\n",
    "    \n",
    "    v_task1_loss = [ i['loss'] for i in v_task1_metrices ]\n",
    "    \n",
    "\n",
    "    plt.ylabel(' LOSS ',fontsize=font_size)\n",
    "    plt.plot(x_labels, task1_loss , 'r') \n",
    "    \n",
    "    plt.plot(x_labels, v_task1_loss , 'r' , linestyle = '--') \n",
    "\n",
    "    \n",
    "    plt.xlabel(\"Epoch\", fontsize=font_size)\n",
    "    plt.title(label,fontsize=font_size)\n",
    "    plt.legend([' Type Train',  'Type Val'], loc='upper left')\n",
    "    \n",
    "    plt.savefig('./output/'+label+'_loss.pdf')\n",
    "    plt.close()\n",
    "    plt.show()\n",
    "    \n",
    "    "
   ]
  },
  {
   "cell_type": "code",
   "execution_count": 18,
   "id": "5142580f",
   "metadata": {},
   "outputs": [],
   "source": [
    "import numpy as np\n",
    "import matplotlib.pyplot as plt\n",
    "from sklearn.metrics import confusion_matrix\n",
    "from sklearn.metrics import multilabel_confusion_matrix,ConfusionMatrixDisplay\n",
    "import seaborn as sns\n",
    "\n",
    "def plot_confusion_matrix(true_labels, predicted_labels, label='confusion_matrix'):\n",
    "\n",
    "    class_labels = list(TYPE_MAPPING.keys())  \n",
    "    class_labels = [c for c in class_labels]\n",
    "\n",
    "    cm = confusion_matrix(true_labels, predicted_labels ) \n",
    "    \n",
    "    fig, ax = plt.subplots(figsize=(20, 20))\n",
    "    \n",
    "    res = sns.heatmap(cm,\n",
    "            annot=True , cmap=\"Blues\" , fmt='g' , xticklabels=class_labels,linewidths = .01,\n",
    "                      yticklabels=class_labels,linecolor=\"Gray\")\n",
    "    for _, spine in res.spines.items():\n",
    "        spine.set_visible(True)\n",
    "        spine.set_linewidth(1)\n",
    "    \n",
    "    plt.ylabel('Actual',fontsize=13)\n",
    "    plt.xlabel('Prediction',fontsize=13)\n",
    "    plt.title('Confusion Matrix',fontsize=17)\n",
    "    plt.savefig('./output/'+label+'_conf.pdf',dpi=200)\n",
    "    plt.show()\n",
    "    plt.close()\n",
    "# plot_confusion_matrix(v_ground_truth_s , v_prediction_s ,label=EXPERIMENT_NAME)"
   ]
  },
  {
   "cell_type": "code",
   "execution_count": 19,
   "id": "d4054b13",
   "metadata": {},
   "outputs": [
    {
     "name": "stderr",
     "output_type": "stream",
     "text": [
      "/home/raisul/anaconda3/envs/pytorch/lib/python3.8/site-packages/transformers/optimization.py:411: FutureWarning: This implementation of AdamW is deprecated and will be removed in a future version. Use the PyTorch implementation torch.optim.AdamW instead, or set `no_deprecation_warning=True` to disable this warning\n",
      "  warnings.warn(\n"
     ]
    }
   ],
   "source": [
    "\n",
    "\n",
    "# initialize optimizer\n",
    "optim = AdamW( model.parameters() , lr=5e-6)\n",
    "criterion = nn.CrossEntropyLoss()"
   ]
  },
  {
   "cell_type": "code",
   "execution_count": 20,
   "id": "d84807a0",
   "metadata": {},
   "outputs": [],
   "source": [
    "def training_loop(model ,data_loop, is_training = False):\n",
    "    \n",
    "    prediction_s, ground_truth_s = [], []\n",
    "    losses = []\n",
    "\n",
    "    for N,batch in enumerate(data_loop):\n",
    "        \n",
    "        \n",
    "        # Forward pass\n",
    "        if is_training == True:\n",
    "            optim.zero_grad()\n",
    "        \n",
    "        batch_input, batch_labels = batch\n",
    "        if len(batch_labels)<BATCH_SIZE:\n",
    "            continue\n",
    "        batch_input_ids= batch_input['input_ids']\n",
    "        batch_attention_mask=batch_input['attention_mask']\n",
    "        batch_token_type_ids =batch_input['token_type_ids']\n",
    "\n",
    "        outputs = model(input_ids=batch_input_ids.squeeze(),\n",
    "                        attention_mask=batch_attention_mask.squeeze(),\n",
    "                        token_type_ids=batch_token_type_ids.squeeze(),\n",
    "                        labels=batch_labels )\n",
    "        \n",
    "#\n",
    "\n",
    "        loss = outputs.loss\n",
    "        losses.append(loss.item())\n",
    "        \n",
    "        logits = outputs.logits\n",
    "        predictions = torch.argmax(logits, dim=1)\n",
    "        \n",
    "\n",
    "\n",
    "        prediction_s.extend(predictions.detach().cpu().numpy().flatten())\n",
    "        ground_truth_s.extend(batch_labels.detach().cpu().numpy().flatten())\n",
    "\n",
    "\n",
    "        if is_training == True:\n",
    "            loss.backward()\n",
    "            optim.step()\n",
    "\n",
    "\n",
    "        # print relevant info to progress bar\n",
    "        data_loop.set_description(f'Epoch {ecpoch}')\n",
    "        data_loop.set_postfix(loss=loss.item())\n",
    "\n",
    "    ###### Training Scores\n",
    "    accuracy = accuracy_score(ground_truth_s, prediction_s)    \n",
    "    precision, recall, f1, _ = precision_recall_fscore_support(ground_truth_s,prediction_s,average='weighted')\n",
    "    metrices = {'accuracy':accuracy ,\n",
    "                      'precision':precision, \n",
    "                      'recall':recall, \n",
    "                      'f1':f1,\n",
    "                      'loss': (sum(losses) / len(losses))}\n",
    "    \n",
    "\n",
    "\n",
    "    return metrices , prediction_s, ground_truth_s\n",
    "    "
   ]
  },
  {
   "cell_type": "code",
   "execution_count": 21,
   "id": "1d81a74d",
   "metadata": {},
   "outputs": [
    {
     "name": "stderr",
     "output_type": "stream",
     "text": [
      "Epoch 0:   0%|▎                                                                                                 | 1/310 [00:03<16:14,  3.15s/it, loss=3.75]\n"
     ]
    },
    {
     "ename": "OutOfMemoryError",
     "evalue": "CUDA out of memory. Tried to allocate 192.00 MiB (GPU 0; 23.63 GiB total capacity; 20.74 GiB already allocated; 158.81 MiB free; 20.85 GiB reserved in total by PyTorch) If reserved memory is >> allocated memory try setting max_split_size_mb to avoid fragmentation.  See documentation for Memory Management and PYTORCH_CUDA_ALLOC_CONF",
     "output_type": "error",
     "traceback": [
      "\u001b[0;31m---------------------------------------------------------------------------\u001b[0m",
      "\u001b[0;31mOutOfMemoryError\u001b[0m                          Traceback (most recent call last)",
      "Cell \u001b[0;32mIn[21], line 12\u001b[0m\n\u001b[1;32m     10\u001b[0m train_loop \u001b[38;5;241m=\u001b[39m tqdm(train_loader, leave\u001b[38;5;241m=\u001b[39m\u001b[38;5;28;01mTrue\u001b[39;00m)\n\u001b[1;32m     11\u001b[0m model\u001b[38;5;241m.\u001b[39mtrain()\n\u001b[0;32m---> 12\u001b[0m metrices,prediction_s, ground_truth_s  \u001b[38;5;241m=\u001b[39m \u001b[43mtraining_loop\u001b[49m\u001b[43m(\u001b[49m\u001b[43mmodel\u001b[49m\u001b[43m \u001b[49m\u001b[43m,\u001b[49m\u001b[43mtrain_loop\u001b[49m\u001b[43m,\u001b[49m\u001b[43m \u001b[49m\u001b[43mis_training\u001b[49m\u001b[43m \u001b[49m\u001b[38;5;241;43m=\u001b[39;49m\u001b[43m \u001b[49m\u001b[38;5;28;43;01mTrue\u001b[39;49;00m\u001b[43m)\u001b[49m\n\u001b[1;32m     13\u001b[0m \u001b[38;5;28mprint\u001b[39m(\u001b[38;5;124m'\u001b[39m\u001b[38;5;124mTraining metrices: \u001b[39m\u001b[38;5;124m'\u001b[39m,metrices)\n\u001b[1;32m     14\u001b[0m global_metrices\u001b[38;5;241m.\u001b[39mappend(metrices)\n",
      "Cell \u001b[0;32mIn[20], line 40\u001b[0m, in \u001b[0;36mtraining_loop\u001b[0;34m(model, data_loop, is_training)\u001b[0m\n\u001b[1;32m     36\u001b[0m ground_truth_s\u001b[38;5;241m.\u001b[39mextend(batch_labels\u001b[38;5;241m.\u001b[39mdetach()\u001b[38;5;241m.\u001b[39mcpu()\u001b[38;5;241m.\u001b[39mnumpy()\u001b[38;5;241m.\u001b[39mflatten())\n\u001b[1;32m     39\u001b[0m \u001b[38;5;28;01mif\u001b[39;00m is_training \u001b[38;5;241m==\u001b[39m \u001b[38;5;28;01mTrue\u001b[39;00m:\n\u001b[0;32m---> 40\u001b[0m     \u001b[43mloss\u001b[49m\u001b[38;5;241;43m.\u001b[39;49m\u001b[43mbackward\u001b[49m\u001b[43m(\u001b[49m\u001b[43m)\u001b[49m\n\u001b[1;32m     41\u001b[0m     optim\u001b[38;5;241m.\u001b[39mstep()\n\u001b[1;32m     44\u001b[0m \u001b[38;5;66;03m# print relevant info to progress bar\u001b[39;00m\n",
      "File \u001b[0;32m~/anaconda3/envs/pytorch/lib/python3.8/site-packages/torch/_tensor.py:487\u001b[0m, in \u001b[0;36mTensor.backward\u001b[0;34m(self, gradient, retain_graph, create_graph, inputs)\u001b[0m\n\u001b[1;32m    477\u001b[0m \u001b[38;5;28;01mif\u001b[39;00m has_torch_function_unary(\u001b[38;5;28mself\u001b[39m):\n\u001b[1;32m    478\u001b[0m     \u001b[38;5;28;01mreturn\u001b[39;00m handle_torch_function(\n\u001b[1;32m    479\u001b[0m         Tensor\u001b[38;5;241m.\u001b[39mbackward,\n\u001b[1;32m    480\u001b[0m         (\u001b[38;5;28mself\u001b[39m,),\n\u001b[0;32m   (...)\u001b[0m\n\u001b[1;32m    485\u001b[0m         inputs\u001b[38;5;241m=\u001b[39minputs,\n\u001b[1;32m    486\u001b[0m     )\n\u001b[0;32m--> 487\u001b[0m \u001b[43mtorch\u001b[49m\u001b[38;5;241;43m.\u001b[39;49m\u001b[43mautograd\u001b[49m\u001b[38;5;241;43m.\u001b[39;49m\u001b[43mbackward\u001b[49m\u001b[43m(\u001b[49m\n\u001b[1;32m    488\u001b[0m \u001b[43m    \u001b[49m\u001b[38;5;28;43mself\u001b[39;49m\u001b[43m,\u001b[49m\u001b[43m \u001b[49m\u001b[43mgradient\u001b[49m\u001b[43m,\u001b[49m\u001b[43m \u001b[49m\u001b[43mretain_graph\u001b[49m\u001b[43m,\u001b[49m\u001b[43m \u001b[49m\u001b[43mcreate_graph\u001b[49m\u001b[43m,\u001b[49m\u001b[43m \u001b[49m\u001b[43minputs\u001b[49m\u001b[38;5;241;43m=\u001b[39;49m\u001b[43minputs\u001b[49m\n\u001b[1;32m    489\u001b[0m \u001b[43m\u001b[49m\u001b[43m)\u001b[49m\n",
      "File \u001b[0;32m~/anaconda3/envs/pytorch/lib/python3.8/site-packages/torch/autograd/__init__.py:200\u001b[0m, in \u001b[0;36mbackward\u001b[0;34m(tensors, grad_tensors, retain_graph, create_graph, grad_variables, inputs)\u001b[0m\n\u001b[1;32m    195\u001b[0m     retain_graph \u001b[38;5;241m=\u001b[39m create_graph\n\u001b[1;32m    197\u001b[0m \u001b[38;5;66;03m# The reason we repeat same the comment below is that\u001b[39;00m\n\u001b[1;32m    198\u001b[0m \u001b[38;5;66;03m# some Python versions print out the first line of a multi-line function\u001b[39;00m\n\u001b[1;32m    199\u001b[0m \u001b[38;5;66;03m# calls in the traceback and some print out the last line\u001b[39;00m\n\u001b[0;32m--> 200\u001b[0m \u001b[43mVariable\u001b[49m\u001b[38;5;241;43m.\u001b[39;49m\u001b[43m_execution_engine\u001b[49m\u001b[38;5;241;43m.\u001b[39;49m\u001b[43mrun_backward\u001b[49m\u001b[43m(\u001b[49m\u001b[43m  \u001b[49m\u001b[38;5;66;43;03m# Calls into the C++ engine to run the backward pass\u001b[39;49;00m\n\u001b[1;32m    201\u001b[0m \u001b[43m    \u001b[49m\u001b[43mtensors\u001b[49m\u001b[43m,\u001b[49m\u001b[43m \u001b[49m\u001b[43mgrad_tensors_\u001b[49m\u001b[43m,\u001b[49m\u001b[43m \u001b[49m\u001b[43mretain_graph\u001b[49m\u001b[43m,\u001b[49m\u001b[43m \u001b[49m\u001b[43mcreate_graph\u001b[49m\u001b[43m,\u001b[49m\u001b[43m \u001b[49m\u001b[43minputs\u001b[49m\u001b[43m,\u001b[49m\n\u001b[1;32m    202\u001b[0m \u001b[43m    \u001b[49m\u001b[43mallow_unreachable\u001b[49m\u001b[38;5;241;43m=\u001b[39;49m\u001b[38;5;28;43;01mTrue\u001b[39;49;00m\u001b[43m,\u001b[49m\u001b[43m \u001b[49m\u001b[43maccumulate_grad\u001b[49m\u001b[38;5;241;43m=\u001b[39;49m\u001b[38;5;28;43;01mTrue\u001b[39;49;00m\u001b[43m)\u001b[49m\n",
      "\u001b[0;31mOutOfMemoryError\u001b[0m: CUDA out of memory. Tried to allocate 192.00 MiB (GPU 0; 23.63 GiB total capacity; 20.74 GiB already allocated; 158.81 MiB free; 20.85 GiB reserved in total by PyTorch) If reserved memory is >> allocated memory try setting max_split_size_mb to avoid fragmentation.  See documentation for Memory Management and PYTORCH_CUDA_ALLOC_CONF"
     ]
    }
   ],
   "source": [
    "EPOCHS = 100\n",
    "\n",
    "\n",
    "global_metrices = []\n",
    "v_global_metrices = []\n",
    "\n",
    "\n",
    "for ecpoch in range(EPOCHS):\n",
    "    \n",
    "    train_loop = tqdm(train_loader, leave=True)\n",
    "    model.train()\n",
    "    metrices,prediction_s, ground_truth_s  = training_loop(model ,train_loop, is_training = True)\n",
    "    print('Training metrices: ',metrices)\n",
    "    global_metrices.append(metrices)\n",
    "    \n",
    "    with torch.no_grad():\n",
    "        model.eval()\n",
    "        validation_loop = tqdm(validation_loader, leave=True)\n",
    "        v_metrices, v_prediction_s, v_ground_truth_s  = training_loop(model ,validation_loop, is_training = False)\n",
    "        plot_confusion_matrix(v_ground_truth_s , v_prediction_s ,label=EXPERIMENT_NAME)\n",
    "        print('v_metrices: ',v_metrices)\n",
    "        v_global_metrices.append(v_metrices)\n",
    "    plot_graph(global_metrices,v_global_metrices , label = EXPERIMENT_NAME)\n",
    "#     break\n",
    "    model.save_pretrained(MODEL_SAVE_PATH +EXPERIMENT_NAME)\n"
   ]
  },
  {
   "cell_type": "code",
   "execution_count": null,
   "id": "be9ddaab",
   "metadata": {},
   "outputs": [],
   "source": [
    "model.save_pretrained(MODEL_SAVE_PATH +EXPERIMENT_NAME)"
   ]
  },
  {
   "cell_type": "code",
   "execution_count": null,
   "id": "0f22ab85",
   "metadata": {},
   "outputs": [],
   "source": []
  }
 ],
 "metadata": {
  "kernelspec": {
   "display_name": "pytorch",
   "language": "python",
   "name": "pytorch"
  },
  "language_info": {
   "codemirror_mode": {
    "name": "ipython",
    "version": 3
   },
   "file_extension": ".py",
   "mimetype": "text/x-python",
   "name": "python",
   "nbconvert_exporter": "python",
   "pygments_lexer": "ipython3",
   "version": "3.8.17"
  }
 },
 "nbformat": 4,
 "nbformat_minor": 5
}
