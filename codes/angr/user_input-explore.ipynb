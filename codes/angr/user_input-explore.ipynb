{
 "cells": [
  {
   "cell_type": "code",
   "execution_count": 1,
   "id": "6b67474a-8326-4626-a934-a55cbb931349",
   "metadata": {},
   "outputs": [
    {
     "name": "stderr",
     "output_type": "stream",
     "text": [
      "WARNING  | 2023-02-06 18:21:52,735 | cle.loader     | The main binary is a position-independent executable. It is being loaded with a base address of 0x400000.\n"
     ]
    }
   ],
   "source": [
    "import os\n",
    "import angr, claripy\n",
    "\n",
    "\n",
    "filePath = '/home/nahid/reverse/binaries/user_input'\n",
    "proj = angr.Project(filePath)"
   ]
  },
  {
   "cell_type": "code",
   "execution_count": 2,
   "id": "555f7fc1-ef53-4b92-8ef9-09f266820d66",
   "metadata": {},
   "outputs": [
    {
     "data": {
      "text/plain": [
       "<SimulationManager with 2 active, 1 found>"
      ]
     },
     "execution_count": 2,
     "metadata": {},
     "output_type": "execute_result"
    }
   ],
   "source": [
    "state = proj.factory.entry_state(stdin=angr.SimFile)# # ignore that argument for now - we're disabling a more complicated default setup for the sake of education\n",
    "simgr = proj.factory.simgr()\n",
    "simgr.explore(find=lambda s: b\"Welcome\" in s.posix.dumps(1))"
   ]
  },
  {
   "cell_type": "code",
   "execution_count": 3,
   "id": "13f0e743-e66a-4495-8f57-482bc6e7e0cf",
   "metadata": {},
   "outputs": [
    {
     "data": {
      "text/plain": [
       "<SimulationManager with 1 active, 2 found>"
      ]
     },
     "execution_count": 3,
     "metadata": {},
     "output_type": "execute_result"
    }
   ],
   "source": [
    "simgr.explore(find=lambda s: b\"Die\" in s.posix.dumps(1))"
   ]
  },
  {
   "cell_type": "code",
   "execution_count": 8,
   "id": "3f8bd0c0-16a2-4c8f-9b91-7521e92e5f2f",
   "metadata": {},
   "outputs": [
    {
     "data": {
      "text/plain": [
       "[4198624,\n",
       " 5414336,\n",
       " 4198857,\n",
       " 4198592,\n",
       " 5644560,\n",
       " 4198918,\n",
       " 4198981,\n",
       " 4199006,\n",
       " 4198576,\n",
       " 5638000]"
      ]
     },
     "execution_count": 8,
     "metadata": {},
     "output_type": "execute_result"
    }
   ],
   "source": [
    "simgr.found[1].history.bbl_addrs.hardcopy"
   ]
  },
  {
   "cell_type": "code",
   "execution_count": 9,
   "id": "b1b57080-0508-498b-93ef-934be2e110c6",
   "metadata": {},
   "outputs": [
    {
     "data": {
      "text/plain": [
       "[4198624,\n",
       " 5414336,\n",
       " 4198857,\n",
       " 4198592,\n",
       " 5644560,\n",
       " 4198918,\n",
       " 4198964,\n",
       " 4198544,\n",
       " 5770960]"
      ]
     },
     "execution_count": 9,
     "metadata": {},
     "output_type": "execute_result"
    }
   ],
   "source": [
    "simgr.found[0].history.bbl_addrs.hardcopy"
   ]
  },
  {
   "cell_type": "code",
   "execution_count": null,
   "id": "d58906f2-2111-46f9-ba7b-43facb97afad",
   "metadata": {},
   "outputs": [],
   "source": []
  }
 ],
 "metadata": {
  "kernelspec": {
   "display_name": "angr",
   "language": "python",
   "name": "angr"
  },
  "language_info": {
   "codemirror_mode": {
    "name": "ipython",
    "version": 3
   },
   "file_extension": ".py",
   "mimetype": "text/x-python",
   "name": "python",
   "nbconvert_exporter": "python",
   "pygments_lexer": "ipython3",
   "version": "3.9.16"
  }
 },
 "nbformat": 4,
 "nbformat_minor": 5
}
