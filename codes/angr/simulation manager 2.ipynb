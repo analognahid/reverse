{
 "cells": [
  {
   "cell_type": "code",
   "execution_count": 1,
   "id": "db8c27f1",
   "metadata": {},
   "outputs": [
    {
     "name": "stderr",
     "output_type": "stream",
     "text": [
      "WARNING  | 2023-02-05 17:49:17,322 | cle.loader     | The main binary is a position-independent executable. It is being loaded with a base address of 0x400000.\n"
     ]
    }
   ],
   "source": [
    "import os\n",
    "import angr, claripy\n",
    "\n",
    "\n",
    "filePath = '/home/nahid/reverse/binaries/pass'\n",
    "proj = angr.Project(filePath, auto_load_libs=False)"
   ]
  },
  {
   "cell_type": "code",
   "execution_count": 2,
   "id": "4f86b3fd",
   "metadata": {},
   "outputs": [
    {
     "data": {
      "text/plain": [
       "[<SimState @ 0x500000>]"
      ]
     },
     "execution_count": 2,
     "metadata": {},
     "output_type": "execute_result"
    }
   ],
   "source": [
    "\n",
    "\n",
    "state = proj.factory.entry_state()\n",
    "simgr = proj.factory.simgr(state)\n",
    "simgr.active\n",
    "\n",
    "\n",
    "simgr.step()\n",
    "simgr.active\n"
   ]
  },
  {
   "cell_type": "code",
   "execution_count": 3,
   "id": "a9cab427",
   "metadata": {},
   "outputs": [
    {
     "name": "stderr",
     "output_type": "stream",
     "text": [
      "WARNING  | 2023-02-05 17:50:17,415 | angr.storage.memory_mixins.default_filler_mixin | The program is accessing memory with an unspecified value. This could indicate unwanted behavior.\n",
      "WARNING  | 2023-02-05 17:50:17,416 | angr.storage.memory_mixins.default_filler_mixin | angr will cope with this by generating an unconstrained symbolic variable and continuing. You can resolve this by:\n",
      "WARNING  | 2023-02-05 17:50:17,417 | angr.storage.memory_mixins.default_filler_mixin | 1) setting a value to the initial state\n",
      "WARNING  | 2023-02-05 17:50:17,417 | angr.storage.memory_mixins.default_filler_mixin | 2) adding the state option ZERO_FILL_UNCONSTRAINED_{MEMORY,REGISTERS}, to make unknown regions hold null\n",
      "WARNING  | 2023-02-05 17:50:17,417 | angr.storage.memory_mixins.default_filler_mixin | 3) adding the state option SYMBOL_FILL_UNCONSTRAINED_{MEMORY,REGISTERS}, to suppress these messages.\n",
      "WARNING  | 2023-02-05 17:50:17,418 | angr.storage.memory_mixins.default_filler_mixin | Filling memory at 0x7fffffffffeff60 with 8 unconstrained bytes referenced from 0x500028 (strcmp+0x0 in extern-address space (0x28))\n",
      "WARNING  | 2023-02-05 17:50:17,593 | angr.state_plugins.posix | Trying to open unknown file b'\\x00\\x00\\x00\\x00\\x00\\x00\\x00\\x00' - created a symbolic file since ALL_FILES_EXIST is set\n",
      "WARNING  | 2023-02-05 17:50:17,635 | angr.storage.memory_mixins.default_filler_mixin | Filling memory at 0x7fffffffffefeff with 8 unconstrained bytes referenced from 0x500020 (read+0x0 in extern-address space (0x20))\n",
      "WARNING  | 2023-02-05 17:50:17,662 | angr.storage.memory_mixins.default_filler_mixin | Filling memory at 0x7fffffffffeff28 with 4 unconstrained bytes referenced from 0x500028 (strcmp+0x0 in extern-address space (0x28))\n",
      "WARNING  | 2023-02-05 17:50:17,664 | angr.storage.memory_mixins.default_filler_mixin | Filling memory at 0x7fffffffffeff31 with 5 unconstrained bytes referenced from 0x500028 (strcmp+0x0 in extern-address space (0x28))\n"
     ]
    },
    {
     "name": "stdout",
     "output_type": "stream",
     "text": [
      "<SimulationManager with 2 active>\n",
      "[<SimState @ 0x40124a>, <SimState @ 0x401251>]\n",
      "<SimulationManager with 3 deadended>\n"
     ]
    }
   ],
   "source": [
    "# Step until the first symbolic branch\n",
    "while len(simgr.active) == 1:\n",
    "    simgr.step()\n",
    "\n",
    "print(simgr)\n",
    "# <SimulationManager with 2 active>\n",
    "print(simgr.active)\n",
    "# [<SimState @ 0x400692>, <SimState @ 0x400699>]\n",
    "\n",
    "# Step until everything terminates\n",
    "simgr.run()\n",
    "print(simgr)\n",
    "# <SimulationManager with 3 deadended>"
   ]
  },
  {
   "cell_type": "code",
   "execution_count": 4,
   "id": "aa71323e",
   "metadata": {},
   "outputs": [
    {
     "name": "stdout",
     "output_type": "stream",
     "text": [
      "<SimulationManager with 1 deadended, 2 authenticated>\n"
     ]
    }
   ],
   "source": [
    "simgr.move(from_stash='deadended', to_stash='authenticated', filter_func=lambda s: b'Welcome' in s.posix.dumps(1))\n",
    "print(simgr)"
   ]
  },
  {
   "cell_type": "code",
   "execution_count": 5,
   "id": "ff669fff",
   "metadata": {},
   "outputs": [
    {
     "name": "stdout",
     "output_type": "stream",
     "text": [
      "0x500038\n",
      "0x601050\n",
      "0x601050\n",
      "<SimState @ 0x500038>\n",
      "MP([<SimState @ 0x601050>, <SimState @ 0x601050>])\n",
      "MP([b'\\x00\\x00\\x00\\x00\\x00\\x00\\x00\\x00\\x00SOSNEAKY\\x00', b'\\x00\\x00\\x00\\x00\\x00\\x00\\x00\\x00\\x00\\x00\\x00\\x10 \\x10@\\x00\\x00\\x00'])\n"
     ]
    }
   ],
   "source": [
    "for s in simgr.deadended + simgr.authenticated:\n",
    "    print(hex(s.addr))\n",
    "\n",
    "\n",
    "print(simgr.one_deadended)\n",
    "\n",
    "print(simgr.mp_authenticated)\n",
    "\n",
    "print(simgr.mp_authenticated.posix.dumps(0))\n"
   ]
  }
 ],
 "metadata": {
  "kernelspec": {
   "display_name": "angr",
   "language": "python",
   "name": "angr"
  },
  "language_info": {
   "codemirror_mode": {
    "name": "ipython",
    "version": 3
   },
   "file_extension": ".py",
   "mimetype": "text/x-python",
   "name": "python",
   "nbconvert_exporter": "python",
   "pygments_lexer": "ipython3",
   "version": "3.9.16"
  }
 },
 "nbformat": 4,
 "nbformat_minor": 5
}
