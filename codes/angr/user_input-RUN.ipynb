{
 "cells": [
  {
   "cell_type": "code",
   "execution_count": 1,
   "id": "6b67474a-8326-4626-a934-a55cbb931349",
   "metadata": {},
   "outputs": [
    {
     "name": "stderr",
     "output_type": "stream",
     "text": [
      "WARNING  | 2023-02-06 19:09:38,380 | cle.loader     | The main binary is a position-independent executable. It is being loaded with a base address of 0x400000.\n"
     ]
    }
   ],
   "source": [
    "import os\n",
    "import angr, claripy\n",
    "\n",
    "\n",
    "filePath = '/home/nahid/reverse/binaries/user_input'\n",
    "proj = angr.Project(filePath)"
   ]
  },
  {
   "cell_type": "code",
   "execution_count": 2,
   "id": "555f7fc1-ef53-4b92-8ef9-09f266820d66",
   "metadata": {},
   "outputs": [
    {
     "name": "stdout",
     "output_type": "stream",
     "text": [
      "<SimState @ 0x4010e0>\n"
     ]
    }
   ],
   "source": [
    "state = proj.factory.entry_state(stdin=angr.SimFile)# # ignore that argument for now - we're disabling a more complicated default setup for the sake of education\n",
    "print(state)\n",
    "\n",
    "sim_mgr = proj.factory.simulation_manager(state)"
   ]
  },
  {
   "cell_type": "code",
   "execution_count": 3,
   "id": "cdba8a86-a2bc-4166-8d20-f55f74661f11",
   "metadata": {},
   "outputs": [
    {
     "name": "stderr",
     "output_type": "stream",
     "text": [
      "WARNING  | 2023-02-06 19:09:39,971 | angr.storage.memory_mixins.default_filler_mixin | The program is accessing memory with an unspecified value. This could indicate unwanted behavior.\n",
      "WARNING  | 2023-02-06 19:09:39,972 | angr.storage.memory_mixins.default_filler_mixin | angr will cope with this by generating an unconstrained symbolic variable and continuing. You can resolve this by:\n",
      "WARNING  | 2023-02-06 19:09:39,972 | angr.storage.memory_mixins.default_filler_mixin | 1) setting a value to the initial state\n",
      "WARNING  | 2023-02-06 19:09:39,973 | angr.storage.memory_mixins.default_filler_mixin | 2) adding the state option ZERO_FILL_UNCONSTRAINED_{MEMORY,REGISTERS}, to make unknown regions hold null\n",
      "WARNING  | 2023-02-06 19:09:39,973 | angr.storage.memory_mixins.default_filler_mixin | 3) adding the state option SYMBOL_FILL_UNCONSTRAINED_{MEMORY,REGISTERS}, to suppress these messages.\n",
      "WARNING  | 2023-02-06 19:09:39,973 | angr.storage.memory_mixins.default_filler_mixin | Filling memory at 0x7fffffffffeff50 with 8 unconstrained bytes referenced from 0x560770 (printf+0x0 in libc.so.6 (0x60770))\n"
     ]
    },
    {
     "data": {
      "text/plain": [
       "<SimulationManager with 2 deadended>"
      ]
     },
     "execution_count": 3,
     "metadata": {},
     "output_type": "execute_result"
    }
   ],
   "source": [
    "sim_mgr.run()"
   ]
  },
  {
   "cell_type": "code",
   "execution_count": 4,
   "id": "fb94b72b-3bd9-48d0-b09c-0b3f9204426a",
   "metadata": {},
   "outputs": [],
   "source": [
    "# sim_mgr.deadended[0]\n",
    "# input_data = sim_mgr.deadended[0].posix.stdin.load(0, 8)\n",
    "# print(input_data)\n",
    "# print(sim_mgr.deadended[0].solver.eval(input_data, cast_to=int))"
   ]
  },
  {
   "cell_type": "code",
   "execution_count": 5,
   "id": "36d76f4c-5e1e-433a-991c-45c71f10e422",
   "metadata": {},
   "outputs": [
    {
     "name": "stdout",
     "output_type": "stream",
     "text": [
      "<SimState @ 0x900050>\n",
      "<SimState @ 0x900050>\n"
     ]
    }
   ],
   "source": [
    "state1, state2 = sim_mgr.deadended\n",
    "print(state1)\n",
    "print(state2)\n"
   ]
  },
  {
   "cell_type": "code",
   "execution_count": 10,
   "id": "920529f7-4ae5-4418-8be2-68032cf9cdae",
   "metadata": {},
   "outputs": [
    {
     "name": "stdout",
     "output_type": "stream",
     "text": [
      "<BV64 file_0_stdin_0_49_64{UNINITIALIZED}>\n",
      "b'\\x01\\x01\\x01\\x01\\x01\\x01\\x01\\x01'\n"
     ]
    }
   ],
   "source": [
    "input_data = state1.posix.stdin.load(0, 8)\n",
    "print(input_data)\n",
    "print(state1.solver.eval(input_data, cast_to=bytes))"
   ]
  },
  {
   "cell_type": "code",
   "execution_count": 11,
   "id": "3cf7d25a-cc6f-4877-8da2-a0485d5275e0",
   "metadata": {},
   "outputs": [
    {
     "name": "stdout",
     "output_type": "stream",
     "text": [
      "<BV64 file_0_stdin_0_49_64{UNINITIALIZED}>\n",
      "b'testtest'\n"
     ]
    }
   ],
   "source": [
    "input_data = state2.posix.stdin.load(0, 8)\n",
    "print(input_data)\n",
    "print(state2.solver.eval(input_data, cast_to=bytes))"
   ]
  },
  {
   "cell_type": "code",
   "execution_count": 8,
   "id": "2668b121-c687-454b-bf28-668e47f8c326",
   "metadata": {},
   "outputs": [
    {
     "data": {
      "text/plain": [
       "\u001b[0;31mType:\u001b[0m        property\n",
       "\u001b[0;31mString form:\u001b[0m <property object at 0x7fa989651680>\n",
       "\u001b[0;31mDocstring:\u001b[0m   The number of data bytes stored by the file at present. May be a symbolic value.\n"
      ]
     },
     "metadata": {},
     "output_type": "display_data"
    }
   ],
   "source": [
    "state2.posix.stdin.size?"
   ]
  },
  {
   "cell_type": "code",
   "execution_count": 9,
   "id": "f0f68b36-f778-429f-bea6-3632962dadbf",
   "metadata": {},
   "outputs": [
    {
     "ename": "NameError",
     "evalue": "name 'state3' is not defined",
     "output_type": "error",
     "traceback": [
      "\u001b[0;31m---------------------------------------------------------------------------\u001b[0m",
      "\u001b[0;31mNameError\u001b[0m                                 Traceback (most recent call last)",
      "Input \u001b[0;32mIn [9]\u001b[0m, in \u001b[0;36m<cell line: 1>\u001b[0;34m()\u001b[0m\n\u001b[0;32m----> 1\u001b[0m input_data \u001b[38;5;241m=\u001b[39m \u001b[43mstate3\u001b[49m\u001b[38;5;241m.\u001b[39mposix\u001b[38;5;241m.\u001b[39mstdin\u001b[38;5;241m.\u001b[39mload(\u001b[38;5;241m0\u001b[39m, \u001b[38;5;241m4\u001b[39m)\n\u001b[1;32m      2\u001b[0m \u001b[38;5;28mprint\u001b[39m(input_data)\n\u001b[1;32m      3\u001b[0m \u001b[38;5;28mprint\u001b[39m(state3\u001b[38;5;241m.\u001b[39msolver\u001b[38;5;241m.\u001b[39meval(input_data, cast_to\u001b[38;5;241m=\u001b[39m\u001b[38;5;28mbytes\u001b[39m))\n",
      "\u001b[0;31mNameError\u001b[0m: name 'state3' is not defined"
     ]
    }
   ],
   "source": [
    "input_data = state3.posix.stdin.load(0, 4)\n",
    "print(input_data)\n",
    "print(state3.solver.eval(input_data, cast_to=bytes))"
   ]
  },
  {
   "cell_type": "code",
   "execution_count": null,
   "id": "b5249394-7041-4b3f-964f-11a09cecbbf7",
   "metadata": {},
   "outputs": [],
   "source": [
    "state3.solver.eval?"
   ]
  },
  {
   "cell_type": "code",
   "execution_count": null,
   "id": "4962f00f-f31c-42ca-a2af-e420e04d5e0f",
   "metadata": {},
   "outputs": [],
   "source": [
    "state2.posix.stdin.load?"
   ]
  },
  {
   "cell_type": "code",
   "execution_count": null,
   "id": "a3a38f84-3aa7-4f82-a8f2-733619195e71",
   "metadata": {},
   "outputs": [],
   "source": []
  }
 ],
 "metadata": {
  "kernelspec": {
   "display_name": "angr",
   "language": "python",
   "name": "angr"
  },
  "language_info": {
   "codemirror_mode": {
    "name": "ipython",
    "version": 3
   },
   "file_extension": ".py",
   "mimetype": "text/x-python",
   "name": "python",
   "nbconvert_exporter": "python",
   "pygments_lexer": "ipython3",
   "version": "3.9.16"
  }
 },
 "nbformat": 4,
 "nbformat_minor": 5
}
