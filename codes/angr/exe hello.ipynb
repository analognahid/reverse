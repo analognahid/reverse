{
 "cells": [
  {
   "cell_type": "code",
   "execution_count": 5,
   "id": "be830db8",
   "metadata": {},
   "outputs": [],
   "source": [
    "binFile=[]\n",
    "with open(\"/home/nahid/reverse/binaries/test.exe\", \"rb\") as f:\n",
    "    while (byte := f.read(1)):\n",
    "        binFile.append(byte)\n"
   ]
  },
  {
   "cell_type": "code",
   "execution_count": 6,
   "id": "e46429fd",
   "metadata": {},
   "outputs": [
    {
     "name": "stdout",
     "output_type": "stream",
     "text": [
      "637171\n"
     ]
    }
   ],
   "source": [
    "print(len(binFile))"
   ]
  },
  {
   "cell_type": "code",
   "execution_count": 7,
   "id": "7f892d16",
   "metadata": {},
   "outputs": [
    {
     "name": "stderr",
     "output_type": "stream",
     "text": [
      "IOPub data rate exceeded.\n",
      "The notebook server will temporarily stop sending output\n",
      "to the client in order to avoid crashing it.\n",
      "To change this limit, set the config variable\n",
      "`--NotebookApp.iopub_data_rate_limit`.\n",
      "\n",
      "Current values:\n",
      "NotebookApp.iopub_data_rate_limit=1000000.0 (bytes/sec)\n",
      "NotebookApp.rate_limit_window=3.0 (secs)\n",
      "\n"
     ]
    }
   ],
   "source": [
    "print(binFile)"
   ]
  },
  {
   "cell_type": "code",
   "execution_count": 10,
   "id": "83726c87",
   "metadata": {},
   "outputs": [
    {
     "name": "stdout",
     "output_type": "stream",
     "text": [
      "Segments of the file /home/nahid/reverse/binaries/test.exe which size on disk and in memory differs\n"
     ]
    },
    {
     "ename": "ELFError",
     "evalue": "Magic number does not match",
     "output_type": "error",
     "traceback": [
      "\u001b[0;31m---------------------------------------------------------------------------\u001b[0m",
      "\u001b[0;31mELFError\u001b[0m                                  Traceback (most recent call last)",
      "Input \u001b[0;32mIn [10]\u001b[0m, in \u001b[0;36m<cell line: 12>\u001b[0;34m()\u001b[0m\n\u001b[1;32m     10\u001b[0m \u001b[38;5;28mprint\u001b[39m(\u001b[38;5;124mf\u001b[39m\u001b[38;5;124m\"\u001b[39m\u001b[38;5;124mSegments of the file \u001b[39m\u001b[38;5;132;01m{\u001b[39;00mfilePath\u001b[38;5;132;01m}\u001b[39;00m\u001b[38;5;124m which size on disk and in memory differs\u001b[39m\u001b[38;5;124m\"\u001b[39m)\n\u001b[1;32m     12\u001b[0m \u001b[38;5;28;01mwith\u001b[39;00m \u001b[38;5;28mopen\u001b[39m(filePath, \u001b[38;5;124m'\u001b[39m\u001b[38;5;124mrb\u001b[39m\u001b[38;5;124m'\u001b[39m) \u001b[38;5;28;01mas\u001b[39;00m elffile:\n\u001b[0;32m---> 13\u001b[0m     temp \u001b[38;5;241m=\u001b[39m  \u001b[43mELFFile\u001b[49m\u001b[43m(\u001b[49m\u001b[43melffile\u001b[49m\u001b[43m)\u001b[49m\n",
      "File \u001b[0;32m~/anaconda3/envs/angr/lib/python3.9/site-packages/elftools/elf/elffile.py:84\u001b[0m, in \u001b[0;36mELFFile.__init__\u001b[0;34m(self, stream, stream_loader)\u001b[0m\n\u001b[1;32m     81\u001b[0m \u001b[38;5;28mself\u001b[39m\u001b[38;5;241m.\u001b[39mstream\u001b[38;5;241m.\u001b[39mseek(\u001b[38;5;241m0\u001b[39m, io\u001b[38;5;241m.\u001b[39mSEEK_END)\n\u001b[1;32m     82\u001b[0m \u001b[38;5;28mself\u001b[39m\u001b[38;5;241m.\u001b[39mstream_len \u001b[38;5;241m=\u001b[39m \u001b[38;5;28mself\u001b[39m\u001b[38;5;241m.\u001b[39mstream\u001b[38;5;241m.\u001b[39mtell()\n\u001b[0;32m---> 84\u001b[0m \u001b[38;5;28;43mself\u001b[39;49m\u001b[38;5;241;43m.\u001b[39;49m\u001b[43m_identify_file\u001b[49m\u001b[43m(\u001b[49m\u001b[43m)\u001b[49m\n\u001b[1;32m     85\u001b[0m \u001b[38;5;28mself\u001b[39m\u001b[38;5;241m.\u001b[39mstructs \u001b[38;5;241m=\u001b[39m ELFStructs(\n\u001b[1;32m     86\u001b[0m     little_endian\u001b[38;5;241m=\u001b[39m\u001b[38;5;28mself\u001b[39m\u001b[38;5;241m.\u001b[39mlittle_endian,\n\u001b[1;32m     87\u001b[0m     elfclass\u001b[38;5;241m=\u001b[39m\u001b[38;5;28mself\u001b[39m\u001b[38;5;241m.\u001b[39melfclass)\n\u001b[1;32m     89\u001b[0m \u001b[38;5;28mself\u001b[39m\u001b[38;5;241m.\u001b[39mstructs\u001b[38;5;241m.\u001b[39mcreate_basic_structs()\n",
      "File \u001b[0;32m~/anaconda3/envs/angr/lib/python3.9/site-packages/elftools/elf/elffile.py:569\u001b[0m, in \u001b[0;36mELFFile._identify_file\u001b[0;34m(self)\u001b[0m\n\u001b[1;32m    567\u001b[0m \u001b[38;5;28mself\u001b[39m\u001b[38;5;241m.\u001b[39mstream\u001b[38;5;241m.\u001b[39mseek(\u001b[38;5;241m0\u001b[39m)\n\u001b[1;32m    568\u001b[0m magic \u001b[38;5;241m=\u001b[39m \u001b[38;5;28mself\u001b[39m\u001b[38;5;241m.\u001b[39mstream\u001b[38;5;241m.\u001b[39mread(\u001b[38;5;241m4\u001b[39m)\n\u001b[0;32m--> 569\u001b[0m \u001b[43melf_assert\u001b[49m\u001b[43m(\u001b[49m\u001b[43mmagic\u001b[49m\u001b[43m \u001b[49m\u001b[38;5;241;43m==\u001b[39;49m\u001b[43m \u001b[49m\u001b[38;5;124;43mb\u001b[39;49m\u001b[38;5;124;43m'\u001b[39;49m\u001b[38;5;130;43;01m\\x7f\u001b[39;49;00m\u001b[38;5;124;43mELF\u001b[39;49m\u001b[38;5;124;43m'\u001b[39;49m\u001b[43m,\u001b[49m\u001b[43m \u001b[49m\u001b[38;5;124;43m'\u001b[39;49m\u001b[38;5;124;43mMagic number does not match\u001b[39;49m\u001b[38;5;124;43m'\u001b[39;49m\u001b[43m)\u001b[49m\n\u001b[1;32m    571\u001b[0m ei_class \u001b[38;5;241m=\u001b[39m \u001b[38;5;28mself\u001b[39m\u001b[38;5;241m.\u001b[39mstream\u001b[38;5;241m.\u001b[39mread(\u001b[38;5;241m1\u001b[39m)\n\u001b[1;32m    572\u001b[0m \u001b[38;5;28;01mif\u001b[39;00m ei_class \u001b[38;5;241m==\u001b[39m \u001b[38;5;124mb\u001b[39m\u001b[38;5;124m'\u001b[39m\u001b[38;5;130;01m\\x01\u001b[39;00m\u001b[38;5;124m'\u001b[39m:\n",
      "File \u001b[0;32m~/anaconda3/envs/angr/lib/python3.9/site-packages/elftools/common/utils.py:78\u001b[0m, in \u001b[0;36melf_assert\u001b[0;34m(cond, msg)\u001b[0m\n\u001b[1;32m     75\u001b[0m \u001b[38;5;28;01mdef\u001b[39;00m \u001b[38;5;21melf_assert\u001b[39m(cond, msg\u001b[38;5;241m=\u001b[39m\u001b[38;5;124m'\u001b[39m\u001b[38;5;124m'\u001b[39m):\n\u001b[1;32m     76\u001b[0m     \u001b[38;5;124;03m\"\"\" Assert that cond is True, otherwise raise ELFError(msg)\u001b[39;00m\n\u001b[1;32m     77\u001b[0m \u001b[38;5;124;03m    \"\"\"\u001b[39;00m\n\u001b[0;32m---> 78\u001b[0m     \u001b[43m_assert_with_exception\u001b[49m\u001b[43m(\u001b[49m\u001b[43mcond\u001b[49m\u001b[43m,\u001b[49m\u001b[43m \u001b[49m\u001b[43mmsg\u001b[49m\u001b[43m,\u001b[49m\u001b[43m \u001b[49m\u001b[43mELFError\u001b[49m\u001b[43m)\u001b[49m\n",
      "File \u001b[0;32m~/anaconda3/envs/angr/lib/python3.9/site-packages/elftools/common/utils.py:128\u001b[0m, in \u001b[0;36m_assert_with_exception\u001b[0;34m(cond, msg, exception_type)\u001b[0m\n\u001b[1;32m    126\u001b[0m \u001b[38;5;28;01mdef\u001b[39;00m \u001b[38;5;21m_assert_with_exception\u001b[39m(cond, msg, exception_type):\n\u001b[1;32m    127\u001b[0m     \u001b[38;5;28;01mif\u001b[39;00m \u001b[38;5;129;01mnot\u001b[39;00m cond:\n\u001b[0;32m--> 128\u001b[0m         \u001b[38;5;28;01mraise\u001b[39;00m exception_type(msg)\n",
      "\u001b[0;31mELFError\u001b[0m: Magic number does not match"
     ]
    }
   ],
   "source": [
    "#!/usr/bin/env python3\n",
    "\n",
    "import sys\n",
    "from elftools.elf.elffile import ELFFile\n",
    "from elftools.elf.segments import Segment\n",
    "\n",
    "filePath = '/home/nahid/reverse/binaries/test.exe'\n",
    "\n",
    "\n",
    "print(f\"Segments of the file {filePath} which size on disk and in memory differs\")\n",
    "\n",
    "with open(filePath, 'rb') as elffile:\n",
    "    temp =  ELFFile(elffile)\n",
    "    \n",
    "#     for segment in ELFFile(elffile).iter_segments():\n",
    "#         if segment.header.p_filesz != segment.header.p_memsz:\n",
    "#             seg_head = segment.header\n",
    "#             print(f\"Type: {seg_head.p_type}\\nOffset: {hex(seg_head.p_offset)}\\nSize in file:{hex(seg_head.p_filesz)}\\nSize in memory:{hex(seg_head.p_memsz)}\")"
   ]
  },
  {
   "cell_type": "code",
   "execution_count": null,
   "id": "009097a6",
   "metadata": {},
   "outputs": [],
   "source": []
  }
 ],
 "metadata": {
  "kernelspec": {
   "display_name": "angr",
   "language": "python",
   "name": "angr"
  },
  "language_info": {
   "codemirror_mode": {
    "name": "ipython",
    "version": 3
   },
   "file_extension": ".py",
   "mimetype": "text/x-python",
   "name": "python",
   "nbconvert_exporter": "python",
   "pygments_lexer": "ipython3",
   "version": "3.9.16"
  }
 },
 "nbformat": 4,
 "nbformat_minor": 5
}
