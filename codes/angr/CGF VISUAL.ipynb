{
 "cells": [
  {
   "cell_type": "code",
   "execution_count": 1,
   "id": "60c64e88-55ef-40a7-8adc-b88f16987c88",
   "metadata": {},
   "outputs": [
    {
     "name": "stderr",
     "output_type": "stream",
     "text": [
      "WARNING  | 2023-06-06 18:54:56,939 | cle.loader     | The main binary is a position-independent executable. It is being loaded with a base address of 0x400000.\n"
     ]
    }
   ],
   "source": [
    "import angr\n",
    "from angrutils import *\n",
    "\n",
    "proj = angr.Project(\"/home/nahid/reverse/binaries/pass\", load_options={'auto_load_libs':False})\n",
    "main = proj.loader.main_object.get_symbol(\"main\")\n",
    "start_state = proj.factory.blank_state(addr=main.rebased_addr)\n",
    "cfg = proj.analyses.CFGEmulated(fail_fast=True, starts=[main.rebased_addr], initial_state=start_state)\n",
    "# "
   ]
  },
  {
   "cell_type": "code",
   "execution_count": 2,
   "id": "bccbdb48-a12b-4ac7-b1ab-2bb680a79a0b",
   "metadata": {},
   "outputs": [
    {
     "data": {
      "text/plain": [
       "<networkx.classes.digraph.DiGraph at 0x7fda0397d6a0>"
      ]
     },
     "execution_count": 2,
     "metadata": {},
     "output_type": "execute_result"
    }
   ],
   "source": [
    "cfg.graph"
   ]
  },
  {
   "cell_type": "code",
   "execution_count": 3,
   "id": "ee500164-2b49-442f-b3bc-36bfef52d3b1",
   "metadata": {},
   "outputs": [],
   "source": [
    "plot_cfg(cfg, \"ais3_cfg\",asminst=True, remove_imports=True, remove_path_terminator=True)  "
   ]
  },
  {
   "cell_type": "code",
   "execution_count": null,
   "id": "fc27be81-6159-44b6-ad8b-cb70956faede",
   "metadata": {},
   "outputs": [],
   "source": []
  }
 ],
 "metadata": {
  "kernelspec": {
   "display_name": "angr",
   "language": "python",
   "name": "angr"
  },
  "language_info": {
   "codemirror_mode": {
    "name": "ipython",
    "version": 3
   },
   "file_extension": ".py",
   "mimetype": "text/x-python",
   "name": "python",
   "nbconvert_exporter": "python",
   "pygments_lexer": "ipython3",
   "version": "3.9.16"
  }
 },
 "nbformat": 4,
 "nbformat_minor": 5
}
