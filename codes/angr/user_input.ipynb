{
 "cells": [
  {
   "cell_type": "code",
   "execution_count": 1,
   "id": "6b67474a-8326-4626-a934-a55cbb931349",
   "metadata": {},
   "outputs": [
    {
     "name": "stderr",
     "output_type": "stream",
     "text": [
      "WARNING  | 2023-02-06 17:58:37,478 | cle.loader     | The main binary is a position-independent executable. It is being loaded with a base address of 0x400000.\n"
     ]
    }
   ],
   "source": [
    "import os\n",
    "import angr, claripy\n",
    "\n",
    "\n",
    "filePath = '/home/nahid/reverse/binaries/user_input'\n",
    "proj = angr.Project(filePath)"
   ]
  },
  {
   "cell_type": "code",
   "execution_count": 5,
   "id": "555f7fc1-ef53-4b92-8ef9-09f266820d66",
   "metadata": {},
   "outputs": [
    {
     "name": "stdout",
     "output_type": "stream",
     "text": [
      "<SimState @ 0x4010e0>\n"
     ]
    }
   ],
   "source": [
    "state = proj.factory.entry_state(stdin=angr.SimFile)# # ignore that argument for now - we're disabling a more complicated default setup for the sake of education\n",
    "print(state)"
   ]
  },
  {
   "cell_type": "code",
   "execution_count": 6,
   "id": "cdba8a86-a2bc-4166-8d20-f55f74661f11",
   "metadata": {},
   "outputs": [
    {
     "name": "stdout",
     "output_type": "stream",
     "text": [
      "i\n",
      "[<SimState @ 0x529dc0>]\n",
      "i\n",
      "[<SimState @ 0x4011c9>]\n",
      "i\n",
      "[<SimState @ 0x4010c0>]\n",
      "i\n",
      "[<SimState @ 0x562110>]\n",
      "i\n",
      "[<SimState @ 0x401206>]\n",
      "i\n",
      "[<SimState @ 0x401234>, <SimState @ 0x401245>]\n"
     ]
    }
   ],
   "source": [
    "while True:\n",
    "     print(\"i\")\n",
    "     succ = state.step()\n",
    "     print(succ.all_successors)\n",
    "     if len(succ.successors) >1:\n",
    "            # print(0)\n",
    "         break\n",
    "     state = succ.successors[0]"
   ]
  },
  {
   "cell_type": "code",
   "execution_count": 7,
   "id": "36d76f4c-5e1e-433a-991c-45c71f10e422",
   "metadata": {},
   "outputs": [
    {
     "name": "stdout",
     "output_type": "stream",
     "text": [
      "<SimState @ 0x401234>\n",
      "<SimState @ 0x401245>\n"
     ]
    }
   ],
   "source": [
    "state1, state2 = succ.successors\n",
    "print(state1)\n",
    "print(state2)"
   ]
  },
  {
   "cell_type": "code",
   "execution_count": 9,
   "id": "920529f7-4ae5-4418-8be2-68032cf9cdae",
   "metadata": {},
   "outputs": [
    {
     "name": "stderr",
     "output_type": "stream",
     "text": [
      "WARNING  | 2023-02-06 18:00:08,167 | angr.storage.memory_mixins.size_resolution_mixin | Loading symbolic size via max. be careful.\n"
     ]
    },
    {
     "name": "stdout",
     "output_type": "stream",
     "text": [
      "<BV96 file_1_stdin_0_80_8{UNINITIALIZED} .. file_1_stdin_1_67_8{UNINITIALIZED} .. file_1_stdin_2_69_8{UNINITIALIZED} .. file_1_stdin_3_70_8{UNINITIALIZED} .. file_1_stdin_4_71_8{UNINITIALIZED} .. file_1_stdin_5_72_8{UNINITIALIZED} .. file_1_stdin_6_73_8{UNINITIALIZED} .. file_1_stdin_7_74_8{UNINITIALIZED} .. file_1_stdin_8_75_8{UNINITIALIZED} .. file_1_stdin_9_76_8{UNINITIALIZED} .. file_1_stdin_a_77_8{UNINITIALIZED} .. file_1_stdin_b_78_8{UNINITIALIZED}>\n"
     ]
    }
   ],
   "source": [
    "input_data = state1.posix.stdin.load(0, state1.posix.stdin.size)\n",
    "print(input_data)"
   ]
  },
  {
   "cell_type": "code",
   "execution_count": 12,
   "id": "3cf7d25a-cc6f-4877-8da2-a0485d5275e0",
   "metadata": {},
   "outputs": [
    {
     "name": "stdout",
     "output_type": "stream",
     "text": [
      "37820262903476521775337060402\n",
      "13989917147232953682552174648\n"
     ]
    }
   ],
   "source": [
    "print(state1.solver.eval(input_data, cast_to=int))\n",
    "print(state2.solver.eval(input_data, cast_to=int))"
   ]
  },
  {
   "cell_type": "code",
   "execution_count": null,
   "id": "f0f68b36-f778-429f-bea6-3632962dadbf",
   "metadata": {},
   "outputs": [],
   "source": []
  }
 ],
 "metadata": {
  "kernelspec": {
   "display_name": "angr",
   "language": "python",
   "name": "angr"
  },
  "language_info": {
   "codemirror_mode": {
    "name": "ipython",
    "version": 3
   },
   "file_extension": ".py",
   "mimetype": "text/x-python",
   "name": "python",
   "nbconvert_exporter": "python",
   "pygments_lexer": "ipython3",
   "version": "3.9.16"
  }
 },
 "nbformat": 4,
 "nbformat_minor": 5
}
