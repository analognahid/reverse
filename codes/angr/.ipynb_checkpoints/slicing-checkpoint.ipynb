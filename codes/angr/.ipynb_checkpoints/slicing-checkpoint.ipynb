{
 "cells": [
  {
   "cell_type": "code",
   "execution_count": 1,
   "id": "6b67474a-8326-4626-a934-a55cbb931349",
   "metadata": {},
   "outputs": [
    {
     "name": "stderr",
     "output_type": "stream",
     "text": [
      "WARNING  | 2023-06-06 18:55:06,228 | cle.loader     | The main binary is a position-independent executable. It is being loaded with a base address of 0x400000.\n"
     ]
    }
   ],
   "source": [
    "import os\n",
    "import angr, claripy\n",
    "\n",
    "\n",
    "filePath = '/home/nahid/reverse/binaries/c_many/stacktest'\n",
    "proj = angr.Project(filePath, load_options={\"auto_load_libs\": False})"
   ]
  },
  {
   "cell_type": "code",
   "execution_count": 2,
   "id": "3113cea7",
   "metadata": {},
   "outputs": [
    {
     "name": "stderr",
     "output_type": "stream",
     "text": [
      "WARNING  | 2023-06-06 18:55:06,505 | angr.storage.memory_mixins.default_filler_mixin | The program is accessing memory with an unspecified value. This could indicate unwanted behavior.\n",
      "WARNING  | 2023-06-06 18:55:06,505 | angr.storage.memory_mixins.default_filler_mixin | angr will cope with this by generating an unconstrained symbolic variable and continuing. You can resolve this by:\n",
      "WARNING  | 2023-06-06 18:55:06,506 | angr.storage.memory_mixins.default_filler_mixin | 1) setting a value to the initial state\n",
      "WARNING  | 2023-06-06 18:55:06,506 | angr.storage.memory_mixins.default_filler_mixin | 2) adding the state option ZERO_FILL_UNCONSTRAINED_{MEMORY,REGISTERS}, to make unknown regions hold null\n",
      "WARNING  | 2023-06-06 18:55:06,506 | angr.storage.memory_mixins.default_filler_mixin | 3) adding the state option SYMBOL_FILL_UNCONSTRAINED_{MEMORY,REGISTERS}, to suppress these messages.\n",
      "WARNING  | 2023-06-06 18:55:06,507 | angr.storage.memory_mixins.default_filler_mixin | Filling memory at 0x2573 with 129 unconstrained bytes referenced from 0x500018 (printf+0x0 in extern-address space (0x18))\n"
     ]
    }
   ],
   "source": [
    "\n",
    "\n",
    "cfg = proj.analyses.CFGEmulated(keep_state=True,\n",
    "                             state_add_options=angr.sim_options.refs,\n",
    "                             context_sensitivity_level=2)\n",
    "\n"
   ]
  },
  {
   "cell_type": "code",
   "execution_count": 3,
   "id": "3b903091",
   "metadata": {},
   "outputs": [],
   "source": [
    "# Generate the control dependence graph\n",
    "cdg = proj.analyses.CDG(cfg)"
   ]
  },
  {
   "cell_type": "code",
   "execution_count": 28,
   "id": "44fa7a85",
   "metadata": {},
   "outputs": [],
   "source": [
    "# Build the data dependence graph. It might take a while. Be patient!\n",
    "ddg = proj.analyses.DDG(cfg)\n",
    "\n",
    "\n",
    "# See where we wanna go... let's go to the exit() call, which is modeled as a\n",
    "# SimProcedure.\n",
    "target_func = cfg.kb.functions.function(name=\"exit\")\n",
    "\n",
    "# We need the CFGNode instance\n",
    "target_node = cfg.get_any_node(target_func.addr)"
   ]
  },
  {
   "cell_type": "code",
   "execution_count": 29,
   "id": "728e8791",
   "metadata": {},
   "outputs": [
    {
     "name": "stdout",
     "output_type": "stream",
     "text": [
      "<CFGENode add 0x401530[78]>\n"
     ]
    }
   ],
   "source": [
    "print(target_node)"
   ]
  },
  {
   "cell_type": "code",
   "execution_count": 30,
   "id": "69146bd4",
   "metadata": {},
   "outputs": [
    {
     "ename": "AngrBackwardSlicingError",
     "evalue": "Unsupported type of target 4199728",
     "output_type": "error",
     "traceback": [
      "\u001b[0;31m---------------------------------------------------------------------------\u001b[0m",
      "\u001b[0;31mAngrBackwardSlicingError\u001b[0m                  Traceback (most recent call last)",
      "Cell \u001b[0;32mIn[30], line 8\u001b[0m\n\u001b[1;32m      1\u001b[0m \u001b[38;5;66;03m# Let's get a BackwardSlice out of them!\u001b[39;00m\n\u001b[1;32m      2\u001b[0m \u001b[38;5;66;03m# ``targets`` is a list of objects, where each one is either a CodeLocation\u001b[39;00m\n\u001b[1;32m      3\u001b[0m \u001b[38;5;66;03m# object, or a tuple of CFGNode instance and a statement ID. Setting statement\u001b[39;00m\n\u001b[1;32m      4\u001b[0m \u001b[38;5;66;03m# ID to -1 means the very beginning of that CFGNode. A SimProcedure does not\u001b[39;00m\n\u001b[1;32m      5\u001b[0m \u001b[38;5;66;03m# have any statement, so you should always specify -1 for it.\u001b[39;00m\n\u001b[1;32m      6\u001b[0m \u001b[38;5;66;03m# bs = proj.analyses.BackwardSlice(cfg, cdg=cdg, ddg=ddg, targets=[ (target_node, -1) ])\u001b[39;00m\n\u001b[0;32m----> 8\u001b[0m bs \u001b[38;5;241m=\u001b[39m \u001b[43mproj\u001b[49m\u001b[38;5;241;43m.\u001b[39;49m\u001b[43manalyses\u001b[49m\u001b[38;5;241;43m.\u001b[39;49m\u001b[43mBackwardSlice\u001b[49m\u001b[43m(\u001b[49m\u001b[43mcfg\u001b[49m\u001b[43m,\u001b[49m\u001b[43m \u001b[49m\u001b[43mcdg\u001b[49m\u001b[38;5;241;43m=\u001b[39;49m\u001b[43mcdg\u001b[49m\u001b[43m,\u001b[49m\u001b[43m \u001b[49m\u001b[43mddg\u001b[49m\u001b[38;5;241;43m=\u001b[39;49m\u001b[43mddg\u001b[49m\u001b[43m,\u001b[49m\u001b[43m \u001b[49m\u001b[43mtargets\u001b[49m\u001b[38;5;241;43m=\u001b[39;49m\u001b[43m[\u001b[49m\u001b[43m \u001b[49m\u001b[38;5;241;43m4199728\u001b[39;49m\u001b[43m]\u001b[49m\u001b[43m)\u001b[49m\n\u001b[1;32m     10\u001b[0m \u001b[38;5;66;03m# Here is our awesome program slice!\u001b[39;00m\n\u001b[1;32m     11\u001b[0m \u001b[38;5;28mprint\u001b[39m(bs)\n",
      "File \u001b[0;32m~/anaconda3/envs/angr/lib/python3.9/site-packages/angr/analyses/analysis.py:143\u001b[0m, in \u001b[0;36mAnalysisFactory.__call__\u001b[0;34m(self, *args, **kwargs)\u001b[0m\n\u001b[1;32m    137\u001b[0m show_progressbar \u001b[38;5;241m=\u001b[39m kwargs\u001b[38;5;241m.\u001b[39mpop(\u001b[38;5;124m\"\u001b[39m\u001b[38;5;124mshow_progressbar\u001b[39m\u001b[38;5;124m\"\u001b[39m, \u001b[38;5;28;01mFalse\u001b[39;00m)\n\u001b[1;32m    139\u001b[0m w \u001b[38;5;241m=\u001b[39m \u001b[38;5;28mself\u001b[39m\u001b[38;5;241m.\u001b[39mprep(\n\u001b[1;32m    140\u001b[0m     fail_fast\u001b[38;5;241m=\u001b[39mfail_fast, kb\u001b[38;5;241m=\u001b[39mkb, progress_callback\u001b[38;5;241m=\u001b[39mprogress_callback, show_progressbar\u001b[38;5;241m=\u001b[39mshow_progressbar\n\u001b[1;32m    141\u001b[0m )\n\u001b[0;32m--> 143\u001b[0m r \u001b[38;5;241m=\u001b[39m \u001b[43mw\u001b[49m\u001b[43m(\u001b[49m\u001b[38;5;241;43m*\u001b[39;49m\u001b[43margs\u001b[49m\u001b[43m,\u001b[49m\u001b[43m \u001b[49m\u001b[38;5;241;43m*\u001b[39;49m\u001b[38;5;241;43m*\u001b[39;49m\u001b[43mkwargs\u001b[49m\u001b[43m)\u001b[49m\n\u001b[1;32m    144\u001b[0m \u001b[38;5;66;03m# clean up so that it's always pickleable\u001b[39;00m\n\u001b[1;32m    145\u001b[0m r\u001b[38;5;241m.\u001b[39m_progressbar \u001b[38;5;241m=\u001b[39m \u001b[38;5;28;01mNone\u001b[39;00m\n",
      "File \u001b[0;32m~/anaconda3/envs/angr/lib/python3.9/site-packages/angr/analyses/analysis.py:128\u001b[0m, in \u001b[0;36mAnalysisFactory.prep.<locals>.wrapper\u001b[0;34m(*args, **kwargs)\u001b[0m\n\u001b[1;32m    125\u001b[0m oself\u001b[38;5;241m.\u001b[39m_progress_callback \u001b[38;5;241m=\u001b[39m progress_callback\n\u001b[1;32m    127\u001b[0m oself\u001b[38;5;241m.\u001b[39m_show_progressbar \u001b[38;5;241m=\u001b[39m show_progressbar\n\u001b[0;32m--> 128\u001b[0m \u001b[43moself\u001b[49m\u001b[38;5;241;43m.\u001b[39;49m\u001b[38;5;21;43m__init__\u001b[39;49m\u001b[43m(\u001b[49m\u001b[38;5;241;43m*\u001b[39;49m\u001b[43margs\u001b[49m\u001b[43m,\u001b[49m\u001b[43m \u001b[49m\u001b[38;5;241;43m*\u001b[39;49m\u001b[38;5;241;43m*\u001b[39;49m\u001b[43mkwargs\u001b[49m\u001b[43m)\u001b[49m\n\u001b[1;32m    129\u001b[0m \u001b[38;5;28;01mreturn\u001b[39;00m oself\n",
      "File \u001b[0;32m~/anaconda3/envs/angr/lib/python3.9/site-packages/angr/analyses/backward_slice.py:80\u001b[0m, in \u001b[0;36mBackwardSlice.__init__\u001b[0;34m(self, cfg, cdg, ddg, targets, cfg_node, stmt_id, control_flow_slice, same_function, no_construct)\u001b[0m\n\u001b[1;32m     78\u001b[0m             \u001b[38;5;28mself\u001b[39m\u001b[38;5;241m.\u001b[39m_targets\u001b[38;5;241m.\u001b[39mappend(t)\n\u001b[1;32m     79\u001b[0m         \u001b[38;5;28;01melse\u001b[39;00m:\n\u001b[0;32m---> 80\u001b[0m             \u001b[38;5;28;01mraise\u001b[39;00m AngrBackwardSlicingError(\u001b[38;5;124m\"\u001b[39m\u001b[38;5;124mUnsupported type of target \u001b[39m\u001b[38;5;132;01m%s\u001b[39;00m\u001b[38;5;124m\"\u001b[39m \u001b[38;5;241m%\u001b[39m t)\n\u001b[1;32m     82\u001b[0m \u001b[38;5;66;03m# Save a list of taints to begin with at the beginning of each SimRun\u001b[39;00m\n\u001b[1;32m     83\u001b[0m \u001b[38;5;28mself\u001b[39m\u001b[38;5;241m.\u001b[39minitial_taints_per_run \u001b[38;5;241m=\u001b[39m \u001b[38;5;28;01mNone\u001b[39;00m\n",
      "\u001b[0;31mAngrBackwardSlicingError\u001b[0m: Unsupported type of target 4199728"
     ]
    }
   ],
   "source": [
    "# Let's get a BackwardSlice out of them!\n",
    "# ``targets`` is a list of objects, where each one is either a CodeLocation\n",
    "# object, or a tuple of CFGNode instance and a statement ID. Setting statement\n",
    "# ID to -1 means the very beginning of that CFGNode. A SimProcedure does not\n",
    "# have any statement, so you should always specify -1 for it.\n",
    "# bs = proj.analyses.BackwardSlice(cfg, cdg=cdg, ddg=ddg, targets=[ (target_node, -1) ])\n",
    "\n",
    "bs = proj.analyses.BackwardSlice(cfg, cdg=cdg, ddg=ddg, targets=[ 4199728])\n",
    "\n",
    "# Here is our awesome program slice!\n",
    "print(bs)"
   ]
  },
  {
   "cell_type": "code",
   "execution_count": 19,
   "id": "73d20457",
   "metadata": {},
   "outputs": [
    {
     "data": {
      "text/plain": [
       "BackwardSlice (to [(<CFGENode add 0x401530[78]>, -1)])"
      ]
     },
     "execution_count": 19,
     "metadata": {},
     "output_type": "execute_result"
    }
   ],
   "source": [
    "dir(bs)\n",
    "\n",
    "bs\n",
    "# plot_cfg(cfg, \"ais3_cfg\",asminst=True, remove_imports=True, remove_path_terminator=True)  \n",
    "# bs.log()\n"
   ]
  },
  {
   "cell_type": "code",
   "execution_count": 7,
   "id": "b893e55e",
   "metadata": {},
   "outputs": [
    {
     "name": "stdout",
     "output_type": "stream",
     "text": [
      "BackwardSlice (to [(<CFGENode add 0x401530[78]>, -1)])\n",
      "None\n",
      "None\n",
      "defaultdict(<class 'set'>, {})\n",
      "defaultdict(<class 'list'>, {})\n",
      "<bound method BackwardSlice.annotated_cfg of BackwardSlice (to [(<CFGENode add 0x401530[78]>, -1)])>\n"
     ]
    }
   ],
   "source": [
    "from angrutils import *\n",
    "print(bs)\n",
    "print(bs.runs_in_slice)\n",
    "print(bs.cfg_nodes_in_slice)\n",
    "print(bs.chosen_statements)\n",
    "print(bs.chosen_exits)\n",
    "print(bs.annotated_cfg)"
   ]
  },
  {
   "cell_type": "code",
   "execution_count": 8,
   "id": "642d467e",
   "metadata": {},
   "outputs": [],
   "source": [
    "plot_cfg(cfg, \"ais3_cfg\",asminst=True, remove_imports=True, remove_path_terminator=True)  "
   ]
  },
  {
   "cell_type": "code",
   "execution_count": 9,
   "id": "2502c73e",
   "metadata": {},
   "outputs": [
    {
     "data": {
      "text/plain": [
       "'BackwardSlice (to [(<CFGENode add 0x401530[78]>, -1)])\\n0 SimRuns in program slice.\\n'"
      ]
     },
     "execution_count": 9,
     "metadata": {},
     "output_type": "execute_result"
    }
   ],
   "source": [
    "bs.dbg_repr()"
   ]
  },
  {
   "cell_type": "code",
   "execution_count": 10,
   "id": "d92ac73a",
   "metadata": {},
   "outputs": [
    {
     "ename": "TypeError",
     "evalue": "'NoneType' object is not callable",
     "output_type": "error",
     "traceback": [
      "\u001b[0;31m---------------------------------------------------------------------------\u001b[0m",
      "\u001b[0;31mTypeError\u001b[0m                                 Traceback (most recent call last)",
      "Cell \u001b[0;32mIn[10], line 5\u001b[0m\n\u001b[1;32m      2\u001b[0m \u001b[38;5;28;01mimport\u001b[39;00m \u001b[38;5;21;01mmatplotlib\u001b[39;00m\u001b[38;5;21;01m.\u001b[39;00m\u001b[38;5;21;01mpyplot\u001b[39;00m \u001b[38;5;28;01mas\u001b[39;00m \u001b[38;5;21;01mplt\u001b[39;00m\n\u001b[1;32m      3\u001b[0m \u001b[38;5;66;03m# Need to create a layout when doing\u001b[39;00m\n\u001b[1;32m      4\u001b[0m \u001b[38;5;66;03m# separate calls to draw nodes and edges\u001b[39;00m\n\u001b[0;32m----> 5\u001b[0m G\u001b[38;5;241m=\u001b[39m \u001b[43mbs\u001b[49m\u001b[38;5;241;43m.\u001b[39;49m\u001b[43mcfg_nodes_in_slice\u001b[49m\u001b[43m(\u001b[49m\u001b[43m)\u001b[49m\n\u001b[1;32m      6\u001b[0m \u001b[38;5;28mprint\u001b[39m(G)\n\u001b[1;32m      7\u001b[0m pos \u001b[38;5;241m=\u001b[39m nx\u001b[38;5;241m.\u001b[39mspring_layout(G)\n",
      "\u001b[0;31mTypeError\u001b[0m: 'NoneType' object is not callable"
     ]
    }
   ],
   "source": [
    "import networkx as nx\n",
    "import matplotlib.pyplot as plt\n",
    "# Need to create a layout when doing\n",
    "# separate calls to draw nodes and edges\n",
    "G= bs.cfg_nodes_in_slice()\n",
    "print(G)\n",
    "pos = nx.spring_layout(G)\n",
    "nx.draw_networkx_nodes(G, pos, cmap=plt.get_cmap('jet'), \n",
    "                       node_color = values, node_size = 500)\n",
    "nx.draw_networkx_labels(G, pos)\n",
    "nx.draw_networkx_edges(G, pos, edgelist=red_edges, edge_color='r', arrows=True)\n",
    "nx.draw_networkx_edges(G, pos, edgelist=black_edges, arrows=False)\n",
    "plt.show()"
   ]
  },
  {
   "cell_type": "code",
   "execution_count": null,
   "id": "37fc146c",
   "metadata": {},
   "outputs": [],
   "source": []
  }
 ],
 "metadata": {
  "kernelspec": {
   "display_name": "angr",
   "language": "python",
   "name": "angr"
  },
  "language_info": {
   "codemirror_mode": {
    "name": "ipython",
    "version": 3
   },
   "file_extension": ".py",
   "mimetype": "text/x-python",
   "name": "python",
   "nbconvert_exporter": "python",
   "pygments_lexer": "ipython3",
   "version": "3.9.16"
  }
 },
 "nbformat": 4,
 "nbformat_minor": 5
}
