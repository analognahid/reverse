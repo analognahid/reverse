{
 "cells": [
  {
   "cell_type": "code",
   "execution_count": null,
   "id": "b37caeaf",
   "metadata": {},
   "outputs": [],
   "source": [
    "load file into binary\n",
    "check file if ELF\n",
    "use a library to parse the jeader\n",
    "get entry point?\n",
    "get offset and length of text section and virtual address and size\n",
    "get function address\n",
    "\n",
    "\n",
    "# python capstone library\n"
   ]
  }
 ],
 "metadata": {
  "kernelspec": {
   "display_name": "angr",
   "language": "python",
   "name": "angr"
  },
  "language_info": {
   "codemirror_mode": {
    "name": "ipython",
    "version": 3
   },
   "file_extension": ".py",
   "mimetype": "text/x-python",
   "name": "python",
   "nbconvert_exporter": "python",
   "pygments_lexer": "ipython3",
   "version": "3.9.16"
  }
 },
 "nbformat": 4,
 "nbformat_minor": 5
}
