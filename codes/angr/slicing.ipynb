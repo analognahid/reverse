{
 "cells": [
  {
   "cell_type": "code",
   "execution_count": 1,
   "id": "6b67474a-8326-4626-a934-a55cbb931349",
   "metadata": {},
   "outputs": [],
   "source": [
    "import os\n",
    "import angr, claripy\n",
    "\n",
    "\n",
    "filePath = '/home/nahid/reverse/binaries/fauxware'\n",
    "proj = angr.Project(filePath, load_options={\"auto_load_libs\": False})"
   ]
  },
  {
   "cell_type": "code",
   "execution_count": 2,
   "id": "781d9bbe",
   "metadata": {},
   "outputs": [
    {
     "name": "stderr",
     "output_type": "stream",
     "text": [
      "WARNING  | 2023-06-06 22:10:02,109 | angr.storage.memory_mixins.default_filler_mixin | The program is accessing register with an unspecified value. This could indicate unwanted behavior.\n",
      "WARNING  | 2023-06-06 22:10:02,110 | angr.storage.memory_mixins.default_filler_mixin | angr will cope with this by generating an unconstrained symbolic variable and continuing. You can resolve this by:\n",
      "WARNING  | 2023-06-06 22:10:02,110 | angr.storage.memory_mixins.default_filler_mixin | 1) setting a value to the initial state\n",
      "WARNING  | 2023-06-06 22:10:02,110 | angr.storage.memory_mixins.default_filler_mixin | 2) adding the state option ZERO_FILL_UNCONSTRAINED_{MEMORY,REGISTERS}, to make unknown regions hold null\n",
      "WARNING  | 2023-06-06 22:10:02,111 | angr.storage.memory_mixins.default_filler_mixin | 3) adding the state option SYMBOL_FILL_UNCONSTRAINED_{MEMORY,REGISTERS}, to suppress these messages.\n",
      "WARNING  | 2023-06-06 22:10:02,111 | angr.storage.memory_mixins.default_filler_mixin | Filling register r12 with 8 unconstrained bytes referenced from 0x40082a (__libc_csu_init+0x4a in fauxware (0x40082a))\n",
      "WARNING  | 2023-06-06 22:10:02,253 | angr.storage.memory_mixins.default_filler_mixin | Filling register rbx with 8 unconstrained bytes referenced from 0x400830 (__libc_csu_init+0x50 in fauxware (0x400830))\n",
      "WARNING  | 2023-06-06 22:10:02,254 | angr.storage.memory_mixins.default_filler_mixin | Filling register r12 with 8 unconstrained bytes referenced from 0x400830 (__libc_csu_init+0x50 in fauxware (0x400830))\n"
     ]
    }
   ],
   "source": [
    "\n",
    "\n",
    "cfg = proj.analyses.CFGEmulated(keep_state=True,\n",
    "                             state_add_options=angr.sim_options.refs,\n",
    "                             context_sensitivity_level=2)\n",
    "\n"
   ]
  },
  {
   "cell_type": "code",
   "execution_count": 3,
   "id": "7f06a482",
   "metadata": {},
   "outputs": [],
   "source": [
    "# Generate the control dependence graph\n",
    "cdg = proj.analyses.CDG(cfg)"
   ]
  },
  {
   "cell_type": "code",
   "execution_count": 4,
   "id": "d4ae350f",
   "metadata": {},
   "outputs": [
    {
     "name": "stdout",
     "output_type": "stream",
     "text": [
      "Function exit [4195696]\n",
      "  Syscall: False\n",
      "  SP difference: 0\n",
      "  Has return: False\n",
      "  Returning: False\n",
      "  Alignment: False\n",
      "  Arguments: reg: [], stack: []\n",
      "  Blocks: [0x400570]\n",
      "  Calling convention: None\n"
     ]
    }
   ],
   "source": [
    "# Build the data dependence graph. It might take a while. Be patient!\n",
    "ddg = proj.analyses.DDG(cfg)\n",
    "\n",
    "\n",
    "# See where we wanna go... let's go to the exit() call, which is modeled as a\n",
    "# SimProcedure.\n",
    "target_func = cfg.kb.functions.function(name=\"exit\")\n",
    "print(target_func)\n",
    "# We need the CFGNode instance\n",
    "target_node = cfg.get_any_node(target_func.addr)"
   ]
  },
  {
   "cell_type": "code",
   "execution_count": 5,
   "id": "f9ee4523",
   "metadata": {},
   "outputs": [
    {
     "name": "stdout",
     "output_type": "stream",
     "text": [
      "<CFGENode 0x400570[6]>\n"
     ]
    }
   ],
   "source": [
    "print(target_node)"
   ]
  },
  {
   "cell_type": "code",
   "execution_count": 6,
   "id": "292a98ee",
   "metadata": {},
   "outputs": [
    {
     "name": "stdout",
     "output_type": "stream",
     "text": [
      "Target Node:  <CFGENode 0x400570[6]>\n"
     ]
    }
   ],
   "source": [
    "# Let's get a BackwardSlice out of them!\n",
    "# ``targets`` is a list of objects, where each one is either a CodeLocation\n",
    "# object, or a tuple of CFGNode instance and a statement ID. Setting statement\n",
    "# ID to -1 means the very beginning of that CFGNode. A SimProcedure does not\n",
    "# have any statement, so you should always specify -1 for it.\n",
    "print('Target Node: ', target_node)\n",
    "bs = proj.analyses.BackwardSlice(cfg, cdg=cdg, ddg=ddg, targets=[ (target_node, -1) ])\n",
    "\n"
   ]
  },
  {
   "cell_type": "code",
   "execution_count": 21,
   "id": "32bc00a9",
   "metadata": {},
   "outputs": [
    {
     "name": "stdout",
     "output_type": "stream",
     "text": [
      "None\n",
      "cfg_nodes_in_slice None\n",
      "chosen_statements defaultdict(<class 'set'>, {4196093: {-2}, 4196115: {-2}, 4195696: {-2}, 4196275: {30, -2}, 4196297: {-2}, 4196040: {-2}, 4196059: {-2}, 4196070: {-2}, 4195982: {17, -2}, 4195986: {-2}, 4196075: {-2}, 4195940: {-2}, 4195664: {-2}, 7340064: {-2}, 4195918: {13, -2}, 4195756: {19, -2}, 4195904: {21, -2}, 4195774: {-2}, 4195561: {-2}, 4195993: {-2}, 4196015: {-2}})\n",
      "\n",
      "\n",
      " chosen_exits defaultdict(<class 'list'>, {4196093: [(-2, 4196115)], 4196275: [(30, 4196297)], 4196040: [(-2, 4196059)], 4195982: [(17, 4195986), (-2, 4195993)], 4195940: [(-2, 4195982), (-2, 4195664)], 4195904: [(-2, 4195918)], 4195756: [(19, 4195774)], 4195993: [(-2, 4196015)], 4196115: [(-2, None)], 4196297: [(-2, None)], 4196059: [(-2, None)], 4195986: [(-2, None)], 4195664: [(-2, None)], 4195918: [(-2, None)], 4195774: [(-2, None)], 4196015: [(-2, None)], None: [(-2, None)], 4195561: [], 4195696: []})\n",
      "['__class__', '__delattr__', '__dict__', '__dir__', '__doc__', '__eq__', '__format__', '__ge__', '__getattribute__', '__getstate__', '__gt__', '__hash__', '__init__', '__init_subclass__', '__le__', '__lt__', '__module__', '__ne__', '__new__', '__reduce__', '__reduce_ex__', '__repr__', '__setattr__', '__sizeof__', '__str__', '__subclasshook__', '__weakref__', '_addr_to_last_stmt_id', '_addr_to_run', '_cfg', '_detect_loops', '_exit_taken', '_loops', '_path_merge_points', '_project', '_run_statement_whitelist', '_target', 'add_block_to_whitelist', 'add_exit_to_whitelist', 'add_loop', 'add_statements_to_whitelist', 'dbg_print_irsb', 'dbg_repr', 'from_digraph', 'get_addr', 'get_last_statement_index', 'get_loops', 'get_run', 'get_targets', 'get_whitelisted_statements', 'keep_path', 'merge_points', 'set_last_statement', 'should_execute_statement', 'should_take_exit', 'successor_func']\n"
     ]
    }
   ],
   "source": [
    "from angrutils import *\n",
    "# print(bs.kb.cfgs.cfgs.values())\n",
    "print(bs.runs_in_slice)\n",
    "print('cfg_nodes_in_slice',bs.cfg_nodes_in_slice)\n",
    "print('chosen_statements',bs.chosen_statements)\n",
    "print('\\n\\n chosen_exits',bs.chosen_exits)\n",
    "acfg = bs.annotated_cfg()\n",
    "print(dir( acfg))\n"
   ]
  },
  {
   "cell_type": "code",
   "execution_count": 11,
   "id": "b39d9ac8",
   "metadata": {},
   "outputs": [],
   "source": [
    "plot_cfg(cfg, \"faux\", asminst = True, remove_imports = True, remove_path_terminator=True)  "
   ]
  },
  {
   "cell_type": "code",
   "execution_count": 12,
   "id": "9aeaf4f5",
   "metadata": {},
   "outputs": [
    {
     "data": {
      "text/plain": [
       "'BackwardSlice (to [(<CFGENode 0x400570[6]>, -1)])\\n21 SimRuns in program slice, displaying 10.\\n0x4004e9\\n-[  0] ------ IMark(0x4004e9, 5, 0) ------\\n-[  1] t3 = GET:I64(offset=48)\\n-[  2] t2 = Sub64(t3,0x0000000000000008)\\n-[  3] PUT(offset=48) = t2\\n-[  4] STle(t2) = 0x00000000004004ee\\n-[  5] t4 = Sub64(t2,0x0000000000000080)\\n-[  6] ====== AbiHint(0xt4, 128, 0x0000000000400640) ======\\nChosen exits: \\n0x400550\\n-[  0] ------ IMark(0x400550, 6, 0) ------\\n-[  1] t2 = LDle:I64(0x0000000000601020)\\nChosen exits: default\\n0x400570\\n-[  0] ------ IMark(0x400570, 6, 0) ------\\n-[  1] t2 = LDle:I64(0x0000000000601030)\\nChosen exits: \\n0x4005ac\\n-[  0] ------ IMark(0x4005ac, 4, 0) ------\\n-[  1] t2 = GET:I64(offset=48)\\n-[  2] t0 = Sub64(t2,0x0000000000000008)\\n-[  3] PUT(offset=48) = t0\\n-[  4] PUT(offset=184) = 0x00000000004005b0\\n-[  5] ------ IMark(0x4005b0, 7, 0) ------\\n-[  6] t7 = LDle:I64(0x0000000000600fe0)\\n-[  7] PUT(offset=16) = t7\\n-[  8] ------ IMark(0x4005b7, 3, 0) ------\\n-[  9] PUT(offset=144) = 0x0000000000000014\\n-[ 10] PUT(offset=152) = t7\\n-[ 11] PUT(offset=160) = 0x0000000000000000\\n-[ 12] PUT(offset=184) = 0x00000000004005ba\\n-[ 13] ------ IMark(0x4005ba, 2, 0) ------\\n-[ 14] t16 = CmpEQ64(t7,0x0000000000000000)\\n-[ 15] t15 = 1Uto64(t16)\\n-[ 16] t13 = t15\\n-[ 17] t17 = 64to1(t13)\\n-[ 18] t8 = t17\\n+[ 19] if (t8) { PUT(offset=184) = 0x4005be; Ijk_Boring }\\nChosen exits: 0x4005be\\n0x4005be\\n-[  0] ------ IMark(0x4005be, 4, 0) ------\\n-[  1] t2 = GET:I64(offset=48)\\n-[  2] t0 = Add64(t2,0x0000000000000008)\\n-[  3] PUT(offset=144) = 0x0000000000000004\\n-[  4] PUT(offset=152) = t2\\n-[  5] PUT(offset=160) = 0x0000000000000008\\n-[  6] PUT(offset=48) = t0\\n-[  7] PUT(offset=184) = 0x00000000004005c2\\n-[  8] ------ IMark(0x4005c2, 1, 0) ------\\n-[  9] t4 = LDle:I64(t0)\\n-[ 10] t5 = Add64(t0,0x0000000000000008)\\n-[ 11] PUT(offset=48) = t5\\n-[ 12] t6 = Sub64(t5,0x0000000000000080)\\n-[ 13] ====== AbiHint(0xt6, 128, t4) ======\\nChosen exits: default\\n0x400640\\n-[  0] ------ IMark(0x400640, 8, 0) ------\\n-[  1] t2 = LDle:I64(0x0000000000600e48)\\n-[  2] PUT(offset=144) = 0x0000000000000008\\n-[  3] PUT(offset=152) = t2\\n-[  4] PUT(offset=160) = 0x0000000000000000\\n-[  5] PUT(offset=184) = 0x0000000000400648\\n-[  6] ------ IMark(0x400648, 1, 0) ------\\n-[  7] t4 = GET:I64(offset=56)\\n-[  8] t7 = GET:I64(offset=48)\\n-[  9] t6 = Sub64(t7,0x0000000000000008)\\n-[ 10] PUT(offset=48) = t6\\n-[ 11] STle(t6) = t4\\n-[ 12] ------ IMark(0x400649, 3, 0) ------\\n-[ 13] PUT(offset=56) = t6\\n-[ 14] PUT(offset=184) = 0x000000000040064c\\n-[ 15] ------ IMark(0x40064c, 2, 0) ------\\n-[ 16] t17 = CmpEQ64(t2,0x0000000000000000)\\n-[ 17] t16 = 1Uto64(t17)\\n-[ 18] t14 = t16\\n-[ 19] t18 = 64to1(t14)\\n-[ 20] t9 = t18\\n+[ 21] if (t9) { PUT(offset=184) = 0x400660; Ijk_Boring }\\nChosen exits: 0x40064e\\n0x40064e\\n-[  0] ------ IMark(0x40064e, 5, 0) ------\\n-[  1] PUT(offset=16) = 0x0000000000000000\\n-[  2] ------ IMark(0x400653, 3, 0) ------\\n-[  3] PUT(offset=144) = 0x0000000000000014\\n-[  4] PUT(offset=152) = 0x0000000000000000\\n-[  5] PUT(offset=160) = 0x0000000000000000\\n-[  6] PUT(offset=184) = 0x0000000000400656\\n-[  7] ------ IMark(0x400656, 2, 0) ------\\n-[  8] t12 = CmpEQ64(0x0000000000000000,0x0000000000000000)\\n-[  9] t11 = 1Uto64(t12)\\n-[ 10] t9 = t11\\n-[ 11] t13 = 64to1(t9)\\n-[ 12] t4 = t13\\n+[ 13] if (t4) { PUT(offset=184) = 0x400660; Ijk_Boring }\\nChosen exits: default\\n0x400664\\n-[  0] ------ IMark(0x400664, 1, 0) ------\\n-[  1] t0 = GET:I64(offset=56)\\n-[  2] t13 = GET:I64(offset=48)\\n-[  3] t12 = Sub64(t13,0x0000000000000008)\\n-[  4] PUT(offset=48) = t12\\n-[  5] STle(t12) = t0\\n-[  6] ------ IMark(0x400665, 3, 0) ------\\n-[  7] PUT(offset=56) = t12\\n-[  8] ------ IMark(0x400668, 4, 0) ------\\n-[  9] t2 = Sub64(t12,0x0000000000000020)\\n-[ 10] PUT(offset=144) = 0x0000000000000008\\n-[ 11] PUT(offset=152) = t12\\n-[ 12] PUT(offset=160) = 0x0000000000000020\\n-[ 13] PUT(offset=48) = t2\\n-[ 14] PUT(offset=184) = 0x000000000040066c\\n-[ 15] ------ IMark(0x40066c, 4, 0) ------\\n-[ 16] t15 = Add64(t12,0xffffffffffffffe8)\\n-[ 17] t17 = GET:I64(offset=72)\\n-[ 18] STle(t15) = t17\\n-[ 19] PUT(offset=184) = 0x0000000000400670\\n-[ 20] ------ IMark(0x400670, 4, 0) ------\\n-[ 21] t18 = Add64(t12,0xffffffffffffffe0)\\n-[ 22] t20 = GET:I64(offset=64)\\n-[ 23] STle(t18) = t20\\n-[ 24] PUT(offset=184) = 0x0000000000400674\\n-[ 25] ------ IMark(0x400674, 4, 0) ------\\n-[ 26] t21 = Add64(t12,0xfffffffffffffff8)\\n-[ 27] STle(t21) = 0x00\\n-[ 28] PUT(offset=184) = 0x0000000000400678\\n-[ 29] ------ IMark(0x400678, 7, 0) ------\\n-[ 30] t23 = LDle:I64(0x0000000000601048)\\n-[ 31] PUT(offset=32) = t23\\n-[ 32] PUT(offset=184) = 0x000000000040067f\\n-[ 33] ------ IMark(0x40067f, 4, 0) ------\\n-[ 34] t24 = Add64(t12,0xffffffffffffffe0)\\n-[ 35] t26 = LDle:I64(t24)\\n-[ 36] PUT(offset=16) = t26\\n-[ 37] ------ IMark(0x400683, 3, 0) ------\\n-[ 38] PUT(offset=64) = t23\\n-[ 39] ------ IMark(0x400686, 3, 0) ------\\n-[ 40] PUT(offset=72) = t26\\n-[ 41] PUT(offset=184) = 0x0000000000400689\\n-[ 42] ------ IMark(0x400689, 5, 0) ------\\n-[ 43] t29 = Sub64(t2,0x0000000000000008)\\n-[ 44] PUT(offset=48) = t29\\n-[ 45] STle(t29) = 0x000000000040068e\\n-[ 46] t31 = Sub64(t29,0x0000000000000080)\\n-[ 47] ====== AbiHint(0xt31, 128, 0x0000000000400550) ======\\nChosen exits: 0x40068e, 0x400550\\n0x40068e\\n-[  0] ------ IMark(0x40068e, 2, 0) ------\\n-[  1] t4 = GET:I64(offset=16)\\n-[  2] t15 = 64to32(t4)\\n-[  3] t3 = t15\\n-[  4] PUT(offset=144) = 0x0000000000000013\\n-[  5] t16 = 32Uto64(t3)\\n-[  6] t7 = t16\\n-[  7] PUT(offset=152) = t7\\n-[  8] PUT(offset=160) = 0x0000000000000000\\n-[  9] PUT(offset=184) = 0x0000000000400690\\n-[ 10] ------ IMark(0x400690, 2, 0) ------\\n-[ 11] t19 = 64to32(t7)\\n-[ 12] t18 = CmpEQ32(t19,0x00000000)\\n-[ 13] t17 = 1Uto64(t18)\\n-[ 14] t13 = t17\\n-[ 15] t20 = 64to1(t13)\\n-[ 16] t8 = t20\\n+[ 17] if (t8) { PUT(offset=184) = 0x400692; Ijk_Boring }\\nChosen exits: 0x400692, 0x400699\\n0x400692\\n-[  0] ------ IMark(0x400692, 5, 0) ------\\n-[  1] PUT(offset=16) = 0x0000000000000001\\n-[  2] ------ IMark(0x400697, 2, 0) ------\\nChosen exits: default\\n'"
      ]
     },
     "execution_count": 12,
     "metadata": {},
     "output_type": "execute_result"
    }
   ],
   "source": [
    "bs.dbg_repr()"
   ]
  },
  {
   "cell_type": "code",
   "execution_count": 13,
   "id": "9a481c6c",
   "metadata": {},
   "outputs": [],
   "source": [
    "# import networkx as nx\n",
    "# import matplotlib.pyplot as plt\n",
    "# # Need to create a layout when doing\n",
    "# # separate calls to draw nodes and edges\n",
    "# G= bs.cfg_nodes_in_slice()\n",
    "# print(G)\n",
    "# pos = nx.spring_layout(G)\n",
    "# nx.draw_networkx_nodes(G, pos, cmap=plt.get_cmap('jet'), \n",
    "#                        node_color = values, node_size = 500)\n",
    "# nx.draw_networkx_labels(G, pos)\n",
    "# nx.draw_networkx_edges(G, pos, edgelist=red_edges, edge_color='r', arrows=True)\n",
    "# nx.draw_networkx_edges(G, pos, edgelist=black_edges, arrows=False)\n",
    "# plt.show()"
   ]
  },
  {
   "cell_type": "code",
   "execution_count": null,
   "id": "c5508f1e",
   "metadata": {},
   "outputs": [],
   "source": []
  }
 ],
 "metadata": {
  "kernelspec": {
   "display_name": "angr",
   "language": "python",
   "name": "angr"
  },
  "language_info": {
   "codemirror_mode": {
    "name": "ipython",
    "version": 3
   },
   "file_extension": ".py",
   "mimetype": "text/x-python",
   "name": "python",
   "nbconvert_exporter": "python",
   "pygments_lexer": "ipython3",
   "version": "3.9.16"
  }
 },
 "nbformat": 4,
 "nbformat_minor": 5
}
