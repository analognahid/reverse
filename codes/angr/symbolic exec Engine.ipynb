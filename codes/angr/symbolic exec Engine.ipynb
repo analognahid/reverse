{
 "cells": [
  {
   "cell_type": "code",
   "execution_count": 1,
   "id": "76f83320",
   "metadata": {},
   "outputs": [
    {
     "name": "stderr",
     "output_type": "stream",
     "text": [
      "WARNING  | 2023-02-07 13:46:21,443 | cle.loader     | The main binary is a position-independent executable. It is being loaded with a base address of 0x400000.\n"
     ]
    }
   ],
   "source": [
    "import os\n",
    "import angr\n",
    "\n",
    "\n",
    "\n",
    "proj = angr.Project('/home/nahid/reverse/binaries/a.out')"
   ]
  },
  {
   "cell_type": "code",
   "execution_count": 2,
   "id": "3c330b1f",
   "metadata": {},
   "outputs": [],
   "source": [
    "state = proj.factory.entry_state()"
   ]
  },
  {
   "cell_type": "code",
   "execution_count": 3,
   "id": "d9265fc4",
   "metadata": {},
   "outputs": [
    {
     "name": "stdout",
     "output_type": "stream",
     "text": [
      "<BV64 0x1>\n",
      "<BV64 0x64>\n",
      "<BV27 0x9>\n"
     ]
    }
   ],
   "source": [
    "# 64-bit bitvectors with concrete values 1 and 100\n",
    "one = state.solver.BVV(1, 64)\n",
    "print(one)\n",
    "\n",
    " \n",
    "one_hundred = state.solver.BVV(100, 64)\n",
    "print(one_hundred)\n",
    " \n",
    "\n",
    "# create a 27-bit bitvector with concrete value 9\n",
    "weird_nine = state.solver.BVV(9, 27)\n",
    "print(weird_nine)"
   ]
  },
  {
   "cell_type": "code",
   "execution_count": 4,
   "id": "165bb098",
   "metadata": {},
   "outputs": [
    {
     "name": "stdout",
     "output_type": "stream",
     "text": [
      "8\n",
      "<BV64 0x55488b05b8130000>\n",
      "<BV64 0x55488b05b8130001>\n",
      "<BV64 0xaaaaaaaaaaaaaaaa>\n",
      "<BV64 0x5555555555555555>\n"
     ]
    }
   ],
   "source": [
    "\n",
    "\n",
    "byteStr = b\"\\x55\\x48\\x8b\\x05\\xb8\\x13\\x00\\x00\" \n",
    "print(len(byteStr))\n",
    "temp = state.solver.BVV(byteStr,64)\n",
    "print(temp)\n",
    "print(one+ temp)\n",
    "\n",
    "\n",
    "\n",
    "onezero = state.solver.BVV(12297829382473034410,64) \n",
    "print(onezero)\n",
    "print(onezero/2)"
   ]
  },
  {
   "cell_type": "code",
   "execution_count": 5,
   "id": "8ea97750",
   "metadata": {},
   "outputs": [
    {
     "name": "stdout",
     "output_type": "stream",
     "text": [
      "<BV64 0x65>\n",
      "<BV64 0x164>\n",
      "<BV64 0xffffffffffffff9c>\n",
      "<BV27 0x9>\n",
      "<BV27 0x9>\n",
      "<BV64 0xa>\n"
     ]
    }
   ],
   "source": [
    "print(one + one_hundred)\n",
    "\n",
    "\n",
    "# You can provide normal Python integers and they will be coerced to the appropriate type:\n",
    "print(one_hundred + 0x100)\n",
    "\n",
    "\n",
    "# The semantics of normal wrapping arithmetic apply\n",
    "print(one_hundred - one*200)\n",
    "\n",
    "\n",
    "print(weird_nine)\n",
    "weird_nine.zero_extend(64 - 27)\n",
    "print(weird_nine)\n",
    "\n",
    "print(one + weird_nine.zero_extend(64 - 27))\n",
    "\n"
   ]
  },
  {
   "cell_type": "code",
   "execution_count": 6,
   "id": "a2d5231f",
   "metadata": {},
   "outputs": [
    {
     "name": "stdout",
     "output_type": "stream",
     "text": [
      "<BV64 x_49_64>\n",
      "<BV64 y_50_64>\n"
     ]
    }
   ],
   "source": [
    "# Create a bitvector symbol named \"x\" of length 64 bits\n",
    "x = state.solver.BVS(\"x\", 64)\n",
    "print(x)\n",
    "\n",
    "y = state.solver.BVS(\"y\", 64)\n",
    "print(y)\n"
   ]
  },
  {
   "cell_type": "code",
   "execution_count": 7,
   "id": "4ca49325",
   "metadata": {},
   "outputs": [
    {
     "name": "stdout",
     "output_type": "stream",
     "text": [
      "<BV64 x_49_64 + 0x1>\n",
      "<BV64 (x_49_64 + 0x1) / 0x2>\n",
      "<BV64 x_49_64 - y_50_64>\n"
     ]
    }
   ],
   "source": [
    "print(x + one)\n",
    "\n",
    "\n",
    "print((x + one) / 2)\n",
    "\n",
    "\n",
    "print( x - y)\n"
   ]
  },
  {
   "cell_type": "code",
   "execution_count": null,
   "id": "1921a192",
   "metadata": {},
   "outputs": [],
   "source": []
  },
  {
   "cell_type": "code",
   "execution_count": 7,
   "id": "a4ee893f",
   "metadata": {},
   "outputs": [
    {
     "name": "stdout",
     "output_type": "stream",
     "text": [
      "<BV64 (x_49_64 + 0x1) / (y_50_64 + 0x2)>\n",
      "__floordiv__\n",
      "(<BV64 x_49_64 + 0x1>, <BV64 y_50_64 + 0x2>)\n",
      "__add__\n",
      "(<BV64 x_49_64>, <BV64 0x1>)\n",
      "BVV\n",
      "(1, 64)\n"
     ]
    }
   ],
   "source": [
    "tree = (x + 1) / (y + 2)\n",
    "print(tree)\n",
    "\n",
    "print(tree.op)\n",
    "\n",
    "print(tree.args)\n",
    "\n",
    "\n",
    "print(tree.args[0].op)\n",
    "\n",
    "print(tree.args[0].args)\n",
    "\n",
    "\n",
    "print(tree.args[0].args[1].op)\n",
    "\n",
    "\n",
    "print(tree.args[0].args[1].args)\n"
   ]
  },
  {
   "cell_type": "code",
   "execution_count": 9,
   "id": "5d35c483",
   "metadata": {},
   "outputs": [
    {
     "data": {
      "text/plain": [
       "0"
      ]
     },
     "execution_count": 9,
     "metadata": {},
     "output_type": "execute_result"
    }
   ],
   "source": [
    "# get a fresh state without constraints\n",
    "state = proj.factory.entry_state()\n",
    "\n",
    "input = state.solver.BVS('input', 64)\n",
    "\n",
    "operation = input * 5 + 100\n",
    "output = 200\n",
    "state.solver.add(operation < output)\n",
    "state.solver.eval(input)\n"
   ]
  },
  {
   "cell_type": "code",
   "execution_count": 10,
   "id": "246d0a67",
   "metadata": {},
   "outputs": [
    {
     "data": {
      "text/plain": [
       "False"
      ]
     },
     "execution_count": 10,
     "metadata": {},
     "output_type": "execute_result"
    }
   ],
   "source": [
    "state = proj.factory.entry_state()\n",
    "input = state.solver.BVS('input', 64)\n",
    "operation = input <100\n",
    "output = 200\n",
    "\n",
    "state.solver.add(operation == output)\n",
    "state.solver.satisfiable()"
   ]
  },
  {
   "cell_type": "code",
   "execution_count": null,
   "id": "990a37ad-7d1c-4af2-8b29-c63a63bf609b",
   "metadata": {},
   "outputs": [],
   "source": []
  }
 ],
 "metadata": {
  "kernelspec": {
   "display_name": "angr",
   "language": "python",
   "name": "angr"
  },
  "language_info": {
   "codemirror_mode": {
    "name": "ipython",
    "version": 3
   },
   "file_extension": ".py",
   "mimetype": "text/x-python",
   "name": "python",
   "nbconvert_exporter": "python",
   "pygments_lexer": "ipython3",
   "version": "3.9.16"
  }
 },
 "nbformat": 4,
 "nbformat_minor": 5
}
