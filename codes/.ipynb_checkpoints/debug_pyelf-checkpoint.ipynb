{
 "cells": [
  {
   "cell_type": "code",
   "execution_count": 6,
   "id": "4484677a-c4e8-4aaf-bacf-1665fd32d8b2",
   "metadata": {},
   "outputs": [],
   "source": [
    "import os\n",
    "\n",
    "filePath = '/home/nahid/reverse/binaries/c_many/stacktest'\n"
   ]
  },
  {
   "cell_type": "code",
   "execution_count": 27,
   "id": "d7455ed5-b47d-4779-9003-26ff1e7572ed",
   "metadata": {},
   "outputs": [],
   "source": [
    "#!/usr/bin/env python3\n",
    "\n",
    "import sys\n",
    "from elftools.elf.elffile import ELFFile\n",
    "from elftools.elf.segments import Segment\n",
    "\n",
    "\n",
    "    "
   ]
  },
  {
   "cell_type": "code",
   "execution_count": 49,
   "id": "08dba483-c692-484f-a740-a147461096b0",
   "metadata": {},
   "outputs": [
    {
     "name": "stdout",
     "output_type": "stream",
     "text": [
      "True\n",
      "/home/nahid/reverse/binaries/c_many/stack.c\n",
      "/home/nahid/reverse/binaries/c_many/main.c\n",
      "/home/nahid/reverse/binaries/c_many/calculate.c\n"
     ]
    }
   ],
   "source": [
    "\n",
    "with open(filePath, 'rb') as f:\n",
    "    elffile =  ELFFile(f)\n",
    "    \n",
    "    print(elffile.has_dwarf_info())\n",
    "    dwarfinfo = elffile.get_dwarf_info()\n",
    "    \n",
    "    \n",
    "    for cu in dwarfinfo.iter_CUs():\n",
    "        for cu_die in cu.iter_DIEs():\n",
    "            source_file_path = cu_die.get_full_path()\n",
    "            print(source_file_path)\n",
    "            break\n",
    "        # break\n",
    "#         # print(cu.header)\n",
    "#         line_program = dwarfinfo.line_program_for_CU(cu)\n",
    "#         # print(line_program)\n",
    "#         entries = line_program.get_entries()\n",
    "#         print(len(entries))\n",
    "    \n",
    "#         for entry in entries:\n",
    "#             print(entry)\n",
    "#             # break\n",
    "#         break"
   ]
  },
  {
   "cell_type": "code",
   "execution_count": null,
   "id": "b49e0c95-cbc5-461c-bd4f-9690b6abfd33",
   "metadata": {},
   "outputs": [],
   "source": []
  }
 ],
 "metadata": {
  "kernelspec": {
   "display_name": "angr",
   "language": "python",
   "name": "angr"
  },
  "language_info": {
   "codemirror_mode": {
    "name": "ipython",
    "version": 3
   },
   "file_extension": ".py",
   "mimetype": "text/x-python",
   "name": "python",
   "nbconvert_exporter": "python",
   "pygments_lexer": "ipython3",
   "version": "3.9.16"
  }
 },
 "nbformat": 4,
 "nbformat_minor": 5
}
