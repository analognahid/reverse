{
 "cells": [
  {
   "cell_type": "code",
   "execution_count": 3,
   "id": "e835e377",
   "metadata": {},
   "outputs": [],
   "source": [
    "import os\n",
    "\n",
    "\n",
    "\n",
    "binFile=[]\n",
    "\n",
    "filePath = '/home/nahid/reverse/binaries/elf-Linux-ARM64-bash'\n",
    "\n",
    "with open(filePath, \"rb\") as f:\n",
    "    while (byte := f.read(1)):\n",
    "        binFile.append(byte)\n"
   ]
  },
  {
   "cell_type": "code",
   "execution_count": 4,
   "id": "124d350c",
   "metadata": {},
   "outputs": [
    {
     "name": "stdout",
     "output_type": "stream",
     "text": [
      "847400\n"
     ]
    }
   ],
   "source": [
    "print(len(binFile))"
   ]
  },
  {
   "cell_type": "code",
   "execution_count": 6,
   "id": "93861493",
   "metadata": {},
   "outputs": [
    {
     "name": "stdout",
     "output_type": "stream",
     "text": [
      "Segments of the file /home/nahid/reverse/binaries/elf-Linux-ARM64-bash which size on disk and in memory differs\n",
      "Type: PT_LOAD\n",
      "Offset: 0xc5dd0\n",
      "Size in file:0x8898\n",
      "Size in memory:0xe3c8\n"
     ]
    }
   ],
   "source": [
    "#!/usr/bin/env python3\n",
    "\n",
    "import sys\n",
    "from elftools.elf.elffile import ELFFile\n",
    "from elftools.elf.segments import Segment\n",
    "\n",
    "\n",
    "\n",
    "\n",
    "print(f\"Segments of the file {filePath} which size on disk and in memory differs\")\n",
    "\n",
    "with open(filePath, 'rb') as elffile:\n",
    "    temp =  ELFFile(elffile)\n",
    "    \n",
    "    for segment in ELFFile(elffile).iter_segments():\n",
    "        if segment.header.p_filesz != segment.header.p_memsz:\n",
    "            seg_head = segment.header\n",
    "            print(f\"Type: {seg_head.p_type}\\nOffset: {hex(seg_head.p_offset)}\\nSize in file:{hex(seg_head.p_filesz)}\\nSize in memory:{hex(seg_head.p_memsz)}\")"
   ]
  },
  {
   "cell_type": "code",
   "execution_count": 7,
   "id": "92e12aed",
   "metadata": {},
   "outputs": [
    {
     "name": "stdout",
     "output_type": "stream",
     "text": [
      "0x1000:\tpush\trbp\n",
      "0x1001:\tmov\trax, qword ptr [rip + 0x13b8]\n"
     ]
    }
   ],
   "source": [
    "# test1.py\n",
    "from capstone import *\n",
    "\n",
    "CODE = b\"\\x55\\x48\\x8b\\x05\\xb8\\x13\\x00\\x00\"\n",
    "\n",
    "md = Cs(CS_ARCH_X86, CS_MODE_64)\n",
    "for i in md.disasm(CODE, 0x1000):\n",
    "    print(\"0x%x:\\t%s\\t%s\" %(i.address, i.mnemonic, i.op_str))\n"
   ]
  },
  {
   "cell_type": "code",
   "execution_count": null,
   "id": "b03dc28d",
   "metadata": {},
   "outputs": [],
   "source": []
  }
 ],
 "metadata": {
  "kernelspec": {
   "display_name": "angr",
   "language": "python",
   "name": "angr"
  },
  "language_info": {
   "codemirror_mode": {
    "name": "ipython",
    "version": 3
   },
   "file_extension": ".py",
   "mimetype": "text/x-python",
   "name": "python",
   "nbconvert_exporter": "python",
   "pygments_lexer": "ipython3",
   "version": "3.9.16"
  }
 },
 "nbformat": 4,
 "nbformat_minor": 5
}
