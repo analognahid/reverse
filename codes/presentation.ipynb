{
 "cells": [
  {
   "cell_type": "code",
   "execution_count": 1,
   "id": "fd85f3fc",
   "metadata": {},
   "outputs": [],
   "source": [
    "import angr, claripy , os\n"
   ]
  },
  {
   "cell_type": "code",
   "execution_count": 2,
   "id": "e8fe4798",
   "metadata": {},
   "outputs": [],
   "source": [
    "import logging\n",
    "logging.getLogger('angr').setLevel(logging.INFO)\n"
   ]
  },
  {
   "cell_type": "code",
   "execution_count": 3,
   "id": "21948635",
   "metadata": {},
   "outputs": [
    {
     "name": "stderr",
     "output_type": "stream",
     "text": [
      "INFO     | 2023-02-07 13:57:41,952 | angr.project   | Loading binary /home/nahid/reverse/binaries/pass\n",
      "WARNING  | 2023-02-07 13:57:42,046 | cle.loader     | The main binary is a position-independent executable. It is being loaded with a base address of 0x400000.\n",
      "INFO     | 2023-02-07 13:57:42,048 | angr.project   | Using builtin SimProcedure for unresolved __libc_start_main from libc.so.0\n",
      "INFO     | 2023-02-07 13:57:42,049 | angr.project   | Using builtin SimProcedure for unresolved puts from libc.so.0\n",
      "INFO     | 2023-02-07 13:57:42,050 | angr.project   | Using builtin SimProcedure for unresolved __stack_chk_fail from libc.so.0\n",
      "INFO     | 2023-02-07 13:57:42,050 | angr.project   | Using builtin SimProcedure for unresolved printf from libc.so.0\n",
      "INFO     | 2023-02-07 13:57:42,051 | angr.project   | Using builtin SimProcedure for unresolved read from libc.so.0\n",
      "INFO     | 2023-02-07 13:57:42,052 | angr.project   | Using builtin SimProcedure for unresolved strcmp from libc.so.0\n",
      "INFO     | 2023-02-07 13:57:42,053 | angr.project   | Using builtin SimProcedure for unresolved open from libc.so.0\n",
      "INFO     | 2023-02-07 13:57:42,056 | angr.project   | Using builtin SimProcedure for unresolved exit from libc.so.0\n"
     ]
    }
   ],
   "source": [
    "filePath = '/home/nahid/reverse/binaries/pass'\n",
    "proj = angr.Project(filePath, auto_load_libs=False)"
   ]
  },
  {
   "cell_type": "code",
   "execution_count": 4,
   "id": "628b0ce5",
   "metadata": {},
   "outputs": [],
   "source": [
    "entry_state = proj.factory.entry_state()\n"
   ]
  },
  {
   "cell_type": "code",
   "execution_count": 5,
   "id": "08ec8c36",
   "metadata": {},
   "outputs": [
    {
     "data": {
      "text/plain": [
       "<SimState @ 0x401120>"
      ]
     },
     "execution_count": 5,
     "metadata": {},
     "output_type": "execute_result"
    }
   ],
   "source": [
    "entry_state"
   ]
  },
  {
   "cell_type": "code",
   "execution_count": 6,
   "id": "0a0d576e",
   "metadata": {},
   "outputs": [
    {
     "data": {
      "text/plain": [
       "4198688"
      ]
     },
     "execution_count": 6,
     "metadata": {},
     "output_type": "execute_result"
    }
   ],
   "source": [
    "entry_state.addr"
   ]
  },
  {
   "cell_type": "code",
   "execution_count": 6,
   "id": "48e0caed",
   "metadata": {},
   "outputs": [],
   "source": [
    "entry_block = entry_state.block()"
   ]
  },
  {
   "cell_type": "code",
   "execution_count": 7,
   "id": "4e59f807",
   "metadata": {},
   "outputs": [
    {
     "name": "stdout",
     "output_type": "stream",
     "text": [
      "        _start:\n",
      "401120  endbr64 \n",
      "401124  xor     ebp, ebp\n",
      "401126  mov     r9, rdx\n",
      "401129  pop     rsi\n",
      "40112a  mov     rdx, rsp\n",
      "40112d  and     rsp, 0xfffffffffffffff0\n",
      "401131  push    rax\n",
      "401132  push    rsp\n",
      "401133  xor     r8d, r8d\n",
      "401136  xor     ecx, ecx\n",
      "401138  lea     rdi, [main]\n",
      "40113f  call    qword ptr [0x403fd8]\n"
     ]
    }
   ],
   "source": [
    "entry_block.pp()\n"
   ]
  },
  {
   "cell_type": "code",
   "execution_count": 8,
   "id": "8398e56a-8170-4826-85b9-3c2db5028b9c",
   "metadata": {},
   "outputs": [
    {
     "data": {
      "text/plain": [
       "\u001b[0;31mSignature:\u001b[0m\n",
       "\u001b[0mproj\u001b[0m\u001b[0;34m.\u001b[0m\u001b[0mfactory\u001b[0m\u001b[0;34m.\u001b[0m\u001b[0msimulation_manager\u001b[0m\u001b[0;34m(\u001b[0m\u001b[0;34m\u001b[0m\n",
       "\u001b[0;34m\u001b[0m    \u001b[0mthing\u001b[0m\u001b[0;34m:\u001b[0m \u001b[0mUnion\u001b[0m\u001b[0;34m[\u001b[0m\u001b[0mList\u001b[0m\u001b[0;34m[\u001b[0m\u001b[0mangr\u001b[0m\u001b[0;34m.\u001b[0m\u001b[0msim_state\u001b[0m\u001b[0;34m.\u001b[0m\u001b[0mSimState\u001b[0m\u001b[0;34m]\u001b[0m\u001b[0;34m,\u001b[0m \u001b[0mangr\u001b[0m\u001b[0;34m.\u001b[0m\u001b[0msim_state\u001b[0m\u001b[0;34m.\u001b[0m\u001b[0mSimState\u001b[0m\u001b[0;34m,\u001b[0m \u001b[0mNoneType\u001b[0m\u001b[0;34m]\u001b[0m \u001b[0;34m=\u001b[0m \u001b[0;32mNone\u001b[0m\u001b[0;34m,\u001b[0m\u001b[0;34m\u001b[0m\n",
       "\u001b[0;34m\u001b[0m    \u001b[0;34m**\u001b[0m\u001b[0mkwargs\u001b[0m\u001b[0;34m,\u001b[0m\u001b[0;34m\u001b[0m\n",
       "\u001b[0;34m\u001b[0m\u001b[0;34m)\u001b[0m \u001b[0;34m->\u001b[0m \u001b[0;34m'SimulationManager'\u001b[0m\u001b[0;34m\u001b[0m\u001b[0;34m\u001b[0m\u001b[0m\n",
       "\u001b[0;31mDocstring:\u001b[0m\n",
       "Constructs a new simulation manager.\n",
       "\n",
       ":param thing:           Optional - What to put in the new SimulationManager's active stash (either a SimState or a list of SimStates).\n",
       ":param kwargs:          Any additional keyword arguments will be passed to the SimulationManager constructor\n",
       ":returns:               The new SimulationManager\n",
       ":rtype:                 angr.sim_manager.SimulationManager\n",
       "\n",
       "Many different types can be passed to this method:\n",
       "\n",
       "* If nothing is passed in, the SimulationManager is seeded with a state initialized for the program\n",
       "  entry point, i.e. :meth:`entry_state()`.\n",
       "* If a :class:`SimState` is passed in, the SimulationManager is seeded with that state.\n",
       "* If a list is passed in, the list must contain only SimStates and the whole list will be used to seed the SimulationManager.\n",
       "\u001b[0;31mFile:\u001b[0m      ~/anaconda3/envs/angr/lib/python3.9/site-packages/angr/factory.py\n",
       "\u001b[0;31mType:\u001b[0m      method\n"
      ]
     },
     "metadata": {},
     "output_type": "display_data"
    }
   ],
   "source": [
    "proj.factory.simulation_manager?"
   ]
  },
  {
   "cell_type": "code",
   "execution_count": 10,
   "id": "0d420661-b164-4f76-ae0b-f3051092febf",
   "metadata": {},
   "outputs": [],
   "source": [
    "sim_mgr = proj.factory.simulation_manager(entry_state)"
   ]
  },
  {
   "cell_type": "code",
   "execution_count": 11,
   "id": "c9079197-d9f9-4ea8-9529-61df9a7a8569",
   "metadata": {},
   "outputs": [
    {
     "name": "stderr",
     "output_type": "stream",
     "text": [
      "INFO     | 2023-02-07 14:01:25,049 | angr.sim_manager | Stepping active of <SimulationManager with 1 active>\n",
      "INFO     | 2023-02-07 14:01:25,070 | angr.engines.engine | Ticked state: <IRSB from 0x401120: 1 sat>\n"
     ]
    },
    {
     "data": {
      "text/plain": [
       "<SimulationManager with 1 active>"
      ]
     },
     "execution_count": 11,
     "metadata": {},
     "output_type": "execute_result"
    }
   ],
   "source": [
    "sim_mgr.step()"
   ]
  },
  {
   "cell_type": "code",
   "execution_count": 12,
   "id": "7b220a0c-1f4f-499a-970c-d227674a25b4",
   "metadata": {},
   "outputs": [
    {
     "name": "stdout",
     "output_type": "stream",
     "text": [
      "        __libc_start_main:\n",
      "500000  add     byte ptr [rax], al\n",
      "500002  add     byte ptr [rax], al\n",
      "500004  add     byte ptr [rax], al\n",
      "500006  add     byte ptr [rax], al\n"
     ]
    }
   ],
   "source": [
    "sim_mgr.active[0].block().pp()\n"
   ]
  },
  {
   "cell_type": "code",
   "execution_count": 13,
   "id": "8940ebab-5e70-49e4-9941-2dbfbaa3e280",
   "metadata": {},
   "outputs": [
    {
     "name": "stderr",
     "output_type": "stream",
     "text": [
      "INFO     | 2023-02-07 14:01:31,253 | angr.sim_manager | Stepping active of <SimulationManager with 1 active>\n",
      "INFO     | 2023-02-07 14:01:31,455 | angr.engines.engine | Ticked state: <SimProcedure __libc_start_main from 0x500000: 1 sat>\n"
     ]
    },
    {
     "data": {
      "text/plain": [
       "<SimulationManager with 1 active>"
      ]
     },
     "execution_count": 13,
     "metadata": {},
     "output_type": "execute_result"
    }
   ],
   "source": [
    "sim_mgr.step()"
   ]
  },
  {
   "cell_type": "code",
   "execution_count": 14,
   "id": "a082433b-4939-4864-a1ac-2068c4b9ccea",
   "metadata": {},
   "outputs": [
    {
     "name": "stdout",
     "output_type": "stream",
     "text": [
      "        main:\n",
      "4012f9  endbr64 \n",
      "4012fd  push    rbp\n",
      "4012fe  mov     rbp, rsp\n",
      "401301  sub     rsp, 0x30\n",
      "401305  mov     dword ptr [rbp-0x24], edi\n",
      "401308  mov     qword ptr [rbp-0x30], rsi\n",
      "40130c  mov     rax, qword ptr  fs:[0x28]\n",
      "401315  mov     qword ptr [rbp-0x8], rax\n",
      "401319  xor     eax, eax\n",
      "40131b  mov     byte ptr [rbp-0x12], 0x0\n",
      "40131f  mov     byte ptr [rbp-0x9], 0x0\n",
      "401323  lea     rax, [0x40204d]\n",
      "40132a  mov     rdi, rax\n",
      "40132d  call    puts\n"
     ]
    }
   ],
   "source": [
    "sim_mgr.active[0].block().pp()"
   ]
  },
  {
   "cell_type": "code",
   "execution_count": 23,
   "id": "23d5c2e0-6f93-4151-a12d-d930ad782388",
   "metadata": {},
   "outputs": [
    {
     "name": "stderr",
     "output_type": "stream",
     "text": [
      "INFO     | 2023-02-06 15:47:11,007 | angr.sim_manager | Stepping active of <SimulationManager with 1 active>\n",
      "INFO     | 2023-02-06 15:47:11,021 | angr.engines.engine | Ticked state: <IRSB from 0x4012f9: 1 sat>\n"
     ]
    },
    {
     "data": {
      "text/plain": [
       "<SimulationManager with 1 active>"
      ]
     },
     "execution_count": 23,
     "metadata": {},
     "output_type": "execute_result"
    }
   ],
   "source": [
    "sim_mgr.step()"
   ]
  },
  {
   "cell_type": "code",
   "execution_count": 24,
   "id": "b3d3f2e8-aff6-4320-875f-63b108ca5489",
   "metadata": {},
   "outputs": [
    {
     "name": "stdout",
     "output_type": "stream",
     "text": [
      "        puts:\n",
      "4010b0  endbr64 \n",
      "4010b4  bnd jmp qword ptr [0x403fa0]\n"
     ]
    }
   ],
   "source": [
    "sim_mgr.active[0].block().pp()"
   ]
  },
  {
   "cell_type": "code",
   "execution_count": null,
   "id": "256152b7-5e55-4dca-87c4-15ec0bbfca30",
   "metadata": {},
   "outputs": [],
   "source": []
  }
 ],
 "metadata": {
  "kernelspec": {
   "display_name": "angr",
   "language": "python",
   "name": "angr"
  },
  "language_info": {
   "codemirror_mode": {
    "name": "ipython",
    "version": 3
   },
   "file_extension": ".py",
   "mimetype": "text/x-python",
   "name": "python",
   "nbconvert_exporter": "python",
   "pygments_lexer": "ipython3",
   "version": "3.9.16"
  }
 },
 "nbformat": 4,
 "nbformat_minor": 5
}
