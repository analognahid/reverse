{
 "cells": [
  {
   "cell_type": "code",
   "execution_count": 1,
   "id": "957f094e",
   "metadata": {},
   "outputs": [
    {
     "name": "stderr",
     "output_type": "stream",
     "text": [
      "WARNING  | 2023-02-07 14:07:26,709 | cle.loader     | The main binary is a position-independent executable. It is being loaded with a base address of 0x400000.\n"
     ]
    }
   ],
   "source": [
    "import os\n",
    "import angr, claripy\n",
    "\n",
    "\n",
    "filePath = '/home/nahid/reverse/binaries/pass'\n",
    "proj = angr.Project(filePath)"
   ]
  },
  {
   "cell_type": "code",
   "execution_count": 2,
   "id": "3d07cfdc",
   "metadata": {},
   "outputs": [
    {
     "name": "stdout",
     "output_type": "stream",
     "text": [
      "<SimState @ 0x401120>\n"
     ]
    }
   ],
   "source": [
    "state = proj.factory.entry_state(stdin=angr.SimFile)# # ignore that argument for now - we're disabling a more complicated default setup for the sake of education\n",
    "print(state)"
   ]
  },
  {
   "cell_type": "code",
   "execution_count": 3,
   "id": "56f1177d",
   "metadata": {},
   "outputs": [
    {
     "name": "stdout",
     "output_type": "stream",
     "text": [
      "!\n",
      "!\n"
     ]
    },
    {
     "name": "stderr",
     "output_type": "stream",
     "text": [
      "WARNING  | 2023-02-07 14:07:29,703 | angr.storage.memory_mixins.default_filler_mixin | The program is accessing memory with an unspecified value. This could indicate unwanted behavior.\n",
      "WARNING  | 2023-02-07 14:07:29,705 | angr.storage.memory_mixins.default_filler_mixin | angr will cope with this by generating an unconstrained symbolic variable and continuing. You can resolve this by:\n",
      "WARNING  | 2023-02-07 14:07:29,706 | angr.storage.memory_mixins.default_filler_mixin | 1) setting a value to the initial state\n",
      "WARNING  | 2023-02-07 14:07:29,706 | angr.storage.memory_mixins.default_filler_mixin | 2) adding the state option ZERO_FILL_UNCONSTRAINED_{MEMORY,REGISTERS}, to make unknown regions hold null\n",
      "WARNING  | 2023-02-07 14:07:29,707 | angr.storage.memory_mixins.default_filler_mixin | 3) adding the state option SYMBOL_FILL_UNCONSTRAINED_{MEMORY,REGISTERS}, to suppress these messages.\n",
      "WARNING  | 2023-02-07 14:07:29,708 | angr.storage.memory_mixins.default_filler_mixin | Filling memory at 0x7fffffffffeff60 with 8 unconstrained bytes referenced from 0x5a8360 (strcmp+0x0 in libc.so.6 (0xa8360))\n"
     ]
    },
    {
     "name": "stdout",
     "output_type": "stream",
     "text": [
      "!\n",
      "!\n",
      "!\n",
      "!\n",
      "!\n",
      "!\n",
      "!\n",
      "!\n",
      "!\n",
      "!\n",
      "!\n",
      "!\n",
      "!\n",
      "!\n",
      "!\n",
      "!\n",
      "!\n",
      "!\n",
      "!\n",
      "!\n",
      "!\n",
      "!\n",
      "!\n"
     ]
    }
   ],
   "source": [
    "while True:\n",
    "     print(\"!\")\n",
    "     succ = state.step()\n",
    "     if len(succ.successors) == 2:\n",
    "         break\n",
    "     state = succ.successors[0]\n",
    "\n"
   ]
  },
  {
   "cell_type": "code",
   "execution_count": 4,
   "id": "ee65bdf9",
   "metadata": {},
   "outputs": [
    {
     "name": "stdout",
     "output_type": "stream",
     "text": [
      "<SimState @ 0x40124a>\n",
      "<SimState @ 0x401251>\n"
     ]
    }
   ],
   "source": [
    "state1, state2 = succ.successors\n",
    "print(state1)\n",
    "print(state2)"
   ]
  },
  {
   "cell_type": "code",
   "execution_count": 11,
   "id": "bbc3f223",
   "metadata": {},
   "outputs": [],
   "source": [
    "input_data = state1.posix.stdin.load(0, state1.posix.stdin.size)"
   ]
  },
  {
   "cell_type": "code",
   "execution_count": 16,
   "id": "a2e5bbf4",
   "metadata": {},
   "outputs": [
    {
     "name": "stdout",
     "output_type": "stream",
     "text": [
      "<BV144 file_0_stdin_0_97_64{UNINITIALIZED} .. file_0_stdin_8_98_8{UNINITIALIZED} .. file_0_stdin_9_99_64{UNINITIALIZED} .. file_0_stdin_11_100_8{UNINITIALIZED}>\n"
     ]
    }
   ],
   "source": [
    "print(input_data)"
   ]
  },
  {
   "cell_type": "code",
   "execution_count": 12,
   "id": "e5d10160",
   "metadata": {},
   "outputs": [
    {
     "data": {
      "text/plain": [
       "b'\\x00\\x00\\x00\\x00\\x00\\x00\\x00\\x00\\x00SOSNEAKY\\x00'"
      ]
     },
     "execution_count": 12,
     "metadata": {},
     "output_type": "execute_result"
    }
   ],
   "source": [
    "state1.solver.eval(input_data, cast_to=bytes)"
   ]
  },
  {
   "cell_type": "code",
   "execution_count": 13,
   "id": "da2c9bd2",
   "metadata": {},
   "outputs": [
    {
     "data": {
      "text/plain": [
       "b'\\x00\\x00\\x00\\x00\\x00\\x00\\x00\\x00\\x00\\x80\\x00SN\\x80AK\\x00\\x00'"
      ]
     },
     "execution_count": 13,
     "metadata": {},
     "output_type": "execute_result"
    }
   ],
   "source": [
    "state2.solver.eval(input_data, cast_to=bytes)"
   ]
  },
  {
   "cell_type": "code",
   "execution_count": null,
   "id": "5df1c5e5",
   "metadata": {},
   "outputs": [],
   "source": []
  }
 ],
 "metadata": {
  "kernelspec": {
   "display_name": "angr",
   "language": "python",
   "name": "angr"
  },
  "language_info": {
   "codemirror_mode": {
    "name": "ipython",
    "version": 3
   },
   "file_extension": ".py",
   "mimetype": "text/x-python",
   "name": "python",
   "nbconvert_exporter": "python",
   "pygments_lexer": "ipython3",
   "version": "3.9.16"
  }
 },
 "nbformat": 4,
 "nbformat_minor": 5
}
