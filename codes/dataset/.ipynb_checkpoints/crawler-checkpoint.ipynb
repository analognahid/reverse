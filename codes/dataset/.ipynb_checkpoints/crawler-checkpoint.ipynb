{
 "cells": [
  {
   "cell_type": "code",
   "execution_count": 1,
   "id": "df15c098",
   "metadata": {},
   "outputs": [],
   "source": [
    "import requests\n",
    "from requests.models import PreparedRequest\n",
    "import json\n",
    "import subprocess\n",
    "\n",
    "from os import walk\n",
    "import os, signal\n",
    "from os import listdir\n",
    "from os.path import isfile, join\n",
    "import magic , os\n",
    "\n",
    "from fnmatch import fnmatch\n",
    "\n",
    "\n",
    "command = '''curl -L \\\n",
    "  -H \"Accept: application/vnd.github+json\" \\\n",
    "  -u c911cc962821da25dd9e:5fc0e12eb6c63d3ff2799e2bb20d80729cdb4738 \\\n",
    "  -H \"X-GitHub-Api-Version: 2022-11-28\" \\\n",
    "  https://api.github.com/search/repositories?q=c+programming+language+tutorial'''\n",
    "\n",
    "\n"
   ]
  },
  {
   "cell_type": "code",
   "execution_count": 2,
   "id": "e2f63993",
   "metadata": {},
   "outputs": [
    {
     "name": "stderr",
     "output_type": "stream",
     "text": [
      "  % Total    % Received % Xferd  Average Speed   Time    Time     Time  Current\n",
      "                                 Dload  Upload   Total   Spent    Left  Speed\n",
      "100  185k  100  185k    0     0  29328      0  0:00:06  0:00:06 --:--:-- 42419\n"
     ]
    }
   ],
   "source": [
    "output = subprocess.check_output(command, shell=True)\n",
    "output_json = (json.loads(output.decode('utf-8')))\n",
    "\n"
   ]
  },
  {
   "cell_type": "code",
   "execution_count": 3,
   "id": "e162eac1",
   "metadata": {},
   "outputs": [
    {
     "name": "stdout",
     "output_type": "stream",
     "text": [
      "48596\n"
     ]
    }
   ],
   "source": [
    "print(output_json['total_count'])"
   ]
  },
  {
   "cell_type": "code",
   "execution_count": 8,
   "id": "288f6236",
   "metadata": {},
   "outputs": [
    {
     "data": {
      "text/plain": [
       "'https://github.com/python/cpython.git'"
      ]
     },
     "execution_count": 8,
     "metadata": {},
     "output_type": "execute_result"
    }
   ],
   "source": [
    "output_json['items'][0]['clone_url']"
   ]
  },
  {
   "cell_type": "code",
   "execution_count": null,
   "id": "6a84d283",
   "metadata": {},
   "outputs": [],
   "source": []
  }
 ],
 "metadata": {
  "kernelspec": {
   "display_name": "angr",
   "language": "python",
   "name": "angr"
  },
  "language_info": {
   "codemirror_mode": {
    "name": "ipython",
    "version": 3
   },
   "file_extension": ".py",
   "mimetype": "text/x-python",
   "name": "python",
   "nbconvert_exporter": "python",
   "pygments_lexer": "ipython3",
   "version": "3.9.16"
  }
 },
 "nbformat": 4,
 "nbformat_minor": 5
}
