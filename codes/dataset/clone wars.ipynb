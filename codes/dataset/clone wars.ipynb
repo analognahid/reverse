{
 "cells": [
  {
   "cell_type": "code",
   "execution_count": 1,
   "id": "8d5e0500",
   "metadata": {},
   "outputs": [],
   "source": [
    "import requests\n",
    "from requests.models import PreparedRequest\n",
    "import json\n",
    "import subprocess\n",
    "\n",
    "from os import walk\n",
    "import os, signal\n",
    "from os import listdir\n",
    "from os.path import isfile, join\n",
    "import magic , os\n",
    "import urllib.parse as urlparse\n",
    "from urllib.parse import urlencode\n",
    "from fnmatch import fnmatch"
   ]
  },
  {
   "cell_type": "code",
   "execution_count": 2,
   "id": "c2a9d420",
   "metadata": {},
   "outputs": [],
   "source": [
    "clones_path = '/home/nahid/dataset/clones'"
   ]
  },
  {
   "cell_type": "code",
   "execution_count": 3,
   "id": "a8d0a3cc",
   "metadata": {},
   "outputs": [],
   "source": [
    "file = open('repos.txt', 'r')\n",
    "repos = file.readlines()\n",
    "repos = [repo[:-1] for repo in repos]\n"
   ]
  },
  {
   "cell_type": "code",
   "execution_count": 4,
   "id": "d9dd370b",
   "metadata": {},
   "outputs": [],
   "source": [
    "timeout_s = 120  # how many seconds to wait "
   ]
  },
  {
   "cell_type": "code",
   "execution_count": 5,
   "id": "d2381a5c",
   "metadata": {},
   "outputs": [
    {
     "name": "stdout",
     "output_type": "stream",
     "text": [
      "https://github.com/justin-lathrop/c.git\n",
      "repo_name justin-lathrop_____c\n",
      "git clone https://github.com/justin-lathrop/c.git /home/nahid/dataset/clones/justin-lathrop_____c \n"
     ]
    },
    {
     "name": "stderr",
     "output_type": "stream",
     "text": [
      "Cloning into '/home/nahid/dataset/clones/justin-lathrop_____c'...\n"
     ]
    },
    {
     "name": "stdout",
     "output_type": "stream",
     "text": [
      "Make DONE\n",
      "https://github.com/AllAlgorithms/c.git\n",
      "repo_name AllAlgorithms_____c\n",
      "git clone https://github.com/AllAlgorithms/c.git /home/nahid/dataset/clones/AllAlgorithms_____c \n"
     ]
    },
    {
     "name": "stderr",
     "output_type": "stream",
     "text": [
      "Cloning into '/home/nahid/dataset/clones/AllAlgorithms_____c'...\n"
     ]
    },
    {
     "name": "stdout",
     "output_type": "stream",
     "text": [
      "Make DONE\n",
      "https://github.com/sysprog21/lab0-c.git\n",
      "repo_name sysprog21_____lab0-c\n",
      "git clone https://github.com/sysprog21/lab0-c.git /home/nahid/dataset/clones/sysprog21_____lab0-c \n"
     ]
    },
    {
     "name": "stderr",
     "output_type": "stream",
     "text": [
      "Cloning into '/home/nahid/dataset/clones/sysprog21_____lab0-c'...\n"
     ]
    },
    {
     "name": "stdout",
     "output_type": "stream",
     "text": [
      "Make DONE\n",
      "https://github.com/uthcode/learntosolveit.git\n",
      "repo_name uthcode_____learntosolveit\n",
      "git clone https://github.com/uthcode/learntosolveit.git /home/nahid/dataset/clones/uthcode_____learntosolveit \n"
     ]
    },
    {
     "name": "stderr",
     "output_type": "stream",
     "text": [
      "Cloning into '/home/nahid/dataset/clones/uthcode_____learntosolveit'...\n"
     ]
    },
    {
     "name": "stdout",
     "output_type": "stream",
     "text": [
      "Make DONE\n",
      "https://github.com/orangeduck/Cello.git\n",
      "repo_name orangeduck_____Cello\n",
      "git clone https://github.com/orangeduck/Cello.git /home/nahid/dataset/clones/orangeduck_____Cello \n"
     ]
    },
    {
     "name": "stderr",
     "output_type": "stream",
     "text": [
      "Cloning into '/home/nahid/dataset/clones/orangeduck_____Cello'...\n"
     ]
    },
    {
     "name": "stdout",
     "output_type": "stream",
     "text": [
      "Make DONE\n",
      "https://github.com/harsh2102/C.git\n",
      "repo_name harsh2102_____C\n",
      "git clone https://github.com/harsh2102/C.git /home/nahid/dataset/clones/harsh2102_____C \n"
     ]
    },
    {
     "name": "stderr",
     "output_type": "stream",
     "text": [
      "Cloning into '/home/nahid/dataset/clones/harsh2102_____C'...\n"
     ]
    },
    {
     "name": "stdout",
     "output_type": "stream",
     "text": [
      "Make DONE\n",
      "https://github.com/mpitutorial/mpitutorial.git\n",
      "repo_name mpitutorial_____mpitutorial\n",
      "git clone https://github.com/mpitutorial/mpitutorial.git /home/nahid/dataset/clones/mpitutorial_____mpitutorial \n"
     ]
    },
    {
     "name": "stderr",
     "output_type": "stream",
     "text": [
      "Cloning into '/home/nahid/dataset/clones/mpitutorial_____mpitutorial'...\n"
     ]
    },
    {
     "name": "stdout",
     "output_type": "stream",
     "text": [
      "Make DONE\n",
      "https://github.com/kazuho/C.git\n",
      "repo_name kazuho_____C\n",
      "git clone https://github.com/kazuho/C.git /home/nahid/dataset/clones/kazuho_____C \n"
     ]
    },
    {
     "name": "stderr",
     "output_type": "stream",
     "text": [
      "Cloning into '/home/nahid/dataset/clones/kazuho_____C'...\n"
     ]
    },
    {
     "name": "stdout",
     "output_type": "stream",
     "text": [
      "Make DONE\n",
      "https://github.com/number571/C.git\n",
      "repo_name number571_____C\n",
      "git clone https://github.com/number571/C.git /home/nahid/dataset/clones/number571_____C \n"
     ]
    },
    {
     "name": "stderr",
     "output_type": "stream",
     "text": [
      "Cloning into '/home/nahid/dataset/clones/number571_____C'...\n"
     ]
    },
    {
     "name": "stdout",
     "output_type": "stream",
     "text": [
      "Make DONE\n",
      "https://github.com/malaise/c.git\n",
      "repo_name malaise_____c\n",
      "git clone https://github.com/malaise/c.git /home/nahid/dataset/clones/malaise_____c \n"
     ]
    },
    {
     "name": "stderr",
     "output_type": "stream",
     "text": [
      "Cloning into '/home/nahid/dataset/clones/malaise_____c'...\n"
     ]
    },
    {
     "name": "stdout",
     "output_type": "stream",
     "text": [
      "Make DONE\n",
      "https://github.com/mecomonteshbtn/C-low_level_programming.git\n",
      "repo_name mecomonteshbtn_____C-low_level_programming\n",
      "git clone https://github.com/mecomonteshbtn/C-low_level_programming.git /home/nahid/dataset/clones/mecomonteshbtn_____C-low_level_programming \n"
     ]
    },
    {
     "name": "stderr",
     "output_type": "stream",
     "text": [
      "Cloning into '/home/nahid/dataset/clones/mecomonteshbtn_____C-low_level_programming'...\n"
     ]
    },
    {
     "name": "stdout",
     "output_type": "stream",
     "text": [
      "Make DONE\n",
      "https://github.com/Tencent/xLua.git\n",
      "repo_name Tencent_____xLua\n",
      "git clone https://github.com/Tencent/xLua.git /home/nahid/dataset/clones/Tencent_____xLua \n"
     ]
    },
    {
     "name": "stderr",
     "output_type": "stream",
     "text": [
      "Cloning into '/home/nahid/dataset/clones/Tencent_____xLua'...\n"
     ]
    },
    {
     "name": "stdout",
     "output_type": "stream",
     "text": [
      "Make DONE\n",
      "https://github.com/tj/luna.git\n",
      "repo_name tj_____luna\n",
      "git clone https://github.com/tj/luna.git /home/nahid/dataset/clones/tj_____luna \n"
     ]
    },
    {
     "name": "stderr",
     "output_type": "stream",
     "text": [
      "Cloning into '/home/nahid/dataset/clones/tj_____luna'...\n"
     ]
    },
    {
     "name": "stdout",
     "output_type": "stream",
     "text": [
      "Make DONE\n",
      "https://github.com/luischaparroc/holbertonschool-low_level_programming.git\n",
      "repo_name luischaparroc_____holbertonschool-low_level_programming\n",
      "git clone https://github.com/luischaparroc/holbertonschool-low_level_programming.git /home/nahid/dataset/clones/luischaparroc_____holbertonschool-low_level_programming \n"
     ]
    },
    {
     "name": "stderr",
     "output_type": "stream",
     "text": [
      "Cloning into '/home/nahid/dataset/clones/luischaparroc_____holbertonschool-low_level_programming'...\n"
     ]
    },
    {
     "name": "stdout",
     "output_type": "stream",
     "text": [
      "Make DONE\n",
      "https://github.com/Bharathgopal/May2023.git\n",
      "repo_name Bharathgopal_____May2023\n",
      "git clone https://github.com/Bharathgopal/May2023.git /home/nahid/dataset/clones/Bharathgopal_____May2023 \n"
     ]
    },
    {
     "name": "stderr",
     "output_type": "stream",
     "text": [
      "Cloning into '/home/nahid/dataset/clones/Bharathgopal_____May2023'...\n"
     ]
    },
    {
     "name": "stdout",
     "output_type": "stream",
     "text": [
      "Make DONE\n",
      "https://github.com/yusufshakeel/C-Project.git\n",
      "repo_name yusufshakeel_____C-Project\n",
      "git clone https://github.com/yusufshakeel/C-Project.git /home/nahid/dataset/clones/yusufshakeel_____C-Project \n"
     ]
    },
    {
     "name": "stderr",
     "output_type": "stream",
     "text": [
      "Cloning into '/home/nahid/dataset/clones/yusufshakeel_____C-Project'...\n"
     ]
    },
    {
     "name": "stdout",
     "output_type": "stream",
     "text": [
      "Make DONE\n",
      "https://github.com/STMicroelectronics/STMems_Standard_C_drivers.git\n",
      "repo_name STMicroelectronics_____STMems_Standard_C_drivers\n",
      "git clone https://github.com/STMicroelectronics/STMems_Standard_C_drivers.git /home/nahid/dataset/clones/STMicroelectronics_____STMems_Standard_C_drivers \n"
     ]
    },
    {
     "name": "stderr",
     "output_type": "stream",
     "text": [
      "Cloning into '/home/nahid/dataset/clones/STMicroelectronics_____STMems_Standard_C_drivers'...\n"
     ]
    },
    {
     "name": "stdout",
     "output_type": "stream",
     "text": [
      "Make DONE\n",
      "https://github.com/monoprosito/holbertonschool-low_level_programming.git\n",
      "repo_name monoprosito_____holbertonschool-low_level_programming\n",
      "git clone https://github.com/monoprosito/holbertonschool-low_level_programming.git /home/nahid/dataset/clones/monoprosito_____holbertonschool-low_level_programming \n"
     ]
    },
    {
     "name": "stderr",
     "output_type": "stream",
     "text": [
      "Cloning into '/home/nahid/dataset/clones/monoprosito_____holbertonschool-low_level_programming'...\n"
     ]
    },
    {
     "name": "stdout",
     "output_type": "stream",
     "text": [
      "Make DONE\n",
      "https://github.com/limingth/Linux-C-Programming.git\n",
      "repo_name limingth_____Linux-C-Programming\n",
      "git clone https://github.com/limingth/Linux-C-Programming.git /home/nahid/dataset/clones/limingth_____Linux-C-Programming \n"
     ]
    },
    {
     "name": "stderr",
     "output_type": "stream",
     "text": [
      "Cloning into '/home/nahid/dataset/clones/limingth_____Linux-C-Programming'...\n"
     ]
    },
    {
     "name": "stdout",
     "output_type": "stream",
     "text": [
      "Make DONE\n",
      "https://github.com/aucontraire/holbertonschool-low_level_programming.git\n",
      "repo_name aucontraire_____holbertonschool-low_level_programming\n",
      "git clone https://github.com/aucontraire/holbertonschool-low_level_programming.git /home/nahid/dataset/clones/aucontraire_____holbertonschool-low_level_programming \n"
     ]
    },
    {
     "name": "stderr",
     "output_type": "stream",
     "text": [
      "Cloning into '/home/nahid/dataset/clones/aucontraire_____holbertonschool-low_level_programming'...\n"
     ]
    },
    {
     "name": "stdout",
     "output_type": "stream",
     "text": [
      "Make DONE\n",
      "https://github.com/ianliu-johnston/holbertonschool-low_level_programming.git\n",
      "repo_name ianliu-johnston_____holbertonschool-low_level_programming\n",
      "git clone https://github.com/ianliu-johnston/holbertonschool-low_level_programming.git /home/nahid/dataset/clones/ianliu-johnston_____holbertonschool-low_level_programming \n"
     ]
    },
    {
     "name": "stderr",
     "output_type": "stream",
     "text": [
      "Cloning into '/home/nahid/dataset/clones/ianliu-johnston_____holbertonschool-low_level_programming'...\n"
     ]
    },
    {
     "name": "stdout",
     "output_type": "stream",
     "text": [
      "Make DONE\n",
      "https://github.com/keeshux/basic-blockchain-programming.git\n",
      "repo_name keeshux_____basic-blockchain-programming\n",
      "git clone https://github.com/keeshux/basic-blockchain-programming.git /home/nahid/dataset/clones/keeshux_____basic-blockchain-programming \n"
     ]
    },
    {
     "name": "stderr",
     "output_type": "stream",
     "text": [
      "Cloning into '/home/nahid/dataset/clones/keeshux_____basic-blockchain-programming'...\n"
     ]
    },
    {
     "name": "stdout",
     "output_type": "stream",
     "text": [
      "Make DONE\n",
      "https://github.com/portfoliocourses/c-example-code.git\n",
      "repo_name portfoliocourses_____c-example-code\n",
      "git clone https://github.com/portfoliocourses/c-example-code.git /home/nahid/dataset/clones/portfoliocourses_____c-example-code \n"
     ]
    },
    {
     "name": "stderr",
     "output_type": "stream",
     "text": [
      "Cloning into '/home/nahid/dataset/clones/portfoliocourses_____c-example-code'...\n"
     ]
    },
    {
     "name": "stdout",
     "output_type": "stream",
     "text": [
      "Make DONE\n",
      "https://github.com/marcobambini/gravity.git\n",
      "repo_name marcobambini_____gravity\n",
      "git clone https://github.com/marcobambini/gravity.git /home/nahid/dataset/clones/marcobambini_____gravity \n"
     ]
    },
    {
     "name": "stderr",
     "output_type": "stream",
     "text": [
      "Cloning into '/home/nahid/dataset/clones/marcobambini_____gravity'...\n"
     ]
    },
    {
     "name": "stdout",
     "output_type": "stream",
     "text": [
      "Make DONE\n",
      "https://github.com/williamgherman/c-solutions.git\n",
      "repo_name williamgherman_____c-solutions\n",
      "git clone https://github.com/williamgherman/c-solutions.git /home/nahid/dataset/clones/williamgherman_____c-solutions \n"
     ]
    },
    {
     "name": "stderr",
     "output_type": "stream",
     "text": [
      "Cloning into '/home/nahid/dataset/clones/williamgherman_____c-solutions'...\n"
     ]
    },
    {
     "name": "stdout",
     "output_type": "stream",
     "text": [
      "Make DONE\n",
      "https://github.com/BrianSidebotham/arm-tutorial-rpi.git\n",
      "repo_name BrianSidebotham_____arm-tutorial-rpi\n",
      "git clone https://github.com/BrianSidebotham/arm-tutorial-rpi.git /home/nahid/dataset/clones/BrianSidebotham_____arm-tutorial-rpi \n"
     ]
    },
    {
     "name": "stderr",
     "output_type": "stream",
     "text": [
      "Cloning into '/home/nahid/dataset/clones/BrianSidebotham_____arm-tutorial-rpi'...\n"
     ]
    },
    {
     "name": "stdout",
     "output_type": "stream",
     "text": [
      "Make DONE\n",
      "https://github.com/shichao-an/ooc.git\n",
      "repo_name shichao-an_____ooc\n",
      "git clone https://github.com/shichao-an/ooc.git /home/nahid/dataset/clones/shichao-an_____ooc \n"
     ]
    },
    {
     "name": "stderr",
     "output_type": "stream",
     "text": [
      "Cloning into '/home/nahid/dataset/clones/shichao-an_____ooc'...\n"
     ]
    },
    {
     "name": "stdout",
     "output_type": "stream",
     "text": [
      "Make DONE\n",
      "https://github.com/commonmark/cmark.git\n",
      "repo_name commonmark_____cmark\n",
      "git clone https://github.com/commonmark/cmark.git /home/nahid/dataset/clones/commonmark_____cmark \n"
     ]
    },
    {
     "name": "stderr",
     "output_type": "stream",
     "text": [
      "Cloning into '/home/nahid/dataset/clones/commonmark_____cmark'...\n"
     ]
    },
    {
     "name": "stdout",
     "output_type": "stream",
     "text": [
      "Make DONE\n",
      "https://github.com/bloominstituteoftechnology/Intro-to-C.git\n",
      "repo_name bloominstituteoftechnology_____Intro-to-C\n",
      "git clone https://github.com/bloominstituteoftechnology/Intro-to-C.git /home/nahid/dataset/clones/bloominstituteoftechnology_____Intro-to-C \n"
     ]
    },
    {
     "name": "stderr",
     "output_type": "stream",
     "text": [
      "Cloning into '/home/nahid/dataset/clones/bloominstituteoftechnology_____Intro-to-C'...\n"
     ]
    },
    {
     "name": "stdout",
     "output_type": "stream",
     "text": [
      "Make DONE\n",
      "https://github.com/hundredrabbits/Orca-c.git\n",
      "repo_name hundredrabbits_____Orca-c\n",
      "git clone https://github.com/hundredrabbits/Orca-c.git /home/nahid/dataset/clones/hundredrabbits_____Orca-c \n"
     ]
    },
    {
     "name": "stderr",
     "output_type": "stream",
     "text": [
      "Cloning into '/home/nahid/dataset/clones/hundredrabbits_____Orca-c'...\n"
     ]
    },
    {
     "name": "stdout",
     "output_type": "stream",
     "text": [
      "Make DONE\n",
      "https://github.com/Pericles001/alx-low_level_programming.git\n",
      "repo_name Pericles001_____alx-low_level_programming\n",
      "git clone https://github.com/Pericles001/alx-low_level_programming.git /home/nahid/dataset/clones/Pericles001_____alx-low_level_programming \n"
     ]
    },
    {
     "name": "stderr",
     "output_type": "stream",
     "text": [
      "Cloning into '/home/nahid/dataset/clones/Pericles001_____alx-low_level_programming'...\n"
     ]
    },
    {
     "name": "stdout",
     "output_type": "stream",
     "text": [
      "Make DONE\n",
      "https://github.com/Heatwave/The-C-Programming-Language-2nd-Edition.git\n",
      "repo_name Heatwave_____The-C-Programming-Language-2nd-Edition\n",
      "git clone https://github.com/Heatwave/The-C-Programming-Language-2nd-Edition.git /home/nahid/dataset/clones/Heatwave_____The-C-Programming-Language-2nd-Edition \n"
     ]
    },
    {
     "name": "stderr",
     "output_type": "stream",
     "text": [
      "Cloning into '/home/nahid/dataset/clones/Heatwave_____The-C-Programming-Language-2nd-Edition'...\n"
     ]
    },
    {
     "name": "stdout",
     "output_type": "stream",
     "text": [
      "Make DONE\n",
      "https://github.com/codeplea/Hands-On-Network-Programming-with-C.git\n",
      "repo_name codeplea_____Hands-On-Network-Programming-with-C\n",
      "git clone https://github.com/codeplea/Hands-On-Network-Programming-with-C.git /home/nahid/dataset/clones/codeplea_____Hands-On-Network-Programming-with-C \n"
     ]
    },
    {
     "name": "stderr",
     "output_type": "stream",
     "text": [
      "Cloning into '/home/nahid/dataset/clones/codeplea_____Hands-On-Network-Programming-with-C'...\n"
     ]
    },
    {
     "name": "stdout",
     "output_type": "stream",
     "text": [
      "Make DONE\n",
      "https://github.com/Lordwill1/alx-low_level_programming.git\n",
      "repo_name Lordwill1_____alx-low_level_programming\n",
      "git clone https://github.com/Lordwill1/alx-low_level_programming.git /home/nahid/dataset/clones/Lordwill1_____alx-low_level_programming \n"
     ]
    },
    {
     "name": "stderr",
     "output_type": "stream",
     "text": [
      "Cloning into '/home/nahid/dataset/clones/Lordwill1_____alx-low_level_programming'...\n"
     ]
    },
    {
     "name": "stdout",
     "output_type": "stream",
     "text": [
      "Make DONE\n",
      "https://github.com/ianlancetaylor/libbacktrace.git\n",
      "repo_name ianlancetaylor_____libbacktrace\n",
      "git clone https://github.com/ianlancetaylor/libbacktrace.git /home/nahid/dataset/clones/ianlancetaylor_____libbacktrace \n"
     ]
    },
    {
     "name": "stderr",
     "output_type": "stream",
     "text": [
      "Cloning into '/home/nahid/dataset/clones/ianlancetaylor_____libbacktrace'...\n"
     ]
    },
    {
     "name": "stdout",
     "output_type": "stream",
     "text": [
      "Make DONE\n",
      "https://github.com/beejjorgensen/bgc.git\n",
      "repo_name beejjorgensen_____bgc\n",
      "git clone https://github.com/beejjorgensen/bgc.git /home/nahid/dataset/clones/beejjorgensen_____bgc \n"
     ]
    },
    {
     "name": "stderr",
     "output_type": "stream",
     "text": [
      "Cloning into '/home/nahid/dataset/clones/beejjorgensen_____bgc'...\n"
     ]
    },
    {
     "name": "stdout",
     "output_type": "stream",
     "text": [
      "Make DONE\n",
      "https://github.com/PacktPublishing/Learn-C-Programming.git\n",
      "repo_name PacktPublishing_____Learn-C-Programming\n",
      "git clone https://github.com/PacktPublishing/Learn-C-Programming.git /home/nahid/dataset/clones/PacktPublishing_____Learn-C-Programming \n"
     ]
    },
    {
     "name": "stderr",
     "output_type": "stream",
     "text": [
      "Cloning into '/home/nahid/dataset/clones/PacktPublishing_____Learn-C-Programming'...\n"
     ]
    },
    {
     "name": "stdout",
     "output_type": "stream",
     "text": [
      "Make DONE\n",
      "https://github.com/WomenWhoCode/CProgrammingCurriculum.git\n",
      "repo_name WomenWhoCode_____CProgrammingCurriculum\n",
      "git clone https://github.com/WomenWhoCode/CProgrammingCurriculum.git /home/nahid/dataset/clones/WomenWhoCode_____CProgrammingCurriculum \n"
     ]
    },
    {
     "name": "stderr",
     "output_type": "stream",
     "text": [
      "Cloning into '/home/nahid/dataset/clones/WomenWhoCode_____CProgrammingCurriculum'...\n"
     ]
    },
    {
     "name": "stdout",
     "output_type": "stream",
     "text": [
      "Make DONE\n",
      "https://github.com/fordea/c-programming-a-modern-approach.git\n",
      "repo_name fordea_____c-programming-a-modern-approach\n",
      "git clone https://github.com/fordea/c-programming-a-modern-approach.git /home/nahid/dataset/clones/fordea_____c-programming-a-modern-approach \n"
     ]
    },
    {
     "name": "stderr",
     "output_type": "stream",
     "text": [
      "Cloning into '/home/nahid/dataset/clones/fordea_____c-programming-a-modern-approach'...\n"
     ]
    },
    {
     "name": "stdout",
     "output_type": "stream",
     "text": [
      "Make DONE\n",
      "https://github.com/paulgribble/CBootCamp.git\n",
      "repo_name paulgribble_____CBootCamp\n",
      "git clone https://github.com/paulgribble/CBootCamp.git /home/nahid/dataset/clones/paulgribble_____CBootCamp \n"
     ]
    },
    {
     "name": "stderr",
     "output_type": "stream",
     "text": [
      "Cloning into '/home/nahid/dataset/clones/paulgribble_____CBootCamp'...\n"
     ]
    },
    {
     "name": "stdout",
     "output_type": "stream",
     "text": [
      "Make DONE\n",
      "https://github.com/apsrcreatix/Socket-Programming-With-C.git\n",
      "repo_name apsrcreatix_____Socket-Programming-With-C\n",
      "git clone https://github.com/apsrcreatix/Socket-Programming-With-C.git /home/nahid/dataset/clones/apsrcreatix_____Socket-Programming-With-C \n"
     ]
    },
    {
     "name": "stderr",
     "output_type": "stream",
     "text": [
      "Cloning into '/home/nahid/dataset/clones/apsrcreatix_____Socket-Programming-With-C'...\n"
     ]
    },
    {
     "name": "stdout",
     "output_type": "stream",
     "text": [
      "Make DONE\n",
      "https://github.com/calebapril/alx-low_level_programming.git\n",
      "repo_name calebapril_____alx-low_level_programming\n",
      "git clone https://github.com/calebapril/alx-low_level_programming.git /home/nahid/dataset/clones/calebapril_____alx-low_level_programming \n"
     ]
    },
    {
     "name": "stderr",
     "output_type": "stream",
     "text": [
      "Cloning into '/home/nahid/dataset/clones/calebapril_____alx-low_level_programming'...\n"
     ]
    },
    {
     "name": "stdout",
     "output_type": "stream",
     "text": [
      "Make DONE\n",
      "https://github.com/raysan5/raylib.git\n",
      "repo_name raysan5_____raylib\n",
      "git clone https://github.com/raysan5/raylib.git /home/nahid/dataset/clones/raysan5_____raylib \n"
     ]
    },
    {
     "name": "stderr",
     "output_type": "stream",
     "text": [
      "Cloning into '/home/nahid/dataset/clones/raysan5_____raylib'...\n"
     ]
    },
    {
     "name": "stdout",
     "output_type": "stream",
     "text": [
      "Make DONE\n",
      "https://github.com/fool2fish/the-c-programming-language-exercise-answers.git\n",
      "repo_name fool2fish_____the-c-programming-language-exercise-answers\n",
      "git clone https://github.com/fool2fish/the-c-programming-language-exercise-answers.git /home/nahid/dataset/clones/fool2fish_____the-c-programming-language-exercise-answers \n"
     ]
    },
    {
     "name": "stderr",
     "output_type": "stream",
     "text": [
      "Cloning into '/home/nahid/dataset/clones/fool2fish_____the-c-programming-language-exercise-answers'...\n"
     ]
    },
    {
     "name": "stdout",
     "output_type": "stream",
     "text": [
      "Make DONE\n",
      "https://github.com/ErSKS/C.git\n",
      "repo_name ErSKS_____C\n",
      "git clone https://github.com/ErSKS/C.git /home/nahid/dataset/clones/ErSKS_____C \n"
     ]
    },
    {
     "name": "stderr",
     "output_type": "stream",
     "text": [
      "Cloning into '/home/nahid/dataset/clones/ErSKS_____C'...\n"
     ]
    },
    {
     "name": "stdout",
     "output_type": "stream",
     "text": [
      "Make DONE\n",
      "https://github.com/deadbits/InsecureProgramming.git\n",
      "repo_name deadbits_____InsecureProgramming\n",
      "git clone https://github.com/deadbits/InsecureProgramming.git /home/nahid/dataset/clones/deadbits_____InsecureProgramming \n"
     ]
    },
    {
     "name": "stderr",
     "output_type": "stream",
     "text": [
      "Cloning into '/home/nahid/dataset/clones/deadbits_____InsecureProgramming'...\n"
     ]
    },
    {
     "name": "stdout",
     "output_type": "stream",
     "text": [
      "Make DONE\n",
      "https://github.com/aravindvnair99/C.git\n",
      "repo_name aravindvnair99_____C\n",
      "git clone https://github.com/aravindvnair99/C.git /home/nahid/dataset/clones/aravindvnair99_____C \n"
     ]
    },
    {
     "name": "stderr",
     "output_type": "stream",
     "text": [
      "Cloning into '/home/nahid/dataset/clones/aravindvnair99_____C'...\n"
     ]
    },
    {
     "name": "stdout",
     "output_type": "stream",
     "text": [
      "Make DONE\n",
      "https://github.com/ValentineFernandes/C.git\n",
      "repo_name ValentineFernandes_____C\n",
      "git clone https://github.com/ValentineFernandes/C.git /home/nahid/dataset/clones/ValentineFernandes_____C \n"
     ]
    },
    {
     "name": "stderr",
     "output_type": "stream",
     "text": [
      "Cloning into '/home/nahid/dataset/clones/ValentineFernandes_____C'...\n"
     ]
    },
    {
     "name": "stdout",
     "output_type": "stream",
     "text": [
      "Make DONE\n",
      "https://github.com/hitaarthh/C-Programming.git\n",
      "repo_name hitaarthh_____C-Programming\n",
      "git clone https://github.com/hitaarthh/C-Programming.git /home/nahid/dataset/clones/hitaarthh_____C-Programming \n"
     ]
    },
    {
     "name": "stderr",
     "output_type": "stream",
     "text": [
      "Cloning into '/home/nahid/dataset/clones/hitaarthh_____C-Programming'...\n"
     ]
    },
    {
     "name": "stdout",
     "output_type": "stream",
     "text": [
      "Make DONE\n",
      "https://github.com/steven-schronk/C-Programming-Examples.git\n",
      "repo_name steven-schronk_____C-Programming-Examples\n",
      "git clone https://github.com/steven-schronk/C-Programming-Examples.git /home/nahid/dataset/clones/steven-schronk_____C-Programming-Examples \n"
     ]
    },
    {
     "name": "stderr",
     "output_type": "stream",
     "text": [
      "Cloning into '/home/nahid/dataset/clones/steven-schronk_____C-Programming-Examples'...\n"
     ]
    },
    {
     "name": "stdout",
     "output_type": "stream",
     "text": [
      "Make DONE\n",
      "https://github.com/skeeto/interactive-c-demo.git\n",
      "repo_name skeeto_____interactive-c-demo\n",
      "git clone https://github.com/skeeto/interactive-c-demo.git /home/nahid/dataset/clones/skeeto_____interactive-c-demo \n"
     ]
    },
    {
     "name": "stderr",
     "output_type": "stream",
     "text": [
      "Cloning into '/home/nahid/dataset/clones/skeeto_____interactive-c-demo'...\n"
     ]
    },
    {
     "name": "stdout",
     "output_type": "stream",
     "text": [
      "Make DONE\n",
      "https://github.com/puge-up/programming-cpp.git\n",
      "repo_name puge-up_____programming-cpp\n",
      "git clone https://github.com/puge-up/programming-cpp.git /home/nahid/dataset/clones/puge-up_____programming-cpp \n"
     ]
    },
    {
     "name": "stderr",
     "output_type": "stream",
     "text": [
      "Cloning into '/home/nahid/dataset/clones/puge-up_____programming-cpp'...\n"
     ]
    },
    {
     "name": "stdout",
     "output_type": "stream",
     "text": [
      "Make DONE\n",
      "https://github.com/Akanksha1212/C_Programs.git\n",
      "repo_name Akanksha1212_____C_Programs\n",
      "git clone https://github.com/Akanksha1212/C_Programs.git /home/nahid/dataset/clones/Akanksha1212_____C_Programs \n"
     ]
    },
    {
     "name": "stderr",
     "output_type": "stream",
     "text": [
      "Cloning into '/home/nahid/dataset/clones/Akanksha1212_____C_Programs'...\n"
     ]
    },
    {
     "name": "stdout",
     "output_type": "stream",
     "text": [
      "Make DONE\n",
      "https://github.com/seifzadeh/c-network-programming-best-snipts.git\n",
      "repo_name seifzadeh_____c-network-programming-best-snipts\n",
      "git clone https://github.com/seifzadeh/c-network-programming-best-snipts.git /home/nahid/dataset/clones/seifzadeh_____c-network-programming-best-snipts \n"
     ]
    },
    {
     "name": "stderr",
     "output_type": "stream",
     "text": [
      "Cloning into '/home/nahid/dataset/clones/seifzadeh_____c-network-programming-best-snipts'...\n"
     ]
    },
    {
     "name": "stdout",
     "output_type": "stream",
     "text": [
      "Make DONE\n",
      "https://github.com/AllenDowney/ExercisesInC.git\n",
      "repo_name AllenDowney_____ExercisesInC\n",
      "git clone https://github.com/AllenDowney/ExercisesInC.git /home/nahid/dataset/clones/AllenDowney_____ExercisesInC \n"
     ]
    },
    {
     "name": "stderr",
     "output_type": "stream",
     "text": [
      "Cloning into '/home/nahid/dataset/clones/AllenDowney_____ExercisesInC'...\n"
     ]
    },
    {
     "name": "stdout",
     "output_type": "stream",
     "text": [
      "Make DONE\n",
      "https://github.com/ccpalettes/the-c-programming-language-second-edition-solutions.git\n",
      "repo_name ccpalettes_____the-c-programming-language-second-edition-solutions\n",
      "git clone https://github.com/ccpalettes/the-c-programming-language-second-edition-solutions.git /home/nahid/dataset/clones/ccpalettes_____the-c-programming-language-second-edition-solutions \n"
     ]
    },
    {
     "name": "stderr",
     "output_type": "stream",
     "text": [
      "Cloning into '/home/nahid/dataset/clones/ccpalettes_____the-c-programming-language-second-edition-solutions'...\n"
     ]
    },
    {
     "name": "stdout",
     "output_type": "stream",
     "text": [
      "Make DONE\n",
      "https://github.com/GorgonMeducer/PLOOC.git\n",
      "repo_name GorgonMeducer_____PLOOC\n",
      "git clone https://github.com/GorgonMeducer/PLOOC.git /home/nahid/dataset/clones/GorgonMeducer_____PLOOC \n"
     ]
    },
    {
     "name": "stderr",
     "output_type": "stream",
     "text": [
      "Cloning into '/home/nahid/dataset/clones/GorgonMeducer_____PLOOC'...\n"
     ]
    },
    {
     "name": "stdout",
     "output_type": "stream",
     "text": [
      "Make DONE\n",
      "https://github.com/PacktPublishing/Hands-On-Network-Programming-with-C.git\n",
      "repo_name PacktPublishing_____Hands-On-Network-Programming-with-C\n",
      "git clone https://github.com/PacktPublishing/Hands-On-Network-Programming-with-C.git /home/nahid/dataset/clones/PacktPublishing_____Hands-On-Network-Programming-with-C \n"
     ]
    },
    {
     "name": "stderr",
     "output_type": "stream",
     "text": [
      "Cloning into '/home/nahid/dataset/clones/PacktPublishing_____Hands-On-Network-Programming-with-C'...\n"
     ]
    },
    {
     "name": "stdout",
     "output_type": "stream",
     "text": [
      "Make DONE\n",
      "https://github.com/nobodyme/dynamic-programming.git\n",
      "repo_name nobodyme_____dynamic-programming\n",
      "git clone https://github.com/nobodyme/dynamic-programming.git /home/nahid/dataset/clones/nobodyme_____dynamic-programming \n"
     ]
    },
    {
     "name": "stderr",
     "output_type": "stream",
     "text": [
      "Cloning into '/home/nahid/dataset/clones/nobodyme_____dynamic-programming'...\n"
     ]
    },
    {
     "name": "stdout",
     "output_type": "stream",
     "text": [
      "Make DONE\n",
      "https://github.com/gouravthakur39/beginners-C-program-examples.git\n",
      "repo_name gouravthakur39_____beginners-C-program-examples\n",
      "git clone https://github.com/gouravthakur39/beginners-C-program-examples.git /home/nahid/dataset/clones/gouravthakur39_____beginners-C-program-examples \n"
     ]
    },
    {
     "name": "stderr",
     "output_type": "stream",
     "text": [
      "Cloning into '/home/nahid/dataset/clones/gouravthakur39_____beginners-C-program-examples'...\n"
     ]
    },
    {
     "name": "stdout",
     "output_type": "stream",
     "text": [
      "Make DONE\n",
      "https://github.com/laumann/C.git\n",
      "repo_name laumann_____C\n",
      "git clone https://github.com/laumann/C.git /home/nahid/dataset/clones/laumann_____C \n"
     ]
    },
    {
     "name": "stderr",
     "output_type": "stream",
     "text": [
      "Cloning into '/home/nahid/dataset/clones/laumann_____C'...\n"
     ]
    },
    {
     "name": "stdout",
     "output_type": "stream",
     "text": [
      "Make DONE\n",
      "https://github.com/sksalahuddin2828/C_Programming.git\n",
      "repo_name sksalahuddin2828_____C_Programming\n",
      "git clone https://github.com/sksalahuddin2828/C_Programming.git /home/nahid/dataset/clones/sksalahuddin2828_____C_Programming \n"
     ]
    },
    {
     "name": "stderr",
     "output_type": "stream",
     "text": [
      "Cloning into '/home/nahid/dataset/clones/sksalahuddin2828_____C_Programming'...\n"
     ]
    },
    {
     "name": "stdout",
     "output_type": "stream",
     "text": [
      "Make DONE\n",
      "https://github.com/perusio/linux-programming-by-example.git\n",
      "repo_name perusio_____linux-programming-by-example\n",
      "git clone https://github.com/perusio/linux-programming-by-example.git /home/nahid/dataset/clones/perusio_____linux-programming-by-example \n"
     ]
    },
    {
     "name": "stderr",
     "output_type": "stream",
     "text": [
      "Cloning into '/home/nahid/dataset/clones/perusio_____linux-programming-by-example'...\n"
     ]
    },
    {
     "name": "stdout",
     "output_type": "stream",
     "text": [
      "Make DONE\n",
      "https://github.com/umanovskis/baremetal-arm.git\n",
      "repo_name umanovskis_____baremetal-arm\n",
      "git clone https://github.com/umanovskis/baremetal-arm.git /home/nahid/dataset/clones/umanovskis_____baremetal-arm \n"
     ]
    },
    {
     "name": "stderr",
     "output_type": "stream",
     "text": [
      "Cloning into '/home/nahid/dataset/clones/umanovskis_____baremetal-arm'...\n"
     ]
    },
    {
     "name": "stdout",
     "output_type": "stream",
     "text": [
      "Make DONE\n",
      "https://github.com/ThusharaX/C-programming.git\n",
      "repo_name ThusharaX_____C-programming\n",
      "git clone https://github.com/ThusharaX/C-programming.git /home/nahid/dataset/clones/ThusharaX_____C-programming \n"
     ]
    },
    {
     "name": "stderr",
     "output_type": "stream",
     "text": [
      "Cloning into '/home/nahid/dataset/clones/ThusharaX_____C-programming'...\n"
     ]
    },
    {
     "name": "stdout",
     "output_type": "stream",
     "text": [
      "Make DONE\n",
      "https://github.com/oracle/odpi.git\n",
      "repo_name oracle_____odpi\n",
      "git clone https://github.com/oracle/odpi.git /home/nahid/dataset/clones/oracle_____odpi \n"
     ]
    },
    {
     "name": "stderr",
     "output_type": "stream",
     "text": [
      "Cloning into '/home/nahid/dataset/clones/oracle_____odpi'...\n"
     ]
    },
    {
     "name": "stdout",
     "output_type": "stream",
     "text": [
      "Make DONE\n",
      "https://github.com/felselva/mathc.git\n",
      "repo_name felselva_____mathc\n",
      "git clone https://github.com/felselva/mathc.git /home/nahid/dataset/clones/felselva_____mathc \n"
     ]
    },
    {
     "name": "stderr",
     "output_type": "stream",
     "text": [
      "Cloning into '/home/nahid/dataset/clones/felselva_____mathc'...\n"
     ]
    },
    {
     "name": "stdout",
     "output_type": "stream",
     "text": [
      "Make DONE\n",
      "https://github.com/hutusi/rethink-c.git\n",
      "repo_name hutusi_____rethink-c\n",
      "git clone https://github.com/hutusi/rethink-c.git /home/nahid/dataset/clones/hutusi_____rethink-c \n"
     ]
    },
    {
     "name": "stderr",
     "output_type": "stream",
     "text": [
      "Cloning into '/home/nahid/dataset/clones/hutusi_____rethink-c'...\n"
     ]
    },
    {
     "name": "stdout",
     "output_type": "stream",
     "text": [
      "Make DONE\n",
      "https://github.com/ColinIanKing/christmas-obfuscated-C.git\n",
      "repo_name ColinIanKing_____christmas-obfuscated-C\n",
      "git clone https://github.com/ColinIanKing/christmas-obfuscated-C.git /home/nahid/dataset/clones/ColinIanKing_____christmas-obfuscated-C \n"
     ]
    },
    {
     "name": "stderr",
     "output_type": "stream",
     "text": [
      "Cloning into '/home/nahid/dataset/clones/ColinIanKing_____christmas-obfuscated-C'...\n"
     ]
    },
    {
     "name": "stdout",
     "output_type": "stream",
     "text": [
      "Make DONE\n",
      "https://github.com/harshitbansal373/C.git\n",
      "repo_name harshitbansal373_____C\n",
      "git clone https://github.com/harshitbansal373/C.git /home/nahid/dataset/clones/harshitbansal373_____C \n"
     ]
    },
    {
     "name": "stderr",
     "output_type": "stream",
     "text": [
      "Cloning into '/home/nahid/dataset/clones/harshitbansal373_____C'...\n"
     ]
    },
    {
     "name": "stdout",
     "output_type": "stream",
     "text": [
      "Make DONE\n",
      "https://github.com/VirusTotal/c-vtapi.git\n",
      "repo_name VirusTotal_____c-vtapi\n",
      "git clone https://github.com/VirusTotal/c-vtapi.git /home/nahid/dataset/clones/VirusTotal_____c-vtapi \n"
     ]
    },
    {
     "name": "stderr",
     "output_type": "stream",
     "text": [
      "Cloning into '/home/nahid/dataset/clones/VirusTotal_____c-vtapi'...\n"
     ]
    },
    {
     "name": "stdout",
     "output_type": "stream",
     "text": [
      "Make DONE\n",
      "https://github.com/BjarneStroustrup/Programming-_Principles_and_Practice_Using_Cpp.git\n",
      "repo_name BjarneStroustrup_____Programming-_Principles_and_Practice_Using_Cpp\n",
      "git clone https://github.com/BjarneStroustrup/Programming-_Principles_and_Practice_Using_Cpp.git /home/nahid/dataset/clones/BjarneStroustrup_____Programming-_Principles_and_Practice_Using_Cpp \n"
     ]
    },
    {
     "name": "stderr",
     "output_type": "stream",
     "text": [
      "Cloning into '/home/nahid/dataset/clones/BjarneStroustrup_____Programming-_Principles_and_Practice_Using_Cpp'...\n"
     ]
    },
    {
     "name": "stdout",
     "output_type": "stream",
     "text": [
      "Make DONE\n",
      "https://github.com/CE-Programming/toolchain.git\n",
      "repo_name CE-Programming_____toolchain\n",
      "git clone https://github.com/CE-Programming/toolchain.git /home/nahid/dataset/clones/CE-Programming_____toolchain \n"
     ]
    },
    {
     "name": "stderr",
     "output_type": "stream",
     "text": [
      "Cloning into '/home/nahid/dataset/clones/CE-Programming_____toolchain'...\n"
     ]
    },
    {
     "name": "stdout",
     "output_type": "stream",
     "text": [
      "Make DONE\n",
      "https://github.com/metacall/core.git\n",
      "repo_name metacall_____core\n",
      "git clone https://github.com/metacall/core.git /home/nahid/dataset/clones/metacall_____core \n"
     ]
    },
    {
     "name": "stderr",
     "output_type": "stream",
     "text": [
      "Cloning into '/home/nahid/dataset/clones/metacall_____core'...\n"
     ]
    },
    {
     "name": "stdout",
     "output_type": "stream",
     "text": [
      "Make DONE\n",
      "https://github.com/alekmaul/pvsneslib.git\n",
      "repo_name alekmaul_____pvsneslib\n",
      "git clone https://github.com/alekmaul/pvsneslib.git /home/nahid/dataset/clones/alekmaul_____pvsneslib \n"
     ]
    },
    {
     "name": "stderr",
     "output_type": "stream",
     "text": [
      "Cloning into '/home/nahid/dataset/clones/alekmaul_____pvsneslib'...\n"
     ]
    },
    {
     "name": "stdout",
     "output_type": "stream",
     "text": [
      "Make DONE\n",
      "https://github.com/FireFeathers06/Basic-C-Programming.git\n",
      "repo_name FireFeathers06_____Basic-C-Programming\n",
      "git clone https://github.com/FireFeathers06/Basic-C-Programming.git /home/nahid/dataset/clones/FireFeathers06_____Basic-C-Programming \n"
     ]
    },
    {
     "name": "stderr",
     "output_type": "stream",
     "text": [
      "Cloning into '/home/nahid/dataset/clones/FireFeathers06_____Basic-C-Programming'...\n"
     ]
    },
    {
     "name": "stdout",
     "output_type": "stream",
     "text": [
      "Make DONE\n",
      "https://github.com/skuhl/sys-prog-examples.git\n",
      "repo_name skuhl_____sys-prog-examples\n",
      "git clone https://github.com/skuhl/sys-prog-examples.git /home/nahid/dataset/clones/skuhl_____sys-prog-examples \n"
     ]
    },
    {
     "name": "stderr",
     "output_type": "stream",
     "text": [
      "Cloning into '/home/nahid/dataset/clones/skuhl_____sys-prog-examples'...\n"
     ]
    },
    {
     "name": "stdout",
     "output_type": "stream",
     "text": [
      "Make DONE\n",
      "https://github.com/Nihal-Priyadarshi/C-Programs.git\n",
      "repo_name Nihal-Priyadarshi_____C-Programs\n",
      "git clone https://github.com/Nihal-Priyadarshi/C-Programs.git /home/nahid/dataset/clones/Nihal-Priyadarshi_____C-Programs \n"
     ]
    },
    {
     "name": "stderr",
     "output_type": "stream",
     "text": [
      "Cloning into '/home/nahid/dataset/clones/Nihal-Priyadarshi_____C-Programs'...\n"
     ]
    },
    {
     "name": "stdout",
     "output_type": "stream",
     "text": [
      "Make DONE\n",
      "https://github.com/caisah/K-and-R-exercises-and-examples.git\n",
      "repo_name caisah_____K-and-R-exercises-and-examples\n",
      "git clone https://github.com/caisah/K-and-R-exercises-and-examples.git /home/nahid/dataset/clones/caisah_____K-and-R-exercises-and-examples \n"
     ]
    },
    {
     "name": "stderr",
     "output_type": "stream",
     "text": [
      "Cloning into '/home/nahid/dataset/clones/caisah_____K-and-R-exercises-and-examples'...\n"
     ]
    },
    {
     "name": "stdout",
     "output_type": "stream",
     "text": [
      "Make DONE\n",
      "https://github.com/cs3157/recitations.git\n",
      "repo_name cs3157_____recitations\n",
      "git clone https://github.com/cs3157/recitations.git /home/nahid/dataset/clones/cs3157_____recitations \n"
     ]
    },
    {
     "name": "stderr",
     "output_type": "stream",
     "text": [
      "Cloning into '/home/nahid/dataset/clones/cs3157_____recitations'...\n"
     ]
    },
    {
     "name": "stdout",
     "output_type": "stream",
     "text": [
      "Make DONE\n",
      "https://github.com/Pavan-Kamthane/C_langauege_.git\n",
      "repo_name Pavan-Kamthane_____C_langauege_\n",
      "git clone https://github.com/Pavan-Kamthane/C_langauege_.git /home/nahid/dataset/clones/Pavan-Kamthane_____C_langauege_ \n"
     ]
    },
    {
     "name": "stderr",
     "output_type": "stream",
     "text": [
      "Cloning into '/home/nahid/dataset/clones/Pavan-Kamthane_____C_langauege_'...\n"
     ]
    },
    {
     "name": "stdout",
     "output_type": "stream",
     "text": [
      "Make DONE\n",
      "https://github.com/thvdburgt/KnR-The-C-Programming-Language-Solutions.git\n",
      "repo_name thvdburgt_____KnR-The-C-Programming-Language-Solutions\n",
      "git clone https://github.com/thvdburgt/KnR-The-C-Programming-Language-Solutions.git /home/nahid/dataset/clones/thvdburgt_____KnR-The-C-Programming-Language-Solutions \n"
     ]
    },
    {
     "name": "stderr",
     "output_type": "stream",
     "text": [
      "Cloning into '/home/nahid/dataset/clones/thvdburgt_____KnR-The-C-Programming-Language-Solutions'...\n"
     ]
    },
    {
     "name": "stdout",
     "output_type": "stream",
     "text": [
      "Make DONE\n",
      "https://github.com/LingDong-/wax.git\n",
      "repo_name LingDong-_____wax\n",
      "git clone https://github.com/LingDong-/wax.git /home/nahid/dataset/clones/LingDong-_____wax \n"
     ]
    },
    {
     "name": "stderr",
     "output_type": "stream",
     "text": [
      "Cloning into '/home/nahid/dataset/clones/LingDong-_____wax'...\n"
     ]
    },
    {
     "name": "stdout",
     "output_type": "stream",
     "text": [
      "Make DONE\n",
      "https://github.com/harbour/core.git\n",
      "repo_name harbour_____core\n",
      "git clone https://github.com/harbour/core.git /home/nahid/dataset/clones/harbour_____core \n"
     ]
    },
    {
     "name": "stderr",
     "output_type": "stream",
     "text": [
      "Cloning into '/home/nahid/dataset/clones/harbour_____core'...\n"
     ]
    },
    {
     "name": "stdout",
     "output_type": "stream",
     "text": [
      "Make DONE\n",
      "https://github.com/bytegarage/c-programming-bootcamp.git\n",
      "repo_name bytegarage_____c-programming-bootcamp\n",
      "git clone https://github.com/bytegarage/c-programming-bootcamp.git /home/nahid/dataset/clones/bytegarage_____c-programming-bootcamp \n"
     ]
    },
    {
     "name": "stderr",
     "output_type": "stream",
     "text": [
      "Cloning into '/home/nahid/dataset/clones/bytegarage_____c-programming-bootcamp'...\n"
     ]
    },
    {
     "name": "stdout",
     "output_type": "stream",
     "text": [
      "Make DONE\n",
      "https://github.com/Johnpa89/holbertonschool-low_level_programming-1.git\n",
      "repo_name Johnpa89_____holbertonschool-low_level_programming-1\n",
      "git clone https://github.com/Johnpa89/holbertonschool-low_level_programming-1.git /home/nahid/dataset/clones/Johnpa89_____holbertonschool-low_level_programming-1 \n"
     ]
    },
    {
     "name": "stderr",
     "output_type": "stream",
     "text": [
      "Cloning into '/home/nahid/dataset/clones/Johnpa89_____holbertonschool-low_level_programming-1'...\n"
     ]
    },
    {
     "name": "stdout",
     "output_type": "stream",
     "text": [
      "Make DONE\n",
      "https://github.com/selsta/hlsdl.git\n",
      "repo_name selsta_____hlsdl\n",
      "git clone https://github.com/selsta/hlsdl.git /home/nahid/dataset/clones/selsta_____hlsdl \n"
     ]
    },
    {
     "name": "stderr",
     "output_type": "stream",
     "text": [
      "Cloning into '/home/nahid/dataset/clones/selsta_____hlsdl'...\n"
     ]
    },
    {
     "name": "stdout",
     "output_type": "stream",
     "text": [
      "Make DONE\n",
      "https://github.com/bloominstituteoftechnology/The-C-Programming-Language.git\n",
      "repo_name bloominstituteoftechnology_____The-C-Programming-Language\n",
      "git clone https://github.com/bloominstituteoftechnology/The-C-Programming-Language.git /home/nahid/dataset/clones/bloominstituteoftechnology_____The-C-Programming-Language \n"
     ]
    },
    {
     "name": "stderr",
     "output_type": "stream",
     "text": [
      "Cloning into '/home/nahid/dataset/clones/bloominstituteoftechnology_____The-C-Programming-Language'...\n"
     ]
    },
    {
     "name": "stdout",
     "output_type": "stream",
     "text": [
      "Make DONE\n",
      "https://github.com/dyu/ffi-overhead.git\n",
      "repo_name dyu_____ffi-overhead\n",
      "git clone https://github.com/dyu/ffi-overhead.git /home/nahid/dataset/clones/dyu_____ffi-overhead \n"
     ]
    },
    {
     "name": "stderr",
     "output_type": "stream",
     "text": [
      "Cloning into '/home/nahid/dataset/clones/dyu_____ffi-overhead'...\n"
     ]
    },
    {
     "name": "stdout",
     "output_type": "stream",
     "text": [
      "Make DONE\n",
      "https://github.com/1023xp/training.git\n",
      "repo_name 1023xp_____training\n",
      "git clone https://github.com/1023xp/training.git /home/nahid/dataset/clones/1023xp_____training \n"
     ]
    },
    {
     "name": "stderr",
     "output_type": "stream",
     "text": [
      "Cloning into '/home/nahid/dataset/clones/1023xp_____training'...\n"
     ]
    },
    {
     "name": "stdout",
     "output_type": "stream",
     "text": [
      "Make DONE\n",
      "https://github.com/davidinmichael/c-programming-tutorial.git\n",
      "repo_name davidinmichael_____c-programming-tutorial\n",
      "git clone https://github.com/davidinmichael/c-programming-tutorial.git /home/nahid/dataset/clones/davidinmichael_____c-programming-tutorial \n"
     ]
    },
    {
     "name": "stderr",
     "output_type": "stream",
     "text": [
      "Cloning into '/home/nahid/dataset/clones/davidinmichael_____c-programming-tutorial'...\n"
     ]
    },
    {
     "name": "stdout",
     "output_type": "stream",
     "text": [
      "Make DONE\n",
      "https://github.com/niekiran/CortexMxProgramming.git\n",
      "repo_name niekiran_____CortexMxProgramming\n",
      "git clone https://github.com/niekiran/CortexMxProgramming.git /home/nahid/dataset/clones/niekiran_____CortexMxProgramming \n"
     ]
    },
    {
     "name": "stderr",
     "output_type": "stream",
     "text": [
      "Cloning into '/home/nahid/dataset/clones/niekiran_____CortexMxProgramming'...\n"
     ]
    },
    {
     "name": "stdout",
     "output_type": "stream",
     "text": [
      "Make DONE\n",
      "https://github.com/davideuler/SQLite-2.5.0-for-code-reading.git\n",
      "repo_name davideuler_____SQLite-2.5.0-for-code-reading\n",
      "git clone https://github.com/davideuler/SQLite-2.5.0-for-code-reading.git /home/nahid/dataset/clones/davideuler_____SQLite-2.5.0-for-code-reading \n"
     ]
    },
    {
     "name": "stderr",
     "output_type": "stream",
     "text": [
      "Cloning into '/home/nahid/dataset/clones/davideuler_____SQLite-2.5.0-for-code-reading'...\n"
     ]
    },
    {
     "name": "stdout",
     "output_type": "stream",
     "text": [
      "Make DONE\n",
      "https://github.com/suman-shah/c-program-example.git\n",
      "repo_name suman-shah_____c-program-example\n",
      "git clone https://github.com/suman-shah/c-program-example.git /home/nahid/dataset/clones/suman-shah_____c-program-example \n"
     ]
    },
    {
     "name": "stderr",
     "output_type": "stream",
     "text": [
      "Cloning into '/home/nahid/dataset/clones/suman-shah_____c-program-example'...\n"
     ]
    },
    {
     "name": "stdout",
     "output_type": "stream",
     "text": [
      "Make DONE\n",
      "https://github.com/PacktPublishing/Practical-C-Programming.git\n",
      "repo_name PacktPublishing_____Practical-C-Programming\n",
      "git clone https://github.com/PacktPublishing/Practical-C-Programming.git /home/nahid/dataset/clones/PacktPublishing_____Practical-C-Programming \n"
     ]
    },
    {
     "name": "stderr",
     "output_type": "stream",
     "text": [
      "Cloning into '/home/nahid/dataset/clones/PacktPublishing_____Practical-C-Programming'...\n"
     ]
    },
    {
     "name": "stdout",
     "output_type": "stream",
     "text": [
      "Make DONE\n",
      "https://github.com/fsaadatmand/The-C-Programming-Language.git\n",
      "repo_name fsaadatmand_____The-C-Programming-Language\n",
      "git clone https://github.com/fsaadatmand/The-C-Programming-Language.git /home/nahid/dataset/clones/fsaadatmand_____The-C-Programming-Language \n"
     ]
    },
    {
     "name": "stderr",
     "output_type": "stream",
     "text": [
      "Cloning into '/home/nahid/dataset/clones/fsaadatmand_____The-C-Programming-Language'...\n"
     ]
    },
    {
     "name": "stdout",
     "output_type": "stream",
     "text": [
      "Make DONE\n",
      "https://github.com/raviprakashdev/c_programming-basic.git\n",
      "repo_name raviprakashdev_____c_programming-basic\n",
      "git clone https://github.com/raviprakashdev/c_programming-basic.git /home/nahid/dataset/clones/raviprakashdev_____c_programming-basic \n"
     ]
    },
    {
     "name": "stderr",
     "output_type": "stream",
     "text": [
      "Cloning into '/home/nahid/dataset/clones/raviprakashdev_____c_programming-basic'...\n"
     ]
    },
    {
     "name": "stdout",
     "output_type": "stream",
     "text": [
      "Make DONE\n",
      "https://github.com/carld/micro-lisp.git\n",
      "repo_name carld_____micro-lisp\n",
      "git clone https://github.com/carld/micro-lisp.git /home/nahid/dataset/clones/carld_____micro-lisp \n"
     ]
    },
    {
     "name": "stderr",
     "output_type": "stream",
     "text": [
      "Cloning into '/home/nahid/dataset/clones/carld_____micro-lisp'...\n"
     ]
    },
    {
     "name": "stdout",
     "output_type": "stream",
     "text": [
      "Make DONE\n",
      "https://github.com/elsys/c-programming-homework.git\n",
      "repo_name elsys_____c-programming-homework\n",
      "git clone https://github.com/elsys/c-programming-homework.git /home/nahid/dataset/clones/elsys_____c-programming-homework \n"
     ]
    },
    {
     "name": "stderr",
     "output_type": "stream",
     "text": [
      "Cloning into '/home/nahid/dataset/clones/elsys_____c-programming-homework'...\n"
     ]
    },
    {
     "name": "stdout",
     "output_type": "stream",
     "text": [
      "Make DONE\n",
      "https://github.com/elpacificmb/alx-low_level_programming.git\n",
      "repo_name elpacificmb_____alx-low_level_programming\n",
      "git clone https://github.com/elpacificmb/alx-low_level_programming.git /home/nahid/dataset/clones/elpacificmb_____alx-low_level_programming \n"
     ]
    },
    {
     "name": "stderr",
     "output_type": "stream",
     "text": [
      "Cloning into '/home/nahid/dataset/clones/elpacificmb_____alx-low_level_programming'...\n"
     ]
    },
    {
     "name": "stdout",
     "output_type": "stream",
     "text": [
      "Make DONE\n",
      "https://github.com/Infineon/PSoC-4-BLE.git\n",
      "repo_name Infineon_____PSoC-4-BLE\n",
      "git clone https://github.com/Infineon/PSoC-4-BLE.git /home/nahid/dataset/clones/Infineon_____PSoC-4-BLE \n"
     ]
    },
    {
     "name": "stderr",
     "output_type": "stream",
     "text": [
      "Cloning into '/home/nahid/dataset/clones/Infineon_____PSoC-4-BLE'...\n"
     ]
    },
    {
     "name": "stdout",
     "output_type": "stream",
     "text": [
      "Make DONE\n",
      "https://github.com/skarnet/skalibs.git\n",
      "repo_name skarnet_____skalibs\n",
      "git clone https://github.com/skarnet/skalibs.git /home/nahid/dataset/clones/skarnet_____skalibs \n"
     ]
    },
    {
     "name": "stderr",
     "output_type": "stream",
     "text": [
      "Cloning into '/home/nahid/dataset/clones/skarnet_____skalibs'...\n"
     ]
    },
    {
     "name": "stdout",
     "output_type": "stream",
     "text": [
      "Make DONE\n",
      "https://github.com/elsys/po-homework-2015-1.git\n",
      "repo_name elsys_____po-homework-2015-1\n",
      "git clone https://github.com/elsys/po-homework-2015-1.git /home/nahid/dataset/clones/elsys_____po-homework-2015-1 \n"
     ]
    },
    {
     "name": "stderr",
     "output_type": "stream",
     "text": [
      "Cloning into '/home/nahid/dataset/clones/elsys_____po-homework-2015-1'...\n"
     ]
    },
    {
     "name": "stdout",
     "output_type": "stream",
     "text": [
      "Make DONE\n",
      "https://github.com/yunghsianglu/ECE264Assignments.git\n",
      "repo_name yunghsianglu_____ECE264Assignments\n",
      "git clone https://github.com/yunghsianglu/ECE264Assignments.git /home/nahid/dataset/clones/yunghsianglu_____ECE264Assignments \n"
     ]
    },
    {
     "name": "stderr",
     "output_type": "stream",
     "text": [
      "Cloning into '/home/nahid/dataset/clones/yunghsianglu_____ECE264Assignments'...\n"
     ]
    },
    {
     "name": "stdout",
     "output_type": "stream",
     "text": [
      "Make DONE\n",
      "https://github.com/DollarAkshay/C-and-CPP-Programs.git\n",
      "repo_name DollarAkshay_____C-and-CPP-Programs\n",
      "git clone https://github.com/DollarAkshay/C-and-CPP-Programs.git /home/nahid/dataset/clones/DollarAkshay_____C-and-CPP-Programs \n"
     ]
    },
    {
     "name": "stderr",
     "output_type": "stream",
     "text": [
      "Cloning into '/home/nahid/dataset/clones/DollarAkshay_____C-and-CPP-Programs'...\n"
     ]
    },
    {
     "name": "stdout",
     "output_type": "stream",
     "text": [
      "Make DONE\n",
      "https://github.com/sammykingx/alx-low_level_programming.git\n",
      "repo_name sammykingx_____alx-low_level_programming\n",
      "git clone https://github.com/sammykingx/alx-low_level_programming.git /home/nahid/dataset/clones/sammykingx_____alx-low_level_programming \n"
     ]
    },
    {
     "name": "stderr",
     "output_type": "stream",
     "text": [
      "Cloning into '/home/nahid/dataset/clones/sammykingx_____alx-low_level_programming'...\n"
     ]
    },
    {
     "name": "stdout",
     "output_type": "stream",
     "text": [
      "Make DONE\n",
      "https://github.com/lionsoul2014/ip2region.git\n",
      "repo_name lionsoul2014_____ip2region\n",
      "git clone https://github.com/lionsoul2014/ip2region.git /home/nahid/dataset/clones/lionsoul2014_____ip2region \n"
     ]
    },
    {
     "name": "stderr",
     "output_type": "stream",
     "text": [
      "Cloning into '/home/nahid/dataset/clones/lionsoul2014_____ip2region'...\n"
     ]
    },
    {
     "name": "stdout",
     "output_type": "stream",
     "text": [
      "Make DONE\n",
      "https://github.com/snikulov/prog_posix_threads.git\n",
      "repo_name snikulov_____prog_posix_threads\n",
      "git clone https://github.com/snikulov/prog_posix_threads.git /home/nahid/dataset/clones/snikulov_____prog_posix_threads \n"
     ]
    },
    {
     "name": "stderr",
     "output_type": "stream",
     "text": [
      "Cloning into '/home/nahid/dataset/clones/snikulov_____prog_posix_threads'...\n"
     ]
    },
    {
     "name": "stdout",
     "output_type": "stream",
     "text": [
      "Make DONE\n",
      "https://github.com/fuzzstati0n/fuzzgoat.git\n",
      "repo_name fuzzstati0n_____fuzzgoat\n",
      "git clone https://github.com/fuzzstati0n/fuzzgoat.git /home/nahid/dataset/clones/fuzzstati0n_____fuzzgoat \n"
     ]
    },
    {
     "name": "stderr",
     "output_type": "stream",
     "text": [
      "Cloning into '/home/nahid/dataset/clones/fuzzstati0n_____fuzzgoat'...\n"
     ]
    },
    {
     "name": "stdout",
     "output_type": "stream",
     "text": [
      "Make DONE\n",
      "https://github.com/Tanmay-tiwari-cyber/c-programs.git\n",
      "repo_name Tanmay-tiwari-cyber_____c-programs\n",
      "git clone https://github.com/Tanmay-tiwari-cyber/c-programs.git /home/nahid/dataset/clones/Tanmay-tiwari-cyber_____c-programs \n"
     ]
    },
    {
     "name": "stderr",
     "output_type": "stream",
     "text": [
      "Cloning into '/home/nahid/dataset/clones/Tanmay-tiwari-cyber_____c-programs'...\n"
     ]
    },
    {
     "name": "stdout",
     "output_type": "stream",
     "text": [
      "Make DONE\n",
      "https://github.com/nikhilroxtomar/Chatroom-in-C.git\n",
      "repo_name nikhilroxtomar_____Chatroom-in-C\n",
      "git clone https://github.com/nikhilroxtomar/Chatroom-in-C.git /home/nahid/dataset/clones/nikhilroxtomar_____Chatroom-in-C \n"
     ]
    },
    {
     "name": "stderr",
     "output_type": "stream",
     "text": [
      "Cloning into '/home/nahid/dataset/clones/nikhilroxtomar_____Chatroom-in-C'...\n"
     ]
    },
    {
     "name": "stdout",
     "output_type": "stream",
     "text": [
      "Make DONE\n",
      "https://github.com/samibirhanu1/alx-low_level_programming-old.git\n",
      "repo_name samibirhanu1_____alx-low_level_programming-old\n",
      "git clone https://github.com/samibirhanu1/alx-low_level_programming-old.git /home/nahid/dataset/clones/samibirhanu1_____alx-low_level_programming-old \n"
     ]
    },
    {
     "name": "stderr",
     "output_type": "stream",
     "text": [
      "Cloning into '/home/nahid/dataset/clones/samibirhanu1_____alx-low_level_programming-old'...\n"
     ]
    },
    {
     "name": "stdout",
     "output_type": "stream",
     "text": [
      "Make DONE\n",
      "https://github.com/roatienza/C-Programming.git\n",
      "repo_name roatienza_____C-Programming\n",
      "git clone https://github.com/roatienza/C-Programming.git /home/nahid/dataset/clones/roatienza_____C-Programming \n"
     ]
    },
    {
     "name": "stderr",
     "output_type": "stream",
     "text": [
      "Cloning into '/home/nahid/dataset/clones/roatienza_____C-Programming'...\n"
     ]
    },
    {
     "name": "stdout",
     "output_type": "stream",
     "text": [
      "Make DONE\n",
      "https://github.com/jzamora5/holbertonschool-low_level_programming.git\n",
      "repo_name jzamora5_____holbertonschool-low_level_programming\n",
      "git clone https://github.com/jzamora5/holbertonschool-low_level_programming.git /home/nahid/dataset/clones/jzamora5_____holbertonschool-low_level_programming \n"
     ]
    },
    {
     "name": "stderr",
     "output_type": "stream",
     "text": [
      "Cloning into '/home/nahid/dataset/clones/jzamora5_____holbertonschool-low_level_programming'...\n"
     ]
    },
    {
     "name": "stdout",
     "output_type": "stream",
     "text": [
      "Make DONE\n",
      "https://github.com/Nivedpv2004/C-PROGRAMING.git\n",
      "repo_name Nivedpv2004_____C-PROGRAMING\n",
      "git clone https://github.com/Nivedpv2004/C-PROGRAMING.git /home/nahid/dataset/clones/Nivedpv2004_____C-PROGRAMING \n"
     ]
    },
    {
     "name": "stderr",
     "output_type": "stream",
     "text": [
      "Cloning into '/home/nahid/dataset/clones/Nivedpv2004_____C-PROGRAMING'...\n"
     ]
    },
    {
     "name": "stdout",
     "output_type": "stream",
     "text": [
      "Make DONE\n",
      "https://github.com/ravya1108/programming.git\n",
      "repo_name ravya1108_____programming\n",
      "git clone https://github.com/ravya1108/programming.git /home/nahid/dataset/clones/ravya1108_____programming \n"
     ]
    },
    {
     "name": "stderr",
     "output_type": "stream",
     "text": [
      "Cloning into '/home/nahid/dataset/clones/ravya1108_____programming'...\n"
     ]
    },
    {
     "name": "stdout",
     "output_type": "stream",
     "text": [
      "Make DONE\n",
      "https://github.com/mvirgo/c-programming.git\n",
      "repo_name mvirgo_____c-programming\n",
      "git clone https://github.com/mvirgo/c-programming.git /home/nahid/dataset/clones/mvirgo_____c-programming \n"
     ]
    },
    {
     "name": "stderr",
     "output_type": "stream",
     "text": [
      "Cloning into '/home/nahid/dataset/clones/mvirgo_____c-programming'...\n"
     ]
    },
    {
     "name": "stdout",
     "output_type": "stream",
     "text": [
      "Make DONE\n",
      "https://github.com/QuantumLeaps/modern-embedded-programming-course.git\n",
      "repo_name QuantumLeaps_____modern-embedded-programming-course\n",
      "git clone https://github.com/QuantumLeaps/modern-embedded-programming-course.git /home/nahid/dataset/clones/QuantumLeaps_____modern-embedded-programming-course \n"
     ]
    },
    {
     "name": "stderr",
     "output_type": "stream",
     "text": [
      "Cloning into '/home/nahid/dataset/clones/QuantumLeaps_____modern-embedded-programming-course'...\n"
     ]
    },
    {
     "name": "stdout",
     "output_type": "stream",
     "text": [
      "Make DONE\n",
      "https://github.com/MCavigli/holbertonschool-low_level_programming.git\n",
      "repo_name MCavigli_____holbertonschool-low_level_programming\n",
      "git clone https://github.com/MCavigli/holbertonschool-low_level_programming.git /home/nahid/dataset/clones/MCavigli_____holbertonschool-low_level_programming \n"
     ]
    },
    {
     "name": "stderr",
     "output_type": "stream",
     "text": [
      "Cloning into '/home/nahid/dataset/clones/MCavigli_____holbertonschool-low_level_programming'...\n"
     ]
    },
    {
     "name": "stdout",
     "output_type": "stream",
     "text": [
      "Make DONE\n",
      "https://github.com/dtolj/simple-chat-client-server.git\n",
      "repo_name dtolj_____simple-chat-client-server\n",
      "git clone https://github.com/dtolj/simple-chat-client-server.git /home/nahid/dataset/clones/dtolj_____simple-chat-client-server \n"
     ]
    },
    {
     "name": "stderr",
     "output_type": "stream",
     "text": [
      "Cloning into '/home/nahid/dataset/clones/dtolj_____simple-chat-client-server'...\n"
     ]
    },
    {
     "name": "stdout",
     "output_type": "stream",
     "text": [
      "Make DONE\n",
      "https://github.com/agavrel/42_CheatSheet.git\n",
      "repo_name agavrel_____42_CheatSheet\n",
      "git clone https://github.com/agavrel/42_CheatSheet.git /home/nahid/dataset/clones/agavrel_____42_CheatSheet \n"
     ]
    },
    {
     "name": "stderr",
     "output_type": "stream",
     "text": [
      "Cloning into '/home/nahid/dataset/clones/agavrel_____42_CheatSheet'...\n"
     ]
    },
    {
     "name": "stdout",
     "output_type": "stream",
     "text": [
      "Make DONE\n",
      "https://github.com/Sirtuns4real/alx-low_level_programming.git\n",
      "repo_name Sirtuns4real_____alx-low_level_programming\n",
      "git clone https://github.com/Sirtuns4real/alx-low_level_programming.git /home/nahid/dataset/clones/Sirtuns4real_____alx-low_level_programming \n"
     ]
    },
    {
     "name": "stderr",
     "output_type": "stream",
     "text": [
      "Cloning into '/home/nahid/dataset/clones/Sirtuns4real_____alx-low_level_programming'...\n"
     ]
    },
    {
     "name": "stdout",
     "output_type": "stream",
     "text": [
      "Make DONE\n",
      "https://github.com/MelissaN/holbertonschool-low_level_programming.git\n",
      "repo_name MelissaN_____holbertonschool-low_level_programming\n",
      "git clone https://github.com/MelissaN/holbertonschool-low_level_programming.git /home/nahid/dataset/clones/MelissaN_____holbertonschool-low_level_programming \n"
     ]
    },
    {
     "name": "stderr",
     "output_type": "stream",
     "text": [
      "Cloning into '/home/nahid/dataset/clones/MelissaN_____holbertonschool-low_level_programming'...\n"
     ]
    },
    {
     "name": "stdout",
     "output_type": "stream",
     "text": [
      "Make DONE\n",
      "https://github.com/ohkimur/the-c-programming-language-2nd-edition-solutions.git\n",
      "repo_name ohkimur_____the-c-programming-language-2nd-edition-solutions\n",
      "git clone https://github.com/ohkimur/the-c-programming-language-2nd-edition-solutions.git /home/nahid/dataset/clones/ohkimur_____the-c-programming-language-2nd-edition-solutions \n"
     ]
    },
    {
     "name": "stderr",
     "output_type": "stream",
     "text": [
      "Cloning into '/home/nahid/dataset/clones/ohkimur_____the-c-programming-language-2nd-edition-solutions'...\n"
     ]
    },
    {
     "name": "stdout",
     "output_type": "stream",
     "text": [
      "Make DONE\n",
      "https://github.com/twcamper/c-programming.git\n",
      "repo_name twcamper_____c-programming\n",
      "git clone https://github.com/twcamper/c-programming.git /home/nahid/dataset/clones/twcamper_____c-programming \n"
     ]
    },
    {
     "name": "stderr",
     "output_type": "stream",
     "text": [
      "Cloning into '/home/nahid/dataset/clones/twcamper_____c-programming'...\n"
     ]
    },
    {
     "name": "stdout",
     "output_type": "stream",
     "text": [
      "Make DONE\n",
      "https://github.com/kgabis/ape.git\n",
      "repo_name kgabis_____ape\n",
      "git clone https://github.com/kgabis/ape.git /home/nahid/dataset/clones/kgabis_____ape \n"
     ]
    },
    {
     "name": "stderr",
     "output_type": "stream",
     "text": [
      "Cloning into '/home/nahid/dataset/clones/kgabis_____ape'...\n"
     ]
    },
    {
     "name": "stdout",
     "output_type": "stream",
     "text": [
      "Make DONE\n",
      "https://github.com/Miguel22247/holbertonschool-low_level_programming.git\n",
      "repo_name Miguel22247_____holbertonschool-low_level_programming\n",
      "git clone https://github.com/Miguel22247/holbertonschool-low_level_programming.git /home/nahid/dataset/clones/Miguel22247_____holbertonschool-low_level_programming \n"
     ]
    },
    {
     "name": "stderr",
     "output_type": "stream",
     "text": [
      "Cloning into '/home/nahid/dataset/clones/Miguel22247_____holbertonschool-low_level_programming'...\n"
     ]
    },
    {
     "name": "stdout",
     "output_type": "stream",
     "text": [
      "Make DONE\n",
      "https://github.com/tony/NCURSES-Programming-HOWTO-examples.git\n",
      "repo_name tony_____NCURSES-Programming-HOWTO-examples\n",
      "git clone https://github.com/tony/NCURSES-Programming-HOWTO-examples.git /home/nahid/dataset/clones/tony_____NCURSES-Programming-HOWTO-examples \n"
     ]
    },
    {
     "name": "stderr",
     "output_type": "stream",
     "text": [
      "Cloning into '/home/nahid/dataset/clones/tony_____NCURSES-Programming-HOWTO-examples'...\n"
     ]
    },
    {
     "name": "stdout",
     "output_type": "stream",
     "text": [
      "Make DONE\n",
      "https://github.com/pygame/pygame.git\n",
      "repo_name pygame_____pygame\n",
      "git clone https://github.com/pygame/pygame.git /home/nahid/dataset/clones/pygame_____pygame \n"
     ]
    },
    {
     "name": "stderr",
     "output_type": "stream",
     "text": [
      "Cloning into '/home/nahid/dataset/clones/pygame_____pygame'...\n"
     ]
    },
    {
     "name": "stdout",
     "output_type": "stream",
     "text": [
      "Make DONE\n",
      "https://github.com/apache/celix.git\n",
      "repo_name apache_____celix\n",
      "git clone https://github.com/apache/celix.git /home/nahid/dataset/clones/apache_____celix \n"
     ]
    },
    {
     "name": "stderr",
     "output_type": "stream",
     "text": [
      "Cloning into '/home/nahid/dataset/clones/apache_____celix'...\n"
     ]
    },
    {
     "name": "stdout",
     "output_type": "stream",
     "text": [
      "Make DONE\n",
      "https://github.com/Sarvesh-CSE/C-Basics.git\n",
      "repo_name Sarvesh-CSE_____C-Basics\n",
      "git clone https://github.com/Sarvesh-CSE/C-Basics.git /home/nahid/dataset/clones/Sarvesh-CSE_____C-Basics \n"
     ]
    },
    {
     "name": "stderr",
     "output_type": "stream",
     "text": [
      "Cloning into '/home/nahid/dataset/clones/Sarvesh-CSE_____C-Basics'...\n"
     ]
    },
    {
     "name": "stdout",
     "output_type": "stream",
     "text": [
      "Make DONE\n",
      "https://github.com/bitcraze/crazyradio-firmware.git\n",
      "repo_name bitcraze_____crazyradio-firmware\n",
      "git clone https://github.com/bitcraze/crazyradio-firmware.git /home/nahid/dataset/clones/bitcraze_____crazyradio-firmware \n"
     ]
    },
    {
     "name": "stderr",
     "output_type": "stream",
     "text": [
      "Cloning into '/home/nahid/dataset/clones/bitcraze_____crazyradio-firmware'...\n"
     ]
    },
    {
     "name": "stdout",
     "output_type": "stream",
     "text": [
      "Make DONE\n",
      "https://github.com/CObjectSystem/COS.git\n",
      "repo_name CObjectSystem_____COS\n",
      "git clone https://github.com/CObjectSystem/COS.git /home/nahid/dataset/clones/CObjectSystem_____COS \n"
     ]
    },
    {
     "name": "stderr",
     "output_type": "stream",
     "text": [
      "Cloning into '/home/nahid/dataset/clones/CObjectSystem_____COS'...\n"
     ]
    },
    {
     "name": "stdout",
     "output_type": "stream",
     "text": [
      "Make DONE\n",
      "https://github.com/TheImagingSource/Linux-tiscamera-Programming-Samples.git\n",
      "repo_name TheImagingSource_____Linux-tiscamera-Programming-Samples\n",
      "git clone https://github.com/TheImagingSource/Linux-tiscamera-Programming-Samples.git /home/nahid/dataset/clones/TheImagingSource_____Linux-tiscamera-Programming-Samples \n"
     ]
    },
    {
     "name": "stderr",
     "output_type": "stream",
     "text": [
      "Cloning into '/home/nahid/dataset/clones/TheImagingSource_____Linux-tiscamera-Programming-Samples'...\n"
     ]
    },
    {
     "name": "stdout",
     "output_type": "stream",
     "text": [
      "Make DONE\n",
      "https://github.com/forestLoop/Learning-EI338.git\n",
      "repo_name forestLoop_____Learning-EI338\n",
      "git clone https://github.com/forestLoop/Learning-EI338.git /home/nahid/dataset/clones/forestLoop_____Learning-EI338 \n"
     ]
    },
    {
     "name": "stderr",
     "output_type": "stream",
     "text": [
      "Cloning into '/home/nahid/dataset/clones/forestLoop_____Learning-EI338'...\n"
     ]
    },
    {
     "name": "stdout",
     "output_type": "stream",
     "text": [
      "Make DONE\n",
      "https://github.com/TAMATAMAzz/c-programming.git\n",
      "repo_name TAMATAMAzz_____c-programming\n",
      "git clone https://github.com/TAMATAMAzz/c-programming.git /home/nahid/dataset/clones/TAMATAMAzz_____c-programming \n"
     ]
    },
    {
     "name": "stderr",
     "output_type": "stream",
     "text": [
      "Cloning into '/home/nahid/dataset/clones/TAMATAMAzz_____c-programming'...\n"
     ]
    },
    {
     "name": "stdout",
     "output_type": "stream",
     "text": [
      "Make DONE\n",
      "https://github.com/Lizodhiambo/holbertonschool-low_level_programming.git\n",
      "repo_name Lizodhiambo_____holbertonschool-low_level_programming\n",
      "git clone https://github.com/Lizodhiambo/holbertonschool-low_level_programming.git /home/nahid/dataset/clones/Lizodhiambo_____holbertonschool-low_level_programming \n"
     ]
    },
    {
     "name": "stderr",
     "output_type": "stream",
     "text": [
      "Cloning into '/home/nahid/dataset/clones/Lizodhiambo_____holbertonschool-low_level_programming'...\n"
     ]
    },
    {
     "name": "stdout",
     "output_type": "stream",
     "text": [
      "Make DONE\n",
      "https://github.com/Theemiss/holbertonschool-low_level_programming.git\n",
      "repo_name Theemiss_____holbertonschool-low_level_programming\n",
      "git clone https://github.com/Theemiss/holbertonschool-low_level_programming.git /home/nahid/dataset/clones/Theemiss_____holbertonschool-low_level_programming \n"
     ]
    },
    {
     "name": "stderr",
     "output_type": "stream",
     "text": [
      "Cloning into '/home/nahid/dataset/clones/Theemiss_____holbertonschool-low_level_programming'...\n"
     ]
    },
    {
     "name": "stdout",
     "output_type": "stream",
     "text": [
      "Make DONE\n",
      "https://github.com/HenrikSamuelsson/Programming-in-C.git\n",
      "repo_name HenrikSamuelsson_____Programming-in-C\n",
      "git clone https://github.com/HenrikSamuelsson/Programming-in-C.git /home/nahid/dataset/clones/HenrikSamuelsson_____Programming-in-C \n"
     ]
    },
    {
     "name": "stderr",
     "output_type": "stream",
     "text": [
      "Cloning into '/home/nahid/dataset/clones/HenrikSamuelsson_____Programming-in-C'...\n"
     ]
    },
    {
     "name": "stdout",
     "output_type": "stream",
     "text": [
      "Make DONE\n",
      "https://github.com/mahdizaabi/holbertonschool-low_level_programming.git\n",
      "repo_name mahdizaabi_____holbertonschool-low_level_programming\n",
      "git clone https://github.com/mahdizaabi/holbertonschool-low_level_programming.git /home/nahid/dataset/clones/mahdizaabi_____holbertonschool-low_level_programming \n"
     ]
    },
    {
     "name": "stderr",
     "output_type": "stream",
     "text": [
      "Cloning into '/home/nahid/dataset/clones/mahdizaabi_____holbertonschool-low_level_programming'...\n"
     ]
    },
    {
     "name": "stdout",
     "output_type": "stream",
     "text": [
      "Make DONE\n",
      "https://github.com/przemyslawzaworski/CPP-Programming.git\n",
      "repo_name przemyslawzaworski_____CPP-Programming\n",
      "git clone https://github.com/przemyslawzaworski/CPP-Programming.git /home/nahid/dataset/clones/przemyslawzaworski_____CPP-Programming \n"
     ]
    },
    {
     "name": "stderr",
     "output_type": "stream",
     "text": [
      "Cloning into '/home/nahid/dataset/clones/przemyslawzaworski_____CPP-Programming'...\n"
     ]
    },
    {
     "name": "stdout",
     "output_type": "stream",
     "text": [
      "Make DONE\n",
      "https://github.com/flindt/c_shared_eal.git\n",
      "repo_name flindt_____c_shared_eal\n",
      "git clone https://github.com/flindt/c_shared_eal.git /home/nahid/dataset/clones/flindt_____c_shared_eal \n"
     ]
    },
    {
     "name": "stderr",
     "output_type": "stream",
     "text": [
      "Cloning into '/home/nahid/dataset/clones/flindt_____c_shared_eal'...\n"
     ]
    },
    {
     "name": "stdout",
     "output_type": "stream",
     "text": [
      "Make DONE\n",
      "https://github.com/nickssilver/alx-low_level_programming.git\n",
      "repo_name nickssilver_____alx-low_level_programming\n",
      "git clone https://github.com/nickssilver/alx-low_level_programming.git /home/nahid/dataset/clones/nickssilver_____alx-low_level_programming \n"
     ]
    },
    {
     "name": "stderr",
     "output_type": "stream",
     "text": [
      "Cloning into '/home/nahid/dataset/clones/nickssilver_____alx-low_level_programming'...\n"
     ]
    },
    {
     "name": "stdout",
     "output_type": "stream",
     "text": [
      "Make DONE\n",
      "https://github.com/timofurrer/WOL.git\n",
      "repo_name timofurrer_____WOL\n",
      "git clone https://github.com/timofurrer/WOL.git /home/nahid/dataset/clones/timofurrer_____WOL \n"
     ]
    },
    {
     "name": "stderr",
     "output_type": "stream",
     "text": [
      "Cloning into '/home/nahid/dataset/clones/timofurrer_____WOL'...\n"
     ]
    },
    {
     "name": "stdout",
     "output_type": "stream",
     "text": [
      "Make DONE\n",
      "https://github.com/Aysuarex/alx-low_level_programming.git\n",
      "repo_name Aysuarex_____alx-low_level_programming\n",
      "git clone https://github.com/Aysuarex/alx-low_level_programming.git /home/nahid/dataset/clones/Aysuarex_____alx-low_level_programming \n"
     ]
    },
    {
     "name": "stderr",
     "output_type": "stream",
     "text": [
      "Cloning into '/home/nahid/dataset/clones/Aysuarex_____alx-low_level_programming'...\n"
     ]
    },
    {
     "name": "stdout",
     "output_type": "stream",
     "text": [
      "Make DONE\n",
      "https://github.com/vmprof/vmprof-python.git\n",
      "repo_name vmprof_____vmprof-python\n",
      "git clone https://github.com/vmprof/vmprof-python.git /home/nahid/dataset/clones/vmprof_____vmprof-python \n"
     ]
    },
    {
     "name": "stderr",
     "output_type": "stream",
     "text": [
      "Cloning into '/home/nahid/dataset/clones/vmprof_____vmprof-python'...\n"
     ]
    },
    {
     "name": "stdout",
     "output_type": "stream",
     "text": [
      "Make DONE\n",
      "https://github.com/ptdecker/cbasics.git\n",
      "repo_name ptdecker_____cbasics\n",
      "git clone https://github.com/ptdecker/cbasics.git /home/nahid/dataset/clones/ptdecker_____cbasics \n"
     ]
    },
    {
     "name": "stderr",
     "output_type": "stream",
     "text": [
      "Cloning into '/home/nahid/dataset/clones/ptdecker_____cbasics'...\n"
     ]
    },
    {
     "name": "stdout",
     "output_type": "stream",
     "text": [
      "Make DONE\n",
      "https://github.com/iamrahulroy11/C-programming.git\n",
      "repo_name iamrahulroy11_____C-programming\n",
      "git clone https://github.com/iamrahulroy11/C-programming.git /home/nahid/dataset/clones/iamrahulroy11_____C-programming \n"
     ]
    },
    {
     "name": "stderr",
     "output_type": "stream",
     "text": [
      "Cloning into '/home/nahid/dataset/clones/iamrahulroy11_____C-programming'...\n"
     ]
    },
    {
     "name": "stdout",
     "output_type": "stream",
     "text": [
      "Make DONE\n",
      "https://github.com/andrestc/linux-prog.git\n",
      "repo_name andrestc_____linux-prog\n",
      "git clone https://github.com/andrestc/linux-prog.git /home/nahid/dataset/clones/andrestc_____linux-prog \n"
     ]
    },
    {
     "name": "stderr",
     "output_type": "stream",
     "text": [
      "Cloning into '/home/nahid/dataset/clones/andrestc_____linux-prog'...\n"
     ]
    },
    {
     "name": "stdout",
     "output_type": "stream",
     "text": [
      "Make DONE\n",
      "https://github.com/gszauer/GameAnimationProgramming.git\n",
      "repo_name gszauer_____GameAnimationProgramming\n",
      "git clone https://github.com/gszauer/GameAnimationProgramming.git /home/nahid/dataset/clones/gszauer_____GameAnimationProgramming \n"
     ]
    },
    {
     "name": "stderr",
     "output_type": "stream",
     "text": [
      "Cloning into '/home/nahid/dataset/clones/gszauer_____GameAnimationProgramming'...\n"
     ]
    },
    {
     "name": "stdout",
     "output_type": "stream",
     "text": [
      "Make DONE\n",
      "https://github.com/fsaadatmand/Programming-in-C.git\n",
      "repo_name fsaadatmand_____Programming-in-C\n",
      "git clone https://github.com/fsaadatmand/Programming-in-C.git /home/nahid/dataset/clones/fsaadatmand_____Programming-in-C \n"
     ]
    },
    {
     "name": "stderr",
     "output_type": "stream",
     "text": [
      "Cloning into '/home/nahid/dataset/clones/fsaadatmand_____Programming-in-C'...\n"
     ]
    },
    {
     "name": "stdout",
     "output_type": "stream",
     "text": [
      "Make DONE\n",
      "https://github.com/Graey/c-future.git\n",
      "repo_name Graey_____c-future\n",
      "git clone https://github.com/Graey/c-future.git /home/nahid/dataset/clones/Graey_____c-future \n"
     ]
    },
    {
     "name": "stderr",
     "output_type": "stream",
     "text": [
      "Cloning into '/home/nahid/dataset/clones/Graey_____c-future'...\n"
     ]
    },
    {
     "name": "stdout",
     "output_type": "stream",
     "text": [
      "Make DONE\n",
      "https://github.com/NwabuezeFranklin/alx-low_level_programming.git\n",
      "repo_name NwabuezeFranklin_____alx-low_level_programming\n",
      "git clone https://github.com/NwabuezeFranklin/alx-low_level_programming.git /home/nahid/dataset/clones/NwabuezeFranklin_____alx-low_level_programming \n"
     ]
    },
    {
     "name": "stderr",
     "output_type": "stream",
     "text": [
      "Cloning into '/home/nahid/dataset/clones/NwabuezeFranklin_____alx-low_level_programming'...\n"
     ]
    },
    {
     "name": "stdout",
     "output_type": "stream",
     "text": [
      "Make DONE\n",
      "https://github.com/janbodnar/Windows-API-examples.git\n",
      "repo_name janbodnar_____Windows-API-examples\n",
      "git clone https://github.com/janbodnar/Windows-API-examples.git /home/nahid/dataset/clones/janbodnar_____Windows-API-examples \n"
     ]
    },
    {
     "name": "stderr",
     "output_type": "stream",
     "text": [
      "Cloning into '/home/nahid/dataset/clones/janbodnar_____Windows-API-examples'...\n"
     ]
    },
    {
     "name": "stdout",
     "output_type": "stream",
     "text": [
      "Make DONE\n",
      "https://github.com/PacktPublishing/Learn-C-Programming-Second-Edition.git\n",
      "repo_name PacktPublishing_____Learn-C-Programming-Second-Edition\n",
      "git clone https://github.com/PacktPublishing/Learn-C-Programming-Second-Edition.git /home/nahid/dataset/clones/PacktPublishing_____Learn-C-Programming-Second-Edition \n"
     ]
    },
    {
     "name": "stderr",
     "output_type": "stream",
     "text": [
      "Cloning into '/home/nahid/dataset/clones/PacktPublishing_____Learn-C-Programming-Second-Edition'...\n"
     ]
    },
    {
     "name": "stdout",
     "output_type": "stream",
     "text": [
      "Make DONE\n",
      "https://github.com/strikersps/Competitive-Programming.git\n",
      "repo_name strikersps_____Competitive-Programming\n",
      "git clone https://github.com/strikersps/Competitive-Programming.git /home/nahid/dataset/clones/strikersps_____Competitive-Programming \n"
     ]
    },
    {
     "name": "stderr",
     "output_type": "stream",
     "text": [
      "Cloning into '/home/nahid/dataset/clones/strikersps_____Competitive-Programming'...\n"
     ]
    },
    {
     "name": "stdout",
     "output_type": "stream",
     "text": [
      "Make DONE\n",
      "https://github.com/fpetras/c-exam-alone-in-the-dark.git\n",
      "repo_name fpetras_____c-exam-alone-in-the-dark\n",
      "git clone https://github.com/fpetras/c-exam-alone-in-the-dark.git /home/nahid/dataset/clones/fpetras_____c-exam-alone-in-the-dark \n"
     ]
    },
    {
     "name": "stderr",
     "output_type": "stream",
     "text": [
      "Cloning into '/home/nahid/dataset/clones/fpetras_____c-exam-alone-in-the-dark'...\n"
     ]
    },
    {
     "name": "stdout",
     "output_type": "stream",
     "text": [
      "Make DONE\n",
      "https://github.com/aysi143/alx-low_level_programming.git\n",
      "repo_name aysi143_____alx-low_level_programming\n",
      "git clone https://github.com/aysi143/alx-low_level_programming.git /home/nahid/dataset/clones/aysi143_____alx-low_level_programming \n"
     ]
    },
    {
     "name": "stderr",
     "output_type": "stream",
     "text": [
      "Cloning into '/home/nahid/dataset/clones/aysi143_____alx-low_level_programming'...\n"
     ]
    },
    {
     "name": "stdout",
     "output_type": "stream",
     "text": [
      "Make DONE\n",
      "https://github.com/tendoasan/ProgrammingInC.git\n",
      "repo_name tendoasan_____ProgrammingInC\n",
      "git clone https://github.com/tendoasan/ProgrammingInC.git /home/nahid/dataset/clones/tendoasan_____ProgrammingInC \n"
     ]
    },
    {
     "name": "stderr",
     "output_type": "stream",
     "text": [
      "Cloning into '/home/nahid/dataset/clones/tendoasan_____ProgrammingInC'...\n"
     ]
    },
    {
     "name": "stdout",
     "output_type": "stream",
     "text": [
      "Make DONE\n",
      "https://github.com/mblair/roberts_abstractions.git\n",
      "repo_name mblair_____roberts_abstractions\n",
      "git clone https://github.com/mblair/roberts_abstractions.git /home/nahid/dataset/clones/mblair_____roberts_abstractions \n"
     ]
    },
    {
     "name": "stderr",
     "output_type": "stream",
     "text": [
      "Cloning into '/home/nahid/dataset/clones/mblair_____roberts_abstractions'...\n"
     ]
    },
    {
     "name": "stdout",
     "output_type": "stream",
     "text": [
      "Make DONE\n",
      "https://github.com/maxi-musz/alx-low_level_programming.git\n",
      "repo_name maxi-musz_____alx-low_level_programming\n",
      "git clone https://github.com/maxi-musz/alx-low_level_programming.git /home/nahid/dataset/clones/maxi-musz_____alx-low_level_programming \n"
     ]
    },
    {
     "name": "stderr",
     "output_type": "stream",
     "text": [
      "Cloning into '/home/nahid/dataset/clones/maxi-musz_____alx-low_level_programming'...\n"
     ]
    },
    {
     "name": "stdout",
     "output_type": "stream",
     "text": [
      "Make DONE\n",
      "https://github.com/rauhul/cs241.git\n",
      "repo_name rauhul_____cs241\n",
      "git clone https://github.com/rauhul/cs241.git /home/nahid/dataset/clones/rauhul_____cs241 \n"
     ]
    },
    {
     "name": "stderr",
     "output_type": "stream",
     "text": [
      "Cloning into '/home/nahid/dataset/clones/rauhul_____cs241'...\n"
     ]
    },
    {
     "name": "stdout",
     "output_type": "stream",
     "text": [
      "Make DONE\n",
      "https://github.com/MadhavBahl/OOPS.git\n",
      "repo_name MadhavBahl_____OOPS\n",
      "git clone https://github.com/MadhavBahl/OOPS.git /home/nahid/dataset/clones/MadhavBahl_____OOPS \n"
     ]
    },
    {
     "name": "stderr",
     "output_type": "stream",
     "text": [
      "Cloning into '/home/nahid/dataset/clones/MadhavBahl_____OOPS'...\n"
     ]
    },
    {
     "name": "stdout",
     "output_type": "stream",
     "text": [
      "Make DONE\n",
      "https://github.com/psounis/C-programming.git\n",
      "repo_name psounis_____C-programming\n",
      "git clone https://github.com/psounis/C-programming.git /home/nahid/dataset/clones/psounis_____C-programming \n"
     ]
    },
    {
     "name": "stderr",
     "output_type": "stream",
     "text": [
      "Cloning into '/home/nahid/dataset/clones/psounis_____C-programming'...\n"
     ]
    },
    {
     "name": "stdout",
     "output_type": "stream",
     "text": [
      "Make DONE\n",
      "https://github.com/tj/mon.git\n",
      "repo_name tj_____mon\n",
      "git clone https://github.com/tj/mon.git /home/nahid/dataset/clones/tj_____mon \n"
     ]
    },
    {
     "name": "stderr",
     "output_type": "stream",
     "text": [
      "Cloning into '/home/nahid/dataset/clones/tj_____mon'...\n"
     ]
    },
    {
     "name": "stdout",
     "output_type": "stream",
     "text": [
      "Make DONE\n",
      "https://github.com/ajn123/C_Tutorial.git\n",
      "repo_name ajn123_____C_Tutorial\n",
      "git clone https://github.com/ajn123/C_Tutorial.git /home/nahid/dataset/clones/ajn123_____C_Tutorial \n"
     ]
    },
    {
     "name": "stderr",
     "output_type": "stream",
     "text": [
      "Cloning into '/home/nahid/dataset/clones/ajn123_____C_Tutorial'...\n"
     ]
    },
    {
     "name": "stdout",
     "output_type": "stream",
     "text": [
      "Make DONE\n",
      "https://github.com/ITClubPulchowk/C-Programming-Guide.git\n",
      "repo_name ITClubPulchowk_____C-Programming-Guide\n",
      "git clone https://github.com/ITClubPulchowk/C-Programming-Guide.git /home/nahid/dataset/clones/ITClubPulchowk_____C-Programming-Guide \n"
     ]
    },
    {
     "name": "stderr",
     "output_type": "stream",
     "text": [
      "Cloning into '/home/nahid/dataset/clones/ITClubPulchowk_____C-Programming-Guide'...\n"
     ]
    },
    {
     "name": "stdout",
     "output_type": "stream",
     "text": [
      "Make DONE\n",
      "https://github.com/jondgoodwin/cone.git\n",
      "repo_name jondgoodwin_____cone\n",
      "git clone https://github.com/jondgoodwin/cone.git /home/nahid/dataset/clones/jondgoodwin_____cone \n"
     ]
    },
    {
     "name": "stderr",
     "output_type": "stream",
     "text": [
      "Cloning into '/home/nahid/dataset/clones/jondgoodwin_____cone'...\n"
     ]
    },
    {
     "name": "stdout",
     "output_type": "stream",
     "text": [
      "Make DONE\n",
      "https://github.com/anotherlin/tcpl.git\n",
      "repo_name anotherlin_____tcpl\n",
      "git clone https://github.com/anotherlin/tcpl.git /home/nahid/dataset/clones/anotherlin_____tcpl \n"
     ]
    },
    {
     "name": "stderr",
     "output_type": "stream",
     "text": [
      "Cloning into '/home/nahid/dataset/clones/anotherlin_____tcpl'...\n"
     ]
    },
    {
     "name": "stdout",
     "output_type": "stream",
     "text": [
      "Make DONE\n",
      "https://github.com/nixawk/hello-c.git\n",
      "repo_name nixawk_____hello-c\n",
      "git clone https://github.com/nixawk/hello-c.git /home/nahid/dataset/clones/nixawk_____hello-c \n"
     ]
    },
    {
     "name": "stderr",
     "output_type": "stream",
     "text": [
      "Cloning into '/home/nahid/dataset/clones/nixawk_____hello-c'...\n"
     ]
    },
    {
     "name": "stdout",
     "output_type": "stream",
     "text": [
      "Make DONE\n",
      "https://github.com/yottaawesome/programming-windows-5th-edition.git\n",
      "repo_name yottaawesome_____programming-windows-5th-edition\n",
      "git clone https://github.com/yottaawesome/programming-windows-5th-edition.git /home/nahid/dataset/clones/yottaawesome_____programming-windows-5th-edition \n"
     ]
    },
    {
     "name": "stderr",
     "output_type": "stream",
     "text": [
      "Cloning into '/home/nahid/dataset/clones/yottaawesome_____programming-windows-5th-edition'...\n"
     ]
    },
    {
     "name": "stdout",
     "output_type": "stream",
     "text": [
      "Make DONE\n",
      "https://github.com/r-lyeh/stddoc.c.git\n",
      "repo_name r-lyeh_____stddoc.c\n",
      "git clone https://github.com/r-lyeh/stddoc.c.git /home/nahid/dataset/clones/r-lyeh_____stddoc.c \n"
     ]
    },
    {
     "name": "stderr",
     "output_type": "stream",
     "text": [
      "Cloning into '/home/nahid/dataset/clones/r-lyeh_____stddoc.c'...\n"
     ]
    },
    {
     "name": "stdout",
     "output_type": "stream",
     "text": [
      "Make DONE\n",
      "https://github.com/c4ev3/EV3-API.git\n",
      "repo_name c4ev3_____EV3-API\n",
      "git clone https://github.com/c4ev3/EV3-API.git /home/nahid/dataset/clones/c4ev3_____EV3-API \n"
     ]
    },
    {
     "name": "stderr",
     "output_type": "stream",
     "text": [
      "Cloning into '/home/nahid/dataset/clones/c4ev3_____EV3-API'...\n"
     ]
    },
    {
     "name": "stdout",
     "output_type": "stream",
     "text": [
      "Make DONE\n",
      "https://github.com/tanyagupta0201/DS-And-Algo.git\n",
      "repo_name tanyagupta0201_____DS-And-Algo\n",
      "git clone https://github.com/tanyagupta0201/DS-And-Algo.git /home/nahid/dataset/clones/tanyagupta0201_____DS-And-Algo \n"
     ]
    },
    {
     "name": "stderr",
     "output_type": "stream",
     "text": [
      "Cloning into '/home/nahid/dataset/clones/tanyagupta0201_____DS-And-Algo'...\n"
     ]
    },
    {
     "name": "stdout",
     "output_type": "stream",
     "text": [
      "Make DONE\n",
      "https://github.com/rifotu/Serial-Port-Programming-on-Linux.git\n",
      "repo_name rifotu_____Serial-Port-Programming-on-Linux\n",
      "git clone https://github.com/rifotu/Serial-Port-Programming-on-Linux.git /home/nahid/dataset/clones/rifotu_____Serial-Port-Programming-on-Linux \n"
     ]
    },
    {
     "name": "stderr",
     "output_type": "stream",
     "text": [
      "Cloning into '/home/nahid/dataset/clones/rifotu_____Serial-Port-Programming-on-Linux'...\n"
     ]
    },
    {
     "name": "stdout",
     "output_type": "stream",
     "text": [
      "Make DONE\n",
      "https://github.com/Bharathgopal/M1_Teaching_Util.git\n",
      "repo_name Bharathgopal_____M1_Teaching_Util\n",
      "git clone https://github.com/Bharathgopal/M1_Teaching_Util.git /home/nahid/dataset/clones/Bharathgopal_____M1_Teaching_Util \n"
     ]
    },
    {
     "name": "stderr",
     "output_type": "stream",
     "text": [
      "Cloning into '/home/nahid/dataset/clones/Bharathgopal_____M1_Teaching_Util'...\n"
     ]
    },
    {
     "name": "stdout",
     "output_type": "stream",
     "text": [
      "Make DONE\n",
      "https://github.com/singhofen/c-programming.git\n",
      "repo_name singhofen_____c-programming\n",
      "git clone https://github.com/singhofen/c-programming.git /home/nahid/dataset/clones/singhofen_____c-programming \n"
     ]
    },
    {
     "name": "stderr",
     "output_type": "stream",
     "text": [
      "Cloning into '/home/nahid/dataset/clones/singhofen_____c-programming'...\n"
     ]
    },
    {
     "name": "stdout",
     "output_type": "stream",
     "text": [
      "Make DONE\n",
      "https://github.com/auwsmit/cpama2.git\n",
      "repo_name auwsmit_____cpama2\n",
      "git clone https://github.com/auwsmit/cpama2.git /home/nahid/dataset/clones/auwsmit_____cpama2 \n"
     ]
    },
    {
     "name": "stderr",
     "output_type": "stream",
     "text": [
      "Cloning into '/home/nahid/dataset/clones/auwsmit_____cpama2'...\n"
     ]
    },
    {
     "name": "stdout",
     "output_type": "stream",
     "text": [
      "Make DONE\n",
      "https://github.com/smbriones/c-how-to-program.git\n",
      "repo_name smbriones_____c-how-to-program\n",
      "git clone https://github.com/smbriones/c-how-to-program.git /home/nahid/dataset/clones/smbriones_____c-how-to-program \n"
     ]
    },
    {
     "name": "stderr",
     "output_type": "stream",
     "text": [
      "Cloning into '/home/nahid/dataset/clones/smbriones_____c-how-to-program'...\n"
     ]
    },
    {
     "name": "stdout",
     "output_type": "stream",
     "text": [
      "Make DONE\n",
      "https://github.com/najm09/DataStructure.git\n",
      "repo_name najm09_____DataStructure\n",
      "git clone https://github.com/najm09/DataStructure.git /home/nahid/dataset/clones/najm09_____DataStructure \n"
     ]
    },
    {
     "name": "stderr",
     "output_type": "stream",
     "text": [
      "Cloning into '/home/nahid/dataset/clones/najm09_____DataStructure'...\n"
     ]
    },
    {
     "name": "stdout",
     "output_type": "stream",
     "text": [
      "Make DONE\n",
      "https://github.com/mremtf/OSF15_Exercise1.git\n",
      "repo_name mremtf_____OSF15_Exercise1\n",
      "git clone https://github.com/mremtf/OSF15_Exercise1.git /home/nahid/dataset/clones/mremtf_____OSF15_Exercise1 \n"
     ]
    },
    {
     "name": "stderr",
     "output_type": "stream",
     "text": [
      "Cloning into '/home/nahid/dataset/clones/mremtf_____OSF15_Exercise1'...\n"
     ]
    },
    {
     "name": "stdout",
     "output_type": "stream",
     "text": [
      "Make DONE\n",
      "https://github.com/wolkykim/qdecoder.git\n",
      "repo_name wolkykim_____qdecoder\n",
      "git clone https://github.com/wolkykim/qdecoder.git /home/nahid/dataset/clones/wolkykim_____qdecoder \n"
     ]
    },
    {
     "name": "stderr",
     "output_type": "stream",
     "text": [
      "Cloning into '/home/nahid/dataset/clones/wolkykim_____qdecoder'...\n"
     ]
    },
    {
     "name": "stdout",
     "output_type": "stream",
     "text": [
      "Make DONE\n",
      "https://github.com/AndrewLaing/CHowToProgramExercises.git\n",
      "repo_name AndrewLaing_____CHowToProgramExercises\n",
      "git clone https://github.com/AndrewLaing/CHowToProgramExercises.git /home/nahid/dataset/clones/AndrewLaing_____CHowToProgramExercises \n"
     ]
    },
    {
     "name": "stderr",
     "output_type": "stream",
     "text": [
      "Cloning into '/home/nahid/dataset/clones/AndrewLaing_____CHowToProgramExercises'...\n"
     ]
    },
    {
     "name": "stdout",
     "output_type": "stream",
     "text": [
      "Make DONE\n",
      "https://github.com/dictu-lang/Dictu.git\n",
      "repo_name dictu-lang_____Dictu\n",
      "git clone https://github.com/dictu-lang/Dictu.git /home/nahid/dataset/clones/dictu-lang_____Dictu \n"
     ]
    },
    {
     "name": "stderr",
     "output_type": "stream",
     "text": [
      "Cloning into '/home/nahid/dataset/clones/dictu-lang_____Dictu'...\n"
     ]
    },
    {
     "name": "stdout",
     "output_type": "stream",
     "text": [
      "Make DONE\n",
      "https://github.com/bloominstituteoftechnology/Applied-C-Programming.git\n",
      "repo_name bloominstituteoftechnology_____Applied-C-Programming\n",
      "git clone https://github.com/bloominstituteoftechnology/Applied-C-Programming.git /home/nahid/dataset/clones/bloominstituteoftechnology_____Applied-C-Programming \n"
     ]
    },
    {
     "name": "stderr",
     "output_type": "stream",
     "text": [
      "Cloning into '/home/nahid/dataset/clones/bloominstituteoftechnology_____Applied-C-Programming'...\n"
     ]
    },
    {
     "name": "stdout",
     "output_type": "stream",
     "text": [
      "Make DONE\n",
      "https://github.com/ogarteetotal/alx-low_level_programming.git\n",
      "repo_name ogarteetotal_____alx-low_level_programming\n",
      "git clone https://github.com/ogarteetotal/alx-low_level_programming.git /home/nahid/dataset/clones/ogarteetotal_____alx-low_level_programming \n"
     ]
    },
    {
     "name": "stderr",
     "output_type": "stream",
     "text": [
      "Cloning into '/home/nahid/dataset/clones/ogarteetotal_____alx-low_level_programming'...\n"
     ]
    },
    {
     "name": "stdout",
     "output_type": "stream",
     "text": [
      "Make DONE\n",
      "https://github.com/rrmhearts/Serial-Programming-Win32API-C.git\n",
      "repo_name rrmhearts_____Serial-Programming-Win32API-C\n",
      "git clone https://github.com/rrmhearts/Serial-Programming-Win32API-C.git /home/nahid/dataset/clones/rrmhearts_____Serial-Programming-Win32API-C \n"
     ]
    },
    {
     "name": "stderr",
     "output_type": "stream",
     "text": [
      "Cloning into '/home/nahid/dataset/clones/rrmhearts_____Serial-Programming-Win32API-C'...\n"
     ]
    },
    {
     "name": "stdout",
     "output_type": "stream",
     "text": [
      "Make DONE\n",
      "https://github.com/iamsidofficial/c-programs-for-college-students.git\n",
      "repo_name iamsidofficial_____c-programs-for-college-students\n",
      "git clone https://github.com/iamsidofficial/c-programs-for-college-students.git /home/nahid/dataset/clones/iamsidofficial_____c-programs-for-college-students \n"
     ]
    },
    {
     "name": "stderr",
     "output_type": "stream",
     "text": [
      "Cloning into '/home/nahid/dataset/clones/iamsidofficial_____c-programs-for-college-students'...\n"
     ]
    },
    {
     "name": "stdout",
     "output_type": "stream",
     "text": [
      "Make DONE\n",
      "https://github.com/imsure/parallel-programming.git\n",
      "repo_name imsure_____parallel-programming\n",
      "git clone https://github.com/imsure/parallel-programming.git /home/nahid/dataset/clones/imsure_____parallel-programming \n"
     ]
    },
    {
     "name": "stderr",
     "output_type": "stream",
     "text": [
      "Cloning into '/home/nahid/dataset/clones/imsure_____parallel-programming'...\n"
     ]
    },
    {
     "name": "stdout",
     "output_type": "stream",
     "text": [
      "Make DONE\n",
      "https://github.com/hcheung01/low_level_programming.git\n",
      "repo_name hcheung01_____low_level_programming\n",
      "git clone https://github.com/hcheung01/low_level_programming.git /home/nahid/dataset/clones/hcheung01_____low_level_programming \n"
     ]
    },
    {
     "name": "stderr",
     "output_type": "stream",
     "text": [
      "Cloning into '/home/nahid/dataset/clones/hcheung01_____low_level_programming'...\n"
     ]
    },
    {
     "name": "stdout",
     "output_type": "stream",
     "text": [
      "Make DONE\n",
      "https://github.com/cirosantilli/cpp-cheat.git\n",
      "repo_name cirosantilli_____cpp-cheat\n",
      "git clone https://github.com/cirosantilli/cpp-cheat.git /home/nahid/dataset/clones/cirosantilli_____cpp-cheat \n"
     ]
    },
    {
     "name": "stderr",
     "output_type": "stream",
     "text": [
      "Cloning into '/home/nahid/dataset/clones/cirosantilli_____cpp-cheat'...\n"
     ]
    },
    {
     "name": "stdout",
     "output_type": "stream",
     "text": [
      "Make DONE\n",
      "https://github.com/examplehub/C.git\n",
      "repo_name examplehub_____C\n",
      "git clone https://github.com/examplehub/C.git /home/nahid/dataset/clones/examplehub_____C \n"
     ]
    },
    {
     "name": "stderr",
     "output_type": "stream",
     "text": [
      "Cloning into '/home/nahid/dataset/clones/examplehub_____C'...\n"
     ]
    },
    {
     "name": "stdout",
     "output_type": "stream",
     "text": [
      "Make DONE\n",
      "https://github.com/Alouie412/holbertonschool-low_level_programming.git\n",
      "repo_name Alouie412_____holbertonschool-low_level_programming\n",
      "git clone https://github.com/Alouie412/holbertonschool-low_level_programming.git /home/nahid/dataset/clones/Alouie412_____holbertonschool-low_level_programming \n"
     ]
    },
    {
     "name": "stderr",
     "output_type": "stream",
     "text": [
      "Cloning into '/home/nahid/dataset/clones/Alouie412_____holbertonschool-low_level_programming'...\n"
     ]
    },
    {
     "name": "stdout",
     "output_type": "stream",
     "text": [
      "Make DONE\n",
      "https://github.com/Captain4LK/SoftLK-tools.git\n",
      "repo_name Captain4LK_____SoftLK-tools\n",
      "git clone https://github.com/Captain4LK/SoftLK-tools.git /home/nahid/dataset/clones/Captain4LK_____SoftLK-tools \n"
     ]
    },
    {
     "name": "stderr",
     "output_type": "stream",
     "text": [
      "Cloning into '/home/nahid/dataset/clones/Captain4LK_____SoftLK-tools'...\n"
     ]
    },
    {
     "name": "stdout",
     "output_type": "stream",
     "text": [
      "Make DONE\n",
      "https://github.com/yifanzhu1592/C-Primer-Plus-Programming-Exercises-And-Answers.git\n",
      "repo_name yifanzhu1592_____C-Primer-Plus-Programming-Exercises-And-Answers\n",
      "git clone https://github.com/yifanzhu1592/C-Primer-Plus-Programming-Exercises-And-Answers.git /home/nahid/dataset/clones/yifanzhu1592_____C-Primer-Plus-Programming-Exercises-And-Answers \n"
     ]
    },
    {
     "name": "stderr",
     "output_type": "stream",
     "text": [
      "Cloning into '/home/nahid/dataset/clones/yifanzhu1592_____C-Primer-Plus-Programming-Exercises-And-Answers'...\n"
     ]
    },
    {
     "name": "stdout",
     "output_type": "stream",
     "text": [
      "Make DONE\n",
      "https://github.com/AllAboutEE/ARM-Programming-Examples-TM4C.git\n",
      "repo_name AllAboutEE_____ARM-Programming-Examples-TM4C\n",
      "git clone https://github.com/AllAboutEE/ARM-Programming-Examples-TM4C.git /home/nahid/dataset/clones/AllAboutEE_____ARM-Programming-Examples-TM4C \n"
     ]
    },
    {
     "name": "stderr",
     "output_type": "stream",
     "text": [
      "Cloning into '/home/nahid/dataset/clones/AllAboutEE_____ARM-Programming-Examples-TM4C'...\n"
     ]
    },
    {
     "name": "stdout",
     "output_type": "stream",
     "text": [
      "Make DONE\n",
      "https://github.com/srikanthpragada/c_language.git\n",
      "repo_name srikanthpragada_____c_language\n",
      "git clone https://github.com/srikanthpragada/c_language.git /home/nahid/dataset/clones/srikanthpragada_____c_language \n"
     ]
    },
    {
     "name": "stderr",
     "output_type": "stream",
     "text": [
      "Cloning into '/home/nahid/dataset/clones/srikanthpragada_____c_language'...\n"
     ]
    },
    {
     "name": "stdout",
     "output_type": "stream",
     "text": [
      "Make DONE\n",
      "https://github.com/chaos-lang/chaos.git\n",
      "repo_name chaos-lang_____chaos\n",
      "git clone https://github.com/chaos-lang/chaos.git /home/nahid/dataset/clones/chaos-lang_____chaos \n"
     ]
    },
    {
     "name": "stderr",
     "output_type": "stream",
     "text": [
      "Cloning into '/home/nahid/dataset/clones/chaos-lang_____chaos'...\n"
     ]
    },
    {
     "name": "stdout",
     "output_type": "stream",
     "text": [
      "Make DONE\n",
      "https://github.com/davidinmichael/alx-low_level_programming.git\n",
      "repo_name davidinmichael_____alx-low_level_programming\n",
      "git clone https://github.com/davidinmichael/alx-low_level_programming.git /home/nahid/dataset/clones/davidinmichael_____alx-low_level_programming \n"
     ]
    },
    {
     "name": "stderr",
     "output_type": "stream",
     "text": [
      "Cloning into '/home/nahid/dataset/clones/davidinmichael_____alx-low_level_programming'...\n"
     ]
    },
    {
     "name": "stdout",
     "output_type": "stream",
     "text": [
      "Make DONE\n",
      "https://github.com/tpoindex/crobots.git\n",
      "repo_name tpoindex_____crobots\n",
      "git clone https://github.com/tpoindex/crobots.git /home/nahid/dataset/clones/tpoindex_____crobots \n"
     ]
    },
    {
     "name": "stderr",
     "output_type": "stream",
     "text": [
      "Cloning into '/home/nahid/dataset/clones/tpoindex_____crobots'...\n"
     ]
    },
    {
     "name": "stdout",
     "output_type": "stream",
     "text": [
      "Make DONE\n",
      "https://github.com/kietcoderscafe/c-sorting.git\n",
      "repo_name kietcoderscafe_____c-sorting\n",
      "git clone https://github.com/kietcoderscafe/c-sorting.git /home/nahid/dataset/clones/kietcoderscafe_____c-sorting \n"
     ]
    },
    {
     "name": "stderr",
     "output_type": "stream",
     "text": [
      "Cloning into '/home/nahid/dataset/clones/kietcoderscafe_____c-sorting'...\n"
     ]
    },
    {
     "name": "stdout",
     "output_type": "stream",
     "text": [
      "Make DONE\n",
      "https://github.com/daveho/EasySandbox.git\n",
      "repo_name daveho_____EasySandbox\n",
      "git clone https://github.com/daveho/EasySandbox.git /home/nahid/dataset/clones/daveho_____EasySandbox \n"
     ]
    },
    {
     "name": "stderr",
     "output_type": "stream",
     "text": [
      "Cloning into '/home/nahid/dataset/clones/daveho_____EasySandbox'...\n"
     ]
    },
    {
     "name": "stdout",
     "output_type": "stream",
     "text": [
      "Make DONE\n",
      "https://github.com/Mahiuha/alx-low_level_programming.git\n",
      "repo_name Mahiuha_____alx-low_level_programming\n",
      "git clone https://github.com/Mahiuha/alx-low_level_programming.git /home/nahid/dataset/clones/Mahiuha_____alx-low_level_programming \n"
     ]
    },
    {
     "name": "stderr",
     "output_type": "stream",
     "text": [
      "Cloning into '/home/nahid/dataset/clones/Mahiuha_____alx-low_level_programming'...\n"
     ]
    },
    {
     "name": "stdout",
     "output_type": "stream",
     "text": [
      "Make DONE\n",
      "https://github.com/lbraglia/chtp.git\n",
      "repo_name lbraglia_____chtp\n",
      "git clone https://github.com/lbraglia/chtp.git /home/nahid/dataset/clones/lbraglia_____chtp \n"
     ]
    },
    {
     "name": "stderr",
     "output_type": "stream",
     "text": [
      "Cloning into '/home/nahid/dataset/clones/lbraglia_____chtp'...\n"
     ]
    },
    {
     "name": "stdout",
     "output_type": "stream",
     "text": [
      "Make DONE\n",
      "https://github.com/RainMark/gtk3-tutorial.git\n",
      "repo_name RainMark_____gtk3-tutorial\n",
      "git clone https://github.com/RainMark/gtk3-tutorial.git /home/nahid/dataset/clones/RainMark_____gtk3-tutorial \n"
     ]
    },
    {
     "name": "stderr",
     "output_type": "stream",
     "text": [
      "Cloning into '/home/nahid/dataset/clones/RainMark_____gtk3-tutorial'...\n"
     ]
    },
    {
     "name": "stdout",
     "output_type": "stream",
     "text": [
      "Make DONE\n",
      "https://github.com/Joyounger/tcpl.git\n",
      "repo_name Joyounger_____tcpl\n",
      "git clone https://github.com/Joyounger/tcpl.git /home/nahid/dataset/clones/Joyounger_____tcpl \n"
     ]
    },
    {
     "name": "stderr",
     "output_type": "stream",
     "text": [
      "Cloning into '/home/nahid/dataset/clones/Joyounger_____tcpl'...\n"
     ]
    },
    {
     "name": "stdout",
     "output_type": "stream",
     "text": [
      "Make DONE\n",
      "https://github.com/HEGHELON/c_calculator.git\n",
      "repo_name HEGHELON_____c_calculator\n",
      "git clone https://github.com/HEGHELON/c_calculator.git /home/nahid/dataset/clones/HEGHELON_____c_calculator \n"
     ]
    },
    {
     "name": "stderr",
     "output_type": "stream",
     "text": [
      "Cloning into '/home/nahid/dataset/clones/HEGHELON_____c_calculator'...\n"
     ]
    },
    {
     "name": "stdout",
     "output_type": "stream",
     "text": [
      "Make DONE\n",
      "https://github.com/SunilPant1/C_Programs.git\n",
      "repo_name SunilPant1_____C_Programs\n",
      "git clone https://github.com/SunilPant1/C_Programs.git /home/nahid/dataset/clones/SunilPant1_____C_Programs \n"
     ]
    },
    {
     "name": "stderr",
     "output_type": "stream",
     "text": [
      "Cloning into '/home/nahid/dataset/clones/SunilPant1_____C_Programs'...\n"
     ]
    },
    {
     "name": "stdout",
     "output_type": "stream",
     "text": [
      "Make DONE\n",
      "https://github.com/theanhle/c-programming.git\n",
      "repo_name theanhle_____c-programming\n",
      "git clone https://github.com/theanhle/c-programming.git /home/nahid/dataset/clones/theanhle_____c-programming \n"
     ]
    },
    {
     "name": "stderr",
     "output_type": "stream",
     "text": [
      "Cloning into '/home/nahid/dataset/clones/theanhle_____c-programming'...\n"
     ]
    },
    {
     "name": "stdout",
     "output_type": "stream",
     "text": [
      "Make DONE\n",
      "https://github.com/Hunterhal/C-Programming-Examples.git\n",
      "repo_name Hunterhal_____C-Programming-Examples\n",
      "git clone https://github.com/Hunterhal/C-Programming-Examples.git /home/nahid/dataset/clones/Hunterhal_____C-Programming-Examples \n"
     ]
    },
    {
     "name": "stderr",
     "output_type": "stream",
     "text": [
      "Cloning into '/home/nahid/dataset/clones/Hunterhal_____C-Programming-Examples'...\n"
     ]
    },
    {
     "name": "stdout",
     "output_type": "stream",
     "text": [
      "Make DONE\n",
      "https://github.com/ShivamJoker/C-Programs-hindi.git\n",
      "repo_name ShivamJoker_____C-Programs-hindi\n",
      "git clone https://github.com/ShivamJoker/C-Programs-hindi.git /home/nahid/dataset/clones/ShivamJoker_____C-Programs-hindi \n"
     ]
    },
    {
     "name": "stderr",
     "output_type": "stream",
     "text": [
      "Cloning into '/home/nahid/dataset/clones/ShivamJoker_____C-Programs-hindi'...\n"
     ]
    },
    {
     "name": "stdout",
     "output_type": "stream",
     "text": [
      "Make DONE\n",
      "https://github.com/tarantool/sysprog.git\n",
      "repo_name tarantool_____sysprog\n",
      "git clone https://github.com/tarantool/sysprog.git /home/nahid/dataset/clones/tarantool_____sysprog \n"
     ]
    },
    {
     "name": "stderr",
     "output_type": "stream",
     "text": [
      "Cloning into '/home/nahid/dataset/clones/tarantool_____sysprog'...\n"
     ]
    },
    {
     "name": "stdout",
     "output_type": "stream",
     "text": [
      "Make DONE\n",
      "https://github.com/mmueller/clog.git\n",
      "repo_name mmueller_____clog\n",
      "git clone https://github.com/mmueller/clog.git /home/nahid/dataset/clones/mmueller_____clog \n"
     ]
    },
    {
     "name": "stderr",
     "output_type": "stream",
     "text": [
      "Cloning into '/home/nahid/dataset/clones/mmueller_____clog'...\n"
     ]
    },
    {
     "name": "stdout",
     "output_type": "stream",
     "text": [
      "Make DONE\n",
      "https://github.com/fan-wenjie/LeNet-5.git\n",
      "repo_name fan-wenjie_____LeNet-5\n",
      "git clone https://github.com/fan-wenjie/LeNet-5.git /home/nahid/dataset/clones/fan-wenjie_____LeNet-5 \n"
     ]
    },
    {
     "name": "stderr",
     "output_type": "stream",
     "text": [
      "Cloning into '/home/nahid/dataset/clones/fan-wenjie_____LeNet-5'...\n"
     ]
    },
    {
     "name": "stdout",
     "output_type": "stream",
     "text": [
      "Make DONE\n",
      "https://github.com/grisbi/grisbi.git\n",
      "repo_name grisbi_____grisbi\n",
      "git clone https://github.com/grisbi/grisbi.git /home/nahid/dataset/clones/grisbi_____grisbi \n"
     ]
    },
    {
     "name": "stderr",
     "output_type": "stream",
     "text": [
      "Cloning into '/home/nahid/dataset/clones/grisbi_____grisbi'...\n"
     ]
    },
    {
     "name": "stdout",
     "output_type": "stream",
     "text": [
      "Make DONE\n",
      "https://github.com/Mashpoe/c-hashmap.git\n",
      "repo_name Mashpoe_____c-hashmap\n",
      "git clone https://github.com/Mashpoe/c-hashmap.git /home/nahid/dataset/clones/Mashpoe_____c-hashmap \n"
     ]
    },
    {
     "name": "stderr",
     "output_type": "stream",
     "text": [
      "Cloning into '/home/nahid/dataset/clones/Mashpoe_____c-hashmap'...\n"
     ]
    },
    {
     "name": "stdout",
     "output_type": "stream",
     "text": [
      "Make DONE\n",
      "https://github.com/harsh98trivedi/C-Programs.git\n",
      "repo_name harsh98trivedi_____C-Programs\n",
      "git clone https://github.com/harsh98trivedi/C-Programs.git /home/nahid/dataset/clones/harsh98trivedi_____C-Programs \n"
     ]
    },
    {
     "name": "stderr",
     "output_type": "stream",
     "text": [
      "Cloning into '/home/nahid/dataset/clones/harsh98trivedi_____C-Programs'...\n"
     ]
    },
    {
     "name": "stdout",
     "output_type": "stream",
     "text": [
      "Make DONE\n",
      "https://github.com/viabtc/asnw.git\n",
      "repo_name viabtc_____asnw\n",
      "git clone https://github.com/viabtc/asnw.git /home/nahid/dataset/clones/viabtc_____asnw \n"
     ]
    },
    {
     "name": "stderr",
     "output_type": "stream",
     "text": [
      "Cloning into '/home/nahid/dataset/clones/viabtc_____asnw'...\n"
     ]
    },
    {
     "name": "stdout",
     "output_type": "stream",
     "text": [
      "Make DONE\n",
      "https://github.com/LibVNC/libvncserver.git\n",
      "repo_name LibVNC_____libvncserver\n",
      "git clone https://github.com/LibVNC/libvncserver.git /home/nahid/dataset/clones/LibVNC_____libvncserver \n"
     ]
    },
    {
     "name": "stderr",
     "output_type": "stream",
     "text": [
      "Cloning into '/home/nahid/dataset/clones/LibVNC_____libvncserver'...\n"
     ]
    },
    {
     "name": "stdout",
     "output_type": "stream",
     "text": [
      "Make DONE\n",
      "https://github.com/dosfstools/dosfstools.git\n",
      "repo_name dosfstools_____dosfstools\n",
      "git clone https://github.com/dosfstools/dosfstools.git /home/nahid/dataset/clones/dosfstools_____dosfstools \n"
     ]
    },
    {
     "name": "stderr",
     "output_type": "stream",
     "text": [
      "Cloning into '/home/nahid/dataset/clones/dosfstools_____dosfstools'...\n"
     ]
    },
    {
     "name": "stdout",
     "output_type": "stream",
     "text": [
      "Make DONE\n",
      "https://github.com/roundsheep/rpp.git\n",
      "repo_name roundsheep_____rpp\n",
      "git clone https://github.com/roundsheep/rpp.git /home/nahid/dataset/clones/roundsheep_____rpp \n"
     ]
    },
    {
     "name": "stderr",
     "output_type": "stream",
     "text": [
      "Cloning into '/home/nahid/dataset/clones/roundsheep_____rpp'...\n"
     ]
    },
    {
     "name": "stdout",
     "output_type": "stream",
     "text": [
      "Make DONE\n",
      "https://github.com/Prinzwallace/alx-low_level_programming.git\n",
      "repo_name Prinzwallace_____alx-low_level_programming\n",
      "git clone https://github.com/Prinzwallace/alx-low_level_programming.git /home/nahid/dataset/clones/Prinzwallace_____alx-low_level_programming \n"
     ]
    },
    {
     "name": "stderr",
     "output_type": "stream",
     "text": [
      "Cloning into '/home/nahid/dataset/clones/Prinzwallace_____alx-low_level_programming'...\n"
     ]
    },
    {
     "name": "stdout",
     "output_type": "stream",
     "text": [
      "Make DONE\n",
      "https://github.com/oviyasuresh/C-Programming.git\n",
      "repo_name oviyasuresh_____C-Programming\n",
      "git clone https://github.com/oviyasuresh/C-Programming.git /home/nahid/dataset/clones/oviyasuresh_____C-Programming \n"
     ]
    },
    {
     "name": "stderr",
     "output_type": "stream",
     "text": [
      "Cloning into '/home/nahid/dataset/clones/oviyasuresh_____C-Programming'...\n"
     ]
    },
    {
     "name": "stdout",
     "output_type": "stream",
     "text": [
      "Make DONE\n",
      "https://github.com/ajdillhoff/CSE1320-Examples.git\n",
      "repo_name ajdillhoff_____CSE1320-Examples\n",
      "git clone https://github.com/ajdillhoff/CSE1320-Examples.git /home/nahid/dataset/clones/ajdillhoff_____CSE1320-Examples \n"
     ]
    },
    {
     "name": "stderr",
     "output_type": "stream",
     "text": [
      "Cloning into '/home/nahid/dataset/clones/ajdillhoff_____CSE1320-Examples'...\n"
     ]
    },
    {
     "name": "stdout",
     "output_type": "stream",
     "text": [
      "Make DONE\n",
      "https://github.com/Gzoref/holbertonschool-low_level_programming.git\n",
      "repo_name Gzoref_____holbertonschool-low_level_programming\n",
      "git clone https://github.com/Gzoref/holbertonschool-low_level_programming.git /home/nahid/dataset/clones/Gzoref_____holbertonschool-low_level_programming \n"
     ]
    },
    {
     "name": "stderr",
     "output_type": "stream",
     "text": [
      "Cloning into '/home/nahid/dataset/clones/Gzoref_____holbertonschool-low_level_programming'...\n"
     ]
    },
    {
     "name": "stdout",
     "output_type": "stream",
     "text": [
      "Make DONE\n",
      "https://github.com/ashim888/csit-c.git\n",
      "repo_name ashim888_____csit-c\n",
      "git clone https://github.com/ashim888/csit-c.git /home/nahid/dataset/clones/ashim888_____csit-c \n"
     ]
    },
    {
     "name": "stderr",
     "output_type": "stream",
     "text": [
      "Cloning into '/home/nahid/dataset/clones/ashim888_____csit-c'...\n"
     ]
    },
    {
     "name": "stdout",
     "output_type": "stream",
     "text": [
      "Make DONE\n",
      "https://github.com/mike-rankin/ESP32_USB-C_Power_Supply.git\n",
      "repo_name mike-rankin_____ESP32_USB-C_Power_Supply\n",
      "git clone https://github.com/mike-rankin/ESP32_USB-C_Power_Supply.git /home/nahid/dataset/clones/mike-rankin_____ESP32_USB-C_Power_Supply \n"
     ]
    },
    {
     "name": "stderr",
     "output_type": "stream",
     "text": [
      "Cloning into '/home/nahid/dataset/clones/mike-rankin_____ESP32_USB-C_Power_Supply'...\n"
     ]
    },
    {
     "name": "stdout",
     "output_type": "stream",
     "text": [
      "Make DONE\n",
      "https://github.com/QuantumLeaps/State-Oriented-Programming.git\n",
      "repo_name QuantumLeaps_____State-Oriented-Programming\n",
      "git clone https://github.com/QuantumLeaps/State-Oriented-Programming.git /home/nahid/dataset/clones/QuantumLeaps_____State-Oriented-Programming \n"
     ]
    },
    {
     "name": "stderr",
     "output_type": "stream",
     "text": [
      "Cloning into '/home/nahid/dataset/clones/QuantumLeaps_____State-Oriented-Programming'...\n"
     ]
    },
    {
     "name": "stdout",
     "output_type": "stream",
     "text": [
      "Make DONE\n",
      "https://github.com/Gedeonobae/alx-low_level_programming.git\n",
      "repo_name Gedeonobae_____alx-low_level_programming\n",
      "git clone https://github.com/Gedeonobae/alx-low_level_programming.git /home/nahid/dataset/clones/Gedeonobae_____alx-low_level_programming \n"
     ]
    },
    {
     "name": "stderr",
     "output_type": "stream",
     "text": [
      "Cloning into '/home/nahid/dataset/clones/Gedeonobae_____alx-low_level_programming'...\n"
     ]
    },
    {
     "name": "stdout",
     "output_type": "stream",
     "text": [
      "Make DONE\n",
      "https://github.com/cerberusxdev/cerberus.git\n",
      "repo_name cerberusxdev_____cerberus\n",
      "git clone https://github.com/cerberusxdev/cerberus.git /home/nahid/dataset/clones/cerberusxdev_____cerberus \n"
     ]
    },
    {
     "name": "stderr",
     "output_type": "stream",
     "text": [
      "Cloning into '/home/nahid/dataset/clones/cerberusxdev_____cerberus'...\n"
     ]
    },
    {
     "name": "stdout",
     "output_type": "stream",
     "text": [
      "Make DONE\n",
      "https://github.com/raysan5/challenges.git\n",
      "repo_name raysan5_____challenges\n",
      "git clone https://github.com/raysan5/challenges.git /home/nahid/dataset/clones/raysan5_____challenges \n"
     ]
    },
    {
     "name": "stderr",
     "output_type": "stream",
     "text": [
      "Cloning into '/home/nahid/dataset/clones/raysan5_____challenges'...\n"
     ]
    },
    {
     "name": "stdout",
     "output_type": "stream",
     "text": [
      "Make DONE\n",
      "https://github.com/froasio/c-programming-course.git\n",
      "repo_name froasio_____c-programming-course\n",
      "git clone https://github.com/froasio/c-programming-course.git /home/nahid/dataset/clones/froasio_____c-programming-course \n"
     ]
    },
    {
     "name": "stderr",
     "output_type": "stream",
     "text": [
      "Cloning into '/home/nahid/dataset/clones/froasio_____c-programming-course'...\n"
     ]
    },
    {
     "name": "stdout",
     "output_type": "stream",
     "text": [
      "Make DONE\n",
      "https://github.com/ElijahLawal-7/alx-low_level_programming.git\n",
      "repo_name ElijahLawal-7_____alx-low_level_programming\n",
      "git clone https://github.com/ElijahLawal-7/alx-low_level_programming.git /home/nahid/dataset/clones/ElijahLawal-7_____alx-low_level_programming \n"
     ]
    },
    {
     "name": "stderr",
     "output_type": "stream",
     "text": [
      "Cloning into '/home/nahid/dataset/clones/ElijahLawal-7_____alx-low_level_programming'...\n"
     ]
    },
    {
     "name": "stdout",
     "output_type": "stream",
     "text": [
      "Make DONE\n",
      "https://github.com/phitronio/Batch-3-Introduction-to-C-Programming.git\n",
      "repo_name phitronio_____Batch-3-Introduction-to-C-Programming\n",
      "git clone https://github.com/phitronio/Batch-3-Introduction-to-C-Programming.git /home/nahid/dataset/clones/phitronio_____Batch-3-Introduction-to-C-Programming \n"
     ]
    },
    {
     "name": "stderr",
     "output_type": "stream",
     "text": [
      "Cloning into '/home/nahid/dataset/clones/phitronio_____Batch-3-Introduction-to-C-Programming'...\n"
     ]
    },
    {
     "name": "stdout",
     "output_type": "stream",
     "text": [
      "Make DONE\n",
      "https://github.com/ascherer/cwebbin.git\n",
      "repo_name ascherer_____cwebbin\n",
      "git clone https://github.com/ascherer/cwebbin.git /home/nahid/dataset/clones/ascherer_____cwebbin \n"
     ]
    },
    {
     "name": "stderr",
     "output_type": "stream",
     "text": [
      "Cloning into '/home/nahid/dataset/clones/ascherer_____cwebbin'...\n"
     ]
    },
    {
     "name": "stdout",
     "output_type": "stream",
     "text": [
      "Make DONE\n",
      "https://github.com/carolemieux/perffuzz.git\n",
      "repo_name carolemieux_____perffuzz\n",
      "git clone https://github.com/carolemieux/perffuzz.git /home/nahid/dataset/clones/carolemieux_____perffuzz \n"
     ]
    },
    {
     "name": "stderr",
     "output_type": "stream",
     "text": [
      "Cloning into '/home/nahid/dataset/clones/carolemieux_____perffuzz'...\n"
     ]
    },
    {
     "name": "stdout",
     "output_type": "stream",
     "text": [
      "Make DONE\n",
      "https://github.com/overmighty/i-use-arch-btw.git\n",
      "repo_name overmighty_____i-use-arch-btw\n",
      "git clone https://github.com/overmighty/i-use-arch-btw.git /home/nahid/dataset/clones/overmighty_____i-use-arch-btw \n"
     ]
    },
    {
     "name": "stderr",
     "output_type": "stream",
     "text": [
      "Cloning into '/home/nahid/dataset/clones/overmighty_____i-use-arch-btw'...\n"
     ]
    },
    {
     "name": "stdout",
     "output_type": "stream",
     "text": [
      "Make DONE\n",
      "https://github.com/dannyvankooten/pepper-lang.git\n",
      "repo_name dannyvankooten_____pepper-lang\n",
      "git clone https://github.com/dannyvankooten/pepper-lang.git /home/nahid/dataset/clones/dannyvankooten_____pepper-lang \n"
     ]
    },
    {
     "name": "stderr",
     "output_type": "stream",
     "text": [
      "Cloning into '/home/nahid/dataset/clones/dannyvankooten_____pepper-lang'...\n"
     ]
    },
    {
     "name": "stdout",
     "output_type": "stream",
     "text": [
      "Make DONE\n",
      "https://github.com/kiklopteshki/C-Programming.git\n",
      "repo_name kiklopteshki_____C-Programming\n",
      "git clone https://github.com/kiklopteshki/C-Programming.git /home/nahid/dataset/clones/kiklopteshki_____C-Programming \n"
     ]
    },
    {
     "name": "stderr",
     "output_type": "stream",
     "text": [
      "Cloning into '/home/nahid/dataset/clones/kiklopteshki_____C-Programming'...\n"
     ]
    },
    {
     "name": "stdout",
     "output_type": "stream",
     "text": [
      "Make DONE\n",
      "https://github.com/Apress/sudoku-programming-w-c.git\n",
      "repo_name Apress_____sudoku-programming-w-c\n",
      "git clone https://github.com/Apress/sudoku-programming-w-c.git /home/nahid/dataset/clones/Apress_____sudoku-programming-w-c \n"
     ]
    },
    {
     "name": "stderr",
     "output_type": "stream",
     "text": [
      "Cloning into '/home/nahid/dataset/clones/Apress_____sudoku-programming-w-c'...\n"
     ]
    },
    {
     "name": "stdout",
     "output_type": "stream",
     "text": [
      "Make DONE\n",
      "https://github.com/jstrosch/learning-reverse-engineering.git\n",
      "repo_name jstrosch_____learning-reverse-engineering\n",
      "git clone https://github.com/jstrosch/learning-reverse-engineering.git /home/nahid/dataset/clones/jstrosch_____learning-reverse-engineering \n"
     ]
    },
    {
     "name": "stderr",
     "output_type": "stream",
     "text": [
      "Cloning into '/home/nahid/dataset/clones/jstrosch_____learning-reverse-engineering'...\n"
     ]
    },
    {
     "name": "stdout",
     "output_type": "stream",
     "text": [
      "Make DONE\n",
      "https://github.com/protee1/holbertonschool-low_level_programming.git\n",
      "repo_name protee1_____holbertonschool-low_level_programming\n",
      "git clone https://github.com/protee1/holbertonschool-low_level_programming.git /home/nahid/dataset/clones/protee1_____holbertonschool-low_level_programming \n"
     ]
    },
    {
     "name": "stderr",
     "output_type": "stream",
     "text": [
      "Cloning into '/home/nahid/dataset/clones/protee1_____holbertonschool-low_level_programming'...\n"
     ]
    },
    {
     "name": "stdout",
     "output_type": "stream",
     "text": [
      "Make DONE\n",
      "https://github.com/GramThanos/WakeOnLAN.git\n",
      "repo_name GramThanos_____WakeOnLAN\n",
      "git clone https://github.com/GramThanos/WakeOnLAN.git /home/nahid/dataset/clones/GramThanos_____WakeOnLAN \n"
     ]
    },
    {
     "name": "stderr",
     "output_type": "stream",
     "text": [
      "Cloning into '/home/nahid/dataset/clones/GramThanos_____WakeOnLAN'...\n"
     ]
    },
    {
     "name": "stdout",
     "output_type": "stream",
     "text": [
      "Make DONE\n",
      "https://github.com/PALSSpring/IntroProgrammingCourse.git\n",
      "repo_name PALSSpring_____IntroProgrammingCourse\n",
      "git clone https://github.com/PALSSpring/IntroProgrammingCourse.git /home/nahid/dataset/clones/PALSSpring_____IntroProgrammingCourse \n"
     ]
    },
    {
     "name": "stderr",
     "output_type": "stream",
     "text": [
      "Cloning into '/home/nahid/dataset/clones/PALSSpring_____IntroProgrammingCourse'...\n"
     ]
    },
    {
     "name": "stdout",
     "output_type": "stream",
     "text": [
      "Make DONE\n",
      "https://github.com/wengkai/ACLLib.git\n",
      "repo_name wengkai_____ACLLib\n",
      "git clone https://github.com/wengkai/ACLLib.git /home/nahid/dataset/clones/wengkai_____ACLLib \n"
     ]
    },
    {
     "name": "stderr",
     "output_type": "stream",
     "text": [
      "Cloning into '/home/nahid/dataset/clones/wengkai_____ACLLib'...\n"
     ]
    },
    {
     "name": "stdout",
     "output_type": "stream",
     "text": [
      "Make DONE\n",
      "https://github.com/Tenzing94/Udemy_DSA_Cpp.git\n",
      "repo_name Tenzing94_____Udemy_DSA_Cpp\n",
      "git clone https://github.com/Tenzing94/Udemy_DSA_Cpp.git /home/nahid/dataset/clones/Tenzing94_____Udemy_DSA_Cpp \n"
     ]
    },
    {
     "name": "stderr",
     "output_type": "stream",
     "text": [
      "Cloning into '/home/nahid/dataset/clones/Tenzing94_____Udemy_DSA_Cpp'...\n"
     ]
    },
    {
     "name": "stdout",
     "output_type": "stream",
     "text": [
      "Make DONE\n",
      "https://github.com/CSI-SCT-SB/EST102_Programming-in-C-S2-.git\n",
      "repo_name CSI-SCT-SB_____EST102_Programming-in-C-S2-\n",
      "git clone https://github.com/CSI-SCT-SB/EST102_Programming-in-C-S2-.git /home/nahid/dataset/clones/CSI-SCT-SB_____EST102_Programming-in-C-S2- \n"
     ]
    },
    {
     "name": "stderr",
     "output_type": "stream",
     "text": [
      "Cloning into '/home/nahid/dataset/clones/CSI-SCT-SB_____EST102_Programming-in-C-S2-'...\n"
     ]
    },
    {
     "name": "stdout",
     "output_type": "stream",
     "text": [
      "Make DONE\n",
      "https://github.com/Innocentsax/alx-low_level_programming.git\n",
      "repo_name Innocentsax_____alx-low_level_programming\n",
      "git clone https://github.com/Innocentsax/alx-low_level_programming.git /home/nahid/dataset/clones/Innocentsax_____alx-low_level_programming \n"
     ]
    },
    {
     "name": "stderr",
     "output_type": "stream",
     "text": [
      "Cloning into '/home/nahid/dataset/clones/Innocentsax_____alx-low_level_programming'...\n"
     ]
    },
    {
     "name": "stdout",
     "output_type": "stream",
     "text": [
      "Make DONE\n",
      "https://github.com/TechByDami/alx-low_level_programming.git\n",
      "repo_name TechByDami_____alx-low_level_programming\n",
      "git clone https://github.com/TechByDami/alx-low_level_programming.git /home/nahid/dataset/clones/TechByDami_____alx-low_level_programming \n"
     ]
    },
    {
     "name": "stderr",
     "output_type": "stream",
     "text": [
      "Cloning into '/home/nahid/dataset/clones/TechByDami_____alx-low_level_programming'...\n"
     ]
    },
    {
     "name": "stdout",
     "output_type": "stream",
     "text": [
      "Make DONE\n",
      "https://github.com/maksimKorzh/chess_programming.git\n",
      "repo_name maksimKorzh_____chess_programming\n",
      "git clone https://github.com/maksimKorzh/chess_programming.git /home/nahid/dataset/clones/maksimKorzh_____chess_programming \n"
     ]
    },
    {
     "name": "stderr",
     "output_type": "stream",
     "text": [
      "Cloning into '/home/nahid/dataset/clones/maksimKorzh_____chess_programming'...\n",
      "Updating files: 100% (2970/2970), done.\n",
      "Cloning into '/home/nahid/dataset/clones/sidneyriffic_____holbertonschool-low_level_programming'...\n"
     ]
    },
    {
     "name": "stdout",
     "output_type": "stream",
     "text": [
      "Make DONE\n",
      "https://github.com/sidneyriffic/holbertonschool-low_level_programming.git\n",
      "repo_name sidneyriffic_____holbertonschool-low_level_programming\n",
      "git clone https://github.com/sidneyriffic/holbertonschool-low_level_programming.git /home/nahid/dataset/clones/sidneyriffic_____holbertonschool-low_level_programming \n",
      "Make DONE\n",
      "https://github.com/Akojede70/alx-low_level_programming.git\n",
      "repo_name Akojede70_____alx-low_level_programming\n",
      "git clone https://github.com/Akojede70/alx-low_level_programming.git /home/nahid/dataset/clones/Akojede70_____alx-low_level_programming \n"
     ]
    },
    {
     "name": "stderr",
     "output_type": "stream",
     "text": [
      "Cloning into '/home/nahid/dataset/clones/Akojede70_____alx-low_level_programming'...\n"
     ]
    },
    {
     "name": "stdout",
     "output_type": "stream",
     "text": [
      "Make DONE\n",
      "https://github.com/h2o/picotest.git\n",
      "repo_name h2o_____picotest\n",
      "git clone https://github.com/h2o/picotest.git /home/nahid/dataset/clones/h2o_____picotest \n"
     ]
    },
    {
     "name": "stderr",
     "output_type": "stream",
     "text": [
      "Cloning into '/home/nahid/dataset/clones/h2o_____picotest'...\n"
     ]
    },
    {
     "name": "stdout",
     "output_type": "stream",
     "text": [
      "Make DONE\n",
      "https://github.com/DiUS/cp210x-cfg.git\n",
      "repo_name DiUS_____cp210x-cfg\n",
      "git clone https://github.com/DiUS/cp210x-cfg.git /home/nahid/dataset/clones/DiUS_____cp210x-cfg \n"
     ]
    },
    {
     "name": "stderr",
     "output_type": "stream",
     "text": [
      "Cloning into '/home/nahid/dataset/clones/DiUS_____cp210x-cfg'...\n"
     ]
    },
    {
     "name": "stdout",
     "output_type": "stream",
     "text": [
      "Make DONE\n",
      "https://github.com/engineerOfLies/gameframework2d.git\n",
      "repo_name engineerOfLies_____gameframework2d\n",
      "git clone https://github.com/engineerOfLies/gameframework2d.git /home/nahid/dataset/clones/engineerOfLies_____gameframework2d \n"
     ]
    },
    {
     "name": "stderr",
     "output_type": "stream",
     "text": [
      "Cloning into '/home/nahid/dataset/clones/engineerOfLies_____gameframework2d'...\n"
     ]
    },
    {
     "name": "stdout",
     "output_type": "stream",
     "text": [
      "Make DONE\n",
      "https://github.com/omair18/Socket-Programming-in-C.git\n",
      "repo_name omair18_____Socket-Programming-in-C\n",
      "git clone https://github.com/omair18/Socket-Programming-in-C.git /home/nahid/dataset/clones/omair18_____Socket-Programming-in-C \n"
     ]
    },
    {
     "name": "stderr",
     "output_type": "stream",
     "text": [
      "Cloning into '/home/nahid/dataset/clones/omair18_____Socket-Programming-in-C'...\n"
     ]
    },
    {
     "name": "stdout",
     "output_type": "stream",
     "text": [
      "Make DONE\n",
      "https://github.com/Akashganjal02/Snake-and-ladder-game-in-C.git\n",
      "repo_name Akashganjal02_____Snake-and-ladder-game-in-C\n",
      "git clone https://github.com/Akashganjal02/Snake-and-ladder-game-in-C.git /home/nahid/dataset/clones/Akashganjal02_____Snake-and-ladder-game-in-C \n"
     ]
    },
    {
     "name": "stderr",
     "output_type": "stream",
     "text": [
      "Cloning into '/home/nahid/dataset/clones/Akashganjal02_____Snake-and-ladder-game-in-C'...\n"
     ]
    },
    {
     "name": "stdout",
     "output_type": "stream",
     "text": [
      "Make DONE\n",
      "https://github.com/kammt/MemeAssembly.git\n",
      "repo_name kammt_____MemeAssembly\n",
      "git clone https://github.com/kammt/MemeAssembly.git /home/nahid/dataset/clones/kammt_____MemeAssembly \n"
     ]
    },
    {
     "name": "stderr",
     "output_type": "stream",
     "text": [
      "Cloning into '/home/nahid/dataset/clones/kammt_____MemeAssembly'...\n"
     ]
    },
    {
     "name": "stdout",
     "output_type": "stream",
     "text": [
      "Make DONE\n",
      "https://github.com/sisardor/Mini-shell.git\n",
      "repo_name sisardor_____Mini-shell\n",
      "git clone https://github.com/sisardor/Mini-shell.git /home/nahid/dataset/clones/sisardor_____Mini-shell \n"
     ]
    },
    {
     "name": "stderr",
     "output_type": "stream",
     "text": [
      "Cloning into '/home/nahid/dataset/clones/sisardor_____Mini-shell'...\n"
     ]
    },
    {
     "name": "stdout",
     "output_type": "stream",
     "text": [
      "Make DONE\n",
      "https://github.com/command-tab/ch341eeprom.git\n",
      "repo_name command-tab_____ch341eeprom\n",
      "git clone https://github.com/command-tab/ch341eeprom.git /home/nahid/dataset/clones/command-tab_____ch341eeprom \n"
     ]
    },
    {
     "name": "stderr",
     "output_type": "stream",
     "text": [
      "Cloning into '/home/nahid/dataset/clones/command-tab_____ch341eeprom'...\n"
     ]
    },
    {
     "name": "stdout",
     "output_type": "stream",
     "text": [
      "Make DONE\n",
      "https://github.com/its-Kumar/Data_Structure_and_Algorithm.git\n",
      "repo_name its-Kumar_____Data_Structure_and_Algorithm\n",
      "git clone https://github.com/its-Kumar/Data_Structure_and_Algorithm.git /home/nahid/dataset/clones/its-Kumar_____Data_Structure_and_Algorithm \n"
     ]
    },
    {
     "name": "stderr",
     "output_type": "stream",
     "text": [
      "Cloning into '/home/nahid/dataset/clones/its-Kumar_____Data_Structure_and_Algorithm'...\n",
      "Updating files: 100% (145/145), done.\n",
      "Cloning into '/home/nahid/dataset/clones/drimescodes_____alx-low_level_programming'...\n"
     ]
    },
    {
     "name": "stdout",
     "output_type": "stream",
     "text": [
      "Make DONE\n",
      "https://github.com/drimescodes/alx-low_level_programming.git\n",
      "repo_name drimescodes_____alx-low_level_programming\n",
      "git clone https://github.com/drimescodes/alx-low_level_programming.git /home/nahid/dataset/clones/drimescodes_____alx-low_level_programming \n",
      "Make DONE\n",
      "https://github.com/ffainelli/cc2530prog.git\n",
      "repo_name ffainelli_____cc2530prog\n",
      "git clone https://github.com/ffainelli/cc2530prog.git /home/nahid/dataset/clones/ffainelli_____cc2530prog \n"
     ]
    },
    {
     "name": "stderr",
     "output_type": "stream",
     "text": [
      "Cloning into '/home/nahid/dataset/clones/ffainelli_____cc2530prog'...\n"
     ]
    },
    {
     "name": "stdout",
     "output_type": "stream",
     "text": [
      "Make DONE\n",
      "https://github.com/RocktimRajkumar/Calendar-in-C.git\n",
      "repo_name RocktimRajkumar_____Calendar-in-C\n",
      "git clone https://github.com/RocktimRajkumar/Calendar-in-C.git /home/nahid/dataset/clones/RocktimRajkumar_____Calendar-in-C \n"
     ]
    },
    {
     "name": "stderr",
     "output_type": "stream",
     "text": [
      "Cloning into '/home/nahid/dataset/clones/RocktimRajkumar_____Calendar-in-C'...\n"
     ]
    },
    {
     "name": "stdout",
     "output_type": "stream",
     "text": [
      "Make DONE\n",
      "https://github.com/thetechgirlgita/100DaysOfCode.git\n",
      "repo_name thetechgirlgita_____100DaysOfCode\n",
      "git clone https://github.com/thetechgirlgita/100DaysOfCode.git /home/nahid/dataset/clones/thetechgirlgita_____100DaysOfCode \n"
     ]
    },
    {
     "name": "stderr",
     "output_type": "stream",
     "text": [
      "Cloning into '/home/nahid/dataset/clones/thetechgirlgita_____100DaysOfCode'...\n"
     ]
    },
    {
     "name": "stdout",
     "output_type": "stream",
     "text": [
      "Make DONE\n",
      "https://github.com/regehr/ub-canaries.git\n",
      "repo_name regehr_____ub-canaries\n",
      "git clone https://github.com/regehr/ub-canaries.git /home/nahid/dataset/clones/regehr_____ub-canaries \n"
     ]
    },
    {
     "name": "stderr",
     "output_type": "stream",
     "text": [
      "Cloning into '/home/nahid/dataset/clones/regehr_____ub-canaries'...\n"
     ]
    },
    {
     "name": "stdout",
     "output_type": "stream",
     "text": [
      "Make DONE\n",
      "https://github.com/robert1207/UpperComputerProgramingGuideSrc.git\n",
      "repo_name robert1207_____UpperComputerProgramingGuideSrc\n",
      "git clone https://github.com/robert1207/UpperComputerProgramingGuideSrc.git /home/nahid/dataset/clones/robert1207_____UpperComputerProgramingGuideSrc \n"
     ]
    },
    {
     "name": "stderr",
     "output_type": "stream",
     "text": [
      "Cloning into '/home/nahid/dataset/clones/robert1207_____UpperComputerProgramingGuideSrc'...\n"
     ]
    },
    {
     "name": "stdout",
     "output_type": "stream",
     "text": [
      "Make DONE\n",
      "https://github.com/SteveLauC/Understanding-Unix-Linux-Programming.git\n",
      "repo_name SteveLauC_____Understanding-Unix-Linux-Programming\n",
      "git clone https://github.com/SteveLauC/Understanding-Unix-Linux-Programming.git /home/nahid/dataset/clones/SteveLauC_____Understanding-Unix-Linux-Programming \n"
     ]
    },
    {
     "name": "stderr",
     "output_type": "stream",
     "text": [
      "Cloning into '/home/nahid/dataset/clones/SteveLauC_____Understanding-Unix-Linux-Programming'...\n"
     ]
    },
    {
     "name": "stdout",
     "output_type": "stream",
     "text": [
      "Make DONE\n",
      "https://github.com/staropram/c_tutorial.git\n",
      "repo_name staropram_____c_tutorial\n",
      "git clone https://github.com/staropram/c_tutorial.git /home/nahid/dataset/clones/staropram_____c_tutorial \n"
     ]
    },
    {
     "name": "stderr",
     "output_type": "stream",
     "text": [
      "Cloning into '/home/nahid/dataset/clones/staropram_____c_tutorial'...\n"
     ]
    },
    {
     "name": "stdout",
     "output_type": "stream",
     "text": [
      "Make DONE\n",
      "https://github.com/kusdavletov/socket-programming-simple-server-and-client.git\n",
      "repo_name kusdavletov_____socket-programming-simple-server-and-client\n",
      "git clone https://github.com/kusdavletov/socket-programming-simple-server-and-client.git /home/nahid/dataset/clones/kusdavletov_____socket-programming-simple-server-and-client \n"
     ]
    },
    {
     "name": "stderr",
     "output_type": "stream",
     "text": [
      "Cloning into '/home/nahid/dataset/clones/kusdavletov_____socket-programming-simple-server-and-client'...\n"
     ]
    },
    {
     "name": "stdout",
     "output_type": "stream",
     "text": [
      "Make DONE\n",
      "https://github.com/Zard-C/CS107.git\n",
      "repo_name Zard-C_____CS107\n",
      "git clone https://github.com/Zard-C/CS107.git /home/nahid/dataset/clones/Zard-C_____CS107 \n"
     ]
    },
    {
     "name": "stderr",
     "output_type": "stream",
     "text": [
      "Cloning into '/home/nahid/dataset/clones/Zard-C_____CS107'...\n"
     ]
    },
    {
     "name": "stdout",
     "output_type": "stream",
     "text": [
      "Make DONE\n",
      "https://github.com/AhmedGharib0014/Programming-Fundamentals-c-course-by-Duke-university.git\n",
      "repo_name AhmedGharib0014_____Programming-Fundamentals-c-course-by-Duke-university\n",
      "git clone https://github.com/AhmedGharib0014/Programming-Fundamentals-c-course-by-Duke-university.git /home/nahid/dataset/clones/AhmedGharib0014_____Programming-Fundamentals-c-course-by-Duke-university \n"
     ]
    },
    {
     "name": "stderr",
     "output_type": "stream",
     "text": [
      "Cloning into '/home/nahid/dataset/clones/AhmedGharib0014_____Programming-Fundamentals-c-course-by-Duke-university'...\n"
     ]
    },
    {
     "name": "stdout",
     "output_type": "stream",
     "text": [
      "Make DONE\n",
      "https://github.com/evgenkarlson/COMPLETED_PISCINE_C.git\n",
      "repo_name evgenkarlson_____COMPLETED_PISCINE_C\n",
      "git clone https://github.com/evgenkarlson/COMPLETED_PISCINE_C.git /home/nahid/dataset/clones/evgenkarlson_____COMPLETED_PISCINE_C \n"
     ]
    },
    {
     "name": "stderr",
     "output_type": "stream",
     "text": [
      "Cloning into '/home/nahid/dataset/clones/evgenkarlson_____COMPLETED_PISCINE_C'...\n"
     ]
    },
    {
     "name": "stdout",
     "output_type": "stream",
     "text": [
      "Make DONE\n",
      "https://github.com/randomvs/holbertonschool-low_level_programming.git\n",
      "repo_name randomvs_____holbertonschool-low_level_programming\n",
      "git clone https://github.com/randomvs/holbertonschool-low_level_programming.git /home/nahid/dataset/clones/randomvs_____holbertonschool-low_level_programming \n"
     ]
    },
    {
     "name": "stderr",
     "output_type": "stream",
     "text": [
      "Cloning into '/home/nahid/dataset/clones/randomvs_____holbertonschool-low_level_programming'...\n"
     ]
    },
    {
     "name": "stdout",
     "output_type": "stream",
     "text": [
      "Make DONE\n",
      "https://github.com/mubareksd/alx-low_level_programming.git\n",
      "repo_name mubareksd_____alx-low_level_programming\n",
      "git clone https://github.com/mubareksd/alx-low_level_programming.git /home/nahid/dataset/clones/mubareksd_____alx-low_level_programming \n"
     ]
    },
    {
     "name": "stderr",
     "output_type": "stream",
     "text": [
      "Cloning into '/home/nahid/dataset/clones/mubareksd_____alx-low_level_programming'...\n"
     ]
    },
    {
     "name": "stdout",
     "output_type": "stream",
     "text": [
      "Make DONE\n",
      "https://github.com/recombinant/petzold-pw5e.git\n",
      "repo_name recombinant_____petzold-pw5e\n",
      "git clone https://github.com/recombinant/petzold-pw5e.git /home/nahid/dataset/clones/recombinant_____petzold-pw5e \n"
     ]
    },
    {
     "name": "stderr",
     "output_type": "stream",
     "text": [
      "Cloning into '/home/nahid/dataset/clones/recombinant_____petzold-pw5e'...\n"
     ]
    },
    {
     "name": "stdout",
     "output_type": "stream",
     "text": [
      "Make DONE\n",
      "https://github.com/Sourav-546/C-programming.git\n",
      "repo_name Sourav-546_____C-programming\n",
      "git clone https://github.com/Sourav-546/C-programming.git /home/nahid/dataset/clones/Sourav-546_____C-programming \n"
     ]
    },
    {
     "name": "stderr",
     "output_type": "stream",
     "text": [
      "Cloning into '/home/nahid/dataset/clones/Sourav-546_____C-programming'...\n"
     ]
    },
    {
     "name": "stdout",
     "output_type": "stream",
     "text": [
      "Make DONE\n",
      "https://github.com/tsoding/sv.git\n",
      "repo_name tsoding_____sv\n",
      "git clone https://github.com/tsoding/sv.git /home/nahid/dataset/clones/tsoding_____sv \n"
     ]
    },
    {
     "name": "stderr",
     "output_type": "stream",
     "text": [
      "Cloning into '/home/nahid/dataset/clones/tsoding_____sv'...\n"
     ]
    },
    {
     "name": "stdout",
     "output_type": "stream",
     "text": [
      "Make DONE\n",
      "https://github.com/AndrewJamesTurner/CGP-Library.git\n",
      "repo_name AndrewJamesTurner_____CGP-Library\n",
      "git clone https://github.com/AndrewJamesTurner/CGP-Library.git /home/nahid/dataset/clones/AndrewJamesTurner_____CGP-Library \n"
     ]
    },
    {
     "name": "stderr",
     "output_type": "stream",
     "text": [
      "Cloning into '/home/nahid/dataset/clones/AndrewJamesTurner_____CGP-Library'...\n"
     ]
    },
    {
     "name": "stdout",
     "output_type": "stream",
     "text": [
      "Make DONE\n",
      "https://github.com/mfillpot/mathomatic.git\n",
      "repo_name mfillpot_____mathomatic\n",
      "git clone https://github.com/mfillpot/mathomatic.git /home/nahid/dataset/clones/mfillpot_____mathomatic \n"
     ]
    },
    {
     "name": "stderr",
     "output_type": "stream",
     "text": [
      "Cloning into '/home/nahid/dataset/clones/mfillpot_____mathomatic'...\n"
     ]
    },
    {
     "name": "stdout",
     "output_type": "stream",
     "text": [
      "Make DONE\n",
      "https://github.com/scout213/IntroC-student.git\n",
      "repo_name scout213_____IntroC-student\n",
      "git clone https://github.com/scout213/IntroC-student.git /home/nahid/dataset/clones/scout213_____IntroC-student \n"
     ]
    },
    {
     "name": "stderr",
     "output_type": "stream",
     "text": [
      "Cloning into '/home/nahid/dataset/clones/scout213_____IntroC-student'...\n",
      "Updating files: 100% (4508/4508), done.\n",
      "Cloning into '/home/nahid/dataset/clones/otabat_____shen-c'...\n"
     ]
    },
    {
     "name": "stdout",
     "output_type": "stream",
     "text": [
      "Make DONE\n",
      "https://github.com/otabat/shen-c.git\n",
      "repo_name otabat_____shen-c\n",
      "git clone https://github.com/otabat/shen-c.git /home/nahid/dataset/clones/otabat_____shen-c \n",
      "Make DONE\n",
      "https://github.com/jschauma/cs631apue.git\n",
      "repo_name jschauma_____cs631apue\n",
      "git clone https://github.com/jschauma/cs631apue.git /home/nahid/dataset/clones/jschauma_____cs631apue \n"
     ]
    },
    {
     "name": "stderr",
     "output_type": "stream",
     "text": [
      "Cloning into '/home/nahid/dataset/clones/jschauma_____cs631apue'...\n",
      "Updating files: 100% (1072/1072), done.\n",
      "Cloning into '/home/nahid/dataset/clones/gabordemooij_____citrine'...\n"
     ]
    },
    {
     "name": "stdout",
     "output_type": "stream",
     "text": [
      "Make DONE\n",
      "https://github.com/gabordemooij/citrine.git\n",
      "repo_name gabordemooij_____citrine\n",
      "git clone https://github.com/gabordemooij/citrine.git /home/nahid/dataset/clones/gabordemooij_____citrine \n"
     ]
    },
    {
     "name": "stderr",
     "output_type": "stream",
     "text": [
      "Updating files: 100% (31839/31839), done.\n"
     ]
    },
    {
     "name": "stdout",
     "output_type": "stream",
     "text": [
      "Make DONE\n",
      "https://github.com/Karenahv/holbertonschool-low_level_programming.git\n",
      "repo_name Karenahv_____holbertonschool-low_level_programming\n",
      "git clone https://github.com/Karenahv/holbertonschool-low_level_programming.git /home/nahid/dataset/clones/Karenahv_____holbertonschool-low_level_programming \n"
     ]
    },
    {
     "name": "stderr",
     "output_type": "stream",
     "text": [
      "Cloning into '/home/nahid/dataset/clones/Karenahv_____holbertonschool-low_level_programming'...\n"
     ]
    },
    {
     "name": "stdout",
     "output_type": "stream",
     "text": [
      "Make DONE\n",
      "https://github.com/elsys/po-classwork-2015.git\n",
      "repo_name elsys_____po-classwork-2015\n",
      "git clone https://github.com/elsys/po-classwork-2015.git /home/nahid/dataset/clones/elsys_____po-classwork-2015 \n"
     ]
    },
    {
     "name": "stderr",
     "output_type": "stream",
     "text": [
      "Cloning into '/home/nahid/dataset/clones/elsys_____po-classwork-2015'...\n"
     ]
    },
    {
     "name": "stdout",
     "output_type": "stream",
     "text": [
      "Make DONE\n",
      "https://github.com/trebisky/esp8266.git\n",
      "repo_name trebisky_____esp8266\n",
      "git clone https://github.com/trebisky/esp8266.git /home/nahid/dataset/clones/trebisky_____esp8266 \n"
     ]
    },
    {
     "name": "stderr",
     "output_type": "stream",
     "text": [
      "Cloning into '/home/nahid/dataset/clones/trebisky_____esp8266'...\n"
     ]
    },
    {
     "name": "stdout",
     "output_type": "stream",
     "text": [
      "Make DONE\n",
      "https://github.com/uzgoralperhan/C-Programming.git\n",
      "repo_name uzgoralperhan_____C-Programming\n",
      "git clone https://github.com/uzgoralperhan/C-Programming.git /home/nahid/dataset/clones/uzgoralperhan_____C-Programming \n"
     ]
    },
    {
     "name": "stderr",
     "output_type": "stream",
     "text": [
      "Cloning into '/home/nahid/dataset/clones/uzgoralperhan_____C-Programming'...\n"
     ]
    },
    {
     "name": "stdout",
     "output_type": "stream",
     "text": [
      "Make DONE\n",
      "https://github.com/packmad/Linux-C-Programming.git\n",
      "repo_name packmad_____Linux-C-Programming\n",
      "git clone https://github.com/packmad/Linux-C-Programming.git /home/nahid/dataset/clones/packmad_____Linux-C-Programming \n"
     ]
    },
    {
     "name": "stderr",
     "output_type": "stream",
     "text": [
      "Cloning into '/home/nahid/dataset/clones/packmad_____Linux-C-Programming'...\n"
     ]
    },
    {
     "name": "stdout",
     "output_type": "stream",
     "text": [
      "Make DONE\n",
      "https://github.com/tctsigemura/C--.git\n",
      "repo_name tctsigemura_____C--\n",
      "git clone https://github.com/tctsigemura/C--.git /home/nahid/dataset/clones/tctsigemura_____C-- \n"
     ]
    },
    {
     "name": "stderr",
     "output_type": "stream",
     "text": [
      "Cloning into '/home/nahid/dataset/clones/tctsigemura_____C--'...\n"
     ]
    },
    {
     "name": "stdout",
     "output_type": "stream",
     "text": [
      "Make DONE\n",
      "https://github.com/Fadhilinzaka/calculator.git\n",
      "repo_name Fadhilinzaka_____calculator\n",
      "git clone https://github.com/Fadhilinzaka/calculator.git /home/nahid/dataset/clones/Fadhilinzaka_____calculator \n"
     ]
    },
    {
     "name": "stderr",
     "output_type": "stream",
     "text": [
      "Cloning into '/home/nahid/dataset/clones/Fadhilinzaka_____calculator'...\n"
     ]
    },
    {
     "name": "stdout",
     "output_type": "stream",
     "text": [
      "Make DONE\n",
      "https://github.com/hongshin/LearningC.git\n",
      "repo_name hongshin_____LearningC\n",
      "git clone https://github.com/hongshin/LearningC.git /home/nahid/dataset/clones/hongshin_____LearningC \n"
     ]
    },
    {
     "name": "stderr",
     "output_type": "stream",
     "text": [
      "Cloning into '/home/nahid/dataset/clones/hongshin_____LearningC'...\n"
     ]
    },
    {
     "name": "stdout",
     "output_type": "stream",
     "text": [
      "Make DONE\n",
      "https://github.com/HerculesWS/Hercules.git\n",
      "repo_name HerculesWS_____Hercules\n",
      "git clone https://github.com/HerculesWS/Hercules.git /home/nahid/dataset/clones/HerculesWS_____Hercules \n"
     ]
    },
    {
     "name": "stderr",
     "output_type": "stream",
     "text": [
      "Cloning into '/home/nahid/dataset/clones/HerculesWS_____Hercules'...\n"
     ]
    },
    {
     "name": "stdout",
     "output_type": "stream",
     "text": [
      "Make DONE\n",
      "https://github.com/izniburak/c-programlama-kod-ornekleri.git\n",
      "repo_name izniburak_____c-programlama-kod-ornekleri\n",
      "git clone https://github.com/izniburak/c-programlama-kod-ornekleri.git /home/nahid/dataset/clones/izniburak_____c-programlama-kod-ornekleri \n"
     ]
    },
    {
     "name": "stderr",
     "output_type": "stream",
     "text": [
      "Cloning into '/home/nahid/dataset/clones/izniburak_____c-programlama-kod-ornekleri'...\n"
     ]
    },
    {
     "name": "stdout",
     "output_type": "stream",
     "text": [
      "Make DONE\n",
      "https://github.com/nr-electronics/C-programming-lessons.git\n",
      "repo_name nr-electronics_____C-programming-lessons\n",
      "git clone https://github.com/nr-electronics/C-programming-lessons.git /home/nahid/dataset/clones/nr-electronics_____C-programming-lessons \n"
     ]
    },
    {
     "name": "stderr",
     "output_type": "stream",
     "text": [
      "Cloning into '/home/nahid/dataset/clones/nr-electronics_____C-programming-lessons'...\n"
     ]
    },
    {
     "name": "stdout",
     "output_type": "stream",
     "text": [
      "Make DONE\n",
      "https://github.com/AveyBD/student-management-system.git\n",
      "repo_name AveyBD_____student-management-system\n",
      "git clone https://github.com/AveyBD/student-management-system.git /home/nahid/dataset/clones/AveyBD_____student-management-system \n"
     ]
    },
    {
     "name": "stderr",
     "output_type": "stream",
     "text": [
      "Cloning into '/home/nahid/dataset/clones/AveyBD_____student-management-system'...\n"
     ]
    },
    {
     "name": "stdout",
     "output_type": "stream",
     "text": [
      "Make DONE\n",
      "https://github.com/jabezwinston/Earliest_Deadline_First.git\n",
      "repo_name jabezwinston_____Earliest_Deadline_First\n",
      "git clone https://github.com/jabezwinston/Earliest_Deadline_First.git /home/nahid/dataset/clones/jabezwinston_____Earliest_Deadline_First \n"
     ]
    },
    {
     "name": "stderr",
     "output_type": "stream",
     "text": [
      "Cloning into '/home/nahid/dataset/clones/jabezwinston_____Earliest_Deadline_First'...\n"
     ]
    },
    {
     "name": "stdout",
     "output_type": "stream",
     "text": [
      "Make DONE\n",
      "https://github.com/Neutree/STM32f103DriverLib.git\n",
      "repo_name Neutree_____STM32f103DriverLib\n",
      "git clone https://github.com/Neutree/STM32f103DriverLib.git /home/nahid/dataset/clones/Neutree_____STM32f103DriverLib \n"
     ]
    },
    {
     "name": "stderr",
     "output_type": "stream",
     "text": [
      "Cloning into '/home/nahid/dataset/clones/Neutree_____STM32f103DriverLib'...\n"
     ]
    },
    {
     "name": "stdout",
     "output_type": "stream",
     "text": [
      "Make DONE\n",
      "https://github.com/Apress/pointers-c-programming.git\n",
      "repo_name Apress_____pointers-c-programming\n",
      "git clone https://github.com/Apress/pointers-c-programming.git /home/nahid/dataset/clones/Apress_____pointers-c-programming \n"
     ]
    },
    {
     "name": "stderr",
     "output_type": "stream",
     "text": [
      "Cloning into '/home/nahid/dataset/clones/Apress_____pointers-c-programming'...\n"
     ]
    },
    {
     "name": "stdout",
     "output_type": "stream",
     "text": [
      "Make DONE\n",
      "https://github.com/MinhasKamal/CreepyCodeCollection.git\n",
      "repo_name MinhasKamal_____CreepyCodeCollection\n",
      "git clone https://github.com/MinhasKamal/CreepyCodeCollection.git /home/nahid/dataset/clones/MinhasKamal_____CreepyCodeCollection \n"
     ]
    },
    {
     "name": "stderr",
     "output_type": "stream",
     "text": [
      "Cloning into '/home/nahid/dataset/clones/MinhasKamal_____CreepyCodeCollection'...\n"
     ]
    },
    {
     "name": "stdout",
     "output_type": "stream",
     "text": [
      "Make DONE\n",
      "https://github.com/kingspray/c-programming-2014-2015-homework.git\n",
      "repo_name kingspray_____c-programming-2014-2015-homework\n",
      "git clone https://github.com/kingspray/c-programming-2014-2015-homework.git /home/nahid/dataset/clones/kingspray_____c-programming-2014-2015-homework \n"
     ]
    },
    {
     "name": "stderr",
     "output_type": "stream",
     "text": [
      "Cloning into '/home/nahid/dataset/clones/kingspray_____c-programming-2014-2015-homework'...\n"
     ]
    },
    {
     "name": "stdout",
     "output_type": "stream",
     "text": [
      "Make DONE\n",
      "https://github.com/qpSWIFT/qpSWIFT.git\n",
      "repo_name qpSWIFT_____qpSWIFT\n",
      "git clone https://github.com/qpSWIFT/qpSWIFT.git /home/nahid/dataset/clones/qpSWIFT_____qpSWIFT \n"
     ]
    },
    {
     "name": "stderr",
     "output_type": "stream",
     "text": [
      "Cloning into '/home/nahid/dataset/clones/qpSWIFT_____qpSWIFT'...\n"
     ]
    },
    {
     "name": "stdout",
     "output_type": "stream",
     "text": [
      "Make DONE\n",
      "https://github.com/accre/Cprogramming.git\n",
      "repo_name accre_____Cprogramming\n",
      "git clone https://github.com/accre/Cprogramming.git /home/nahid/dataset/clones/accre_____Cprogramming \n"
     ]
    },
    {
     "name": "stderr",
     "output_type": "stream",
     "text": [
      "Cloning into '/home/nahid/dataset/clones/accre_____Cprogramming'...\n"
     ]
    },
    {
     "name": "stdout",
     "output_type": "stream",
     "text": [
      "Make DONE\n",
      "https://github.com/luhuadong/Linux-programming.git\n",
      "repo_name luhuadong_____Linux-programming\n",
      "git clone https://github.com/luhuadong/Linux-programming.git /home/nahid/dataset/clones/luhuadong_____Linux-programming \n"
     ]
    },
    {
     "name": "stderr",
     "output_type": "stream",
     "text": [
      "Cloning into '/home/nahid/dataset/clones/luhuadong_____Linux-programming'...\n"
     ]
    },
    {
     "name": "stdout",
     "output_type": "stream",
     "text": [
      "Make DONE\n",
      "https://github.com/Apress/practical-system-programming-c.git\n",
      "repo_name Apress_____practical-system-programming-c\n",
      "git clone https://github.com/Apress/practical-system-programming-c.git /home/nahid/dataset/clones/Apress_____practical-system-programming-c \n"
     ]
    },
    {
     "name": "stderr",
     "output_type": "stream",
     "text": [
      "Cloning into '/home/nahid/dataset/clones/Apress_____practical-system-programming-c'...\n"
     ]
    },
    {
     "name": "stdout",
     "output_type": "stream",
     "text": [
      "Make DONE\n",
      "https://github.com/sonnynomnom/Introduction-to-Programming-in-C.git\n",
      "repo_name sonnynomnom_____Introduction-to-Programming-in-C\n",
      "git clone https://github.com/sonnynomnom/Introduction-to-Programming-in-C.git /home/nahid/dataset/clones/sonnynomnom_____Introduction-to-Programming-in-C \n"
     ]
    },
    {
     "name": "stderr",
     "output_type": "stream",
     "text": [
      "Cloning into '/home/nahid/dataset/clones/sonnynomnom_____Introduction-to-Programming-in-C'...\n"
     ]
    },
    {
     "name": "stdout",
     "output_type": "stream",
     "text": [
      "Make DONE\n",
      "https://github.com/pangfengliu/C-programming-with-idioms-2nd-edition.git\n",
      "repo_name pangfengliu_____C-programming-with-idioms-2nd-edition\n",
      "git clone https://github.com/pangfengliu/C-programming-with-idioms-2nd-edition.git /home/nahid/dataset/clones/pangfengliu_____C-programming-with-idioms-2nd-edition \n"
     ]
    },
    {
     "name": "stderr",
     "output_type": "stream",
     "text": [
      "Cloning into '/home/nahid/dataset/clones/pangfengliu_____C-programming-with-idioms-2nd-edition'...\n"
     ]
    },
    {
     "name": "stdout",
     "output_type": "stream",
     "text": [
      "Make DONE\n",
      "https://github.com/rsms/compis.git\n",
      "repo_name rsms_____compis\n",
      "git clone https://github.com/rsms/compis.git /home/nahid/dataset/clones/rsms_____compis \n"
     ]
    },
    {
     "name": "stderr",
     "output_type": "stream",
     "text": [
      "Cloning into '/home/nahid/dataset/clones/rsms_____compis'...\n"
     ]
    },
    {
     "name": "stdout",
     "output_type": "stream",
     "text": [
      "Make DONE\n",
      "https://github.com/sca-nit-jsr/Competitive-Programming-Repository.git\n",
      "repo_name sca-nit-jsr_____Competitive-Programming-Repository\n",
      "git clone https://github.com/sca-nit-jsr/Competitive-Programming-Repository.git /home/nahid/dataset/clones/sca-nit-jsr_____Competitive-Programming-Repository \n"
     ]
    },
    {
     "name": "stderr",
     "output_type": "stream",
     "text": [
      "Cloning into '/home/nahid/dataset/clones/sca-nit-jsr_____Competitive-Programming-Repository'...\n"
     ]
    },
    {
     "name": "stdout",
     "output_type": "stream",
     "text": [
      "Make DONE\n",
      "https://github.com/isaacbaccah/alx-low_level_programming.git\n",
      "repo_name isaacbaccah_____alx-low_level_programming\n",
      "git clone https://github.com/isaacbaccah/alx-low_level_programming.git /home/nahid/dataset/clones/isaacbaccah_____alx-low_level_programming \n"
     ]
    },
    {
     "name": "stderr",
     "output_type": "stream",
     "text": [
      "Cloning into '/home/nahid/dataset/clones/isaacbaccah_____alx-low_level_programming'...\n"
     ]
    },
    {
     "name": "stdout",
     "output_type": "stream",
     "text": [
      "Make DONE\n",
      "https://github.com/CProgrammingFBGroup/CProgrammingNotes.git\n",
      "repo_name CProgrammingFBGroup_____CProgrammingNotes\n",
      "git clone https://github.com/CProgrammingFBGroup/CProgrammingNotes.git /home/nahid/dataset/clones/CProgrammingFBGroup_____CProgrammingNotes \n"
     ]
    },
    {
     "name": "stderr",
     "output_type": "stream",
     "text": [
      "Cloning into '/home/nahid/dataset/clones/CProgrammingFBGroup_____CProgrammingNotes'...\n"
     ]
    },
    {
     "name": "stdout",
     "output_type": "stream",
     "text": [
      "Make DONE\n",
      "https://github.com/coding-max/holbertonschool-low_level_programming.git\n",
      "repo_name coding-max_____holbertonschool-low_level_programming\n",
      "git clone https://github.com/coding-max/holbertonschool-low_level_programming.git /home/nahid/dataset/clones/coding-max_____holbertonschool-low_level_programming \n"
     ]
    },
    {
     "name": "stderr",
     "output_type": "stream",
     "text": [
      "Cloning into '/home/nahid/dataset/clones/coding-max_____holbertonschool-low_level_programming'...\n"
     ]
    },
    {
     "name": "stdout",
     "output_type": "stream",
     "text": [
      "Make DONE\n",
      "https://github.com/USMC1941/CS214-Rutgers.git\n",
      "repo_name USMC1941_____CS214-Rutgers\n",
      "git clone https://github.com/USMC1941/CS214-Rutgers.git /home/nahid/dataset/clones/USMC1941_____CS214-Rutgers \n"
     ]
    },
    {
     "name": "stderr",
     "output_type": "stream",
     "text": [
      "Cloning into '/home/nahid/dataset/clones/USMC1941_____CS214-Rutgers'...\n"
     ]
    },
    {
     "name": "stdout",
     "output_type": "stream",
     "text": [
      "Make DONE\n",
      "https://github.com/cozis/Noja.git\n",
      "repo_name cozis_____Noja\n",
      "git clone https://github.com/cozis/Noja.git /home/nahid/dataset/clones/cozis_____Noja \n"
     ]
    },
    {
     "name": "stderr",
     "output_type": "stream",
     "text": [
      "Cloning into '/home/nahid/dataset/clones/cozis_____Noja'...\n"
     ]
    },
    {
     "name": "stdout",
     "output_type": "stream",
     "text": [
      "Make DONE\n",
      "https://github.com/polystat/c2eo.git\n",
      "repo_name polystat_____c2eo\n",
      "git clone https://github.com/polystat/c2eo.git /home/nahid/dataset/clones/polystat_____c2eo \n"
     ]
    },
    {
     "name": "stderr",
     "output_type": "stream",
     "text": [
      "Cloning into '/home/nahid/dataset/clones/polystat_____c2eo'...\n"
     ]
    },
    {
     "name": "stdout",
     "output_type": "stream",
     "text": [
      "Make DONE\n",
      "https://github.com/mitcse/CSE-Labs.git\n",
      "repo_name mitcse_____CSE-Labs\n",
      "git clone https://github.com/mitcse/CSE-Labs.git /home/nahid/dataset/clones/mitcse_____CSE-Labs \n"
     ]
    },
    {
     "name": "stderr",
     "output_type": "stream",
     "text": [
      "Cloning into '/home/nahid/dataset/clones/mitcse_____CSE-Labs'...\n"
     ]
    },
    {
     "name": "stdout",
     "output_type": "stream",
     "text": [
      "Make DONE\n",
      "https://github.com/raywritescode/cpma2.git\n",
      "repo_name raywritescode_____cpma2\n",
      "git clone https://github.com/raywritescode/cpma2.git /home/nahid/dataset/clones/raywritescode_____cpma2 \n"
     ]
    },
    {
     "name": "stderr",
     "output_type": "stream",
     "text": [
      "Cloning into '/home/nahid/dataset/clones/raywritescode_____cpma2'...\n"
     ]
    },
    {
     "name": "stdout",
     "output_type": "stream",
     "text": [
      "Make DONE\n",
      "https://github.com/DragScorpio/Pointers-On-C-Solutions.git\n",
      "repo_name DragScorpio_____Pointers-On-C-Solutions\n",
      "git clone https://github.com/DragScorpio/Pointers-On-C-Solutions.git /home/nahid/dataset/clones/DragScorpio_____Pointers-On-C-Solutions \n"
     ]
    },
    {
     "name": "stderr",
     "output_type": "stream",
     "text": [
      "Cloning into '/home/nahid/dataset/clones/DragScorpio_____Pointers-On-C-Solutions'...\n"
     ]
    },
    {
     "name": "stdout",
     "output_type": "stream",
     "text": [
      "Make DONE\n",
      "https://github.com/AlienEdith/Introduction-to-Programming-in-C.git\n",
      "repo_name AlienEdith_____Introduction-to-Programming-in-C\n",
      "git clone https://github.com/AlienEdith/Introduction-to-Programming-in-C.git /home/nahid/dataset/clones/AlienEdith_____Introduction-to-Programming-in-C \n"
     ]
    },
    {
     "name": "stderr",
     "output_type": "stream",
     "text": [
      "Cloning into '/home/nahid/dataset/clones/AlienEdith_____Introduction-to-Programming-in-C'...\n"
     ]
    },
    {
     "name": "stdout",
     "output_type": "stream",
     "text": [
      "Make DONE\n",
      "https://github.com/viktor-shepel/frunzik.git\n",
      "repo_name viktor-shepel_____frunzik\n",
      "git clone https://github.com/viktor-shepel/frunzik.git /home/nahid/dataset/clones/viktor-shepel_____frunzik \n"
     ]
    },
    {
     "name": "stderr",
     "output_type": "stream",
     "text": [
      "Cloning into '/home/nahid/dataset/clones/viktor-shepel_____frunzik'...\n"
     ]
    },
    {
     "name": "stdout",
     "output_type": "stream",
     "text": [
      "Make DONE\n",
      "https://github.com/amantiwari8861/C_Batch_11_to_12.git\n",
      "repo_name amantiwari8861_____C_Batch_11_to_12\n",
      "git clone https://github.com/amantiwari8861/C_Batch_11_to_12.git /home/nahid/dataset/clones/amantiwari8861_____C_Batch_11_to_12 \n"
     ]
    },
    {
     "name": "stderr",
     "output_type": "stream",
     "text": [
      "Cloning into '/home/nahid/dataset/clones/amantiwari8861_____C_Batch_11_to_12'...\n",
      "Updating files: 100% (1605/1605), done.\n",
      "Cloning into '/home/nahid/dataset/clones/moogacs_____problem-solving'...\n"
     ]
    },
    {
     "name": "stdout",
     "output_type": "stream",
     "text": [
      "Make DONE\n",
      "https://github.com/moogacs/problem-solving.git\n",
      "repo_name moogacs_____problem-solving\n",
      "git clone https://github.com/moogacs/problem-solving.git /home/nahid/dataset/clones/moogacs_____problem-solving \n",
      "Make DONE\n",
      "https://github.com/atamsingh/comp2401.git\n",
      "repo_name atamsingh_____comp2401\n",
      "git clone https://github.com/atamsingh/comp2401.git /home/nahid/dataset/clones/atamsingh_____comp2401 \n"
     ]
    },
    {
     "name": "stderr",
     "output_type": "stream",
     "text": [
      "Cloning into '/home/nahid/dataset/clones/atamsingh_____comp2401'...\n"
     ]
    },
    {
     "name": "stdout",
     "output_type": "stream",
     "text": [
      "Make DONE\n",
      "https://github.com/amirkhan1092/c-programming.git\n",
      "repo_name amirkhan1092_____c-programming\n",
      "git clone https://github.com/amirkhan1092/c-programming.git /home/nahid/dataset/clones/amirkhan1092_____c-programming \n"
     ]
    },
    {
     "name": "stderr",
     "output_type": "stream",
     "text": [
      "Cloning into '/home/nahid/dataset/clones/amirkhan1092_____c-programming'...\n"
     ]
    },
    {
     "name": "stdout",
     "output_type": "stream",
     "text": [
      "Make DONE\n",
      "https://github.com/npapernot/buffer-overflow-attack.git\n",
      "repo_name npapernot_____buffer-overflow-attack\n",
      "git clone https://github.com/npapernot/buffer-overflow-attack.git /home/nahid/dataset/clones/npapernot_____buffer-overflow-attack \n"
     ]
    },
    {
     "name": "stderr",
     "output_type": "stream",
     "text": [
      "Cloning into '/home/nahid/dataset/clones/npapernot_____buffer-overflow-attack'...\n"
     ]
    },
    {
     "name": "stdout",
     "output_type": "stream",
     "text": [
      "Make DONE\n",
      "https://github.com/616353553/CS241_System_Programming.git\n",
      "repo_name 616353553_____CS241_System_Programming\n",
      "git clone https://github.com/616353553/CS241_System_Programming.git /home/nahid/dataset/clones/616353553_____CS241_System_Programming \n"
     ]
    },
    {
     "name": "stderr",
     "output_type": "stream",
     "text": [
      "Cloning into '/home/nahid/dataset/clones/616353553_____CS241_System_Programming'...\n"
     ]
    },
    {
     "name": "stdout",
     "output_type": "stream",
     "text": [
      "Make DONE\n",
      "https://github.com/openAVproductions/openAV-Ctlra.git\n",
      "repo_name openAVproductions_____openAV-Ctlra\n",
      "git clone https://github.com/openAVproductions/openAV-Ctlra.git /home/nahid/dataset/clones/openAVproductions_____openAV-Ctlra \n"
     ]
    },
    {
     "name": "stderr",
     "output_type": "stream",
     "text": [
      "Cloning into '/home/nahid/dataset/clones/openAVproductions_____openAV-Ctlra'...\n"
     ]
    },
    {
     "name": "stdout",
     "output_type": "stream",
     "text": [
      "Make DONE\n",
      "https://github.com/Swoorup/mysh.git\n",
      "repo_name Swoorup_____mysh\n",
      "git clone https://github.com/Swoorup/mysh.git /home/nahid/dataset/clones/Swoorup_____mysh \n"
     ]
    },
    {
     "name": "stderr",
     "output_type": "stream",
     "text": [
      "Cloning into '/home/nahid/dataset/clones/Swoorup_____mysh'...\n"
     ]
    },
    {
     "name": "stdout",
     "output_type": "stream",
     "text": [
      "Make DONE\n",
      "https://github.com/edorfaus/TEMPered.git\n",
      "repo_name edorfaus_____TEMPered\n",
      "git clone https://github.com/edorfaus/TEMPered.git /home/nahid/dataset/clones/edorfaus_____TEMPered \n"
     ]
    },
    {
     "name": "stderr",
     "output_type": "stream",
     "text": [
      "Cloning into '/home/nahid/dataset/clones/edorfaus_____TEMPered'...\n"
     ]
    },
    {
     "name": "stdout",
     "output_type": "stream",
     "text": [
      "Make DONE\n",
      "https://github.com/kenders2000/WindNoiseDetection.git\n",
      "repo_name kenders2000_____WindNoiseDetection\n",
      "git clone https://github.com/kenders2000/WindNoiseDetection.git /home/nahid/dataset/clones/kenders2000_____WindNoiseDetection \n"
     ]
    },
    {
     "name": "stderr",
     "output_type": "stream",
     "text": [
      "Cloning into '/home/nahid/dataset/clones/kenders2000_____WindNoiseDetection'...\n"
     ]
    },
    {
     "name": "stdout",
     "output_type": "stream",
     "text": [
      "Make DONE\n",
      "https://github.com/BennyQBD/CGFX5.git\n",
      "repo_name BennyQBD_____CGFX5\n",
      "git clone https://github.com/BennyQBD/CGFX5.git /home/nahid/dataset/clones/BennyQBD_____CGFX5 \n"
     ]
    },
    {
     "name": "stderr",
     "output_type": "stream",
     "text": [
      "Cloning into '/home/nahid/dataset/clones/BennyQBD_____CGFX5'...\n"
     ]
    },
    {
     "name": "stdout",
     "output_type": "stream",
     "text": [
      "Make DONE\n",
      "https://github.com/MFOSSociety/CS-1101-MU.git\n",
      "repo_name MFOSSociety_____CS-1101-MU\n",
      "git clone https://github.com/MFOSSociety/CS-1101-MU.git /home/nahid/dataset/clones/MFOSSociety_____CS-1101-MU \n"
     ]
    },
    {
     "name": "stderr",
     "output_type": "stream",
     "text": [
      "Cloning into '/home/nahid/dataset/clones/MFOSSociety_____CS-1101-MU'...\n"
     ]
    },
    {
     "name": "stdout",
     "output_type": "stream",
     "text": [
      "Make DONE\n",
      "https://github.com/junjiemars/c.git\n",
      "repo_name junjiemars_____c\n",
      "git clone https://github.com/junjiemars/c.git /home/nahid/dataset/clones/junjiemars_____c \n"
     ]
    },
    {
     "name": "stderr",
     "output_type": "stream",
     "text": [
      "Cloning into '/home/nahid/dataset/clones/junjiemars_____c'...\n"
     ]
    },
    {
     "name": "stdout",
     "output_type": "stream",
     "text": [
      "Make DONE\n",
      "https://github.com/avinashbest/codewithharry-c-programming.git\n",
      "repo_name avinashbest_____codewithharry-c-programming\n",
      "git clone https://github.com/avinashbest/codewithharry-c-programming.git /home/nahid/dataset/clones/avinashbest_____codewithharry-c-programming \n"
     ]
    },
    {
     "name": "stderr",
     "output_type": "stream",
     "text": [
      "Cloning into '/home/nahid/dataset/clones/avinashbest_____codewithharry-c-programming'...\n"
     ]
    },
    {
     "name": "stdout",
     "output_type": "stream",
     "text": [
      "Make DONE\n",
      "https://github.com/ajhalthor/interpreter.git\n",
      "repo_name ajhalthor_____interpreter\n",
      "git clone https://github.com/ajhalthor/interpreter.git /home/nahid/dataset/clones/ajhalthor_____interpreter \n"
     ]
    },
    {
     "name": "stderr",
     "output_type": "stream",
     "text": [
      "Cloning into '/home/nahid/dataset/clones/ajhalthor_____interpreter'...\n"
     ]
    },
    {
     "name": "stdout",
     "output_type": "stream",
     "text": [
      "Make DONE\n",
      "https://github.com/codespecs/fjalar.git\n",
      "repo_name codespecs_____fjalar\n",
      "git clone https://github.com/codespecs/fjalar.git /home/nahid/dataset/clones/codespecs_____fjalar \n"
     ]
    },
    {
     "name": "stderr",
     "output_type": "stream",
     "text": [
      "Cloning into '/home/nahid/dataset/clones/codespecs_____fjalar'...\n"
     ]
    },
    {
     "name": "stdout",
     "output_type": "stream",
     "text": [
      "Make DONE\n",
      "https://github.com/ApOgEE/mingw-c-socket.git\n",
      "repo_name ApOgEE_____mingw-c-socket\n",
      "git clone https://github.com/ApOgEE/mingw-c-socket.git /home/nahid/dataset/clones/ApOgEE_____mingw-c-socket \n"
     ]
    },
    {
     "name": "stderr",
     "output_type": "stream",
     "text": [
      "Cloning into '/home/nahid/dataset/clones/ApOgEE_____mingw-c-socket'...\n"
     ]
    },
    {
     "name": "stdout",
     "output_type": "stream",
     "text": [
      "Make DONE\n",
      "https://github.com/Nihal-Priyadarshi/c-programming.git\n",
      "repo_name Nihal-Priyadarshi_____c-programming\n",
      "git clone https://github.com/Nihal-Priyadarshi/c-programming.git /home/nahid/dataset/clones/Nihal-Priyadarshi_____c-programming \n"
     ]
    },
    {
     "name": "stderr",
     "output_type": "stream",
     "text": [
      "Cloning into '/home/nahid/dataset/clones/Nihal-Priyadarshi_____c-programming'...\n"
     ]
    },
    {
     "name": "stdout",
     "output_type": "stream",
     "text": [
      "Make DONE\n",
      "https://github.com/tabbykatz/holbertonschool-low_level_programming.git\n",
      "repo_name tabbykatz_____holbertonschool-low_level_programming\n",
      "git clone https://github.com/tabbykatz/holbertonschool-low_level_programming.git /home/nahid/dataset/clones/tabbykatz_____holbertonschool-low_level_programming \n"
     ]
    },
    {
     "name": "stderr",
     "output_type": "stream",
     "text": [
      "Cloning into '/home/nahid/dataset/clones/tabbykatz_____holbertonschool-low_level_programming'...\n"
     ]
    },
    {
     "name": "stdout",
     "output_type": "stream",
     "text": [
      "Make DONE\n",
      "https://github.com/technoblogy/attiny10core.git\n",
      "repo_name technoblogy_____attiny10core\n",
      "git clone https://github.com/technoblogy/attiny10core.git /home/nahid/dataset/clones/technoblogy_____attiny10core \n"
     ]
    },
    {
     "name": "stderr",
     "output_type": "stream",
     "text": [
      "Cloning into '/home/nahid/dataset/clones/technoblogy_____attiny10core'...\n"
     ]
    },
    {
     "name": "stdout",
     "output_type": "stream",
     "text": [
      "Make DONE\n",
      "https://github.com/OnionIoT/i2c-exp-driver.git\n",
      "repo_name OnionIoT_____i2c-exp-driver\n",
      "git clone https://github.com/OnionIoT/i2c-exp-driver.git /home/nahid/dataset/clones/OnionIoT_____i2c-exp-driver \n"
     ]
    },
    {
     "name": "stderr",
     "output_type": "stream",
     "text": [
      "Cloning into '/home/nahid/dataset/clones/OnionIoT_____i2c-exp-driver'...\n"
     ]
    },
    {
     "name": "stdout",
     "output_type": "stream",
     "text": [
      "Make DONE\n",
      "https://github.com/opensourcecobol/opensource-cobol.git\n",
      "repo_name opensourcecobol_____opensource-cobol\n",
      "git clone https://github.com/opensourcecobol/opensource-cobol.git /home/nahid/dataset/clones/opensourcecobol_____opensource-cobol \n"
     ]
    },
    {
     "name": "stderr",
     "output_type": "stream",
     "text": [
      "Cloning into '/home/nahid/dataset/clones/opensourcecobol_____opensource-cobol'...\n"
     ]
    },
    {
     "name": "stdout",
     "output_type": "stream",
     "text": [
      "Make DONE\n",
      "https://github.com/besthor/alx-low_level_programming.git\n",
      "repo_name besthor_____alx-low_level_programming\n",
      "git clone https://github.com/besthor/alx-low_level_programming.git /home/nahid/dataset/clones/besthor_____alx-low_level_programming \n"
     ]
    },
    {
     "name": "stderr",
     "output_type": "stream",
     "text": [
      "Cloning into '/home/nahid/dataset/clones/besthor_____alx-low_level_programming'...\n"
     ]
    },
    {
     "name": "stdout",
     "output_type": "stream",
     "text": [
      "Make DONE\n",
      "https://github.com/natsu1211/F2812_PMSM_SVPWM_PI.git\n",
      "repo_name natsu1211_____F2812_PMSM_SVPWM_PI\n",
      "git clone https://github.com/natsu1211/F2812_PMSM_SVPWM_PI.git /home/nahid/dataset/clones/natsu1211_____F2812_PMSM_SVPWM_PI \n"
     ]
    },
    {
     "name": "stderr",
     "output_type": "stream",
     "text": [
      "Cloning into '/home/nahid/dataset/clones/natsu1211_____F2812_PMSM_SVPWM_PI'...\n"
     ]
    },
    {
     "name": "stdout",
     "output_type": "stream",
     "text": [
      "Make DONE\n",
      "https://github.com/BradStevenson/Simple-C-Calculator.git\n",
      "repo_name BradStevenson_____Simple-C-Calculator\n",
      "git clone https://github.com/BradStevenson/Simple-C-Calculator.git /home/nahid/dataset/clones/BradStevenson_____Simple-C-Calculator \n"
     ]
    },
    {
     "name": "stderr",
     "output_type": "stream",
     "text": [
      "Cloning into '/home/nahid/dataset/clones/BradStevenson_____Simple-C-Calculator'...\n"
     ]
    },
    {
     "name": "stdout",
     "output_type": "stream",
     "text": [
      "Make DONE\n",
      "https://github.com/rohitcoder/C-Programming-And-C-Sharp-Basics.git\n",
      "repo_name rohitcoder_____C-Programming-And-C-Sharp-Basics\n",
      "git clone https://github.com/rohitcoder/C-Programming-And-C-Sharp-Basics.git /home/nahid/dataset/clones/rohitcoder_____C-Programming-And-C-Sharp-Basics \n"
     ]
    },
    {
     "name": "stderr",
     "output_type": "stream",
     "text": [
      "Cloning into '/home/nahid/dataset/clones/rohitcoder_____C-Programming-And-C-Sharp-Basics'...\n"
     ]
    },
    {
     "name": "stdout",
     "output_type": "stream",
     "text": [
      "Make DONE\n",
      "https://github.com/ajayrandhawa/Socket-Programming-C.git\n",
      "repo_name ajayrandhawa_____Socket-Programming-C\n",
      "git clone https://github.com/ajayrandhawa/Socket-Programming-C.git /home/nahid/dataset/clones/ajayrandhawa_____Socket-Programming-C \n"
     ]
    },
    {
     "name": "stderr",
     "output_type": "stream",
     "text": [
      "Cloning into '/home/nahid/dataset/clones/ajayrandhawa_____Socket-Programming-C'...\n"
     ]
    },
    {
     "name": "stdout",
     "output_type": "stream",
     "text": [
      "Make DONE\n",
      "https://github.com/rahulek/ProgrammingFoundationCourse.git\n",
      "repo_name rahulek_____ProgrammingFoundationCourse\n",
      "git clone https://github.com/rahulek/ProgrammingFoundationCourse.git /home/nahid/dataset/clones/rahulek_____ProgrammingFoundationCourse \n"
     ]
    },
    {
     "name": "stderr",
     "output_type": "stream",
     "text": [
      "Cloning into '/home/nahid/dataset/clones/rahulek_____ProgrammingFoundationCourse'...\n"
     ]
    },
    {
     "name": "stdout",
     "output_type": "stream",
     "text": [
      "Make DONE\n",
      "https://github.com/jingning42/C-Programming.git\n",
      "repo_name jingning42_____C-Programming\n",
      "git clone https://github.com/jingning42/C-Programming.git /home/nahid/dataset/clones/jingning42_____C-Programming \n"
     ]
    },
    {
     "name": "stderr",
     "output_type": "stream",
     "text": [
      "Cloning into '/home/nahid/dataset/clones/jingning42_____C-Programming'...\n"
     ]
    },
    {
     "name": "stdout",
     "output_type": "stream",
     "text": [
      "Make DONE\n",
      "https://github.com/JeannieFallon/c-programming-with-linux.git\n",
      "repo_name JeannieFallon_____c-programming-with-linux\n",
      "git clone https://github.com/JeannieFallon/c-programming-with-linux.git /home/nahid/dataset/clones/JeannieFallon_____c-programming-with-linux \n"
     ]
    },
    {
     "name": "stderr",
     "output_type": "stream",
     "text": [
      "Cloning into '/home/nahid/dataset/clones/JeannieFallon_____c-programming-with-linux'...\n"
     ]
    },
    {
     "name": "stdout",
     "output_type": "stream",
     "text": [
      "Make DONE\n",
      "https://github.com/fjsj/programming-challenges.git\n",
      "repo_name fjsj_____programming-challenges\n",
      "git clone https://github.com/fjsj/programming-challenges.git /home/nahid/dataset/clones/fjsj_____programming-challenges \n"
     ]
    },
    {
     "name": "stderr",
     "output_type": "stream",
     "text": [
      "Cloning into '/home/nahid/dataset/clones/fjsj_____programming-challenges'...\n"
     ]
    },
    {
     "name": "stdout",
     "output_type": "stream",
     "text": [
      "Make DONE\n",
      "https://github.com/ashksmith/c-programming-a-modern-approach-solutions.git\n",
      "repo_name ashksmith_____c-programming-a-modern-approach-solutions\n",
      "git clone https://github.com/ashksmith/c-programming-a-modern-approach-solutions.git /home/nahid/dataset/clones/ashksmith_____c-programming-a-modern-approach-solutions \n"
     ]
    },
    {
     "name": "stderr",
     "output_type": "stream",
     "text": [
      "Cloning into '/home/nahid/dataset/clones/ashksmith_____c-programming-a-modern-approach-solutions'...\n"
     ]
    },
    {
     "name": "stdout",
     "output_type": "stream",
     "text": [
      "Make DONE\n",
      "https://github.com/alimpfard/citron.git\n",
      "repo_name alimpfard_____citron\n",
      "git clone https://github.com/alimpfard/citron.git /home/nahid/dataset/clones/alimpfard_____citron \n"
     ]
    },
    {
     "name": "stderr",
     "output_type": "stream",
     "text": [
      "Cloning into '/home/nahid/dataset/clones/alimpfard_____citron'...\n"
     ]
    },
    {
     "name": "stdout",
     "output_type": "stream",
     "text": [
      "Make DONE\n",
      "https://github.com/nikhilroxtomar/File-Transfer-using-TCP-Socket-in-C.git\n",
      "repo_name nikhilroxtomar_____File-Transfer-using-TCP-Socket-in-C\n",
      "git clone https://github.com/nikhilroxtomar/File-Transfer-using-TCP-Socket-in-C.git /home/nahid/dataset/clones/nikhilroxtomar_____File-Transfer-using-TCP-Socket-in-C \n"
     ]
    },
    {
     "name": "stderr",
     "output_type": "stream",
     "text": [
      "Cloning into '/home/nahid/dataset/clones/nikhilroxtomar_____File-Transfer-using-TCP-Socket-in-C'...\n"
     ]
    },
    {
     "name": "stdout",
     "output_type": "stream",
     "text": [
      "Make DONE\n",
      "https://github.com/bsc-pm/mcxx.git\n",
      "repo_name bsc-pm_____mcxx\n",
      "git clone https://github.com/bsc-pm/mcxx.git /home/nahid/dataset/clones/bsc-pm_____mcxx \n"
     ]
    },
    {
     "name": "stderr",
     "output_type": "stream",
     "text": [
      "Cloning into '/home/nahid/dataset/clones/bsc-pm_____mcxx'...\n"
     ]
    },
    {
     "name": "stdout",
     "output_type": "stream",
     "text": [
      "Make DONE\n",
      "https://github.com/FreyrSCADA/DNP3.git\n",
      "repo_name FreyrSCADA_____DNP3\n",
      "git clone https://github.com/FreyrSCADA/DNP3.git /home/nahid/dataset/clones/FreyrSCADA_____DNP3 \n"
     ]
    },
    {
     "name": "stderr",
     "output_type": "stream",
     "text": [
      "Cloning into '/home/nahid/dataset/clones/FreyrSCADA_____DNP3'...\n"
     ]
    },
    {
     "name": "stdout",
     "output_type": "stream",
     "text": [
      "Make DONE\n",
      "https://github.com/coder-cat-999/C-solution.git\n",
      "repo_name coder-cat-999_____C-solution\n",
      "git clone https://github.com/coder-cat-999/C-solution.git /home/nahid/dataset/clones/coder-cat-999_____C-solution \n"
     ]
    },
    {
     "name": "stderr",
     "output_type": "stream",
     "text": [
      "Cloning into '/home/nahid/dataset/clones/coder-cat-999_____C-solution'...\n"
     ]
    },
    {
     "name": "stdout",
     "output_type": "stream",
     "text": [
      "Make DONE\n",
      "https://github.com/wimrijnders/V3DLib.git\n",
      "repo_name wimrijnders_____V3DLib\n",
      "git clone https://github.com/wimrijnders/V3DLib.git /home/nahid/dataset/clones/wimrijnders_____V3DLib \n"
     ]
    },
    {
     "name": "stderr",
     "output_type": "stream",
     "text": [
      "Cloning into '/home/nahid/dataset/clones/wimrijnders_____V3DLib'...\n"
     ]
    },
    {
     "name": "stdout",
     "output_type": "stream",
     "text": [
      "Make DONE\n",
      "https://github.com/vivekp/C-Network-Programming.git\n",
      "repo_name vivekp_____C-Network-Programming\n",
      "git clone https://github.com/vivekp/C-Network-Programming.git /home/nahid/dataset/clones/vivekp_____C-Network-Programming \n"
     ]
    },
    {
     "name": "stderr",
     "output_type": "stream",
     "text": [
      "Cloning into '/home/nahid/dataset/clones/vivekp_____C-Network-Programming'...\n"
     ]
    },
    {
     "name": "stdout",
     "output_type": "stream",
     "text": [
      "Make DONE\n",
      "https://github.com/forhappy/rbtree.git\n",
      "repo_name forhappy_____rbtree\n",
      "git clone https://github.com/forhappy/rbtree.git /home/nahid/dataset/clones/forhappy_____rbtree \n"
     ]
    },
    {
     "name": "stderr",
     "output_type": "stream",
     "text": [
      "Cloning into '/home/nahid/dataset/clones/forhappy_____rbtree'...\n"
     ]
    },
    {
     "name": "stdout",
     "output_type": "stream",
     "text": [
      "Make DONE\n",
      "https://github.com/Elyasin/K-and-R-solutions.git\n",
      "repo_name Elyasin_____K-and-R-solutions\n",
      "git clone https://github.com/Elyasin/K-and-R-solutions.git /home/nahid/dataset/clones/Elyasin_____K-and-R-solutions \n"
     ]
    },
    {
     "name": "stderr",
     "output_type": "stream",
     "text": [
      "Cloning into '/home/nahid/dataset/clones/Elyasin_____K-and-R-solutions'...\n"
     ]
    },
    {
     "name": "stdout",
     "output_type": "stream",
     "text": [
      "Make DONE\n",
      "https://github.com/osala-eng/alx-low_level_programming.git\n",
      "repo_name osala-eng_____alx-low_level_programming\n",
      "git clone https://github.com/osala-eng/alx-low_level_programming.git /home/nahid/dataset/clones/osala-eng_____alx-low_level_programming \n"
     ]
    },
    {
     "name": "stderr",
     "output_type": "stream",
     "text": [
      "Cloning into '/home/nahid/dataset/clones/osala-eng_____alx-low_level_programming'...\n"
     ]
    },
    {
     "name": "stdout",
     "output_type": "stream",
     "text": [
      "Make DONE\n",
      "https://github.com/MPI-SWS/genmc.git\n",
      "repo_name MPI-SWS_____genmc\n",
      "git clone https://github.com/MPI-SWS/genmc.git /home/nahid/dataset/clones/MPI-SWS_____genmc \n"
     ]
    },
    {
     "name": "stderr",
     "output_type": "stream",
     "text": [
      "Cloning into '/home/nahid/dataset/clones/MPI-SWS_____genmc'...\n"
     ]
    },
    {
     "name": "stdout",
     "output_type": "stream",
     "text": [
      "Make DONE\n",
      "https://github.com/bigconvience/BooksCode.git\n",
      "repo_name bigconvience_____BooksCode\n",
      "git clone https://github.com/bigconvience/BooksCode.git /home/nahid/dataset/clones/bigconvience_____BooksCode \n"
     ]
    },
    {
     "name": "stderr",
     "output_type": "stream",
     "text": [
      "Cloning into '/home/nahid/dataset/clones/bigconvience_____BooksCode'...\n"
     ]
    },
    {
     "name": "stdout",
     "output_type": "stream",
     "text": [
      "Make DONE\n",
      "https://github.com/elsys/c-programming-classwork.git\n",
      "repo_name elsys_____c-programming-classwork\n",
      "git clone https://github.com/elsys/c-programming-classwork.git /home/nahid/dataset/clones/elsys_____c-programming-classwork \n"
     ]
    },
    {
     "name": "stderr",
     "output_type": "stream",
     "text": [
      "Cloning into '/home/nahid/dataset/clones/elsys_____c-programming-classwork'...\n"
     ]
    },
    {
     "name": "stdout",
     "output_type": "stream",
     "text": [
      "Make DONE\n",
      "https://github.com/DavidAntliff/esp32-ds18b20-example.git\n",
      "repo_name DavidAntliff_____esp32-ds18b20-example\n",
      "git clone https://github.com/DavidAntliff/esp32-ds18b20-example.git /home/nahid/dataset/clones/DavidAntliff_____esp32-ds18b20-example \n"
     ]
    },
    {
     "name": "stderr",
     "output_type": "stream",
     "text": [
      "Cloning into '/home/nahid/dataset/clones/DavidAntliff_____esp32-ds18b20-example'...\n"
     ]
    },
    {
     "name": "stdout",
     "output_type": "stream",
     "text": [
      "Make DONE\n",
      "https://github.com/Matthias-Wandel/jhead.git\n",
      "repo_name Matthias-Wandel_____jhead\n",
      "git clone https://github.com/Matthias-Wandel/jhead.git /home/nahid/dataset/clones/Matthias-Wandel_____jhead \n"
     ]
    },
    {
     "name": "stderr",
     "output_type": "stream",
     "text": [
      "Cloning into '/home/nahid/dataset/clones/Matthias-Wandel_____jhead'...\n"
     ]
    },
    {
     "name": "stdout",
     "output_type": "stream",
     "text": [
      "Make DONE\n",
      "https://github.com/haotianbo/PL0-Compiler.git\n",
      "repo_name haotianbo_____PL0-Compiler\n",
      "git clone https://github.com/haotianbo/PL0-Compiler.git /home/nahid/dataset/clones/haotianbo_____PL0-Compiler \n"
     ]
    },
    {
     "name": "stderr",
     "output_type": "stream",
     "text": [
      "Cloning into '/home/nahid/dataset/clones/haotianbo_____PL0-Compiler'...\n"
     ]
    },
    {
     "name": "stdout",
     "output_type": "stream",
     "text": [
      "Make DONE\n",
      "https://github.com/OlinElecanisms/first-day-c.git\n",
      "repo_name OlinElecanisms_____first-day-c\n",
      "git clone https://github.com/OlinElecanisms/first-day-c.git /home/nahid/dataset/clones/OlinElecanisms_____first-day-c \n"
     ]
    },
    {
     "name": "stderr",
     "output_type": "stream",
     "text": [
      "Cloning into '/home/nahid/dataset/clones/OlinElecanisms_____first-day-c'...\n"
     ]
    },
    {
     "name": "stdout",
     "output_type": "stream",
     "text": [
      "Make DONE\n",
      "https://github.com/gingerBill/c0.git\n",
      "repo_name gingerBill_____c0\n",
      "git clone https://github.com/gingerBill/c0.git /home/nahid/dataset/clones/gingerBill_____c0 \n"
     ]
    },
    {
     "name": "stderr",
     "output_type": "stream",
     "text": [
      "Cloning into '/home/nahid/dataset/clones/gingerBill_____c0'...\n"
     ]
    },
    {
     "name": "stdout",
     "output_type": "stream",
     "text": [
      "Make DONE\n",
      "https://github.com/austinkinross/rubiks-cube-solver.git\n",
      "repo_name austinkinross_____rubiks-cube-solver\n",
      "git clone https://github.com/austinkinross/rubiks-cube-solver.git /home/nahid/dataset/clones/austinkinross_____rubiks-cube-solver \n"
     ]
    },
    {
     "name": "stderr",
     "output_type": "stream",
     "text": [
      "Cloning into '/home/nahid/dataset/clones/austinkinross_____rubiks-cube-solver'...\n"
     ]
    },
    {
     "name": "stdout",
     "output_type": "stream",
     "text": [
      "Make DONE\n",
      "https://github.com/Polarisru/updiprog.git\n",
      "repo_name Polarisru_____updiprog\n",
      "git clone https://github.com/Polarisru/updiprog.git /home/nahid/dataset/clones/Polarisru_____updiprog \n"
     ]
    },
    {
     "name": "stderr",
     "output_type": "stream",
     "text": [
      "Cloning into '/home/nahid/dataset/clones/Polarisru_____updiprog'...\n"
     ]
    },
    {
     "name": "stdout",
     "output_type": "stream",
     "text": [
      "Make DONE\n",
      "https://github.com/mishal23/Tic-Tac-Toe.git\n",
      "repo_name mishal23_____Tic-Tac-Toe\n",
      "git clone https://github.com/mishal23/Tic-Tac-Toe.git /home/nahid/dataset/clones/mishal23_____Tic-Tac-Toe \n"
     ]
    },
    {
     "name": "stderr",
     "output_type": "stream",
     "text": [
      "Cloning into '/home/nahid/dataset/clones/mishal23_____Tic-Tac-Toe'...\n"
     ]
    },
    {
     "name": "stdout",
     "output_type": "stream",
     "text": [
      "Make DONE\n",
      "https://github.com/ivogeorg/msl-clang-003.git\n",
      "repo_name ivogeorg_____msl-clang-003\n",
      "git clone https://github.com/ivogeorg/msl-clang-003.git /home/nahid/dataset/clones/ivogeorg_____msl-clang-003 \n"
     ]
    },
    {
     "name": "stderr",
     "output_type": "stream",
     "text": [
      "Cloning into '/home/nahid/dataset/clones/ivogeorg_____msl-clang-003'...\n"
     ]
    },
    {
     "name": "stdout",
     "output_type": "stream",
     "text": [
      "Make DONE\n",
      "https://github.com/getiot/linux-c.git\n",
      "repo_name getiot_____linux-c\n",
      "git clone https://github.com/getiot/linux-c.git /home/nahid/dataset/clones/getiot_____linux-c \n"
     ]
    },
    {
     "name": "stderr",
     "output_type": "stream",
     "text": [
      "Cloning into '/home/nahid/dataset/clones/getiot_____linux-c'...\n"
     ]
    },
    {
     "name": "stdout",
     "output_type": "stream",
     "text": [
      "Make DONE\n",
      "https://github.com/matt123p/TinyCAD.git\n",
      "repo_name matt123p_____TinyCAD\n",
      "git clone https://github.com/matt123p/TinyCAD.git /home/nahid/dataset/clones/matt123p_____TinyCAD \n"
     ]
    },
    {
     "name": "stderr",
     "output_type": "stream",
     "text": [
      "Cloning into '/home/nahid/dataset/clones/matt123p_____TinyCAD'...\n"
     ]
    },
    {
     "name": "stdout",
     "output_type": "stream",
     "text": [
      "Make DONE\n",
      "https://github.com/Ayobami6/alx-low_level_programming.git\n",
      "repo_name Ayobami6_____alx-low_level_programming\n",
      "git clone https://github.com/Ayobami6/alx-low_level_programming.git /home/nahid/dataset/clones/Ayobami6_____alx-low_level_programming \n"
     ]
    },
    {
     "name": "stderr",
     "output_type": "stream",
     "text": [
      "Cloning into '/home/nahid/dataset/clones/Ayobami6_____alx-low_level_programming'...\n"
     ]
    },
    {
     "name": "stdout",
     "output_type": "stream",
     "text": [
      "Make DONE\n",
      "https://github.com/Ephraim69/alx-low_level_programming.git\n",
      "repo_name Ephraim69_____alx-low_level_programming\n",
      "git clone https://github.com/Ephraim69/alx-low_level_programming.git /home/nahid/dataset/clones/Ephraim69_____alx-low_level_programming \n"
     ]
    },
    {
     "name": "stderr",
     "output_type": "stream",
     "text": [
      "Cloning into '/home/nahid/dataset/clones/Ephraim69_____alx-low_level_programming'...\n"
     ]
    },
    {
     "name": "stdout",
     "output_type": "stream",
     "text": [
      "Make DONE\n",
      "https://github.com/riicchhaarrd/ocean.git\n",
      "repo_name riicchhaarrd_____ocean\n",
      "git clone https://github.com/riicchhaarrd/ocean.git /home/nahid/dataset/clones/riicchhaarrd_____ocean \n"
     ]
    },
    {
     "name": "stderr",
     "output_type": "stream",
     "text": [
      "Cloning into '/home/nahid/dataset/clones/riicchhaarrd_____ocean'...\n"
     ]
    },
    {
     "name": "stdout",
     "output_type": "stream",
     "text": [
      "Make DONE\n",
      "https://github.com/wudicgi/SpleeterMsvcExe.git\n",
      "repo_name wudicgi_____SpleeterMsvcExe\n",
      "git clone https://github.com/wudicgi/SpleeterMsvcExe.git /home/nahid/dataset/clones/wudicgi_____SpleeterMsvcExe \n"
     ]
    },
    {
     "name": "stderr",
     "output_type": "stream",
     "text": [
      "Cloning into '/home/nahid/dataset/clones/wudicgi_____SpleeterMsvcExe'...\n"
     ]
    },
    {
     "name": "stdout",
     "output_type": "stream",
     "text": [
      "Make DONE\n",
      "https://github.com/mbornet-hl/hl.git\n",
      "repo_name mbornet-hl_____hl\n",
      "git clone https://github.com/mbornet-hl/hl.git /home/nahid/dataset/clones/mbornet-hl_____hl \n"
     ]
    },
    {
     "name": "stderr",
     "output_type": "stream",
     "text": [
      "Cloning into '/home/nahid/dataset/clones/mbornet-hl_____hl'...\n"
     ]
    },
    {
     "name": "stdout",
     "output_type": "stream",
     "text": [
      "Make DONE\n",
      "https://github.com/peace-shillong/the-c-adventure-2019.git\n",
      "repo_name peace-shillong_____the-c-adventure-2019\n",
      "git clone https://github.com/peace-shillong/the-c-adventure-2019.git /home/nahid/dataset/clones/peace-shillong_____the-c-adventure-2019 \n"
     ]
    },
    {
     "name": "stderr",
     "output_type": "stream",
     "text": [
      "Cloning into '/home/nahid/dataset/clones/peace-shillong_____the-c-adventure-2019'...\n"
     ]
    },
    {
     "name": "stdout",
     "output_type": "stream",
     "text": [
      "Make DONE\n",
      "https://github.com/developerinsider/C-Programming-Example.git\n",
      "repo_name developerinsider_____C-Programming-Example\n",
      "git clone https://github.com/developerinsider/C-Programming-Example.git /home/nahid/dataset/clones/developerinsider_____C-Programming-Example \n"
     ]
    },
    {
     "name": "stderr",
     "output_type": "stream",
     "text": [
      "Cloning into '/home/nahid/dataset/clones/developerinsider_____C-Programming-Example'...\n"
     ]
    },
    {
     "name": "stdout",
     "output_type": "stream",
     "text": [
      "Make DONE\n",
      "https://github.com/um4ng-tiw/Peer-to-Peer-Socket-C.git\n",
      "repo_name um4ng-tiw_____Peer-to-Peer-Socket-C\n",
      "git clone https://github.com/um4ng-tiw/Peer-to-Peer-Socket-C.git /home/nahid/dataset/clones/um4ng-tiw_____Peer-to-Peer-Socket-C \n"
     ]
    },
    {
     "name": "stderr",
     "output_type": "stream",
     "text": [
      "Cloning into '/home/nahid/dataset/clones/um4ng-tiw_____Peer-to-Peer-Socket-C'...\n"
     ]
    },
    {
     "name": "stdout",
     "output_type": "stream",
     "text": [
      "Make DONE\n",
      "https://github.com/rose-compiler/rose.git\n",
      "repo_name rose-compiler_____rose\n",
      "git clone https://github.com/rose-compiler/rose.git /home/nahid/dataset/clones/rose-compiler_____rose \n"
     ]
    },
    {
     "name": "stderr",
     "output_type": "stream",
     "text": [
      "Cloning into '/home/nahid/dataset/clones/rose-compiler_____rose'...\n",
      "Updating files: 100% (28058/28058), done.\n"
     ]
    },
    {
     "name": "stdout",
     "output_type": "stream",
     "text": [
      "Make DONE\n",
      "https://github.com/PacktPublishing/Hands-On-Embedded-Programming-with-CPP-17.git\n",
      "repo_name PacktPublishing_____Hands-On-Embedded-Programming-with-CPP-17\n",
      "git clone https://github.com/PacktPublishing/Hands-On-Embedded-Programming-with-CPP-17.git /home/nahid/dataset/clones/PacktPublishing_____Hands-On-Embedded-Programming-with-CPP-17 \n"
     ]
    },
    {
     "name": "stderr",
     "output_type": "stream",
     "text": [
      "Cloning into '/home/nahid/dataset/clones/PacktPublishing_____Hands-On-Embedded-Programming-with-CPP-17'...\n"
     ]
    },
    {
     "name": "stdout",
     "output_type": "stream",
     "text": [
      "Make DONE\n",
      "https://github.com/martoangelov/c-programming-2014-2015-classwork.git\n",
      "repo_name martoangelov_____c-programming-2014-2015-classwork\n",
      "git clone https://github.com/martoangelov/c-programming-2014-2015-classwork.git /home/nahid/dataset/clones/martoangelov_____c-programming-2014-2015-classwork \n"
     ]
    },
    {
     "name": "stderr",
     "output_type": "stream",
     "text": [
      "Cloning into '/home/nahid/dataset/clones/martoangelov_____c-programming-2014-2015-classwork'...\n"
     ]
    },
    {
     "name": "stdout",
     "output_type": "stream",
     "text": [
      "Make DONE\n",
      "https://github.com/54shady/linuxc.git\n",
      "repo_name 54shady_____linuxc\n",
      "git clone https://github.com/54shady/linuxc.git /home/nahid/dataset/clones/54shady_____linuxc \n"
     ]
    },
    {
     "name": "stderr",
     "output_type": "stream",
     "text": [
      "Cloning into '/home/nahid/dataset/clones/54shady_____linuxc'...\n"
     ]
    },
    {
     "name": "stdout",
     "output_type": "stream",
     "text": [
      "Make DONE\n",
      "https://github.com/bishworajpoudelofficial/OnlineCProgrammingClass.git\n",
      "repo_name bishworajpoudelofficial_____OnlineCProgrammingClass\n",
      "git clone https://github.com/bishworajpoudelofficial/OnlineCProgrammingClass.git /home/nahid/dataset/clones/bishworajpoudelofficial_____OnlineCProgrammingClass \n"
     ]
    },
    {
     "name": "stderr",
     "output_type": "stream",
     "text": [
      "Cloning into '/home/nahid/dataset/clones/bishworajpoudelofficial_____OnlineCProgrammingClass'...\n"
     ]
    },
    {
     "name": "stdout",
     "output_type": "stream",
     "text": [
      "Make DONE\n",
      "https://github.com/Federico-abss/Lispy.git\n",
      "repo_name Federico-abss_____Lispy\n",
      "git clone https://github.com/Federico-abss/Lispy.git /home/nahid/dataset/clones/Federico-abss_____Lispy \n"
     ]
    },
    {
     "name": "stderr",
     "output_type": "stream",
     "text": [
      "Cloning into '/home/nahid/dataset/clones/Federico-abss_____Lispy'...\n"
     ]
    },
    {
     "name": "stdout",
     "output_type": "stream",
     "text": [
      "Make DONE\n",
      "https://github.com/Heatwave/the-practice-of-programming.git\n",
      "repo_name Heatwave_____the-practice-of-programming\n",
      "git clone https://github.com/Heatwave/the-practice-of-programming.git /home/nahid/dataset/clones/Heatwave_____the-practice-of-programming \n"
     ]
    },
    {
     "name": "stderr",
     "output_type": "stream",
     "text": [
      "Cloning into '/home/nahid/dataset/clones/Heatwave_____the-practice-of-programming'...\n"
     ]
    },
    {
     "name": "stdout",
     "output_type": "stream",
     "text": [
      "Make DONE\n",
      "https://github.com/sachinites/MemoryLeakDetector.git\n",
      "repo_name sachinites_____MemoryLeakDetector\n",
      "git clone https://github.com/sachinites/MemoryLeakDetector.git /home/nahid/dataset/clones/sachinites_____MemoryLeakDetector \n"
     ]
    },
    {
     "name": "stderr",
     "output_type": "stream",
     "text": [
      "Cloning into '/home/nahid/dataset/clones/sachinites_____MemoryLeakDetector'...\n"
     ]
    },
    {
     "name": "stdout",
     "output_type": "stream",
     "text": [
      "Make DONE\n",
      "https://github.com/iancanada/STM32Cube-Cpp-programming-example.git\n",
      "repo_name iancanada_____STM32Cube-Cpp-programming-example\n",
      "git clone https://github.com/iancanada/STM32Cube-Cpp-programming-example.git /home/nahid/dataset/clones/iancanada_____STM32Cube-Cpp-programming-example \n"
     ]
    },
    {
     "name": "stderr",
     "output_type": "stream",
     "text": [
      "Cloning into '/home/nahid/dataset/clones/iancanada_____STM32Cube-Cpp-programming-example'...\n"
     ]
    },
    {
     "name": "stdout",
     "output_type": "stream",
     "text": [
      "Make DONE\n",
      "https://github.com/square-lang/Square.git\n",
      "repo_name square-lang_____Square\n",
      "git clone https://github.com/square-lang/Square.git /home/nahid/dataset/clones/square-lang_____Square \n"
     ]
    },
    {
     "name": "stderr",
     "output_type": "stream",
     "text": [
      "Cloning into '/home/nahid/dataset/clones/square-lang_____Square'...\n"
     ]
    },
    {
     "name": "stdout",
     "output_type": "stream",
     "text": [
      "Make DONE\n",
      "https://github.com/DavidAntliff/esp32-ds18b20.git\n",
      "repo_name DavidAntliff_____esp32-ds18b20\n",
      "git clone https://github.com/DavidAntliff/esp32-ds18b20.git /home/nahid/dataset/clones/DavidAntliff_____esp32-ds18b20 \n"
     ]
    },
    {
     "name": "stderr",
     "output_type": "stream",
     "text": [
      "Cloning into '/home/nahid/dataset/clones/DavidAntliff_____esp32-ds18b20'...\n"
     ]
    },
    {
     "name": "stdout",
     "output_type": "stream",
     "text": [
      "Make DONE\n",
      "https://github.com/pengutronix/microcom.git\n",
      "repo_name pengutronix_____microcom\n",
      "git clone https://github.com/pengutronix/microcom.git /home/nahid/dataset/clones/pengutronix_____microcom \n"
     ]
    },
    {
     "name": "stderr",
     "output_type": "stream",
     "text": [
      "Cloning into '/home/nahid/dataset/clones/pengutronix_____microcom'...\n"
     ]
    },
    {
     "name": "stdout",
     "output_type": "stream",
     "text": [
      "Make DONE\n",
      "https://github.com/INFOTECHSquad/OpenSource-Code.git\n",
      "repo_name INFOTECHSquad_____OpenSource-Code\n",
      "git clone https://github.com/INFOTECHSquad/OpenSource-Code.git /home/nahid/dataset/clones/INFOTECHSquad_____OpenSource-Code \n"
     ]
    },
    {
     "name": "stderr",
     "output_type": "stream",
     "text": [
      "Cloning into '/home/nahid/dataset/clones/INFOTECHSquad_____OpenSource-Code'...\n"
     ]
    },
    {
     "name": "stdout",
     "output_type": "stream",
     "text": [
      "Make DONE\n",
      "https://github.com/davidgiven/cowgol.git\n",
      "repo_name davidgiven_____cowgol\n",
      "git clone https://github.com/davidgiven/cowgol.git /home/nahid/dataset/clones/davidgiven_____cowgol \n"
     ]
    },
    {
     "name": "stderr",
     "output_type": "stream",
     "text": [
      "Cloning into '/home/nahid/dataset/clones/davidgiven_____cowgol'...\n"
     ]
    },
    {
     "name": "stdout",
     "output_type": "stream",
     "text": [
      "Make DONE\n",
      "https://github.com/0x00pf/programming4wannabes.git\n",
      "repo_name 0x00pf_____programming4wannabes\n",
      "git clone https://github.com/0x00pf/programming4wannabes.git /home/nahid/dataset/clones/0x00pf_____programming4wannabes \n"
     ]
    },
    {
     "name": "stderr",
     "output_type": "stream",
     "text": [
      "Cloning into '/home/nahid/dataset/clones/0x00pf_____programming4wannabes'...\n"
     ]
    },
    {
     "name": "stdout",
     "output_type": "stream",
     "text": [
      "Make DONE\n",
      "https://github.com/tokoro10g/galileo-makefile.git\n",
      "repo_name tokoro10g_____galileo-makefile\n",
      "git clone https://github.com/tokoro10g/galileo-makefile.git /home/nahid/dataset/clones/tokoro10g_____galileo-makefile \n"
     ]
    },
    {
     "name": "stderr",
     "output_type": "stream",
     "text": [
      "Cloning into '/home/nahid/dataset/clones/tokoro10g_____galileo-makefile'...\n"
     ]
    },
    {
     "name": "stdout",
     "output_type": "stream",
     "text": [
      "Make DONE\n",
      "https://github.com/Devilbinder/ATMEGA328P_C.git\n",
      "repo_name Devilbinder_____ATMEGA328P_C\n",
      "git clone https://github.com/Devilbinder/ATMEGA328P_C.git /home/nahid/dataset/clones/Devilbinder_____ATMEGA328P_C \n"
     ]
    },
    {
     "name": "stderr",
     "output_type": "stream",
     "text": [
      "Cloning into '/home/nahid/dataset/clones/Devilbinder_____ATMEGA328P_C'...\n"
     ]
    },
    {
     "name": "stdout",
     "output_type": "stream",
     "text": [
      "Make DONE\n",
      "https://github.com/cognate-lang/cognate.git\n",
      "repo_name cognate-lang_____cognate\n",
      "git clone https://github.com/cognate-lang/cognate.git /home/nahid/dataset/clones/cognate-lang_____cognate \n"
     ]
    },
    {
     "name": "stderr",
     "output_type": "stream",
     "text": [
      "Cloning into '/home/nahid/dataset/clones/cognate-lang_____cognate'...\n"
     ]
    },
    {
     "name": "stdout",
     "output_type": "stream",
     "text": [
      "Make DONE\n",
      "https://github.com/samagragupta/C-Codes.git\n",
      "repo_name samagragupta_____C-Codes\n",
      "git clone https://github.com/samagragupta/C-Codes.git /home/nahid/dataset/clones/samagragupta_____C-Codes \n"
     ]
    },
    {
     "name": "stderr",
     "output_type": "stream",
     "text": [
      "Cloning into '/home/nahid/dataset/clones/samagragupta_____C-Codes'...\n"
     ]
    },
    {
     "name": "stdout",
     "output_type": "stream",
     "text": [
      "Make DONE\n",
      "https://github.com/magsilva/proteum.git\n",
      "repo_name magsilva_____proteum\n",
      "git clone https://github.com/magsilva/proteum.git /home/nahid/dataset/clones/magsilva_____proteum \n"
     ]
    },
    {
     "name": "stderr",
     "output_type": "stream",
     "text": [
      "Cloning into '/home/nahid/dataset/clones/magsilva_____proteum'...\n"
     ]
    },
    {
     "name": "stdout",
     "output_type": "stream",
     "text": [
      "Make DONE\n",
      "https://github.com/abhinav-upadhyay/cmonkey.git\n",
      "repo_name abhinav-upadhyay_____cmonkey\n",
      "git clone https://github.com/abhinav-upadhyay/cmonkey.git /home/nahid/dataset/clones/abhinav-upadhyay_____cmonkey \n"
     ]
    },
    {
     "name": "stderr",
     "output_type": "stream",
     "text": [
      "Cloning into '/home/nahid/dataset/clones/abhinav-upadhyay_____cmonkey'...\n"
     ]
    },
    {
     "name": "stdout",
     "output_type": "stream",
     "text": [
      "Make DONE\n",
      "https://github.com/ivogeorg/c-pointer-exercises.git\n",
      "repo_name ivogeorg_____c-pointer-exercises\n",
      "git clone https://github.com/ivogeorg/c-pointer-exercises.git /home/nahid/dataset/clones/ivogeorg_____c-pointer-exercises \n"
     ]
    },
    {
     "name": "stderr",
     "output_type": "stream",
     "text": [
      "Cloning into '/home/nahid/dataset/clones/ivogeorg_____c-pointer-exercises'...\n"
     ]
    },
    {
     "name": "stdout",
     "output_type": "stream",
     "text": [
      "Make DONE\n",
      "https://github.com/iot-lab-kiit/tasks.c.git\n",
      "repo_name iot-lab-kiit_____tasks.c\n",
      "git clone https://github.com/iot-lab-kiit/tasks.c.git /home/nahid/dataset/clones/iot-lab-kiit_____tasks.c \n"
     ]
    },
    {
     "name": "stderr",
     "output_type": "stream",
     "text": [
      "Cloning into '/home/nahid/dataset/clones/iot-lab-kiit_____tasks.c'...\n"
     ]
    },
    {
     "name": "stdout",
     "output_type": "stream",
     "text": [
      "Make DONE\n",
      "https://github.com/btleafar/42.git\n",
      "repo_name btleafar_____42\n",
      "git clone https://github.com/btleafar/42.git /home/nahid/dataset/clones/btleafar_____42 \n"
     ]
    },
    {
     "name": "stderr",
     "output_type": "stream",
     "text": [
      "Cloning into '/home/nahid/dataset/clones/btleafar_____42'...\n",
      "Updating files: 100% (819/819), done.\n"
     ]
    },
    {
     "name": "stdout",
     "output_type": "stream",
     "text": [
      "Make DONE\n",
      "https://github.com/dariusrenj/IQT-C-Programming.git\n",
      "repo_name dariusrenj_____IQT-C-Programming\n",
      "git clone https://github.com/dariusrenj/IQT-C-Programming.git /home/nahid/dataset/clones/dariusrenj_____IQT-C-Programming \n"
     ]
    },
    {
     "name": "stderr",
     "output_type": "stream",
     "text": [
      "Cloning into '/home/nahid/dataset/clones/dariusrenj_____IQT-C-Programming'...\n"
     ]
    },
    {
     "name": "stdout",
     "output_type": "stream",
     "text": [
      "Make DONE\n",
      "https://github.com/BartmanAbyss/vscode-amiga-debug.git\n",
      "repo_name BartmanAbyss_____vscode-amiga-debug\n",
      "git clone https://github.com/BartmanAbyss/vscode-amiga-debug.git /home/nahid/dataset/clones/BartmanAbyss_____vscode-amiga-debug \n"
     ]
    },
    {
     "name": "stderr",
     "output_type": "stream",
     "text": [
      "Cloning into '/home/nahid/dataset/clones/BartmanAbyss_____vscode-amiga-debug'...\n"
     ]
    },
    {
     "name": "stdout",
     "output_type": "stream",
     "text": [
      "Timeout for # git clone https://github.com/BartmanAbyss/vscode-amiga-debug.git /home/nahid/dataset/clones/BartmanAbyss_____vscode-amiga-debug   # (120s) expired\n",
      "https://github.com/happyincent/Functional-Programming-in-C.git\n",
      "repo_name happyincent_____Functional-Programming-in-C\n",
      "git clone https://github.com/happyincent/Functional-Programming-in-C.git /home/nahid/dataset/clones/happyincent_____Functional-Programming-in-C \n"
     ]
    },
    {
     "name": "stderr",
     "output_type": "stream",
     "text": [
      "fetch-pack: unexpected disconnect while reading sideband packet\n",
      "Cloning into '/home/nahid/dataset/clones/happyincent_____Functional-Programming-in-C'...\n"
     ]
    },
    {
     "name": "stdout",
     "output_type": "stream",
     "text": [
      "Make DONE\n",
      "https://github.com/aartamonau/cdecl.git\n",
      "repo_name aartamonau_____cdecl\n",
      "git clone https://github.com/aartamonau/cdecl.git /home/nahid/dataset/clones/aartamonau_____cdecl \n"
     ]
    },
    {
     "name": "stderr",
     "output_type": "stream",
     "text": [
      "Cloning into '/home/nahid/dataset/clones/aartamonau_____cdecl'...\n"
     ]
    },
    {
     "name": "stdout",
     "output_type": "stream",
     "text": [
      "Make DONE\n",
      "https://github.com/OpenBXI/bxibase.git\n",
      "repo_name OpenBXI_____bxibase\n",
      "git clone https://github.com/OpenBXI/bxibase.git /home/nahid/dataset/clones/OpenBXI_____bxibase \n"
     ]
    },
    {
     "name": "stderr",
     "output_type": "stream",
     "text": [
      "Cloning into '/home/nahid/dataset/clones/OpenBXI_____bxibase'...\n"
     ]
    },
    {
     "name": "stdout",
     "output_type": "stream",
     "text": [
      "Make DONE\n",
      "https://github.com/elvind007/C-programming.git\n",
      "repo_name elvind007_____C-programming\n",
      "git clone https://github.com/elvind007/C-programming.git /home/nahid/dataset/clones/elvind007_____C-programming \n"
     ]
    },
    {
     "name": "stderr",
     "output_type": "stream",
     "text": [
      "Cloning into '/home/nahid/dataset/clones/elvind007_____C-programming'...\n"
     ]
    },
    {
     "name": "stdout",
     "output_type": "stream",
     "text": [
      "Make DONE\n",
      "https://github.com/spencerzhang91/CPrimerPlus.git\n",
      "repo_name spencerzhang91_____CPrimerPlus\n",
      "git clone https://github.com/spencerzhang91/CPrimerPlus.git /home/nahid/dataset/clones/spencerzhang91_____CPrimerPlus \n"
     ]
    },
    {
     "name": "stderr",
     "output_type": "stream",
     "text": [
      "Cloning into '/home/nahid/dataset/clones/spencerzhang91_____CPrimerPlus'...\n"
     ]
    },
    {
     "name": "stdout",
     "output_type": "stream",
     "text": [
      "Make DONE\n",
      "https://github.com/robertdavidgraham/sockdoc.git\n",
      "repo_name robertdavidgraham_____sockdoc\n",
      "git clone https://github.com/robertdavidgraham/sockdoc.git /home/nahid/dataset/clones/robertdavidgraham_____sockdoc \n"
     ]
    },
    {
     "name": "stderr",
     "output_type": "stream",
     "text": [
      "Cloning into '/home/nahid/dataset/clones/robertdavidgraham_____sockdoc'...\n"
     ]
    },
    {
     "name": "stdout",
     "output_type": "stream",
     "text": [
      "Make DONE\n",
      "https://github.com/inspirezonetech/TeachMeCLikeIm5.git\n",
      "repo_name inspirezonetech_____TeachMeCLikeIm5\n",
      "git clone https://github.com/inspirezonetech/TeachMeCLikeIm5.git /home/nahid/dataset/clones/inspirezonetech_____TeachMeCLikeIm5 \n"
     ]
    },
    {
     "name": "stderr",
     "output_type": "stream",
     "text": [
      "Cloning into '/home/nahid/dataset/clones/inspirezonetech_____TeachMeCLikeIm5'...\n"
     ]
    },
    {
     "name": "stdout",
     "output_type": "stream",
     "text": [
      "Make DONE\n",
      "https://github.com/randomstuff/elfcat.git\n",
      "repo_name randomstuff_____elfcat\n",
      "git clone https://github.com/randomstuff/elfcat.git /home/nahid/dataset/clones/randomstuff_____elfcat \n"
     ]
    },
    {
     "name": "stderr",
     "output_type": "stream",
     "text": [
      "Cloning into '/home/nahid/dataset/clones/randomstuff_____elfcat'...\n"
     ]
    },
    {
     "name": "stdout",
     "output_type": "stream",
     "text": [
      "Make DONE\n",
      "https://github.com/miguelrochajr/ParallelProgramming.git\n",
      "repo_name miguelrochajr_____ParallelProgramming\n",
      "git clone https://github.com/miguelrochajr/ParallelProgramming.git /home/nahid/dataset/clones/miguelrochajr_____ParallelProgramming \n"
     ]
    },
    {
     "name": "stderr",
     "output_type": "stream",
     "text": [
      "Cloning into '/home/nahid/dataset/clones/miguelrochajr_____ParallelProgramming'...\n"
     ]
    },
    {
     "name": "stdout",
     "output_type": "stream",
     "text": [
      "Make DONE\n",
      "https://github.com/kartikgandhi/c-programs-basics.git\n",
      "repo_name kartikgandhi_____c-programs-basics\n",
      "git clone https://github.com/kartikgandhi/c-programs-basics.git /home/nahid/dataset/clones/kartikgandhi_____c-programs-basics \n"
     ]
    },
    {
     "name": "stderr",
     "output_type": "stream",
     "text": [
      "Cloning into '/home/nahid/dataset/clones/kartikgandhi_____c-programs-basics'...\n"
     ]
    },
    {
     "name": "stdout",
     "output_type": "stream",
     "text": [
      "Make DONE\n",
      "https://github.com/meriac/baremetal-c.git\n",
      "repo_name meriac_____baremetal-c\n",
      "git clone https://github.com/meriac/baremetal-c.git /home/nahid/dataset/clones/meriac_____baremetal-c \n"
     ]
    },
    {
     "name": "stderr",
     "output_type": "stream",
     "text": [
      "Cloning into '/home/nahid/dataset/clones/meriac_____baremetal-c'...\n"
     ]
    },
    {
     "name": "stdout",
     "output_type": "stream",
     "text": [
      "Make DONE\n",
      "https://github.com/spec-chum/Amiga-Scoopex-C.git\n",
      "repo_name spec-chum_____Amiga-Scoopex-C\n",
      "git clone https://github.com/spec-chum/Amiga-Scoopex-C.git /home/nahid/dataset/clones/spec-chum_____Amiga-Scoopex-C \n"
     ]
    },
    {
     "name": "stderr",
     "output_type": "stream",
     "text": [
      "Cloning into '/home/nahid/dataset/clones/spec-chum_____Amiga-Scoopex-C'...\n"
     ]
    },
    {
     "name": "stdout",
     "output_type": "stream",
     "text": [
      "Make DONE\n",
      "https://github.com/capablevms/cheri-examples.git\n",
      "repo_name capablevms_____cheri-examples\n",
      "git clone https://github.com/capablevms/cheri-examples.git /home/nahid/dataset/clones/capablevms_____cheri-examples \n"
     ]
    },
    {
     "name": "stderr",
     "output_type": "stream",
     "text": [
      "Cloning into '/home/nahid/dataset/clones/capablevms_____cheri-examples'...\n"
     ]
    },
    {
     "name": "stdout",
     "output_type": "stream",
     "text": [
      "Make DONE\n",
      "https://github.com/carld/lispkit.git\n",
      "repo_name carld_____lispkit\n",
      "git clone https://github.com/carld/lispkit.git /home/nahid/dataset/clones/carld_____lispkit \n"
     ]
    },
    {
     "name": "stderr",
     "output_type": "stream",
     "text": [
      "Cloning into '/home/nahid/dataset/clones/carld_____lispkit'...\n"
     ]
    },
    {
     "name": "stdout",
     "output_type": "stream",
     "text": [
      "Make DONE\n",
      "https://github.com/cupnes/c92_uefi_bare_metal_programming_samples.git\n",
      "repo_name cupnes_____c92_uefi_bare_metal_programming_samples\n",
      "git clone https://github.com/cupnes/c92_uefi_bare_metal_programming_samples.git /home/nahid/dataset/clones/cupnes_____c92_uefi_bare_metal_programming_samples \n"
     ]
    },
    {
     "name": "stderr",
     "output_type": "stream",
     "text": [
      "Cloning into '/home/nahid/dataset/clones/cupnes_____c92_uefi_bare_metal_programming_samples'...\n"
     ]
    },
    {
     "name": "stdout",
     "output_type": "stream",
     "text": [
      "Make DONE\n",
      "https://github.com/jeetendrabhattad/C_Programs.git\n",
      "repo_name jeetendrabhattad_____C_Programs\n",
      "git clone https://github.com/jeetendrabhattad/C_Programs.git /home/nahid/dataset/clones/jeetendrabhattad_____C_Programs \n"
     ]
    },
    {
     "name": "stderr",
     "output_type": "stream",
     "text": [
      "Cloning into '/home/nahid/dataset/clones/jeetendrabhattad_____C_Programs'...\n"
     ]
    },
    {
     "name": "stdout",
     "output_type": "stream",
     "text": [
      "Make DONE\n",
      "https://github.com/optiklab/multithreaded-network-programming-examples.git\n",
      "repo_name optiklab_____multithreaded-network-programming-examples\n",
      "git clone https://github.com/optiklab/multithreaded-network-programming-examples.git /home/nahid/dataset/clones/optiklab_____multithreaded-network-programming-examples \n"
     ]
    },
    {
     "name": "stderr",
     "output_type": "stream",
     "text": [
      "Cloning into '/home/nahid/dataset/clones/optiklab_____multithreaded-network-programming-examples'...\n"
     ]
    },
    {
     "name": "stdout",
     "output_type": "stream",
     "text": [
      "Make DONE\n",
      "https://github.com/Esraq/structurred_programming.git\n",
      "repo_name Esraq_____structurred_programming\n",
      "git clone https://github.com/Esraq/structurred_programming.git /home/nahid/dataset/clones/Esraq_____structurred_programming \n"
     ]
    },
    {
     "name": "stderr",
     "output_type": "stream",
     "text": [
      "Cloning into '/home/nahid/dataset/clones/Esraq_____structurred_programming'...\n"
     ]
    },
    {
     "name": "stdout",
     "output_type": "stream",
     "text": [
      "Make DONE\n",
      "https://github.com/dbc2201/Immersion2k19_C.git\n",
      "repo_name dbc2201_____Immersion2k19_C\n",
      "git clone https://github.com/dbc2201/Immersion2k19_C.git /home/nahid/dataset/clones/dbc2201_____Immersion2k19_C \n"
     ]
    },
    {
     "name": "stderr",
     "output_type": "stream",
     "text": [
      "Cloning into '/home/nahid/dataset/clones/dbc2201_____Immersion2k19_C'...\n"
     ]
    },
    {
     "name": "stdout",
     "output_type": "stream",
     "text": [
      "Make DONE\n",
      "https://github.com/timojaask/C-CANopen-Stack.git\n",
      "repo_name timojaask_____C-CANopen-Stack\n",
      "git clone https://github.com/timojaask/C-CANopen-Stack.git /home/nahid/dataset/clones/timojaask_____C-CANopen-Stack \n"
     ]
    },
    {
     "name": "stderr",
     "output_type": "stream",
     "text": [
      "Cloning into '/home/nahid/dataset/clones/timojaask_____C-CANopen-Stack'...\n"
     ]
    },
    {
     "name": "stdout",
     "output_type": "stream",
     "text": [
      "Make DONE\n",
      "https://github.com/sverx/devkitSMS.git\n",
      "repo_name sverx_____devkitSMS\n",
      "git clone https://github.com/sverx/devkitSMS.git /home/nahid/dataset/clones/sverx_____devkitSMS \n"
     ]
    },
    {
     "name": "stderr",
     "output_type": "stream",
     "text": [
      "Cloning into '/home/nahid/dataset/clones/sverx_____devkitSMS'...\n"
     ]
    },
    {
     "name": "stdout",
     "output_type": "stream",
     "text": [
      "Make DONE\n",
      "https://github.com/Biswa96/PDBDownloader.git\n",
      "repo_name Biswa96_____PDBDownloader\n",
      "git clone https://github.com/Biswa96/PDBDownloader.git /home/nahid/dataset/clones/Biswa96_____PDBDownloader \n"
     ]
    },
    {
     "name": "stderr",
     "output_type": "stream",
     "text": [
      "Cloning into '/home/nahid/dataset/clones/Biswa96_____PDBDownloader'...\n"
     ]
    },
    {
     "name": "stdout",
     "output_type": "stream",
     "text": [
      "Make DONE\n",
      "https://github.com/pshashipreetham/File-Transfer-Using-TCP-Socket-in-C-Socket-Programming.git\n",
      "repo_name pshashipreetham_____File-Transfer-Using-TCP-Socket-in-C-Socket-Programming\n",
      "git clone https://github.com/pshashipreetham/File-Transfer-Using-TCP-Socket-in-C-Socket-Programming.git /home/nahid/dataset/clones/pshashipreetham_____File-Transfer-Using-TCP-Socket-in-C-Socket-Programming \n"
     ]
    },
    {
     "name": "stderr",
     "output_type": "stream",
     "text": [
      "Cloning into '/home/nahid/dataset/clones/pshashipreetham_____File-Transfer-Using-TCP-Socket-in-C-Socket-Programming'...\n"
     ]
    },
    {
     "name": "stdout",
     "output_type": "stream",
     "text": [
      "Make DONE\n",
      "https://github.com/tpoisot/CUDA-training.git\n",
      "repo_name tpoisot_____CUDA-training\n",
      "git clone https://github.com/tpoisot/CUDA-training.git /home/nahid/dataset/clones/tpoisot_____CUDA-training \n"
     ]
    },
    {
     "name": "stderr",
     "output_type": "stream",
     "text": [
      "Cloning into '/home/nahid/dataset/clones/tpoisot_____CUDA-training'...\n"
     ]
    },
    {
     "name": "stdout",
     "output_type": "stream",
     "text": [
      "Make DONE\n",
      "https://github.com/Jaytru1997/alx-low_level_programming.git\n",
      "repo_name Jaytru1997_____alx-low_level_programming\n",
      "git clone https://github.com/Jaytru1997/alx-low_level_programming.git /home/nahid/dataset/clones/Jaytru1997_____alx-low_level_programming \n"
     ]
    },
    {
     "name": "stderr",
     "output_type": "stream",
     "text": [
      "Cloning into '/home/nahid/dataset/clones/Jaytru1997_____alx-low_level_programming'...\n"
     ]
    },
    {
     "name": "stdout",
     "output_type": "stream",
     "text": [
      "Make DONE\n",
      "https://github.com/Buchii0/alx-low_level_programming.git\n",
      "repo_name Buchii0_____alx-low_level_programming\n",
      "git clone https://github.com/Buchii0/alx-low_level_programming.git /home/nahid/dataset/clones/Buchii0_____alx-low_level_programming \n"
     ]
    },
    {
     "name": "stderr",
     "output_type": "stream",
     "text": [
      "Cloning into '/home/nahid/dataset/clones/Buchii0_____alx-low_level_programming'...\n"
     ]
    },
    {
     "name": "stdout",
     "output_type": "stream",
     "text": [
      "Make DONE\n",
      "https://github.com/mcinglis/libpp.git\n",
      "repo_name mcinglis_____libpp\n",
      "git clone https://github.com/mcinglis/libpp.git /home/nahid/dataset/clones/mcinglis_____libpp \n"
     ]
    },
    {
     "name": "stderr",
     "output_type": "stream",
     "text": [
      "Cloning into '/home/nahid/dataset/clones/mcinglis_____libpp'...\n"
     ]
    },
    {
     "name": "stdout",
     "output_type": "stream",
     "text": [
      "Make DONE\n",
      "https://github.com/danielaloperahernandez/printf.git\n",
      "repo_name danielaloperahernandez_____printf\n",
      "git clone https://github.com/danielaloperahernandez/printf.git /home/nahid/dataset/clones/danielaloperahernandez_____printf \n"
     ]
    },
    {
     "name": "stderr",
     "output_type": "stream",
     "text": [
      "Cloning into '/home/nahid/dataset/clones/danielaloperahernandez_____printf'...\n"
     ]
    },
    {
     "name": "stdout",
     "output_type": "stream",
     "text": [
      "Make DONE\n",
      "https://github.com/Goutam1511/Socket-Programming-with-C.git\n",
      "repo_name Goutam1511_____Socket-Programming-with-C\n",
      "git clone https://github.com/Goutam1511/Socket-Programming-with-C.git /home/nahid/dataset/clones/Goutam1511_____Socket-Programming-with-C \n"
     ]
    },
    {
     "name": "stderr",
     "output_type": "stream",
     "text": [
      "Cloning into '/home/nahid/dataset/clones/Goutam1511_____Socket-Programming-with-C'...\n"
     ]
    },
    {
     "name": "stdout",
     "output_type": "stream",
     "text": [
      "Make DONE\n",
      "https://github.com/adam2392/ieee_micromouse.git\n",
      "repo_name adam2392_____ieee_micromouse\n",
      "git clone https://github.com/adam2392/ieee_micromouse.git /home/nahid/dataset/clones/adam2392_____ieee_micromouse \n"
     ]
    },
    {
     "name": "stderr",
     "output_type": "stream",
     "text": [
      "Cloning into '/home/nahid/dataset/clones/adam2392_____ieee_micromouse'...\n"
     ]
    },
    {
     "name": "stdout",
     "output_type": "stream",
     "text": [
      "Make DONE\n",
      "https://github.com/paulmcquad/C.git\n",
      "repo_name paulmcquad_____C\n",
      "git clone https://github.com/paulmcquad/C.git /home/nahid/dataset/clones/paulmcquad_____C \n"
     ]
    },
    {
     "name": "stderr",
     "output_type": "stream",
     "text": [
      "Cloning into '/home/nahid/dataset/clones/paulmcquad_____C'...\n"
     ]
    },
    {
     "name": "stdout",
     "output_type": "stream",
     "text": [
      "Make DONE\n",
      "https://github.com/arman-bd/c-program.git\n",
      "repo_name arman-bd_____c-program\n",
      "git clone https://github.com/arman-bd/c-program.git /home/nahid/dataset/clones/arman-bd_____c-program \n"
     ]
    },
    {
     "name": "stderr",
     "output_type": "stream",
     "text": [
      "Cloning into '/home/nahid/dataset/clones/arman-bd_____c-program'...\n"
     ]
    },
    {
     "name": "stdout",
     "output_type": "stream",
     "text": [
      "Make DONE\n",
      "https://github.com/nickng/sessc.git\n",
      "repo_name nickng_____sessc\n",
      "git clone https://github.com/nickng/sessc.git /home/nahid/dataset/clones/nickng_____sessc \n"
     ]
    },
    {
     "name": "stderr",
     "output_type": "stream",
     "text": [
      "Cloning into '/home/nahid/dataset/clones/nickng_____sessc'...\n"
     ]
    },
    {
     "name": "stdout",
     "output_type": "stream",
     "text": [
      "Make DONE\n",
      "https://github.com/Denton-L/based-connect.git\n",
      "repo_name Denton-L_____based-connect\n",
      "git clone https://github.com/Denton-L/based-connect.git /home/nahid/dataset/clones/Denton-L_____based-connect \n"
     ]
    },
    {
     "name": "stderr",
     "output_type": "stream",
     "text": [
      "Cloning into '/home/nahid/dataset/clones/Denton-L_____based-connect'...\n"
     ]
    },
    {
     "name": "stdout",
     "output_type": "stream",
     "text": [
      "Make DONE\n",
      "https://github.com/YohannesGetu/alx-low_level_programming.git\n",
      "repo_name YohannesGetu_____alx-low_level_programming\n",
      "git clone https://github.com/YohannesGetu/alx-low_level_programming.git /home/nahid/dataset/clones/YohannesGetu_____alx-low_level_programming \n"
     ]
    },
    {
     "name": "stderr",
     "output_type": "stream",
     "text": [
      "Cloning into '/home/nahid/dataset/clones/YohannesGetu_____alx-low_level_programming'...\n"
     ]
    },
    {
     "name": "stdout",
     "output_type": "stream",
     "text": [
      "Make DONE\n",
      "https://github.com/Ashutosh1069/c-questions.git\n",
      "repo_name Ashutosh1069_____c-questions\n",
      "git clone https://github.com/Ashutosh1069/c-questions.git /home/nahid/dataset/clones/Ashutosh1069_____c-questions \n"
     ]
    },
    {
     "name": "stderr",
     "output_type": "stream",
     "text": [
      "Cloning into '/home/nahid/dataset/clones/Ashutosh1069_____c-questions'...\n"
     ]
    },
    {
     "name": "stdout",
     "output_type": "stream",
     "text": [
      "Make DONE\n",
      "https://github.com/nwhator/alx-low_level_programming.git\n",
      "repo_name nwhator_____alx-low_level_programming\n",
      "git clone https://github.com/nwhator/alx-low_level_programming.git /home/nahid/dataset/clones/nwhator_____alx-low_level_programming \n"
     ]
    },
    {
     "name": "stderr",
     "output_type": "stream",
     "text": [
      "Cloning into '/home/nahid/dataset/clones/nwhator_____alx-low_level_programming'...\n"
     ]
    },
    {
     "name": "stdout",
     "output_type": "stream",
     "text": [
      "Make DONE\n",
      "https://github.com/satuelisa/C.git\n",
      "repo_name satuelisa_____C\n",
      "git clone https://github.com/satuelisa/C.git /home/nahid/dataset/clones/satuelisa_____C \n"
     ]
    },
    {
     "name": "stderr",
     "output_type": "stream",
     "text": [
      "Cloning into '/home/nahid/dataset/clones/satuelisa_____C'...\n"
     ]
    },
    {
     "name": "stdout",
     "output_type": "stream",
     "text": [
      "Make DONE\n",
      "https://github.com/luapp-org/luapp.git\n",
      "repo_name luapp-org_____luapp\n",
      "git clone https://github.com/luapp-org/luapp.git /home/nahid/dataset/clones/luapp-org_____luapp \n"
     ]
    },
    {
     "name": "stderr",
     "output_type": "stream",
     "text": [
      "Cloning into '/home/nahid/dataset/clones/luapp-org_____luapp'...\n"
     ]
    },
    {
     "name": "stdout",
     "output_type": "stream",
     "text": [
      "Make DONE\n",
      "https://github.com/kostas-s/DUKE-C-Programming.git\n",
      "repo_name kostas-s_____DUKE-C-Programming\n",
      "git clone https://github.com/kostas-s/DUKE-C-Programming.git /home/nahid/dataset/clones/kostas-s_____DUKE-C-Programming \n"
     ]
    },
    {
     "name": "stderr",
     "output_type": "stream",
     "text": [
      "Cloning into '/home/nahid/dataset/clones/kostas-s_____DUKE-C-Programming'...\n"
     ]
    },
    {
     "name": "stdout",
     "output_type": "stream",
     "text": [
      "Make DONE\n",
      "https://github.com/IumoInfinium/hacktober21-C-Programming.git\n",
      "repo_name IumoInfinium_____hacktober21-C-Programming\n",
      "git clone https://github.com/IumoInfinium/hacktober21-C-Programming.git /home/nahid/dataset/clones/IumoInfinium_____hacktober21-C-Programming \n"
     ]
    },
    {
     "name": "stderr",
     "output_type": "stream",
     "text": [
      "Cloning into '/home/nahid/dataset/clones/IumoInfinium_____hacktober21-C-Programming'...\n"
     ]
    },
    {
     "name": "stdout",
     "output_type": "stream",
     "text": [
      "Make DONE\n",
      "https://github.com/Itsfoss0/alx-low_level_programming.git\n",
      "repo_name Itsfoss0_____alx-low_level_programming\n",
      "git clone https://github.com/Itsfoss0/alx-low_level_programming.git /home/nahid/dataset/clones/Itsfoss0_____alx-low_level_programming \n"
     ]
    },
    {
     "name": "stderr",
     "output_type": "stream",
     "text": [
      "Cloning into '/home/nahid/dataset/clones/Itsfoss0_____alx-low_level_programming'...\n"
     ]
    },
    {
     "name": "stdout",
     "output_type": "stream",
     "text": [
      "Make DONE\n",
      "https://github.com/kamiyaa/ruiji.git\n",
      "repo_name kamiyaa_____ruiji\n",
      "git clone https://github.com/kamiyaa/ruiji.git /home/nahid/dataset/clones/kamiyaa_____ruiji \n"
     ]
    },
    {
     "name": "stderr",
     "output_type": "stream",
     "text": [
      "Cloning into '/home/nahid/dataset/clones/kamiyaa_____ruiji'...\n"
     ]
    },
    {
     "name": "stdout",
     "output_type": "stream",
     "text": [
      "Make DONE\n",
      "https://github.com/abhaygoswami/Sorting.git\n",
      "repo_name abhaygoswami_____Sorting\n",
      "git clone https://github.com/abhaygoswami/Sorting.git /home/nahid/dataset/clones/abhaygoswami_____Sorting \n"
     ]
    },
    {
     "name": "stderr",
     "output_type": "stream",
     "text": [
      "Cloning into '/home/nahid/dataset/clones/abhaygoswami_____Sorting'...\n"
     ]
    },
    {
     "name": "stdout",
     "output_type": "stream",
     "text": [
      "Make DONE\n",
      "https://github.com/michaelkolesidis/learnc.git\n",
      "repo_name michaelkolesidis_____learnc\n",
      "git clone https://github.com/michaelkolesidis/learnc.git /home/nahid/dataset/clones/michaelkolesidis_____learnc \n"
     ]
    },
    {
     "name": "stderr",
     "output_type": "stream",
     "text": [
      "Cloning into '/home/nahid/dataset/clones/michaelkolesidis_____learnc'...\n"
     ]
    },
    {
     "name": "stdout",
     "output_type": "stream",
     "text": [
      "Make DONE\n",
      "https://github.com/suyunu/c-notes.git\n",
      "repo_name suyunu_____c-notes\n",
      "git clone https://github.com/suyunu/c-notes.git /home/nahid/dataset/clones/suyunu_____c-notes \n"
     ]
    },
    {
     "name": "stderr",
     "output_type": "stream",
     "text": [
      "Cloning into '/home/nahid/dataset/clones/suyunu_____c-notes'...\n"
     ]
    },
    {
     "name": "stdout",
     "output_type": "stream",
     "text": [
      "Make DONE\n",
      "https://github.com/junaid1460/cprogram.git\n",
      "repo_name junaid1460_____cprogram\n",
      "git clone https://github.com/junaid1460/cprogram.git /home/nahid/dataset/clones/junaid1460_____cprogram \n"
     ]
    },
    {
     "name": "stderr",
     "output_type": "stream",
     "text": [
      "Cloning into '/home/nahid/dataset/clones/junaid1460_____cprogram'...\n"
     ]
    },
    {
     "name": "stdout",
     "output_type": "stream",
     "text": [
      "Make DONE\n",
      "https://github.com/pingles/c-programming-a-modern-approach.git\n",
      "repo_name pingles_____c-programming-a-modern-approach\n",
      "git clone https://github.com/pingles/c-programming-a-modern-approach.git /home/nahid/dataset/clones/pingles_____c-programming-a-modern-approach \n"
     ]
    },
    {
     "name": "stderr",
     "output_type": "stream",
     "text": [
      "Cloning into '/home/nahid/dataset/clones/pingles_____c-programming-a-modern-approach'...\n"
     ]
    },
    {
     "name": "stdout",
     "output_type": "stream",
     "text": [
      "Make DONE\n",
      "https://github.com/NVIDIA/NVTX.git\n",
      "repo_name NVIDIA_____NVTX\n",
      "git clone https://github.com/NVIDIA/NVTX.git /home/nahid/dataset/clones/NVIDIA_____NVTX \n"
     ]
    },
    {
     "name": "stderr",
     "output_type": "stream",
     "text": [
      "Cloning into '/home/nahid/dataset/clones/NVIDIA_____NVTX'...\n"
     ]
    },
    {
     "name": "stdout",
     "output_type": "stream",
     "text": [
      "Make DONE\n",
      "https://github.com/HamaBarhamou/alx-low_level_programming.git\n",
      "repo_name HamaBarhamou_____alx-low_level_programming\n",
      "git clone https://github.com/HamaBarhamou/alx-low_level_programming.git /home/nahid/dataset/clones/HamaBarhamou_____alx-low_level_programming \n"
     ]
    },
    {
     "name": "stderr",
     "output_type": "stream",
     "text": [
      "Cloning into '/home/nahid/dataset/clones/HamaBarhamou_____alx-low_level_programming'...\n"
     ]
    },
    {
     "name": "stdout",
     "output_type": "stream",
     "text": [
      "Make DONE\n",
      "https://github.com/Karlie-crypto/alx-low_level_programming.git\n",
      "repo_name Karlie-crypto_____alx-low_level_programming\n",
      "git clone https://github.com/Karlie-crypto/alx-low_level_programming.git /home/nahid/dataset/clones/Karlie-crypto_____alx-low_level_programming \n"
     ]
    },
    {
     "name": "stderr",
     "output_type": "stream",
     "text": [
      "Cloning into '/home/nahid/dataset/clones/Karlie-crypto_____alx-low_level_programming'...\n"
     ]
    },
    {
     "name": "stdout",
     "output_type": "stream",
     "text": [
      "Make DONE\n",
      "https://github.com/throwaway-root/DataStructers.git\n",
      "repo_name throwaway-root_____DataStructers\n",
      "git clone https://github.com/throwaway-root/DataStructers.git /home/nahid/dataset/clones/throwaway-root_____DataStructers \n"
     ]
    },
    {
     "name": "stderr",
     "output_type": "stream",
     "text": [
      "Cloning into '/home/nahid/dataset/clones/throwaway-root_____DataStructers'...\n"
     ]
    },
    {
     "name": "stdout",
     "output_type": "stream",
     "text": [
      "Make DONE\n",
      "https://github.com/Algorithm-archive/Learn-Data_Structure-Algorithm-by-C.git\n",
      "repo_name Algorithm-archive_____Learn-Data_Structure-Algorithm-by-C\n",
      "git clone https://github.com/Algorithm-archive/Learn-Data_Structure-Algorithm-by-C.git /home/nahid/dataset/clones/Algorithm-archive_____Learn-Data_Structure-Algorithm-by-C \n"
     ]
    },
    {
     "name": "stderr",
     "output_type": "stream",
     "text": [
      "Cloning into '/home/nahid/dataset/clones/Algorithm-archive_____Learn-Data_Structure-Algorithm-by-C'...\n"
     ]
    },
    {
     "name": "stdout",
     "output_type": "stream",
     "text": [
      "Make DONE\n",
      "https://github.com/Kalyoncuguller/c_language_zer0_to_hero.git\n",
      "repo_name Kalyoncuguller_____c_language_zer0_to_hero\n",
      "git clone https://github.com/Kalyoncuguller/c_language_zer0_to_hero.git /home/nahid/dataset/clones/Kalyoncuguller_____c_language_zer0_to_hero \n"
     ]
    },
    {
     "name": "stderr",
     "output_type": "stream",
     "text": [
      "Cloning into '/home/nahid/dataset/clones/Kalyoncuguller_____c_language_zer0_to_hero'...\n"
     ]
    },
    {
     "name": "stdout",
     "output_type": "stream",
     "text": [
      "Make DONE\n",
      "https://github.com/msambinelli/KnR_The_C_Programming_Language.git\n",
      "repo_name msambinelli_____KnR_The_C_Programming_Language\n",
      "git clone https://github.com/msambinelli/KnR_The_C_Programming_Language.git /home/nahid/dataset/clones/msambinelli_____KnR_The_C_Programming_Language \n"
     ]
    },
    {
     "name": "stderr",
     "output_type": "stream",
     "text": [
      "Cloning into '/home/nahid/dataset/clones/msambinelli_____KnR_The_C_Programming_Language'...\n"
     ]
    },
    {
     "name": "stdout",
     "output_type": "stream",
     "text": [
      "Make DONE\n",
      "https://github.com/Mosina916/Chitkara-university-c-programming.git\n",
      "repo_name Mosina916_____Chitkara-university-c-programming\n",
      "git clone https://github.com/Mosina916/Chitkara-university-c-programming.git /home/nahid/dataset/clones/Mosina916_____Chitkara-university-c-programming \n"
     ]
    },
    {
     "name": "stderr",
     "output_type": "stream",
     "text": [
      "Cloning into '/home/nahid/dataset/clones/Mosina916_____Chitkara-university-c-programming'...\n"
     ]
    },
    {
     "name": "stdout",
     "output_type": "stream",
     "text": [
      "Make DONE\n",
      "https://github.com/Barry-xc/TCP-IP-SocketProgramming.git\n",
      "repo_name Barry-xc_____TCP-IP-SocketProgramming\n",
      "git clone https://github.com/Barry-xc/TCP-IP-SocketProgramming.git /home/nahid/dataset/clones/Barry-xc_____TCP-IP-SocketProgramming \n"
     ]
    },
    {
     "name": "stderr",
     "output_type": "stream",
     "text": [
      "Cloning into '/home/nahid/dataset/clones/Barry-xc_____TCP-IP-SocketProgramming'...\n"
     ]
    },
    {
     "name": "stdout",
     "output_type": "stream",
     "text": [
      "Make DONE\n",
      "https://github.com/coderMikhael/C-BASICS.git\n",
      "repo_name coderMikhael_____C-BASICS\n",
      "git clone https://github.com/coderMikhael/C-BASICS.git /home/nahid/dataset/clones/coderMikhael_____C-BASICS \n"
     ]
    },
    {
     "name": "stderr",
     "output_type": "stream",
     "text": [
      "Cloning into '/home/nahid/dataset/clones/coderMikhael_____C-BASICS'...\n"
     ]
    },
    {
     "name": "stdout",
     "output_type": "stream",
     "text": [
      "Make DONE\n",
      "https://github.com/CleanMachine1/DollarSkip.git\n",
      "repo_name CleanMachine1_____DollarSkip\n",
      "git clone https://github.com/CleanMachine1/DollarSkip.git /home/nahid/dataset/clones/CleanMachine1_____DollarSkip \n"
     ]
    },
    {
     "name": "stderr",
     "output_type": "stream",
     "text": [
      "Cloning into '/home/nahid/dataset/clones/CleanMachine1_____DollarSkip'...\n"
     ]
    },
    {
     "name": "stdout",
     "output_type": "stream",
     "text": [
      "Make DONE\n",
      "https://github.com/weiju/amiga_hardware_in_c.git\n",
      "repo_name weiju_____amiga_hardware_in_c\n",
      "git clone https://github.com/weiju/amiga_hardware_in_c.git /home/nahid/dataset/clones/weiju_____amiga_hardware_in_c \n"
     ]
    },
    {
     "name": "stderr",
     "output_type": "stream",
     "text": [
      "Cloning into '/home/nahid/dataset/clones/weiju_____amiga_hardware_in_c'...\n"
     ]
    },
    {
     "name": "stdout",
     "output_type": "stream",
     "text": [
      "Make DONE\n",
      "https://github.com/ErichStyger/CrashCourseC.git\n",
      "repo_name ErichStyger_____CrashCourseC\n",
      "git clone https://github.com/ErichStyger/CrashCourseC.git /home/nahid/dataset/clones/ErichStyger_____CrashCourseC \n"
     ]
    },
    {
     "name": "stderr",
     "output_type": "stream",
     "text": [
      "Cloning into '/home/nahid/dataset/clones/ErichStyger_____CrashCourseC'...\n"
     ]
    },
    {
     "name": "stdout",
     "output_type": "stream",
     "text": [
      "Make DONE\n",
      "https://github.com/julman99/eatmemory.git\n",
      "repo_name julman99_____eatmemory\n",
      "git clone https://github.com/julman99/eatmemory.git /home/nahid/dataset/clones/julman99_____eatmemory \n"
     ]
    },
    {
     "name": "stderr",
     "output_type": "stream",
     "text": [
      "Cloning into '/home/nahid/dataset/clones/julman99_____eatmemory'...\n"
     ]
    },
    {
     "name": "stdout",
     "output_type": "stream",
     "text": [
      "Make DONE\n",
      "https://github.com/aut-ce/CE102-C-Lab.git\n",
      "repo_name aut-ce_____CE102-C-Lab\n",
      "git clone https://github.com/aut-ce/CE102-C-Lab.git /home/nahid/dataset/clones/aut-ce_____CE102-C-Lab \n"
     ]
    },
    {
     "name": "stderr",
     "output_type": "stream",
     "text": [
      "Cloning into '/home/nahid/dataset/clones/aut-ce_____CE102-C-Lab'...\n"
     ]
    },
    {
     "name": "stdout",
     "output_type": "stream",
     "text": [
      "Make DONE\n",
      "https://github.com/ComSys-OVGU/c-tasks.git\n",
      "repo_name ComSys-OVGU_____c-tasks\n",
      "git clone https://github.com/ComSys-OVGU/c-tasks.git /home/nahid/dataset/clones/ComSys-OVGU_____c-tasks \n"
     ]
    },
    {
     "name": "stderr",
     "output_type": "stream",
     "text": [
      "Cloning into '/home/nahid/dataset/clones/ComSys-OVGU_____c-tasks'...\n"
     ]
    },
    {
     "name": "stdout",
     "output_type": "stream",
     "text": [
      "Make DONE\n",
      "https://github.com/k-mrm/maxc.git\n",
      "repo_name k-mrm_____maxc\n",
      "git clone https://github.com/k-mrm/maxc.git /home/nahid/dataset/clones/k-mrm_____maxc \n"
     ]
    },
    {
     "name": "stderr",
     "output_type": "stream",
     "text": [
      "Cloning into '/home/nahid/dataset/clones/k-mrm_____maxc'...\n"
     ]
    },
    {
     "name": "stdout",
     "output_type": "stream",
     "text": [
      "Make DONE\n",
      "https://github.com/Kill-The-Bug/C.git\n",
      "repo_name Kill-The-Bug_____C\n",
      "git clone https://github.com/Kill-The-Bug/C.git /home/nahid/dataset/clones/Kill-The-Bug_____C \n"
     ]
    },
    {
     "name": "stderr",
     "output_type": "stream",
     "text": [
      "Cloning into '/home/nahid/dataset/clones/Kill-The-Bug_____C'...\n"
     ]
    },
    {
     "name": "stdout",
     "output_type": "stream",
     "text": [
      "Make DONE\n",
      "https://github.com/christophevg/reactive-c.git\n",
      "repo_name christophevg_____reactive-c\n",
      "git clone https://github.com/christophevg/reactive-c.git /home/nahid/dataset/clones/christophevg_____reactive-c \n"
     ]
    },
    {
     "name": "stderr",
     "output_type": "stream",
     "text": [
      "Cloning into '/home/nahid/dataset/clones/christophevg_____reactive-c'...\n"
     ]
    },
    {
     "name": "stdout",
     "output_type": "stream",
     "text": [
      "Make DONE\n",
      "https://github.com/Barissa-Imran/alx-low_level_programming.git\n",
      "repo_name Barissa-Imran_____alx-low_level_programming\n",
      "git clone https://github.com/Barissa-Imran/alx-low_level_programming.git /home/nahid/dataset/clones/Barissa-Imran_____alx-low_level_programming \n"
     ]
    },
    {
     "name": "stderr",
     "output_type": "stream",
     "text": [
      "Cloning into '/home/nahid/dataset/clones/Barissa-Imran_____alx-low_level_programming'...\n"
     ]
    },
    {
     "name": "stdout",
     "output_type": "stream",
     "text": [
      "Make DONE\n",
      "https://github.com/chkoreff/Fexl.git\n",
      "repo_name chkoreff_____Fexl\n",
      "git clone https://github.com/chkoreff/Fexl.git /home/nahid/dataset/clones/chkoreff_____Fexl \n"
     ]
    },
    {
     "name": "stderr",
     "output_type": "stream",
     "text": [
      "Cloning into '/home/nahid/dataset/clones/chkoreff_____Fexl'...\n"
     ]
    },
    {
     "name": "stdout",
     "output_type": "stream",
     "text": [
      "Make DONE\n",
      "https://github.com/carbonxx/Code-Library.git\n",
      "repo_name carbonxx_____Code-Library\n",
      "git clone https://github.com/carbonxx/Code-Library.git /home/nahid/dataset/clones/carbonxx_____Code-Library \n"
     ]
    },
    {
     "name": "stderr",
     "output_type": "stream",
     "text": [
      "Cloning into '/home/nahid/dataset/clones/carbonxx_____Code-Library'...\n"
     ]
    },
    {
     "name": "stdout",
     "output_type": "stream",
     "text": [
      "Make DONE\n",
      "https://github.com/txrxlabs/Intro-to-C.git\n",
      "repo_name txrxlabs_____Intro-to-C\n",
      "git clone https://github.com/txrxlabs/Intro-to-C.git /home/nahid/dataset/clones/txrxlabs_____Intro-to-C \n"
     ]
    },
    {
     "name": "stderr",
     "output_type": "stream",
     "text": [
      "Cloning into '/home/nahid/dataset/clones/txrxlabs_____Intro-to-C'...\n"
     ]
    },
    {
     "name": "stdout",
     "output_type": "stream",
     "text": [
      "Make DONE\n",
      "https://github.com/DJviolin/the-c-programming-language.git\n",
      "repo_name DJviolin_____the-c-programming-language\n",
      "git clone https://github.com/DJviolin/the-c-programming-language.git /home/nahid/dataset/clones/DJviolin_____the-c-programming-language \n"
     ]
    },
    {
     "name": "stderr",
     "output_type": "stream",
     "text": [
      "Cloning into '/home/nahid/dataset/clones/DJviolin_____the-c-programming-language'...\n"
     ]
    },
    {
     "name": "stdout",
     "output_type": "stream",
     "text": [
      "Make DONE\n",
      "https://github.com/nikhilnayak98/CSE2041.git\n",
      "repo_name nikhilnayak98_____CSE2041\n",
      "git clone https://github.com/nikhilnayak98/CSE2041.git /home/nahid/dataset/clones/nikhilnayak98_____CSE2041 \n"
     ]
    },
    {
     "name": "stderr",
     "output_type": "stream",
     "text": [
      "Cloning into '/home/nahid/dataset/clones/nikhilnayak98_____CSE2041'...\n"
     ]
    },
    {
     "name": "stdout",
     "output_type": "stream",
     "text": [
      "Make DONE\n",
      "https://github.com/wknechtel/3d-bin-pack.git\n",
      "repo_name wknechtel_____3d-bin-pack\n",
      "git clone https://github.com/wknechtel/3d-bin-pack.git /home/nahid/dataset/clones/wknechtel_____3d-bin-pack \n"
     ]
    },
    {
     "name": "stderr",
     "output_type": "stream",
     "text": [
      "Cloning into '/home/nahid/dataset/clones/wknechtel_____3d-bin-pack'...\n"
     ]
    },
    {
     "name": "stdout",
     "output_type": "stream",
     "text": [
      "Make DONE\n",
      "https://github.com/Jemal-Tilahun/alx-low_level_programming.git\n",
      "repo_name Jemal-Tilahun_____alx-low_level_programming\n",
      "git clone https://github.com/Jemal-Tilahun/alx-low_level_programming.git /home/nahid/dataset/clones/Jemal-Tilahun_____alx-low_level_programming \n"
     ]
    },
    {
     "name": "stderr",
     "output_type": "stream",
     "text": [
      "Cloning into '/home/nahid/dataset/clones/Jemal-Tilahun_____alx-low_level_programming'...\n"
     ]
    },
    {
     "name": "stdout",
     "output_type": "stream",
     "text": [
      "Make DONE\n",
      "https://github.com/bermuda-ut/COMP10002_Textbook_Solutions.git\n",
      "repo_name bermuda-ut_____COMP10002_Textbook_Solutions\n",
      "git clone https://github.com/bermuda-ut/COMP10002_Textbook_Solutions.git /home/nahid/dataset/clones/bermuda-ut_____COMP10002_Textbook_Solutions \n"
     ]
    },
    {
     "name": "stderr",
     "output_type": "stream",
     "text": [
      "Cloning into '/home/nahid/dataset/clones/bermuda-ut_____COMP10002_Textbook_Solutions'...\n"
     ]
    },
    {
     "name": "stdout",
     "output_type": "stream",
     "text": [
      "Make DONE\n",
      "https://github.com/hasancse91/data-structures.git\n",
      "repo_name hasancse91_____data-structures\n",
      "git clone https://github.com/hasancse91/data-structures.git /home/nahid/dataset/clones/hasancse91_____data-structures \n"
     ]
    },
    {
     "name": "stderr",
     "output_type": "stream",
     "text": [
      "Cloning into '/home/nahid/dataset/clones/hasancse91_____data-structures'...\n"
     ]
    },
    {
     "name": "stdout",
     "output_type": "stream",
     "text": [
      "Make DONE\n",
      "https://github.com/juanjosegarciaripoll/tensor.git\n",
      "repo_name juanjosegarciaripoll_____tensor\n",
      "git clone https://github.com/juanjosegarciaripoll/tensor.git /home/nahid/dataset/clones/juanjosegarciaripoll_____tensor \n"
     ]
    },
    {
     "name": "stderr",
     "output_type": "stream",
     "text": [
      "Cloning into '/home/nahid/dataset/clones/juanjosegarciaripoll_____tensor'...\n"
     ]
    },
    {
     "name": "stdout",
     "output_type": "stream",
     "text": [
      "Make DONE\n",
      "https://github.com/duboviy/low_level_programming.git\n",
      "repo_name duboviy_____low_level_programming\n",
      "git clone https://github.com/duboviy/low_level_programming.git /home/nahid/dataset/clones/duboviy_____low_level_programming \n"
     ]
    },
    {
     "name": "stderr",
     "output_type": "stream",
     "text": [
      "Cloning into '/home/nahid/dataset/clones/duboviy_____low_level_programming'...\n"
     ]
    },
    {
     "name": "stdout",
     "output_type": "stream",
     "text": [
      "Make DONE\n",
      "https://github.com/vortex-hue/alx-low_level_programming.git\n",
      "repo_name vortex-hue_____alx-low_level_programming\n",
      "git clone https://github.com/vortex-hue/alx-low_level_programming.git /home/nahid/dataset/clones/vortex-hue_____alx-low_level_programming \n"
     ]
    },
    {
     "name": "stderr",
     "output_type": "stream",
     "text": [
      "Cloning into '/home/nahid/dataset/clones/vortex-hue_____alx-low_level_programming'...\n"
     ]
    },
    {
     "name": "stdout",
     "output_type": "stream",
     "text": [
      "Make DONE\n",
      "https://github.com/hamzayawa/alx-low_level_programming.git\n",
      "repo_name hamzayawa_____alx-low_level_programming\n",
      "git clone https://github.com/hamzayawa/alx-low_level_programming.git /home/nahid/dataset/clones/hamzayawa_____alx-low_level_programming \n"
     ]
    },
    {
     "name": "stderr",
     "output_type": "stream",
     "text": [
      "Cloning into '/home/nahid/dataset/clones/hamzayawa_____alx-low_level_programming'...\n"
     ]
    },
    {
     "name": "stdout",
     "output_type": "stream",
     "text": [
      "Make DONE\n",
      "https://github.com/johncoleman83/bootcampschool-low_level_programming.git\n",
      "repo_name johncoleman83_____bootcampschool-low_level_programming\n",
      "git clone https://github.com/johncoleman83/bootcampschool-low_level_programming.git /home/nahid/dataset/clones/johncoleman83_____bootcampschool-low_level_programming \n"
     ]
    },
    {
     "name": "stderr",
     "output_type": "stream",
     "text": [
      "Cloning into '/home/nahid/dataset/clones/johncoleman83_____bootcampschool-low_level_programming'...\n"
     ]
    },
    {
     "name": "stdout",
     "output_type": "stream",
     "text": [
      "Make DONE\n",
      "https://github.com/Poornimaaj/C-Programming.git\n",
      "repo_name Poornimaaj_____C-Programming\n",
      "git clone https://github.com/Poornimaaj/C-Programming.git /home/nahid/dataset/clones/Poornimaaj_____C-Programming \n"
     ]
    },
    {
     "name": "stderr",
     "output_type": "stream",
     "text": [
      "Cloning into '/home/nahid/dataset/clones/Poornimaaj_____C-Programming'...\n"
     ]
    },
    {
     "name": "stdout",
     "output_type": "stream",
     "text": [
      "Make DONE\n",
      "https://github.com/namin/lms-verify.git\n",
      "repo_name namin_____lms-verify\n",
      "git clone https://github.com/namin/lms-verify.git /home/nahid/dataset/clones/namin_____lms-verify \n"
     ]
    },
    {
     "name": "stderr",
     "output_type": "stream",
     "text": [
      "Cloning into '/home/nahid/dataset/clones/namin_____lms-verify'...\n"
     ]
    },
    {
     "name": "stdout",
     "output_type": "stream",
     "text": [
      "Make DONE\n",
      "https://github.com/victorfisac/FNode.git\n",
      "repo_name victorfisac_____FNode\n",
      "git clone https://github.com/victorfisac/FNode.git /home/nahid/dataset/clones/victorfisac_____FNode \n"
     ]
    },
    {
     "name": "stderr",
     "output_type": "stream",
     "text": [
      "Cloning into '/home/nahid/dataset/clones/victorfisac_____FNode'...\n"
     ]
    },
    {
     "name": "stdout",
     "output_type": "stream",
     "text": [
      "Make DONE\n",
      "https://github.com/Asher-MS/basic_C_Programs.git\n",
      "repo_name Asher-MS_____basic_C_Programs\n",
      "git clone https://github.com/Asher-MS/basic_C_Programs.git /home/nahid/dataset/clones/Asher-MS_____basic_C_Programs \n"
     ]
    },
    {
     "name": "stderr",
     "output_type": "stream",
     "text": [
      "Cloning into '/home/nahid/dataset/clones/Asher-MS_____basic_C_Programs'...\n"
     ]
    },
    {
     "name": "stdout",
     "output_type": "stream",
     "text": [
      "Make DONE\n",
      "https://github.com/kcuzner/stm32f103c8-blink.git\n",
      "repo_name kcuzner_____stm32f103c8-blink\n",
      "git clone https://github.com/kcuzner/stm32f103c8-blink.git /home/nahid/dataset/clones/kcuzner_____stm32f103c8-blink \n"
     ]
    },
    {
     "name": "stderr",
     "output_type": "stream",
     "text": [
      "Cloning into '/home/nahid/dataset/clones/kcuzner_____stm32f103c8-blink'...\n"
     ]
    },
    {
     "name": "stdout",
     "output_type": "stream",
     "text": [
      "Make DONE\n",
      "https://github.com/jonls/qsopt-ex.git\n",
      "repo_name jonls_____qsopt-ex\n",
      "git clone https://github.com/jonls/qsopt-ex.git /home/nahid/dataset/clones/jonls_____qsopt-ex \n"
     ]
    },
    {
     "name": "stderr",
     "output_type": "stream",
     "text": [
      "Cloning into '/home/nahid/dataset/clones/jonls_____qsopt-ex'...\n"
     ]
    },
    {
     "name": "stdout",
     "output_type": "stream",
     "text": [
      "Make DONE\n",
      "https://github.com/ankitpokhrel/c-code-katas.git\n",
      "repo_name ankitpokhrel_____c-code-katas\n",
      "git clone https://github.com/ankitpokhrel/c-code-katas.git /home/nahid/dataset/clones/ankitpokhrel_____c-code-katas \n"
     ]
    },
    {
     "name": "stderr",
     "output_type": "stream",
     "text": [
      "Cloning into '/home/nahid/dataset/clones/ankitpokhrel_____c-code-katas'...\n"
     ]
    },
    {
     "name": "stdout",
     "output_type": "stream",
     "text": [
      "Make DONE\n",
      "https://github.com/rishabhs95/harvard-CS50.git\n",
      "repo_name rishabhs95_____harvard-CS50\n",
      "git clone https://github.com/rishabhs95/harvard-CS50.git /home/nahid/dataset/clones/rishabhs95_____harvard-CS50 \n"
     ]
    },
    {
     "name": "stderr",
     "output_type": "stream",
     "text": [
      "Cloning into '/home/nahid/dataset/clones/rishabhs95_____harvard-CS50'...\n"
     ]
    },
    {
     "name": "stdout",
     "output_type": "stream",
     "text": [
      "Make DONE\n",
      "https://github.com/ErichStyger/CrashCourseC.git\n",
      "repo_name ErichStyger_____CrashCourseC\n",
      "git clone https://github.com/ErichStyger/CrashCourseC.git /home/nahid/dataset/clones/ErichStyger_____CrashCourseC \n",
      "Make DONE\n",
      "https://github.com/julman99/eatmemory.git\n",
      "repo_name julman99_____eatmemory\n",
      "git clone https://github.com/julman99/eatmemory.git /home/nahid/dataset/clones/julman99_____eatmemory \n",
      "Make DONE\n",
      "https://github.com/aut-ce/CE102-C-Lab.git\n",
      "repo_name aut-ce_____CE102-C-Lab\n",
      "git clone https://github.com/aut-ce/CE102-C-Lab.git /home/nahid/dataset/clones/aut-ce_____CE102-C-Lab \n",
      "Make DONE\n",
      "https://github.com/ComSys-OVGU/c-tasks.git\n",
      "repo_name ComSys-OVGU_____c-tasks\n",
      "git clone https://github.com/ComSys-OVGU/c-tasks.git /home/nahid/dataset/clones/ComSys-OVGU_____c-tasks \n",
      "Make DONE\n",
      "https://github.com/k-mrm/maxc.git\n",
      "repo_name k-mrm_____maxc\n",
      "git clone https://github.com/k-mrm/maxc.git /home/nahid/dataset/clones/k-mrm_____maxc \n",
      "Make DONE\n",
      "https://github.com/christophevg/reactive-c.git\n",
      "repo_name christophevg_____reactive-c\n",
      "git clone https://github.com/christophevg/reactive-c.git /home/nahid/dataset/clones/christophevg_____reactive-c \n",
      "Make DONE\n",
      "https://github.com/Barissa-Imran/alx-low_level_programming.git\n",
      "repo_name Barissa-Imran_____alx-low_level_programming\n",
      "git clone https://github.com/Barissa-Imran/alx-low_level_programming.git /home/nahid/dataset/clones/Barissa-Imran_____alx-low_level_programming \n",
      "Make DONE\n",
      "https://github.com/chkoreff/Fexl.git\n",
      "repo_name chkoreff_____Fexl\n",
      "git clone https://github.com/chkoreff/Fexl.git /home/nahid/dataset/clones/chkoreff_____Fexl \n",
      "Make DONE\n",
      "https://github.com/Kill-The-Bug/C.git\n",
      "repo_name Kill-The-Bug_____C\n",
      "git clone https://github.com/Kill-The-Bug/C.git /home/nahid/dataset/clones/Kill-The-Bug_____C \n",
      "Make DONE\n",
      "https://github.com/carbonxx/Code-Library.git\n",
      "repo_name carbonxx_____Code-Library\n",
      "git clone https://github.com/carbonxx/Code-Library.git /home/nahid/dataset/clones/carbonxx_____Code-Library \n",
      "Make DONE\n",
      "https://github.com/txrxlabs/Intro-to-C.git\n",
      "repo_name txrxlabs_____Intro-to-C\n",
      "git clone https://github.com/txrxlabs/Intro-to-C.git /home/nahid/dataset/clones/txrxlabs_____Intro-to-C \n",
      "Make DONE\n",
      "https://github.com/nikhilnayak98/CSE2041.git\n",
      "repo_name nikhilnayak98_____CSE2041\n",
      "git clone https://github.com/nikhilnayak98/CSE2041.git /home/nahid/dataset/clones/nikhilnayak98_____CSE2041 \n",
      "Make DONE\n",
      "https://github.com/cliqueengagements/alx-low_level_programming.git\n",
      "repo_name cliqueengagements_____alx-low_level_programming\n",
      "git clone https://github.com/cliqueengagements/alx-low_level_programming.git /home/nahid/dataset/clones/cliqueengagements_____alx-low_level_programming \n"
     ]
    },
    {
     "name": "stderr",
     "output_type": "stream",
     "text": [
      "fatal: destination path '/home/nahid/dataset/clones/ErichStyger_____CrashCourseC' already exists and is not an empty directory.\n",
      "fatal: destination path '/home/nahid/dataset/clones/julman99_____eatmemory' already exists and is not an empty directory.\n",
      "fatal: destination path '/home/nahid/dataset/clones/aut-ce_____CE102-C-Lab' already exists and is not an empty directory.\n",
      "fatal: destination path '/home/nahid/dataset/clones/ComSys-OVGU_____c-tasks' already exists and is not an empty directory.\n",
      "fatal: destination path '/home/nahid/dataset/clones/k-mrm_____maxc' already exists and is not an empty directory.\n",
      "fatal: destination path '/home/nahid/dataset/clones/christophevg_____reactive-c' already exists and is not an empty directory.\n",
      "fatal: destination path '/home/nahid/dataset/clones/Barissa-Imran_____alx-low_level_programming' already exists and is not an empty directory.\n",
      "fatal: destination path '/home/nahid/dataset/clones/chkoreff_____Fexl' already exists and is not an empty directory.\n",
      "fatal: destination path '/home/nahid/dataset/clones/Kill-The-Bug_____C' already exists and is not an empty directory.\n",
      "fatal: destination path '/home/nahid/dataset/clones/carbonxx_____Code-Library' already exists and is not an empty directory.\n",
      "fatal: destination path '/home/nahid/dataset/clones/txrxlabs_____Intro-to-C' already exists and is not an empty directory.\n",
      "fatal: destination path '/home/nahid/dataset/clones/nikhilnayak98_____CSE2041' already exists and is not an empty directory.\n",
      "Cloning into '/home/nahid/dataset/clones/cliqueengagements_____alx-low_level_programming'...\n"
     ]
    },
    {
     "name": "stdout",
     "output_type": "stream",
     "text": [
      "Make DONE\n",
      "https://github.com/DJviolin/the-c-programming-language.git\n",
      "repo_name DJviolin_____the-c-programming-language\n",
      "git clone https://github.com/DJviolin/the-c-programming-language.git /home/nahid/dataset/clones/DJviolin_____the-c-programming-language \n",
      "Make DONE\n",
      "https://github.com/cbitosc/CBIT-Hacktoberfest-Hackathon-Hello-World.git\n",
      "repo_name cbitosc_____CBIT-Hacktoberfest-Hackathon-Hello-World\n",
      "git clone https://github.com/cbitosc/CBIT-Hacktoberfest-Hackathon-Hello-World.git /home/nahid/dataset/clones/cbitosc_____CBIT-Hacktoberfest-Hackathon-Hello-World \n"
     ]
    },
    {
     "name": "stderr",
     "output_type": "stream",
     "text": [
      "fatal: destination path '/home/nahid/dataset/clones/DJviolin_____the-c-programming-language' already exists and is not an empty directory.\n",
      "Cloning into '/home/nahid/dataset/clones/cbitosc_____CBIT-Hacktoberfest-Hackathon-Hello-World'...\n"
     ]
    },
    {
     "name": "stdout",
     "output_type": "stream",
     "text": [
      "Make DONE\n",
      "https://github.com/wknechtel/3d-bin-pack.git\n",
      "repo_name wknechtel_____3d-bin-pack\n",
      "git clone https://github.com/wknechtel/3d-bin-pack.git /home/nahid/dataset/clones/wknechtel_____3d-bin-pack \n",
      "Make DONE\n",
      "https://github.com/Jemal-Tilahun/alx-low_level_programming.git\n",
      "repo_name Jemal-Tilahun_____alx-low_level_programming\n",
      "git clone https://github.com/Jemal-Tilahun/alx-low_level_programming.git /home/nahid/dataset/clones/Jemal-Tilahun_____alx-low_level_programming \n",
      "Make DONE\n",
      "https://github.com/hasancse91/data-structures.git\n",
      "repo_name hasancse91_____data-structures\n",
      "git clone https://github.com/hasancse91/data-structures.git /home/nahid/dataset/clones/hasancse91_____data-structures \n",
      "Make DONE\n",
      "https://github.com/bermuda-ut/COMP10002_Textbook_Solutions.git\n",
      "repo_name bermuda-ut_____COMP10002_Textbook_Solutions\n",
      "git clone https://github.com/bermuda-ut/COMP10002_Textbook_Solutions.git /home/nahid/dataset/clones/bermuda-ut_____COMP10002_Textbook_Solutions \n",
      "Make DONE\n",
      "https://github.com/juanjosegarciaripoll/tensor.git\n",
      "repo_name juanjosegarciaripoll_____tensor\n",
      "git clone https://github.com/juanjosegarciaripoll/tensor.git /home/nahid/dataset/clones/juanjosegarciaripoll_____tensor \n",
      "Make DONE\n",
      "https://github.com/duboviy/low_level_programming.git\n",
      "repo_name duboviy_____low_level_programming\n",
      "git clone https://github.com/duboviy/low_level_programming.git /home/nahid/dataset/clones/duboviy_____low_level_programming \n",
      "Make DONE\n",
      "https://github.com/vortex-hue/alx-low_level_programming.git\n",
      "repo_name vortex-hue_____alx-low_level_programming\n",
      "git clone https://github.com/vortex-hue/alx-low_level_programming.git /home/nahid/dataset/clones/vortex-hue_____alx-low_level_programming \n",
      "Make DONE\n",
      "https://github.com/namin/lms-verify.git\n",
      "repo_name namin_____lms-verify\n",
      "git clone https://github.com/namin/lms-verify.git /home/nahid/dataset/clones/namin_____lms-verify \n",
      "Make DONE\n",
      "https://github.com/johncoleman83/bootcampschool-low_level_programming.git\n",
      "repo_name johncoleman83_____bootcampschool-low_level_programming\n",
      "git clone https://github.com/johncoleman83/bootcampschool-low_level_programming.git /home/nahid/dataset/clones/johncoleman83_____bootcampschool-low_level_programming \n",
      "Make DONE\n",
      "https://github.com/hamzayawa/alx-low_level_programming.git\n",
      "repo_name hamzayawa_____alx-low_level_programming\n",
      "git clone https://github.com/hamzayawa/alx-low_level_programming.git /home/nahid/dataset/clones/hamzayawa_____alx-low_level_programming \n",
      "Make DONE\n",
      "https://github.com/Poornimaaj/C-Programming.git\n",
      "repo_name Poornimaaj_____C-Programming\n",
      "git clone https://github.com/Poornimaaj/C-Programming.git /home/nahid/dataset/clones/Poornimaaj_____C-Programming \n",
      "Make DONE\n",
      "https://github.com/victorfisac/FNode.git\n",
      "repo_name victorfisac_____FNode\n",
      "git clone https://github.com/victorfisac/FNode.git /home/nahid/dataset/clones/victorfisac_____FNode \n",
      "Make DONE\n",
      "https://github.com/jonls/qsopt-ex.git\n",
      "repo_name jonls_____qsopt-ex\n",
      "git clone https://github.com/jonls/qsopt-ex.git /home/nahid/dataset/clones/jonls_____qsopt-ex \n",
      "Make DONE\n",
      "https://github.com/Asher-MS/basic_C_Programs.git\n",
      "repo_name Asher-MS_____basic_C_Programs\n",
      "git clone https://github.com/Asher-MS/basic_C_Programs.git /home/nahid/dataset/clones/Asher-MS_____basic_C_Programs \n",
      "Make DONE\n",
      "https://github.com/kcuzner/stm32f103c8-blink.git\n",
      "repo_name kcuzner_____stm32f103c8-blink\n",
      "git clone https://github.com/kcuzner/stm32f103c8-blink.git /home/nahid/dataset/clones/kcuzner_____stm32f103c8-blink \n",
      "Make DONE\n",
      "https://github.com/Ahuron29/alx-low_level_programming.git\n",
      "repo_name Ahuron29_____alx-low_level_programming\n",
      "git clone https://github.com/Ahuron29/alx-low_level_programming.git /home/nahid/dataset/clones/Ahuron29_____alx-low_level_programming \n"
     ]
    },
    {
     "name": "stderr",
     "output_type": "stream",
     "text": [
      "fatal: destination path '/home/nahid/dataset/clones/wknechtel_____3d-bin-pack' already exists and is not an empty directory.\n",
      "fatal: destination path '/home/nahid/dataset/clones/Jemal-Tilahun_____alx-low_level_programming' already exists and is not an empty directory.\n",
      "fatal: destination path '/home/nahid/dataset/clones/hasancse91_____data-structures' already exists and is not an empty directory.\n",
      "fatal: destination path '/home/nahid/dataset/clones/bermuda-ut_____COMP10002_Textbook_Solutions' already exists and is not an empty directory.\n",
      "fatal: destination path '/home/nahid/dataset/clones/juanjosegarciaripoll_____tensor' already exists and is not an empty directory.\n",
      "fatal: destination path '/home/nahid/dataset/clones/duboviy_____low_level_programming' already exists and is not an empty directory.\n",
      "fatal: destination path '/home/nahid/dataset/clones/vortex-hue_____alx-low_level_programming' already exists and is not an empty directory.\n",
      "fatal: destination path '/home/nahid/dataset/clones/namin_____lms-verify' already exists and is not an empty directory.\n",
      "fatal: destination path '/home/nahid/dataset/clones/johncoleman83_____bootcampschool-low_level_programming' already exists and is not an empty directory.\n",
      "fatal: destination path '/home/nahid/dataset/clones/hamzayawa_____alx-low_level_programming' already exists and is not an empty directory.\n",
      "fatal: destination path '/home/nahid/dataset/clones/Poornimaaj_____C-Programming' already exists and is not an empty directory.\n",
      "fatal: destination path '/home/nahid/dataset/clones/victorfisac_____FNode' already exists and is not an empty directory.\n",
      "fatal: destination path '/home/nahid/dataset/clones/jonls_____qsopt-ex' already exists and is not an empty directory.\n",
      "fatal: destination path '/home/nahid/dataset/clones/Asher-MS_____basic_C_Programs' already exists and is not an empty directory.\n",
      "fatal: destination path '/home/nahid/dataset/clones/kcuzner_____stm32f103c8-blink' already exists and is not an empty directory.\n",
      "Cloning into '/home/nahid/dataset/clones/Ahuron29_____alx-low_level_programming'...\n"
     ]
    },
    {
     "name": "stdout",
     "output_type": "stream",
     "text": [
      "Make DONE\n",
      "https://github.com/Kylewlk/OpenGL-Programming-Guide-8th-Edition-Code.git\n",
      "repo_name Kylewlk_____OpenGL-Programming-Guide-8th-Edition-Code\n",
      "git clone https://github.com/Kylewlk/OpenGL-Programming-Guide-8th-Edition-Code.git /home/nahid/dataset/clones/Kylewlk_____OpenGL-Programming-Guide-8th-Edition-Code \n"
     ]
    },
    {
     "name": "stderr",
     "output_type": "stream",
     "text": [
      "Cloning into '/home/nahid/dataset/clones/Kylewlk_____OpenGL-Programming-Guide-8th-Edition-Code'...\n"
     ]
    },
    {
     "name": "stdout",
     "output_type": "stream",
     "text": [
      "Make DONE\n",
      "https://github.com/ankitpokhrel/c-code-katas.git\n",
      "repo_name ankitpokhrel_____c-code-katas\n",
      "git clone https://github.com/ankitpokhrel/c-code-katas.git /home/nahid/dataset/clones/ankitpokhrel_____c-code-katas \n",
      "Make DONE\n",
      "https://github.com/rishabhs95/harvard-CS50.git\n",
      "repo_name rishabhs95_____harvard-CS50\n",
      "git clone https://github.com/rishabhs95/harvard-CS50.git /home/nahid/dataset/clones/rishabhs95_____harvard-CS50 \n",
      "Make DONE\n",
      "https://github.com/mozanunal/SimpleDSP.git\n",
      "repo_name mozanunal_____SimpleDSP\n",
      "git clone https://github.com/mozanunal/SimpleDSP.git /home/nahid/dataset/clones/mozanunal_____SimpleDSP \n"
     ]
    },
    {
     "name": "stderr",
     "output_type": "stream",
     "text": [
      "fatal: destination path '/home/nahid/dataset/clones/ankitpokhrel_____c-code-katas' already exists and is not an empty directory.\n",
      "fatal: destination path '/home/nahid/dataset/clones/rishabhs95_____harvard-CS50' already exists and is not an empty directory.\n",
      "Cloning into '/home/nahid/dataset/clones/mozanunal_____SimpleDSP'...\n"
     ]
    },
    {
     "name": "stdout",
     "output_type": "stream",
     "text": [
      "Make DONE\n",
      "https://github.com/Fasmj05/alx-low_level_programming.git\n",
      "repo_name Fasmj05_____alx-low_level_programming\n",
      "git clone https://github.com/Fasmj05/alx-low_level_programming.git /home/nahid/dataset/clones/Fasmj05_____alx-low_level_programming \n"
     ]
    },
    {
     "name": "stderr",
     "output_type": "stream",
     "text": [
      "Cloning into '/home/nahid/dataset/clones/Fasmj05_____alx-low_level_programming'...\n"
     ]
    },
    {
     "name": "stdout",
     "output_type": "stream",
     "text": [
      "Make DONE\n",
      "https://github.com/anitahx/alx-low_level_programming.git\n",
      "repo_name anitahx_____alx-low_level_programming\n",
      "git clone https://github.com/anitahx/alx-low_level_programming.git /home/nahid/dataset/clones/anitahx_____alx-low_level_programming \n"
     ]
    },
    {
     "name": "stderr",
     "output_type": "stream",
     "text": [
      "Cloning into '/home/nahid/dataset/clones/anitahx_____alx-low_level_programming'...\n"
     ]
    },
    {
     "name": "stdout",
     "output_type": "stream",
     "text": [
      "Make DONE\n",
      "https://github.com/andyherbert/lz1.git\n",
      "repo_name andyherbert_____lz1\n",
      "git clone https://github.com/andyherbert/lz1.git /home/nahid/dataset/clones/andyherbert_____lz1 \n"
     ]
    },
    {
     "name": "stderr",
     "output_type": "stream",
     "text": [
      "Cloning into '/home/nahid/dataset/clones/andyherbert_____lz1'...\n"
     ]
    },
    {
     "name": "stdout",
     "output_type": "stream",
     "text": [
      "Make DONE\n",
      "https://github.com/msindev/Data-Structures-In-C.git\n",
      "repo_name msindev_____Data-Structures-In-C\n",
      "git clone https://github.com/msindev/Data-Structures-In-C.git /home/nahid/dataset/clones/msindev_____Data-Structures-In-C \n"
     ]
    },
    {
     "name": "stderr",
     "output_type": "stream",
     "text": [
      "Cloning into '/home/nahid/dataset/clones/msindev_____Data-Structures-In-C'...\n"
     ]
    },
    {
     "name": "stdout",
     "output_type": "stream",
     "text": [
      "Make DONE\n",
      "https://github.com/Zelipha/alx-low_level_programming.git\n",
      "repo_name Zelipha_____alx-low_level_programming\n",
      "git clone https://github.com/Zelipha/alx-low_level_programming.git /home/nahid/dataset/clones/Zelipha_____alx-low_level_programming \n"
     ]
    },
    {
     "name": "stderr",
     "output_type": "stream",
     "text": [
      "Cloning into '/home/nahid/dataset/clones/Zelipha_____alx-low_level_programming'...\n"
     ]
    },
    {
     "name": "stdout",
     "output_type": "stream",
     "text": [
      "Make DONE\n",
      "https://github.com/FreyrSCADA/IEC-60870-5-101.git\n",
      "repo_name FreyrSCADA_____IEC-60870-5-101\n",
      "git clone https://github.com/FreyrSCADA/IEC-60870-5-101.git /home/nahid/dataset/clones/FreyrSCADA_____IEC-60870-5-101 \n"
     ]
    },
    {
     "name": "stderr",
     "output_type": "stream",
     "text": [
      "Cloning into '/home/nahid/dataset/clones/FreyrSCADA_____IEC-60870-5-101'...\n"
     ]
    },
    {
     "name": "stdout",
     "output_type": "stream",
     "text": [
      "Make DONE\n",
      "https://github.com/ironsubhajit/c_Programs.git\n",
      "repo_name ironsubhajit_____c_Programs\n",
      "git clone https://github.com/ironsubhajit/c_Programs.git /home/nahid/dataset/clones/ironsubhajit_____c_Programs \n"
     ]
    },
    {
     "name": "stderr",
     "output_type": "stream",
     "text": [
      "Cloning into '/home/nahid/dataset/clones/ironsubhajit_____c_Programs'...\n"
     ]
    },
    {
     "name": "stdout",
     "output_type": "stream",
     "text": [
      "Make DONE\n",
      "https://github.com/gangchen/CUHK-I2P.git\n",
      "repo_name gangchen_____CUHK-I2P\n",
      "git clone https://github.com/gangchen/CUHK-I2P.git /home/nahid/dataset/clones/gangchen_____CUHK-I2P \n"
     ]
    },
    {
     "name": "stderr",
     "output_type": "stream",
     "text": [
      "Cloning into '/home/nahid/dataset/clones/gangchen_____CUHK-I2P'...\n"
     ]
    },
    {
     "name": "stdout",
     "output_type": "stream",
     "text": [
      "Make DONE\n",
      "https://github.com/InformationParadox/C-Programming.git\n",
      "repo_name InformationParadox_____C-Programming\n",
      "git clone https://github.com/InformationParadox/C-Programming.git /home/nahid/dataset/clones/InformationParadox_____C-Programming \n"
     ]
    },
    {
     "name": "stderr",
     "output_type": "stream",
     "text": [
      "Cloning into '/home/nahid/dataset/clones/InformationParadox_____C-Programming'...\n"
     ]
    },
    {
     "name": "stdout",
     "output_type": "stream",
     "text": [
      "Make DONE\n",
      "https://github.com/thecuongthehieu/CS162-Operating-Systems-and-System-Programming-Homework.git\n",
      "repo_name thecuongthehieu_____CS162-Operating-Systems-and-System-Programming-Homework\n",
      "git clone https://github.com/thecuongthehieu/CS162-Operating-Systems-and-System-Programming-Homework.git /home/nahid/dataset/clones/thecuongthehieu_____CS162-Operating-Systems-and-System-Programming-Homework \n"
     ]
    },
    {
     "name": "stderr",
     "output_type": "stream",
     "text": [
      "Cloning into '/home/nahid/dataset/clones/thecuongthehieu_____CS162-Operating-Systems-and-System-Programming-Homework'...\n"
     ]
    },
    {
     "name": "stdout",
     "output_type": "stream",
     "text": [
      "Make DONE\n",
      "https://github.com/NHERI-SimCenter/SimCenterBootcamp2018.git\n",
      "repo_name NHERI-SimCenter_____SimCenterBootcamp2018\n",
      "git clone https://github.com/NHERI-SimCenter/SimCenterBootcamp2018.git /home/nahid/dataset/clones/NHERI-SimCenter_____SimCenterBootcamp2018 \n"
     ]
    },
    {
     "name": "stderr",
     "output_type": "stream",
     "text": [
      "Cloning into '/home/nahid/dataset/clones/NHERI-SimCenter_____SimCenterBootcamp2018'...\n"
     ]
    },
    {
     "name": "stdout",
     "output_type": "stream",
     "text": [
      "Make DONE\n",
      "https://github.com/scalpelx/Transfer_File.git\n",
      "repo_name scalpelx_____Transfer_File\n",
      "git clone https://github.com/scalpelx/Transfer_File.git /home/nahid/dataset/clones/scalpelx_____Transfer_File \n"
     ]
    },
    {
     "name": "stderr",
     "output_type": "stream",
     "text": [
      "Cloning into '/home/nahid/dataset/clones/scalpelx_____Transfer_File'...\n"
     ]
    },
    {
     "name": "stdout",
     "output_type": "stream",
     "text": [
      "Make DONE\n",
      "https://github.com/Bibekdhkl/C-Programs.git\n",
      "repo_name Bibekdhkl_____C-Programs\n",
      "git clone https://github.com/Bibekdhkl/C-Programs.git /home/nahid/dataset/clones/Bibekdhkl_____C-Programs \n"
     ]
    },
    {
     "name": "stderr",
     "output_type": "stream",
     "text": [
      "Cloning into '/home/nahid/dataset/clones/Bibekdhkl_____C-Programs'...\n"
     ]
    },
    {
     "name": "stdout",
     "output_type": "stream",
     "text": [
      "Make DONE\n",
      "https://github.com/aiv01/aiv_gb.git\n",
      "repo_name aiv01_____aiv_gb\n",
      "git clone https://github.com/aiv01/aiv_gb.git /home/nahid/dataset/clones/aiv01_____aiv_gb \n"
     ]
    },
    {
     "name": "stderr",
     "output_type": "stream",
     "text": [
      "Cloning into '/home/nahid/dataset/clones/aiv01_____aiv_gb'...\n"
     ]
    },
    {
     "name": "stdout",
     "output_type": "stream",
     "text": [
      "Make DONE\n",
      "https://github.com/snadahalli/cprograms.git\n",
      "repo_name snadahalli_____cprograms\n",
      "git clone https://github.com/snadahalli/cprograms.git /home/nahid/dataset/clones/snadahalli_____cprograms \n"
     ]
    },
    {
     "name": "stderr",
     "output_type": "stream",
     "text": [
      "Cloning into '/home/nahid/dataset/clones/snadahalli_____cprograms'...\n"
     ]
    },
    {
     "name": "stdout",
     "output_type": "stream",
     "text": [
      "Make DONE\n",
      "https://github.com/meircif/lumi-lang.git\n",
      "repo_name meircif_____lumi-lang\n",
      "git clone https://github.com/meircif/lumi-lang.git /home/nahid/dataset/clones/meircif_____lumi-lang \n"
     ]
    },
    {
     "name": "stderr",
     "output_type": "stream",
     "text": [
      "Cloning into '/home/nahid/dataset/clones/meircif_____lumi-lang'...\n"
     ]
    },
    {
     "name": "stdout",
     "output_type": "stream",
     "text": [
      "Make DONE\n",
      "https://github.com/ros-drivers/urg_c.git\n",
      "repo_name ros-drivers_____urg_c\n",
      "git clone https://github.com/ros-drivers/urg_c.git /home/nahid/dataset/clones/ros-drivers_____urg_c \n"
     ]
    },
    {
     "name": "stderr",
     "output_type": "stream",
     "text": [
      "Cloning into '/home/nahid/dataset/clones/ros-drivers_____urg_c'...\n"
     ]
    },
    {
     "name": "stdout",
     "output_type": "stream",
     "text": [
      "Make DONE\n",
      "https://github.com/citelab/JAMScript.git\n",
      "repo_name citelab_____JAMScript\n",
      "git clone https://github.com/citelab/JAMScript.git /home/nahid/dataset/clones/citelab_____JAMScript \n"
     ]
    },
    {
     "name": "stderr",
     "output_type": "stream",
     "text": [
      "Cloning into '/home/nahid/dataset/clones/citelab_____JAMScript'...\n"
     ]
    },
    {
     "name": "stdout",
     "output_type": "stream",
     "text": [
      "Make DONE\n",
      "https://github.com/andaritri/holbertonschool-low_level_programming.git\n",
      "repo_name andaritri_____holbertonschool-low_level_programming\n",
      "git clone https://github.com/andaritri/holbertonschool-low_level_programming.git /home/nahid/dataset/clones/andaritri_____holbertonschool-low_level_programming \n"
     ]
    },
    {
     "name": "stderr",
     "output_type": "stream",
     "text": [
      "Cloning into '/home/nahid/dataset/clones/andaritri_____holbertonschool-low_level_programming'...\n"
     ]
    },
    {
     "name": "stdout",
     "output_type": "stream",
     "text": [
      "Make DONE\n",
      "https://github.com/Samnjor-alpha/alx-low_level_programming.git\n",
      "repo_name Samnjor-alpha_____alx-low_level_programming\n",
      "git clone https://github.com/Samnjor-alpha/alx-low_level_programming.git /home/nahid/dataset/clones/Samnjor-alpha_____alx-low_level_programming \n"
     ]
    },
    {
     "name": "stderr",
     "output_type": "stream",
     "text": [
      "Cloning into '/home/nahid/dataset/clones/Samnjor-alpha_____alx-low_level_programming'...\n"
     ]
    },
    {
     "name": "stdout",
     "output_type": "stream",
     "text": [
      "Make DONE\n",
      "https://github.com/lionsoul2014/friso.git\n",
      "repo_name lionsoul2014_____friso\n",
      "git clone https://github.com/lionsoul2014/friso.git /home/nahid/dataset/clones/lionsoul2014_____friso \n"
     ]
    },
    {
     "name": "stderr",
     "output_type": "stream",
     "text": [
      "Cloning into '/home/nahid/dataset/clones/lionsoul2014_____friso'...\n"
     ]
    },
    {
     "name": "stdout",
     "output_type": "stream",
     "text": [
      "Make DONE\n",
      "https://github.com/redraiment/basic.git\n",
      "repo_name redraiment_____basic\n",
      "git clone https://github.com/redraiment/basic.git /home/nahid/dataset/clones/redraiment_____basic \n"
     ]
    },
    {
     "name": "stderr",
     "output_type": "stream",
     "text": [
      "Cloning into '/home/nahid/dataset/clones/redraiment_____basic'...\n"
     ]
    },
    {
     "name": "stdout",
     "output_type": "stream",
     "text": [
      "Make DONE\n",
      "https://github.com/AdarshAddee/Hacktoberfest-2022-For-All.git\n",
      "repo_name AdarshAddee_____Hacktoberfest-2022-For-All\n",
      "git clone https://github.com/AdarshAddee/Hacktoberfest-2022-For-All.git /home/nahid/dataset/clones/AdarshAddee_____Hacktoberfest-2022-For-All \n"
     ]
    },
    {
     "name": "stderr",
     "output_type": "stream",
     "text": [
      "Cloning into '/home/nahid/dataset/clones/AdarshAddee_____Hacktoberfest-2022-For-All'...\n"
     ]
    },
    {
     "name": "stdout",
     "output_type": "stream",
     "text": [
      "Make DONE\n",
      "https://github.com/EXIficient/exificient-for-json.c.git\n",
      "repo_name EXIficient_____exificient-for-json.c\n",
      "git clone https://github.com/EXIficient/exificient-for-json.c.git /home/nahid/dataset/clones/EXIficient_____exificient-for-json.c \n"
     ]
    },
    {
     "name": "stderr",
     "output_type": "stream",
     "text": [
      "Cloning into '/home/nahid/dataset/clones/EXIficient_____exificient-for-json.c'...\n"
     ]
    },
    {
     "name": "stdout",
     "output_type": "stream",
     "text": [
      "Make DONE\n",
      "https://github.com/ricardo1470/holbertonschool-low_level_programming.git\n",
      "repo_name ricardo1470_____holbertonschool-low_level_programming\n",
      "git clone https://github.com/ricardo1470/holbertonschool-low_level_programming.git /home/nahid/dataset/clones/ricardo1470_____holbertonschool-low_level_programming \n"
     ]
    },
    {
     "name": "stderr",
     "output_type": "stream",
     "text": [
      "Cloning into '/home/nahid/dataset/clones/ricardo1470_____holbertonschool-low_level_programming'...\n"
     ]
    },
    {
     "name": "stdout",
     "output_type": "stream",
     "text": [
      "Make DONE\n",
      "https://github.com/ivogeorg/c-2nd-lang-asst-01.git\n",
      "repo_name ivogeorg_____c-2nd-lang-asst-01\n",
      "git clone https://github.com/ivogeorg/c-2nd-lang-asst-01.git /home/nahid/dataset/clones/ivogeorg_____c-2nd-lang-asst-01 \n"
     ]
    },
    {
     "name": "stderr",
     "output_type": "stream",
     "text": [
      "Cloning into '/home/nahid/dataset/clones/ivogeorg_____c-2nd-lang-asst-01'...\n"
     ]
    },
    {
     "name": "stdout",
     "output_type": "stream",
     "text": [
      "Make DONE\n",
      "https://github.com/ahmetozlu/tcp_socket_programming_c_server.git\n",
      "repo_name ahmetozlu_____tcp_socket_programming_c_server\n",
      "git clone https://github.com/ahmetozlu/tcp_socket_programming_c_server.git /home/nahid/dataset/clones/ahmetozlu_____tcp_socket_programming_c_server \n"
     ]
    },
    {
     "name": "stderr",
     "output_type": "stream",
     "text": [
      "Cloning into '/home/nahid/dataset/clones/ahmetozlu_____tcp_socket_programming_c_server'...\n"
     ]
    },
    {
     "name": "stdout",
     "output_type": "stream",
     "text": [
      "Make DONE\n",
      "https://github.com/StanislavPetrovV/Programing-Languages-Contest.git\n",
      "repo_name StanislavPetrovV_____Programing-Languages-Contest\n",
      "git clone https://github.com/StanislavPetrovV/Programing-Languages-Contest.git /home/nahid/dataset/clones/StanislavPetrovV_____Programing-Languages-Contest \n"
     ]
    },
    {
     "name": "stderr",
     "output_type": "stream",
     "text": [
      "Cloning into '/home/nahid/dataset/clones/StanislavPetrovV_____Programing-Languages-Contest'...\n"
     ]
    },
    {
     "name": "stdout",
     "output_type": "stream",
     "text": [
      "Make DONE\n",
      "https://github.com/nikhilroxtomar/UDP-Client-Server-Program-in-C.git\n",
      "repo_name nikhilroxtomar_____UDP-Client-Server-Program-in-C\n",
      "git clone https://github.com/nikhilroxtomar/UDP-Client-Server-Program-in-C.git /home/nahid/dataset/clones/nikhilroxtomar_____UDP-Client-Server-Program-in-C \n"
     ]
    },
    {
     "name": "stderr",
     "output_type": "stream",
     "text": [
      "Cloning into '/home/nahid/dataset/clones/nikhilroxtomar_____UDP-Client-Server-Program-in-C'...\n"
     ]
    },
    {
     "name": "stdout",
     "output_type": "stream",
     "text": [
      "Make DONE\n",
      "https://github.com/rcls/crap.git\n",
      "repo_name rcls_____crap\n",
      "git clone https://github.com/rcls/crap.git /home/nahid/dataset/clones/rcls_____crap \n"
     ]
    },
    {
     "name": "stderr",
     "output_type": "stream",
     "text": [
      "Cloning into '/home/nahid/dataset/clones/rcls_____crap'...\n"
     ]
    },
    {
     "name": "stdout",
     "output_type": "stream",
     "text": [
      "Make DONE\n",
      "https://github.com/Shreya1600/Hacktoberfest-C-Program.git\n",
      "repo_name Shreya1600_____Hacktoberfest-C-Program\n",
      "git clone https://github.com/Shreya1600/Hacktoberfest-C-Program.git /home/nahid/dataset/clones/Shreya1600_____Hacktoberfest-C-Program \n"
     ]
    },
    {
     "name": "stderr",
     "output_type": "stream",
     "text": [
      "Cloning into '/home/nahid/dataset/clones/Shreya1600_____Hacktoberfest-C-Program'...\n"
     ]
    },
    {
     "name": "stdout",
     "output_type": "stream",
     "text": [
      "Make DONE\n",
      "https://github.com/nialin/C-Language-Programming.git\n",
      "repo_name nialin_____C-Language-Programming\n",
      "git clone https://github.com/nialin/C-Language-Programming.git /home/nahid/dataset/clones/nialin_____C-Language-Programming \n"
     ]
    },
    {
     "name": "stderr",
     "output_type": "stream",
     "text": [
      "Cloning into '/home/nahid/dataset/clones/nialin_____C-Language-Programming'...\n"
     ]
    },
    {
     "name": "stdout",
     "output_type": "stream",
     "text": [
      "Make DONE\n",
      "https://github.com/devnull-cz/c-prog-lang.git\n",
      "repo_name devnull-cz_____c-prog-lang\n",
      "git clone https://github.com/devnull-cz/c-prog-lang.git /home/nahid/dataset/clones/devnull-cz_____c-prog-lang \n"
     ]
    },
    {
     "name": "stderr",
     "output_type": "stream",
     "text": [
      "Cloning into '/home/nahid/dataset/clones/devnull-cz_____c-prog-lang'...\n"
     ]
    },
    {
     "name": "stdout",
     "output_type": "stream",
     "text": [
      "Make DONE\n",
      "https://github.com/shah-deep/Who-wants-to-be-a-Millionaire.git\n",
      "repo_name shah-deep_____Who-wants-to-be-a-Millionaire\n",
      "git clone https://github.com/shah-deep/Who-wants-to-be-a-Millionaire.git /home/nahid/dataset/clones/shah-deep_____Who-wants-to-be-a-Millionaire \n"
     ]
    },
    {
     "name": "stderr",
     "output_type": "stream",
     "text": [
      "Cloning into '/home/nahid/dataset/clones/shah-deep_____Who-wants-to-be-a-Millionaire'...\n"
     ]
    },
    {
     "name": "stdout",
     "output_type": "stream",
     "text": [
      "Make DONE\n",
      "https://github.com/JacobSamro/Compiler-Design-Lab.git\n",
      "repo_name JacobSamro_____Compiler-Design-Lab\n",
      "git clone https://github.com/JacobSamro/Compiler-Design-Lab.git /home/nahid/dataset/clones/JacobSamro_____Compiler-Design-Lab \n"
     ]
    },
    {
     "name": "stderr",
     "output_type": "stream",
     "text": [
      "Cloning into '/home/nahid/dataset/clones/JacobSamro_____Compiler-Design-Lab'...\n"
     ]
    },
    {
     "name": "stdout",
     "output_type": "stream",
     "text": [
      "Make DONE\n",
      "https://github.com/tpauldike/journey_through_C.git\n",
      "repo_name tpauldike_____journey_through_C\n",
      "git clone https://github.com/tpauldike/journey_through_C.git /home/nahid/dataset/clones/tpauldike_____journey_through_C \n"
     ]
    },
    {
     "name": "stderr",
     "output_type": "stream",
     "text": [
      "Cloning into '/home/nahid/dataset/clones/tpauldike_____journey_through_C'...\n"
     ]
    },
    {
     "name": "stdout",
     "output_type": "stream",
     "text": [
      "Make DONE\n",
      "https://github.com/smilejay/c-cpp.git\n",
      "repo_name smilejay_____c-cpp\n",
      "git clone https://github.com/smilejay/c-cpp.git /home/nahid/dataset/clones/smilejay_____c-cpp \n"
     ]
    },
    {
     "name": "stderr",
     "output_type": "stream",
     "text": [
      "Cloning into '/home/nahid/dataset/clones/smilejay_____c-cpp'...\n"
     ]
    },
    {
     "name": "stdout",
     "output_type": "stream",
     "text": [
      "Make DONE\n",
      "https://github.com/nikhilroxtomar/TCP-Client-Server-Implementation-in-C.git\n",
      "repo_name nikhilroxtomar_____TCP-Client-Server-Implementation-in-C\n",
      "git clone https://github.com/nikhilroxtomar/TCP-Client-Server-Implementation-in-C.git /home/nahid/dataset/clones/nikhilroxtomar_____TCP-Client-Server-Implementation-in-C \n"
     ]
    },
    {
     "name": "stderr",
     "output_type": "stream",
     "text": [
      "Cloning into '/home/nahid/dataset/clones/nikhilroxtomar_____TCP-Client-Server-Implementation-in-C'...\n"
     ]
    },
    {
     "name": "stdout",
     "output_type": "stream",
     "text": [
      "Make DONE\n",
      "https://github.com/edward0rtiz/holbertonschool-low_level_programming.git\n",
      "repo_name edward0rtiz_____holbertonschool-low_level_programming\n",
      "git clone https://github.com/edward0rtiz/holbertonschool-low_level_programming.git /home/nahid/dataset/clones/edward0rtiz_____holbertonschool-low_level_programming \n"
     ]
    },
    {
     "name": "stderr",
     "output_type": "stream",
     "text": [
      "Cloning into '/home/nahid/dataset/clones/edward0rtiz_____holbertonschool-low_level_programming'...\n"
     ]
    },
    {
     "name": "stdout",
     "output_type": "stream",
     "text": [
      "Make DONE\n",
      "https://github.com/divine-chisom/alx-low_level_programming.git\n",
      "repo_name divine-chisom_____alx-low_level_programming\n",
      "git clone https://github.com/divine-chisom/alx-low_level_programming.git /home/nahid/dataset/clones/divine-chisom_____alx-low_level_programming \n"
     ]
    },
    {
     "name": "stderr",
     "output_type": "stream",
     "text": [
      "Cloning into '/home/nahid/dataset/clones/divine-chisom_____alx-low_level_programming'...\n"
     ]
    },
    {
     "name": "stdout",
     "output_type": "stream",
     "text": [
      "Make DONE\n",
      "https://github.com/yora3vs3/alx-low_level_programming.git\n",
      "repo_name yora3vs3_____alx-low_level_programming\n",
      "git clone https://github.com/yora3vs3/alx-low_level_programming.git /home/nahid/dataset/clones/yora3vs3_____alx-low_level_programming \n"
     ]
    },
    {
     "name": "stderr",
     "output_type": "stream",
     "text": [
      "Cloning into '/home/nahid/dataset/clones/yora3vs3_____alx-low_level_programming'...\n"
     ]
    },
    {
     "name": "stdout",
     "output_type": "stream",
     "text": [
      "Make DONE\n",
      "https://github.com/ParRes/Kernels.git\n",
      "repo_name ParRes_____Kernels\n",
      "git clone https://github.com/ParRes/Kernels.git /home/nahid/dataset/clones/ParRes_____Kernels \n"
     ]
    },
    {
     "name": "stderr",
     "output_type": "stream",
     "text": [
      "Cloning into '/home/nahid/dataset/clones/ParRes_____Kernels'...\n"
     ]
    },
    {
     "name": "stdout",
     "output_type": "stream",
     "text": [
      "Make DONE\n",
      "https://github.com/SiriDB/libsiridb.git\n",
      "repo_name SiriDB_____libsiridb\n",
      "git clone https://github.com/SiriDB/libsiridb.git /home/nahid/dataset/clones/SiriDB_____libsiridb \n"
     ]
    },
    {
     "name": "stderr",
     "output_type": "stream",
     "text": [
      "Cloning into '/home/nahid/dataset/clones/SiriDB_____libsiridb'...\n"
     ]
    },
    {
     "name": "stdout",
     "output_type": "stream",
     "text": [
      "Make DONE\n",
      "https://github.com/mzhang2021/cp-library.git\n",
      "repo_name mzhang2021_____cp-library\n",
      "git clone https://github.com/mzhang2021/cp-library.git /home/nahid/dataset/clones/mzhang2021_____cp-library \n"
     ]
    },
    {
     "name": "stderr",
     "output_type": "stream",
     "text": [
      "Cloning into '/home/nahid/dataset/clones/mzhang2021_____cp-library'...\n"
     ]
    },
    {
     "name": "stdout",
     "output_type": "stream",
     "text": [
      "Make DONE\n",
      "https://github.com/renkangchen/myShell.git\n",
      "repo_name renkangchen_____myShell\n",
      "git clone https://github.com/renkangchen/myShell.git /home/nahid/dataset/clones/renkangchen_____myShell \n"
     ]
    },
    {
     "name": "stderr",
     "output_type": "stream",
     "text": [
      "Cloning into '/home/nahid/dataset/clones/renkangchen_____myShell'...\n"
     ]
    },
    {
     "name": "stdout",
     "output_type": "stream",
     "text": [
      "Make DONE\n",
      "https://github.com/BennettDixon/holbertonschool-low_level_programming.git\n",
      "repo_name BennettDixon_____holbertonschool-low_level_programming\n",
      "git clone https://github.com/BennettDixon/holbertonschool-low_level_programming.git /home/nahid/dataset/clones/BennettDixon_____holbertonschool-low_level_programming \n"
     ]
    },
    {
     "name": "stderr",
     "output_type": "stream",
     "text": [
      "Cloning into '/home/nahid/dataset/clones/BennettDixon_____holbertonschool-low_level_programming'...\n"
     ]
    },
    {
     "name": "stdout",
     "output_type": "stream",
     "text": [
      "Make DONE\n",
      "https://github.com/cs-utcn-groups/1-cp.git\n",
      "repo_name cs-utcn-groups_____1-cp\n",
      "git clone https://github.com/cs-utcn-groups/1-cp.git /home/nahid/dataset/clones/cs-utcn-groups_____1-cp \n"
     ]
    },
    {
     "name": "stderr",
     "output_type": "stream",
     "text": [
      "Cloning into '/home/nahid/dataset/clones/cs-utcn-groups_____1-cp'...\n"
     ]
    },
    {
     "name": "stdout",
     "output_type": "stream",
     "text": [
      "Make DONE\n",
      "https://github.com/tum83/cc100.git\n",
      "repo_name tum83_____cc100\n",
      "git clone https://github.com/tum83/cc100.git /home/nahid/dataset/clones/tum83_____cc100 \n"
     ]
    },
    {
     "name": "stderr",
     "output_type": "stream",
     "text": [
      "Cloning into '/home/nahid/dataset/clones/tum83_____cc100'...\n"
     ]
    },
    {
     "name": "stdout",
     "output_type": "stream",
     "text": [
      "Make DONE\n",
      "https://github.com/gdinit/book-study-programming-in-ansi-c-balagurusamy.git\n",
      "repo_name gdinit_____book-study-programming-in-ansi-c-balagurusamy\n",
      "git clone https://github.com/gdinit/book-study-programming-in-ansi-c-balagurusamy.git /home/nahid/dataset/clones/gdinit_____book-study-programming-in-ansi-c-balagurusamy \n"
     ]
    },
    {
     "name": "stderr",
     "output_type": "stream",
     "text": [
      "Cloning into '/home/nahid/dataset/clones/gdinit_____book-study-programming-in-ansi-c-balagurusamy'...\n"
     ]
    },
    {
     "name": "stdout",
     "output_type": "stream",
     "text": [
      "Make DONE\n",
      "https://github.com/nikhilroxtomar/tcp-client-server-in-C.git\n",
      "repo_name nikhilroxtomar_____tcp-client-server-in-C\n",
      "git clone https://github.com/nikhilroxtomar/tcp-client-server-in-C.git /home/nahid/dataset/clones/nikhilroxtomar_____tcp-client-server-in-C \n"
     ]
    },
    {
     "name": "stderr",
     "output_type": "stream",
     "text": [
      "Cloning into '/home/nahid/dataset/clones/nikhilroxtomar_____tcp-client-server-in-C'...\n"
     ]
    },
    {
     "name": "stdout",
     "output_type": "stream",
     "text": [
      "Make DONE\n",
      "https://github.com/brombres/Rogue.git\n",
      "repo_name brombres_____Rogue\n",
      "git clone https://github.com/brombres/Rogue.git /home/nahid/dataset/clones/brombres_____Rogue \n"
     ]
    },
    {
     "name": "stderr",
     "output_type": "stream",
     "text": [
      "Cloning into '/home/nahid/dataset/clones/brombres_____Rogue'...\n"
     ]
    },
    {
     "name": "stdout",
     "output_type": "stream",
     "text": [
      "Make DONE\n",
      "https://github.com/clark800/lambda-zero.git\n",
      "repo_name clark800_____lambda-zero\n",
      "git clone https://github.com/clark800/lambda-zero.git /home/nahid/dataset/clones/clark800_____lambda-zero \n"
     ]
    },
    {
     "name": "stderr",
     "output_type": "stream",
     "text": [
      "Cloning into '/home/nahid/dataset/clones/clark800_____lambda-zero'...\n"
     ]
    },
    {
     "name": "stdout",
     "output_type": "stream",
     "text": [
      "Make DONE\n",
      "https://github.com/Abiodun-Shittu/alx-low_level_programming.git\n",
      "repo_name Abiodun-Shittu_____alx-low_level_programming\n",
      "git clone https://github.com/Abiodun-Shittu/alx-low_level_programming.git /home/nahid/dataset/clones/Abiodun-Shittu_____alx-low_level_programming \n"
     ]
    },
    {
     "name": "stderr",
     "output_type": "stream",
     "text": [
      "Cloning into '/home/nahid/dataset/clones/Abiodun-Shittu_____alx-low_level_programming'...\n"
     ]
    },
    {
     "name": "stdout",
     "output_type": "stream",
     "text": [
      "Make DONE\n",
      "https://github.com/mike-normal13/Audio_programming_book_code.git\n",
      "repo_name mike-normal13_____Audio_programming_book_code\n",
      "git clone https://github.com/mike-normal13/Audio_programming_book_code.git /home/nahid/dataset/clones/mike-normal13_____Audio_programming_book_code \n"
     ]
    },
    {
     "name": "stderr",
     "output_type": "stream",
     "text": [
      "Cloning into '/home/nahid/dataset/clones/mike-normal13_____Audio_programming_book_code'...\n"
     ]
    },
    {
     "name": "stdout",
     "output_type": "stream",
     "text": [
      "Make DONE\n",
      "https://github.com/deepika-rana/The-Uplift-Project-CC-Programming.git\n",
      "repo_name deepika-rana_____The-Uplift-Project-CC-Programming\n",
      "git clone https://github.com/deepika-rana/The-Uplift-Project-CC-Programming.git /home/nahid/dataset/clones/deepika-rana_____The-Uplift-Project-CC-Programming \n"
     ]
    },
    {
     "name": "stderr",
     "output_type": "stream",
     "text": [
      "Cloning into '/home/nahid/dataset/clones/deepika-rana_____The-Uplift-Project-CC-Programming'...\n"
     ]
    },
    {
     "name": "stdout",
     "output_type": "stream",
     "text": [
      "Make DONE\n",
      "https://github.com/SirRoll93/alx-low_level_programming.git\n",
      "repo_name SirRoll93_____alx-low_level_programming\n",
      "git clone https://github.com/SirRoll93/alx-low_level_programming.git /home/nahid/dataset/clones/SirRoll93_____alx-low_level_programming \n"
     ]
    },
    {
     "name": "stderr",
     "output_type": "stream",
     "text": [
      "Cloning into '/home/nahid/dataset/clones/SirRoll93_____alx-low_level_programming'...\n"
     ]
    },
    {
     "name": "stdout",
     "output_type": "stream",
     "text": [
      "Make DONE\n",
      "https://github.com/avz/hll.git\n",
      "repo_name avz_____hll\n",
      "git clone https://github.com/avz/hll.git /home/nahid/dataset/clones/avz_____hll \n"
     ]
    },
    {
     "name": "stderr",
     "output_type": "stream",
     "text": [
      "Cloning into '/home/nahid/dataset/clones/avz_____hll'...\n"
     ]
    },
    {
     "name": "stdout",
     "output_type": "stream",
     "text": [
      "Make DONE\n",
      "https://github.com/Subhajit767/C-Programming-Code.git\n",
      "repo_name Subhajit767_____C-Programming-Code\n",
      "git clone https://github.com/Subhajit767/C-Programming-Code.git /home/nahid/dataset/clones/Subhajit767_____C-Programming-Code \n"
     ]
    },
    {
     "name": "stderr",
     "output_type": "stream",
     "text": [
      "Cloning into '/home/nahid/dataset/clones/Subhajit767_____C-Programming-Code'...\n"
     ]
    },
    {
     "name": "stdout",
     "output_type": "stream",
     "text": [
      "Make DONE\n",
      "https://github.com/monoprosito/printf.git\n",
      "repo_name monoprosito_____printf\n",
      "git clone https://github.com/monoprosito/printf.git /home/nahid/dataset/clones/monoprosito_____printf \n"
     ]
    },
    {
     "name": "stderr",
     "output_type": "stream",
     "text": [
      "Cloning into '/home/nahid/dataset/clones/monoprosito_____printf'...\n"
     ]
    },
    {
     "name": "stdout",
     "output_type": "stream",
     "text": [
      "Make DONE\n",
      "https://github.com/vidhichadha2507/C-programs.git\n",
      "repo_name vidhichadha2507_____C-programs\n",
      "git clone https://github.com/vidhichadha2507/C-programs.git /home/nahid/dataset/clones/vidhichadha2507_____C-programs \n"
     ]
    },
    {
     "name": "stderr",
     "output_type": "stream",
     "text": [
      "Cloning into '/home/nahid/dataset/clones/vidhichadha2507_____C-programs'...\n"
     ]
    },
    {
     "name": "stdout",
     "output_type": "stream",
     "text": [
      "Make DONE\n",
      "https://github.com/Silva-6/alx-low_level_programming.git\n",
      "repo_name Silva-6_____alx-low_level_programming\n",
      "git clone https://github.com/Silva-6/alx-low_level_programming.git /home/nahid/dataset/clones/Silva-6_____alx-low_level_programming \n"
     ]
    },
    {
     "name": "stderr",
     "output_type": "stream",
     "text": [
      "Cloning into '/home/nahid/dataset/clones/Silva-6_____alx-low_level_programming'...\n"
     ]
    },
    {
     "name": "stdout",
     "output_type": "stream",
     "text": [
      "Make DONE\n",
      "https://github.com/Xeneree/alx-low_level_programming-1.git\n",
      "repo_name Xeneree_____alx-low_level_programming-1\n",
      "git clone https://github.com/Xeneree/alx-low_level_programming-1.git /home/nahid/dataset/clones/Xeneree_____alx-low_level_programming-1 \n"
     ]
    },
    {
     "name": "stderr",
     "output_type": "stream",
     "text": [
      "Cloning into '/home/nahid/dataset/clones/Xeneree_____alx-low_level_programming-1'...\n"
     ]
    },
    {
     "name": "stdout",
     "output_type": "stream",
     "text": [
      "Make DONE\n",
      "https://github.com/amitbansal7/Data-Structures-and-Algorithms.git\n",
      "repo_name amitbansal7_____Data-Structures-and-Algorithms\n",
      "git clone https://github.com/amitbansal7/Data-Structures-and-Algorithms.git /home/nahid/dataset/clones/amitbansal7_____Data-Structures-and-Algorithms \n"
     ]
    },
    {
     "name": "stderr",
     "output_type": "stream",
     "text": [
      "Cloning into '/home/nahid/dataset/clones/amitbansal7_____Data-Structures-and-Algorithms'...\n"
     ]
    },
    {
     "name": "stdout",
     "output_type": "stream",
     "text": [
      "Make DONE\n",
      "https://github.com/0novanta/nondeterministic-turing-machine-simulator.git\n",
      "repo_name 0novanta_____nondeterministic-turing-machine-simulator\n",
      "git clone https://github.com/0novanta/nondeterministic-turing-machine-simulator.git /home/nahid/dataset/clones/0novanta_____nondeterministic-turing-machine-simulator \n"
     ]
    },
    {
     "name": "stderr",
     "output_type": "stream",
     "text": [
      "Cloning into '/home/nahid/dataset/clones/0novanta_____nondeterministic-turing-machine-simulator'...\n"
     ]
    },
    {
     "name": "stdout",
     "output_type": "stream",
     "text": [
      "Make DONE\n",
      "https://github.com/oiraqi/xcommerce-standalone-c.git\n",
      "repo_name oiraqi_____xcommerce-standalone-c\n",
      "git clone https://github.com/oiraqi/xcommerce-standalone-c.git /home/nahid/dataset/clones/oiraqi_____xcommerce-standalone-c \n"
     ]
    },
    {
     "name": "stderr",
     "output_type": "stream",
     "text": [
      "Cloning into '/home/nahid/dataset/clones/oiraqi_____xcommerce-standalone-c'...\n"
     ]
    },
    {
     "name": "stdout",
     "output_type": "stream",
     "text": [
      "Make DONE\n",
      "https://github.com/0novanta/nondeterministic-turing-machine-simulator.git\n",
      "repo_name 0novanta_____nondeterministic-turing-machine-simulator\n",
      "git clone https://github.com/0novanta/nondeterministic-turing-machine-simulator.git /home/nahid/dataset/clones/0novanta_____nondeterministic-turing-machine-simulator \n",
      "Make DONE\n",
      "https://github.com/codergs/TCP-UDP-DNS-Server-in-C.git\n",
      "repo_name codergs_____TCP-UDP-DNS-Server-in-C\n",
      "git clone https://github.com/codergs/TCP-UDP-DNS-Server-in-C.git /home/nahid/dataset/clones/codergs_____TCP-UDP-DNS-Server-in-C \n"
     ]
    },
    {
     "name": "stderr",
     "output_type": "stream",
     "text": [
      "fatal: destination path '/home/nahid/dataset/clones/0novanta_____nondeterministic-turing-machine-simulator' already exists and is not an empty directory.\n",
      "Cloning into '/home/nahid/dataset/clones/codergs_____TCP-UDP-DNS-Server-in-C'...\n"
     ]
    },
    {
     "name": "stdout",
     "output_type": "stream",
     "text": [
      "Make DONE\n",
      "https://github.com/PacktPublishing/Programming-in-C-The-Complete-Course.git\n",
      "repo_name PacktPublishing_____Programming-in-C-The-Complete-Course\n",
      "git clone https://github.com/PacktPublishing/Programming-in-C-The-Complete-Course.git /home/nahid/dataset/clones/PacktPublishing_____Programming-in-C-The-Complete-Course \n"
     ]
    },
    {
     "name": "stderr",
     "output_type": "stream",
     "text": [
      "Cloning into '/home/nahid/dataset/clones/PacktPublishing_____Programming-in-C-The-Complete-Course'...\n"
     ]
    },
    {
     "name": "stdout",
     "output_type": "stream",
     "text": [
      "Make DONE\n",
      "https://github.com/Reedbeta/gfx-workshops.git\n",
      "repo_name Reedbeta_____gfx-workshops\n",
      "git clone https://github.com/Reedbeta/gfx-workshops.git /home/nahid/dataset/clones/Reedbeta_____gfx-workshops \n"
     ]
    },
    {
     "name": "stderr",
     "output_type": "stream",
     "text": [
      "Cloning into '/home/nahid/dataset/clones/Reedbeta_____gfx-workshops'...\n"
     ]
    },
    {
     "name": "stdout",
     "output_type": "stream",
     "text": [
      "Make DONE\n",
      "https://github.com/mihirlad55/polybar-spotify-module.git\n",
      "repo_name mihirlad55_____polybar-spotify-module\n",
      "git clone https://github.com/mihirlad55/polybar-spotify-module.git /home/nahid/dataset/clones/mihirlad55_____polybar-spotify-module \n"
     ]
    },
    {
     "name": "stderr",
     "output_type": "stream",
     "text": [
      "Cloning into '/home/nahid/dataset/clones/mihirlad55_____polybar-spotify-module'...\n"
     ]
    },
    {
     "name": "stdout",
     "output_type": "stream",
     "text": [
      "Make DONE\n",
      "https://github.com/Chitratech/bubble.git\n",
      "repo_name Chitratech_____bubble\n",
      "git clone https://github.com/Chitratech/bubble.git /home/nahid/dataset/clones/Chitratech_____bubble \n"
     ]
    },
    {
     "name": "stderr",
     "output_type": "stream",
     "text": [
      "Cloning into '/home/nahid/dataset/clones/Chitratech_____bubble'...\n"
     ]
    },
    {
     "name": "stdout",
     "output_type": "stream",
     "text": [
      "Make DONE\n",
      "https://github.com/fuadoluwaniyi/alx-low_level_programming1.git\n",
      "repo_name fuadoluwaniyi_____alx-low_level_programming1\n",
      "git clone https://github.com/fuadoluwaniyi/alx-low_level_programming1.git /home/nahid/dataset/clones/fuadoluwaniyi_____alx-low_level_programming1 \n"
     ]
    },
    {
     "name": "stderr",
     "output_type": "stream",
     "text": [
      "Cloning into '/home/nahid/dataset/clones/fuadoluwaniyi_____alx-low_level_programming1'...\n"
     ]
    },
    {
     "name": "stdout",
     "output_type": "stream",
     "text": [
      "Make DONE\n",
      "https://github.com/ElectronSz/Encrypted-Chat-Server-Using-C-Programming-and-OpenSSL-AES-DES.git\n",
      "repo_name ElectronSz_____Encrypted-Chat-Server-Using-C-Programming-and-OpenSSL-AES-DES\n",
      "git clone https://github.com/ElectronSz/Encrypted-Chat-Server-Using-C-Programming-and-OpenSSL-AES-DES.git /home/nahid/dataset/clones/ElectronSz_____Encrypted-Chat-Server-Using-C-Programming-and-OpenSSL-AES-DES \n"
     ]
    },
    {
     "name": "stderr",
     "output_type": "stream",
     "text": [
      "Cloning into '/home/nahid/dataset/clones/ElectronSz_____Encrypted-Chat-Server-Using-C-Programming-and-OpenSSL-AES-DES'...\n"
     ]
    },
    {
     "name": "stdout",
     "output_type": "stream",
     "text": [
      "Make DONE\n",
      "https://github.com/kmefeu/C.git\n",
      "repo_name kmefeu_____C\n",
      "git clone https://github.com/kmefeu/C.git /home/nahid/dataset/clones/kmefeu_____C \n"
     ]
    },
    {
     "name": "stderr",
     "output_type": "stream",
     "text": [
      "Cloning into '/home/nahid/dataset/clones/kmefeu_____C'...\n"
     ]
    },
    {
     "name": "stdout",
     "output_type": "stream",
     "text": [
      "Make DONE\n",
      "https://github.com/ecaoili24/holbertonschool-low_level_programming.git\n",
      "repo_name ecaoili24_____holbertonschool-low_level_programming\n",
      "git clone https://github.com/ecaoili24/holbertonschool-low_level_programming.git /home/nahid/dataset/clones/ecaoili24_____holbertonschool-low_level_programming \n"
     ]
    },
    {
     "name": "stderr",
     "output_type": "stream",
     "text": [
      "Cloning into '/home/nahid/dataset/clones/ecaoili24_____holbertonschool-low_level_programming'...\n"
     ]
    },
    {
     "name": "stdout",
     "output_type": "stream",
     "text": [
      "Make DONE\n",
      "https://github.com/sally20921/cachelab.git\n",
      "repo_name sally20921_____cachelab\n",
      "git clone https://github.com/sally20921/cachelab.git /home/nahid/dataset/clones/sally20921_____cachelab \n"
     ]
    },
    {
     "name": "stderr",
     "output_type": "stream",
     "text": [
      "Cloning into '/home/nahid/dataset/clones/sally20921_____cachelab'...\n"
     ]
    },
    {
     "name": "stdout",
     "output_type": "stream",
     "text": [
      "Make DONE\n",
      "https://github.com/ProfAvery/cpsc223c.git\n",
      "repo_name ProfAvery_____cpsc223c\n",
      "git clone https://github.com/ProfAvery/cpsc223c.git /home/nahid/dataset/clones/ProfAvery_____cpsc223c \n"
     ]
    },
    {
     "name": "stderr",
     "output_type": "stream",
     "text": [
      "Cloning into '/home/nahid/dataset/clones/ProfAvery_____cpsc223c'...\n"
     ]
    },
    {
     "name": "stdout",
     "output_type": "stream",
     "text": [
      "Make DONE\n",
      "https://github.com/sujansince2003/C_programs.git\n",
      "repo_name sujansince2003_____C_programs\n",
      "git clone https://github.com/sujansince2003/C_programs.git /home/nahid/dataset/clones/sujansince2003_____C_programs \n"
     ]
    },
    {
     "name": "stderr",
     "output_type": "stream",
     "text": [
      "Cloning into '/home/nahid/dataset/clones/sujansince2003_____C_programs'...\n"
     ]
    },
    {
     "name": "stdout",
     "output_type": "stream",
     "text": [
      "Make DONE\n",
      "https://github.com/soupi/3-C-Sorting-Algorithms.git\n",
      "repo_name soupi_____3-C-Sorting-Algorithms\n",
      "git clone https://github.com/soupi/3-C-Sorting-Algorithms.git /home/nahid/dataset/clones/soupi_____3-C-Sorting-Algorithms \n"
     ]
    },
    {
     "name": "stderr",
     "output_type": "stream",
     "text": [
      "Cloning into '/home/nahid/dataset/clones/soupi_____3-C-Sorting-Algorithms'...\n"
     ]
    },
    {
     "name": "stdout",
     "output_type": "stream",
     "text": [
      "Make DONE\n",
      "https://github.com/Parigyan/ASCII-Chess.git\n",
      "repo_name Parigyan_____ASCII-Chess\n",
      "git clone https://github.com/Parigyan/ASCII-Chess.git /home/nahid/dataset/clones/Parigyan_____ASCII-Chess \n"
     ]
    },
    {
     "name": "stderr",
     "output_type": "stream",
     "text": [
      "Cloning into '/home/nahid/dataset/clones/Parigyan_____ASCII-Chess'...\n"
     ]
    },
    {
     "name": "stdout",
     "output_type": "stream",
     "text": [
      "Make DONE\n",
      "https://github.com/Anti1212/C-programs.git\n",
      "repo_name Anti1212_____C-programs\n",
      "git clone https://github.com/Anti1212/C-programs.git /home/nahid/dataset/clones/Anti1212_____C-programs \n"
     ]
    },
    {
     "name": "stderr",
     "output_type": "stream",
     "text": [
      "Cloning into '/home/nahid/dataset/clones/Anti1212_____C-programs'...\n"
     ]
    },
    {
     "name": "stdout",
     "output_type": "stream",
     "text": [
      "Make DONE\n",
      "https://github.com/ARM-software/progress64.git\n",
      "repo_name ARM-software_____progress64\n",
      "git clone https://github.com/ARM-software/progress64.git /home/nahid/dataset/clones/ARM-software_____progress64 \n"
     ]
    },
    {
     "name": "stderr",
     "output_type": "stream",
     "text": [
      "Cloning into '/home/nahid/dataset/clones/ARM-software_____progress64'...\n"
     ]
    },
    {
     "name": "stdout",
     "output_type": "stream",
     "text": [
      "Make DONE\n",
      "https://github.com/jatinmandav/C-Programming.git\n",
      "repo_name jatinmandav_____C-Programming\n",
      "git clone https://github.com/jatinmandav/C-Programming.git /home/nahid/dataset/clones/jatinmandav_____C-Programming \n"
     ]
    },
    {
     "name": "stderr",
     "output_type": "stream",
     "text": [
      "Cloning into '/home/nahid/dataset/clones/jatinmandav_____C-Programming'...\n"
     ]
    },
    {
     "name": "stdout",
     "output_type": "stream",
     "text": [
      "Make DONE\n",
      "https://github.com/athityakumar/or_lab.git\n",
      "repo_name athityakumar_____or_lab\n",
      "git clone https://github.com/athityakumar/or_lab.git /home/nahid/dataset/clones/athityakumar_____or_lab \n"
     ]
    },
    {
     "name": "stderr",
     "output_type": "stream",
     "text": [
      "Cloning into '/home/nahid/dataset/clones/athityakumar_____or_lab'...\n"
     ]
    },
    {
     "name": "stdout",
     "output_type": "stream",
     "text": [
      "Make DONE\n",
      "https://github.com/danjperron/mpu6050TestInC.git\n",
      "repo_name danjperron_____mpu6050TestInC\n",
      "git clone https://github.com/danjperron/mpu6050TestInC.git /home/nahid/dataset/clones/danjperron_____mpu6050TestInC \n"
     ]
    },
    {
     "name": "stderr",
     "output_type": "stream",
     "text": [
      "Cloning into '/home/nahid/dataset/clones/danjperron_____mpu6050TestInC'...\n"
     ]
    },
    {
     "name": "stdout",
     "output_type": "stream",
     "text": [
      "Make DONE\n",
      "https://github.com/pranavdheer/Real-time-chat-application-in-c.git\n",
      "repo_name pranavdheer_____Real-time-chat-application-in-c\n",
      "git clone https://github.com/pranavdheer/Real-time-chat-application-in-c.git /home/nahid/dataset/clones/pranavdheer_____Real-time-chat-application-in-c \n"
     ]
    },
    {
     "name": "stderr",
     "output_type": "stream",
     "text": [
      "Cloning into '/home/nahid/dataset/clones/pranavdheer_____Real-time-chat-application-in-c'...\n"
     ]
    },
    {
     "name": "stdout",
     "output_type": "stream",
     "text": [
      "Make DONE\n",
      "https://github.com/so-sc/pcd-lab-programs.git\n",
      "repo_name so-sc_____pcd-lab-programs\n",
      "git clone https://github.com/so-sc/pcd-lab-programs.git /home/nahid/dataset/clones/so-sc_____pcd-lab-programs \n"
     ]
    },
    {
     "name": "stderr",
     "output_type": "stream",
     "text": [
      "Cloning into '/home/nahid/dataset/clones/so-sc_____pcd-lab-programs'...\n"
     ]
    },
    {
     "name": "stdout",
     "output_type": "stream",
     "text": [
      "Make DONE\n",
      "https://github.com/mcinglis/macrofun.git\n",
      "repo_name mcinglis_____macrofun\n",
      "git clone https://github.com/mcinglis/macrofun.git /home/nahid/dataset/clones/mcinglis_____macrofun \n"
     ]
    },
    {
     "name": "stderr",
     "output_type": "stream",
     "text": [
      "Cloning into '/home/nahid/dataset/clones/mcinglis_____macrofun'...\n"
     ]
    },
    {
     "name": "stdout",
     "output_type": "stream",
     "text": [
      "Make DONE\n",
      "https://github.com/artyom-poptsov/guile-ssh.git\n",
      "repo_name artyom-poptsov_____guile-ssh\n",
      "git clone https://github.com/artyom-poptsov/guile-ssh.git /home/nahid/dataset/clones/artyom-poptsov_____guile-ssh \n"
     ]
    },
    {
     "name": "stderr",
     "output_type": "stream",
     "text": [
      "Cloning into '/home/nahid/dataset/clones/artyom-poptsov_____guile-ssh'...\n"
     ]
    },
    {
     "name": "stdout",
     "output_type": "stream",
     "text": [
      "Make DONE\n",
      "https://github.com/sysprog21/phonebook-concurrent.git\n",
      "repo_name sysprog21_____phonebook-concurrent\n",
      "git clone https://github.com/sysprog21/phonebook-concurrent.git /home/nahid/dataset/clones/sysprog21_____phonebook-concurrent \n"
     ]
    },
    {
     "name": "stderr",
     "output_type": "stream",
     "text": [
      "Cloning into '/home/nahid/dataset/clones/sysprog21_____phonebook-concurrent'...\n"
     ]
    },
    {
     "name": "stdout",
     "output_type": "stream",
     "text": [
      "Make DONE\n",
      "https://github.com/Seaworth/network_programming.git\n",
      "repo_name Seaworth_____network_programming\n",
      "git clone https://github.com/Seaworth/network_programming.git /home/nahid/dataset/clones/Seaworth_____network_programming \n"
     ]
    },
    {
     "name": "stderr",
     "output_type": "stream",
     "text": [
      "Cloning into '/home/nahid/dataset/clones/Seaworth_____network_programming'...\n"
     ]
    },
    {
     "name": "stdout",
     "output_type": "stream",
     "text": [
      "Make DONE\n",
      "https://github.com/Samuel-IG16/alx-low_level_programming.git\n",
      "repo_name Samuel-IG16_____alx-low_level_programming\n",
      "git clone https://github.com/Samuel-IG16/alx-low_level_programming.git /home/nahid/dataset/clones/Samuel-IG16_____alx-low_level_programming \n"
     ]
    },
    {
     "name": "stderr",
     "output_type": "stream",
     "text": [
      "Cloning into '/home/nahid/dataset/clones/Samuel-IG16_____alx-low_level_programming'...\n"
     ]
    },
    {
     "name": "stdout",
     "output_type": "stream",
     "text": [
      "Make DONE\n",
      "https://github.com/Jilroge7/holbertonschool-low_level_programming.git\n",
      "repo_name Jilroge7_____holbertonschool-low_level_programming\n",
      "git clone https://github.com/Jilroge7/holbertonschool-low_level_programming.git /home/nahid/dataset/clones/Jilroge7_____holbertonschool-low_level_programming \n"
     ]
    },
    {
     "name": "stderr",
     "output_type": "stream",
     "text": [
      "Cloning into '/home/nahid/dataset/clones/Jilroge7_____holbertonschool-low_level_programming'...\n"
     ]
    },
    {
     "name": "stdout",
     "output_type": "stream",
     "text": [
      "Make DONE\n",
      "https://github.com/BR903/cppp.git\n",
      "repo_name BR903_____cppp\n",
      "git clone https://github.com/BR903/cppp.git /home/nahid/dataset/clones/BR903_____cppp \n"
     ]
    },
    {
     "name": "stderr",
     "output_type": "stream",
     "text": [
      "Cloning into '/home/nahid/dataset/clones/BR903_____cppp'...\n"
     ]
    },
    {
     "name": "stdout",
     "output_type": "stream",
     "text": [
      "Make DONE\n",
      "https://github.com/coin-or/Csdp.git\n",
      "repo_name coin-or_____Csdp\n",
      "git clone https://github.com/coin-or/Csdp.git /home/nahid/dataset/clones/coin-or_____Csdp \n"
     ]
    },
    {
     "name": "stderr",
     "output_type": "stream",
     "text": [
      "Cloning into '/home/nahid/dataset/clones/coin-or_____Csdp'...\n"
     ]
    },
    {
     "name": "stdout",
     "output_type": "stream",
     "text": [
      "Make DONE\n",
      "https://github.com/avaxar/Kithare.git\n",
      "repo_name avaxar_____Kithare\n",
      "git clone https://github.com/avaxar/Kithare.git /home/nahid/dataset/clones/avaxar_____Kithare \n"
     ]
    },
    {
     "name": "stderr",
     "output_type": "stream",
     "text": [
      "Cloning into '/home/nahid/dataset/clones/avaxar_____Kithare'...\n"
     ]
    },
    {
     "name": "stdout",
     "output_type": "stream",
     "text": [
      "Make DONE\n",
      "https://github.com/bp274/Tabulation-method-Quine-McCluskey-.git\n",
      "repo_name bp274_____Tabulation-method-Quine-McCluskey-\n",
      "git clone https://github.com/bp274/Tabulation-method-Quine-McCluskey-.git /home/nahid/dataset/clones/bp274_____Tabulation-method-Quine-McCluskey- \n"
     ]
    },
    {
     "name": "stderr",
     "output_type": "stream",
     "text": [
      "Cloning into '/home/nahid/dataset/clones/bp274_____Tabulation-method-Quine-McCluskey-'...\n"
     ]
    },
    {
     "name": "stdout",
     "output_type": "stream",
     "text": [
      "Make DONE\n",
      "https://github.com/Parv-cell/alx-low_level_programming.git\n",
      "repo_name Parv-cell_____alx-low_level_programming\n",
      "git clone https://github.com/Parv-cell/alx-low_level_programming.git /home/nahid/dataset/clones/Parv-cell_____alx-low_level_programming \n"
     ]
    },
    {
     "name": "stderr",
     "output_type": "stream",
     "text": [
      "Cloning into '/home/nahid/dataset/clones/Parv-cell_____alx-low_level_programming'...\n"
     ]
    },
    {
     "name": "stdout",
     "output_type": "stream",
     "text": [
      "Make DONE\n",
      "https://github.com/mcu-india/CPL.git\n",
      "repo_name mcu-india_____CPL\n",
      "git clone https://github.com/mcu-india/CPL.git /home/nahid/dataset/clones/mcu-india_____CPL \n"
     ]
    },
    {
     "name": "stderr",
     "output_type": "stream",
     "text": [
      "Cloning into '/home/nahid/dataset/clones/mcu-india_____CPL'...\n"
     ]
    },
    {
     "name": "stdout",
     "output_type": "stream",
     "text": [
      "Make DONE\n",
      "https://github.com/armudgal/keylogger.git\n",
      "repo_name armudgal_____keylogger\n",
      "git clone https://github.com/armudgal/keylogger.git /home/nahid/dataset/clones/armudgal_____keylogger \n"
     ]
    },
    {
     "name": "stderr",
     "output_type": "stream",
     "text": [
      "Cloning into '/home/nahid/dataset/clones/armudgal_____keylogger'...\n"
     ]
    },
    {
     "name": "stdout",
     "output_type": "stream",
     "text": [
      "Make DONE\n",
      "https://github.com/uucidl/uu.spdr.git\n",
      "repo_name uucidl_____uu.spdr\n",
      "git clone https://github.com/uucidl/uu.spdr.git /home/nahid/dataset/clones/uucidl_____uu.spdr \n"
     ]
    },
    {
     "name": "stderr",
     "output_type": "stream",
     "text": [
      "Cloning into '/home/nahid/dataset/clones/uucidl_____uu.spdr'...\n"
     ]
    },
    {
     "name": "stdout",
     "output_type": "stream",
     "text": [
      "Make DONE\n",
      "https://github.com/erlehmann/algorithmic-symphonies.git\n",
      "repo_name erlehmann_____algorithmic-symphonies\n",
      "git clone https://github.com/erlehmann/algorithmic-symphonies.git /home/nahid/dataset/clones/erlehmann_____algorithmic-symphonies \n"
     ]
    },
    {
     "name": "stderr",
     "output_type": "stream",
     "text": [
      "Cloning into '/home/nahid/dataset/clones/erlehmann_____algorithmic-symphonies'...\n"
     ]
    },
    {
     "name": "stdout",
     "output_type": "stream",
     "text": [
      "Make DONE\n",
      "https://github.com/MayRainWay/C-Programming-Language.git\n",
      "repo_name MayRainWay_____C-Programming-Language\n",
      "git clone https://github.com/MayRainWay/C-Programming-Language.git /home/nahid/dataset/clones/MayRainWay_____C-Programming-Language \n"
     ]
    },
    {
     "name": "stderr",
     "output_type": "stream",
     "text": [
      "Cloning into '/home/nahid/dataset/clones/MayRainWay_____C-Programming-Language'...\n"
     ]
    },
    {
     "name": "stdout",
     "output_type": "stream",
     "text": [
      "Make DONE\n",
      "https://github.com/keithnoguchi/advanced-c-programming.git\n",
      "repo_name keithnoguchi_____advanced-c-programming\n",
      "git clone https://github.com/keithnoguchi/advanced-c-programming.git /home/nahid/dataset/clones/keithnoguchi_____advanced-c-programming \n"
     ]
    },
    {
     "name": "stderr",
     "output_type": "stream",
     "text": [
      "Cloning into '/home/nahid/dataset/clones/keithnoguchi_____advanced-c-programming'...\n"
     ]
    },
    {
     "name": "stdout",
     "output_type": "stream",
     "text": [
      "Make DONE\n",
      "https://github.com/Kaur-mahar/Programming-Patterns---Webkul.git\n",
      "repo_name Kaur-mahar_____Programming-Patterns---Webkul\n",
      "git clone https://github.com/Kaur-mahar/Programming-Patterns---Webkul.git /home/nahid/dataset/clones/Kaur-mahar_____Programming-Patterns---Webkul \n"
     ]
    },
    {
     "name": "stderr",
     "output_type": "stream",
     "text": [
      "Cloning into '/home/nahid/dataset/clones/Kaur-mahar_____Programming-Patterns---Webkul'...\n"
     ]
    },
    {
     "name": "stdout",
     "output_type": "stream",
     "text": [
      "Make DONE\n",
      "https://github.com/sosschs9/2022_C_Programming.git\n",
      "repo_name sosschs9_____2022_C_Programming\n",
      "git clone https://github.com/sosschs9/2022_C_Programming.git /home/nahid/dataset/clones/sosschs9_____2022_C_Programming \n"
     ]
    },
    {
     "name": "stderr",
     "output_type": "stream",
     "text": [
      "Cloning into '/home/nahid/dataset/clones/sosschs9_____2022_C_Programming'...\n"
     ]
    },
    {
     "name": "stdout",
     "output_type": "stream",
     "text": [
      "Make DONE\n",
      "https://github.com/faheemzunjani/Cool-Practice-Programs.git\n",
      "repo_name faheemzunjani_____Cool-Practice-Programs\n",
      "git clone https://github.com/faheemzunjani/Cool-Practice-Programs.git /home/nahid/dataset/clones/faheemzunjani_____Cool-Practice-Programs \n"
     ]
    },
    {
     "name": "stderr",
     "output_type": "stream",
     "text": [
      "Cloning into '/home/nahid/dataset/clones/faheemzunjani_____Cool-Practice-Programs'...\n"
     ]
    },
    {
     "name": "stdout",
     "output_type": "stream",
     "text": [
      "Make DONE\n",
      "https://github.com/abhishek-shukla21/C-Programs.git\n",
      "repo_name abhishek-shukla21_____C-Programs\n",
      "git clone https://github.com/abhishek-shukla21/C-Programs.git /home/nahid/dataset/clones/abhishek-shukla21_____C-Programs \n"
     ]
    },
    {
     "name": "stderr",
     "output_type": "stream",
     "text": [
      "Cloning into '/home/nahid/dataset/clones/abhishek-shukla21_____C-Programs'...\n"
     ]
    },
    {
     "name": "stdout",
     "output_type": "stream",
     "text": [
      "Make DONE\n",
      "https://github.com/exoticlibraries/libcester.git\n",
      "repo_name exoticlibraries_____libcester\n",
      "git clone https://github.com/exoticlibraries/libcester.git /home/nahid/dataset/clones/exoticlibraries_____libcester \n"
     ]
    },
    {
     "name": "stderr",
     "output_type": "stream",
     "text": [
      "Cloning into '/home/nahid/dataset/clones/exoticlibraries_____libcester'...\n"
     ]
    },
    {
     "name": "stdout",
     "output_type": "stream",
     "text": [
      "Make DONE\n",
      "https://github.com/AugustineAykara/Data-Structure-In-C.git\n",
      "repo_name AugustineAykara_____Data-Structure-In-C\n",
      "git clone https://github.com/AugustineAykara/Data-Structure-In-C.git /home/nahid/dataset/clones/AugustineAykara_____Data-Structure-In-C \n"
     ]
    },
    {
     "name": "stderr",
     "output_type": "stream",
     "text": [
      "Cloning into '/home/nahid/dataset/clones/AugustineAykara_____Data-Structure-In-C'...\n"
     ]
    },
    {
     "name": "stdout",
     "output_type": "stream",
     "text": [
      "Make DONE\n",
      "https://github.com/yangyang14641/ParallelProgrammingCourse.git\n",
      "repo_name yangyang14641_____ParallelProgrammingCourse\n",
      "git clone https://github.com/yangyang14641/ParallelProgrammingCourse.git /home/nahid/dataset/clones/yangyang14641_____ParallelProgrammingCourse \n"
     ]
    },
    {
     "name": "stderr",
     "output_type": "stream",
     "text": [
      "Cloning into '/home/nahid/dataset/clones/yangyang14641_____ParallelProgrammingCourse'...\n"
     ]
    },
    {
     "name": "stdout",
     "output_type": "stream",
     "text": [
      "Make DONE\n",
      "https://github.com/ripgamer/c.git\n",
      "repo_name ripgamer_____c\n",
      "git clone https://github.com/ripgamer/c.git /home/nahid/dataset/clones/ripgamer_____c \n"
     ]
    },
    {
     "name": "stderr",
     "output_type": "stream",
     "text": [
      "Cloning into '/home/nahid/dataset/clones/ripgamer_____c'...\n"
     ]
    },
    {
     "name": "stdout",
     "output_type": "stream",
     "text": [
      "Make DONE\n",
      "https://github.com/Clara-Musyoka/holbertonschool-low_level_programming.git\n",
      "repo_name Clara-Musyoka_____holbertonschool-low_level_programming\n",
      "git clone https://github.com/Clara-Musyoka/holbertonschool-low_level_programming.git /home/nahid/dataset/clones/Clara-Musyoka_____holbertonschool-low_level_programming \n"
     ]
    },
    {
     "name": "stderr",
     "output_type": "stream",
     "text": [
      "Cloning into '/home/nahid/dataset/clones/Clara-Musyoka_____holbertonschool-low_level_programming'...\n"
     ]
    },
    {
     "name": "stdout",
     "output_type": "stream",
     "text": [
      "Make DONE\n",
      "https://github.com/camilooob/holbertonschool-low_level_programming.git\n",
      "repo_name camilooob_____holbertonschool-low_level_programming\n",
      "git clone https://github.com/camilooob/holbertonschool-low_level_programming.git /home/nahid/dataset/clones/camilooob_____holbertonschool-low_level_programming \n"
     ]
    },
    {
     "name": "stderr",
     "output_type": "stream",
     "text": [
      "Cloning into '/home/nahid/dataset/clones/camilooob_____holbertonschool-low_level_programming'...\n"
     ]
    },
    {
     "name": "stdout",
     "output_type": "stream",
     "text": [
      "Make DONE\n",
      "https://github.com/zakaria5729/c-programming-projects.git\n",
      "repo_name zakaria5729_____c-programming-projects\n",
      "git clone https://github.com/zakaria5729/c-programming-projects.git /home/nahid/dataset/clones/zakaria5729_____c-programming-projects \n"
     ]
    },
    {
     "name": "stderr",
     "output_type": "stream",
     "text": [
      "Cloning into '/home/nahid/dataset/clones/zakaria5729_____c-programming-projects'...\n"
     ]
    },
    {
     "name": "stdout",
     "output_type": "stream",
     "text": [
      "Make DONE\n",
      "https://github.com/ajfvdev/Snake-Game.git\n",
      "repo_name ajfvdev_____Snake-Game\n",
      "git clone https://github.com/ajfvdev/Snake-Game.git /home/nahid/dataset/clones/ajfvdev_____Snake-Game \n"
     ]
    },
    {
     "name": "stderr",
     "output_type": "stream",
     "text": [
      "Cloning into '/home/nahid/dataset/clones/ajfvdev_____Snake-Game'...\n"
     ]
    },
    {
     "name": "stdout",
     "output_type": "stream",
     "text": [
      "Make DONE\n",
      "https://github.com/OKOYE-JOHNBOSCO-CHINAZAEKPERE/alx-low_level_programming.git\n",
      "repo_name OKOYE-JOHNBOSCO-CHINAZAEKPERE_____alx-low_level_programming\n",
      "git clone https://github.com/OKOYE-JOHNBOSCO-CHINAZAEKPERE/alx-low_level_programming.git /home/nahid/dataset/clones/OKOYE-JOHNBOSCO-CHINAZAEKPERE_____alx-low_level_programming \n"
     ]
    },
    {
     "name": "stderr",
     "output_type": "stream",
     "text": [
      "Cloning into '/home/nahid/dataset/clones/OKOYE-JOHNBOSCO-CHINAZAEKPERE_____alx-low_level_programming'...\n"
     ]
    },
    {
     "name": "stdout",
     "output_type": "stream",
     "text": [
      "Make DONE\n",
      "https://github.com/andrey-malets/C.git\n",
      "repo_name andrey-malets_____C\n",
      "git clone https://github.com/andrey-malets/C.git /home/nahid/dataset/clones/andrey-malets_____C \n"
     ]
    },
    {
     "name": "stderr",
     "output_type": "stream",
     "text": [
      "Cloning into '/home/nahid/dataset/clones/andrey-malets_____C'...\n"
     ]
    },
    {
     "name": "stdout",
     "output_type": "stream",
     "text": [
      "Make DONE\n",
      "https://github.com/MSFTserver/RavenCoin-Wallet-With-Miners.git\n",
      "repo_name MSFTserver_____RavenCoin-Wallet-With-Miners\n",
      "git clone https://github.com/MSFTserver/RavenCoin-Wallet-With-Miners.git /home/nahid/dataset/clones/MSFTserver_____RavenCoin-Wallet-With-Miners \n"
     ]
    },
    {
     "name": "stderr",
     "output_type": "stream",
     "text": [
      "Cloning into '/home/nahid/dataset/clones/MSFTserver_____RavenCoin-Wallet-With-Miners'...\n"
     ]
    },
    {
     "name": "stdout",
     "output_type": "stream",
     "text": [
      "Timeout for # git clone https://github.com/MSFTserver/RavenCoin-Wallet-With-Miners.git /home/nahid/dataset/clones/MSFTserver_____RavenCoin-Wallet-With-Miners   # (120s) expired\n",
      "https://github.com/y-flat/yfc.git\n",
      "repo_name y-flat_____yfc\n",
      "git clone https://github.com/y-flat/yfc.git /home/nahid/dataset/clones/y-flat_____yfc \n"
     ]
    },
    {
     "name": "stderr",
     "output_type": "stream",
     "text": [
      "Cloning into '/home/nahid/dataset/clones/y-flat_____yfc'...\n"
     ]
    },
    {
     "name": "stdout",
     "output_type": "stream",
     "text": [
      "Make DONE\n",
      "https://github.com/Tr-reny/alx-low_level_programming.git\n",
      "repo_name Tr-reny_____alx-low_level_programming\n",
      "git clone https://github.com/Tr-reny/alx-low_level_programming.git /home/nahid/dataset/clones/Tr-reny_____alx-low_level_programming \n"
     ]
    },
    {
     "name": "stderr",
     "output_type": "stream",
     "text": [
      "Cloning into '/home/nahid/dataset/clones/Tr-reny_____alx-low_level_programming'...\n"
     ]
    },
    {
     "name": "stdout",
     "output_type": "stream",
     "text": [
      "Make DONE\n",
      "https://github.com/eisuto/CharacterAnimation.git\n",
      "repo_name eisuto_____CharacterAnimation\n",
      "git clone https://github.com/eisuto/CharacterAnimation.git /home/nahid/dataset/clones/eisuto_____CharacterAnimation \n"
     ]
    },
    {
     "name": "stderr",
     "output_type": "stream",
     "text": [
      "Cloning into '/home/nahid/dataset/clones/eisuto_____CharacterAnimation'...\n"
     ]
    },
    {
     "name": "stdout",
     "output_type": "stream",
     "text": [
      "Make DONE\n",
      "https://github.com/suda-morris/LiteOOC.git\n",
      "repo_name suda-morris_____LiteOOC\n",
      "git clone https://github.com/suda-morris/LiteOOC.git /home/nahid/dataset/clones/suda-morris_____LiteOOC \n"
     ]
    },
    {
     "name": "stderr",
     "output_type": "stream",
     "text": [
      "Cloning into '/home/nahid/dataset/clones/suda-morris_____LiteOOC'...\n"
     ]
    },
    {
     "name": "stdout",
     "output_type": "stream",
     "text": [
      "Make DONE\n",
      "https://github.com/davidtwco/ansi-c-exercises.git\n",
      "repo_name davidtwco_____ansi-c-exercises\n",
      "git clone https://github.com/davidtwco/ansi-c-exercises.git /home/nahid/dataset/clones/davidtwco_____ansi-c-exercises \n"
     ]
    },
    {
     "name": "stderr",
     "output_type": "stream",
     "text": [
      "Cloning into '/home/nahid/dataset/clones/davidtwco_____ansi-c-exercises'...\n"
     ]
    },
    {
     "name": "stdout",
     "output_type": "stream",
     "text": [
      "Make DONE\n",
      "https://github.com/scholargj/CSE110-Problem-Solving-and-Programming-in-C.git\n",
      "repo_name scholargj_____CSE110-Problem-Solving-and-Programming-in-C\n",
      "git clone https://github.com/scholargj/CSE110-Problem-Solving-and-Programming-in-C.git /home/nahid/dataset/clones/scholargj_____CSE110-Problem-Solving-and-Programming-in-C \n"
     ]
    },
    {
     "name": "stderr",
     "output_type": "stream",
     "text": [
      "Cloning into '/home/nahid/dataset/clones/scholargj_____CSE110-Problem-Solving-and-Programming-in-C'...\n"
     ]
    },
    {
     "name": "stdout",
     "output_type": "stream",
     "text": [
      "Make DONE\n",
      "https://github.com/its-Kumar/C_Programming.git\n",
      "repo_name its-Kumar_____C_Programming\n",
      "git clone https://github.com/its-Kumar/C_Programming.git /home/nahid/dataset/clones/its-Kumar_____C_Programming \n"
     ]
    },
    {
     "name": "stderr",
     "output_type": "stream",
     "text": [
      "Cloning into '/home/nahid/dataset/clones/its-Kumar_____C_Programming'...\n"
     ]
    },
    {
     "name": "stdout",
     "output_type": "stream",
     "text": [
      "Make DONE\n",
      "https://github.com/ashashu24/C-program.git\n",
      "repo_name ashashu24_____C-program\n",
      "git clone https://github.com/ashashu24/C-program.git /home/nahid/dataset/clones/ashashu24_____C-program \n"
     ]
    },
    {
     "name": "stderr",
     "output_type": "stream",
     "text": [
      "Cloning into '/home/nahid/dataset/clones/ashashu24_____C-program'...\n"
     ]
    },
    {
     "name": "stdout",
     "output_type": "stream",
     "text": [
      "Make DONE\n",
      "https://github.com/CGCL-codes/SCVDT.git\n",
      "repo_name CGCL-codes_____SCVDT\n",
      "git clone https://github.com/CGCL-codes/SCVDT.git /home/nahid/dataset/clones/CGCL-codes_____SCVDT \n"
     ]
    },
    {
     "name": "stderr",
     "output_type": "stream",
     "text": [
      "Cloning into '/home/nahid/dataset/clones/CGCL-codes_____SCVDT'...\n",
      "Updating files: 100% (52085/52085), done.\n",
      "Encountered 572 file(s) that should have been pointers, but weren't:\n",
      "\tLMFuzzer/jqf-new/.gitattributes\n",
      "\tLMFuzzer/jqf-new/.gitignore\n",
      "\tLMFuzzer/jqf-new/LICENSE\n",
      "\tLMFuzzer/jqf-new/Makefile\n",
      "\tLMFuzzer/jqf-new/README.md\n",
      "\tLMFuzzer/jqf-new/bin/.gitignore\n",
      "\tLMFuzzer/jqf-new/bin/jqf-LSTM\n",
      "\tLMFuzzer/jqf-new/bin/jqf-afl-cmin\n",
      "\tLMFuzzer/jqf-new/bin/jqf-afl-cmin-py\n",
      "\tLMFuzzer/jqf-new/bin/jqf-afl-fuzz\n",
      "\tLMFuzzer/jqf-new/bin/jqf-afl-showmap\n",
      "\tLMFuzzer/jqf-new/bin/jqf-afl-target\n",
      "\tLMFuzzer/jqf-new/bin/jqf-ei\n",
      "\tLMFuzzer/jqf-new/bin/jqf-lm\n",
      "\tLMFuzzer/jqf-new/bin/jqf-random\n",
      "\tLMFuzzer/jqf-new/bin/jqf-repro\n",
      "\tLMFuzzer/jqf-new/bin/jqf-vain\n",
      "\tLMFuzzer/jqf-new/bin/jqf-zest\n",
      "\tLMFuzzer/jqf-new/examples/NullpointerException/0.js\n",
      "\tLMFuzzer/jqf-new/examples/NullpointerException/1.js\n",
      "\tLMFuzzer/jqf-new/examples/NullpointerException/2.js\n",
      "\tLMFuzzer/jqf-new/examples/NullpointerException/3.js\n",
      "\tLMFuzzer/jqf-new/examples/NullpointerException/4.js\n",
      "\tLMFuzzer/jqf-new/examples/NullpointerException/5.js\n",
      "\tLMFuzzer/jqf-new/examples/NullpointerException/6.js\n",
      "\tLMFuzzer/jqf-new/examples/NullpointerException/7.js\n",
      "\tLMFuzzer/jqf-new/examples/NullpointerException/8.js\n",
      "\tLMFuzzer/jqf-new/examples/NullpointerException/9.js\n",
      "\tLMFuzzer/jqf-new/examples/closure-zest-result-1/failures/id_000005\n",
      "\tLMFuzzer/jqf-new/examples/closure-zest-result-1/failures/id_000006\n",
      "\tLMFuzzer/jqf-new/examples/closure-zest-result-1/plot_data\n",
      "\tLMFuzzer/jqf-new/examples/fen.txt\n",
      "\tLMFuzzer/jqf-new/examples/maven-result/.cur_input\n",
      "\tLMFuzzer/jqf-new/examples/maven-result/corpus/id_000000\n",
      "\tLMFuzzer/jqf-new/examples/maven-result/corpus/id_000001\n",
      "\tLMFuzzer/jqf-new/examples/maven-result/corpus/id_000002\n",
      "\tLMFuzzer/jqf-new/examples/maven-result/corpus/id_000003\n",
      "\tLMFuzzer/jqf-new/examples/maven-result/corpus/id_000004\n",
      "\tLMFuzzer/jqf-new/examples/maven-result/corpus/id_000005\n",
      "\tLMFuzzer/jqf-new/examples/maven-result/corpus/id_000006\n",
      "\tLMFuzzer/jqf-new/examples/maven-result/corpus/id_000007\n",
      "\tLMFuzzer/jqf-new/examples/maven-result/corpus/id_000008\n",
      "\tLMFuzzer/jqf-new/examples/maven-result/corpus/id_000009\n",
      "\tLMFuzzer/jqf-new/examples/maven-result/corpus/id_000010\n",
      "\tLMFuzzer/jqf-new/examples/maven-result/corpus/id_000011\n",
      "\tLMFuzzer/jqf-new/examples/maven-result/corpus/id_000012\n",
      "\tLMFuzzer/jqf-new/examples/maven-result/corpus/id_000013\n",
      "\tLMFuzzer/jqf-new/examples/maven-result/corpus/id_000014\n",
      "\tLMFuzzer/jqf-new/examples/maven-result/corpus/id_000015\n",
      "\tLMFuzzer/jqf-new/examples/maven-result/corpus/id_000016\n",
      "\tLMFuzzer/jqf-new/examples/maven-result/corpus/id_000017\n",
      "\tLMFuzzer/jqf-new/examples/maven-result/corpus/id_000018\n",
      "\tLMFuzzer/jqf-new/examples/maven-result/corpus/id_000019\n",
      "\tLMFuzzer/jqf-new/examples/maven-result/corpus/id_000020\n",
      "\tLMFuzzer/jqf-new/examples/maven-result/corpus/id_000021\n",
      "\tLMFuzzer/jqf-new/examples/maven-result/corpus/id_000022\n",
      "\tLMFuzzer/jqf-new/examples/maven-result/corpus/id_000023\n",
      "\tLMFuzzer/jqf-new/examples/maven-result/corpus/id_000024\n",
      "\tLMFuzzer/jqf-new/examples/maven-result/corpus/id_000025\n",
      "\tLMFuzzer/jqf-new/examples/maven-result/corpus/id_000026\n",
      "\tLMFuzzer/jqf-new/examples/maven-result/corpus/id_000027\n",
      "\tLMFuzzer/jqf-new/examples/maven-result/corpus/id_000028\n",
      "\tLMFuzzer/jqf-new/examples/maven-result/corpus/id_000029\n",
      "\tLMFuzzer/jqf-new/examples/maven-result/corpus/id_000030\n",
      "\tLMFuzzer/jqf-new/examples/maven-result/corpus/id_000031\n",
      "\tLMFuzzer/jqf-new/examples/maven-result/corpus/id_000032\n",
      "\tLMFuzzer/jqf-new/examples/maven-result/corpus/id_000033\n",
      "\tLMFuzzer/jqf-new/examples/maven-result/corpus/id_000034\n",
      "\tLMFuzzer/jqf-new/examples/maven-result/corpus/id_000035\n",
      "\tLMFuzzer/jqf-new/examples/maven-result/corpus/id_000036\n",
      "\tLMFuzzer/jqf-new/examples/maven-result/corpus/id_000037\n",
      "\tLMFuzzer/jqf-new/examples/maven-result/corpus/id_000038\n",
      "\tLMFuzzer/jqf-new/examples/maven-result/corpus/id_000039\n",
      "\tLMFuzzer/jqf-new/examples/maven-result/plot_data\n",
      "\tLMFuzzer/jqf-new/examples/pom.xml\n",
      "\tLMFuzzer/jqf-new/examples/src/main/java/edu/berkeley/cs/jqf/examples/algs4/BoyerMoore.java\n",
      "\tLMFuzzer/jqf-new/examples/src/main/java/edu/berkeley/cs/jqf/examples/bcel/JavaClassGenerator.java\n",
      "\tLMFuzzer/jqf-new/examples/src/main/java/edu/berkeley/cs/jqf/examples/chess/FENGenerator.java\n",
      "\tLMFuzzer/jqf-new/examples/src/main/java/edu/berkeley/cs/jqf/examples/common/AlphaStringGenerator.java\n",
      "\tLMFuzzer/jqf-new/examples/src/main/java/edu/berkeley/cs/jqf/examples/common/ArbitraryLengthStringGenerator.java\n",
      "\tLMFuzzer/jqf-new/examples/src/main/java/edu/berkeley/cs/jqf/examples/common/AsciiStringGenerator.java\n",
      "\tLMFuzzer/jqf-new/examples/src/main/java/edu/berkeley/cs/jqf/examples/common/Dictionary.java\n",
      "\tLMFuzzer/jqf-new/examples/src/main/java/edu/berkeley/cs/jqf/examples/common/DictionaryBackedStringGenerator.java\n",
      "\tLMFuzzer/jqf-new/examples/src/main/java/edu/berkeley/cs/jqf/examples/common/FixedSize.java\n",
      "\tLMFuzzer/jqf-new/examples/src/main/java/edu/berkeley/cs/jqf/examples/guava/CacheRequestsGenerator.java\n",
      "\tLMFuzzer/jqf-new/examples/src/main/java/edu/berkeley/cs/jqf/examples/imageio/ImageInputStreamGenerator.java\n",
      "\tLMFuzzer/jqf-new/examples/src/main/java/edu/berkeley/cs/jqf/examples/jgrapht/BitSetBasedSimpleGraphGenerator.java\n",
      "\tLMFuzzer/jqf-new/examples/src/main/java/edu/berkeley/cs/jqf/examples/jgrapht/FastGnmRandomGraphGenerator.java\n",
      "\tLMFuzzer/jqf-new/examples/src/main/java/edu/berkeley/cs/jqf/examples/jgrapht/GraphModel.java\n",
      "\tLMFuzzer/jqf-new/examples/src/main/java/edu/berkeley/cs/jqf/examples/jgrapht/ModelBasedDirectedGraphGenerator.java\n",
      "\tLMFuzzer/jqf-new/examples/src/main/java/edu/berkeley/cs/jqf/examples/jgrapht/ModelBasedGraphGenerator.java\n",
      "\tLMFuzzer/jqf-new/examples/src/main/java/edu/berkeley/cs/jqf/examples/jgrapht/Renderer.java\n",
      "\tLMFuzzer/jqf-new/examples/src/main/java/edu/berkeley/cs/jqf/examples/js/JavaScriptCodeGenerator.java\n",
      "\tLMFuzzer/jqf-new/examples/src/main/java/edu/berkeley/cs/jqf/examples/js/JavaScriptLMGenerator.java\n",
      "\tLMFuzzer/jqf-new/examples/src/main/java/edu/berkeley/cs/jqf/examples/js/JavaScriptLSTMGenerator.java\n",
      "\tLMFuzzer/jqf-new/examples/src/main/java/edu/berkeley/cs/jqf/examples/js/JavaScriptLSTMGenerator2.java\n",
      "\tLMFuzzer/jqf-new/examples/src/main/java/edu/berkeley/cs/jqf/examples/js/JavaScriptLSTMGenerator3.java\n",
      "\tLMFuzzer/jqf-new/examples/src/main/java/edu/berkeley/cs/jqf/examples/js/VainGenerator.java\n",
      "\tLMFuzzer/jqf-new/examples/src/main/java/edu/berkeley/cs/jqf/examples/kaitai/AbstractKaitaiGenerator.java\n",
      "\tLMFuzzer/jqf-new/examples/src/main/java/edu/berkeley/cs/jqf/examples/kaitai/KaitaiStream.java\n",
      "\tLMFuzzer/jqf-new/examples/src/main/java/edu/berkeley/cs/jqf/examples/kaitai/KaitaiStruct.java\n",
      "\tLMFuzzer/jqf-new/examples/src/main/java/edu/berkeley/cs/jqf/examples/kaitai/PngKaitaiGenerator.java\n",
      "\tLMFuzzer/jqf-new/examples/src/main/java/edu/berkeley/cs/jqf/examples/trees/BinaryTree.java\n",
      "\tLMFuzzer/jqf-new/examples/src/main/java/edu/berkeley/cs/jqf/examples/trees/RedBlackBST.java\n",
      "\tLMFuzzer/jqf-new/examples/src/main/java/edu/berkeley/cs/jqf/examples/trees/RedBlackBSTGenerator.java\n",
      "\tLMFuzzer/jqf-new/examples/src/main/java/edu/berkeley/cs/jqf/examples/trees/RedBlackBSTNode.java\n",
      "\tLMFuzzer/jqf-new/examples/src/main/java/edu/berkeley/cs/jqf/examples/trees/RedBlackBSTNodeGenerator.java\n",
      "\tLMFuzzer/jqf-new/examples/src/main/java/edu/berkeley/cs/jqf/examples/xml/XMLDocumentUtils.java\n",
      "\tLMFuzzer/jqf-new/examples/src/main/java/edu/berkeley/cs/jqf/examples/xml/XmlDocumentGenerator.java\n",
      "\tLMFuzzer/jqf-new/examples/src/main/resources/META-INF/services/com.pholser.junit.quickcheck.generator.Generator\n",
      "\tLMFuzzer/jqf-new/examples/src/test/crashes/kitty.crash\n",
      "\tLMFuzzer/jqf-new/examples/src/test/crashes/kitty.hang\n",
      "\tLMFuzzer/jqf-new/examples/src/test/java/closure-zest-result-1/plot_data\n",
      "\tLMFuzzer/jqf-new/examples/src/test/java/edu/berkeley/cs/jqf/examples/RobustnessTest.java\n",
      "\tLMFuzzer/jqf-new/examples/src/test/java/edu/berkeley/cs/jqf/examples/ScriptEngine/ScriptEnginrTest.java\n",
      "\tLMFuzzer/jqf-new/examples/src/test/java/edu/berkeley/cs/jqf/examples/TraceEventTest.java\n",
      "\tLMFuzzer/jqf-new/examples/src/test/java/edu/berkeley/cs/jqf/examples/algs4/StringSearchTest.java\n",
      "\tLMFuzzer/jqf-new/examples/src/test/java/edu/berkeley/cs/jqf/examples/ant/ProjectBuilderTest.java\n",
      "\tLMFuzzer/jqf-new/examples/src/test/java/edu/berkeley/cs/jqf/examples/bcel/ParserTest.java\n",
      "\tLMFuzzer/jqf-new/examples/src/test/java/edu/berkeley/cs/jqf/examples/chess/FENTest.java\n",
      "\tLMFuzzer/jqf-new/examples/src/test/java/edu/berkeley/cs/jqf/examples/chess/MoveTest.java\n",
      "\tLMFuzzer/jqf-new/examples/src/test/java/edu/berkeley/cs/jqf/examples/closure/CompilerTest.java\n",
      "\tLMFuzzer/jqf-new/examples/src/test/java/edu/berkeley/cs/jqf/examples/commons/CompressTest.java\n",
      "\tLMFuzzer/jqf-new/examples/src/test/java/edu/berkeley/cs/jqf/examples/commons/DecompressTest.java\n",
      "\tLMFuzzer/jqf-new/examples/src/test/java/edu/berkeley/cs/jqf/examples/commons/HashedMapTest.java\n",
      "\tLMFuzzer/jqf-new/examples/src/test/java/edu/berkeley/cs/jqf/examples/commons/MathTest.java\n",
      "\tLMFuzzer/jqf-new/examples/src/test/java/edu/berkeley/cs/jqf/examples/commons/PatriciaTrieTest.java\n",
      "\tLMFuzzer/jqf-new/examples/src/test/java/edu/berkeley/cs/jqf/examples/errorprone/CompilerTest.java\n",
      "\tLMFuzzer/jqf-new/examples/src/test/java/edu/berkeley/cs/jqf/examples/guava/CacheEvictionTest.java\n",
      "\tLMFuzzer/jqf-new/examples/src/test/java/edu/berkeley/cs/jqf/examples/htmlparser/htmlparsertest.java\n",
      "\tLMFuzzer/jqf-new/examples/src/test/java/edu/berkeley/cs/jqf/examples/imageio/GifReaderTest.java\n",
      "\tLMFuzzer/jqf-new/examples/src/test/java/edu/berkeley/cs/jqf/examples/imageio/JpegReaderTest.java\n",
      "\tLMFuzzer/jqf-new/examples/src/test/java/edu/berkeley/cs/jqf/examples/imageio/PngReaderTest.java\n",
      "\tLMFuzzer/jqf-new/examples/src/test/java/edu/berkeley/cs/jqf/examples/jdk/DateFormatterTest.java\n",
      "\tLMFuzzer/jqf-new/examples/src/test/java/edu/berkeley/cs/jqf/examples/jdk/HashTest.java\n",
      "\tLMFuzzer/jqf-new/examples/src/test/java/edu/berkeley/cs/jqf/examples/jdk/MultiThreadedTest.java\n",
      "\tLMFuzzer/jqf-new/examples/src/test/java/edu/berkeley/cs/jqf/examples/jdk/RegexTest.java\n",
      "\tLMFuzzer/jqf-new/examples/src/test/java/edu/berkeley/cs/jqf/examples/jdk/SetsTest.java\n",
      "\tLMFuzzer/jqf-new/examples/src/test/java/edu/berkeley/cs/jqf/examples/jdk/SortTest.java\n",
      "\tLMFuzzer/jqf-new/examples/src/test/java/edu/berkeley/cs/jqf/examples/jdk/URLTest.java\n",
      "\tLMFuzzer/jqf-new/examples/src/test/java/edu/berkeley/cs/jqf/examples/jgrapht/CyclesTest.java\n",
      "\tLMFuzzer/jqf-new/examples/src/test/java/edu/berkeley/cs/jqf/examples/jgrapht/DirectedGraphTest.java\n",
      "\tLMFuzzer/jqf-new/examples/src/test/java/edu/berkeley/cs/jqf/examples/jgrapht/LayoutTest.java\n",
      "\tLMFuzzer/jqf-new/examples/src/test/java/edu/berkeley/cs/jqf/examples/jgrapht/ShortestPathTest.java\n",
      "\tLMFuzzer/jqf-new/examples/src/test/java/edu/berkeley/cs/jqf/examples/jgrapht/SimpleGraphTest.java\n",
      "\tLMFuzzer/jqf-new/examples/src/test/java/edu/berkeley/cs/jqf/examples/jgrapht/SpanningTreeTest.java\n",
      "\tLMFuzzer/jqf-new/examples/src/test/java/edu/berkeley/cs/jqf/examples/jgrapht/WeightedGraphTest.java\n",
      "\tLMFuzzer/jqf-new/examples/src/test/java/edu/berkeley/cs/jqf/examples/maven/ModelReaderTest.java\n",
      "\tLMFuzzer/jqf-new/examples/src/test/java/edu/berkeley/cs/jqf/examples/rhino/CompilerTest.java\n",
      "\tLMFuzzer/jqf-new/examples/src/test/java/edu/berkeley/cs/jqf/examples/tika/TikaParserTest.java\n",
      "\tLMFuzzer/jqf-new/examples/src/test/java/edu/berkeley/cs/jqf/examples/tomcat/HeadersTest.java\n",
      "\tLMFuzzer/jqf-new/examples/src/test/java/edu/berkeley/cs/jqf/examples/tomcat/ParametersTest.java\n",
      "\tLMFuzzer/jqf-new/examples/src/test/java/edu/berkeley/cs/jqf/examples/tomcat/WebXmlTest.java\n",
      "\tLMFuzzer/jqf-new/examples/src/test/java/edu/berkeley/cs/jqf/examples/trees/BinaryTreeTest.java\n",
      "\tLMFuzzer/jqf-new/examples/src/test/java/edu/berkeley/cs/jqf/examples/trees/RedBlackBSTTest.java\n",
      "\tLMFuzzer/jqf-new/examples/src/test/java/org/apache/bcel/verifier/StatelessVerifierFactory.java\n",
      "\tLMFuzzer/jqf-new/examples/src/test/java/org/apache/coyote/http11/HeaderParser.java\n",
      "\tLMFuzzer/jqf-new/examples/src/test/resources/dictionaries/ant-project-afl.dict\n",
      "\tLMFuzzer/jqf-new/examples/src/test/resources/dictionaries/ant-project.dict\n",
      "\tLMFuzzer/jqf-new/examples/src/test/resources/dictionaries/fen.dict\n",
      "\tLMFuzzer/jqf-new/examples/src/test/resources/dictionaries/javaclass.dict\n",
      "\tLMFuzzer/jqf-new/examples/src/test/resources/dictionaries/javascript.dict\n",
      "\tLMFuzzer/jqf-new/examples/src/test/resources/dictionaries/maven-model-afl.dict\n",
      "\tLMFuzzer/jqf-new/examples/src/test/resources/dictionaries/maven-model.dict\n",
      "\tLMFuzzer/jqf-new/examples/src/test/resources/dictionaries/tomcat-webxml-afl.dict\n",
      "\tLMFuzzer/jqf-new/examples/src/test/resources/dictionaries/tomcat-webxml.dict\n",
      "\tLMFuzzer/jqf-new/examples/src/test/seeds/afl-all-testcases/hello_world.txt\n",
      "\tLMFuzzer/jqf-new/examples/src/test/seeds/afl-all-testcases/not_kitty.bmp\n",
      "\tLMFuzzer/jqf-new/examples/src/test/seeds/afl-all-testcases/not_kitty.gif\n",
      "\tLMFuzzer/jqf-new/examples/src/test/seeds/afl-all-testcases/not_kitty.ico\n",
      "\tLMFuzzer/jqf-new/examples/src/test/seeds/afl-all-testcases/not_kitty.jp2\n",
      "\tLMFuzzer/jqf-new/examples/src/test/seeds/afl-all-testcases/not_kitty.jpg\n",
      "\tLMFuzzer/jqf-new/examples/src/test/seeds/afl-all-testcases/not_kitty.jxr\n",
      "\tLMFuzzer/jqf-new/examples/src/test/seeds/afl-all-testcases/not_kitty.png\n",
      "\tLMFuzzer/jqf-new/examples/src/test/seeds/afl-all-testcases/not_kitty.tiff\n",
      "\tLMFuzzer/jqf-new/examples/src/test/seeds/afl-all-testcases/not_kitty.webp\n",
      "\tLMFuzzer/jqf-new/examples/src/test/seeds/afl-all-testcases/not_kitty_alpha.png\n",
      "\tLMFuzzer/jqf-new/examples/src/test/seeds/afl-all-testcases/not_kitty_gamma.png\n",
      "\tLMFuzzer/jqf-new/examples/src/test/seeds/afl-all-testcases/not_kitty_icc.png\n",
      "\tLMFuzzer/jqf-new/examples/src/test/seeds/afl-all-testcases/simple_queries.sql\n",
      "\tLMFuzzer/jqf-new/examples/src/test/seeds/afl-all-testcases/small.pdf\n",
      "\tLMFuzzer/jqf-new/examples/src/test/seeds/afl-all-testcases/small_archive.bz2\n",
      "\tLMFuzzer/jqf-new/examples/src/test/seeds/afl-all-testcases/small_archive.gz\n",
      "\tLMFuzzer/jqf-new/examples/src/test/seeds/afl-all-testcases/small_capture.pcap\n",
      "\tLMFuzzer/jqf-new/examples/src/test/seeds/afl-all-testcases/small_document.rtf\n",
      "\tLMFuzzer/jqf-new/examples/src/test/seeds/afl-all-testcases/small_document.xml\n",
      "\tLMFuzzer/jqf-new/examples/src/test/seeds/afl-all-testcases/small_exec.elf\n",
      "\tLMFuzzer/jqf-new/examples/src/test/seeds/afl-all-testcases/small_movie.mp4\n",
      "\tLMFuzzer/jqf-new/examples/src/test/seeds/afl-all-testcases/small_script.js\n",
      "\tLMFuzzer/jqf-new/examples/src/test/seeds/bz2/zeros1024.bz2\n",
      "\tLMFuzzer/jqf-new/examples/src/test/seeds/fen/initial.fen\n",
      "\tLMFuzzer/jqf-new/examples/src/test/seeds/fqn/bad\n",
      "\tLMFuzzer/jqf-new/examples/src/test/seeds/fqn/map\n",
      "\tLMFuzzer/jqf-new/examples/src/test/seeds/fqn/test\n",
      "\tLMFuzzer/jqf-new/examples/src/test/seeds/gif/pixel.gif\n",
      "\tLMFuzzer/jqf-new/examples/src/test/seeds/javaclass/Hello.class\n",
      "\tLMFuzzer/jqf-new/examples/src/test/seeds/jpeg/Blank.jpg\n",
      "\tLMFuzzer/jqf-new/examples/src/test/seeds/js/react.production.min.js\n",
      "\tLMFuzzer/jqf-new/examples/src/test/seeds/png/pixel.png\n",
      "\tLMFuzzer/jqf-new/examples/src/test/seeds/random/random1024.input\n",
      "\tLMFuzzer/jqf-new/examples/src/test/seeds/tiff/not_kitty.tiff\n",
      "\tLMFuzzer/jqf-new/examples/src/test/seeds/url/ftp\n",
      "\tLMFuzzer/jqf-new/examples/src/test/seeds/url/http\n",
      "\tLMFuzzer/jqf-new/examples/src/test/seeds/xml/build.xml\n",
      "\tLMFuzzer/jqf-new/examples/src/test/seeds/xml/pom.xml\n",
      "\tLMFuzzer/jqf-new/examples/src/test/seeds/zeros/zeros1024.input\n",
      "\tLMFuzzer/jqf-new/fuzz/LSTM/data.p\n",
      "\tLMFuzzer/jqf-new/fuzz/LSTM/demo-model.pt1\n",
      "\tLMFuzzer/jqf-new/fuzz/LSTM/env_con.sh\n",
      "\tLMFuzzer/jqf-new/fuzz/LSTM/model.pt\n",
      "\tLMFuzzer/jqf-new/fuzz/LSTM/seed.p\n",
      "\tLMFuzzer/jqf-new/fuzz/gen/parser/JavaScriptLexer.interp\n",
      "\tLMFuzzer/jqf-new/fuzz/gen/parser/JavaScriptLexer.java\n",
      "\tLMFuzzer/jqf-new/fuzz/gen/parser/JavaScriptLexer.tokens\n",
      "\tLMFuzzer/jqf-new/fuzz/pom.xml\n",
      "\tLMFuzzer/jqf-new/fuzz/src/main/assembly/assembly.xml\n",
      "\tLMFuzzer/jqf-new/fuzz/src/main/c/afl-proxy.c\n",
      "\tLMFuzzer/jqf-new/fuzz/src/main/c/afl-proxy.h\n",
      "\tLMFuzzer/jqf-new/fuzz/src/main/java/edu/berkeley/cs/jqf/fuzz/Fuzz.java\n",
      "\tLMFuzzer/jqf-new/fuzz/src/main/java/edu/berkeley/cs/jqf/fuzz/JQF.java\n",
      "\tLMFuzzer/jqf-new/fuzz/src/main/java/edu/berkeley/cs/jqf/fuzz/LM/Base/JavaScriptLexerBase.java\n",
      "\tLMFuzzer/jqf-new/fuzz/src/main/java/edu/berkeley/cs/jqf/fuzz/LM/Base/JavaScriptParserBase.java\n",
      "\tLMFuzzer/jqf-new/fuzz/src/main/java/edu/berkeley/cs/jqf/fuzz/LM/LMDriver.java\n",
      "\tLMFuzzer/jqf-new/fuzz/src/main/java/edu/berkeley/cs/jqf/fuzz/LM/LMGenerator.java\n",
      "\tLMFuzzer/jqf-new/fuzz/src/main/java/edu/berkeley/cs/jqf/fuzz/LM/LMGuidance.java\n",
      "\tLMFuzzer/jqf-new/fuzz/src/main/java/edu/berkeley/cs/jqf/fuzz/LM/VainDriver.java\n",
      "\tLMFuzzer/jqf-new/fuzz/src/main/java/edu/berkeley/cs/jqf/fuzz/LM/antlr4/ECMAScript.tokens\n",
      "\tLMFuzzer/jqf-new/fuzz/src/main/java/edu/berkeley/cs/jqf/fuzz/LM/antlr4/ECMAScriptLexer.tokens\n",
      "\tLMFuzzer/jqf-new/fuzz/src/main/java/edu/berkeley/cs/jqf/fuzz/LM/antlr4/JavaScriptLexer.tokens\n",
      "\tLMFuzzer/jqf-new/fuzz/src/main/java/edu/berkeley/cs/jqf/fuzz/LM/antlr4/JavaScriptParser.tokens\n",
      "\tLMFuzzer/jqf-new/fuzz/src/main/java/edu/berkeley/cs/jqf/fuzz/LM/antlr4/main/resources/JavaScriptLexer.java\n",
      "\tLMFuzzer/jqf-new/fuzz/src/main/java/edu/berkeley/cs/jqf/fuzz/LM/antlr4/main/resources/JavaScriptParser.java\n",
      "\tLMFuzzer/jqf-new/fuzz/src/main/java/edu/berkeley/cs/jqf/fuzz/LM/antlr4/main/resources/JavaScriptParserBaseListener.java\n",
      "\tLMFuzzer/jqf-new/fuzz/src/main/java/edu/berkeley/cs/jqf/fuzz/LM/antlr4/main/resources/JavaScriptParserBaseVisitor.java\n",
      "\tLMFuzzer/jqf-new/fuzz/src/main/java/edu/berkeley/cs/jqf/fuzz/LM/antlr4/main/resources/JavaScriptParserListener.java\n",
      "\tLMFuzzer/jqf-new/fuzz/src/main/java/edu/berkeley/cs/jqf/fuzz/LM/antlr4/main/resources/JavaScriptParserVisitor.java\n",
      "\tLMFuzzer/jqf-new/fuzz/src/main/java/edu/berkeley/cs/jqf/fuzz/LM/vainGuidance.java\n",
      "\tLMFuzzer/jqf-new/fuzz/src/main/java/edu/berkeley/cs/jqf/fuzz/LM/wxj/demo/JSMain.java\n",
      "\tLMFuzzer/jqf-new/fuzz/src/main/java/edu/berkeley/cs/jqf/fuzz/LM/wxj/demo/LSTM/FuzzTest.java\n",
      "\tLMFuzzer/jqf-new/fuzz/src/main/java/edu/berkeley/cs/jqf/fuzz/LM/wxj/demo/LSTM/LSTMDriver.java\n",
      "\tLMFuzzer/jqf-new/fuzz/src/main/java/edu/berkeley/cs/jqf/fuzz/LM/wxj/demo/LSTM/LSTMGuidance.java\n",
      "\tLMFuzzer/jqf-new/fuzz/src/main/java/edu/berkeley/cs/jqf/fuzz/LM/wxj/demo/LSTM/LSTMPredict.java\n",
      "\tLMFuzzer/jqf-new/fuzz/src/main/java/edu/berkeley/cs/jqf/fuzz/LM/wxj/demo/LSTM/load_data.py\n",
      "\tLMFuzzer/jqf-new/fuzz/src/main/java/edu/berkeley/cs/jqf/fuzz/LM/wxj/demo/NodeUtils.java\n",
      "\tLMFuzzer/jqf-new/fuzz/src/main/java/edu/berkeley/cs/jqf/fuzz/LM/wxj/demo/TreeGet.java\n",
      "\tLMFuzzer/jqf-new/fuzz/src/main/java/edu/berkeley/cs/jqf/fuzz/LM/wxj/demo/TreeNode.java\n",
      "\tLMFuzzer/jqf-new/fuzz/src/main/java/edu/berkeley/cs/jqf/fuzz/LM/wxj/demo/mutate/ParseToSeedUtils.java\n",
      "\tLMFuzzer/jqf-new/fuzz/src/main/java/edu/berkeley/cs/jqf/fuzz/LM/wxj/demo/mutate/Seed.java\n",
      "\tLMFuzzer/jqf-new/fuzz/src/main/java/edu/berkeley/cs/jqf/fuzz/LM/wxj/demo/ngram/Model.java\n",
      "\tLMFuzzer/jqf-new/fuzz/src/main/java/edu/berkeley/cs/jqf/fuzz/afl/AFLDriver.java\n",
      "\tLMFuzzer/jqf-new/fuzz/src/main/java/edu/berkeley/cs/jqf/fuzz/afl/AFLGuidance.java\n",
      "\tLMFuzzer/jqf-new/fuzz/src/main/java/edu/berkeley/cs/jqf/fuzz/afl/PerfFuzzDriver.java\n",
      "\tLMFuzzer/jqf-new/fuzz/src/main/java/edu/berkeley/cs/jqf/fuzz/afl/PerfFuzzGuidance.java\n",
      "\tLMFuzzer/jqf-new/fuzz/src/main/java/edu/berkeley/cs/jqf/fuzz/ei/ExecutionContext.java\n",
      "\tLMFuzzer/jqf-new/fuzz/src/main/java/edu/berkeley/cs/jqf/fuzz/ei/ExecutionIndex.java\n",
      "\tLMFuzzer/jqf-new/fuzz/src/main/java/edu/berkeley/cs/jqf/fuzz/ei/ExecutionIndexingDriver.java\n",
      "\tLMFuzzer/jqf-new/fuzz/src/main/java/edu/berkeley/cs/jqf/fuzz/ei/ExecutionIndexingGuidance.java\n",
      "\tLMFuzzer/jqf-new/fuzz/src/main/java/edu/berkeley/cs/jqf/fuzz/ei/ExecutionIndexingState.java\n",
      "\tLMFuzzer/jqf-new/fuzz/src/main/java/edu/berkeley/cs/jqf/fuzz/ei/ZestCLI.java\n",
      "\tLMFuzzer/jqf-new/fuzz/src/main/java/edu/berkeley/cs/jqf/fuzz/ei/ZestDriver.java\n",
      "\tLMFuzzer/jqf-new/fuzz/src/main/java/edu/berkeley/cs/jqf/fuzz/ei/ZestGuidance.java\n",
      "\tLMFuzzer/jqf-new/fuzz/src/main/java/edu/berkeley/cs/jqf/fuzz/guidance/Guidance.java\n",
      "\tLMFuzzer/jqf-new/fuzz/src/main/java/edu/berkeley/cs/jqf/fuzz/guidance/GuidanceException.java\n",
      "\tLMFuzzer/jqf-new/fuzz/src/main/java/edu/berkeley/cs/jqf/fuzz/guidance/Result.java\n",
      "\tLMFuzzer/jqf-new/fuzz/src/main/java/edu/berkeley/cs/jqf/fuzz/guidance/StreamBackedRandom.java\n",
      "\tLMFuzzer/jqf-new/fuzz/src/main/java/edu/berkeley/cs/jqf/fuzz/guidance/TimeoutException.java\n",
      "\tLMFuzzer/jqf-new/fuzz/src/main/java/edu/berkeley/cs/jqf/fuzz/jsutils/process.java\n",
      "\tLMFuzzer/jqf-new/fuzz/src/main/java/edu/berkeley/cs/jqf/fuzz/junit/GuidedFuzzing.java\n",
      "\tLMFuzzer/jqf-new/fuzz/src/main/java/edu/berkeley/cs/jqf/fuzz/junit/TrialRunner.java\n",
      "\tLMFuzzer/jqf-new/fuzz/src/main/java/edu/berkeley/cs/jqf/fuzz/junit/quickcheck/FastSourceOfRandomness.java\n",
      "\tLMFuzzer/jqf-new/fuzz/src/main/java/edu/berkeley/cs/jqf/fuzz/junit/quickcheck/FuzzStatement.java\n",
      "\tLMFuzzer/jqf-new/fuzz/src/main/java/edu/berkeley/cs/jqf/fuzz/junit/quickcheck/InputStreamGenerator.java\n",
      "\tLMFuzzer/jqf-new/fuzz/src/main/java/edu/berkeley/cs/jqf/fuzz/junit/quickcheck/NonTrackingGenerationStatus.java\n",
      "\tLMFuzzer/jqf-new/fuzz/src/main/java/edu/berkeley/cs/jqf/fuzz/random/NoGuidance.java\n",
      "\tLMFuzzer/jqf-new/fuzz/src/main/java/edu/berkeley/cs/jqf/fuzz/random/RandomDriver.java\n",
      "\tLMFuzzer/jqf-new/fuzz/src/main/java/edu/berkeley/cs/jqf/fuzz/repro/ReproDriver.java\n",
      "\tLMFuzzer/jqf-new/fuzz/src/main/java/edu/berkeley/cs/jqf/fuzz/repro/ReproGuidance.java\n",
      "\tLMFuzzer/jqf-new/fuzz/src/main/java/edu/berkeley/cs/jqf/fuzz/util/Counter.java\n",
      "\tLMFuzzer/jqf-new/fuzz/src/main/java/edu/berkeley/cs/jqf/fuzz/util/Coverage.java\n",
      "\tLMFuzzer/jqf-new/fuzz/src/main/java/edu/berkeley/cs/jqf/fuzz/util/Hashing.java\n",
      "\tLMFuzzer/jqf-new/fuzz/src/main/java/edu/berkeley/cs/jqf/fuzz/util/MapOfCounters.java\n",
      "\tLMFuzzer/jqf-new/fuzz/src/main/java/edu/berkeley/cs/jqf/fuzz/util/NonZeroCachingCounter.java\n",
      "\tLMFuzzer/jqf-new/fuzz/src/main/java/edu/berkeley/cs/jqf/fuzz/util/ProducerHashMap.java\n",
      "\tLMFuzzer/jqf-new/fuzz/src/main/resources/ConfigFiles/config.json\n",
      "\tLMFuzzer/jqf-new/fuzz/src/main/resources/META-INF/services/com.pholser.junit.quickcheck.generator.Generator\n",
      "\tLMFuzzer/jqf-new/fuzz/src/main/resources/jsCrop/0cc405af438dd235c8fb09cce02a0271.js\n",
      "\tLMFuzzer/jqf-new/fuzz/src/main/resources/jsCrop/0f2639bc7aa539aa7354b796172cf85b.js\n",
      "\tLMFuzzer/jqf-new/fuzz/src/main/resources/jsCrop/1e5c120e979369157ff629243a7c0bcc.js\n",
      "\tLMFuzzer/jqf-new/fuzz/src/main/resources/jsCrop/1f75a23897c575f0482dfe578a09a3a0.js\n",
      "\tLMFuzzer/jqf-new/fuzz/src/main/resources/jsCrop/2e440337f20a148b451fa57823bd3002.js\n",
      "\tLMFuzzer/jqf-new/fuzz/src/main/resources/jsCrop/2f4d63f05b4353c89949a428792ea19c.js\n",
      "\tLMFuzzer/jqf-new/fuzz/src/main/resources/jsCrop/3b0c4a6dbb3aaa66d76b84c3d9db8626.js\n",
      "\tLMFuzzer/jqf-new/fuzz/src/main/resources/jsCrop/3c683e183bbf22806c730718464e019e.js\n",
      "\tLMFuzzer/jqf-new/fuzz/src/main/resources/jsCrop/3c97f9ec7578b5aeed17e20c92ca7eb4.js\n",
      "\tLMFuzzer/jqf-new/fuzz/src/main/resources/jsCrop/3f481b9f45fd43f499295f2d4c417ce5.js\n",
      "\tLMFuzzer/jqf-new/fuzz/src/main/resources/jsSeed/0cc405af438dd235c8fb09cce02a0271.js\n",
      "\tLMFuzzer/jqf-new/fuzz/src/main/resources/jsSeed/0f2639bc7aa539aa7354b796172cf85b.js\n",
      "\tLMFuzzer/jqf-new/fuzz/src/main/resources/jsSeed/1e5c120e979369157ff629243a7c0bcc.js\n",
      "\tLMFuzzer/jqf-new/fuzz/src/main/resources/jsSeed/1f75a23897c575f0482dfe578a09a3a0.js\n",
      "\tLMFuzzer/jqf-new/fuzz/src/main/resources/jsSeed/2e440337f20a148b451fa57823bd3002.js\n",
      "\tLMFuzzer/jqf-new/fuzz/src/main/resources/jsSeed/2f4d63f05b4353c89949a428792ea19c.js\n",
      "\tLMFuzzer/jqf-new/fuzz/src/main/resources/jsSeed/3b0c4a6dbb3aaa66d76b84c3d9db8626.js\n",
      "\tLMFuzzer/jqf-new/fuzz/src/main/resources/jsSeed/3c683e183bbf22806c730718464e019e.js\n",
      "\tLMFuzzer/jqf-new/fuzz/src/main/resources/jsSeed/3c97f9ec7578b5aeed17e20c92ca7eb4.js\n",
      "\tLMFuzzer/jqf-new/fuzz/src/main/resources/jsSeed/3f481b9f45fd43f499295f2d4c417ce5.js\n",
      "\tLMFuzzer/jqf-new/fuzz/src/main/resources/model/test2.arpa\n",
      "\tLMFuzzer/jqf-new/fuzz/src/main/resources/model/tree.arpa\n",
      "\tLMFuzzer/jqf-new/fuzz/src/main/resources/parser/JavaScriptLexer.g4\n",
      "\tLMFuzzer/jqf-new/fuzz/src/main/resources/parser/JavaScriptLexer.tokens\n",
      "\tLMFuzzer/jqf-new/fuzz/src/main/resources/parser/JavaScriptParser.g4\n",
      "\tLMFuzzer/jqf-new/fuzz/src/main/resources/test-servers1.js\n",
      "\tLMFuzzer/jqf-new/fuzz/src/main/resources/test-servers2.js\n",
      "\tLMFuzzer/jqf-new/fuzz/src/main/resources/test-servers3.js\n",
      "\tLMFuzzer/jqf-new/fuzz/src/test/java/edu/berkeley/cs/jqf/fuzz/afl/RedundancyTest.java\n",
      "\tLMFuzzer/jqf-new/fuzz/src/test/java/edu/berkeley/cs/jqf/fuzz/ei/ExecutionIndexingGuidanceTest.java\n",
      "\tLMFuzzer/jqf-new/fuzz/src/test/java/edu/berkeley/cs/jqf/fuzz/ei/ExecutionIndexingTest.java\n",
      "\tLMFuzzer/jqf-new/fuzz/src/test/java/edu/berkeley/cs/jqf/fuzz/guidance/GuidanceTest.java\n",
      "\tLMFuzzer/jqf-new/fuzz/src/test/java/edu/berkeley/cs/jqf/fuzz/util/CountersTest.java\n",
      "\tLMFuzzer/jqf-new/fuzz/src/test/java/edu/berkeley/cs/jqf/fuzz/util/CoverageTest.java\n",
      "\tLMFuzzer/jqf-new/fuzz/src/test/java/edu/berkeley/cs/jqf/fuzz/util/NonZeroCachingCountersTest.java\n",
      "\tLMFuzzer/jqf-new/instrument/pom.xml\n",
      "\tLMFuzzer/jqf-new/instrument/src/main/java/edu/berkeley/cs/jqf/instrument/InstrumentingClassLoader.java\n",
      "\tLMFuzzer/jqf-new/instrument/src/main/java/edu/berkeley/cs/jqf/instrument/tracing/ControlFlowInstructionVisitor.java\n",
      "\tLMFuzzer/jqf-new/instrument/src/main/java/edu/berkeley/cs/jqf/instrument/tracing/DefaultInstructionVisitor.java\n",
      "\tLMFuzzer/jqf-new/instrument/src/main/java/edu/berkeley/cs/jqf/instrument/tracing/PrintLogger.java\n",
      "\tLMFuzzer/jqf-new/instrument/src/main/java/edu/berkeley/cs/jqf/instrument/tracing/SingleSnoop.java\n",
      "\tLMFuzzer/jqf-new/instrument/src/main/java/edu/berkeley/cs/jqf/instrument/tracing/ThreadTracer.java\n",
      "\tLMFuzzer/jqf-new/instrument/src/main/java/edu/berkeley/cs/jqf/instrument/tracing/TraceLogger.java\n",
      "\tLMFuzzer/jqf-new/instrument/src/main/java/edu/berkeley/cs/jqf/instrument/tracing/events/AllocEvent.java\n",
      "\tLMFuzzer/jqf-new/instrument/src/main/java/edu/berkeley/cs/jqf/instrument/tracing/events/BranchEvent.java\n",
      "\tLMFuzzer/jqf-new/instrument/src/main/java/edu/berkeley/cs/jqf/instrument/tracing/events/CallEvent.java\n",
      "\tLMFuzzer/jqf-new/instrument/src/main/java/edu/berkeley/cs/jqf/instrument/tracing/events/ReadEvent.java\n",
      "\tLMFuzzer/jqf-new/instrument/src/main/java/edu/berkeley/cs/jqf/instrument/tracing/events/ReturnEvent.java\n",
      "\tLMFuzzer/jqf-new/instrument/src/main/java/edu/berkeley/cs/jqf/instrument/tracing/events/TraceEvent.java\n",
      "\tLMFuzzer/jqf-new/instrument/src/main/java/edu/berkeley/cs/jqf/instrument/tracing/events/TraceEventVisitor.java\n",
      "\tLMFuzzer/jqf-new/instrument/src/main/java/edu/berkeley/cs/jqf/instrument/util/DoublyLinkedList.java\n",
      "\tLMFuzzer/jqf-new/instrument/src/main/java/edu/berkeley/cs/jqf/instrument/util/FastBlockingQueue.java\n",
      "\tLMFuzzer/jqf-new/instrument/src/main/java/edu/berkeley/cs/jqf/instrument/util/Stack.java\n",
      "\tLMFuzzer/jqf-new/instrument/src/main/java/janala/LICENSE\n",
      "\tLMFuzzer/jqf-new/instrument/src/main/java/janala/instrument/Config.java\n",
      "\tLMFuzzer/jqf-new/instrument/src/main/java/janala/instrument/GlobalStateForInstrumentation.java\n",
      "\tLMFuzzer/jqf-new/instrument/src/main/java/janala/instrument/SafeClassWriter.java\n",
      "\tLMFuzzer/jqf-new/instrument/src/main/java/janala/instrument/SnoopInstructionClassAdapter.java\n",
      "\tLMFuzzer/jqf-new/instrument/src/main/java/janala/instrument/SnoopInstructionMethodAdapter.java\n",
      "\tLMFuzzer/jqf-new/instrument/src/main/java/janala/instrument/SnoopInstructionTransformer.java\n",
      "\tLMFuzzer/jqf-new/instrument/src/main/java/janala/instrument/TryCatchBlock.java\n",
      "\tLMFuzzer/jqf-new/instrument/src/main/java/janala/instrument/Utils.java\n",
      "\tLMFuzzer/jqf-new/instrument/src/main/java/janala/logger/AbstractLogger.java\n",
      "\tLMFuzzer/jqf-new/instrument/src/main/java/janala/logger/Logger.java\n",
      "\tLMFuzzer/jqf-new/instrument/src/main/java/janala/logger/StringLogger.java\n",
      "\tLMFuzzer/jqf-new/instrument/src/main/java/janala/logger/StringPrintLogger.java\n",
      "\tLMFuzzer/jqf-new/instrument/src/main/java/janala/logger/inst/AALOAD.java\n",
      "\tLMFuzzer/jqf-new/instrument/src/main/java/janala/logger/inst/AASTORE.java\n",
      "\tLMFuzzer/jqf-new/instrument/src/main/java/janala/logger/inst/ACONST_NULL.java\n",
      "\tLMFuzzer/jqf-new/instrument/src/main/java/janala/logger/inst/ALOAD.java\n",
      "\tLMFuzzer/jqf-new/instrument/src/main/java/janala/logger/inst/ANEWARRAY.java\n",
      "\tLMFuzzer/jqf-new/instrument/src/main/java/janala/logger/inst/ARETURN.java\n",
      "\tLMFuzzer/jqf-new/instrument/src/main/java/janala/logger/inst/ARRAYLENGTH.java\n",
      "\tLMFuzzer/jqf-new/instrument/src/main/java/janala/logger/inst/ASTORE.java\n",
      "\tLMFuzzer/jqf-new/instrument/src/main/java/janala/logger/inst/ATHROW.java\n",
      "\tLMFuzzer/jqf-new/instrument/src/main/java/janala/logger/inst/BALOAD.java\n",
      "\tLMFuzzer/jqf-new/instrument/src/main/java/janala/logger/inst/BASTORE.java\n",
      "\tLMFuzzer/jqf-new/instrument/src/main/java/janala/logger/inst/BIPUSH.java\n",
      "\tLMFuzzer/jqf-new/instrument/src/main/java/janala/logger/inst/CALOAD.java\n",
      "\tLMFuzzer/jqf-new/instrument/src/main/java/janala/logger/inst/CASTORE.java\n",
      "\tLMFuzzer/jqf-new/instrument/src/main/java/janala/logger/inst/CHECKCAST.java\n",
      "\tLMFuzzer/jqf-new/instrument/src/main/java/janala/logger/inst/ConditionalBranch.java\n",
      "\tLMFuzzer/jqf-new/instrument/src/main/java/janala/logger/inst/D2F.java\n",
      "\tLMFuzzer/jqf-new/instrument/src/main/java/janala/logger/inst/D2I.java\n",
      "\tLMFuzzer/jqf-new/instrument/src/main/java/janala/logger/inst/D2L.java\n",
      "\tLMFuzzer/jqf-new/instrument/src/main/java/janala/logger/inst/DADD.java\n",
      "\tLMFuzzer/jqf-new/instrument/src/main/java/janala/logger/inst/DALOAD.java\n",
      "\tLMFuzzer/jqf-new/instrument/src/main/java/janala/logger/inst/DASTORE.java\n",
      "\tLMFuzzer/jqf-new/instrument/src/main/java/janala/logger/inst/DCMPG.java\n",
      "\tLMFuzzer/jqf-new/instrument/src/main/java/janala/logger/inst/DCMPL.java\n",
      "\tLMFuzzer/jqf-new/instrument/src/main/java/janala/logger/inst/DCONST_0.java\n",
      "\tLMFuzzer/jqf-new/instrument/src/main/java/janala/logger/inst/DCONST_1.java\n",
      "\tLMFuzzer/jqf-new/instrument/src/main/java/janala/logger/inst/DDIV.java\n",
      "\tLMFuzzer/jqf-new/instrument/src/main/java/janala/logger/inst/DLOAD.java\n",
      "\tLMFuzzer/jqf-new/instrument/src/main/java/janala/logger/inst/DMUL.java\n",
      "\tLMFuzzer/jqf-new/instrument/src/main/java/janala/logger/inst/DNEG.java\n",
      "\tLMFuzzer/jqf-new/instrument/src/main/java/janala/logger/inst/DREM.java\n",
      "\tLMFuzzer/jqf-new/instrument/src/main/java/janala/logger/inst/DRETURN.java\n",
      "\tLMFuzzer/jqf-new/instrument/src/main/java/janala/logger/inst/DSTORE.java\n",
      "\tLMFuzzer/jqf-new/instrument/src/main/java/janala/logger/inst/DSUB.java\n",
      "\tLMFuzzer/jqf-new/instrument/src/main/java/janala/logger/inst/DUP.java\n",
      "\tLMFuzzer/jqf-new/instrument/src/main/java/janala/logger/inst/DUP2.java\n",
      "\tLMFuzzer/jqf-new/instrument/src/main/java/janala/logger/inst/DUP2_X1.java\n",
      "\tLMFuzzer/jqf-new/instrument/src/main/java/janala/logger/inst/DUP2_X2.java\n",
      "\tLMFuzzer/jqf-new/instrument/src/main/java/janala/logger/inst/DUP_X1.java\n",
      "\tLMFuzzer/jqf-new/instrument/src/main/java/janala/logger/inst/DUP_X2.java\n",
      "\tLMFuzzer/jqf-new/instrument/src/main/java/janala/logger/inst/F2D.java\n",
      "\tLMFuzzer/jqf-new/instrument/src/main/java/janala/logger/inst/F2I.java\n",
      "\tLMFuzzer/jqf-new/instrument/src/main/java/janala/logger/inst/F2L.java\n",
      "\tLMFuzzer/jqf-new/instrument/src/main/java/janala/logger/inst/FADD.java\n",
      "\tLMFuzzer/jqf-new/instrument/src/main/java/janala/logger/inst/FALOAD.java\n",
      "\tLMFuzzer/jqf-new/instrument/src/main/java/janala/logger/inst/FASTORE.java\n",
      "\tLMFuzzer/jqf-new/instrument/src/main/java/janala/logger/inst/FCMPG.java\n",
      "\tLMFuzzer/jqf-new/instrument/src/main/java/janala/logger/inst/FCMPL.java\n",
      "\tLMFuzzer/jqf-new/instrument/src/main/java/janala/logger/inst/FCONST_0.java\n",
      "\tLMFuzzer/jqf-new/instrument/src/main/java/janala/logger/inst/FCONST_1.java\n",
      "\tLMFuzzer/jqf-new/instrument/src/main/java/janala/logger/inst/FCONST_2.java\n",
      "\tLMFuzzer/jqf-new/instrument/src/main/java/janala/logger/inst/FDIV.java\n",
      "\tLMFuzzer/jqf-new/instrument/src/main/java/janala/logger/inst/FLOAD.java\n",
      "\tLMFuzzer/jqf-new/instrument/src/main/java/janala/logger/inst/FMUL.java\n",
      "\tLMFuzzer/jqf-new/instrument/src/main/java/janala/logger/inst/FNEG.java\n",
      "\tLMFuzzer/jqf-new/instrument/src/main/java/janala/logger/inst/FREM.java\n",
      "\tLMFuzzer/jqf-new/instrument/src/main/java/janala/logger/inst/FRETURN.java\n",
      "\tLMFuzzer/jqf-new/instrument/src/main/java/janala/logger/inst/FSTORE.java\n",
      "\tLMFuzzer/jqf-new/instrument/src/main/java/janala/logger/inst/FSUB.java\n",
      "\tLMFuzzer/jqf-new/instrument/src/main/java/janala/logger/inst/GETFIELD.java\n",
      "\tLMFuzzer/jqf-new/instrument/src/main/java/janala/logger/inst/GETSTATIC.java\n",
      "\tLMFuzzer/jqf-new/instrument/src/main/java/janala/logger/inst/GETVALUE.java\n",
      "\tLMFuzzer/jqf-new/instrument/src/main/java/janala/logger/inst/GETVALUE_Object.java\n",
      "\tLMFuzzer/jqf-new/instrument/src/main/java/janala/logger/inst/GETVALUE_boolean.java\n",
      "\tLMFuzzer/jqf-new/instrument/src/main/java/janala/logger/inst/GETVALUE_byte.java\n",
      "\tLMFuzzer/jqf-new/instrument/src/main/java/janala/logger/inst/GETVALUE_char.java\n",
      "\tLMFuzzer/jqf-new/instrument/src/main/java/janala/logger/inst/GETVALUE_double.java\n",
      "\tLMFuzzer/jqf-new/instrument/src/main/java/janala/logger/inst/GETVALUE_float.java\n",
      "\tLMFuzzer/jqf-new/instrument/src/main/java/janala/logger/inst/GETVALUE_int.java\n",
      "\tLMFuzzer/jqf-new/instrument/src/main/java/janala/logger/inst/GETVALUE_long.java\n",
      "\tLMFuzzer/jqf-new/instrument/src/main/java/janala/logger/inst/GETVALUE_short.java\n",
      "\tLMFuzzer/jqf-new/instrument/src/main/java/janala/logger/inst/GETVALUE_void.java\n",
      "\tLMFuzzer/jqf-new/instrument/src/main/java/janala/logger/inst/GOTO.java\n",
      "\tLMFuzzer/jqf-new/instrument/src/main/java/janala/logger/inst/HEAPLOAD.java\n",
      "\tLMFuzzer/jqf-new/instrument/src/main/java/janala/logger/inst/I2B.java\n",
      "\tLMFuzzer/jqf-new/instrument/src/main/java/janala/logger/inst/I2C.java\n",
      "\tLMFuzzer/jqf-new/instrument/src/main/java/janala/logger/inst/I2D.java\n",
      "\tLMFuzzer/jqf-new/instrument/src/main/java/janala/logger/inst/I2F.java\n",
      "\tLMFuzzer/jqf-new/instrument/src/main/java/janala/logger/inst/I2L.java\n",
      "\tLMFuzzer/jqf-new/instrument/src/main/java/janala/logger/inst/I2S.java\n",
      "\tLMFuzzer/jqf-new/instrument/src/main/java/janala/logger/inst/IADD.java\n",
      "\tLMFuzzer/jqf-new/instrument/src/main/java/janala/logger/inst/IALOAD.java\n",
      "\tLMFuzzer/jqf-new/instrument/src/main/java/janala/logger/inst/IAND.java\n",
      "\tLMFuzzer/jqf-new/instrument/src/main/java/janala/logger/inst/IASTORE.java\n",
      "\tLMFuzzer/jqf-new/instrument/src/main/java/janala/logger/inst/ICONST_0.java\n",
      "\tLMFuzzer/jqf-new/instrument/src/main/java/janala/logger/inst/ICONST_1.java\n",
      "\tLMFuzzer/jqf-new/instrument/src/main/java/janala/logger/inst/ICONST_2.java\n",
      "\tLMFuzzer/jqf-new/instrument/src/main/java/janala/logger/inst/ICONST_3.java\n",
      "\tLMFuzzer/jqf-new/instrument/src/main/java/janala/logger/inst/ICONST_4.java\n",
      "\tLMFuzzer/jqf-new/instrument/src/main/java/janala/logger/inst/ICONST_5.java\n",
      "\tLMFuzzer/jqf-new/instrument/src/main/java/janala/logger/inst/ICONST_M1.java\n",
      "\tLMFuzzer/jqf-new/instrument/src/main/java/janala/logger/inst/IDIV.java\n",
      "\tLMFuzzer/jqf-new/instrument/src/main/java/janala/logger/inst/IFEQ.java\n",
      "\tLMFuzzer/jqf-new/instrument/src/main/java/janala/logger/inst/IFGE.java\n",
      "\tLMFuzzer/jqf-new/instrument/src/main/java/janala/logger/inst/IFGT.java\n",
      "\tLMFuzzer/jqf-new/instrument/src/main/java/janala/logger/inst/IFLE.java\n",
      "\tLMFuzzer/jqf-new/instrument/src/main/java/janala/logger/inst/IFLT.java\n",
      "\tLMFuzzer/jqf-new/instrument/src/main/java/janala/logger/inst/IFNE.java\n",
      "\tLMFuzzer/jqf-new/instrument/src/main/java/janala/logger/inst/IFNONNULL.java\n",
      "\tLMFuzzer/jqf-new/instrument/src/main/java/janala/logger/inst/IFNULL.java\n",
      "\tLMFuzzer/jqf-new/instrument/src/main/java/janala/logger/inst/IF_ACMPEQ.java\n",
      "\tLMFuzzer/jqf-new/instrument/src/main/java/janala/logger/inst/IF_ACMPNE.java\n",
      "\tLMFuzzer/jqf-new/instrument/src/main/java/janala/logger/inst/IF_ICMPEQ.java\n",
      "\tLMFuzzer/jqf-new/instrument/src/main/java/janala/logger/inst/IF_ICMPGE.java\n",
      "\tLMFuzzer/jqf-new/instrument/src/main/java/janala/logger/inst/IF_ICMPGT.java\n",
      "\tLMFuzzer/jqf-new/instrument/src/main/java/janala/logger/inst/IF_ICMPLE.java\n",
      "\tLMFuzzer/jqf-new/instrument/src/main/java/janala/logger/inst/IF_ICMPLT.java\n",
      "\tLMFuzzer/jqf-new/instrument/src/main/java/janala/logger/inst/IF_ICMPNE.java\n",
      "\tLMFuzzer/jqf-new/instrument/src/main/java/janala/logger/inst/IINC.java\n",
      "\tLMFuzzer/jqf-new/instrument/src/main/java/janala/logger/inst/ILOAD.java\n",
      "\tLMFuzzer/jqf-new/instrument/src/main/java/janala/logger/inst/IMUL.java\n",
      "\tLMFuzzer/jqf-new/instrument/src/main/java/janala/logger/inst/INEG.java\n",
      "\tLMFuzzer/jqf-new/instrument/src/main/java/janala/logger/inst/INSTANCEOF.java\n",
      "\tLMFuzzer/jqf-new/instrument/src/main/java/janala/logger/inst/INVOKEINTERFACE.java\n",
      "\tLMFuzzer/jqf-new/instrument/src/main/java/janala/logger/inst/INVOKEMETHOD_END.java\n",
      "\tLMFuzzer/jqf-new/instrument/src/main/java/janala/logger/inst/INVOKEMETHOD_EXCEPTION.java\n",
      "\tLMFuzzer/jqf-new/instrument/src/main/java/janala/logger/inst/INVOKESPECIAL.java\n",
      "\tLMFuzzer/jqf-new/instrument/src/main/java/janala/logger/inst/INVOKESTATIC.java\n",
      "\tLMFuzzer/jqf-new/instrument/src/main/java/janala/logger/inst/INVOKEVIRTUAL.java\n",
      "\tLMFuzzer/jqf-new/instrument/src/main/java/janala/logger/inst/IOR.java\n",
      "\tLMFuzzer/jqf-new/instrument/src/main/java/janala/logger/inst/IREM.java\n",
      "\tLMFuzzer/jqf-new/instrument/src/main/java/janala/logger/inst/IRETURN.java\n",
      "\tLMFuzzer/jqf-new/instrument/src/main/java/janala/logger/inst/ISHL.java\n",
      "\tLMFuzzer/jqf-new/instrument/src/main/java/janala/logger/inst/ISHR.java\n",
      "\tLMFuzzer/jqf-new/instrument/src/main/java/janala/logger/inst/ISTORE.java\n",
      "\tLMFuzzer/jqf-new/instrument/src/main/java/janala/logger/inst/ISUB.java\n",
      "\tLMFuzzer/jqf-new/instrument/src/main/java/janala/logger/inst/IUSHR.java\n",
      "\tLMFuzzer/jqf-new/instrument/src/main/java/janala/logger/inst/IVisitor.java\n",
      "\tLMFuzzer/jqf-new/instrument/src/main/java/janala/logger/inst/IXOR.java\n",
      "\tLMFuzzer/jqf-new/instrument/src/main/java/janala/logger/inst/Instruction.java\n",
      "\tLMFuzzer/jqf-new/instrument/src/main/java/janala/logger/inst/InvokeInstruction.java\n",
      "\tLMFuzzer/jqf-new/instrument/src/main/java/janala/logger/inst/JSR.java\n",
      "\tLMFuzzer/jqf-new/instrument/src/main/java/janala/logger/inst/L2D.java\n",
      "\tLMFuzzer/jqf-new/instrument/src/main/java/janala/logger/inst/L2F.java\n",
      "\tLMFuzzer/jqf-new/instrument/src/main/java/janala/logger/inst/L2I.java\n",
      "\tLMFuzzer/jqf-new/instrument/src/main/java/janala/logger/inst/LADD.java\n",
      "\tLMFuzzer/jqf-new/instrument/src/main/java/janala/logger/inst/LALOAD.java\n",
      "\tLMFuzzer/jqf-new/instrument/src/main/java/janala/logger/inst/LAND.java\n",
      "\tLMFuzzer/jqf-new/instrument/src/main/java/janala/logger/inst/LASTORE.java\n",
      "\tLMFuzzer/jqf-new/instrument/src/main/java/janala/logger/inst/LCMP.java\n",
      "\tLMFuzzer/jqf-new/instrument/src/main/java/janala/logger/inst/LCONST_0.java\n",
      "\tLMFuzzer/jqf-new/instrument/src/main/java/janala/logger/inst/LCONST_1.java\n",
      "\tLMFuzzer/jqf-new/instrument/src/main/java/janala/logger/inst/LDC_Object.java\n",
      "\tLMFuzzer/jqf-new/instrument/src/main/java/janala/logger/inst/LDC_String.java\n",
      "\tLMFuzzer/jqf-new/instrument/src/main/java/janala/logger/inst/LDC_double.java\n",
      "\tLMFuzzer/jqf-new/instrument/src/main/java/janala/logger/inst/LDC_float.java\n",
      "\tLMFuzzer/jqf-new/instrument/src/main/java/janala/logger/inst/LDC_int.java\n",
      "\tLMFuzzer/jqf-new/instrument/src/main/java/janala/logger/inst/LDC_long.java\n",
      "\tLMFuzzer/jqf-new/instrument/src/main/java/janala/logger/inst/LDIV.java\n",
      "\tLMFuzzer/jqf-new/instrument/src/main/java/janala/logger/inst/LLOAD.java\n",
      "\tLMFuzzer/jqf-new/instrument/src/main/java/janala/logger/inst/LMUL.java\n",
      "\tLMFuzzer/jqf-new/instrument/src/main/java/janala/logger/inst/LNEG.java\n",
      "\tLMFuzzer/jqf-new/instrument/src/main/java/janala/logger/inst/LOOKUPSWITCH.java\n",
      "\tLMFuzzer/jqf-new/instrument/src/main/java/janala/logger/inst/LOR.java\n",
      "\tLMFuzzer/jqf-new/instrument/src/main/java/janala/logger/inst/LREM.java\n",
      "\tLMFuzzer/jqf-new/instrument/src/main/java/janala/logger/inst/LRETURN.java\n",
      "\tLMFuzzer/jqf-new/instrument/src/main/java/janala/logger/inst/LSHL.java\n",
      "\tLMFuzzer/jqf-new/instrument/src/main/java/janala/logger/inst/LSHR.java\n",
      "\tLMFuzzer/jqf-new/instrument/src/main/java/janala/logger/inst/LSTORE.java\n",
      "\tLMFuzzer/jqf-new/instrument/src/main/java/janala/logger/inst/LSUB.java\n",
      "\tLMFuzzer/jqf-new/instrument/src/main/java/janala/logger/inst/LUSHR.java\n",
      "\tLMFuzzer/jqf-new/instrument/src/main/java/janala/logger/inst/LXOR.java\n",
      "\tLMFuzzer/jqf-new/instrument/src/main/java/janala/logger/inst/MAKE_SYMBOLIC.java\n",
      "\tLMFuzzer/jqf-new/instrument/src/main/java/janala/logger/inst/METHOD_BEGIN.java\n",
      "\tLMFuzzer/jqf-new/instrument/src/main/java/janala/logger/inst/METHOD_THROW.java\n",
      "\tLMFuzzer/jqf-new/instrument/src/main/java/janala/logger/inst/MONITORENTER.java\n",
      "\tLMFuzzer/jqf-new/instrument/src/main/java/janala/logger/inst/MONITOREXIT.java\n",
      "\tLMFuzzer/jqf-new/instrument/src/main/java/janala/logger/inst/MULTIANEWARRAY.java\n",
      "\tLMFuzzer/jqf-new/instrument/src/main/java/janala/logger/inst/MemberRef.java\n",
      "\tLMFuzzer/jqf-new/instrument/src/main/java/janala/logger/inst/NEW.java\n",
      "\tLMFuzzer/jqf-new/instrument/src/main/java/janala/logger/inst/NEWARRAY.java\n",
      "\tLMFuzzer/jqf-new/instrument/src/main/java/janala/logger/inst/NOP.java\n",
      "\tLMFuzzer/jqf-new/instrument/src/main/java/janala/logger/inst/POP.java\n",
      "\tLMFuzzer/jqf-new/instrument/src/main/java/janala/logger/inst/POP2.java\n",
      "\tLMFuzzer/jqf-new/instrument/src/main/java/janala/logger/inst/PUTFIELD.java\n",
      "\tLMFuzzer/jqf-new/instrument/src/main/java/janala/logger/inst/PUTSTATIC.java\n",
      "\tLMFuzzer/jqf-new/instrument/src/main/java/janala/logger/inst/RET.java\n",
      "\tLMFuzzer/jqf-new/instrument/src/main/java/janala/logger/inst/RETURN.java\n",
      "\tLMFuzzer/jqf-new/instrument/src/main/java/janala/logger/inst/SALOAD.java\n",
      "\tLMFuzzer/jqf-new/instrument/src/main/java/janala/logger/inst/SASTORE.java\n",
      "\tLMFuzzer/jqf-new/instrument/src/main/java/janala/logger/inst/SIPUSH.java\n",
      "\tLMFuzzer/jqf-new/instrument/src/main/java/janala/logger/inst/SPECIAL.java\n",
      "\tLMFuzzer/jqf-new/instrument/src/main/java/janala/logger/inst/SWAP.java\n",
      "\tLMFuzzer/jqf-new/instrument/src/main/java/janala/logger/inst/TABLESWITCH.java\n",
      "\tLMFuzzer/jqf-new/instrument/src/test/java/BinaryTree.java\n",
      "\tLMFuzzer/jqf-new/instrument/src/test/java/CancelReturn.java\n",
      "\tLMFuzzer/jqf-new/instrument/src/test/java/DataStructures.java\n",
      "\tLMFuzzer/jqf-new/instrument/src/test/java/HelloWorld.java\n",
      "\tLMFuzzer/jqf-new/instrument/src/test/java/MultiThreaded.java\n",
      "\tLMFuzzer/jqf-new/instrument/src/test/java/Outer.java\n",
      "\tLMFuzzer/jqf-new/instrument/src/test/java/Recursion.java\n",
      "\tLMFuzzer/jqf-new/instrument/src/test/java/StaticInit.java\n",
      "\tLMFuzzer/jqf-new/instrument/src/test/java/StaticInitDriver.java\n",
      "\tLMFuzzer/jqf-new/instrument/src/test/java/UninitializedThis.java\n",
      "\tLMFuzzer/jqf-new/instrument/src/test/java/Wrapper.java\n",
      "\tLMFuzzer/jqf-new/maven-plugin/pom.xml\n",
      "\tLMFuzzer/jqf-new/maven-plugin/src/main/java/edu/berkeley/cs/jqf/plugin/FuzzGoal.java\n",
      "\tLMFuzzer/jqf-new/maven-plugin/src/main/java/edu/berkeley/cs/jqf/plugin/ReproGoal.java\n",
      "\tLMFuzzer/jqf-new/maven-plugin/tutorial/CalendarGenerator.class\n",
      "\tLMFuzzer/jqf-new/maven-plugin/tutorial/CalendarGenerator.java\n",
      "\tLMFuzzer/jqf-new/maven-plugin/tutorial/CalendarLogic.class\n",
      "\tLMFuzzer/jqf-new/maven-plugin/tutorial/CalendarLogic.java\n",
      "\tLMFuzzer/jqf-new/maven-plugin/tutorial/CalendarTest.class\n",
      "\tLMFuzzer/jqf-new/maven-plugin/tutorial/CalendarTest.java\n",
      "\tLMFuzzer/jqf-new/nohup.out\n",
      "\tLMFuzzer/jqf-new/pom.xml\n",
      "\tLMFuzzer/jqf-new/scripts/classpath.sh\n",
      "\tLMFuzzer/jqf-new/scripts/examples_classpath.sh\n",
      "\tLMFuzzer/jqf-new/scripts/experiments/bench.sh\n",
      "\tLMFuzzer/jqf-new/scripts/experiments/cov.sh\n",
      "\tLMFuzzer/jqf-new/scripts/experiments/cov_all.sh\n",
      "\tLMFuzzer/jqf-new/scripts/experiments/run_all.sh\n",
      "\tLMFuzzer/jqf-new/scripts/experiments/synt_sem.sh\n",
      "\tLMFuzzer/jqf-new/scripts/experiments/synt_sem_all.sh\n",
      "\tLMFuzzer/jqf-new/scripts/instrument.sh\n",
      "\tLMFuzzer/jqf-new/scripts/janala.conf\n",
      "\tLMFuzzer/jqf-new/scripts/jqf-driver.sh\n",
      "\tLMFuzzer/jqf-new/settings.xml\n",
      "\tLMFuzzer/jqf-new/setup.sh\n",
      "\tLMFuzzer/jqf-new/smalljs.zip\n",
      "\tLMFuzzer/jqf-new/xml/000.txt\n",
      "Cloning into '/home/nahid/dataset/clones/mathsyouth_____the-c-programming-language-solutions'...\n"
     ]
    },
    {
     "name": "stdout",
     "output_type": "stream",
     "text": [
      "Make DONE\n",
      "https://github.com/mathsyouth/the-c-programming-language-solutions.git\n",
      "repo_name mathsyouth_____the-c-programming-language-solutions\n",
      "git clone https://github.com/mathsyouth/the-c-programming-language-solutions.git /home/nahid/dataset/clones/mathsyouth_____the-c-programming-language-solutions \n",
      "Make DONE\n",
      "https://github.com/asankov/the-practice-of-programming.git\n",
      "repo_name asankov_____the-practice-of-programming\n",
      "git clone https://github.com/asankov/the-practice-of-programming.git /home/nahid/dataset/clones/asankov_____the-practice-of-programming \n"
     ]
    },
    {
     "name": "stderr",
     "output_type": "stream",
     "text": [
      "Cloning into '/home/nahid/dataset/clones/asankov_____the-practice-of-programming'...\n"
     ]
    },
    {
     "name": "stdout",
     "output_type": "stream",
     "text": [
      "Make DONE\n",
      "https://github.com/omni-compiler/omni-compiler.git\n",
      "repo_name omni-compiler_____omni-compiler\n",
      "git clone https://github.com/omni-compiler/omni-compiler.git /home/nahid/dataset/clones/omni-compiler_____omni-compiler \n"
     ]
    },
    {
     "name": "stderr",
     "output_type": "stream",
     "text": [
      "Cloning into '/home/nahid/dataset/clones/omni-compiler_____omni-compiler'...\n"
     ]
    },
    {
     "name": "stdout",
     "output_type": "stream",
     "text": [
      "Make DONE\n",
      "https://github.com/timgabets/CS61.git\n",
      "repo_name timgabets_____CS61\n",
      "git clone https://github.com/timgabets/CS61.git /home/nahid/dataset/clones/timgabets_____CS61 \n"
     ]
    },
    {
     "name": "stderr",
     "output_type": "stream",
     "text": [
      "Cloning into '/home/nahid/dataset/clones/timgabets_____CS61'...\n"
     ]
    },
    {
     "name": "stdout",
     "output_type": "stream",
     "text": [
      "Make DONE\n",
      "https://github.com/PacktPublishing/Learn-and-Master-C-Programming-For-Absolute-Beginners-.git\n",
      "repo_name PacktPublishing_____Learn-and-Master-C-Programming-For-Absolute-Beginners-\n",
      "git clone https://github.com/PacktPublishing/Learn-and-Master-C-Programming-For-Absolute-Beginners-.git /home/nahid/dataset/clones/PacktPublishing_____Learn-and-Master-C-Programming-For-Absolute-Beginners- \n"
     ]
    },
    {
     "name": "stderr",
     "output_type": "stream",
     "text": [
      "Cloning into '/home/nahid/dataset/clones/PacktPublishing_____Learn-and-Master-C-Programming-For-Absolute-Beginners-'...\n"
     ]
    },
    {
     "name": "stdout",
     "output_type": "stream",
     "text": [
      "Make DONE\n",
      "https://github.com/davidleitw/socket.git\n",
      "repo_name davidleitw_____socket\n",
      "git clone https://github.com/davidleitw/socket.git /home/nahid/dataset/clones/davidleitw_____socket \n"
     ]
    },
    {
     "name": "stderr",
     "output_type": "stream",
     "text": [
      "Cloning into '/home/nahid/dataset/clones/davidleitw_____socket'...\n"
     ]
    },
    {
     "name": "stdout",
     "output_type": "stream",
     "text": [
      "Make DONE\n",
      "https://github.com/anonyxhappie/c_progs.git\n",
      "repo_name anonyxhappie_____c_progs\n",
      "git clone https://github.com/anonyxhappie/c_progs.git /home/nahid/dataset/clones/anonyxhappie_____c_progs \n"
     ]
    },
    {
     "name": "stderr",
     "output_type": "stream",
     "text": [
      "Cloning into '/home/nahid/dataset/clones/anonyxhappie_____c_progs'...\n"
     ]
    },
    {
     "name": "stdout",
     "output_type": "stream",
     "text": [
      "Make DONE\n",
      "https://github.com/yunghsianglu/CProgramExercise.git\n",
      "repo_name yunghsianglu_____CProgramExercise\n",
      "git clone https://github.com/yunghsianglu/CProgramExercise.git /home/nahid/dataset/clones/yunghsianglu_____CProgramExercise \n"
     ]
    },
    {
     "name": "stderr",
     "output_type": "stream",
     "text": [
      "Cloning into '/home/nahid/dataset/clones/yunghsianglu_____CProgramExercise'...\n"
     ]
    },
    {
     "name": "stdout",
     "output_type": "stream",
     "text": [
      "Make DONE\n",
      "https://github.com/osmhpi/pgasus.git\n",
      "repo_name osmhpi_____pgasus\n",
      "git clone https://github.com/osmhpi/pgasus.git /home/nahid/dataset/clones/osmhpi_____pgasus \n"
     ]
    },
    {
     "name": "stderr",
     "output_type": "stream",
     "text": [
      "Cloning into '/home/nahid/dataset/clones/osmhpi_____pgasus'...\n"
     ]
    },
    {
     "name": "stdout",
     "output_type": "stream",
     "text": [
      "Make DONE\n",
      "https://github.com/jithin-renji/Nuke.git\n",
      "repo_name jithin-renji_____Nuke\n",
      "git clone https://github.com/jithin-renji/Nuke.git /home/nahid/dataset/clones/jithin-renji_____Nuke \n"
     ]
    },
    {
     "name": "stderr",
     "output_type": "stream",
     "text": [
      "Cloning into '/home/nahid/dataset/clones/jithin-renji_____Nuke'...\n"
     ]
    },
    {
     "name": "stdout",
     "output_type": "stream",
     "text": [
      "Make DONE\n",
      "https://github.com/Fraol123/alx-low_level_programming.git\n",
      "repo_name Fraol123_____alx-low_level_programming\n",
      "git clone https://github.com/Fraol123/alx-low_level_programming.git /home/nahid/dataset/clones/Fraol123_____alx-low_level_programming \n"
     ]
    },
    {
     "name": "stderr",
     "output_type": "stream",
     "text": [
      "Cloning into '/home/nahid/dataset/clones/Fraol123_____alx-low_level_programming'...\n"
     ]
    },
    {
     "name": "stdout",
     "output_type": "stream",
     "text": [
      "Make DONE\n",
      "https://github.com/Evgueni-Petrov-aka-espetrov/18203.git\n",
      "repo_name Evgueni-Petrov-aka-espetrov_____18203\n",
      "git clone https://github.com/Evgueni-Petrov-aka-espetrov/18203.git /home/nahid/dataset/clones/Evgueni-Petrov-aka-espetrov_____18203 \n"
     ]
    },
    {
     "name": "stderr",
     "output_type": "stream",
     "text": [
      "Cloning into '/home/nahid/dataset/clones/Evgueni-Petrov-aka-espetrov_____18203'...\n"
     ]
    },
    {
     "name": "stdout",
     "output_type": "stream",
     "text": [
      "Make DONE\n",
      "https://github.com/ConstantineBoitsov/ProgrammingCourse.git\n",
      "repo_name ConstantineBoitsov_____ProgrammingCourse\n",
      "git clone https://github.com/ConstantineBoitsov/ProgrammingCourse.git /home/nahid/dataset/clones/ConstantineBoitsov_____ProgrammingCourse \n"
     ]
    },
    {
     "name": "stderr",
     "output_type": "stream",
     "text": [
      "Cloning into '/home/nahid/dataset/clones/ConstantineBoitsov_____ProgrammingCourse'...\n"
     ]
    },
    {
     "name": "stdout",
     "output_type": "stream",
     "text": [
      "Make DONE\n",
      "https://github.com/phantware/alx-low_level_programming.git\n",
      "repo_name phantware_____alx-low_level_programming\n",
      "git clone https://github.com/phantware/alx-low_level_programming.git /home/nahid/dataset/clones/phantware_____alx-low_level_programming \n"
     ]
    },
    {
     "name": "stderr",
     "output_type": "stream",
     "text": [
      "Cloning into '/home/nahid/dataset/clones/phantware_____alx-low_level_programming'...\n"
     ]
    },
    {
     "name": "stdout",
     "output_type": "stream",
     "text": [
      "Make DONE\n",
      "https://github.com/Barackhalogen/alx-low_level_programming.git\n",
      "repo_name Barackhalogen_____alx-low_level_programming\n",
      "git clone https://github.com/Barackhalogen/alx-low_level_programming.git /home/nahid/dataset/clones/Barackhalogen_____alx-low_level_programming \n"
     ]
    },
    {
     "name": "stderr",
     "output_type": "stream",
     "text": [
      "Cloning into '/home/nahid/dataset/clones/Barackhalogen_____alx-low_level_programming'...\n"
     ]
    },
    {
     "name": "stdout",
     "output_type": "stream",
     "text": [
      "Make DONE\n",
      "https://github.com/dpohanlon/Transfer.git\n",
      "repo_name dpohanlon_____Transfer\n",
      "git clone https://github.com/dpohanlon/Transfer.git /home/nahid/dataset/clones/dpohanlon_____Transfer \n"
     ]
    },
    {
     "name": "stderr",
     "output_type": "stream",
     "text": [
      "Cloning into '/home/nahid/dataset/clones/dpohanlon_____Transfer'...\n"
     ]
    },
    {
     "name": "stdout",
     "output_type": "stream",
     "text": [
      "Make DONE\n",
      "https://github.com/dagit/Cyclone-Language.git\n",
      "repo_name dagit_____Cyclone-Language\n",
      "git clone https://github.com/dagit/Cyclone-Language.git /home/nahid/dataset/clones/dagit_____Cyclone-Language \n"
     ]
    },
    {
     "name": "stderr",
     "output_type": "stream",
     "text": [
      "Cloning into '/home/nahid/dataset/clones/dagit_____Cyclone-Language'...\n"
     ]
    },
    {
     "name": "stdout",
     "output_type": "stream",
     "text": [
      "Make DONE\n",
      "https://github.com/xyproto/c2go.git\n",
      "repo_name xyproto_____c2go\n",
      "git clone https://github.com/xyproto/c2go.git /home/nahid/dataset/clones/xyproto_____c2go \n"
     ]
    },
    {
     "name": "stderr",
     "output_type": "stream",
     "text": [
      "Cloning into '/home/nahid/dataset/clones/xyproto_____c2go'...\n"
     ]
    },
    {
     "name": "stdout",
     "output_type": "stream",
     "text": [
      "Make DONE\n",
      "https://github.com/jade-law/CS2110--Computer-Organization-and-Programming.git\n",
      "repo_name jade-law_____CS2110--Computer-Organization-and-Programming\n",
      "git clone https://github.com/jade-law/CS2110--Computer-Organization-and-Programming.git /home/nahid/dataset/clones/jade-law_____CS2110--Computer-Organization-and-Programming \n"
     ]
    },
    {
     "name": "stderr",
     "output_type": "stream",
     "text": [
      "Cloning into '/home/nahid/dataset/clones/jade-law_____CS2110--Computer-Organization-and-Programming'...\n"
     ]
    },
    {
     "name": "stdout",
     "output_type": "stream",
     "text": [
      "Make DONE\n",
      "https://github.com/Juniper/libslax.git\n",
      "repo_name Juniper_____libslax\n",
      "git clone https://github.com/Juniper/libslax.git /home/nahid/dataset/clones/Juniper_____libslax \n"
     ]
    },
    {
     "name": "stderr",
     "output_type": "stream",
     "text": [
      "Cloning into '/home/nahid/dataset/clones/Juniper_____libslax'...\n"
     ]
    },
    {
     "name": "stdout",
     "output_type": "stream",
     "text": [
      "Make DONE\n",
      "https://github.com/chitechma/c-programming-1-helloworld.git\n",
      "repo_name chitechma_____c-programming-1-helloworld\n",
      "git clone https://github.com/chitechma/c-programming-1-helloworld.git /home/nahid/dataset/clones/chitechma_____c-programming-1-helloworld \n"
     ]
    },
    {
     "name": "stderr",
     "output_type": "stream",
     "text": [
      "Cloning into '/home/nahid/dataset/clones/chitechma_____c-programming-1-helloworld'...\n"
     ]
    },
    {
     "name": "stdout",
     "output_type": "stream",
     "text": [
      "Make DONE\n",
      "https://github.com/garethbrickman/holbertonschool-low_level_programming.git\n",
      "repo_name garethbrickman_____holbertonschool-low_level_programming\n",
      "git clone https://github.com/garethbrickman/holbertonschool-low_level_programming.git /home/nahid/dataset/clones/garethbrickman_____holbertonschool-low_level_programming \n"
     ]
    },
    {
     "name": "stderr",
     "output_type": "stream",
     "text": [
      "Cloning into '/home/nahid/dataset/clones/garethbrickman_____holbertonschool-low_level_programming'...\n"
     ]
    },
    {
     "name": "stdout",
     "output_type": "stream",
     "text": [
      "Make DONE\n",
      "https://github.com/soham4abc/CP_repository.git\n",
      "repo_name soham4abc_____CP_repository\n",
      "git clone https://github.com/soham4abc/CP_repository.git /home/nahid/dataset/clones/soham4abc_____CP_repository \n"
     ]
    },
    {
     "name": "stderr",
     "output_type": "stream",
     "text": [
      "Cloning into '/home/nahid/dataset/clones/soham4abc_____CP_repository'...\n"
     ]
    },
    {
     "name": "stdout",
     "output_type": "stream",
     "text": [
      "Make DONE\n",
      "https://github.com/AaronCGoidel/SlothLang.git\n",
      "repo_name AaronCGoidel_____SlothLang\n",
      "git clone https://github.com/AaronCGoidel/SlothLang.git /home/nahid/dataset/clones/AaronCGoidel_____SlothLang \n"
     ]
    },
    {
     "name": "stderr",
     "output_type": "stream",
     "text": [
      "Cloning into '/home/nahid/dataset/clones/AaronCGoidel_____SlothLang'...\n"
     ]
    },
    {
     "name": "stdout",
     "output_type": "stream",
     "text": [
      "Make DONE\n",
      "https://github.com/juansedev/holbertonschool-low_level_programming.git\n",
      "repo_name juansedev_____holbertonschool-low_level_programming\n",
      "git clone https://github.com/juansedev/holbertonschool-low_level_programming.git /home/nahid/dataset/clones/juansedev_____holbertonschool-low_level_programming \n"
     ]
    },
    {
     "name": "stderr",
     "output_type": "stream",
     "text": [
      "Cloning into '/home/nahid/dataset/clones/juansedev_____holbertonschool-low_level_programming'...\n"
     ]
    },
    {
     "name": "stdout",
     "output_type": "stream",
     "text": [
      "Make DONE\n",
      "https://github.com/prince-pratik7/Data_Structure_Algorithm.git\n",
      "repo_name prince-pratik7_____Data_Structure_Algorithm\n",
      "git clone https://github.com/prince-pratik7/Data_Structure_Algorithm.git /home/nahid/dataset/clones/prince-pratik7_____Data_Structure_Algorithm \n"
     ]
    },
    {
     "name": "stderr",
     "output_type": "stream",
     "text": [
      "Cloning into '/home/nahid/dataset/clones/prince-pratik7_____Data_Structure_Algorithm'...\n"
     ]
    },
    {
     "name": "stdout",
     "output_type": "stream",
     "text": [
      "Make DONE\n",
      "https://github.com/ajaved/ELEC424-Lab01_Programming.git\n",
      "repo_name ajaved_____ELEC424-Lab01_Programming\n",
      "git clone https://github.com/ajaved/ELEC424-Lab01_Programming.git /home/nahid/dataset/clones/ajaved_____ELEC424-Lab01_Programming \n"
     ]
    },
    {
     "name": "stderr",
     "output_type": "stream",
     "text": [
      "Cloning into '/home/nahid/dataset/clones/ajaved_____ELEC424-Lab01_Programming'...\n"
     ]
    },
    {
     "name": "stdout",
     "output_type": "stream",
     "text": [
      "Make DONE\n",
      "https://github.com/prateeksawhney97/Programming-Data-Structures-and-Algorithms-Using-C.git\n",
      "repo_name prateeksawhney97_____Programming-Data-Structures-and-Algorithms-Using-C\n",
      "git clone https://github.com/prateeksawhney97/Programming-Data-Structures-and-Algorithms-Using-C.git /home/nahid/dataset/clones/prateeksawhney97_____Programming-Data-Structures-and-Algorithms-Using-C \n"
     ]
    },
    {
     "name": "stderr",
     "output_type": "stream",
     "text": [
      "Cloning into '/home/nahid/dataset/clones/prateeksawhney97_____Programming-Data-Structures-and-Algorithms-Using-C'...\n"
     ]
    },
    {
     "name": "stdout",
     "output_type": "stream",
     "text": [
      "Make DONE\n",
      "https://github.com/1326670425/TCPL.git\n",
      "repo_name 1326670425_____TCPL\n",
      "git clone https://github.com/1326670425/TCPL.git /home/nahid/dataset/clones/1326670425_____TCPL \n"
     ]
    },
    {
     "name": "stderr",
     "output_type": "stream",
     "text": [
      "Cloning into '/home/nahid/dataset/clones/1326670425_____TCPL'...\n"
     ]
    },
    {
     "name": "stdout",
     "output_type": "stream",
     "text": [
      "Make DONE\n",
      "https://github.com/dobesv/charity.git\n",
      "repo_name dobesv_____charity\n",
      "git clone https://github.com/dobesv/charity.git /home/nahid/dataset/clones/dobesv_____charity \n"
     ]
    },
    {
     "name": "stderr",
     "output_type": "stream",
     "text": [
      "Cloning into '/home/nahid/dataset/clones/dobesv_____charity'...\n"
     ]
    },
    {
     "name": "stdout",
     "output_type": "stream",
     "text": [
      "Make DONE\n",
      "https://github.com/codeplea/hexembed.git\n",
      "repo_name codeplea_____hexembed\n",
      "git clone https://github.com/codeplea/hexembed.git /home/nahid/dataset/clones/codeplea_____hexembed \n"
     ]
    },
    {
     "name": "stderr",
     "output_type": "stream",
     "text": [
      "Cloning into '/home/nahid/dataset/clones/codeplea_____hexembed'...\n"
     ]
    },
    {
     "name": "stdout",
     "output_type": "stream",
     "text": [
      "Make DONE\n",
      "https://github.com/cogu/adt.git\n",
      "repo_name cogu_____adt\n",
      "git clone https://github.com/cogu/adt.git /home/nahid/dataset/clones/cogu_____adt \n"
     ]
    },
    {
     "name": "stderr",
     "output_type": "stream",
     "text": [
      "Cloning into '/home/nahid/dataset/clones/cogu_____adt'...\n"
     ]
    },
    {
     "name": "stdout",
     "output_type": "stream",
     "text": [
      "Make DONE\n",
      "https://github.com/Programming-Algorithms-Book/C-Original-Sources.git\n",
      "repo_name Programming-Algorithms-Book_____C-Original-Sources\n",
      "git clone https://github.com/Programming-Algorithms-Book/C-Original-Sources.git /home/nahid/dataset/clones/Programming-Algorithms-Book_____C-Original-Sources \n"
     ]
    },
    {
     "name": "stderr",
     "output_type": "stream",
     "text": [
      "Cloning into '/home/nahid/dataset/clones/Programming-Algorithms-Book_____C-Original-Sources'...\n"
     ]
    },
    {
     "name": "stdout",
     "output_type": "stream",
     "text": [
      "Make DONE\n",
      "https://github.com/varren/cs107.git\n",
      "repo_name varren_____cs107\n",
      "git clone https://github.com/varren/cs107.git /home/nahid/dataset/clones/varren_____cs107 \n"
     ]
    },
    {
     "name": "stderr",
     "output_type": "stream",
     "text": [
      "Cloning into '/home/nahid/dataset/clones/varren_____cs107'...\n",
      "Updating files: 100% (150/150), done.\n",
      "Cloning into '/home/nahid/dataset/clones/yechen3_____cs252'...\n"
     ]
    },
    {
     "name": "stdout",
     "output_type": "stream",
     "text": [
      "Make DONE\n",
      "https://github.com/yechen3/cs252.git\n",
      "repo_name yechen3_____cs252\n",
      "git clone https://github.com/yechen3/cs252.git /home/nahid/dataset/clones/yechen3_____cs252 \n",
      "Make DONE\n",
      "https://github.com/D-lyw/Socket_C_linux.git\n",
      "repo_name D-lyw_____Socket_C_linux\n",
      "git clone https://github.com/D-lyw/Socket_C_linux.git /home/nahid/dataset/clones/D-lyw_____Socket_C_linux \n"
     ]
    },
    {
     "name": "stderr",
     "output_type": "stream",
     "text": [
      "Cloning into '/home/nahid/dataset/clones/D-lyw_____Socket_C_linux'...\n"
     ]
    },
    {
     "name": "stdout",
     "output_type": "stream",
     "text": [
      "Make DONE\n",
      "https://github.com/microsoft/checkedc-llvm-test-suite.git\n",
      "repo_name microsoft_____checkedc-llvm-test-suite\n",
      "git clone https://github.com/microsoft/checkedc-llvm-test-suite.git /home/nahid/dataset/clones/microsoft_____checkedc-llvm-test-suite \n"
     ]
    },
    {
     "name": "stderr",
     "output_type": "stream",
     "text": [
      "Cloning into '/home/nahid/dataset/clones/microsoft_____checkedc-llvm-test-suite'...\n"
     ]
    },
    {
     "name": "stdout",
     "output_type": "stream",
     "text": [
      "Make DONE\n",
      "https://github.com/shutterberg/c-.git\n",
      "repo_name shutterberg_____c-\n",
      "git clone https://github.com/shutterberg/c-.git /home/nahid/dataset/clones/shutterberg_____c- \n"
     ]
    },
    {
     "name": "stderr",
     "output_type": "stream",
     "text": [
      "Cloning into '/home/nahid/dataset/clones/shutterberg_____c-'...\n"
     ]
    },
    {
     "name": "stdout",
     "output_type": "stream",
     "text": [
      "Make DONE\n",
      "https://github.com/pikelang/Pike.git\n",
      "repo_name pikelang_____Pike\n",
      "git clone https://github.com/pikelang/Pike.git /home/nahid/dataset/clones/pikelang_____Pike \n"
     ]
    },
    {
     "name": "stderr",
     "output_type": "stream",
     "text": [
      "Cloning into '/home/nahid/dataset/clones/pikelang_____Pike'...\n"
     ]
    },
    {
     "name": "stdout",
     "output_type": "stream",
     "text": [
      "Make DONE\n",
      "https://github.com/fzx-314/C-Programs.git\n",
      "repo_name fzx-314_____C-Programs\n",
      "git clone https://github.com/fzx-314/C-Programs.git /home/nahid/dataset/clones/fzx-314_____C-Programs \n"
     ]
    },
    {
     "name": "stderr",
     "output_type": "stream",
     "text": [
      "Cloning into '/home/nahid/dataset/clones/fzx-314_____C-Programs'...\n"
     ]
    },
    {
     "name": "stdout",
     "output_type": "stream",
     "text": [
      "Make DONE\n",
      "https://github.com/tom5760/usermount.git\n",
      "repo_name tom5760_____usermount\n",
      "git clone https://github.com/tom5760/usermount.git /home/nahid/dataset/clones/tom5760_____usermount \n"
     ]
    },
    {
     "name": "stderr",
     "output_type": "stream",
     "text": [
      "Cloning into '/home/nahid/dataset/clones/tom5760_____usermount'...\n"
     ]
    },
    {
     "name": "stdout",
     "output_type": "stream",
     "text": [
      "Make DONE\n",
      "https://github.com/Ratheshprabakar/C-Complete-practice.git\n",
      "repo_name Ratheshprabakar_____C-Complete-practice\n",
      "git clone https://github.com/Ratheshprabakar/C-Complete-practice.git /home/nahid/dataset/clones/Ratheshprabakar_____C-Complete-practice \n"
     ]
    },
    {
     "name": "stderr",
     "output_type": "stream",
     "text": [
      "Cloning into '/home/nahid/dataset/clones/Ratheshprabakar_____C-Complete-practice'...\n"
     ]
    },
    {
     "name": "stdout",
     "output_type": "stream",
     "text": [
      "Make DONE\n",
      "https://github.com/lemokami/C.git\n",
      "repo_name lemokami_____C\n",
      "git clone https://github.com/lemokami/C.git /home/nahid/dataset/clones/lemokami_____C \n"
     ]
    },
    {
     "name": "stderr",
     "output_type": "stream",
     "text": [
      "Cloning into '/home/nahid/dataset/clones/lemokami_____C'...\n"
     ]
    },
    {
     "name": "stdout",
     "output_type": "stream",
     "text": [
      "Make DONE\n",
      "https://github.com/arshad512/lkb.git\n",
      "repo_name arshad512_____lkb\n",
      "git clone https://github.com/arshad512/lkb.git /home/nahid/dataset/clones/arshad512_____lkb \n"
     ]
    },
    {
     "name": "stderr",
     "output_type": "stream",
     "text": [
      "Cloning into '/home/nahid/dataset/clones/arshad512_____lkb'...\n"
     ]
    },
    {
     "name": "stdout",
     "output_type": "stream",
     "text": [
      "Make DONE\n",
      "https://github.com/itaowei/Simply-SW-programming-language-compiler.git\n",
      "repo_name itaowei_____Simply-SW-programming-language-compiler\n",
      "git clone https://github.com/itaowei/Simply-SW-programming-language-compiler.git /home/nahid/dataset/clones/itaowei_____Simply-SW-programming-language-compiler \n"
     ]
    },
    {
     "name": "stderr",
     "output_type": "stream",
     "text": [
      "Cloning into '/home/nahid/dataset/clones/itaowei_____Simply-SW-programming-language-compiler'...\n"
     ]
    },
    {
     "name": "stdout",
     "output_type": "stream",
     "text": [
      "Make DONE\n",
      "https://github.com/BrynMawr-CS223-S22/class-examples.git\n",
      "repo_name BrynMawr-CS223-S22_____class-examples\n",
      "git clone https://github.com/BrynMawr-CS223-S22/class-examples.git /home/nahid/dataset/clones/BrynMawr-CS223-S22_____class-examples \n"
     ]
    },
    {
     "name": "stderr",
     "output_type": "stream",
     "text": [
      "Cloning into '/home/nahid/dataset/clones/BrynMawr-CS223-S22_____class-examples'...\n"
     ]
    },
    {
     "name": "stdout",
     "output_type": "stream",
     "text": [
      "Make DONE\n",
      "https://github.com/digitalsystemsubb/C-programming-basics.git\n",
      "repo_name digitalsystemsubb_____C-programming-basics\n",
      "git clone https://github.com/digitalsystemsubb/C-programming-basics.git /home/nahid/dataset/clones/digitalsystemsubb_____C-programming-basics \n"
     ]
    },
    {
     "name": "stderr",
     "output_type": "stream",
     "text": [
      "Cloning into '/home/nahid/dataset/clones/digitalsystemsubb_____C-programming-basics'...\n"
     ]
    },
    {
     "name": "stdout",
     "output_type": "stream",
     "text": [
      "Make DONE\n",
      "https://github.com/BrynMawr-CS223-S23/cs223-assignments.git\n",
      "repo_name BrynMawr-CS223-S23_____cs223-assignments\n",
      "git clone https://github.com/BrynMawr-CS223-S23/cs223-assignments.git /home/nahid/dataset/clones/BrynMawr-CS223-S23_____cs223-assignments \n"
     ]
    },
    {
     "name": "stderr",
     "output_type": "stream",
     "text": [
      "Cloning into '/home/nahid/dataset/clones/BrynMawr-CS223-S23_____cs223-assignments'...\n"
     ]
    },
    {
     "name": "stdout",
     "output_type": "stream",
     "text": [
      "Make DONE\n",
      "https://github.com/090max/C-Programming.git\n",
      "repo_name 090max_____C-Programming\n",
      "git clone https://github.com/090max/C-Programming.git /home/nahid/dataset/clones/090max_____C-Programming \n"
     ]
    },
    {
     "name": "stderr",
     "output_type": "stream",
     "text": [
      "Cloning into '/home/nahid/dataset/clones/090max_____C-Programming'...\n"
     ]
    },
    {
     "name": "stdout",
     "output_type": "stream",
     "text": [
      "Make DONE\n",
      "https://github.com/priyanga24/C-Programming.git\n",
      "repo_name priyanga24_____C-Programming\n",
      "git clone https://github.com/priyanga24/C-Programming.git /home/nahid/dataset/clones/priyanga24_____C-Programming \n"
     ]
    },
    {
     "name": "stderr",
     "output_type": "stream",
     "text": [
      "Cloning into '/home/nahid/dataset/clones/priyanga24_____C-Programming'...\n"
     ]
    },
    {
     "name": "stdout",
     "output_type": "stream",
     "text": [
      "Make DONE\n",
      "https://github.com/hyc/randprog.git\n",
      "repo_name hyc_____randprog\n",
      "git clone https://github.com/hyc/randprog.git /home/nahid/dataset/clones/hyc_____randprog \n"
     ]
    },
    {
     "name": "stderr",
     "output_type": "stream",
     "text": [
      "Cloning into '/home/nahid/dataset/clones/hyc_____randprog'...\n"
     ]
    },
    {
     "name": "stdout",
     "output_type": "stream",
     "text": [
      "Make DONE\n",
      "https://github.com/Saniabuh/alx-low_level_programming.git\n",
      "repo_name Saniabuh_____alx-low_level_programming\n",
      "git clone https://github.com/Saniabuh/alx-low_level_programming.git /home/nahid/dataset/clones/Saniabuh_____alx-low_level_programming \n"
     ]
    },
    {
     "name": "stderr",
     "output_type": "stream",
     "text": [
      "Cloning into '/home/nahid/dataset/clones/Saniabuh_____alx-low_level_programming'...\n"
     ]
    },
    {
     "name": "stdout",
     "output_type": "stream",
     "text": [
      "Make DONE\n",
      "https://github.com/Prabhat147/C-programming.git\n",
      "repo_name Prabhat147_____C-programming\n",
      "git clone https://github.com/Prabhat147/C-programming.git /home/nahid/dataset/clones/Prabhat147_____C-programming \n"
     ]
    },
    {
     "name": "stderr",
     "output_type": "stream",
     "text": [
      "Cloning into '/home/nahid/dataset/clones/Prabhat147_____C-programming'...\n"
     ]
    },
    {
     "name": "stdout",
     "output_type": "stream",
     "text": [
      "Make DONE\n",
      "https://github.com/amanabiy/alx-low_level_programming.git\n",
      "repo_name amanabiy_____alx-low_level_programming\n",
      "git clone https://github.com/amanabiy/alx-low_level_programming.git /home/nahid/dataset/clones/amanabiy_____alx-low_level_programming \n"
     ]
    },
    {
     "name": "stderr",
     "output_type": "stream",
     "text": [
      "Cloning into '/home/nahid/dataset/clones/amanabiy_____alx-low_level_programming'...\n"
     ]
    },
    {
     "name": "stdout",
     "output_type": "stream",
     "text": [
      "Make DONE\n",
      "https://github.com/W4RH4WK/UIBK-703004-C-Programming.git\n",
      "repo_name W4RH4WK_____UIBK-703004-C-Programming\n",
      "git clone https://github.com/W4RH4WK/UIBK-703004-C-Programming.git /home/nahid/dataset/clones/W4RH4WK_____UIBK-703004-C-Programming \n"
     ]
    },
    {
     "name": "stderr",
     "output_type": "stream",
     "text": [
      "Cloning into '/home/nahid/dataset/clones/W4RH4WK_____UIBK-703004-C-Programming'...\n"
     ]
    },
    {
     "name": "stdout",
     "output_type": "stream",
     "text": [
      "Make DONE\n",
      "https://github.com/fahimahammed/c-programming.git\n",
      "repo_name fahimahammed_____c-programming\n",
      "git clone https://github.com/fahimahammed/c-programming.git /home/nahid/dataset/clones/fahimahammed_____c-programming \n"
     ]
    },
    {
     "name": "stderr",
     "output_type": "stream",
     "text": [
      "Cloning into '/home/nahid/dataset/clones/fahimahammed_____c-programming'...\n"
     ]
    },
    {
     "name": "stdout",
     "output_type": "stream",
     "text": [
      "Make DONE\n",
      "https://github.com/yuanyuxin0077/FD-RTM-FWI-2018.01.31backup.git\n",
      "repo_name yuanyuxin0077_____FD-RTM-FWI-2018.01.31backup\n",
      "git clone https://github.com/yuanyuxin0077/FD-RTM-FWI-2018.01.31backup.git /home/nahid/dataset/clones/yuanyuxin0077_____FD-RTM-FWI-2018.01.31backup \n"
     ]
    },
    {
     "name": "stderr",
     "output_type": "stream",
     "text": [
      "Cloning into '/home/nahid/dataset/clones/yuanyuxin0077_____FD-RTM-FWI-2018.01.31backup'...\n"
     ]
    },
    {
     "name": "stdout",
     "output_type": "stream",
     "text": [
      "Make DONE\n",
      "https://github.com/ZhongyiChen/ego-c.git\n",
      "repo_name ZhongyiChen_____ego-c\n",
      "git clone https://github.com/ZhongyiChen/ego-c.git /home/nahid/dataset/clones/ZhongyiChen_____ego-c \n"
     ]
    },
    {
     "name": "stderr",
     "output_type": "stream",
     "text": [
      "Cloning into '/home/nahid/dataset/clones/ZhongyiChen_____ego-c'...\n"
     ]
    },
    {
     "name": "stdout",
     "output_type": "stream",
     "text": [
      "Make DONE\n",
      "https://github.com/Plemling138/Twitter4C.git\n",
      "repo_name Plemling138_____Twitter4C\n",
      "git clone https://github.com/Plemling138/Twitter4C.git /home/nahid/dataset/clones/Plemling138_____Twitter4C \n"
     ]
    },
    {
     "name": "stderr",
     "output_type": "stream",
     "text": [
      "Cloning into '/home/nahid/dataset/clones/Plemling138_____Twitter4C'...\n"
     ]
    },
    {
     "name": "stdout",
     "output_type": "stream",
     "text": [
      "Make DONE\n",
      "https://github.com/dhatbj/SignalRecovery.git\n",
      "repo_name dhatbj_____SignalRecovery\n",
      "git clone https://github.com/dhatbj/SignalRecovery.git /home/nahid/dataset/clones/dhatbj_____SignalRecovery \n"
     ]
    },
    {
     "name": "stderr",
     "output_type": "stream",
     "text": [
      "Cloning into '/home/nahid/dataset/clones/dhatbj_____SignalRecovery'...\n"
     ]
    },
    {
     "name": "stdout",
     "output_type": "stream",
     "text": [
      "Make DONE\n",
      "https://github.com/nikhilmaurya2000/codershub.git\n",
      "repo_name nikhilmaurya2000_____codershub\n",
      "git clone https://github.com/nikhilmaurya2000/codershub.git /home/nahid/dataset/clones/nikhilmaurya2000_____codershub \n"
     ]
    },
    {
     "name": "stderr",
     "output_type": "stream",
     "text": [
      "Cloning into '/home/nahid/dataset/clones/nikhilmaurya2000_____codershub'...\n"
     ]
    },
    {
     "name": "stdout",
     "output_type": "stream",
     "text": [
      "Make DONE\n",
      "https://github.com/Lexxyla/simple_shell.git\n",
      "repo_name Lexxyla_____simple_shell\n",
      "git clone https://github.com/Lexxyla/simple_shell.git /home/nahid/dataset/clones/Lexxyla_____simple_shell \n"
     ]
    },
    {
     "name": "stderr",
     "output_type": "stream",
     "text": [
      "Cloning into '/home/nahid/dataset/clones/Lexxyla_____simple_shell'...\n"
     ]
    },
    {
     "name": "stdout",
     "output_type": "stream",
     "text": [
      "Make DONE\n",
      "https://github.com/Vanhoehenheim/DS_lab_CS1303-2019-2020.git\n",
      "repo_name Vanhoehenheim_____DS_lab_CS1303-2019-2020\n",
      "git clone https://github.com/Vanhoehenheim/DS_lab_CS1303-2019-2020.git /home/nahid/dataset/clones/Vanhoehenheim_____DS_lab_CS1303-2019-2020 \n"
     ]
    },
    {
     "name": "stderr",
     "output_type": "stream",
     "text": [
      "Cloning into '/home/nahid/dataset/clones/Vanhoehenheim_____DS_lab_CS1303-2019-2020'...\n"
     ]
    },
    {
     "name": "stdout",
     "output_type": "stream",
     "text": [
      "Make DONE\n",
      "https://github.com/kai-language/kai-c.git\n",
      "repo_name kai-language_____kai-c\n",
      "git clone https://github.com/kai-language/kai-c.git /home/nahid/dataset/clones/kai-language_____kai-c \n"
     ]
    },
    {
     "name": "stderr",
     "output_type": "stream",
     "text": [
      "Cloning into '/home/nahid/dataset/clones/kai-language_____kai-c'...\n"
     ]
    },
    {
     "name": "stdout",
     "output_type": "stream",
     "text": [
      "Make DONE\n",
      "https://github.com/vnkdj5/SPPU_COMP_2015.git\n",
      "repo_name vnkdj5_____SPPU_COMP_2015\n",
      "git clone https://github.com/vnkdj5/SPPU_COMP_2015.git /home/nahid/dataset/clones/vnkdj5_____SPPU_COMP_2015 \n"
     ]
    },
    {
     "name": "stderr",
     "output_type": "stream",
     "text": [
      "Cloning into '/home/nahid/dataset/clones/vnkdj5_____SPPU_COMP_2015'...\n"
     ]
    },
    {
     "name": "stdout",
     "output_type": "stream",
     "text": [
      "Make DONE\n",
      "https://github.com/kelefouras/comp3001.git\n",
      "repo_name kelefouras_____comp3001\n",
      "git clone https://github.com/kelefouras/comp3001.git /home/nahid/dataset/clones/kelefouras_____comp3001 \n"
     ]
    },
    {
     "name": "stderr",
     "output_type": "stream",
     "text": [
      "Cloning into '/home/nahid/dataset/clones/kelefouras_____comp3001'...\n"
     ]
    },
    {
     "name": "stdout",
     "output_type": "stream",
     "text": [
      "Make DONE\n",
      "https://github.com/KushalP/k-and-r.git\n",
      "repo_name KushalP_____k-and-r\n",
      "git clone https://github.com/KushalP/k-and-r.git /home/nahid/dataset/clones/KushalP_____k-and-r \n"
     ]
    },
    {
     "name": "stderr",
     "output_type": "stream",
     "text": [
      "Cloning into '/home/nahid/dataset/clones/KushalP_____k-and-r'...\n"
     ]
    },
    {
     "name": "stdout",
     "output_type": "stream",
     "text": [
      "Make DONE\n",
      "https://github.com/juanfe9118/holbertonschool-low_level_programming.git\n",
      "repo_name juanfe9118_____holbertonschool-low_level_programming\n",
      "git clone https://github.com/juanfe9118/holbertonschool-low_level_programming.git /home/nahid/dataset/clones/juanfe9118_____holbertonschool-low_level_programming \n"
     ]
    },
    {
     "name": "stderr",
     "output_type": "stream",
     "text": [
      "Cloning into '/home/nahid/dataset/clones/juanfe9118_____holbertonschool-low_level_programming'...\n"
     ]
    },
    {
     "name": "stdout",
     "output_type": "stream",
     "text": [
      "Make DONE\n",
      "https://github.com/maybenomad/WMU-CS2240.git\n",
      "repo_name maybenomad_____WMU-CS2240\n",
      "git clone https://github.com/maybenomad/WMU-CS2240.git /home/nahid/dataset/clones/maybenomad_____WMU-CS2240 \n"
     ]
    },
    {
     "name": "stderr",
     "output_type": "stream",
     "text": [
      "Cloning into '/home/nahid/dataset/clones/maybenomad_____WMU-CS2240'...\n"
     ]
    },
    {
     "name": "stdout",
     "output_type": "stream",
     "text": [
      "Make DONE\n",
      "https://github.com/FeMIMaKAY/alx-low_level_programming.git\n",
      "repo_name FeMIMaKAY_____alx-low_level_programming\n",
      "git clone https://github.com/FeMIMaKAY/alx-low_level_programming.git /home/nahid/dataset/clones/FeMIMaKAY_____alx-low_level_programming \n"
     ]
    },
    {
     "name": "stderr",
     "output_type": "stream",
     "text": [
      "Cloning into '/home/nahid/dataset/clones/FeMIMaKAY_____alx-low_level_programming'...\n"
     ]
    },
    {
     "name": "stdout",
     "output_type": "stream",
     "text": [
      "Make DONE\n",
      "https://github.com/aaronryank/Cubically.git\n",
      "repo_name aaronryank_____Cubically\n",
      "git clone https://github.com/aaronryank/Cubically.git /home/nahid/dataset/clones/aaronryank_____Cubically \n"
     ]
    },
    {
     "name": "stderr",
     "output_type": "stream",
     "text": [
      "Cloning into '/home/nahid/dataset/clones/aaronryank_____Cubically'...\n"
     ]
    },
    {
     "name": "stdout",
     "output_type": "stream",
     "text": [
      "Make DONE\n",
      "https://github.com/jarun/primepalindrome.git\n",
      "repo_name jarun_____primepalindrome\n",
      "git clone https://github.com/jarun/primepalindrome.git /home/nahid/dataset/clones/jarun_____primepalindrome \n"
     ]
    },
    {
     "name": "stderr",
     "output_type": "stream",
     "text": [
      "Cloning into '/home/nahid/dataset/clones/jarun_____primepalindrome'...\n"
     ]
    },
    {
     "name": "stdout",
     "output_type": "stream",
     "text": [
      "Make DONE\n",
      "https://github.com/JayramPatil/C-Programs.git\n",
      "repo_name JayramPatil_____C-Programs\n",
      "git clone https://github.com/JayramPatil/C-Programs.git /home/nahid/dataset/clones/JayramPatil_____C-Programs \n"
     ]
    },
    {
     "name": "stderr",
     "output_type": "stream",
     "text": [
      "Cloning into '/home/nahid/dataset/clones/JayramPatil_____C-Programs'...\n"
     ]
    },
    {
     "name": "stdout",
     "output_type": "stream",
     "text": [
      "Make DONE\n",
      "https://github.com/sybrexsys/VersyPDF.git\n",
      "repo_name sybrexsys_____VersyPDF\n",
      "git clone https://github.com/sybrexsys/VersyPDF.git /home/nahid/dataset/clones/sybrexsys_____VersyPDF \n"
     ]
    },
    {
     "name": "stderr",
     "output_type": "stream",
     "text": [
      "Cloning into '/home/nahid/dataset/clones/sybrexsys_____VersyPDF'...\n"
     ]
    },
    {
     "name": "stdout",
     "output_type": "stream",
     "text": [
      "Make DONE\n",
      "https://github.com/Jossyking99/alx-low_level_programming.git\n",
      "repo_name Jossyking99_____alx-low_level_programming\n",
      "git clone https://github.com/Jossyking99/alx-low_level_programming.git /home/nahid/dataset/clones/Jossyking99_____alx-low_level_programming \n"
     ]
    },
    {
     "name": "stderr",
     "output_type": "stream",
     "text": [
      "Cloning into '/home/nahid/dataset/clones/Jossyking99_____alx-low_level_programming'...\n"
     ]
    },
    {
     "name": "stdout",
     "output_type": "stream",
     "text": [
      "Make DONE\n",
      "https://github.com/celalaygar/c-programlama-kod-ornekleri.git\n",
      "repo_name celalaygar_____c-programlama-kod-ornekleri\n",
      "git clone https://github.com/celalaygar/c-programlama-kod-ornekleri.git /home/nahid/dataset/clones/celalaygar_____c-programlama-kod-ornekleri \n"
     ]
    },
    {
     "name": "stderr",
     "output_type": "stream",
     "text": [
      "Cloning into '/home/nahid/dataset/clones/celalaygar_____c-programlama-kod-ornekleri'...\n"
     ]
    },
    {
     "name": "stdout",
     "output_type": "stream",
     "text": [
      "Make DONE\n",
      "https://github.com/jaegerpicker/CantonSoftwareMentorship.git\n",
      "repo_name jaegerpicker_____CantonSoftwareMentorship\n",
      "git clone https://github.com/jaegerpicker/CantonSoftwareMentorship.git /home/nahid/dataset/clones/jaegerpicker_____CantonSoftwareMentorship \n"
     ]
    },
    {
     "name": "stderr",
     "output_type": "stream",
     "text": [
      "Cloning into '/home/nahid/dataset/clones/jaegerpicker_____CantonSoftwareMentorship'...\n"
     ]
    },
    {
     "name": "stdout",
     "output_type": "stream",
     "text": [
      "Make DONE\n",
      "https://github.com/koitoer/SSL-Sockets.git\n",
      "repo_name koitoer_____SSL-Sockets\n",
      "git clone https://github.com/koitoer/SSL-Sockets.git /home/nahid/dataset/clones/koitoer_____SSL-Sockets \n"
     ]
    },
    {
     "name": "stderr",
     "output_type": "stream",
     "text": [
      "Cloning into '/home/nahid/dataset/clones/koitoer_____SSL-Sockets'...\n"
     ]
    },
    {
     "name": "stdout",
     "output_type": "stream",
     "text": [
      "Make DONE\n",
      "https://github.com/YuriIvanov/deitel-c.git\n",
      "repo_name YuriIvanov_____deitel-c\n",
      "git clone https://github.com/YuriIvanov/deitel-c.git /home/nahid/dataset/clones/YuriIvanov_____deitel-c \n"
     ]
    },
    {
     "name": "stderr",
     "output_type": "stream",
     "text": [
      "Cloning into '/home/nahid/dataset/clones/YuriIvanov_____deitel-c'...\n"
     ]
    },
    {
     "name": "stdout",
     "output_type": "stream",
     "text": [
      "Make DONE\n",
      "https://github.com/kocsenc/swift-cmark.git\n",
      "repo_name kocsenc_____swift-cmark\n",
      "git clone https://github.com/kocsenc/swift-cmark.git /home/nahid/dataset/clones/kocsenc_____swift-cmark \n"
     ]
    },
    {
     "name": "stderr",
     "output_type": "stream",
     "text": [
      "Cloning into '/home/nahid/dataset/clones/kocsenc_____swift-cmark'...\n"
     ]
    },
    {
     "name": "stdout",
     "output_type": "stream",
     "text": [
      "Make DONE\n",
      "https://github.com/nylander/MrModeltest2.git\n",
      "repo_name nylander_____MrModeltest2\n",
      "git clone https://github.com/nylander/MrModeltest2.git /home/nahid/dataset/clones/nylander_____MrModeltest2 \n"
     ]
    },
    {
     "name": "stderr",
     "output_type": "stream",
     "text": [
      "Cloning into '/home/nahid/dataset/clones/nylander_____MrModeltest2'...\n"
     ]
    },
    {
     "name": "stdout",
     "output_type": "stream",
     "text": [
      "Make DONE\n",
      "https://github.com/elastic/bpfcov.git\n",
      "repo_name elastic_____bpfcov\n",
      "git clone https://github.com/elastic/bpfcov.git /home/nahid/dataset/clones/elastic_____bpfcov \n"
     ]
    },
    {
     "name": "stderr",
     "output_type": "stream",
     "text": [
      "Cloning into '/home/nahid/dataset/clones/elastic_____bpfcov'...\n"
     ]
    },
    {
     "name": "stdout",
     "output_type": "stream",
     "text": [
      "Make DONE\n",
      "https://github.com/Miss-Brain/alx-low_level_programming.git\n",
      "repo_name Miss-Brain_____alx-low_level_programming\n",
      "git clone https://github.com/Miss-Brain/alx-low_level_programming.git /home/nahid/dataset/clones/Miss-Brain_____alx-low_level_programming \n"
     ]
    },
    {
     "name": "stderr",
     "output_type": "stream",
     "text": [
      "Cloning into '/home/nahid/dataset/clones/Miss-Brain_____alx-low_level_programming'...\n"
     ]
    },
    {
     "name": "stdout",
     "output_type": "stream",
     "text": [
      "Make DONE\n",
      "https://github.com/UOLS-VJ1-1516/BaseCode.git\n",
      "repo_name UOLS-VJ1-1516_____BaseCode\n",
      "git clone https://github.com/UOLS-VJ1-1516/BaseCode.git /home/nahid/dataset/clones/UOLS-VJ1-1516_____BaseCode \n"
     ]
    },
    {
     "name": "stderr",
     "output_type": "stream",
     "text": [
      "Cloning into '/home/nahid/dataset/clones/UOLS-VJ1-1516_____BaseCode'...\n"
     ]
    },
    {
     "name": "stdout",
     "output_type": "stream",
     "text": [
      "Make DONE\n",
      "https://github.com/Emilymochab/alx-low_level_programming.git\n",
      "repo_name Emilymochab_____alx-low_level_programming\n",
      "git clone https://github.com/Emilymochab/alx-low_level_programming.git /home/nahid/dataset/clones/Emilymochab_____alx-low_level_programming \n"
     ]
    },
    {
     "name": "stderr",
     "output_type": "stream",
     "text": [
      "Cloning into '/home/nahid/dataset/clones/Emilymochab_____alx-low_level_programming'...\n"
     ]
    },
    {
     "name": "stdout",
     "output_type": "stream",
     "text": [
      "Make DONE\n",
      "https://github.com/jalalmostafa/clox.git\n",
      "repo_name jalalmostafa_____clox\n",
      "git clone https://github.com/jalalmostafa/clox.git /home/nahid/dataset/clones/jalalmostafa_____clox \n"
     ]
    },
    {
     "name": "stderr",
     "output_type": "stream",
     "text": [
      "Cloning into '/home/nahid/dataset/clones/jalalmostafa_____clox'...\n"
     ]
    },
    {
     "name": "stdout",
     "output_type": "stream",
     "text": [
      "Make DONE\n",
      "https://github.com/Hexdee/alx-low_level_programming.git\n",
      "repo_name Hexdee_____alx-low_level_programming\n",
      "git clone https://github.com/Hexdee/alx-low_level_programming.git /home/nahid/dataset/clones/Hexdee_____alx-low_level_programming \n"
     ]
    },
    {
     "name": "stderr",
     "output_type": "stream",
     "text": [
      "Cloning into '/home/nahid/dataset/clones/Hexdee_____alx-low_level_programming'...\n"
     ]
    },
    {
     "name": "stdout",
     "output_type": "stream",
     "text": [
      "Make DONE\n",
      "https://github.com/gabrielwry/System-Programming.git\n",
      "repo_name gabrielwry_____System-Programming\n",
      "git clone https://github.com/gabrielwry/System-Programming.git /home/nahid/dataset/clones/gabrielwry_____System-Programming \n"
     ]
    },
    {
     "name": "stderr",
     "output_type": "stream",
     "text": [
      "Cloning into '/home/nahid/dataset/clones/gabrielwry_____System-Programming'...\n"
     ]
    },
    {
     "name": "stdout",
     "output_type": "stream",
     "text": [
      "Make DONE\n",
      "https://github.com/2horse9sun/ucb_sp20_cs162_hw.git\n",
      "repo_name 2horse9sun_____ucb_sp20_cs162_hw\n",
      "git clone https://github.com/2horse9sun/ucb_sp20_cs162_hw.git /home/nahid/dataset/clones/2horse9sun_____ucb_sp20_cs162_hw \n"
     ]
    },
    {
     "name": "stderr",
     "output_type": "stream",
     "text": [
      "Cloning into '/home/nahid/dataset/clones/2horse9sun_____ucb_sp20_cs162_hw'...\n"
     ]
    },
    {
     "name": "stdout",
     "output_type": "stream",
     "text": [
      "Make DONE\n",
      "https://github.com/pkhorsand/EDFlib.git\n",
      "repo_name pkhorsand_____EDFlib\n",
      "git clone https://github.com/pkhorsand/EDFlib.git /home/nahid/dataset/clones/pkhorsand_____EDFlib \n"
     ]
    },
    {
     "name": "stderr",
     "output_type": "stream",
     "text": [
      "Cloning into '/home/nahid/dataset/clones/pkhorsand_____EDFlib'...\n"
     ]
    },
    {
     "name": "stdout",
     "output_type": "stream",
     "text": [
      "Make DONE\n",
      "https://github.com/NNU-CS16/TCPL17.git\n",
      "repo_name NNU-CS16_____TCPL17\n",
      "git clone https://github.com/NNU-CS16/TCPL17.git /home/nahid/dataset/clones/NNU-CS16_____TCPL17 \n"
     ]
    },
    {
     "name": "stderr",
     "output_type": "stream",
     "text": [
      "Cloning into '/home/nahid/dataset/clones/NNU-CS16_____TCPL17'...\n"
     ]
    },
    {
     "name": "stdout",
     "output_type": "stream",
     "text": [
      "Make DONE\n",
      "https://github.com/yeasy/code_snippet.git\n",
      "repo_name yeasy_____code_snippet\n",
      "git clone https://github.com/yeasy/code_snippet.git /home/nahid/dataset/clones/yeasy_____code_snippet \n"
     ]
    },
    {
     "name": "stderr",
     "output_type": "stream",
     "text": [
      "Cloning into '/home/nahid/dataset/clones/yeasy_____code_snippet'...\n"
     ]
    },
    {
     "name": "stdout",
     "output_type": "stream",
     "text": [
      "Make DONE\n",
      "https://github.com/kw-ic17/absolute-pitch-game.git\n",
      "repo_name kw-ic17_____absolute-pitch-game\n",
      "git clone https://github.com/kw-ic17/absolute-pitch-game.git /home/nahid/dataset/clones/kw-ic17_____absolute-pitch-game \n"
     ]
    },
    {
     "name": "stderr",
     "output_type": "stream",
     "text": [
      "Cloning into '/home/nahid/dataset/clones/kw-ic17_____absolute-pitch-game'...\n"
     ]
    },
    {
     "name": "stdout",
     "output_type": "stream",
     "text": [
      "Make DONE\n",
      "https://github.com/jsgoller1/c-programming-language.git\n",
      "repo_name jsgoller1_____c-programming-language\n",
      "git clone https://github.com/jsgoller1/c-programming-language.git /home/nahid/dataset/clones/jsgoller1_____c-programming-language \n"
     ]
    },
    {
     "name": "stderr",
     "output_type": "stream",
     "text": [
      "Cloning into '/home/nahid/dataset/clones/jsgoller1_____c-programming-language'...\n"
     ]
    },
    {
     "name": "stdout",
     "output_type": "stream",
     "text": [
      "Make DONE\n",
      "https://github.com/Adeleye080/alx-low_level_programming.git\n",
      "repo_name Adeleye080_____alx-low_level_programming\n",
      "git clone https://github.com/Adeleye080/alx-low_level_programming.git /home/nahid/dataset/clones/Adeleye080_____alx-low_level_programming \n"
     ]
    },
    {
     "name": "stderr",
     "output_type": "stream",
     "text": [
      "Cloning into '/home/nahid/dataset/clones/Adeleye080_____alx-low_level_programming'...\n"
     ]
    },
    {
     "name": "stdout",
     "output_type": "stream",
     "text": [
      "Make DONE\n",
      "https://github.com/stvngrcia/holbertonschool-low_level_programming-2018.git\n",
      "repo_name stvngrcia_____holbertonschool-low_level_programming-2018\n",
      "git clone https://github.com/stvngrcia/holbertonschool-low_level_programming-2018.git /home/nahid/dataset/clones/stvngrcia_____holbertonschool-low_level_programming-2018 \n"
     ]
    },
    {
     "name": "stderr",
     "output_type": "stream",
     "text": [
      "Cloning into '/home/nahid/dataset/clones/stvngrcia_____holbertonschool-low_level_programming-2018'...\n"
     ]
    },
    {
     "name": "stdout",
     "output_type": "stream",
     "text": [
      "Make DONE\n",
      "https://github.com/thejorabek/C.git\n",
      "repo_name thejorabek_____C\n",
      "git clone https://github.com/thejorabek/C.git /home/nahid/dataset/clones/thejorabek_____C \n"
     ]
    },
    {
     "name": "stderr",
     "output_type": "stream",
     "text": [
      "Cloning into '/home/nahid/dataset/clones/thejorabek_____C'...\n"
     ]
    },
    {
     "name": "stdout",
     "output_type": "stream",
     "text": [
      "Make DONE\n",
      "https://github.com/rajkaste/Let-us-C.git\n",
      "repo_name rajkaste_____Let-us-C\n",
      "git clone https://github.com/rajkaste/Let-us-C.git /home/nahid/dataset/clones/rajkaste_____Let-us-C \n"
     ]
    },
    {
     "name": "stderr",
     "output_type": "stream",
     "text": [
      "Cloning into '/home/nahid/dataset/clones/rajkaste_____Let-us-C'...\n"
     ]
    },
    {
     "name": "stdout",
     "output_type": "stream",
     "text": [
      "Make DONE\n",
      "https://github.com/ivogeorg/c-compile-execute-by-hand.git\n",
      "repo_name ivogeorg_____c-compile-execute-by-hand\n",
      "git clone https://github.com/ivogeorg/c-compile-execute-by-hand.git /home/nahid/dataset/clones/ivogeorg_____c-compile-execute-by-hand \n"
     ]
    },
    {
     "name": "stderr",
     "output_type": "stream",
     "text": [
      "Cloning into '/home/nahid/dataset/clones/ivogeorg_____c-compile-execute-by-hand'...\n"
     ]
    },
    {
     "name": "stdout",
     "output_type": "stream",
     "text": [
      "Make DONE\n",
      "https://github.com/byn3/holbertonschool-low_level_programming.git\n",
      "repo_name byn3_____holbertonschool-low_level_programming\n",
      "git clone https://github.com/byn3/holbertonschool-low_level_programming.git /home/nahid/dataset/clones/byn3_____holbertonschool-low_level_programming \n"
     ]
    },
    {
     "name": "stderr",
     "output_type": "stream",
     "text": [
      "Cloning into '/home/nahid/dataset/clones/byn3_____holbertonschool-low_level_programming'...\n"
     ]
    },
    {
     "name": "stdout",
     "output_type": "stream",
     "text": [
      "Make DONE\n",
      "https://github.com/aworkshop/c.git\n",
      "repo_name aworkshop_____c\n",
      "git clone https://github.com/aworkshop/c.git /home/nahid/dataset/clones/aworkshop_____c \n"
     ]
    },
    {
     "name": "stderr",
     "output_type": "stream",
     "text": [
      "Cloning into '/home/nahid/dataset/clones/aworkshop_____c'...\n"
     ]
    },
    {
     "name": "stdout",
     "output_type": "stream",
     "text": [
      "Make DONE\n",
      "https://github.com/achen58/Basic-Unit-Converter.git\n",
      "repo_name achen58_____Basic-Unit-Converter\n",
      "git clone https://github.com/achen58/Basic-Unit-Converter.git /home/nahid/dataset/clones/achen58_____Basic-Unit-Converter \n"
     ]
    },
    {
     "name": "stderr",
     "output_type": "stream",
     "text": [
      "Cloning into '/home/nahid/dataset/clones/achen58_____Basic-Unit-Converter'...\n"
     ]
    },
    {
     "name": "stdout",
     "output_type": "stream",
     "text": [
      "Make DONE\n",
      "https://github.com/RahulSreedharan/Win32-GUI-Programming-in-C.git\n",
      "repo_name RahulSreedharan_____Win32-GUI-Programming-in-C\n",
      "git clone https://github.com/RahulSreedharan/Win32-GUI-Programming-in-C.git /home/nahid/dataset/clones/RahulSreedharan_____Win32-GUI-Programming-in-C \n"
     ]
    },
    {
     "name": "stderr",
     "output_type": "stream",
     "text": [
      "Cloning into '/home/nahid/dataset/clones/RahulSreedharan_____Win32-GUI-Programming-in-C'...\n"
     ]
    },
    {
     "name": "stdout",
     "output_type": "stream",
     "text": [
      "Make DONE\n",
      "https://github.com/csula/cs370-winter-2016.git\n",
      "repo_name csula_____cs370-winter-2016\n",
      "git clone https://github.com/csula/cs370-winter-2016.git /home/nahid/dataset/clones/csula_____cs370-winter-2016 \n"
     ]
    },
    {
     "name": "stderr",
     "output_type": "stream",
     "text": [
      "Cloning into '/home/nahid/dataset/clones/csula_____cs370-winter-2016'...\n"
     ]
    },
    {
     "name": "stdout",
     "output_type": "stream",
     "text": [
      "Make DONE\n",
      "https://github.com/Beloved-vince/alx-low_level_programming.git\n",
      "repo_name Beloved-vince_____alx-low_level_programming\n",
      "git clone https://github.com/Beloved-vince/alx-low_level_programming.git /home/nahid/dataset/clones/Beloved-vince_____alx-low_level_programming \n"
     ]
    },
    {
     "name": "stderr",
     "output_type": "stream",
     "text": [
      "Cloning into '/home/nahid/dataset/clones/Beloved-vince_____alx-low_level_programming'...\n"
     ]
    },
    {
     "name": "stdout",
     "output_type": "stream",
     "text": [
      "Make DONE\n",
      "https://github.com/Mcsavvy/alx-low_level_programming.git\n",
      "repo_name Mcsavvy_____alx-low_level_programming\n",
      "git clone https://github.com/Mcsavvy/alx-low_level_programming.git /home/nahid/dataset/clones/Mcsavvy_____alx-low_level_programming \n"
     ]
    },
    {
     "name": "stderr",
     "output_type": "stream",
     "text": [
      "Cloning into '/home/nahid/dataset/clones/Mcsavvy_____alx-low_level_programming'...\n"
     ]
    },
    {
     "name": "stdout",
     "output_type": "stream",
     "text": [
      "Make DONE\n",
      "https://github.com/CSI-SCT-SB/CSL_201_Data_structure_Lab.git\n",
      "repo_name CSI-SCT-SB_____CSL_201_Data_structure_Lab\n",
      "git clone https://github.com/CSI-SCT-SB/CSL_201_Data_structure_Lab.git /home/nahid/dataset/clones/CSI-SCT-SB_____CSL_201_Data_structure_Lab \n"
     ]
    },
    {
     "name": "stderr",
     "output_type": "stream",
     "text": [
      "Cloning into '/home/nahid/dataset/clones/CSI-SCT-SB_____CSL_201_Data_structure_Lab'...\n"
     ]
    },
    {
     "name": "stdout",
     "output_type": "stream",
     "text": [
      "Make DONE\n",
      "https://github.com/Ramblurr/PietCreator.git\n",
      "repo_name Ramblurr_____PietCreator\n",
      "git clone https://github.com/Ramblurr/PietCreator.git /home/nahid/dataset/clones/Ramblurr_____PietCreator \n"
     ]
    },
    {
     "name": "stderr",
     "output_type": "stream",
     "text": [
      "Cloning into '/home/nahid/dataset/clones/Ramblurr_____PietCreator'...\n"
     ]
    },
    {
     "name": "stdout",
     "output_type": "stream",
     "text": [
      "Make DONE\n",
      "https://github.com/gcrowder/programming-language-classifier.git\n",
      "repo_name gcrowder_____programming-language-classifier\n",
      "git clone https://github.com/gcrowder/programming-language-classifier.git /home/nahid/dataset/clones/gcrowder_____programming-language-classifier \n"
     ]
    },
    {
     "name": "stderr",
     "output_type": "stream",
     "text": [
      "Cloning into '/home/nahid/dataset/clones/gcrowder_____programming-language-classifier'...\n",
      "Updating files: 100% (19095/19095), done.\n",
      "Cloning into '/home/nahid/dataset/clones/amsakib_____phonebook'...\n"
     ]
    },
    {
     "name": "stdout",
     "output_type": "stream",
     "text": [
      "Make DONE\n",
      "https://github.com/amsakib/phonebook.git\n",
      "repo_name amsakib_____phonebook\n",
      "git clone https://github.com/amsakib/phonebook.git /home/nahid/dataset/clones/amsakib_____phonebook \n",
      "Make DONE\n",
      "https://github.com/Makupau/C-program-to-Swap-a-two-numbers.git\n",
      "repo_name Makupau_____C-program-to-Swap-a-two-numbers\n",
      "git clone https://github.com/Makupau/C-program-to-Swap-a-two-numbers.git /home/nahid/dataset/clones/Makupau_____C-program-to-Swap-a-two-numbers \n"
     ]
    },
    {
     "name": "stderr",
     "output_type": "stream",
     "text": [
      "Cloning into '/home/nahid/dataset/clones/Makupau_____C-program-to-Swap-a-two-numbers'...\n"
     ]
    },
    {
     "name": "stdout",
     "output_type": "stream",
     "text": [
      "Make DONE\n",
      "https://github.com/Ritaban-L/Programs.git\n",
      "repo_name Ritaban-L_____Programs\n",
      "git clone https://github.com/Ritaban-L/Programs.git /home/nahid/dataset/clones/Ritaban-L_____Programs \n"
     ]
    },
    {
     "name": "stderr",
     "output_type": "stream",
     "text": [
      "Cloning into '/home/nahid/dataset/clones/Ritaban-L_____Programs'...\n"
     ]
    },
    {
     "name": "stdout",
     "output_type": "stream",
     "text": [
      "Make DONE\n",
      "https://github.com/PowerDuo/c.git\n",
      "repo_name PowerDuo_____c\n",
      "git clone https://github.com/PowerDuo/c.git /home/nahid/dataset/clones/PowerDuo_____c \n"
     ]
    },
    {
     "name": "stderr",
     "output_type": "stream",
     "text": [
      "Cloning into '/home/nahid/dataset/clones/PowerDuo_____c'...\n"
     ]
    },
    {
     "name": "stdout",
     "output_type": "stream",
     "text": [
      "Make DONE\n",
      "https://github.com/bitsbyte/bluetooth-programming-in-c.git\n",
      "repo_name bitsbyte_____bluetooth-programming-in-c\n",
      "git clone https://github.com/bitsbyte/bluetooth-programming-in-c.git /home/nahid/dataset/clones/bitsbyte_____bluetooth-programming-in-c \n"
     ]
    },
    {
     "name": "stderr",
     "output_type": "stream",
     "text": [
      "Cloning into '/home/nahid/dataset/clones/bitsbyte_____bluetooth-programming-in-c'...\n"
     ]
    },
    {
     "name": "stdout",
     "output_type": "stream",
     "text": [
      "Make DONE\n",
      "https://github.com/kadir014/Dust.git\n",
      "repo_name kadir014_____Dust\n",
      "git clone https://github.com/kadir014/Dust.git /home/nahid/dataset/clones/kadir014_____Dust \n"
     ]
    },
    {
     "name": "stderr",
     "output_type": "stream",
     "text": [
      "Cloning into '/home/nahid/dataset/clones/kadir014_____Dust'...\n"
     ]
    },
    {
     "name": "stdout",
     "output_type": "stream",
     "text": [
      "Make DONE\n",
      "https://github.com/Echelon-Catapult/Picture-Activity-M1.git\n",
      "repo_name Echelon-Catapult_____Picture-Activity-M1\n",
      "git clone https://github.com/Echelon-Catapult/Picture-Activity-M1.git /home/nahid/dataset/clones/Echelon-Catapult_____Picture-Activity-M1 \n"
     ]
    },
    {
     "name": "stderr",
     "output_type": "stream",
     "text": [
      "Cloning into '/home/nahid/dataset/clones/Echelon-Catapult_____Picture-Activity-M1'...\n"
     ]
    },
    {
     "name": "stdout",
     "output_type": "stream",
     "text": [
      "Make DONE\n",
      "https://github.com/sol-prog/ansi-escape-codes-windows-posix-terminals-c-programming-examples.git\n",
      "repo_name sol-prog_____ansi-escape-codes-windows-posix-terminals-c-programming-examples\n",
      "git clone https://github.com/sol-prog/ansi-escape-codes-windows-posix-terminals-c-programming-examples.git /home/nahid/dataset/clones/sol-prog_____ansi-escape-codes-windows-posix-terminals-c-programming-examples \n"
     ]
    },
    {
     "name": "stderr",
     "output_type": "stream",
     "text": [
      "Cloning into '/home/nahid/dataset/clones/sol-prog_____ansi-escape-codes-windows-posix-terminals-c-programming-examples'...\n"
     ]
    },
    {
     "name": "stdout",
     "output_type": "stream",
     "text": [
      "Make DONE\n",
      "https://github.com/shrebox/Operating-System.git\n",
      "repo_name shrebox_____Operating-System\n",
      "git clone https://github.com/shrebox/Operating-System.git /home/nahid/dataset/clones/shrebox_____Operating-System \n"
     ]
    },
    {
     "name": "stderr",
     "output_type": "stream",
     "text": [
      "Cloning into '/home/nahid/dataset/clones/shrebox_____Operating-System'...\n"
     ]
    },
    {
     "name": "stdout",
     "output_type": "stream",
     "text": [
      "Make DONE\n",
      "https://github.com/brimstone/infect.git\n",
      "repo_name brimstone_____infect\n",
      "git clone https://github.com/brimstone/infect.git /home/nahid/dataset/clones/brimstone_____infect \n"
     ]
    },
    {
     "name": "stderr",
     "output_type": "stream",
     "text": [
      "Cloning into '/home/nahid/dataset/clones/brimstone_____infect'...\n"
     ]
    },
    {
     "name": "stdout",
     "output_type": "stream",
     "text": [
      "Make DONE\n",
      "https://github.com/Guntermann-Drunck/c2tool.git\n",
      "repo_name Guntermann-Drunck_____c2tool\n",
      "git clone https://github.com/Guntermann-Drunck/c2tool.git /home/nahid/dataset/clones/Guntermann-Drunck_____c2tool \n"
     ]
    },
    {
     "name": "stderr",
     "output_type": "stream",
     "text": [
      "Cloning into '/home/nahid/dataset/clones/Guntermann-Drunck_____c2tool'...\n"
     ]
    },
    {
     "name": "stdout",
     "output_type": "stream",
     "text": [
      "Make DONE\n",
      "https://github.com/Adebayo-S/alx-low_level_programming.git\n",
      "repo_name Adebayo-S_____alx-low_level_programming\n",
      "git clone https://github.com/Adebayo-S/alx-low_level_programming.git /home/nahid/dataset/clones/Adebayo-S_____alx-low_level_programming \n"
     ]
    },
    {
     "name": "stderr",
     "output_type": "stream",
     "text": [
      "Cloning into '/home/nahid/dataset/clones/Adebayo-S_____alx-low_level_programming'...\n"
     ]
    },
    {
     "name": "stdout",
     "output_type": "stream",
     "text": [
      "Make DONE\n",
      "https://github.com/B3zaleel/alx-low_level_programming.git\n",
      "repo_name B3zaleel_____alx-low_level_programming\n",
      "git clone https://github.com/B3zaleel/alx-low_level_programming.git /home/nahid/dataset/clones/B3zaleel_____alx-low_level_programming \n"
     ]
    },
    {
     "name": "stderr",
     "output_type": "stream",
     "text": [
      "Cloning into '/home/nahid/dataset/clones/B3zaleel_____alx-low_level_programming'...\n"
     ]
    },
    {
     "name": "stdout",
     "output_type": "stream",
     "text": [
      "Make DONE\n",
      "https://github.com/dannyvankooten/monkey-c-monkey-do.git\n",
      "repo_name dannyvankooten_____monkey-c-monkey-do\n",
      "git clone https://github.com/dannyvankooten/monkey-c-monkey-do.git /home/nahid/dataset/clones/dannyvankooten_____monkey-c-monkey-do \n"
     ]
    },
    {
     "name": "stderr",
     "output_type": "stream",
     "text": [
      "Cloning into '/home/nahid/dataset/clones/dannyvankooten_____monkey-c-monkey-do'...\n"
     ]
    },
    {
     "name": "stdout",
     "output_type": "stream",
     "text": [
      "Make DONE\n",
      "https://github.com/BryanAim/holbertonschool-low_level_programming.git\n",
      "repo_name BryanAim_____holbertonschool-low_level_programming\n",
      "git clone https://github.com/BryanAim/holbertonschool-low_level_programming.git /home/nahid/dataset/clones/BryanAim_____holbertonschool-low_level_programming \n"
     ]
    },
    {
     "name": "stderr",
     "output_type": "stream",
     "text": [
      "Cloning into '/home/nahid/dataset/clones/BryanAim_____holbertonschool-low_level_programming'...\n"
     ]
    },
    {
     "name": "stdout",
     "output_type": "stream",
     "text": [
      "Make DONE\n",
      "https://github.com/David-H-Bolton/LearnC.git\n",
      "repo_name David-H-Bolton_____LearnC\n",
      "git clone https://github.com/David-H-Bolton/LearnC.git /home/nahid/dataset/clones/David-H-Bolton_____LearnC \n"
     ]
    },
    {
     "name": "stderr",
     "output_type": "stream",
     "text": [
      "Cloning into '/home/nahid/dataset/clones/David-H-Bolton_____LearnC'...\n"
     ]
    },
    {
     "name": "stdout",
     "output_type": "stream",
     "text": [
      "Make DONE\n",
      "https://github.com/TranBaVinhSon/Compiler.git\n",
      "repo_name TranBaVinhSon_____Compiler\n",
      "git clone https://github.com/TranBaVinhSon/Compiler.git /home/nahid/dataset/clones/TranBaVinhSon_____Compiler \n"
     ]
    },
    {
     "name": "stderr",
     "output_type": "stream",
     "text": [
      "Cloning into '/home/nahid/dataset/clones/TranBaVinhSon_____Compiler'...\n"
     ]
    },
    {
     "name": "stdout",
     "output_type": "stream",
     "text": [
      "Make DONE\n",
      "https://github.com/racuna1/cse240-public.git\n",
      "repo_name racuna1_____cse240-public\n",
      "git clone https://github.com/racuna1/cse240-public.git /home/nahid/dataset/clones/racuna1_____cse240-public \n"
     ]
    },
    {
     "name": "stderr",
     "output_type": "stream",
     "text": [
      "Cloning into '/home/nahid/dataset/clones/racuna1_____cse240-public'...\n"
     ]
    },
    {
     "name": "stdout",
     "output_type": "stream",
     "text": [
      "Make DONE\n",
      "https://github.com/babelouest/orcania.git\n",
      "repo_name babelouest_____orcania\n",
      "git clone https://github.com/babelouest/orcania.git /home/nahid/dataset/clones/babelouest_____orcania \n"
     ]
    },
    {
     "name": "stderr",
     "output_type": "stream",
     "text": [
      "Cloning into '/home/nahid/dataset/clones/babelouest_____orcania'...\n"
     ]
    },
    {
     "name": "stdout",
     "output_type": "stream",
     "text": [
      "Make DONE\n",
      "https://github.com/bnoordhuis/axis2-c.git\n",
      "repo_name bnoordhuis_____axis2-c\n",
      "git clone https://github.com/bnoordhuis/axis2-c.git /home/nahid/dataset/clones/bnoordhuis_____axis2-c \n"
     ]
    },
    {
     "name": "stderr",
     "output_type": "stream",
     "text": [
      "Cloning into '/home/nahid/dataset/clones/bnoordhuis_____axis2-c'...\n"
     ]
    },
    {
     "name": "stdout",
     "output_type": "stream",
     "text": [
      "Make DONE\n",
      "https://github.com/kragen/viznut-music.git\n",
      "repo_name kragen_____viznut-music\n",
      "git clone https://github.com/kragen/viznut-music.git /home/nahid/dataset/clones/kragen_____viznut-music \n"
     ]
    },
    {
     "name": "stderr",
     "output_type": "stream",
     "text": [
      "Cloning into '/home/nahid/dataset/clones/kragen_____viznut-music'...\n"
     ]
    },
    {
     "name": "stdout",
     "output_type": "stream",
     "text": [
      "Make DONE\n",
      "https://github.com/codeKAMAT/C-Programming-Exercises-Practice-Solution-Conditional-Statement.git\n",
      "repo_name codeKAMAT_____C-Programming-Exercises-Practice-Solution-Conditional-Statement\n",
      "git clone https://github.com/codeKAMAT/C-Programming-Exercises-Practice-Solution-Conditional-Statement.git /home/nahid/dataset/clones/codeKAMAT_____C-Programming-Exercises-Practice-Solution-Conditional-Statement \n"
     ]
    },
    {
     "name": "stderr",
     "output_type": "stream",
     "text": [
      "Cloning into '/home/nahid/dataset/clones/codeKAMAT_____C-Programming-Exercises-Practice-Solution-Conditional-Statement'...\n"
     ]
    },
    {
     "name": "stdout",
     "output_type": "stream",
     "text": [
      "Make DONE\n",
      "https://github.com/fabiosvm/hook-lang.git\n",
      "repo_name fabiosvm_____hook-lang\n",
      "git clone https://github.com/fabiosvm/hook-lang.git /home/nahid/dataset/clones/fabiosvm_____hook-lang \n"
     ]
    },
    {
     "name": "stderr",
     "output_type": "stream",
     "text": [
      "Cloning into '/home/nahid/dataset/clones/fabiosvm_____hook-lang'...\n"
     ]
    },
    {
     "name": "stdout",
     "output_type": "stream",
     "text": [
      "Make DONE\n",
      "https://github.com/FLombardi-PhD/C-teaching.git\n",
      "repo_name FLombardi-PhD_____C-teaching\n",
      "git clone https://github.com/FLombardi-PhD/C-teaching.git /home/nahid/dataset/clones/FLombardi-PhD_____C-teaching \n"
     ]
    },
    {
     "name": "stderr",
     "output_type": "stream",
     "text": [
      "Cloning into '/home/nahid/dataset/clones/FLombardi-PhD_____C-teaching'...\n"
     ]
    },
    {
     "name": "stdout",
     "output_type": "stream",
     "text": [
      "Make DONE\n",
      "https://github.com/anaghasethu/KTU-sem7-compilerdesign-programs.git\n",
      "repo_name anaghasethu_____KTU-sem7-compilerdesign-programs\n",
      "git clone https://github.com/anaghasethu/KTU-sem7-compilerdesign-programs.git /home/nahid/dataset/clones/anaghasethu_____KTU-sem7-compilerdesign-programs \n"
     ]
    },
    {
     "name": "stderr",
     "output_type": "stream",
     "text": [
      "Cloning into '/home/nahid/dataset/clones/anaghasethu_____KTU-sem7-compilerdesign-programs'...\n"
     ]
    },
    {
     "name": "stdout",
     "output_type": "stream",
     "text": [
      "Make DONE\n",
      "https://github.com/cesbit/libqpack.git\n",
      "repo_name cesbit_____libqpack\n",
      "git clone https://github.com/cesbit/libqpack.git /home/nahid/dataset/clones/cesbit_____libqpack \n"
     ]
    },
    {
     "name": "stderr",
     "output_type": "stream",
     "text": [
      "Cloning into '/home/nahid/dataset/clones/cesbit_____libqpack'...\n"
     ]
    },
    {
     "name": "stdout",
     "output_type": "stream",
     "text": [
      "Make DONE\n",
      "https://github.com/JenniferRanjani/CSF111-Computer-Programming.git\n",
      "repo_name JenniferRanjani_____CSF111-Computer-Programming\n",
      "git clone https://github.com/JenniferRanjani/CSF111-Computer-Programming.git /home/nahid/dataset/clones/JenniferRanjani_____CSF111-Computer-Programming \n"
     ]
    },
    {
     "name": "stderr",
     "output_type": "stream",
     "text": [
      "Cloning into '/home/nahid/dataset/clones/JenniferRanjani_____CSF111-Computer-Programming'...\n"
     ]
    },
    {
     "name": "stdout",
     "output_type": "stream",
     "text": [
      "Make DONE\n",
      "https://github.com/messiforever2022/alx-low_level_programming.git\n",
      "repo_name messiforever2022_____alx-low_level_programming\n",
      "git clone https://github.com/messiforever2022/alx-low_level_programming.git /home/nahid/dataset/clones/messiforever2022_____alx-low_level_programming \n"
     ]
    },
    {
     "name": "stderr",
     "output_type": "stream",
     "text": [
      "Cloning into '/home/nahid/dataset/clones/messiforever2022_____alx-low_level_programming'...\n"
     ]
    },
    {
     "name": "stdout",
     "output_type": "stream",
     "text": [
      "Make DONE\n",
      "https://github.com/jarun/primepalindrome.git\n",
      "repo_name jarun_____primepalindrome\n",
      "git clone https://github.com/jarun/primepalindrome.git /home/nahid/dataset/clones/jarun_____primepalindrome \n",
      "Make DONE\n",
      "https://github.com/kelefouras/comp3001.git\n",
      "repo_name kelefouras_____comp3001\n",
      "git clone https://github.com/kelefouras/comp3001.git /home/nahid/dataset/clones/kelefouras_____comp3001 \n",
      "Make DONE\n",
      "https://github.com/KushalP/k-and-r.git\n",
      "repo_name KushalP_____k-and-r\n",
      "git clone https://github.com/KushalP/k-and-r.git /home/nahid/dataset/clones/KushalP_____k-and-r \n",
      "Make DONE\n",
      "https://github.com/FeMIMaKAY/alx-low_level_programming.git\n",
      "repo_name FeMIMaKAY_____alx-low_level_programming\n",
      "git clone https://github.com/FeMIMaKAY/alx-low_level_programming.git /home/nahid/dataset/clones/FeMIMaKAY_____alx-low_level_programming \n",
      "Make DONE\n",
      "https://github.com/maybenomad/WMU-CS2240.git\n",
      "repo_name maybenomad_____WMU-CS2240\n",
      "git clone https://github.com/maybenomad/WMU-CS2240.git /home/nahid/dataset/clones/maybenomad_____WMU-CS2240 \n",
      "Make DONE\n",
      "https://github.com/Jossyking99/alx-low_level_programming.git\n",
      "repo_name Jossyking99_____alx-low_level_programming\n",
      "git clone https://github.com/Jossyking99/alx-low_level_programming.git /home/nahid/dataset/clones/Jossyking99_____alx-low_level_programming \n",
      "Make DONE\n",
      "https://github.com/aaronryank/Cubically.git\n",
      "repo_name aaronryank_____Cubically\n",
      "git clone https://github.com/aaronryank/Cubically.git /home/nahid/dataset/clones/aaronryank_____Cubically \n",
      "Make DONE\n",
      "https://github.com/juanfe9118/holbertonschool-low_level_programming.git\n",
      "repo_name juanfe9118_____holbertonschool-low_level_programming\n",
      "git clone https://github.com/juanfe9118/holbertonschool-low_level_programming.git /home/nahid/dataset/clones/juanfe9118_____holbertonschool-low_level_programming \n",
      "Make DONE\n",
      "https://github.com/JayramPatil/C-Programs.git\n",
      "repo_name JayramPatil_____C-Programs\n",
      "git clone https://github.com/JayramPatil/C-Programs.git /home/nahid/dataset/clones/JayramPatil_____C-Programs \n",
      "Make DONE\n",
      "https://github.com/nowcoder001/programming_exercises_of_CPP_6th.git\n",
      "repo_name nowcoder001_____programming_exercises_of_CPP_6th\n",
      "git clone https://github.com/nowcoder001/programming_exercises_of_CPP_6th.git /home/nahid/dataset/clones/nowcoder001_____programming_exercises_of_CPP_6th \n"
     ]
    },
    {
     "name": "stderr",
     "output_type": "stream",
     "text": [
      "fatal: destination path '/home/nahid/dataset/clones/jarun_____primepalindrome' already exists and is not an empty directory.\n",
      "fatal: destination path '/home/nahid/dataset/clones/kelefouras_____comp3001' already exists and is not an empty directory.\n",
      "fatal: destination path '/home/nahid/dataset/clones/KushalP_____k-and-r' already exists and is not an empty directory.\n",
      "fatal: destination path '/home/nahid/dataset/clones/FeMIMaKAY_____alx-low_level_programming' already exists and is not an empty directory.\n",
      "fatal: destination path '/home/nahid/dataset/clones/maybenomad_____WMU-CS2240' already exists and is not an empty directory.\n",
      "fatal: destination path '/home/nahid/dataset/clones/Jossyking99_____alx-low_level_programming' already exists and is not an empty directory.\n",
      "fatal: destination path '/home/nahid/dataset/clones/aaronryank_____Cubically' already exists and is not an empty directory.\n",
      "fatal: destination path '/home/nahid/dataset/clones/juanfe9118_____holbertonschool-low_level_programming' already exists and is not an empty directory.\n",
      "fatal: destination path '/home/nahid/dataset/clones/JayramPatil_____C-Programs' already exists and is not an empty directory.\n",
      "Cloning into '/home/nahid/dataset/clones/nowcoder001_____programming_exercises_of_CPP_6th'...\n"
     ]
    },
    {
     "name": "stdout",
     "output_type": "stream",
     "text": [
      "Make DONE\n",
      "https://github.com/sybrexsys/VersyPDF.git\n",
      "repo_name sybrexsys_____VersyPDF\n",
      "git clone https://github.com/sybrexsys/VersyPDF.git /home/nahid/dataset/clones/sybrexsys_____VersyPDF \n",
      "Make DONE\n",
      "https://github.com/jaegerpicker/CantonSoftwareMentorship.git\n",
      "repo_name jaegerpicker_____CantonSoftwareMentorship\n",
      "git clone https://github.com/jaegerpicker/CantonSoftwareMentorship.git /home/nahid/dataset/clones/jaegerpicker_____CantonSoftwareMentorship \n",
      "Make DONE\n",
      "https://github.com/koitoer/SSL-Sockets.git\n",
      "repo_name koitoer_____SSL-Sockets\n",
      "git clone https://github.com/koitoer/SSL-Sockets.git /home/nahid/dataset/clones/koitoer_____SSL-Sockets \n",
      "Make DONE\n",
      "https://github.com/celalaygar/c-programlama-kod-ornekleri.git\n",
      "repo_name celalaygar_____c-programlama-kod-ornekleri\n",
      "git clone https://github.com/celalaygar/c-programlama-kod-ornekleri.git /home/nahid/dataset/clones/celalaygar_____c-programlama-kod-ornekleri \n",
      "Make DONE\n",
      "https://github.com/YuriIvanov/deitel-c.git\n",
      "repo_name YuriIvanov_____deitel-c\n",
      "git clone https://github.com/YuriIvanov/deitel-c.git /home/nahid/dataset/clones/YuriIvanov_____deitel-c \n",
      "Make DONE\n",
      "https://github.com/kocsenc/swift-cmark.git\n",
      "repo_name kocsenc_____swift-cmark\n",
      "git clone https://github.com/kocsenc/swift-cmark.git /home/nahid/dataset/clones/kocsenc_____swift-cmark \n",
      "Make DONE\n",
      "https://github.com/saurav2401/C_Basics.git\n",
      "repo_name saurav2401_____C_Basics\n",
      "git clone https://github.com/saurav2401/C_Basics.git /home/nahid/dataset/clones/saurav2401_____C_Basics \n"
     ]
    },
    {
     "name": "stderr",
     "output_type": "stream",
     "text": [
      "fatal: destination path '/home/nahid/dataset/clones/sybrexsys_____VersyPDF' already exists and is not an empty directory.\n",
      "fatal: destination path '/home/nahid/dataset/clones/jaegerpicker_____CantonSoftwareMentorship' already exists and is not an empty directory.\n",
      "fatal: destination path '/home/nahid/dataset/clones/koitoer_____SSL-Sockets' already exists and is not an empty directory.\n",
      "fatal: destination path '/home/nahid/dataset/clones/celalaygar_____c-programlama-kod-ornekleri' already exists and is not an empty directory.\n",
      "fatal: destination path '/home/nahid/dataset/clones/YuriIvanov_____deitel-c' already exists and is not an empty directory.\n",
      "fatal: destination path '/home/nahid/dataset/clones/kocsenc_____swift-cmark' already exists and is not an empty directory.\n",
      "Cloning into '/home/nahid/dataset/clones/saurav2401_____C_Basics'...\n"
     ]
    },
    {
     "name": "stdout",
     "output_type": "stream",
     "text": [
      "Make DONE\n",
      "https://github.com/nylander/MrModeltest2.git\n",
      "repo_name nylander_____MrModeltest2\n",
      "git clone https://github.com/nylander/MrModeltest2.git /home/nahid/dataset/clones/nylander_____MrModeltest2 \n",
      "Make DONE\n",
      "https://github.com/elastic/bpfcov.git\n",
      "repo_name elastic_____bpfcov\n",
      "git clone https://github.com/elastic/bpfcov.git /home/nahid/dataset/clones/elastic_____bpfcov \n",
      "Make DONE\n",
      "https://github.com/qian256/HoloLensCamCalib.git\n",
      "repo_name qian256_____HoloLensCamCalib\n",
      "git clone https://github.com/qian256/HoloLensCamCalib.git /home/nahid/dataset/clones/qian256_____HoloLensCamCalib \n"
     ]
    },
    {
     "name": "stderr",
     "output_type": "stream",
     "text": [
      "fatal: destination path '/home/nahid/dataset/clones/nylander_____MrModeltest2' already exists and is not an empty directory.\n",
      "fatal: destination path '/home/nahid/dataset/clones/elastic_____bpfcov' already exists and is not an empty directory.\n",
      "Cloning into '/home/nahid/dataset/clones/qian256_____HoloLensCamCalib'...\n"
     ]
    },
    {
     "name": "stdout",
     "output_type": "stream",
     "text": [
      "Make DONE\n",
      "https://github.com/Miss-Brain/alx-low_level_programming.git\n",
      "repo_name Miss-Brain_____alx-low_level_programming\n",
      "git clone https://github.com/Miss-Brain/alx-low_level_programming.git /home/nahid/dataset/clones/Miss-Brain_____alx-low_level_programming \n",
      "Make DONE\n",
      "https://github.com/Princexz/alx-low_level_programming.git\n",
      "repo_name Princexz_____alx-low_level_programming\n",
      "git clone https://github.com/Princexz/alx-low_level_programming.git /home/nahid/dataset/clones/Princexz_____alx-low_level_programming \n"
     ]
    },
    {
     "name": "stderr",
     "output_type": "stream",
     "text": [
      "fatal: destination path '/home/nahid/dataset/clones/Miss-Brain_____alx-low_level_programming' already exists and is not an empty directory.\n",
      "Cloning into '/home/nahid/dataset/clones/Princexz_____alx-low_level_programming'...\n"
     ]
    },
    {
     "name": "stdout",
     "output_type": "stream",
     "text": [
      "Make DONE\n",
      "https://github.com/UOLS-VJ1-1516/BaseCode.git\n",
      "repo_name UOLS-VJ1-1516_____BaseCode\n",
      "git clone https://github.com/UOLS-VJ1-1516/BaseCode.git /home/nahid/dataset/clones/UOLS-VJ1-1516_____BaseCode \n",
      "Make DONE\n",
      "https://github.com/lac-dcc/honey-potion.git\n",
      "repo_name lac-dcc_____honey-potion\n",
      "git clone https://github.com/lac-dcc/honey-potion.git /home/nahid/dataset/clones/lac-dcc_____honey-potion \n"
     ]
    },
    {
     "name": "stderr",
     "output_type": "stream",
     "text": [
      "fatal: destination path '/home/nahid/dataset/clones/UOLS-VJ1-1516_____BaseCode' already exists and is not an empty directory.\n",
      "Cloning into '/home/nahid/dataset/clones/lac-dcc_____honey-potion'...\n"
     ]
    },
    {
     "name": "stdout",
     "output_type": "stream",
     "text": [
      "Make DONE\n",
      "https://github.com/Emilymochab/alx-low_level_programming.git\n",
      "repo_name Emilymochab_____alx-low_level_programming\n",
      "git clone https://github.com/Emilymochab/alx-low_level_programming.git /home/nahid/dataset/clones/Emilymochab_____alx-low_level_programming \n",
      "Make DONE\n",
      "https://github.com/Hexdee/alx-low_level_programming.git\n",
      "repo_name Hexdee_____alx-low_level_programming\n",
      "git clone https://github.com/Hexdee/alx-low_level_programming.git /home/nahid/dataset/clones/Hexdee_____alx-low_level_programming \n",
      "Make DONE\n",
      "https://github.com/NNU-CS16/TCPL17.git\n",
      "repo_name NNU-CS16_____TCPL17\n",
      "git clone https://github.com/NNU-CS16/TCPL17.git /home/nahid/dataset/clones/NNU-CS16_____TCPL17 \n",
      "Make DONE\n",
      "https://github.com/gabrielwry/System-Programming.git\n",
      "repo_name gabrielwry_____System-Programming\n",
      "git clone https://github.com/gabrielwry/System-Programming.git /home/nahid/dataset/clones/gabrielwry_____System-Programming \n",
      "Make DONE\n",
      "https://github.com/pkhorsand/EDFlib.git\n",
      "repo_name pkhorsand_____EDFlib\n",
      "git clone https://github.com/pkhorsand/EDFlib.git /home/nahid/dataset/clones/pkhorsand_____EDFlib \n",
      "Make DONE\n",
      "https://github.com/yeasy/code_snippet.git\n",
      "repo_name yeasy_____code_snippet\n",
      "git clone https://github.com/yeasy/code_snippet.git /home/nahid/dataset/clones/yeasy_____code_snippet \n",
      "Make DONE\n",
      "https://github.com/jalalmostafa/clox.git\n",
      "repo_name jalalmostafa_____clox\n",
      "git clone https://github.com/jalalmostafa/clox.git /home/nahid/dataset/clones/jalalmostafa_____clox \n",
      "Make DONE\n",
      "https://github.com/2horse9sun/ucb_sp20_cs162_hw.git\n",
      "repo_name 2horse9sun_____ucb_sp20_cs162_hw\n",
      "git clone https://github.com/2horse9sun/ucb_sp20_cs162_hw.git /home/nahid/dataset/clones/2horse9sun_____ucb_sp20_cs162_hw \n",
      "Make DONE\n",
      "https://github.com/jsgoller1/c-programming-language.git\n",
      "repo_name jsgoller1_____c-programming-language\n",
      "git clone https://github.com/jsgoller1/c-programming-language.git /home/nahid/dataset/clones/jsgoller1_____c-programming-language \n",
      "Make DONE\n",
      "https://github.com/kw-ic17/absolute-pitch-game.git\n",
      "repo_name kw-ic17_____absolute-pitch-game\n",
      "git clone https://github.com/kw-ic17/absolute-pitch-game.git /home/nahid/dataset/clones/kw-ic17_____absolute-pitch-game \n",
      "Make DONE\n",
      "https://github.com/Adeleye080/alx-low_level_programming.git\n",
      "repo_name Adeleye080_____alx-low_level_programming\n",
      "git clone https://github.com/Adeleye080/alx-low_level_programming.git /home/nahid/dataset/clones/Adeleye080_____alx-low_level_programming \n",
      "Make DONE\n",
      "https://github.com/thejorabek/C.git\n",
      "repo_name thejorabek_____C\n",
      "git clone https://github.com/thejorabek/C.git /home/nahid/dataset/clones/thejorabek_____C \n",
      "Make DONE\n",
      "https://github.com/rajkaste/Let-us-C.git\n",
      "repo_name rajkaste_____Let-us-C\n",
      "git clone https://github.com/rajkaste/Let-us-C.git /home/nahid/dataset/clones/rajkaste_____Let-us-C \n",
      "Make DONE\n",
      "https://github.com/stvngrcia/holbertonschool-low_level_programming-2018.git\n",
      "repo_name stvngrcia_____holbertonschool-low_level_programming-2018\n",
      "git clone https://github.com/stvngrcia/holbertonschool-low_level_programming-2018.git /home/nahid/dataset/clones/stvngrcia_____holbertonschool-low_level_programming-2018 \n",
      "Make DONE\n",
      "https://github.com/ivogeorg/c-compile-execute-by-hand.git\n",
      "repo_name ivogeorg_____c-compile-execute-by-hand\n",
      "git clone https://github.com/ivogeorg/c-compile-execute-by-hand.git /home/nahid/dataset/clones/ivogeorg_____c-compile-execute-by-hand \n",
      "Make DONE\n",
      "https://github.com/byn3/holbertonschool-low_level_programming.git\n",
      "repo_name byn3_____holbertonschool-low_level_programming\n",
      "git clone https://github.com/byn3/holbertonschool-low_level_programming.git /home/nahid/dataset/clones/byn3_____holbertonschool-low_level_programming \n",
      "Make DONE\n",
      "https://github.com/aworkshop/c.git\n",
      "repo_name aworkshop_____c\n",
      "git clone https://github.com/aworkshop/c.git /home/nahid/dataset/clones/aworkshop_____c \n",
      "Make DONE\n",
      "https://github.com/Beloved-vince/alx-low_level_programming.git\n",
      "repo_name Beloved-vince_____alx-low_level_programming\n",
      "git clone https://github.com/Beloved-vince/alx-low_level_programming.git /home/nahid/dataset/clones/Beloved-vince_____alx-low_level_programming \n",
      "Make DONE\n",
      "https://github.com/iamruveyda/C-Programming-TR.git\n",
      "repo_name iamruveyda_____C-Programming-TR\n",
      "git clone https://github.com/iamruveyda/C-Programming-TR.git /home/nahid/dataset/clones/iamruveyda_____C-Programming-TR \n"
     ]
    },
    {
     "name": "stderr",
     "output_type": "stream",
     "text": [
      "fatal: destination path '/home/nahid/dataset/clones/Emilymochab_____alx-low_level_programming' already exists and is not an empty directory.\n",
      "fatal: destination path '/home/nahid/dataset/clones/Hexdee_____alx-low_level_programming' already exists and is not an empty directory.\n",
      "fatal: destination path '/home/nahid/dataset/clones/NNU-CS16_____TCPL17' already exists and is not an empty directory.\n",
      "fatal: destination path '/home/nahid/dataset/clones/gabrielwry_____System-Programming' already exists and is not an empty directory.\n",
      "fatal: destination path '/home/nahid/dataset/clones/pkhorsand_____EDFlib' already exists and is not an empty directory.\n",
      "fatal: destination path '/home/nahid/dataset/clones/yeasy_____code_snippet' already exists and is not an empty directory.\n",
      "fatal: destination path '/home/nahid/dataset/clones/jalalmostafa_____clox' already exists and is not an empty directory.\n",
      "fatal: destination path '/home/nahid/dataset/clones/2horse9sun_____ucb_sp20_cs162_hw' already exists and is not an empty directory.\n",
      "fatal: destination path '/home/nahid/dataset/clones/jsgoller1_____c-programming-language' already exists and is not an empty directory.\n",
      "fatal: destination path '/home/nahid/dataset/clones/kw-ic17_____absolute-pitch-game' already exists and is not an empty directory.\n",
      "fatal: destination path '/home/nahid/dataset/clones/Adeleye080_____alx-low_level_programming' already exists and is not an empty directory.\n",
      "fatal: destination path '/home/nahid/dataset/clones/thejorabek_____C' already exists and is not an empty directory.\n",
      "fatal: destination path '/home/nahid/dataset/clones/rajkaste_____Let-us-C' already exists and is not an empty directory.\n",
      "fatal: destination path '/home/nahid/dataset/clones/stvngrcia_____holbertonschool-low_level_programming-2018' already exists and is not an empty directory.\n",
      "fatal: destination path '/home/nahid/dataset/clones/ivogeorg_____c-compile-execute-by-hand' already exists and is not an empty directory.\n",
      "fatal: destination path '/home/nahid/dataset/clones/byn3_____holbertonschool-low_level_programming' already exists and is not an empty directory.\n",
      "fatal: destination path '/home/nahid/dataset/clones/aworkshop_____c' already exists and is not an empty directory.\n",
      "fatal: destination path '/home/nahid/dataset/clones/Beloved-vince_____alx-low_level_programming' already exists and is not an empty directory.\n",
      "Cloning into '/home/nahid/dataset/clones/iamruveyda_____C-Programming-TR'...\n"
     ]
    },
    {
     "name": "stdout",
     "output_type": "stream",
     "text": [
      "Make DONE\n",
      "https://github.com/achen58/Basic-Unit-Converter.git\n",
      "repo_name achen58_____Basic-Unit-Converter\n",
      "git clone https://github.com/achen58/Basic-Unit-Converter.git /home/nahid/dataset/clones/achen58_____Basic-Unit-Converter \n",
      "Make DONE\n",
      "https://github.com/csula/cs370-winter-2016.git\n",
      "repo_name csula_____cs370-winter-2016\n",
      "git clone https://github.com/csula/cs370-winter-2016.git /home/nahid/dataset/clones/csula_____cs370-winter-2016 \n",
      "Make DONE\n",
      "https://github.com/RahulSreedharan/Win32-GUI-Programming-in-C.git\n",
      "repo_name RahulSreedharan_____Win32-GUI-Programming-in-C\n",
      "git clone https://github.com/RahulSreedharan/Win32-GUI-Programming-in-C.git /home/nahid/dataset/clones/RahulSreedharan_____Win32-GUI-Programming-in-C \n",
      "Make DONE\n",
      "https://github.com/CSI-SCT-SB/CSL_201_Data_structure_Lab.git\n",
      "repo_name CSI-SCT-SB_____CSL_201_Data_structure_Lab\n",
      "git clone https://github.com/CSI-SCT-SB/CSL_201_Data_structure_Lab.git /home/nahid/dataset/clones/CSI-SCT-SB_____CSL_201_Data_structure_Lab \n",
      "Make DONE\n",
      "https://github.com/Mcsavvy/alx-low_level_programming.git\n",
      "repo_name Mcsavvy_____alx-low_level_programming\n",
      "git clone https://github.com/Mcsavvy/alx-low_level_programming.git /home/nahid/dataset/clones/Mcsavvy_____alx-low_level_programming \n",
      "Make DONE\n",
      "https://github.com/zorgnax/les.git\n",
      "repo_name zorgnax_____les\n",
      "git clone https://github.com/zorgnax/les.git /home/nahid/dataset/clones/zorgnax_____les \n"
     ]
    },
    {
     "name": "stderr",
     "output_type": "stream",
     "text": [
      "fatal: destination path '/home/nahid/dataset/clones/achen58_____Basic-Unit-Converter' already exists and is not an empty directory.\n",
      "fatal: destination path '/home/nahid/dataset/clones/csula_____cs370-winter-2016' already exists and is not an empty directory.\n",
      "fatal: destination path '/home/nahid/dataset/clones/RahulSreedharan_____Win32-GUI-Programming-in-C' already exists and is not an empty directory.\n",
      "fatal: destination path '/home/nahid/dataset/clones/CSI-SCT-SB_____CSL_201_Data_structure_Lab' already exists and is not an empty directory.\n",
      "fatal: destination path '/home/nahid/dataset/clones/Mcsavvy_____alx-low_level_programming' already exists and is not an empty directory.\n",
      "Cloning into '/home/nahid/dataset/clones/zorgnax_____les'...\n"
     ]
    },
    {
     "name": "stdout",
     "output_type": "stream",
     "text": [
      "Make DONE\n",
      "https://github.com/Ramblurr/PietCreator.git\n",
      "repo_name Ramblurr_____PietCreator\n",
      "git clone https://github.com/Ramblurr/PietCreator.git /home/nahid/dataset/clones/Ramblurr_____PietCreator \n",
      "Make DONE\n",
      "https://github.com/amsakib/phonebook.git\n",
      "repo_name amsakib_____phonebook\n",
      "git clone https://github.com/amsakib/phonebook.git /home/nahid/dataset/clones/amsakib_____phonebook \n",
      "Make DONE\n",
      "https://github.com/gcrowder/programming-language-classifier.git\n",
      "repo_name gcrowder_____programming-language-classifier\n",
      "git clone https://github.com/gcrowder/programming-language-classifier.git /home/nahid/dataset/clones/gcrowder_____programming-language-classifier \n",
      "Make DONE\n",
      "https://github.com/Makupau/C-program-to-Swap-a-two-numbers.git\n",
      "repo_name Makupau_____C-program-to-Swap-a-two-numbers\n",
      "git clone https://github.com/Makupau/C-program-to-Swap-a-two-numbers.git /home/nahid/dataset/clones/Makupau_____C-program-to-Swap-a-two-numbers \n",
      "Make DONE\n",
      "https://github.com/PowerDuo/c.git\n",
      "repo_name PowerDuo_____c\n",
      "git clone https://github.com/PowerDuo/c.git /home/nahid/dataset/clones/PowerDuo_____c \n",
      "Make DONE\n",
      "https://github.com/Ritaban-L/Programs.git\n",
      "repo_name Ritaban-L_____Programs\n",
      "git clone https://github.com/Ritaban-L/Programs.git /home/nahid/dataset/clones/Ritaban-L_____Programs \n",
      "Make DONE\n",
      "https://github.com/bitsbyte/bluetooth-programming-in-c.git\n",
      "repo_name bitsbyte_____bluetooth-programming-in-c\n",
      "git clone https://github.com/bitsbyte/bluetooth-programming-in-c.git /home/nahid/dataset/clones/bitsbyte_____bluetooth-programming-in-c \n",
      "Make DONE\n",
      "https://github.com/kadir014/Dust.git\n",
      "repo_name kadir014_____Dust\n",
      "git clone https://github.com/kadir014/Dust.git /home/nahid/dataset/clones/kadir014_____Dust \n",
      "Make DONE\n",
      "https://github.com/hafijul233/Programming-in-ANSI-C.git\n",
      "repo_name hafijul233_____Programming-in-ANSI-C\n",
      "git clone https://github.com/hafijul233/Programming-in-ANSI-C.git /home/nahid/dataset/clones/hafijul233_____Programming-in-ANSI-C \n"
     ]
    },
    {
     "name": "stderr",
     "output_type": "stream",
     "text": [
      "fatal: destination path '/home/nahid/dataset/clones/Ramblurr_____PietCreator' already exists and is not an empty directory.\n",
      "fatal: destination path '/home/nahid/dataset/clones/amsakib_____phonebook' already exists and is not an empty directory.\n",
      "fatal: destination path '/home/nahid/dataset/clones/gcrowder_____programming-language-classifier' already exists and is not an empty directory.\n",
      "fatal: destination path '/home/nahid/dataset/clones/Makupau_____C-program-to-Swap-a-two-numbers' already exists and is not an empty directory.\n",
      "fatal: destination path '/home/nahid/dataset/clones/PowerDuo_____c' already exists and is not an empty directory.\n",
      "fatal: destination path '/home/nahid/dataset/clones/Ritaban-L_____Programs' already exists and is not an empty directory.\n",
      "fatal: destination path '/home/nahid/dataset/clones/bitsbyte_____bluetooth-programming-in-c' already exists and is not an empty directory.\n",
      "fatal: destination path '/home/nahid/dataset/clones/kadir014_____Dust' already exists and is not an empty directory.\n",
      "Cloning into '/home/nahid/dataset/clones/hafijul233_____Programming-in-ANSI-C'...\n"
     ]
    },
    {
     "name": "stdout",
     "output_type": "stream",
     "text": [
      "Make DONE\n",
      "https://github.com/Echelon-Catapult/Picture-Activity-M1.git\n",
      "repo_name Echelon-Catapult_____Picture-Activity-M1\n",
      "git clone https://github.com/Echelon-Catapult/Picture-Activity-M1.git /home/nahid/dataset/clones/Echelon-Catapult_____Picture-Activity-M1 \n",
      "Make DONE\n",
      "https://github.com/shrebox/Operating-System.git\n",
      "repo_name shrebox_____Operating-System\n",
      "git clone https://github.com/shrebox/Operating-System.git /home/nahid/dataset/clones/shrebox_____Operating-System \n",
      "Make DONE\n",
      "https://github.com/sol-prog/ansi-escape-codes-windows-posix-terminals-c-programming-examples.git\n",
      "repo_name sol-prog_____ansi-escape-codes-windows-posix-terminals-c-programming-examples\n",
      "git clone https://github.com/sol-prog/ansi-escape-codes-windows-posix-terminals-c-programming-examples.git /home/nahid/dataset/clones/sol-prog_____ansi-escape-codes-windows-posix-terminals-c-programming-examples \n",
      "Make DONE\n",
      "https://github.com/brimstone/infect.git\n",
      "repo_name brimstone_____infect\n",
      "git clone https://github.com/brimstone/infect.git /home/nahid/dataset/clones/brimstone_____infect \n",
      "Make DONE\n",
      "https://github.com/Guntermann-Drunck/c2tool.git\n",
      "repo_name Guntermann-Drunck_____c2tool\n",
      "git clone https://github.com/Guntermann-Drunck/c2tool.git /home/nahid/dataset/clones/Guntermann-Drunck_____c2tool \n",
      "Make DONE\n",
      "https://github.com/Adebayo-S/alx-low_level_programming.git\n",
      "repo_name Adebayo-S_____alx-low_level_programming\n",
      "git clone https://github.com/Adebayo-S/alx-low_level_programming.git /home/nahid/dataset/clones/Adebayo-S_____alx-low_level_programming \n",
      "Make DONE\n",
      "https://github.com/B3zaleel/alx-low_level_programming.git\n",
      "repo_name B3zaleel_____alx-low_level_programming\n",
      "git clone https://github.com/B3zaleel/alx-low_level_programming.git /home/nahid/dataset/clones/B3zaleel_____alx-low_level_programming \n",
      "Make DONE\n",
      "https://github.com/dannyvankooten/monkey-c-monkey-do.git\n",
      "repo_name dannyvankooten_____monkey-c-monkey-do\n",
      "git clone https://github.com/dannyvankooten/monkey-c-monkey-do.git /home/nahid/dataset/clones/dannyvankooten_____monkey-c-monkey-do \n",
      "Make DONE\n",
      "https://github.com/BryanAim/holbertonschool-low_level_programming.git\n",
      "repo_name BryanAim_____holbertonschool-low_level_programming\n",
      "git clone https://github.com/BryanAim/holbertonschool-low_level_programming.git /home/nahid/dataset/clones/BryanAim_____holbertonschool-low_level_programming \n",
      "Make DONE\n",
      "https://github.com/apaz-cli/daisho.git\n",
      "repo_name apaz-cli_____daisho\n",
      "git clone https://github.com/apaz-cli/daisho.git /home/nahid/dataset/clones/apaz-cli_____daisho \n"
     ]
    },
    {
     "name": "stderr",
     "output_type": "stream",
     "text": [
      "fatal: destination path '/home/nahid/dataset/clones/Echelon-Catapult_____Picture-Activity-M1' already exists and is not an empty directory.\n",
      "fatal: destination path '/home/nahid/dataset/clones/shrebox_____Operating-System' already exists and is not an empty directory.\n",
      "fatal: destination path '/home/nahid/dataset/clones/sol-prog_____ansi-escape-codes-windows-posix-terminals-c-programming-examples' already exists and is not an empty directory.\n",
      "fatal: destination path '/home/nahid/dataset/clones/brimstone_____infect' already exists and is not an empty directory.\n",
      "fatal: destination path '/home/nahid/dataset/clones/Guntermann-Drunck_____c2tool' already exists and is not an empty directory.\n",
      "fatal: destination path '/home/nahid/dataset/clones/Adebayo-S_____alx-low_level_programming' already exists and is not an empty directory.\n",
      "fatal: destination path '/home/nahid/dataset/clones/B3zaleel_____alx-low_level_programming' already exists and is not an empty directory.\n",
      "fatal: destination path '/home/nahid/dataset/clones/dannyvankooten_____monkey-c-monkey-do' already exists and is not an empty directory.\n",
      "fatal: destination path '/home/nahid/dataset/clones/BryanAim_____holbertonschool-low_level_programming' already exists and is not an empty directory.\n",
      "Cloning into '/home/nahid/dataset/clones/apaz-cli_____daisho'...\n"
     ]
    },
    {
     "name": "stdout",
     "output_type": "stream",
     "text": [
      "Make DONE\n",
      "https://github.com/TranBaVinhSon/Compiler.git\n",
      "repo_name TranBaVinhSon_____Compiler\n",
      "git clone https://github.com/TranBaVinhSon/Compiler.git /home/nahid/dataset/clones/TranBaVinhSon_____Compiler \n",
      "Make DONE\n",
      "https://github.com/David-H-Bolton/LearnC.git\n",
      "repo_name David-H-Bolton_____LearnC\n",
      "git clone https://github.com/David-H-Bolton/LearnC.git /home/nahid/dataset/clones/David-H-Bolton_____LearnC \n",
      "Make DONE\n",
      "https://github.com/babelouest/orcania.git\n",
      "repo_name babelouest_____orcania\n",
      "git clone https://github.com/babelouest/orcania.git /home/nahid/dataset/clones/babelouest_____orcania \n",
      "Make DONE\n",
      "https://github.com/kragen/viznut-music.git\n",
      "repo_name kragen_____viznut-music\n",
      "git clone https://github.com/kragen/viznut-music.git /home/nahid/dataset/clones/kragen_____viznut-music \n",
      "Make DONE\n",
      "https://github.com/codeKAMAT/C-Programming-Exercises-Practice-Solution-Conditional-Statement.git\n",
      "repo_name codeKAMAT_____C-Programming-Exercises-Practice-Solution-Conditional-Statement\n",
      "git clone https://github.com/codeKAMAT/C-Programming-Exercises-Practice-Solution-Conditional-Statement.git /home/nahid/dataset/clones/codeKAMAT_____C-Programming-Exercises-Practice-Solution-Conditional-Statement \n",
      "Make DONE\n",
      "https://github.com/bnoordhuis/axis2-c.git\n",
      "repo_name bnoordhuis_____axis2-c\n",
      "git clone https://github.com/bnoordhuis/axis2-c.git /home/nahid/dataset/clones/bnoordhuis_____axis2-c \n",
      "Make DONE\n",
      "https://github.com/racuna1/cse240-public.git\n",
      "repo_name racuna1_____cse240-public\n",
      "git clone https://github.com/racuna1/cse240-public.git /home/nahid/dataset/clones/racuna1_____cse240-public \n",
      "Make DONE\n",
      "https://github.com/FLombardi-PhD/C-teaching.git\n",
      "repo_name FLombardi-PhD_____C-teaching\n",
      "git clone https://github.com/FLombardi-PhD/C-teaching.git /home/nahid/dataset/clones/FLombardi-PhD_____C-teaching \n",
      "Make DONE\n",
      "https://github.com/anaghasethu/KTU-sem7-compilerdesign-programs.git\n",
      "repo_name anaghasethu_____KTU-sem7-compilerdesign-programs\n",
      "git clone https://github.com/anaghasethu/KTU-sem7-compilerdesign-programs.git /home/nahid/dataset/clones/anaghasethu_____KTU-sem7-compilerdesign-programs \n",
      "Make DONE\n",
      "https://github.com/cesbit/libqpack.git\n",
      "repo_name cesbit_____libqpack\n",
      "git clone https://github.com/cesbit/libqpack.git /home/nahid/dataset/clones/cesbit_____libqpack \n",
      "Make DONE\n",
      "https://github.com/fabiosvm/hook-lang.git\n",
      "repo_name fabiosvm_____hook-lang\n",
      "git clone https://github.com/fabiosvm/hook-lang.git /home/nahid/dataset/clones/fabiosvm_____hook-lang \n",
      "Make DONE\n",
      "https://github.com/JenniferRanjani/CSF111-Computer-Programming.git\n",
      "repo_name JenniferRanjani_____CSF111-Computer-Programming\n",
      "git clone https://github.com/JenniferRanjani/CSF111-Computer-Programming.git /home/nahid/dataset/clones/JenniferRanjani_____CSF111-Computer-Programming \n",
      "Make DONE\n",
      "https://github.com/zagaouch/alx-low_level_programming-1.git\n",
      "repo_name zagaouch_____alx-low_level_programming-1\n",
      "git clone https://github.com/zagaouch/alx-low_level_programming-1.git /home/nahid/dataset/clones/zagaouch_____alx-low_level_programming-1 \n"
     ]
    },
    {
     "name": "stderr",
     "output_type": "stream",
     "text": [
      "fatal: destination path '/home/nahid/dataset/clones/TranBaVinhSon_____Compiler' already exists and is not an empty directory.\n",
      "fatal: destination path '/home/nahid/dataset/clones/David-H-Bolton_____LearnC' already exists and is not an empty directory.\n",
      "fatal: destination path '/home/nahid/dataset/clones/babelouest_____orcania' already exists and is not an empty directory.\n",
      "fatal: destination path '/home/nahid/dataset/clones/kragen_____viznut-music' already exists and is not an empty directory.\n",
      "fatal: destination path '/home/nahid/dataset/clones/codeKAMAT_____C-Programming-Exercises-Practice-Solution-Conditional-Statement' already exists and is not an empty directory.\n",
      "fatal: destination path '/home/nahid/dataset/clones/bnoordhuis_____axis2-c' already exists and is not an empty directory.\n",
      "fatal: destination path '/home/nahid/dataset/clones/racuna1_____cse240-public' already exists and is not an empty directory.\n",
      "fatal: destination path '/home/nahid/dataset/clones/FLombardi-PhD_____C-teaching' already exists and is not an empty directory.\n",
      "fatal: destination path '/home/nahid/dataset/clones/anaghasethu_____KTU-sem7-compilerdesign-programs' already exists and is not an empty directory.\n",
      "fatal: destination path '/home/nahid/dataset/clones/cesbit_____libqpack' already exists and is not an empty directory.\n",
      "fatal: destination path '/home/nahid/dataset/clones/fabiosvm_____hook-lang' already exists and is not an empty directory.\n",
      "fatal: destination path '/home/nahid/dataset/clones/JenniferRanjani_____CSF111-Computer-Programming' already exists and is not an empty directory.\n",
      "Cloning into '/home/nahid/dataset/clones/zagaouch_____alx-low_level_programming-1'...\n"
     ]
    },
    {
     "name": "stdout",
     "output_type": "stream",
     "text": [
      "Make DONE\n",
      "https://github.com/tat/eeprog.git\n",
      "repo_name tat_____eeprog\n",
      "git clone https://github.com/tat/eeprog.git /home/nahid/dataset/clones/tat_____eeprog \n"
     ]
    },
    {
     "name": "stderr",
     "output_type": "stream",
     "text": [
      "Cloning into '/home/nahid/dataset/clones/tat_____eeprog'...\n"
     ]
    },
    {
     "name": "stdout",
     "output_type": "stream",
     "text": [
      "Make DONE\n",
      "https://github.com/prerakmall/C-MapReduce.git\n",
      "repo_name prerakmall_____C-MapReduce\n",
      "git clone https://github.com/prerakmall/C-MapReduce.git /home/nahid/dataset/clones/prerakmall_____C-MapReduce \n"
     ]
    },
    {
     "name": "stderr",
     "output_type": "stream",
     "text": [
      "Cloning into '/home/nahid/dataset/clones/prerakmall_____C-MapReduce'...\n"
     ]
    },
    {
     "name": "stdout",
     "output_type": "stream",
     "text": [
      "Make DONE\n",
      "https://github.com/messiforever2022/alx-low_level_programming.git\n",
      "repo_name messiforever2022_____alx-low_level_programming\n",
      "git clone https://github.com/messiforever2022/alx-low_level_programming.git /home/nahid/dataset/clones/messiforever2022_____alx-low_level_programming \n",
      "Make DONE\n",
      "https://github.com/aivarsk/stacktrace.git\n",
      "repo_name aivarsk_____stacktrace\n",
      "git clone https://github.com/aivarsk/stacktrace.git /home/nahid/dataset/clones/aivarsk_____stacktrace \n"
     ]
    },
    {
     "name": "stderr",
     "output_type": "stream",
     "text": [
      "fatal: destination path '/home/nahid/dataset/clones/messiforever2022_____alx-low_level_programming' already exists and is not an empty directory.\n",
      "Cloning into '/home/nahid/dataset/clones/aivarsk_____stacktrace'...\n"
     ]
    },
    {
     "name": "stdout",
     "output_type": "stream",
     "text": [
      "Make DONE\n",
      "https://github.com/duparq/hwa.git\n",
      "repo_name duparq_____hwa\n",
      "git clone https://github.com/duparq/hwa.git /home/nahid/dataset/clones/duparq_____hwa \n"
     ]
    },
    {
     "name": "stderr",
     "output_type": "stream",
     "text": [
      "Cloning into '/home/nahid/dataset/clones/duparq_____hwa'...\n"
     ]
    },
    {
     "name": "stdout",
     "output_type": "stream",
     "text": [
      "Make DONE\n",
      "https://github.com/programmershub007/C-programming.git\n",
      "repo_name programmershub007_____C-programming\n",
      "git clone https://github.com/programmershub007/C-programming.git /home/nahid/dataset/clones/programmershub007_____C-programming \n"
     ]
    },
    {
     "name": "stderr",
     "output_type": "stream",
     "text": [
      "Cloning into '/home/nahid/dataset/clones/programmershub007_____C-programming'...\n"
     ]
    },
    {
     "name": "stdout",
     "output_type": "stream",
     "text": [
      "Make DONE\n",
      "https://github.com/swastikians/CACS151.git\n",
      "repo_name swastikians_____CACS151\n",
      "git clone https://github.com/swastikians/CACS151.git /home/nahid/dataset/clones/swastikians_____CACS151 \n"
     ]
    },
    {
     "name": "stderr",
     "output_type": "stream",
     "text": [
      "Cloning into '/home/nahid/dataset/clones/swastikians_____CACS151'...\n"
     ]
    },
    {
     "name": "stdout",
     "output_type": "stream",
     "text": [
      "Make DONE\n",
      "https://github.com/Jacie1/alx-low_level_programming.git\n",
      "repo_name Jacie1_____alx-low_level_programming\n",
      "git clone https://github.com/Jacie1/alx-low_level_programming.git /home/nahid/dataset/clones/Jacie1_____alx-low_level_programming \n"
     ]
    },
    {
     "name": "stderr",
     "output_type": "stream",
     "text": [
      "Cloning into '/home/nahid/dataset/clones/Jacie1_____alx-low_level_programming'...\n"
     ]
    },
    {
     "name": "stdout",
     "output_type": "stream",
     "text": [
      "Make DONE\n",
      "https://github.com/sailok/TIC-TAC-TOE-game-.git\n",
      "repo_name sailok_____TIC-TAC-TOE-game-\n",
      "git clone https://github.com/sailok/TIC-TAC-TOE-game-.git /home/nahid/dataset/clones/sailok_____TIC-TAC-TOE-game- \n"
     ]
    },
    {
     "name": "stderr",
     "output_type": "stream",
     "text": [
      "Cloning into '/home/nahid/dataset/clones/sailok_____TIC-TAC-TOE-game-'...\n"
     ]
    },
    {
     "name": "stdout",
     "output_type": "stream",
     "text": [
      "Make DONE\n",
      "https://github.com/ivanepou22/alx-low_level_programming.git\n",
      "repo_name ivanepou22_____alx-low_level_programming\n",
      "git clone https://github.com/ivanepou22/alx-low_level_programming.git /home/nahid/dataset/clones/ivanepou22_____alx-low_level_programming \n"
     ]
    },
    {
     "name": "stderr",
     "output_type": "stream",
     "text": [
      "Cloning into '/home/nahid/dataset/clones/ivanepou22_____alx-low_level_programming'...\n"
     ]
    },
    {
     "name": "stdout",
     "output_type": "stream",
     "text": [
      "Make DONE\n",
      "https://github.com/Sentido-Labs/cedro.git\n",
      "repo_name Sentido-Labs_____cedro\n",
      "git clone https://github.com/Sentido-Labs/cedro.git /home/nahid/dataset/clones/Sentido-Labs_____cedro \n"
     ]
    },
    {
     "name": "stderr",
     "output_type": "stream",
     "text": [
      "Cloning into '/home/nahid/dataset/clones/Sentido-Labs_____cedro'...\n"
     ]
    },
    {
     "name": "stdout",
     "output_type": "stream",
     "text": [
      "Make DONE\n",
      "https://github.com/Abla-ouh/Edx-course-activities.git\n",
      "repo_name Abla-ouh_____Edx-course-activities\n",
      "git clone https://github.com/Abla-ouh/Edx-course-activities.git /home/nahid/dataset/clones/Abla-ouh_____Edx-course-activities \n"
     ]
    },
    {
     "name": "stderr",
     "output_type": "stream",
     "text": [
      "Cloning into '/home/nahid/dataset/clones/Abla-ouh_____Edx-course-activities'...\n"
     ]
    },
    {
     "name": "stdout",
     "output_type": "stream",
     "text": [
      "Make DONE\n",
      "https://github.com/nsf/ccode.git\n",
      "repo_name nsf_____ccode\n",
      "git clone https://github.com/nsf/ccode.git /home/nahid/dataset/clones/nsf_____ccode \n"
     ]
    },
    {
     "name": "stderr",
     "output_type": "stream",
     "text": [
      "Cloning into '/home/nahid/dataset/clones/nsf_____ccode'...\n"
     ]
    },
    {
     "name": "stdout",
     "output_type": "stream",
     "text": [
      "Make DONE\n",
      "https://github.com/vivekavardhana/datastructures.git\n",
      "repo_name vivekavardhana_____datastructures\n",
      "git clone https://github.com/vivekavardhana/datastructures.git /home/nahid/dataset/clones/vivekavardhana_____datastructures \n"
     ]
    },
    {
     "name": "stderr",
     "output_type": "stream",
     "text": [
      "Cloning into '/home/nahid/dataset/clones/vivekavardhana_____datastructures'...\n"
     ]
    },
    {
     "name": "stdout",
     "output_type": "stream",
     "text": [
      "Make DONE\n",
      "https://github.com/Eric20Junior/alx-low_level_programming.git\n",
      "repo_name Eric20Junior_____alx-low_level_programming\n",
      "git clone https://github.com/Eric20Junior/alx-low_level_programming.git /home/nahid/dataset/clones/Eric20Junior_____alx-low_level_programming \n"
     ]
    },
    {
     "name": "stderr",
     "output_type": "stream",
     "text": [
      "Cloning into '/home/nahid/dataset/clones/Eric20Junior_____alx-low_level_programming'...\n"
     ]
    },
    {
     "name": "stdout",
     "output_type": "stream",
     "text": [
      "Make DONE\n",
      "https://github.com/felipevcc/holbertonschool-printf.git\n",
      "repo_name felipevcc_____holbertonschool-printf\n",
      "git clone https://github.com/felipevcc/holbertonschool-printf.git /home/nahid/dataset/clones/felipevcc_____holbertonschool-printf \n"
     ]
    },
    {
     "name": "stderr",
     "output_type": "stream",
     "text": [
      "Cloning into '/home/nahid/dataset/clones/felipevcc_____holbertonschool-printf'...\n"
     ]
    },
    {
     "name": "stdout",
     "output_type": "stream",
     "text": [
      "Make DONE\n",
      "https://github.com/Vipul97/The-C-Programming-Language.git\n",
      "repo_name Vipul97_____The-C-Programming-Language\n",
      "git clone https://github.com/Vipul97/The-C-Programming-Language.git /home/nahid/dataset/clones/Vipul97_____The-C-Programming-Language \n"
     ]
    },
    {
     "name": "stderr",
     "output_type": "stream",
     "text": [
      "Cloning into '/home/nahid/dataset/clones/Vipul97_____The-C-Programming-Language'...\n"
     ]
    },
    {
     "name": "stdout",
     "output_type": "stream",
     "text": [
      "Make DONE\n",
      "https://github.com/narayan954/niet-codetantra.git\n",
      "repo_name narayan954_____niet-codetantra\n",
      "git clone https://github.com/narayan954/niet-codetantra.git /home/nahid/dataset/clones/narayan954_____niet-codetantra \n"
     ]
    },
    {
     "name": "stderr",
     "output_type": "stream",
     "text": [
      "Cloning into '/home/nahid/dataset/clones/narayan954_____niet-codetantra'...\n"
     ]
    },
    {
     "name": "stdout",
     "output_type": "stream",
     "text": [
      "Make DONE\n",
      "https://github.com/Sjord/checkmate.git\n",
      "repo_name Sjord_____checkmate\n",
      "git clone https://github.com/Sjord/checkmate.git /home/nahid/dataset/clones/Sjord_____checkmate \n",
      "Make DONE\n",
      "https://github.com/ShellXploit/C-Programming.git\n",
      "repo_name ShellXploit_____C-Programming\n",
      "git clone https://github.com/ShellXploit/C-Programming.git /home/nahid/dataset/clones/ShellXploit_____C-Programming \n",
      "Make DONE\n",
      "https://github.com/Sjord/checkmate.git\n",
      "repo_name Sjord_____checkmate\n",
      "git clone https://github.com/Sjord/checkmate.git /home/nahid/dataset/clones/Sjord_____checkmate \n",
      "Make DONE\n",
      "https://github.com/hjian42/CS450-System-Programming.git\n",
      "repo_name hjian42_____CS450-System-Programming\n",
      "git clone https://github.com/hjian42/CS450-System-Programming.git /home/nahid/dataset/clones/hjian42_____CS450-System-Programming \n",
      "Make DONE\n",
      "https://github.com/Rainier-Cyber/C-cheatsheet.git\n",
      "repo_name Rainier-Cyber_____C-cheatsheet\n",
      "git clone https://github.com/Rainier-Cyber/C-cheatsheet.git /home/nahid/dataset/clones/Rainier-Cyber_____C-cheatsheet \n",
      "Make DONE\n",
      "https://github.com/LDY681/CS-252-Systems-Programming.git\n",
      "repo_name LDY681_____CS-252-Systems-Programming\n",
      "git clone https://github.com/LDY681/CS-252-Systems-Programming.git /home/nahid/dataset/clones/LDY681_____CS-252-Systems-Programming \n",
      "Make DONE\n",
      "https://github.com/krishna-bit1/C-programming-ideas.git\n",
      "repo_name krishna-bit1_____C-programming-ideas\n",
      "git clone https://github.com/krishna-bit1/C-programming-ideas.git /home/nahid/dataset/clones/krishna-bit1_____C-programming-ideas \n",
      "Make DONE\n",
      "https://github.com/abatchy17/sockets.git\n",
      "repo_name abatchy17_____sockets\n",
      "git clone https://github.com/abatchy17/sockets.git /home/nahid/dataset/clones/abatchy17_____sockets \n",
      "Make DONE\n",
      "https://github.com/progund/programming-with-c.git\n",
      "repo_name progund_____programming-with-c\n",
      "git clone https://github.com/progund/programming-with-c.git /home/nahid/dataset/clones/progund_____programming-with-c \n",
      "Make DONE\n",
      "https://github.com/cellmlapi/cellml-api.git\n",
      "repo_name cellmlapi_____cellml-api\n",
      "git clone https://github.com/cellmlapi/cellml-api.git /home/nahid/dataset/clones/cellmlapi_____cellml-api \n",
      "Make DONE\n",
      "https://github.com/tyler569/cnit315-irc.git\n",
      "repo_name tyler569_____cnit315-irc\n",
      "git clone https://github.com/tyler569/cnit315-irc.git /home/nahid/dataset/clones/tyler569_____cnit315-irc \n",
      "Make DONE\n",
      "https://github.com/kurniaeliazar/Algorithm-II.git\n",
      "repo_name kurniaeliazar_____Algorithm-II\n",
      "git clone https://github.com/kurniaeliazar/Algorithm-II.git /home/nahid/dataset/clones/kurniaeliazar_____Algorithm-II \n",
      "Make DONE\n",
      "https://github.com/SoftEtherVPN/seclib.git\n",
      "repo_name SoftEtherVPN_____seclib\n",
      "git clone https://github.com/SoftEtherVPN/seclib.git /home/nahid/dataset/clones/SoftEtherVPN_____seclib \n",
      "Make DONE\n",
      "https://github.com/number571/evil-coding.git\n",
      "repo_name number571_____evil-coding\n",
      "git clone https://github.com/number571/evil-coding.git /home/nahid/dataset/clones/number571_____evil-coding \n",
      "Make DONE\n",
      "https://github.com/arm-university/Efficient-Embedded-Systems-Design-Education-Kit.git\n",
      "repo_name arm-university_____Efficient-Embedded-Systems-Design-Education-Kit\n",
      "git clone https://github.com/arm-university/Efficient-Embedded-Systems-Design-Education-Kit.git /home/nahid/dataset/clones/arm-university_____Efficient-Embedded-Systems-Design-Education-Kit \n",
      "Make DONE\n",
      "https://github.com/kharu6883/tower_takeover.git\n",
      "repo_name kharu6883_____tower_takeover\n",
      "git clone https://github.com/kharu6883/tower_takeover.git /home/nahid/dataset/clones/kharu6883_____tower_takeover \n",
      "Make DONE\n",
      "https://github.com/Oluwasegun02/alx-low_level_programming.git\n",
      "repo_name Oluwasegun02_____alx-low_level_programming\n",
      "git clone https://github.com/Oluwasegun02/alx-low_level_programming.git /home/nahid/dataset/clones/Oluwasegun02_____alx-low_level_programming \n",
      "Make DONE\n",
      "https://github.com/CodeMacrocosm/C-BOOK.git\n",
      "repo_name CodeMacrocosm_____C-BOOK\n",
      "git clone https://github.com/CodeMacrocosm/C-BOOK.git /home/nahid/dataset/clones/CodeMacrocosm_____C-BOOK \n",
      "Make DONE\n",
      "https://github.com/mjdominus/intro-c-programming.git\n",
      "repo_name mjdominus_____intro-c-programming\n",
      "git clone https://github.com/mjdominus/intro-c-programming.git /home/nahid/dataset/clones/mjdominus_____intro-c-programming \n",
      "Make DONE\n",
      "https://github.com/akshaybengani789/CtoCPlusPlusfest.git\n",
      "repo_name akshaybengani789_____CtoCPlusPlusfest\n",
      "git clone https://github.com/akshaybengani789/CtoCPlusPlusfest.git /home/nahid/dataset/clones/akshaybengani789_____CtoCPlusPlusfest \n",
      "Make DONE\n",
      "https://github.com/Its-Kenta/Raylib.c3.git\n",
      "repo_name Its-Kenta_____Raylib.c3\n",
      "git clone https://github.com/Its-Kenta/Raylib.c3.git /home/nahid/dataset/clones/Its-Kenta_____Raylib.c3 \n",
      "Make DONE\n",
      "https://github.com/vishwassathish/Basic-Railway-Reservation-System.git\n",
      "repo_name vishwassathish_____Basic-Railway-Reservation-System\n",
      "git clone https://github.com/vishwassathish/Basic-Railway-Reservation-System.git /home/nahid/dataset/clones/vishwassathish_____Basic-Railway-Reservation-System \n",
      "Make DONE\n",
      "https://github.com/0xAether/ccowsay.git\n",
      "repo_name 0xAether_____ccowsay\n",
      "git clone https://github.com/0xAether/ccowsay.git /home/nahid/dataset/clones/0xAether_____ccowsay \n",
      "Make DONE\n",
      "https://github.com/Florencecoker/alx-low_level_programming.git\n",
      "repo_name Florencecoker_____alx-low_level_programming\n",
      "git clone https://github.com/Florencecoker/alx-low_level_programming.git /home/nahid/dataset/clones/Florencecoker_____alx-low_level_programming \n",
      "Make DONE\n",
      "https://github.com/mischasan/util.git\n",
      "repo_name mischasan_____util\n",
      "git clone https://github.com/mischasan/util.git /home/nahid/dataset/clones/mischasan_____util \n",
      "Make DONE\n",
      "https://github.com/morrismukiri/C-Structure.git\n",
      "repo_name morrismukiri_____C-Structure\n",
      "git clone https://github.com/morrismukiri/C-Structure.git /home/nahid/dataset/clones/morrismukiri_____C-Structure \n",
      "Make DONE\n",
      "https://github.com/balau/nucleo_tests.git\n",
      "repo_name balau_____nucleo_tests\n",
      "git clone https://github.com/balau/nucleo_tests.git /home/nahid/dataset/clones/balau_____nucleo_tests \n",
      "Make DONE\n",
      "https://github.com/santabasnet/Programming-in-C.git\n",
      "repo_name santabasnet_____Programming-in-C\n",
      "git clone https://github.com/santabasnet/Programming-in-C.git /home/nahid/dataset/clones/santabasnet_____Programming-in-C \n",
      "Make DONE\n",
      "https://github.com/Oni-Jremi/alx-low_level_programming.git\n",
      "repo_name Oni-Jremi_____alx-low_level_programming\n",
      "git clone https://github.com/Oni-Jremi/alx-low_level_programming.git /home/nahid/dataset/clones/Oni-Jremi_____alx-low_level_programming \n",
      "Make DONE\n",
      "https://github.com/bingmann/malloc_count.git\n",
      "repo_name bingmann_____malloc_count\n",
      "git clone https://github.com/bingmann/malloc_count.git /home/nahid/dataset/clones/bingmann_____malloc_count \n"
     ]
    },
    {
     "name": "stderr",
     "output_type": "stream",
     "text": [
      "fatal: destination path '/home/nahid/dataset/clones/Sjord_____checkmate' already exists and is not an empty directory.\n",
      "fatal: destination path '/home/nahid/dataset/clones/ShellXploit_____C-Programming' already exists and is not an empty directory.\n",
      "fatal: destination path '/home/nahid/dataset/clones/Sjord_____checkmate' already exists and is not an empty directory.\n",
      "fatal: destination path '/home/nahid/dataset/clones/hjian42_____CS450-System-Programming' already exists and is not an empty directory.\n",
      "fatal: destination path '/home/nahid/dataset/clones/Rainier-Cyber_____C-cheatsheet' already exists and is not an empty directory.\n",
      "fatal: destination path '/home/nahid/dataset/clones/LDY681_____CS-252-Systems-Programming' already exists and is not an empty directory.\n",
      "fatal: destination path '/home/nahid/dataset/clones/krishna-bit1_____C-programming-ideas' already exists and is not an empty directory.\n",
      "fatal: destination path '/home/nahid/dataset/clones/abatchy17_____sockets' already exists and is not an empty directory.\n",
      "fatal: destination path '/home/nahid/dataset/clones/progund_____programming-with-c' already exists and is not an empty directory.\n",
      "fatal: destination path '/home/nahid/dataset/clones/cellmlapi_____cellml-api' already exists and is not an empty directory.\n",
      "fatal: destination path '/home/nahid/dataset/clones/tyler569_____cnit315-irc' already exists and is not an empty directory.\n",
      "fatal: destination path '/home/nahid/dataset/clones/kurniaeliazar_____Algorithm-II' already exists and is not an empty directory.\n",
      "fatal: destination path '/home/nahid/dataset/clones/SoftEtherVPN_____seclib' already exists and is not an empty directory.\n",
      "fatal: destination path '/home/nahid/dataset/clones/number571_____evil-coding' already exists and is not an empty directory.\n",
      "fatal: destination path '/home/nahid/dataset/clones/arm-university_____Efficient-Embedded-Systems-Design-Education-Kit' already exists and is not an empty directory.\n",
      "fatal: destination path '/home/nahid/dataset/clones/kharu6883_____tower_takeover' already exists and is not an empty directory.\n",
      "fatal: destination path '/home/nahid/dataset/clones/Oluwasegun02_____alx-low_level_programming' already exists and is not an empty directory.\n",
      "fatal: destination path '/home/nahid/dataset/clones/CodeMacrocosm_____C-BOOK' already exists and is not an empty directory.\n",
      "fatal: destination path '/home/nahid/dataset/clones/mjdominus_____intro-c-programming' already exists and is not an empty directory.\n",
      "fatal: destination path '/home/nahid/dataset/clones/akshaybengani789_____CtoCPlusPlusfest' already exists and is not an empty directory.\n",
      "fatal: destination path '/home/nahid/dataset/clones/Its-Kenta_____Raylib.c3' already exists and is not an empty directory.\n",
      "fatal: destination path '/home/nahid/dataset/clones/vishwassathish_____Basic-Railway-Reservation-System' already exists and is not an empty directory.\n",
      "fatal: destination path '/home/nahid/dataset/clones/0xAether_____ccowsay' already exists and is not an empty directory.\n",
      "fatal: destination path '/home/nahid/dataset/clones/Florencecoker_____alx-low_level_programming' already exists and is not an empty directory.\n",
      "fatal: destination path '/home/nahid/dataset/clones/mischasan_____util' already exists and is not an empty directory.\n",
      "fatal: destination path '/home/nahid/dataset/clones/morrismukiri_____C-Structure' already exists and is not an empty directory.\n",
      "fatal: destination path '/home/nahid/dataset/clones/balau_____nucleo_tests' already exists and is not an empty directory.\n",
      "fatal: destination path '/home/nahid/dataset/clones/santabasnet_____Programming-in-C' already exists and is not an empty directory.\n",
      "fatal: destination path '/home/nahid/dataset/clones/Oni-Jremi_____alx-low_level_programming' already exists and is not an empty directory.\n",
      "fatal: destination path '/home/nahid/dataset/clones/bingmann_____malloc_count' already exists and is not an empty directory.\n"
     ]
    },
    {
     "name": "stdout",
     "output_type": "stream",
     "text": [
      "Make DONE\n",
      "https://github.com/ChristeenTJose/Computer-Programming-in-C.git\n",
      "repo_name ChristeenTJose_____Computer-Programming-in-C\n",
      "git clone https://github.com/ChristeenTJose/Computer-Programming-in-C.git /home/nahid/dataset/clones/ChristeenTJose_____Computer-Programming-in-C \n",
      "Make DONE\n",
      "https://github.com/andremaravilha/discorde-tsp.git\n",
      "repo_name andremaravilha_____discorde-tsp\n",
      "git clone https://github.com/andremaravilha/discorde-tsp.git /home/nahid/dataset/clones/andremaravilha_____discorde-tsp \n",
      "Make DONE\n",
      "https://github.com/Cadesh/C-Programming-IPC144.git\n",
      "repo_name Cadesh_____C-Programming-IPC144\n",
      "git clone https://github.com/Cadesh/C-Programming-IPC144.git /home/nahid/dataset/clones/Cadesh_____C-Programming-IPC144 \n",
      "Make DONE\n",
      "https://github.com/rohit-takhar/system-programming-in-C.git\n",
      "repo_name rohit-takhar_____system-programming-in-C\n",
      "git clone https://github.com/rohit-takhar/system-programming-in-C.git /home/nahid/dataset/clones/rohit-takhar_____system-programming-in-C \n",
      "Make DONE\n",
      "https://github.com/freedom7341/Progman-x64.git\n",
      "repo_name freedom7341_____Progman-x64\n",
      "git clone https://github.com/freedom7341/Progman-x64.git /home/nahid/dataset/clones/freedom7341_____Progman-x64 \n",
      "Make DONE\n",
      "https://github.com/siddhu15798/Programming-languages-for-beginners.git\n",
      "repo_name siddhu15798_____Programming-languages-for-beginners\n",
      "git clone https://github.com/siddhu15798/Programming-languages-for-beginners.git /home/nahid/dataset/clones/siddhu15798_____Programming-languages-for-beginners \n",
      "Make DONE\n",
      "https://github.com/hzcx998/mclang.git\n",
      "repo_name hzcx998_____mclang\n",
      "git clone https://github.com/hzcx998/mclang.git /home/nahid/dataset/clones/hzcx998_____mclang \n",
      "Make DONE\n",
      "https://github.com/triforce/shhchat.git\n",
      "repo_name triforce_____shhchat\n",
      "git clone https://github.com/triforce/shhchat.git /home/nahid/dataset/clones/triforce_____shhchat \n",
      "Make DONE\n",
      "https://github.com/xanthium-enterprises/FT232-D2XX-Library-Programming.git\n",
      "repo_name xanthium-enterprises_____FT232-D2XX-Library-Programming\n",
      "git clone https://github.com/xanthium-enterprises/FT232-D2XX-Library-Programming.git /home/nahid/dataset/clones/xanthium-enterprises_____FT232-D2XX-Library-Programming \n",
      "Make DONE\n",
      "https://github.com/saurabhGr/Programming-Data-Structure-using-C.git\n",
      "repo_name saurabhGr_____Programming-Data-Structure-using-C\n",
      "git clone https://github.com/saurabhGr/Programming-Data-Structure-using-C.git /home/nahid/dataset/clones/saurabhGr_____Programming-Data-Structure-using-C \n",
      "Make DONE\n",
      "https://github.com/microsoft/checkedc-musl.git\n",
      "repo_name microsoft_____checkedc-musl\n",
      "git clone https://github.com/microsoft/checkedc-musl.git /home/nahid/dataset/clones/microsoft_____checkedc-musl \n",
      "Make DONE\n",
      "https://github.com/tovUsam/alx-low_level_programming-1.git\n",
      "repo_name tovUsam_____alx-low_level_programming-1\n",
      "git clone https://github.com/tovUsam/alx-low_level_programming-1.git /home/nahid/dataset/clones/tovUsam_____alx-low_level_programming-1 \n",
      "Make DONE\n",
      "https://github.com/ShmuelFine/COOP.git\n",
      "repo_name ShmuelFine_____COOP\n",
      "git clone https://github.com/ShmuelFine/COOP.git /home/nahid/dataset/clones/ShmuelFine_____COOP \n",
      "Make DONE\n",
      "https://github.com/p4p1/p4p1_revshell.git\n",
      "repo_name p4p1_____p4p1_revshell\n",
      "git clone https://github.com/p4p1/p4p1_revshell.git /home/nahid/dataset/clones/p4p1_____p4p1_revshell \n",
      "Make DONE\n",
      "https://github.com/nibblebits/Chip8InCCourse.git\n",
      "repo_name nibblebits_____Chip8InCCourse\n",
      "git clone https://github.com/nibblebits/Chip8InCCourse.git /home/nahid/dataset/clones/nibblebits_____Chip8InCCourse \n",
      "Make DONE\n",
      "https://github.com/VBrazhnik/Corewar.git\n",
      "repo_name VBrazhnik_____Corewar\n",
      "git clone https://github.com/VBrazhnik/Corewar.git /home/nahid/dataset/clones/VBrazhnik_____Corewar \n",
      "Make DONE\n",
      "https://github.com/jabbalaci/Programozas_1.git\n",
      "repo_name jabbalaci_____Programozas_1\n",
      "git clone https://github.com/jabbalaci/Programozas_1.git /home/nahid/dataset/clones/jabbalaci_____Programozas_1 \n",
      "Make DONE\n",
      "https://github.com/SteamGridDB/SGDBoop.git\n",
      "repo_name SteamGridDB_____SGDBoop\n",
      "git clone https://github.com/SteamGridDB/SGDBoop.git /home/nahid/dataset/clones/SteamGridDB_____SGDBoop \n",
      "Make DONE\n",
      "https://github.com/MichelVos/rpi_cpu_infoscreen.git\n",
      "repo_name MichelVos_____rpi_cpu_infoscreen\n",
      "git clone https://github.com/MichelVos/rpi_cpu_infoscreen.git /home/nahid/dataset/clones/MichelVos_____rpi_cpu_infoscreen \n",
      "Make DONE\n",
      "https://github.com/Apress/learn-to-program-w-c.git\n",
      "repo_name Apress_____learn-to-program-w-c\n",
      "git clone https://github.com/Apress/learn-to-program-w-c.git /home/nahid/dataset/clones/Apress_____learn-to-program-w-c \n",
      "Make DONE\n",
      "https://github.com/codybartfast/knr.git\n",
      "repo_name codybartfast_____knr\n",
      "git clone https://github.com/codybartfast/knr.git /home/nahid/dataset/clones/codybartfast_____knr \n",
      "Make DONE\n",
      "https://github.com/paulohrpinheiro/test-driven-learning.git\n",
      "repo_name paulohrpinheiro_____test-driven-learning\n",
      "git clone https://github.com/paulohrpinheiro/test-driven-learning.git /home/nahid/dataset/clones/paulohrpinheiro_____test-driven-learning \n",
      "Make DONE\n",
      "https://github.com/Blessedfriday007/alx-low_level_programming.git\n",
      "repo_name Blessedfriday007_____alx-low_level_programming\n",
      "git clone https://github.com/Blessedfriday007/alx-low_level_programming.git /home/nahid/dataset/clones/Blessedfriday007_____alx-low_level_programming \n",
      "Make DONE\n",
      "https://github.com/ednl/c.git\n",
      "repo_name ednl_____c\n",
      "git clone https://github.com/ednl/c.git /home/nahid/dataset/clones/ednl_____c \n",
      "Make DONE\n",
      "https://github.com/tanujkucp/basic_programming.git\n",
      "repo_name tanujkucp_____basic_programming\n",
      "git clone https://github.com/tanujkucp/basic_programming.git /home/nahid/dataset/clones/tanujkucp_____basic_programming \n",
      "Make DONE\n",
      "https://github.com/arturovictoriar/holbertonschool-low_level_programming.git\n",
      "repo_name arturovictoriar_____holbertonschool-low_level_programming\n",
      "git clone https://github.com/arturovictoriar/holbertonschool-low_level_programming.git /home/nahid/dataset/clones/arturovictoriar_____holbertonschool-low_level_programming \n",
      "Make DONE\n",
      "https://github.com/St-Pardon/alx-low_level_programming.git\n",
      "repo_name St-Pardon_____alx-low_level_programming\n",
      "git clone https://github.com/St-Pardon/alx-low_level_programming.git /home/nahid/dataset/clones/St-Pardon_____alx-low_level_programming \n",
      "Make DONE\n",
      "https://github.com/Ash515/C-Programming.git\n",
      "repo_name Ash515_____C-Programming\n",
      "git clone https://github.com/Ash515/C-Programming.git /home/nahid/dataset/clones/Ash515_____C-Programming \n",
      "Make DONE\n",
      "https://github.com/eqrion/dash.git\n",
      "repo_name eqrion_____dash\n",
      "git clone https://github.com/eqrion/dash.git /home/nahid/dataset/clones/eqrion_____dash \n",
      "Make DONE\n",
      "https://github.com/rafi007akhtar/c-algorithms.git\n",
      "repo_name rafi007akhtar_____c-algorithms\n",
      "git clone https://github.com/rafi007akhtar/c-algorithms.git /home/nahid/dataset/clones/rafi007akhtar_____c-algorithms \n",
      "Make DONE\n",
      "https://github.com/lowendbox/vzfree.git\n",
      "repo_name lowendbox_____vzfree\n",
      "git clone https://github.com/lowendbox/vzfree.git /home/nahid/dataset/clones/lowendbox_____vzfree \n"
     ]
    },
    {
     "name": "stderr",
     "output_type": "stream",
     "text": [
      "fatal: destination path '/home/nahid/dataset/clones/ChristeenTJose_____Computer-Programming-in-C' already exists and is not an empty directory.\n",
      "fatal: destination path '/home/nahid/dataset/clones/andremaravilha_____discorde-tsp' already exists and is not an empty directory.\n",
      "fatal: destination path '/home/nahid/dataset/clones/Cadesh_____C-Programming-IPC144' already exists and is not an empty directory.\n",
      "fatal: destination path '/home/nahid/dataset/clones/rohit-takhar_____system-programming-in-C' already exists and is not an empty directory.\n",
      "fatal: destination path '/home/nahid/dataset/clones/freedom7341_____Progman-x64' already exists and is not an empty directory.\n",
      "fatal: destination path '/home/nahid/dataset/clones/siddhu15798_____Programming-languages-for-beginners' already exists and is not an empty directory.\n",
      "fatal: destination path '/home/nahid/dataset/clones/hzcx998_____mclang' already exists and is not an empty directory.\n",
      "fatal: destination path '/home/nahid/dataset/clones/triforce_____shhchat' already exists and is not an empty directory.\n",
      "fatal: destination path '/home/nahid/dataset/clones/xanthium-enterprises_____FT232-D2XX-Library-Programming' already exists and is not an empty directory.\n",
      "fatal: destination path '/home/nahid/dataset/clones/saurabhGr_____Programming-Data-Structure-using-C' already exists and is not an empty directory.\n",
      "fatal: destination path '/home/nahid/dataset/clones/microsoft_____checkedc-musl' already exists and is not an empty directory.\n",
      "fatal: destination path '/home/nahid/dataset/clones/tovUsam_____alx-low_level_programming-1' already exists and is not an empty directory.\n",
      "fatal: destination path '/home/nahid/dataset/clones/ShmuelFine_____COOP' already exists and is not an empty directory.\n",
      "fatal: destination path '/home/nahid/dataset/clones/p4p1_____p4p1_revshell' already exists and is not an empty directory.\n",
      "fatal: destination path '/home/nahid/dataset/clones/nibblebits_____Chip8InCCourse' already exists and is not an empty directory.\n",
      "fatal: destination path '/home/nahid/dataset/clones/VBrazhnik_____Corewar' already exists and is not an empty directory.\n",
      "fatal: destination path '/home/nahid/dataset/clones/jabbalaci_____Programozas_1' already exists and is not an empty directory.\n",
      "fatal: destination path '/home/nahid/dataset/clones/SteamGridDB_____SGDBoop' already exists and is not an empty directory.\n",
      "fatal: destination path '/home/nahid/dataset/clones/MichelVos_____rpi_cpu_infoscreen' already exists and is not an empty directory.\n",
      "fatal: destination path '/home/nahid/dataset/clones/Apress_____learn-to-program-w-c' already exists and is not an empty directory.\n",
      "fatal: destination path '/home/nahid/dataset/clones/codybartfast_____knr' already exists and is not an empty directory.\n",
      "fatal: destination path '/home/nahid/dataset/clones/paulohrpinheiro_____test-driven-learning' already exists and is not an empty directory.\n",
      "fatal: destination path '/home/nahid/dataset/clones/Blessedfriday007_____alx-low_level_programming' already exists and is not an empty directory.\n",
      "fatal: destination path '/home/nahid/dataset/clones/ednl_____c' already exists and is not an empty directory.\n",
      "fatal: destination path '/home/nahid/dataset/clones/tanujkucp_____basic_programming' already exists and is not an empty directory.\n",
      "fatal: destination path '/home/nahid/dataset/clones/arturovictoriar_____holbertonschool-low_level_programming' already exists and is not an empty directory.\n",
      "fatal: destination path '/home/nahid/dataset/clones/St-Pardon_____alx-low_level_programming' already exists and is not an empty directory.\n",
      "fatal: destination path '/home/nahid/dataset/clones/Ash515_____C-Programming' already exists and is not an empty directory.\n",
      "fatal: destination path '/home/nahid/dataset/clones/eqrion_____dash' already exists and is not an empty directory.\n",
      "fatal: destination path '/home/nahid/dataset/clones/rafi007akhtar_____c-algorithms' already exists and is not an empty directory.\n",
      "fatal: destination path '/home/nahid/dataset/clones/lowendbox_____vzfree' already exists and is not an empty directory.\n"
     ]
    },
    {
     "name": "stdout",
     "output_type": "stream",
     "text": [
      "Make DONE\n",
      "https://github.com/freefoote/gpscorrelate.git\n",
      "repo_name freefoote_____gpscorrelate\n",
      "git clone https://github.com/freefoote/gpscorrelate.git /home/nahid/dataset/clones/freefoote_____gpscorrelate \n",
      "Make DONE\n",
      "https://github.com/yottaawesome/windows-system-programming-4th-edition.git\n",
      "repo_name yottaawesome_____windows-system-programming-4th-edition\n",
      "git clone https://github.com/yottaawesome/windows-system-programming-4th-edition.git /home/nahid/dataset/clones/yottaawesome_____windows-system-programming-4th-edition \n",
      "Make DONE\n",
      "https://github.com/UltiRequiem/structured-programming-platzi.git\n",
      "repo_name UltiRequiem_____structured-programming-platzi\n",
      "git clone https://github.com/UltiRequiem/structured-programming-platzi.git /home/nahid/dataset/clones/UltiRequiem_____structured-programming-platzi \n",
      "Make DONE\n",
      "https://github.com/JoelBobyM/S4-OS-LAB-KTU.git\n",
      "repo_name JoelBobyM_____S4-OS-LAB-KTU\n",
      "git clone https://github.com/JoelBobyM/S4-OS-LAB-KTU.git /home/nahid/dataset/clones/JoelBobyM_____S4-OS-LAB-KTU \n",
      "Make DONE\n",
      "https://github.com/Kakashiutano/psychic-octo-guacamole.git\n",
      "repo_name Kakashiutano_____psychic-octo-guacamole\n",
      "git clone https://github.com/Kakashiutano/psychic-octo-guacamole.git /home/nahid/dataset/clones/Kakashiutano_____psychic-octo-guacamole \n",
      "Make DONE\n",
      "https://github.com/MananOO12/C-Specialization-by-Duke.git\n",
      "repo_name MananOO12_____C-Specialization-by-Duke\n",
      "git clone https://github.com/MananOO12/C-Specialization-by-Duke.git /home/nahid/dataset/clones/MananOO12_____C-Specialization-by-Duke \n",
      "Make DONE\n",
      "https://github.com/STU-IT/Basis-C-Hello.git\n",
      "repo_name STU-IT_____Basis-C-Hello\n",
      "git clone https://github.com/STU-IT/Basis-C-Hello.git /home/nahid/dataset/clones/STU-IT_____Basis-C-Hello \n",
      "Make DONE\n",
      "https://github.com/c3d/recorder.git\n",
      "repo_name c3d_____recorder\n",
      "git clone https://github.com/c3d/recorder.git /home/nahid/dataset/clones/c3d_____recorder \n",
      "Make DONE\n",
      "https://github.com/chanchann/ByDoing.git\n",
      "repo_name chanchann_____ByDoing\n",
      "git clone https://github.com/chanchann/ByDoing.git /home/nahid/dataset/clones/chanchann_____ByDoing \n",
      "Make DONE\n",
      "https://github.com/nvs-abhilash/FunctionLibrary.git\n",
      "repo_name nvs-abhilash_____FunctionLibrary\n",
      "git clone https://github.com/nvs-abhilash/FunctionLibrary.git /home/nahid/dataset/clones/nvs-abhilash_____FunctionLibrary \n",
      "Make DONE\n",
      "https://github.com/nickrockets/C.git\n",
      "repo_name nickrockets_____C\n",
      "git clone https://github.com/nickrockets/C.git /home/nahid/dataset/clones/nickrockets_____C \n",
      "Make DONE\n",
      "https://github.com/chandan5569/Computer-Network-Lab---KIIT-2020-2021-.git\n",
      "repo_name chandan5569_____Computer-Network-Lab---KIIT-2020-2021-\n",
      "git clone https://github.com/chandan5569/Computer-Network-Lab---KIIT-2020-2021-.git /home/nahid/dataset/clones/chandan5569_____Computer-Network-Lab---KIIT-2020-2021- \n",
      "Make DONE\n",
      "https://github.com/streetdogg/ds_and_algorithms.git\n",
      "repo_name streetdogg_____ds_and_algorithms\n",
      "git clone https://github.com/streetdogg/ds_and_algorithms.git /home/nahid/dataset/clones/streetdogg_____ds_and_algorithms \n",
      "Make DONE\n",
      "https://github.com/IanFinlayson/png2gba.git\n",
      "repo_name IanFinlayson_____png2gba\n",
      "git clone https://github.com/IanFinlayson/png2gba.git /home/nahid/dataset/clones/IanFinlayson_____png2gba \n",
      "Make DONE\n",
      "https://github.com/CODEmator/calender-c.git\n",
      "repo_name CODEmator_____calender-c\n",
      "git clone https://github.com/CODEmator/calender-c.git /home/nahid/dataset/clones/CODEmator_____calender-c \n",
      "Make DONE\n",
      "https://github.com/krishnakantamondal/cupb.git\n",
      "repo_name krishnakantamondal_____cupb\n",
      "git clone https://github.com/krishnakantamondal/cupb.git /home/nahid/dataset/clones/krishnakantamondal_____cupb \n",
      "Make DONE\n",
      "https://github.com/Scooter865/Intro-Programming-C.git\n",
      "repo_name Scooter865_____Intro-Programming-C\n",
      "git clone https://github.com/Scooter865/Intro-Programming-C.git /home/nahid/dataset/clones/Scooter865_____Intro-Programming-C \n",
      "Make DONE\n",
      "https://github.com/PaulBatchelor/sndkit.git\n",
      "repo_name PaulBatchelor_____sndkit\n",
      "git clone https://github.com/PaulBatchelor/sndkit.git /home/nahid/dataset/clones/PaulBatchelor_____sndkit \n",
      "Make DONE\n",
      "https://github.com/PC-Ngumoha/alx-low_level_programming.git\n",
      "repo_name PC-Ngumoha_____alx-low_level_programming\n",
      "git clone https://github.com/PC-Ngumoha/alx-low_level_programming.git /home/nahid/dataset/clones/PC-Ngumoha_____alx-low_level_programming \n",
      "Make DONE\n",
      "https://github.com/mlkv52git/sibsutis_cuda_course.git\n",
      "repo_name mlkv52git_____sibsutis_cuda_course\n",
      "git clone https://github.com/mlkv52git/sibsutis_cuda_course.git /home/nahid/dataset/clones/mlkv52git_____sibsutis_cuda_course \n",
      "Make DONE\n",
      "https://github.com/elhaw/c-how-to-program.git\n",
      "repo_name elhaw_____c-how-to-program\n",
      "git clone https://github.com/elhaw/c-how-to-program.git /home/nahid/dataset/clones/elhaw_____c-how-to-program \n",
      "Make DONE\n",
      "https://github.com/PierreBeaujuge/holbertonschool-low_level_programming.git\n",
      "repo_name PierreBeaujuge_____holbertonschool-low_level_programming\n",
      "git clone https://github.com/PierreBeaujuge/holbertonschool-low_level_programming.git /home/nahid/dataset/clones/PierreBeaujuge_____holbertonschool-low_level_programming \n",
      "Make DONE\n",
      "https://github.com/Keenmuhammad/alx-low_level_programming.git\n",
      "repo_name Keenmuhammad_____alx-low_level_programming\n",
      "git clone https://github.com/Keenmuhammad/alx-low_level_programming.git /home/nahid/dataset/clones/Keenmuhammad_____alx-low_level_programming \n",
      "Make DONE\n",
      "https://github.com/nateware/launch-daemon.git\n",
      "repo_name nateware_____launch-daemon\n",
      "git clone https://github.com/nateware/launch-daemon.git /home/nahid/dataset/clones/nateware_____launch-daemon \n",
      "Make DONE\n",
      "https://github.com/Apress/practical-numerical-c-programming.git\n",
      "repo_name Apress_____practical-numerical-c-programming\n",
      "git clone https://github.com/Apress/practical-numerical-c-programming.git /home/nahid/dataset/clones/Apress_____practical-numerical-c-programming \n",
      "Make DONE\n",
      "https://github.com/tanmaya0102/Compiler-Design-Programs.git\n",
      "repo_name tanmaya0102_____Compiler-Design-Programs\n",
      "git clone https://github.com/tanmaya0102/Compiler-Design-Programs.git /home/nahid/dataset/clones/tanmaya0102_____Compiler-Design-Programs \n",
      "Make DONE\n",
      "https://github.com/a7r3/CollegeStuffs.git\n",
      "repo_name a7r3_____CollegeStuffs\n",
      "git clone https://github.com/a7r3/CollegeStuffs.git /home/nahid/dataset/clones/a7r3_____CollegeStuffs \n",
      "Make DONE\n",
      "https://github.com/luluopt/UIUC-CS241.git\n",
      "repo_name luluopt_____UIUC-CS241\n",
      "git clone https://github.com/luluopt/UIUC-CS241.git /home/nahid/dataset/clones/luluopt_____UIUC-CS241 \n",
      "Make DONE\n",
      "https://github.com/njoroge-s/alx-low_level_programming.git\n",
      "repo_name njoroge-s_____alx-low_level_programming\n",
      "git clone https://github.com/njoroge-s/alx-low_level_programming.git /home/nahid/dataset/clones/njoroge-s_____alx-low_level_programming \n",
      "Make DONE\n",
      "https://github.com/dmartinezgarcia/C-Programming-Examples.git\n",
      "repo_name dmartinezgarcia_____C-Programming-Examples\n",
      "git clone https://github.com/dmartinezgarcia/C-Programming-Examples.git /home/nahid/dataset/clones/dmartinezgarcia_____C-Programming-Examples \n",
      "Make DONE\n",
      "https://github.com/SarahMac11/CS4520-Operating_Systems.git\n",
      "repo_name SarahMac11_____CS4520-Operating_Systems\n",
      "git clone https://github.com/SarahMac11/CS4520-Operating_Systems.git /home/nahid/dataset/clones/SarahMac11_____CS4520-Operating_Systems \n"
     ]
    },
    {
     "name": "stderr",
     "output_type": "stream",
     "text": [
      "fatal: destination path '/home/nahid/dataset/clones/freefoote_____gpscorrelate' already exists and is not an empty directory.\n",
      "fatal: destination path '/home/nahid/dataset/clones/yottaawesome_____windows-system-programming-4th-edition' already exists and is not an empty directory.\n",
      "fatal: destination path '/home/nahid/dataset/clones/UltiRequiem_____structured-programming-platzi' already exists and is not an empty directory.\n",
      "fatal: destination path '/home/nahid/dataset/clones/JoelBobyM_____S4-OS-LAB-KTU' already exists and is not an empty directory.\n",
      "fatal: destination path '/home/nahid/dataset/clones/Kakashiutano_____psychic-octo-guacamole' already exists and is not an empty directory.\n",
      "fatal: destination path '/home/nahid/dataset/clones/MananOO12_____C-Specialization-by-Duke' already exists and is not an empty directory.\n",
      "fatal: destination path '/home/nahid/dataset/clones/STU-IT_____Basis-C-Hello' already exists and is not an empty directory.\n",
      "fatal: destination path '/home/nahid/dataset/clones/c3d_____recorder' already exists and is not an empty directory.\n",
      "fatal: destination path '/home/nahid/dataset/clones/chanchann_____ByDoing' already exists and is not an empty directory.\n",
      "fatal: destination path '/home/nahid/dataset/clones/nvs-abhilash_____FunctionLibrary' already exists and is not an empty directory.\n",
      "fatal: destination path '/home/nahid/dataset/clones/nickrockets_____C' already exists and is not an empty directory.\n",
      "fatal: destination path '/home/nahid/dataset/clones/chandan5569_____Computer-Network-Lab---KIIT-2020-2021-' already exists and is not an empty directory.\n",
      "fatal: destination path '/home/nahid/dataset/clones/streetdogg_____ds_and_algorithms' already exists and is not an empty directory.\n",
      "fatal: destination path '/home/nahid/dataset/clones/IanFinlayson_____png2gba' already exists and is not an empty directory.\n",
      "fatal: destination path '/home/nahid/dataset/clones/CODEmator_____calender-c' already exists and is not an empty directory.\n",
      "fatal: destination path '/home/nahid/dataset/clones/krishnakantamondal_____cupb' already exists and is not an empty directory.\n",
      "fatal: destination path '/home/nahid/dataset/clones/Scooter865_____Intro-Programming-C' already exists and is not an empty directory.\n",
      "fatal: destination path '/home/nahid/dataset/clones/PaulBatchelor_____sndkit' already exists and is not an empty directory.\n",
      "fatal: destination path '/home/nahid/dataset/clones/PC-Ngumoha_____alx-low_level_programming' already exists and is not an empty directory.\n",
      "fatal: destination path '/home/nahid/dataset/clones/mlkv52git_____sibsutis_cuda_course' already exists and is not an empty directory.\n",
      "fatal: destination path '/home/nahid/dataset/clones/elhaw_____c-how-to-program' already exists and is not an empty directory.\n",
      "fatal: destination path '/home/nahid/dataset/clones/PierreBeaujuge_____holbertonschool-low_level_programming' already exists and is not an empty directory.\n",
      "fatal: destination path '/home/nahid/dataset/clones/Keenmuhammad_____alx-low_level_programming' already exists and is not an empty directory.\n",
      "fatal: destination path '/home/nahid/dataset/clones/nateware_____launch-daemon' already exists and is not an empty directory.\n",
      "fatal: destination path '/home/nahid/dataset/clones/Apress_____practical-numerical-c-programming' already exists and is not an empty directory.\n",
      "fatal: destination path '/home/nahid/dataset/clones/tanmaya0102_____Compiler-Design-Programs' already exists and is not an empty directory.\n",
      "fatal: destination path '/home/nahid/dataset/clones/a7r3_____CollegeStuffs' already exists and is not an empty directory.\n",
      "fatal: destination path '/home/nahid/dataset/clones/luluopt_____UIUC-CS241' already exists and is not an empty directory.\n",
      "fatal: destination path '/home/nahid/dataset/clones/njoroge-s_____alx-low_level_programming' already exists and is not an empty directory.\n",
      "fatal: destination path '/home/nahid/dataset/clones/dmartinezgarcia_____C-Programming-Examples' already exists and is not an empty directory.\n",
      "fatal: destination path '/home/nahid/dataset/clones/SarahMac11_____CS4520-Operating_Systems' already exists and is not an empty directory.\n"
     ]
    },
    {
     "name": "stdout",
     "output_type": "stream",
     "text": [
      "Make DONE\n",
      "https://github.com/xuehao/Roberts.CS1.C.git\n",
      "repo_name xuehao_____Roberts.CS1.C\n",
      "git clone https://github.com/xuehao/Roberts.CS1.C.git /home/nahid/dataset/clones/xuehao_____Roberts.CS1.C \n",
      "Make DONE\n",
      "https://github.com/pl3onasm/Imperative-programming.git\n",
      "repo_name pl3onasm_____Imperative-programming\n",
      "git clone https://github.com/pl3onasm/Imperative-programming.git /home/nahid/dataset/clones/pl3onasm_____Imperative-programming \n",
      "Make DONE\n",
      "https://github.com/mauryquijada/image-manipulation-in-c.git\n",
      "repo_name mauryquijada_____image-manipulation-in-c\n",
      "git clone https://github.com/mauryquijada/image-manipulation-in-c.git /home/nahid/dataset/clones/mauryquijada_____image-manipulation-in-c \n",
      "Make DONE\n",
      "https://github.com/DivyanshuKandpal/c-programming.git\n",
      "repo_name DivyanshuKandpal_____c-programming\n",
      "git clone https://github.com/DivyanshuKandpal/c-programming.git /home/nahid/dataset/clones/DivyanshuKandpal_____c-programming \n",
      "Make DONE\n",
      "https://github.com/hellopatrick/cuda-samples.git\n",
      "repo_name hellopatrick_____cuda-samples\n",
      "git clone https://github.com/hellopatrick/cuda-samples.git /home/nahid/dataset/clones/hellopatrick_____cuda-samples \n",
      "Make DONE\n",
      "https://github.com/mrpythonist/ProgrammingFundamentals.git\n",
      "repo_name mrpythonist_____ProgrammingFundamentals\n",
      "git clone https://github.com/mrpythonist/ProgrammingFundamentals.git /home/nahid/dataset/clones/mrpythonist_____ProgrammingFundamentals \n",
      "Make DONE\n",
      "https://github.com/mustafazaimoglu/C.git\n",
      "repo_name mustafazaimoglu_____C\n",
      "git clone https://github.com/mustafazaimoglu/C.git /home/nahid/dataset/clones/mustafazaimoglu_____C \n",
      "Make DONE\n",
      "https://github.com/IamNaeto/alx-low_level_programming.git\n",
      "repo_name IamNaeto_____alx-low_level_programming\n",
      "git clone https://github.com/IamNaeto/alx-low_level_programming.git /home/nahid/dataset/clones/IamNaeto_____alx-low_level_programming \n",
      "Make DONE\n",
      "https://github.com/yashvi2001/DSA.git\n",
      "repo_name yashvi2001_____DSA\n",
      "git clone https://github.com/yashvi2001/DSA.git /home/nahid/dataset/clones/yashvi2001_____DSA \n"
     ]
    },
    {
     "name": "stderr",
     "output_type": "stream",
     "text": [
      "fatal: destination path '/home/nahid/dataset/clones/xuehao_____Roberts.CS1.C' already exists and is not an empty directory.\n",
      "fatal: destination path '/home/nahid/dataset/clones/pl3onasm_____Imperative-programming' already exists and is not an empty directory.\n",
      "fatal: destination path '/home/nahid/dataset/clones/mauryquijada_____image-manipulation-in-c' already exists and is not an empty directory.\n",
      "fatal: destination path '/home/nahid/dataset/clones/DivyanshuKandpal_____c-programming' already exists and is not an empty directory.\n",
      "fatal: destination path '/home/nahid/dataset/clones/hellopatrick_____cuda-samples' already exists and is not an empty directory.\n",
      "fatal: destination path '/home/nahid/dataset/clones/mrpythonist_____ProgrammingFundamentals' already exists and is not an empty directory.\n",
      "fatal: destination path '/home/nahid/dataset/clones/mustafazaimoglu_____C' already exists and is not an empty directory.\n",
      "fatal: destination path '/home/nahid/dataset/clones/IamNaeto_____alx-low_level_programming' already exists and is not an empty directory.\n",
      "Cloning into '/home/nahid/dataset/clones/yashvi2001_____DSA'...\n"
     ]
    },
    {
     "name": "stdout",
     "output_type": "stream",
     "text": [
      "Make DONE\n"
     ]
    }
   ],
   "source": [
    "for repo_link in repos:\n",
    "    print(repo_link)\n",
    "    repo_name = repo_link.split('github.com/')[1].split('.git')[0].replace('/','_____')\n",
    "    print('repo_name',repo_name)\n",
    "    clone_dir = os.path.join(clones_path,repo_name)\n",
    "    makeCommand = 'git clone {} {} '.format(repo_link , clone_dir)\n",
    "    print(makeCommand)\n",
    "    try:\n",
    "        process = subprocess.Popen(makeCommand, shell=True, start_new_session=True)\n",
    "        process.wait(timeout=timeout_s)\n",
    "        print(\"Make DONE\")\n",
    "    except subprocess.TimeoutExpired:\n",
    "        print(f'Timeout for # {makeCommand}  # ({timeout_s}s) expired')\n",
    "        os.killpg(os.getpgid(process.pid), signal.SIGTERM)\n",
    "    "
   ]
  },
  {
   "cell_type": "code",
   "execution_count": 7,
   "id": "393c6880",
   "metadata": {},
   "outputs": [
    {
     "data": {
      "text/plain": [
       "1000"
      ]
     },
     "execution_count": 7,
     "metadata": {},
     "output_type": "execute_result"
    }
   ],
   "source": [
    "len(repos)"
   ]
  },
  {
   "cell_type": "code",
   "execution_count": 3,
   "id": "20ce4763",
   "metadata": {},
   "outputs": [
    {
     "name": "stdout",
     "output_type": "stream",
     "text": [
      "0\n",
      "0\n",
      "0\n",
      "0\n",
      "0\n",
      "0\n",
      "0\n",
      "0\n",
      "0\n",
      "0\n",
      "0\n",
      "0\n",
      "0\n",
      "0\n",
      "0\n",
      "0\n",
      "0\n",
      "0\n",
      "0\n",
      "0\n",
      "0\n",
      "0\n",
      "0\n",
      "0\n",
      "0\n",
      "0\n",
      "0\n",
      "0\n",
      "0\n",
      "0\n",
      "0\n",
      "0\n",
      "0\n",
      "0\n",
      "0\n",
      "0\n",
      "0\n",
      "0\n",
      "0\n",
      "0\n",
      "0\n",
      "0\n",
      "0\n",
      "0\n",
      "0\n",
      "0\n",
      "0\n",
      "0\n",
      "200\n",
      "400\n",
      "400\n",
      "600\n",
      "600\n",
      "600\n",
      "600\n",
      "600\n",
      "600\n",
      "600\n",
      "800\n",
      "800\n",
      "800\n",
      "800\n",
      "800\n",
      "800\n",
      "800\n",
      "800\n",
      "800\n",
      "1000\n",
      "1000\n",
      "1000\n",
      "1000\n",
      "1000\n",
      "1200\n",
      "1200\n",
      "1400\n",
      "1600\n",
      "1800\n",
      "1800\n",
      "1800\n",
      "1800\n",
      "1800\n",
      "1800\n",
      "1800\n",
      "1800\n",
      "1800\n",
      "1800\n",
      "2000\n",
      "2000\n",
      "2000\n",
      "2000\n",
      "2000\n",
      "2200\n",
      "2200\n",
      "2200\n",
      "2200\n",
      "2200\n",
      "2200\n",
      "2200\n",
      "2200\n",
      "2200\n",
      "2200\n",
      "2200\n",
      "2200\n",
      "2200\n",
      "2200\n",
      "2200\n",
      "2200\n",
      "2200\n",
      "2200\n",
      "2200\n",
      "2200\n",
      "2200\n",
      "2200\n",
      "2200\n",
      "2200\n",
      "2200\n",
      "2200\n",
      "2200\n",
      "2200\n",
      "2200\n",
      "2200\n",
      "2200\n",
      "2200\n",
      "2200\n",
      "2200\n",
      "2200\n",
      "2200\n",
      "2200\n",
      "2200\n",
      "2200\n",
      "2200\n",
      "2200\n",
      "2200\n",
      "2200\n",
      "2200\n",
      "2200\n",
      "2200\n",
      "2200\n",
      "2200\n",
      "2200\n",
      "2200\n",
      "2200\n",
      "2200\n",
      "2200\n",
      "2200\n",
      "2200\n",
      "2200\n",
      "2200\n",
      "2200\n",
      "2200\n",
      "2200\n",
      "2200\n",
      "2200\n",
      "2200\n",
      "2200\n",
      "2200\n",
      "2200\n",
      "2200\n",
      "2200\n",
      "2200\n",
      "2200\n",
      "2200\n",
      "2200\n",
      "2200\n",
      "2200\n",
      "2200\n",
      "2200\n",
      "2200\n",
      "2200\n",
      "2200\n",
      "2200\n",
      "2200\n",
      "2200\n",
      "2200\n",
      "2200\n",
      "2200\n",
      "2200\n",
      "2200\n",
      "2200\n",
      "2200\n",
      "2200\n",
      "2200\n",
      "2200\n",
      "2200\n",
      "2200\n",
      "2200\n",
      "2200\n",
      "2200\n",
      "2200\n",
      "2200\n",
      "2200\n",
      "2200\n",
      "2200\n",
      "2200\n",
      "2200\n",
      "2200\n",
      "2200\n",
      "2200\n",
      "2200\n",
      "2200\n",
      "2200\n",
      "2200\n",
      "2200\n",
      "2200\n",
      "2200\n",
      "2200\n",
      "2200\n",
      "2200\n",
      "2200\n",
      "2200\n",
      "2200\n",
      "2200\n",
      "2200\n",
      "2200\n",
      "2200\n",
      "2200\n",
      "2200\n",
      "2200\n",
      "2200\n",
      "2200\n",
      "2200\n",
      "2200\n",
      "2200\n",
      "2200\n",
      "2400\n",
      "2600\n",
      "2600\n",
      "2800\n",
      "2800\n",
      "2800\n",
      "3000\n",
      "3200\n",
      "3400\n",
      "3600\n",
      "3800\n",
      "3800\n",
      "3800\n",
      "4000\n",
      "4200\n",
      "4200\n",
      "4200\n",
      "4200\n",
      "4200\n",
      "4200\n",
      "4200\n",
      "4200\n",
      "4200\n",
      "4200\n",
      "4200\n",
      "4200\n",
      "4200\n",
      "4200\n",
      "4200\n",
      "4200\n",
      "4200\n",
      "4400\n",
      "4600\n",
      "4600\n",
      "4600\n",
      "4600\n",
      "4800\n",
      "5000\n",
      "5000\n",
      "5200\n",
      "5400\n",
      "5400\n",
      "5600\n",
      "5800\n",
      "5800\n",
      "5800\n",
      "5800\n",
      "6000\n",
      "6200\n",
      "6400\n",
      "6400\n",
      "6400\n",
      "6400\n",
      "6600\n",
      "6800\n",
      "7000\n",
      "7200\n",
      "7400\n",
      "7400\n",
      "7600\n",
      "7600\n",
      "7600\n",
      "7800\n",
      "8000\n",
      "8200\n",
      "8200\n",
      "8200\n",
      "8200\n",
      "8200\n",
      "8200\n",
      "8400\n",
      "8600\n",
      "8800\n",
      "8800\n",
      "8800\n",
      "8800\n",
      "8800\n",
      "9000\n",
      "9000\n",
      "9200\n",
      "9200\n",
      "9200\n",
      "9200\n",
      "9400\n",
      "9400\n",
      "9400\n",
      "9600\n",
      "9800\n",
      "10000\n",
      "10000\n",
      "10200\n",
      "10200\n",
      "10200\n",
      "10400\n",
      "10400\n",
      "10400\n",
      "10600\n",
      "10800\n",
      "10800\n",
      "10800\n",
      "10800\n",
      "10800\n",
      "10800\n",
      "10800\n",
      "10800\n",
      "10800\n",
      "10800\n",
      "10800\n",
      "10800\n",
      "10800\n",
      "10800\n",
      "10800\n",
      "10800\n",
      "10800\n",
      "10800\n",
      "10800\n",
      "10800\n",
      "10800\n",
      "10800\n",
      "10800\n",
      "11000\n",
      "11000\n",
      "11000\n",
      "11000\n",
      "11000\n",
      "11000\n",
      "11000\n",
      "11000\n",
      "11000\n",
      "11000\n",
      "11000\n",
      "11000\n",
      "11000\n",
      "11000\n",
      "11000\n",
      "11000\n",
      "11000\n",
      "11000\n",
      "11000\n",
      "11000\n",
      "11000\n",
      "11000\n",
      "11000\n",
      "11000\n",
      "11000\n",
      "11000\n",
      "11000\n",
      "11000\n",
      "11000\n",
      "11000\n",
      "11000\n",
      "11000\n",
      "11000\n",
      "11000\n",
      "11000\n",
      "11000\n",
      "11000\n",
      "11000\n",
      "11000\n",
      "11000\n",
      "11000\n",
      "11000\n",
      "11000\n",
      "11000\n",
      "11000\n",
      "11000\n",
      "11000\n",
      "11000\n",
      "11000\n",
      "11000\n",
      "11000\n",
      "11000\n",
      "11000\n",
      "11000\n",
      "11000\n",
      "11000\n",
      "11000\n",
      "11000\n",
      "11000\n",
      "11000\n",
      "11000\n",
      "11000\n",
      "11000\n",
      "11000\n",
      "11000\n",
      "11000\n",
      "11000\n",
      "11000\n",
      "11000\n",
      "11000\n",
      "11000\n",
      "11000\n",
      "11000\n",
      "11000\n",
      "11000\n",
      "11000\n",
      "11000\n",
      "11000\n",
      "11000\n",
      "11000\n",
      "11000\n",
      "11000\n",
      "11000\n",
      "11000\n",
      "11000\n",
      "11000\n",
      "11000\n",
      "11000\n",
      "11000\n",
      "11000\n",
      "11000\n",
      "11000\n",
      "11000\n",
      "11000\n",
      "11000\n",
      "11000\n",
      "11000\n",
      "11000\n",
      "11000\n",
      "11000\n",
      "11000\n",
      "11000\n",
      "11000\n",
      "11000\n",
      "11000\n",
      "11000\n",
      "11000\n",
      "11000\n",
      "11000\n",
      "11000\n",
      "11000\n",
      "11000\n",
      "11000\n",
      "11000\n",
      "11000\n",
      "11000\n",
      "11000\n",
      "11000\n",
      "11000\n",
      "11000\n",
      "11000\n",
      "11000\n",
      "11000\n",
      "11000\n",
      "11000\n",
      "11000\n",
      "11000\n",
      "11000\n",
      "11000\n",
      "11000\n",
      "11000\n",
      "11000\n",
      "11000\n",
      "11000\n",
      "11000\n",
      "11000\n",
      "11000\n",
      "11000\n",
      "11000\n",
      "11000\n",
      "11000\n",
      "11000\n",
      "11000\n",
      "11000\n",
      "11000\n",
      "11000\n",
      "11000\n",
      "11000\n",
      "11000\n",
      "11000\n",
      "11000\n",
      "11000\n",
      "11000\n",
      "11000\n",
      "11000\n",
      "11000\n",
      "11000\n",
      "11000\n",
      "11000\n",
      "11000\n",
      "11000\n",
      "11000\n",
      "11000\n",
      "11000\n",
      "11000\n",
      "11000\n",
      "11000\n",
      "11000\n",
      "11000\n",
      "11000\n",
      "11000\n",
      "11000\n",
      "11000\n",
      "11000\n",
      "11000\n",
      "11000\n",
      "11000\n",
      "11000\n",
      "11000\n",
      "11000\n",
      "11000\n",
      "11000\n",
      "11000\n",
      "11000\n",
      "11000\n",
      "11000\n",
      "11000\n",
      "11000\n",
      "11000\n",
      "11000\n",
      "11000\n",
      "11000\n",
      "11000\n",
      "11000\n",
      "11000\n",
      "11000\n",
      "11000\n",
      "11000\n",
      "11000\n",
      "11000\n",
      "11000\n",
      "11000\n",
      "11000\n",
      "11000\n",
      "11000\n",
      "11000\n",
      "11000\n",
      "11000\n",
      "11000\n",
      "11000\n",
      "11000\n",
      "11000\n",
      "11000\n",
      "11000\n",
      "11000\n",
      "11000\n",
      "11000\n",
      "11000\n",
      "11000\n",
      "11000\n",
      "11000\n",
      "11000\n",
      "11000\n",
      "11000\n",
      "11000\n",
      "11000\n",
      "11000\n",
      "11000\n",
      "11000\n",
      "11000\n",
      "11000\n",
      "11000\n",
      "11000\n",
      "11000\n",
      "11000\n",
      "11000\n",
      "11000\n",
      "11000\n",
      "11000\n",
      "11000\n",
      "11000\n",
      "11000\n",
      "11000\n",
      "11000\n",
      "11000\n",
      "11000\n",
      "11000\n",
      "11000\n",
      "11000\n",
      "11000\n",
      "11000\n",
      "11000\n",
      "11000\n",
      "11000\n",
      "11000\n",
      "11000\n",
      "11000\n",
      "11000\n",
      "11000\n",
      "11000\n",
      "11000\n",
      "11000\n",
      "11000\n",
      "11000\n",
      "11000\n",
      "11000\n",
      "11000\n",
      "11000\n",
      "11000\n",
      "11000\n",
      "11000\n",
      "11000\n",
      "11000\n",
      "11000\n",
      "11000\n",
      "11000\n",
      "11000\n",
      "11000\n",
      "11000\n",
      "11000\n",
      "11000\n",
      "11000\n",
      "11000\n",
      "11000\n",
      "11000\n",
      "11000\n",
      "11000\n",
      "11000\n",
      "11000\n",
      "11000\n",
      "11000\n",
      "11000\n",
      "11000\n",
      "11000\n",
      "11000\n",
      "11000\n",
      "11000\n",
      "11000\n",
      "11000\n",
      "11000\n",
      "11000\n",
      "11000\n",
      "11000\n",
      "11000\n",
      "11000\n",
      "11000\n",
      "11000\n",
      "11000\n",
      "11000\n",
      "11000\n",
      "11000\n",
      "11000\n",
      "11000\n",
      "11000\n",
      "11000\n",
      "11000\n",
      "11000\n",
      "11000\n",
      "11000\n",
      "11000\n",
      "11000\n",
      "11000\n",
      "11000\n",
      "11000\n",
      "11000\n",
      "11000\n",
      "11000\n",
      "11000\n",
      "11000\n",
      "11000\n",
      "11000\n",
      "11000\n",
      "11000\n",
      "11000\n",
      "11000\n",
      "11000\n",
      "11000\n",
      "11000\n",
      "11000\n",
      "11000\n",
      "11000\n",
      "11000\n",
      "11000\n",
      "11000\n",
      "11000\n",
      "11000\n",
      "11000\n",
      "11000\n",
      "11000\n",
      "11000\n",
      "11000\n",
      "11000\n",
      "11000\n",
      "11000\n",
      "11000\n",
      "11000\n",
      "11000\n",
      "11000\n",
      "11000\n",
      "11000\n",
      "11000\n",
      "11000\n",
      "11000\n",
      "11000\n",
      "11000\n",
      "11000\n",
      "11000\n",
      "11000\n",
      "11000\n",
      "11000\n",
      "11000\n",
      "11000\n",
      "11000\n",
      "11000\n",
      "11000\n",
      "11000\n",
      "11000\n",
      "11000\n",
      "11000\n",
      "11000\n",
      "11000\n",
      "11000\n",
      "11000\n",
      "11000\n",
      "11000\n",
      "11000\n",
      "11000\n",
      "11000\n",
      "11000\n",
      "11000\n",
      "11000\n",
      "11000\n",
      "11000\n",
      "11000\n",
      "11000\n",
      "11000\n",
      "11000\n",
      "11000\n",
      "11000\n",
      "11000\n",
      "11000\n",
      "11000\n",
      "11000\n",
      "11000\n",
      "11000\n",
      "11000\n",
      "11000\n",
      "11000\n",
      "11000\n",
      "11000\n",
      "11000\n",
      "11000\n",
      "11000\n",
      "11000\n",
      "11000\n",
      "11000\n",
      "11000\n",
      "11000\n",
      "11000\n",
      "11000\n",
      "11000\n",
      "11000\n",
      "11000\n",
      "11000\n",
      "11000\n",
      "11000\n",
      "11000\n",
      "11000\n",
      "11000\n",
      "11000\n",
      "11000\n",
      "11000\n",
      "11000\n",
      "11000\n",
      "11000\n",
      "11000\n",
      "11000\n",
      "11000\n",
      "11000\n",
      "11000\n",
      "11000\n",
      "11000\n",
      "11000\n",
      "11000\n",
      "11000\n",
      "11000\n",
      "11000\n",
      "11000\n",
      "11000\n",
      "11000\n",
      "11000\n",
      "11000\n",
      "11000\n",
      "11000\n",
      "11000\n",
      "11000\n",
      "11000\n",
      "11000\n",
      "11000\n",
      "11000\n",
      "11000\n",
      "11000\n",
      "11000\n",
      "11000\n",
      "11000\n",
      "11000\n",
      "11000\n",
      "11000\n",
      "11000\n",
      "11000\n",
      "11000\n",
      "11000\n",
      "11000\n",
      "11000\n",
      "11000\n",
      "11000\n",
      "11000\n",
      "11000\n",
      "11000\n",
      "11000\n",
      "11000\n",
      "11000\n",
      "11000\n",
      "11000\n",
      "11000\n",
      "11000\n",
      "11000\n",
      "11000\n",
      "11000\n",
      "11000\n",
      "11000\n",
      "11000\n",
      "11000\n",
      "11000\n",
      "11000\n",
      "11000\n",
      "11000\n",
      "11000\n",
      "11000\n",
      "11000\n",
      "11000\n",
      "11000\n",
      "11000\n",
      "11000\n",
      "11000\n",
      "11000\n",
      "11000\n",
      "11000\n",
      "11000\n",
      "11000\n",
      "11000\n",
      "11000\n",
      "11000\n",
      "11000\n",
      "11000\n",
      "11000\n",
      "11000\n",
      "11000\n",
      "11000\n",
      "11000\n",
      "11200\n",
      "11200\n",
      "11400\n",
      "11600\n",
      "11600\n",
      "11600\n",
      "11600\n",
      "11600\n",
      "11600\n",
      "11600\n",
      "11600\n",
      "11600\n",
      "11600\n",
      "11600\n",
      "11600\n",
      "11600\n",
      "11600\n",
      "11600\n",
      "11600\n",
      "11600\n",
      "11600\n",
      "11600\n",
      "11600\n",
      "11600\n",
      "11600\n",
      "11600\n",
      "11600\n",
      "11600\n",
      "11600\n",
      "11600\n",
      "11600\n",
      "11600\n",
      "11800\n",
      "12000\n",
      "12000\n",
      "12000\n",
      "12200\n",
      "12200\n",
      "12400\n",
      "12400\n",
      "12600\n",
      "12600\n",
      "12600\n",
      "12600\n",
      "12600\n",
      "12600\n",
      "12600\n",
      "12600\n",
      "12600\n",
      "12600\n",
      "12600\n",
      "12600\n",
      "12600\n",
      "12800\n",
      "13000\n",
      "13000\n",
      "13000\n",
      "13000\n",
      "13000\n",
      "13000\n",
      "13000\n",
      "13000\n",
      "13200\n",
      "13200\n",
      "13200\n",
      "13200\n",
      "13200\n",
      "13200\n",
      "13200\n",
      "13200\n",
      "13200\n",
      "13200\n",
      "13200\n",
      "13200\n",
      "13200\n",
      "13400\n",
      "13600\n",
      "13600\n",
      "13600\n",
      "13800\n",
      "13800\n",
      "13800\n",
      "13800\n",
      "13800\n",
      "13800\n",
      "13800\n",
      "13800\n",
      "13800\n",
      "13800\n",
      "13800\n",
      "13800\n",
      "13800\n",
      "13800\n",
      "13800\n",
      "13800\n",
      "13800\n",
      "13800\n",
      "13800\n",
      "13800\n",
      "13800\n",
      "13800\n",
      "13800\n",
      "13800\n",
      "13800\n",
      "13800\n",
      "13800\n",
      "13800\n",
      "13800\n",
      "13800\n",
      "13800\n",
      "13800\n",
      "13800\n",
      "13800\n",
      "13800\n",
      "13800\n",
      "13800\n",
      "13800\n",
      "13800\n",
      "13800\n",
      "13800\n",
      "14000\n",
      "14000\n",
      "14000\n",
      "14200\n",
      "14200\n",
      "14200\n",
      "14400\n",
      "14600\n",
      "14600\n",
      "14600\n",
      "14600\n",
      "14800\n",
      "15000\n",
      "15200\n",
      "15200\n",
      "15400\n",
      "15400\n",
      "15400\n",
      "15600\n",
      "15800\n",
      "16000\n",
      "16000\n",
      "16000\n",
      "16000\n",
      "16000\n",
      "16000\n",
      "16000\n",
      "16000\n",
      "16000\n",
      "16000\n",
      "16000\n",
      "16000\n",
      "16200\n",
      "16200\n",
      "16200\n",
      "16200\n",
      "16200\n",
      "16200\n",
      "16200\n",
      "16200\n",
      "16200\n",
      "16200\n",
      "16200\n",
      "16200\n",
      "16200\n",
      "16200\n",
      "16200\n",
      "16200\n",
      "16200\n",
      "16200\n",
      "16200\n",
      "16200\n",
      "16200\n",
      "16200\n",
      "16200\n",
      "16200\n",
      "16200\n",
      "16200\n",
      "16200\n",
      "16200\n",
      "16200\n",
      "16200\n",
      "16200\n",
      "16200\n",
      "16200\n",
      "16200\n",
      "16200\n",
      "16200\n",
      "16200\n",
      "16200\n",
      "16200\n",
      "16200\n",
      "16200\n",
      "16200\n",
      "16200\n",
      "16200\n",
      "16200\n",
      "16200\n",
      "16200\n",
      "16200\n",
      "16200\n",
      "16200\n",
      "16200\n",
      "16200\n",
      "16200\n",
      "16200\n",
      "16200\n",
      "16200\n",
      "16200\n",
      "16200\n",
      "16200\n",
      "16200\n",
      "16200\n",
      "16200\n",
      "16200\n",
      "16200\n",
      "16200\n",
      "16200\n",
      "16200\n",
      "16200\n",
      "16200\n",
      "16200\n",
      "16200\n",
      "16200\n",
      "16200\n",
      "16200\n",
      "16200\n",
      "16200\n",
      "16200\n",
      "16200\n",
      "16200\n",
      "16200\n",
      "16200\n",
      "16200\n",
      "16200\n",
      "16200\n",
      "16200\n",
      "16200\n",
      "16200\n",
      "16200\n",
      "16200\n",
      "16200\n",
      "16200\n",
      "16200\n",
      "16200\n",
      "16200\n",
      "16400\n",
      "16400\n",
      "16400\n",
      "16400\n",
      "16400\n",
      "16400\n",
      "16400\n",
      "16400\n",
      "16400\n",
      "16400\n",
      "16600\n",
      "16800\n",
      "17000\n",
      "17000\n",
      "17200\n",
      "17200\n",
      "17200\n",
      "17400\n",
      "17600\n",
      "17600\n",
      "17600\n",
      "17600\n",
      "17800\n",
      "18000\n",
      "18200\n",
      "18200\n",
      "18200\n",
      "18200\n",
      "18200\n",
      "18200\n",
      "18200\n",
      "18400\n",
      "18600\n",
      "18800\n",
      "19000\n",
      "19200\n",
      "19200\n",
      "19200\n",
      "19200\n",
      "19400\n",
      "19400\n",
      "19400\n",
      "19400\n",
      "19400\n",
      "19400\n",
      "19400\n",
      "19600\n",
      "19600\n",
      "19600\n",
      "19800\n",
      "19800\n",
      "19800\n",
      "19800\n",
      "20000\n",
      "20000\n",
      "20000\n",
      "20200\n",
      "20200\n",
      "20200\n",
      "20200\n",
      "20400\n",
      "20600\n",
      "20800\n",
      "20800\n",
      "20800\n",
      "20800\n",
      "20800\n",
      "20800\n",
      "20800\n",
      "21000\n",
      "21000\n",
      "21200\n",
      "21200\n",
      "21200\n",
      "21200\n",
      "21200\n",
      "21400\n",
      "21400\n",
      "21400\n",
      "21400\n",
      "21400\n",
      "21600\n",
      "21600\n",
      "21600\n",
      "21600\n",
      "21800\n",
      "21800\n",
      "22000\n",
      "22200\n",
      "22400\n",
      "22600\n",
      "22600\n",
      "22600\n",
      "22600\n",
      "22600\n",
      "22600\n",
      "22600\n",
      "22600\n",
      "22600\n",
      "22600\n",
      "22600\n",
      "22600\n",
      "22600\n",
      "22600\n",
      "22600\n",
      "22600\n",
      "22600\n",
      "22600\n",
      "22600\n",
      "22800\n",
      "23000\n",
      "23200\n",
      "23400\n",
      "23600\n",
      "23800\n",
      "23800\n",
      "23800\n",
      "24000\n",
      "24000\n",
      "24000\n",
      "24000\n",
      "24000\n",
      "24000\n",
      "24000\n",
      "24000\n",
      "24000\n",
      "24000\n",
      "24000\n",
      "24000\n",
      "24000\n",
      "24000\n",
      "24000\n",
      "24000\n",
      "24000\n",
      "24000\n",
      "24000\n",
      "24000\n",
      "24000\n",
      "24000\n",
      "24000\n",
      "24000\n",
      "24000\n",
      "24000\n",
      "24000\n",
      "24000\n",
      "24000\n",
      "24000\n",
      "24000\n",
      "24000\n",
      "24000\n",
      "24000\n",
      "24000\n",
      "24000\n",
      "24000\n",
      "24000\n",
      "24000\n",
      "24000\n",
      "24000\n",
      "24200\n",
      "24400\n",
      "24400\n",
      "24600\n",
      "24600\n",
      "24600\n",
      "24800\n",
      "25000\n",
      "25000\n",
      "25000\n",
      "25200\n",
      "25200\n",
      "25200\n",
      "25200\n",
      "25200\n",
      "25200\n",
      "25400\n",
      "25400\n",
      "25400\n",
      "25400\n",
      "25400\n",
      "25400\n",
      "25400\n",
      "25400\n",
      "25400\n",
      "25400\n",
      "25400\n",
      "25400\n",
      "25400\n",
      "25400\n",
      "25400\n",
      "25400\n",
      "25400\n",
      "25400\n",
      "25400\n",
      "25400\n",
      "25400\n",
      "25600\n",
      "25600\n",
      "25800\n",
      "25800\n",
      "26000\n",
      "26000\n",
      "26000\n",
      "26000\n",
      "26000\n",
      "26000\n",
      "26000\n",
      "26000\n",
      "26000\n",
      "26000\n",
      "26000\n",
      "26000\n",
      "26200\n",
      "26200\n",
      "26200\n",
      "26200\n",
      "26200\n",
      "26200\n",
      "26400\n",
      "26600\n",
      "26800\n",
      "27000\n",
      "27200\n",
      "27400\n",
      "27600\n",
      "27600\n",
      "27600\n",
      "27600\n",
      "27800\n",
      "27800\n",
      "27800\n",
      "28000\n",
      "28200\n",
      "28400\n",
      "28400\n",
      "28400\n",
      "28400\n",
      "28600\n",
      "28800\n",
      "28800\n",
      "28800\n",
      "29000\n",
      "29000\n",
      "29000\n",
      "29000\n",
      "29000\n",
      "29000\n",
      "29000\n",
      "29200\n",
      "29400\n",
      "29400\n",
      "29400\n",
      "29400\n",
      "29400\n",
      "29400\n",
      "29400\n",
      "29400\n",
      "29400\n",
      "29600\n",
      "29600\n",
      "29600\n",
      "29800\n",
      "29800\n",
      "30000\n",
      "30000\n",
      "30200\n",
      "30200\n",
      "30400\n",
      "30600\n",
      "30600\n",
      "30800\n",
      "30800\n",
      "30800\n",
      "31000\n",
      "31000\n",
      "31000\n",
      "31000\n",
      "31000\n",
      "31000\n",
      "31000\n",
      "31200\n",
      "31400\n",
      "31400\n",
      "31400\n",
      "31400\n",
      "31400\n",
      "31600\n",
      "31600\n",
      "31600\n",
      "31600\n",
      "31600\n",
      "31800\n",
      "31800\n",
      "32000\n",
      "32200\n",
      "32400\n",
      "32400\n",
      "32400\n",
      "32600\n",
      "32600\n",
      "32600\n",
      "32600\n",
      "32800\n",
      "32800\n",
      "32800\n",
      "33000\n",
      "33000\n",
      "33200\n",
      "33200\n",
      "33400\n",
      "33400\n",
      "33400\n",
      "33400\n",
      "33600\n",
      "33600\n",
      "33800\n",
      "34000\n",
      "34200\n",
      "34400\n",
      "34600\n",
      "34600\n",
      "34800\n",
      "34800\n",
      "34800\n",
      "34800\n",
      "34800\n",
      "35000\n",
      "35000\n",
      "35200\n",
      "35400\n",
      "35600\n",
      "35600\n",
      "35600\n",
      "35600\n",
      "35600\n",
      "35600\n",
      "35600\n"
     ]
    },
    {
     "name": "stdout",
     "output_type": "stream",
     "text": [
      "35800\n",
      "36000\n",
      "36200\n",
      "36200\n",
      "36400\n",
      "36600\n",
      "36800\n",
      "36800\n",
      "36800\n",
      "36800\n",
      "36800\n",
      "36800\n",
      "36800\n",
      "36800\n",
      "36800\n",
      "36800\n",
      "37000\n",
      "37000\n",
      "37000\n",
      "37000\n",
      "37000\n",
      "37000\n",
      "37000\n",
      "37000\n",
      "37200\n",
      "37200\n",
      "37200\n",
      "37400\n",
      "37600\n",
      "37800\n",
      "37800\n",
      "38000\n",
      "38000\n",
      "38200\n",
      "38200\n",
      "38400\n",
      "38400\n",
      "38600\n",
      "38800\n",
      "38800\n",
      "38800\n",
      "39000\n",
      "39000\n",
      "39000\n",
      "39000\n",
      "39000\n",
      "39200\n",
      "39200\n",
      "39200\n",
      "39200\n",
      "39200\n",
      "39400\n",
      "39400\n",
      "39400\n",
      "39400\n",
      "39400\n",
      "39400\n",
      "39400\n",
      "39400\n",
      "39400\n",
      "39400\n",
      "39400\n",
      "39400\n",
      "39400\n",
      "39400\n",
      "39400\n",
      "39400\n",
      "39400\n",
      "39400\n",
      "39400\n",
      "39400\n",
      "39400\n",
      "39400\n",
      "39400\n",
      "39400\n",
      "39400\n",
      "39400\n",
      "39400\n",
      "39400\n",
      "39400\n",
      "39400\n",
      "39600\n",
      "39600\n",
      "39600\n",
      "39600\n",
      "39800\n",
      "40000\n",
      "40200\n",
      "40200\n",
      "40200\n",
      "40200\n",
      "40200\n",
      "40200\n",
      "40200\n",
      "40200\n",
      "40200\n",
      "40200\n",
      "40200\n",
      "40200\n",
      "40200\n",
      "40200\n",
      "40200\n",
      "40200\n",
      "40200\n",
      "40200\n",
      "40200\n",
      "40200\n",
      "40200\n",
      "40200\n",
      "40200\n",
      "40200\n",
      "40200\n",
      "40200\n",
      "40200\n",
      "40200\n",
      "40200\n",
      "40200\n",
      "40200\n",
      "40200\n",
      "40200\n",
      "40400\n",
      "40400\n",
      "40600\n",
      "40800\n",
      "41000\n",
      "41000\n",
      "41200\n",
      "41400\n",
      "41400\n",
      "41400\n",
      "41600\n",
      "41800\n",
      "42000\n",
      "42000\n",
      "42200\n",
      "42400\n",
      "42600\n",
      "42800\n",
      "42800\n",
      "43000\n",
      "43200\n",
      "43400\n",
      "43600\n",
      "43600\n",
      "43800\n",
      "44000\n",
      "44000\n",
      "44000\n",
      "44200\n",
      "44200\n",
      "44200\n",
      "44400\n",
      "44400\n",
      "44400\n",
      "44400\n",
      "44400\n",
      "44400\n",
      "44400\n",
      "44400\n",
      "44600\n",
      "44800\n",
      "44800\n",
      "45000\n",
      "45000\n",
      "45000\n",
      "45000\n",
      "45000\n",
      "45200\n",
      "45200\n",
      "45400\n",
      "45400\n",
      "45600\n",
      "45800\n",
      "45800\n",
      "46000\n",
      "46200\n",
      "46400\n",
      "46400\n",
      "46400\n",
      "46600\n",
      "46800\n",
      "46800\n",
      "46800\n",
      "47000\n",
      "47200\n",
      "47400\n",
      "47400\n",
      "47400\n",
      "47600\n",
      "47800\n",
      "48000\n",
      "48200\n",
      "48200\n",
      "48400\n",
      "48400\n",
      "48400\n",
      "48400\n",
      "48400\n",
      "48400\n",
      "48400\n",
      "48400\n",
      "48400\n",
      "48400\n",
      "48600\n",
      "48800\n",
      "48800\n",
      "48800\n",
      "48800\n",
      "48800\n",
      "49000\n",
      "49200\n",
      "49200\n",
      "49400\n",
      "49400\n",
      "49400\n",
      "49400\n",
      "49400\n",
      "49400\n",
      "49400\n",
      "49400\n",
      "49400\n",
      "49600\n",
      "49800\n",
      "49800\n",
      "49800\n",
      "49800\n",
      "49800\n",
      "49800\n",
      "49800\n",
      "49800\n",
      "50000\n",
      "50200\n",
      "50200\n",
      "50200\n",
      "50200\n",
      "50200\n",
      "50400\n",
      "50600\n",
      "50800\n",
      "50800\n",
      "51000\n",
      "51000\n",
      "51000\n",
      "51200\n",
      "51400\n",
      "51400\n",
      "51400\n",
      "51400\n",
      "51600\n",
      "51600\n",
      "51800\n",
      "52000\n",
      "52000\n",
      "52000\n",
      "52000\n",
      "52200\n",
      "52200\n",
      "52200\n",
      "52200\n",
      "52200\n",
      "52400\n",
      "52600\n",
      "52600\n",
      "52600\n",
      "52600\n",
      "52600\n",
      "52600\n",
      "52600\n",
      "52600\n",
      "52600\n",
      "52600\n",
      "52600\n",
      "52600\n",
      "52800\n",
      "52800\n",
      "52800\n",
      "52800\n",
      "53000\n",
      "53000\n",
      "53000\n",
      "53000\n",
      "53000\n",
      "53000\n",
      "53000\n",
      "53200\n",
      "53400\n",
      "53600\n",
      "53600\n",
      "53600\n",
      "53600\n",
      "53600\n",
      "53600\n",
      "53600\n",
      "53600\n",
      "53600\n",
      "53800\n",
      "54000\n",
      "54200\n",
      "54200\n",
      "54400\n",
      "54600\n",
      "54600\n",
      "54800\n",
      "54800\n",
      "55000\n",
      "55200\n",
      "55200\n",
      "55400\n",
      "55400\n",
      "55400\n",
      "55400\n",
      "55400\n",
      "55400\n",
      "55400\n",
      "55400\n",
      "55400\n",
      "55600\n",
      "55600\n",
      "55600\n",
      "55800\n",
      "56000\n",
      "56000\n",
      "56200\n",
      "56200\n",
      "56200\n",
      "56200\n",
      "56200\n",
      "56200\n",
      "56200\n",
      "56200\n",
      "56200\n",
      "56200\n",
      "56200\n",
      "56200\n",
      "56200\n",
      "56200\n",
      "56200\n",
      "56200\n",
      "56200\n",
      "56200\n",
      "56200\n",
      "56200\n",
      "56200\n",
      "56200\n",
      "56200\n",
      "56200\n",
      "56200\n",
      "56200\n",
      "56200\n",
      "56200\n",
      "56200\n",
      "56200\n",
      "56200\n",
      "56200\n",
      "56200\n",
      "56200\n",
      "56200\n",
      "56200\n",
      "56200\n",
      "56200\n",
      "56200\n",
      "56200\n",
      "56200\n",
      "56200\n",
      "56200\n",
      "56200\n",
      "56200\n",
      "56400\n",
      "56400\n",
      "56400\n",
      "56400\n",
      "56400\n",
      "56400\n",
      "56400\n",
      "56400\n",
      "56600\n",
      "56800\n",
      "56800\n",
      "56800\n",
      "57000\n",
      "57034\n"
     ]
    }
   ],
   "source": [
    "import subprocess\n",
    "\n",
    "from os import walk\n",
    "import os, signal\n",
    "from os import listdir\n",
    "from os.path import isfile, join\n",
    "import magic , os\n",
    "\n",
    "from fnmatch import fnmatch\n",
    "\n",
    "def is_elf_file(file_path):\n",
    "    file_type = magic.from_file(file_path)\n",
    "    return 'ELF' in file_type\n",
    "\n",
    "\n",
    "root    ='/home/nahid/dataset/clones'\n",
    "\n",
    "elf_paths = []\n",
    "for path, subdirs, files in os.walk(root):\n",
    "    for name in files:\n",
    "        try:\n",
    "            if is_elf_file(os.path.join(path, name)):\n",
    "                elf_paths.append(os.path.join(path, name))\n",
    "                \n",
    "            if len(elf_paths)%200==0:\n",
    "                print(len(elf_paths))\n",
    "        except:\n",
    "            pass\n",
    "\n",
    "print(len(elf_paths))"
   ]
  },
  {
   "cell_type": "code",
   "execution_count": 4,
   "id": "e700470a",
   "metadata": {},
   "outputs": [
    {
     "name": "stdout",
     "output_type": "stream",
     "text": [
      "57034\n"
     ]
    }
   ],
   "source": [
    "print(len(elf_paths))"
   ]
  },
  {
   "cell_type": "code",
   "execution_count": null,
   "id": "6118be46",
   "metadata": {},
   "outputs": [],
   "source": []
  }
 ],
 "metadata": {
  "kernelspec": {
   "display_name": "angr",
   "language": "python",
   "name": "angr"
  },
  "language_info": {
   "codemirror_mode": {
    "name": "ipython",
    "version": 3
   },
   "file_extension": ".py",
   "mimetype": "text/x-python",
   "name": "python",
   "nbconvert_exporter": "python",
   "pygments_lexer": "ipython3",
   "version": "3.9.16"
  }
 },
 "nbformat": 4,
 "nbformat_minor": 5
}
